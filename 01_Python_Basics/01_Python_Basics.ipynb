{
 "cells": [
  {
   "cell_type": "markdown",
   "metadata": {},
   "source": [
    "# Python Basics"
   ]
  },
  {
   "cell_type": "markdown",
   "metadata": {},
   "source": [
    "### Outline\n",
    "\n",
    "   - Hello World!\n",
    "   - calculator/basic math\n",
    "   - strings\n",
    "   - variables\n",
    "   - basic control statements\n",
    "   - Indentation!"
   ]
  },
  {
   "cell_type": "code",
   "execution_count": 1,
   "metadata": {},
   "outputs": [
    {
     "data": {
      "image/jpeg": "[encoded data removed]",
      "text/html": [
       "\n",
       "        <iframe\n",
       "            width=\"640\"\n",
       "            height=\"390\"\n",
       "            src=\"https://www.youtube.com/embed/hcCuBWXd-hc\"\n",
       "            frameborder=\"0\"\n",
       "            allowfullscreen\n",
       "        ></iframe>\n",
       "        "
      ],
      "text/plain": [
       "<IPython.lib.display.YouTubeVideo at 0x7f413c565eb8>"
      ]
     },
     "execution_count": 1,
     "metadata": {},
     "output_type": "execute_result"
    }
   ],
   "source": [
    "from IPython.display import YouTubeVideo\n",
    "YouTubeVideo(\"hcCuBWXd-hc\",width=\"640\",height=\"390\")"
   ]
  },
  {
   "cell_type": "markdown",
   "metadata": {},
   "source": [
    "![Image](python_basic_slide1.png)\n",
    "![Image](python_basic_slide2.png)"
   ]
  },
  {
   "cell_type": "markdown",
   "metadata": {},
   "source": [
    "## Hello World!"
   ]
  },
  {
   "cell_type": "code",
   "execution_count": 2,
   "metadata": {},
   "outputs": [
    {
     "name": "stdout",
     "output_type": "stream",
     "text": [
      "Hello World.\n"
     ]
    }
   ],
   "source": [
    "print('Hello World.')"
   ]
  },
  {
   "cell_type": "code",
   "execution_count": 3,
   "metadata": {},
   "outputs": [
    {
     "name": "stdout",
     "output_type": "stream",
     "text": [
      "Welcome to CU Scarborough. \n",
      "This module is titled 'Problem Solving and Programming' and \n",
      "you will learn how to program for fun.\n"
     ]
    }
   ],
   "source": [
    "print('Welcome to CU Scarborough. \\nThis module is titled \\'Problem Solving and Programming\\' and \\nyou will learn how to program for fun.')"
   ]
  },
  {
   "cell_type": "markdown",
   "metadata": {},
   "source": [
    "## Calculator\n",
    "    - There are init and float"
   ]
  },
  {
   "cell_type": "code",
   "execution_count": 4,
   "metadata": {},
   "outputs": [
    {
     "name": "stdout",
     "output_type": "stream",
     "text": [
      "4\n"
     ]
    }
   ],
   "source": [
    "print(2+2)"
   ]
  },
  {
   "cell_type": "code",
   "execution_count": 5,
   "metadata": {},
   "outputs": [
    {
     "data": {
      "text/plain": [
       "4"
      ]
     },
     "execution_count": 5,
     "metadata": {},
     "output_type": "execute_result"
    }
   ],
   "source": [
    "2+2"
   ]
  },
  {
   "cell_type": "code",
   "execution_count": 6,
   "metadata": {},
   "outputs": [
    {
     "name": "stdout",
     "output_type": "stream",
     "text": [
      "4.1\n"
     ]
    }
   ],
   "source": [
    "print(2+2.1)"
   ]
  },
  {
   "cell_type": "code",
   "execution_count": 22,
   "metadata": {},
   "outputs": [
    {
     "data": {
      "text/plain": [
       "True"
      ]
     },
     "execution_count": 22,
     "metadata": {},
     "output_type": "execute_result"
    }
   ],
   "source": [
    "2.1 + 2 == 4.0999999999999996\n"
   ]
  },
  {
   "cell_type": "markdown",
   "metadata": {},
   "source": [
    "Python stores floats as their byte representation so is limited by the same 16-bit precision issues as most other languages\n",
    "\n",
    "In doing calculations, unless you specify otherwise, Python will store the results in the smallest-byte representation.\n",
    "\n",
    "    1. Indentation matters!\n",
    "    2. When you mess up, Python is gentle\n",
    "    3. #starts a comments (until the end of the line)"
   ]
  },
  {
   "cell_type": "code",
   "execution_count": 23,
   "metadata": {},
   "outputs": [
    {
     "ename": "IndentationError",
     "evalue": "unexpected indent (<ipython-input-23-ba5e19b95750>, line 2)",
     "output_type": "error",
     "traceback": [
      "\u001b[0;36m  File \u001b[0;32m\"<ipython-input-23-ba5e19b95750>\"\u001b[0;36m, line \u001b[0;32m2\u001b[0m\n\u001b[0;31m    2 + 2\u001b[0m\n\u001b[0m    ^\u001b[0m\n\u001b[0;31mIndentationError\u001b[0m\u001b[0;31m:\u001b[0m unexpected indent\n"
     ]
    }
   ],
   "source": [
    "print(2 + 2)\n",
    "    2 + 2"
   ]
  },
  {
   "cell_type": "code",
   "execution_count": 24,
   "metadata": {},
   "outputs": [
    {
     "data": {
      "text/plain": [
       "2"
      ]
     },
     "execution_count": 24,
     "metadata": {},
     "output_type": "execute_result"
    }
   ],
   "source": [
    "2 # this is a comment and is not printed"
   ]
  },
  {
   "cell_type": "code",
   "execution_count": 25,
   "metadata": {},
   "outputs": [],
   "source": [
    "# this is also a comment"
   ]
  },
  {
   "cell_type": "markdown",
   "metadata": {},
   "source": [
    "## Calculator\n",
    "\n",
    "    - All the math operators you'd expect, including ** for power.\n",
    "    - In Python 3, there is no distinction between int and long"
   ]
  },
  {
   "cell_type": "code",
   "execution_count": 26,
   "metadata": {},
   "outputs": [
    {
     "data": {
      "text/plain": [
       "150130937545296572356771972164254457814047970568738777235893533016064"
      ]
     },
     "execution_count": 26,
     "metadata": {},
     "output_type": "execute_result"
    }
   ],
   "source": [
    "42**42"
   ]
  },
  {
   "cell_type": "code",
   "execution_count": 27,
   "metadata": {},
   "outputs": [
    {
     "data": {
      "text/plain": [
       "227"
      ]
     },
     "execution_count": 27,
     "metadata": {},
     "output_type": "execute_result"
    }
   ],
   "source": [
    "(42**42).bit_length()"
   ]
  },
  {
   "cell_type": "code",
   "execution_count": 28,
   "metadata": {},
   "outputs": [
    {
     "data": {
      "text/plain": [
       "'0b10110010001100101000001011111001101011010100001000111011011110111110010111101000001001101100101011110111011110000000011101111001000010000101010110001110110111011110011100100110010011001000000000000000000000000000000000000000000'"
      ]
     },
     "execution_count": 28,
     "metadata": {},
     "output_type": "execute_result"
    }
   ],
   "source": [
    "bin(42**42)"
   ]
  },
  {
   "cell_type": "markdown",
   "metadata": {},
   "source": [
    "### Division always leads to a float"
   ]
  },
  {
   "cell_type": "code",
   "execution_count": 29,
   "metadata": {},
   "outputs": [
    {
     "data": {
      "text/plain": [
       "1.0"
      ]
     },
     "execution_count": 29,
     "metadata": {},
     "output_type": "execute_result"
    }
   ],
   "source": [
    "2/2"
   ]
  },
  {
   "cell_type": "code",
   "execution_count": 30,
   "metadata": {},
   "outputs": [
    {
     "data": {
      "text/plain": [
       "1.0"
      ]
     },
     "execution_count": 30,
     "metadata": {},
     "output_type": "execute_result"
    }
   ],
   "source": [
    "2/2.0"
   ]
  },
  {
   "cell_type": "markdown",
   "metadata": {},
   "source": [
    "### Note: This is an important difference between Python 2 and Python 3. Old-style division between ints can be done with a double slash //"
   ]
  },
  {
   "cell_type": "code",
   "execution_count": 31,
   "metadata": {},
   "outputs": [
    {
     "data": {
      "text/plain": [
       "1"
      ]
     },
     "execution_count": 31,
     "metadata": {},
     "output_type": "execute_result"
    }
   ],
   "source": [
    "2 // 2"
   ]
  },
  {
   "cell_type": "code",
   "execution_count": 32,
   "metadata": {},
   "outputs": [
    {
     "data": {
      "text/plain": [
       "1"
      ]
     },
     "execution_count": 32,
     "metadata": {},
     "output_type": "execute_result"
    }
   ],
   "source": [
    "3 // 2"
   ]
  },
  {
   "cell_type": "code",
   "execution_count": 33,
   "metadata": {},
   "outputs": [
    {
     "data": {
      "text/plain": [
       "1.0"
      ]
     },
     "execution_count": 33,
     "metadata": {},
     "output_type": "execute_result"
    }
   ],
   "source": [
    "2.5 // 2 #Please don't do this ever"
   ]
  },
  {
   "cell_type": "markdown",
   "metadata": {},
   "source": [
    "### There is also a complex type"
   ]
  },
  {
   "cell_type": "code",
   "execution_count": 34,
   "metadata": {},
   "outputs": [
    {
     "data": {
      "text/plain": [
       "(1+2j)"
      ]
     },
     "execution_count": 34,
     "metadata": {},
     "output_type": "execute_result"
    }
   ],
   "source": [
    "complex(1, 2)"
   ]
  },
  {
   "cell_type": "code",
   "execution_count": 35,
   "metadata": {},
   "outputs": [
    {
     "data": {
      "text/plain": [
       "(1+2j)"
      ]
     },
     "execution_count": 35,
     "metadata": {},
     "output_type": "execute_result"
    }
   ],
   "source": [
    "1 + 2j"
   ]
  },
  {
   "cell_type": "code",
   "execution_count": 36,
   "metadata": {},
   "outputs": [
    {
     "data": {
      "text/plain": [
       "(1+0j)"
      ]
     },
     "execution_count": 36,
     "metadata": {},
     "output_type": "execute_result"
    }
   ],
   "source": [
    "1 + 2j - 2j"
   ]
  },
  {
   "cell_type": "code",
   "execution_count": 37,
   "metadata": {},
   "outputs": [
    {
     "ename": "TypeError",
     "evalue": "can't convert complex to int",
     "output_type": "error",
     "traceback": [
      "\u001b[0;31m---------------------------------------------------------------------------\u001b[0m",
      "\u001b[0;31mTypeError\u001b[0m                                 Traceback (most recent call last)",
      "\u001b[0;32m<ipython-input-37-f070ffa3b069>\u001b[0m in \u001b[0;36m<module>\u001b[0;34m\u001b[0m\n\u001b[0;32m----> 1\u001b[0;31m \u001b[0mint\u001b[0m\u001b[0;34m(\u001b[0m\u001b[0;36m1\u001b[0m \u001b[0;34m+\u001b[0m \u001b[0;36m2j\u001b[0m\u001b[0;34m)\u001b[0m\u001b[0;34m\u001b[0m\u001b[0;34m\u001b[0m\u001b[0m\n\u001b[0m",
      "\u001b[0;31mTypeError\u001b[0m: can't convert complex to int"
     ]
    }
   ],
   "source": [
    "int(1 + 2j)"
   ]
  },
  {
   "cell_type": "code",
   "execution_count": 38,
   "metadata": {},
   "outputs": [
    {
     "data": {
      "text/plain": [
       "(1.0, 2.0)"
      ]
     },
     "execution_count": 38,
     "metadata": {},
     "output_type": "execute_result"
    }
   ],
   "source": [
    "(1 + 2j).real, (1 + 2j).imag"
   ]
  },
  {
   "cell_type": "markdown",
   "metadata": {},
   "source": [
    "### Let us do some maths"
   ]
  },
  {
   "cell_type": "code",
   "execution_count": 39,
   "metadata": {},
   "outputs": [
    {
     "data": {
      "text/plain": [
       "1.0"
      ]
     },
     "execution_count": 39,
     "metadata": {},
     "output_type": "execute_result"
    }
   ],
   "source": [
    "(3.0*10.0 - 25.0)/5.0"
   ]
  },
  {
   "cell_type": "code",
   "execution_count": 40,
   "metadata": {},
   "outputs": [
    {
     "name": "stdout",
     "output_type": "stream",
     "text": [
      "3.085e+24\n"
     ]
    }
   ],
   "source": [
    "print(3.085e18*1e6) # This is a megapersec in unit of cm!"
   ]
  },
  {
   "cell_type": "code",
   "execution_count": 41,
   "metadata": {},
   "outputs": [],
   "source": [
    "t = 1.0 # declare a variable time t in sec\n",
    "a = 9.8 # acceleration in m/s^2"
   ]
  },
  {
   "cell_type": "code",
   "execution_count": 42,
   "metadata": {},
   "outputs": [
    {
     "name": "stdout",
     "output_type": "stream",
     "text": [
      "4.9\n"
     ]
    }
   ],
   "source": [
    "# Distance travel in time t seconds is 1/2 * a * t**2\n",
    "d = 0.5 * a * t**2 # This is the distance travelled in metres\n",
    "print(d)"
   ]
  },
  {
   "cell_type": "code",
   "execution_count": 43,
   "metadata": {},
   "outputs": [
    {
     "data": {
      "text/plain": [
       "4.9"
      ]
     },
     "execution_count": 43,
     "metadata": {},
     "output_type": "execute_result"
    }
   ],
   "source": [
    "d1 = (a * t * t)/2\n",
    "d1"
   ]
  },
  {
   "cell_type": "code",
   "execution_count": 44,
   "metadata": {},
   "outputs": [
    {
     "data": {
      "text/plain": [
       "4.9"
      ]
     },
     "execution_count": 44,
     "metadata": {},
     "output_type": "execute_result"
    }
   ],
   "source": [
    "d2 = 0.5 * a * pow(t,2)\n",
    "d2"
   ]
  },
  {
   "cell_type": "markdown",
   "metadata": {},
   "source": [
    "Imagine you’re a gokart racer and your acceleration is 26.6 meters per second square, \n",
    "and your final speed is 146.3 meters per second. \n",
    "Now find the total distance traveled. \n",
    "Got you, huh?\n",
    "\n",
    "Hint: 402m?"
   ]
  },
  {
   "cell_type": "markdown",
   "metadata": {},
   "source": [
    "### VAriables\n",
    "\n",
    "    - Variables are assign on the fly\n",
    "    - Multiplication, division, subtractions as you have expect"
   ]
  },
  {
   "cell_type": "code",
   "execution_count": 45,
   "metadata": {},
   "outputs": [
    {
     "name": "stdout",
     "output_type": "stream",
     "text": [
      "1.2\n",
      "1.8\n"
     ]
    }
   ],
   "source": [
    "print(6/5); print(9/5)"
   ]
  },
  {
   "cell_type": "code",
   "execution_count": 46,
   "metadata": {},
   "outputs": [
    {
     "name": "stdout",
     "output_type": "stream",
     "text": [
      "1\n",
      "1\n"
     ]
    }
   ],
   "source": [
    "print(6 // 5) ; print(9 // 5) # remember double-slash integer division returns the floor"
   ]
  },
  {
   "cell_type": "code",
   "execution_count": 47,
   "metadata": {},
   "outputs": [
    {
     "data": {
      "text/plain": [
       "1"
      ]
     },
     "execution_count": 47,
     "metadata": {},
     "output_type": "execute_result"
    }
   ],
   "source": [
    "6 % 5 # mod operator, get the remainder"
   ]
  },
  {
   "cell_type": "code",
   "execution_count": 48,
   "metadata": {},
   "outputs": [
    {
     "data": {
      "text/plain": [
       "4"
      ]
     },
     "execution_count": 48,
     "metadata": {},
     "output_type": "execute_result"
    }
   ],
   "source": [
    "1 << 2 # Shift: move the number 1 by 2 bits to the left. That is make a new number 100 (base 2)"
   ]
  },
  {
   "cell_type": "code",
   "execution_count": 49,
   "metadata": {},
   "outputs": [
    {
     "data": {
      "text/plain": [
       "2"
      ]
     },
     "execution_count": 49,
     "metadata": {},
     "output_type": "execute_result"
    }
   ],
   "source": [
    "5 >> 1 # Shift: move the number 5 = 101 (base 2) by 1 bit to the right (10 = 2)"
   ]
  },
  {
   "cell_type": "code",
   "execution_count": 50,
   "metadata": {},
   "outputs": [],
   "source": [
    "x = 2; y = 3 # Assign two variables on thesame line"
   ]
  },
  {
   "cell_type": "code",
   "execution_count": 51,
   "metadata": {},
   "outputs": [
    {
     "data": {
      "text/plain": [
       "3"
      ]
     },
     "execution_count": 51,
     "metadata": {},
     "output_type": "execute_result"
    }
   ],
   "source": [
    "x | y  # bitwise OR"
   ]
  },
  {
   "cell_type": "code",
   "execution_count": 52,
   "metadata": {},
   "outputs": [
    {
     "data": {
      "text/plain": [
       "2"
      ]
     },
     "execution_count": 52,
     "metadata": {},
     "output_type": "execute_result"
    }
   ],
   "source": [
    "x & y  # bitwise AND"
   ]
  },
  {
   "cell_type": "code",
   "execution_count": 53,
   "metadata": {},
   "outputs": [
    {
     "data": {
      "text/plain": [
       "1"
      ]
     },
     "execution_count": 53,
     "metadata": {},
     "output_type": "execute_result"
    }
   ],
   "source": [
    "x ^ y  # exclusive OR (10 ^ 11 = 01)"
   ]
  },
  {
   "cell_type": "code",
   "execution_count": 54,
   "metadata": {},
   "outputs": [
    {
     "data": {
      "text/plain": [
       "-3"
      ]
     },
     "execution_count": 54,
     "metadata": {},
     "output_type": "execute_result"
    }
   ],
   "source": [
    "~x # the bits of x inverted"
   ]
  },
  {
   "cell_type": "code",
   "execution_count": 55,
   "metadata": {},
   "outputs": [
    {
     "name": "stdout",
     "output_type": "stream",
     "text": [
      "1\n"
     ]
    }
   ],
   "source": [
    "x = x ^ y ; print(x)"
   ]
  },
  {
   "cell_type": "code",
   "execution_count": 56,
   "metadata": {},
   "outputs": [
    {
     "name": "stdout",
     "output_type": "stream",
     "text": [
      "3\n"
     ]
    }
   ],
   "source": [
    "x += 2; print(x)"
   ]
  },
  {
   "cell_type": "code",
   "execution_count": 57,
   "metadata": {},
   "outputs": [
    {
     "data": {
      "text/plain": [
       "3"
      ]
     },
     "execution_count": 57,
     "metadata": {},
     "output_type": "execute_result"
    }
   ],
   "source": [
    "x"
   ]
  },
  {
   "cell_type": "code",
   "execution_count": 58,
   "metadata": {},
   "outputs": [
    {
     "data": {
      "text/plain": [
       "3"
      ]
     },
     "execution_count": 58,
     "metadata": {},
     "output_type": "execute_result"
    }
   ],
   "source": [
    "x"
   ]
  },
  {
   "cell_type": "code",
   "execution_count": 59,
   "metadata": {},
   "outputs": [
    {
     "name": "stdout",
     "output_type": "stream",
     "text": [
      "1.5\n"
     ]
    }
   ],
   "source": [
    "x /= 2.0 ; print(x)"
   ]
  },
  {
   "cell_type": "markdown",
   "metadata": {},
   "source": [
    "[More on the Python Documentation here]\n",
    "\n",
    "[More on the Python Documentation here]: (https://docs.python.org/3.6/library/stdtypes.html#boolean-operations-and-or-not)"
   ]
  },
  {
   "cell_type": "markdown",
   "metadata": {},
   "source": [
    "### Relationships"
   ]
  },
  {
   "cell_type": "code",
   "execution_count": 60,
   "metadata": {},
   "outputs": [
    {
     "data": {
      "text/plain": [
       "True"
      ]
     },
     "execution_count": 60,
     "metadata": {},
     "output_type": "execute_result"
    }
   ],
   "source": [
    "# from before d11  = 4.9 and d2 = 4.9\n",
    "d1 == d2"
   ]
  },
  {
   "cell_type": "code",
   "execution_count": 61,
   "metadata": {},
   "outputs": [
    {
     "data": {
      "text/plain": [
       "True"
      ]
     },
     "execution_count": 61,
     "metadata": {},
     "output_type": "execute_result"
    }
   ],
   "source": [
    "d1 < 10"
   ]
  },
  {
   "cell_type": "code",
   "execution_count": 62,
   "metadata": {},
   "outputs": [
    {
     "data": {
      "text/plain": [
       "True"
      ]
     },
     "execution_count": 62,
     "metadata": {},
     "output_type": "execute_result"
    }
   ],
   "source": [
    "d1 <= 4.9"
   ]
  },
  {
   "cell_type": "code",
   "execution_count": 63,
   "metadata": {},
   "outputs": [
    {
     "ename": "TypeError",
     "evalue": "'<' not supported between instances of 'float' and 'complex'",
     "output_type": "error",
     "traceback": [
      "\u001b[0;31m---------------------------------------------------------------------------\u001b[0m",
      "\u001b[0;31mTypeError\u001b[0m                                 Traceback (most recent call last)",
      "\u001b[0;32m<ipython-input-63-d19dd6b23c0e>\u001b[0m in \u001b[0;36m<module>\u001b[0;34m\u001b[0m\n\u001b[0;32m----> 1\u001b[0;31m \u001b[0md1\u001b[0m \u001b[0;34m<\u001b[0m \u001b[0;34m(\u001b[0m\u001b[0;36m10\u001b[0m \u001b[0;34m+\u001b[0m \u001b[0;36m2j\u001b[0m\u001b[0;34m)\u001b[0m\u001b[0;34m\u001b[0m\u001b[0;34m\u001b[0m\u001b[0m\n\u001b[0m",
      "\u001b[0;31mTypeError\u001b[0m: '<' not supported between instances of 'float' and 'complex'"
     ]
    }
   ],
   "source": [
    "d1 < (10 + 2j)\n"
   ]
  },
  {
   "cell_type": "code",
   "execution_count": 64,
   "metadata": {},
   "outputs": [
    {
     "data": {
      "text/plain": [
       "False"
      ]
     },
     "execution_count": 64,
     "metadata": {},
     "output_type": "execute_result"
    }
   ],
   "source": [
    "d2 < -2"
   ]
  },
  {
   "cell_type": "code",
   "execution_count": 65,
   "metadata": {},
   "outputs": [
    {
     "data": {
      "text/plain": [
       "True"
      ]
     },
     "execution_count": 65,
     "metadata": {},
     "output_type": "execute_result"
    }
   ],
   "source": [
    "d2 != 3.1415"
   ]
  },
  {
   "cell_type": "code",
   "execution_count": 66,
   "metadata": {},
   "outputs": [],
   "source": [
    "δ = 4.5; γ = 2.0"
   ]
  },
  {
   "cell_type": "code",
   "execution_count": 67,
   "metadata": {},
   "outputs": [
    {
     "data": {
      "text/plain": [
       "9.0"
      ]
     },
     "execution_count": 67,
     "metadata": {},
     "output_type": "execute_result"
    }
   ],
   "source": [
    "δ * γ"
   ]
  },
  {
   "cell_type": "markdown",
   "metadata": {},
   "source": [
    "### More on Variables & Types"
   ]
  },
  {
   "cell_type": "code",
   "execution_count": 68,
   "metadata": {},
   "outputs": [
    {
     "data": {
      "text/plain": [
       "True"
      ]
     },
     "execution_count": 68,
     "metadata": {},
     "output_type": "execute_result"
    }
   ],
   "source": [
    "0 == False"
   ]
  },
  {
   "cell_type": "code",
   "execution_count": 69,
   "metadata": {},
   "outputs": [
    {
     "data": {
      "text/plain": [
       "True"
      ]
     },
     "execution_count": 69,
     "metadata": {},
     "output_type": "execute_result"
    }
   ],
   "source": [
    "not False"
   ]
  },
  {
   "cell_type": "code",
   "execution_count": 70,
   "metadata": {},
   "outputs": [
    {
     "data": {
      "text/plain": [
       "True"
      ]
     },
     "execution_count": 70,
     "metadata": {},
     "output_type": "execute_result"
    }
   ],
   "source": [
    "0.0 == False"
   ]
  },
  {
   "cell_type": "code",
   "execution_count": 71,
   "metadata": {},
   "outputs": [
    {
     "data": {
      "text/plain": [
       "True"
      ]
     },
     "execution_count": 71,
     "metadata": {},
     "output_type": "execute_result"
    }
   ],
   "source": [
    "not (10 - 10)"
   ]
  },
  {
   "cell_type": "code",
   "execution_count": 72,
   "metadata": {},
   "outputs": [
    {
     "data": {
      "text/plain": [
       "False"
      ]
     },
     "execution_count": 72,
     "metadata": {},
     "output_type": "execute_result"
    }
   ],
   "source": [
    "not -1"
   ]
  },
  {
   "cell_type": "code",
   "execution_count": 73,
   "metadata": {},
   "outputs": [
    {
     "data": {
      "text/plain": [
       "False"
      ]
     },
     "execution_count": 73,
     "metadata": {},
     "output_type": "execute_result"
    }
   ],
   "source": [
    "not 3.1415"
   ]
  },
  {
   "cell_type": "code",
   "execution_count": 74,
   "metadata": {},
   "outputs": [
    {
     "data": {
      "text/plain": [
       "True"
      ]
     },
     "execution_count": 74,
     "metadata": {},
     "output_type": "execute_result"
    }
   ],
   "source": [
    "not 0"
   ]
  },
  {
   "cell_type": "code",
   "execution_count": 75,
   "metadata": {},
   "outputs": [
    {
     "data": {
      "text/plain": [
       "False"
      ]
     },
     "execution_count": 75,
     "metadata": {},
     "output_type": "execute_result"
    }
   ],
   "source": [
    "x = None    # None is something special. Not true or false\n",
    "None == False"
   ]
  },
  {
   "cell_type": "code",
   "execution_count": 76,
   "metadata": {},
   "outputs": [
    {
     "data": {
      "text/plain": [
       "False"
      ]
     },
     "execution_count": 76,
     "metadata": {},
     "output_type": "execute_result"
    }
   ],
   "source": [
    "None == True"
   ]
  },
  {
   "cell_type": "code",
   "execution_count": 77,
   "metadata": {},
   "outputs": [
    {
     "data": {
      "text/plain": [
       "True"
      ]
     },
     "execution_count": 77,
     "metadata": {},
     "output_type": "execute_result"
    }
   ],
   "source": [
    "False or True"
   ]
  },
  {
   "cell_type": "code",
   "execution_count": 78,
   "metadata": {},
   "outputs": [
    {
     "data": {
      "text/plain": [
       "False"
      ]
     },
     "execution_count": 78,
     "metadata": {},
     "output_type": "execute_result"
    }
   ],
   "source": [
    "True and False"
   ]
  },
  {
   "cell_type": "code",
   "execution_count": 79,
   "metadata": {},
   "outputs": [
    {
     "data": {
      "text/plain": [
       "False"
      ]
     },
     "execution_count": 79,
     "metadata": {},
     "output_type": "execute_result"
    }
   ],
   "source": [
    "float(\"nan\") == True"
   ]
  },
  {
   "cell_type": "code",
   "execution_count": 80,
   "metadata": {},
   "outputs": [
    {
     "name": "stdout",
     "output_type": "stream",
     "text": [
      "inf\n"
     ]
    }
   ],
   "source": [
    "print(float('inf'))"
   ]
  },
  {
   "cell_type": "code",
   "execution_count": 81,
   "metadata": {},
   "outputs": [
    {
     "data": {
      "text/plain": [
       "True"
      ]
     },
     "execution_count": 81,
     "metadata": {},
     "output_type": "execute_result"
    }
   ],
   "source": [
    "import math\n",
    "math.isnan(float(\"NaN\"))"
   ]
  },
  {
   "cell_type": "markdown",
   "metadata": {},
   "source": [
    "### Still more on variables and types"
   ]
  },
  {
   "cell_type": "code",
   "execution_count": 82,
   "metadata": {},
   "outputs": [
    {
     "name": "stdout",
     "output_type": "stream",
     "text": [
      "<class 'int'>\n"
     ]
    }
   ],
   "source": [
    "print(type(1))"
   ]
  },
  {
   "cell_type": "code",
   "execution_count": 83,
   "metadata": {},
   "outputs": [
    {
     "data": {
      "text/plain": [
       "int"
      ]
     },
     "execution_count": 83,
     "metadata": {},
     "output_type": "execute_result"
    }
   ],
   "source": [
    "x = 2; type(x)"
   ]
  },
  {
   "cell_type": "code",
   "execution_count": 84,
   "metadata": {},
   "outputs": [
    {
     "name": "stdout",
     "output_type": "stream",
     "text": [
      "b'\\x00\\xff'\n"
     ]
    },
    {
     "data": {
      "text/plain": [
       "bytes"
      ]
     },
     "execution_count": 84,
     "metadata": {},
     "output_type": "execute_result"
    }
   ],
   "source": [
    "# bytes are immutable sequences of numbers from 0-255\n",
    "print((255).to_bytes(2, byteorder='big')); type(bytes(10))"
   ]
  },
  {
   "cell_type": "code",
   "execution_count": 85,
   "metadata": {},
   "outputs": [
    {
     "data": {
      "text/plain": [
       "True"
      ]
     },
     "execution_count": 85,
     "metadata": {},
     "output_type": "execute_result"
    }
   ],
   "source": [
    "type(2) == type(1)"
   ]
  },
  {
   "cell_type": "code",
   "execution_count": 86,
   "metadata": {},
   "outputs": [
    {
     "name": "stdout",
     "output_type": "stream",
     "text": [
      "<class 'bool'>\n"
     ]
    }
   ],
   "source": [
    "print(type(True))"
   ]
  },
  {
   "cell_type": "code",
   "execution_count": 87,
   "metadata": {},
   "outputs": [
    {
     "name": "stdout",
     "output_type": "stream",
     "text": [
      "<class 'type'>\n"
     ]
    }
   ],
   "source": [
    "print(type(type(1)))"
   ]
  },
  {
   "cell_type": "code",
   "execution_count": 88,
   "metadata": {},
   "outputs": [
    {
     "name": "stdout",
     "output_type": "stream",
     "text": [
      "<class 'builtin_function_or_method'>\n"
     ]
    }
   ],
   "source": [
    "print(type(pow))"
   ]
  },
  {
   "cell_type": "markdown",
   "metadata": {},
   "source": [
    "### We can test whether something is a certain type with isinstance()"
   ]
  },
  {
   "cell_type": "code",
   "execution_count": 89,
   "metadata": {},
   "outputs": [
    {
     "data": {
      "text/plain": [
       "True"
      ]
     },
     "execution_count": 89,
     "metadata": {},
     "output_type": "execute_result"
    }
   ],
   "source": [
    "isinstance(1, int)"
   ]
  },
  {
   "cell_type": "code",
   "execution_count": 90,
   "metadata": {},
   "outputs": [
    {
     "data": {
      "text/plain": [
       "True"
      ]
     },
     "execution_count": 90,
     "metadata": {},
     "output_type": "execute_result"
    }
   ],
   "source": [
    "isinstance(1,(int, float))"
   ]
  },
  {
   "cell_type": "code",
   "execution_count": 91,
   "metadata": {},
   "outputs": [
    {
     "data": {
      "text/plain": [
       "False"
      ]
     },
     "execution_count": 91,
     "metadata": {},
     "output_type": "execute_result"
    }
   ],
   "source": [
    "isinstance('Hello', (int, float))"
   ]
  },
  {
   "cell_type": "code",
   "execution_count": 92,
   "metadata": {},
   "outputs": [
    {
     "data": {
      "text/plain": [
       "True"
      ]
     },
     "execution_count": 92,
     "metadata": {},
     "output_type": "execute_result"
    }
   ],
   "source": [
    "isinstance(\"spam\", str)"
   ]
  },
  {
   "cell_type": "code",
   "execution_count": 93,
   "metadata": {},
   "outputs": [
    {
     "data": {
      "text/plain": [
       "False"
      ]
     },
     "execution_count": 93,
     "metadata": {},
     "output_type": "execute_result"
    }
   ],
   "source": [
    "isinstance(1.212,int)"
   ]
  },
  {
   "cell_type": "code",
   "execution_count": 94,
   "metadata": {},
   "outputs": [
    {
     "data": {
      "text/plain": [
       "True"
      ]
     },
     "execution_count": 94,
     "metadata": {},
     "output_type": "execute_result"
    }
   ],
   "source": [
    "isinstance(1.212, float)"
   ]
  },
  {
   "cell_type": "markdown",
   "metadata": {},
   "source": [
    "### We'll see later than numbers are objects, which have functions (methods) that can act upon themselves:\n"
   ]
  },
  {
   "cell_type": "code",
   "execution_count": 95,
   "metadata": {},
   "outputs": [
    {
     "data": {
      "text/plain": [
       "False"
      ]
     },
     "execution_count": 95,
     "metadata": {},
     "output_type": "execute_result"
    }
   ],
   "source": [
    "(1.212).is_integer()"
   ]
  },
  {
   "cell_type": "code",
   "execution_count": 96,
   "metadata": {},
   "outputs": [
    {
     "data": {
      "text/plain": [
       "True"
      ]
     },
     "execution_count": 96,
     "metadata": {},
     "output_type": "execute_result"
    }
   ],
   "source": [
    "(2.0).is_integer()"
   ]
  },
  {
   "cell_type": "markdown",
   "metadata": {},
   "source": [
    "## Strings\n",
    "\n",
    "Strings are a sequence of characters\n",
    "\n",
    "  - they can be indexed and sliced up as if they were an array\n",
    "  - you can glue strings together with + signs\n",
    "  \n",
    "Strings are immutable (unlike in C), so you cannot change a string in place (this isn't so bad...)\n",
    "\n",
    "Strings can be formatted and compared"
   ]
  },
  {
   "cell_type": "code",
   "execution_count": 97,
   "metadata": {},
   "outputs": [
    {
     "name": "stdout",
     "output_type": "stream",
     "text": [
      "<class 'str'>\n"
     ]
    }
   ],
   "source": [
    "x = \"spam\" ; print(type(x))"
   ]
  },
  {
   "cell_type": "code",
   "execution_count": 98,
   "metadata": {},
   "outputs": [
    {
     "name": "stdout",
     "output_type": "stream",
     "text": [
      "Hello World!\n",
      "... my sire.\n"
     ]
    }
   ],
   "source": [
    "print('Hello World!\\n... my sire.')"
   ]
  },
  {
   "cell_type": "code",
   "execution_count": 99,
   "metadata": {},
   "outputs": [
    {
     "data": {
      "text/plain": [
       "'Hello World!\\n... my sire.'"
      ]
     },
     "execution_count": 99,
     "metadata": {},
     "output_type": "execute_result"
    }
   ],
   "source": [
    "'Hello World!\\n... my sire.'"
   ]
  },
  {
   "cell_type": "code",
   "execution_count": 100,
   "metadata": {},
   "outputs": [
    {
     "data": {
      "text/plain": [
       "True"
      ]
     },
     "execution_count": 100,
     "metadata": {},
     "output_type": "execute_result"
    }
   ],
   "source": [
    "\"waoh?!\" == 'waoh?!'"
   ]
  },
  {
   "cell_type": "code",
   "execution_count": 101,
   "metadata": {},
   "outputs": [
    {
     "name": "stdout",
     "output_type": "stream",
     "text": [
      "\"waoh?!\" said the student\n"
     ]
    }
   ],
   "source": [
    "print('\"waoh?!\" said the student')"
   ]
  },
  {
   "cell_type": "code",
   "execution_count": 102,
   "metadata": {},
   "outputs": [
    {
     "name": "stdout",
     "output_type": "stream",
     "text": [
      "\"waoh?!\" said the student\n"
     ]
    }
   ],
   "source": [
    "print('\\\"waoh?!\\\" said the student')"
   ]
  },
  {
   "cell_type": "markdown",
   "metadata": {},
   "source": [
    "backslashes (\\\\) start special (escape) characters:\n",
    "\n",
    "     \\n   = newline  (\\r = return)\n",
    "     \\t   = tab\n",
    "     \\a   = bell\n",
    "     \n",
    "string literals are defined with double quotes or quotes. The outermost quote type cannot be used inside the string (unless it's escaped with a backslash)"
   ]
  },
  {
   "cell_type": "code",
   "execution_count": 103,
   "metadata": {},
   "outputs": [
    {
     "name": "stdout",
     "output_type": "stream",
     "text": [
      "\u0007\u0007\u0007\n"
     ]
    }
   ],
   "source": [
    "print(\"\\a\\a\\a\")  # try this in CLI python, not the notebook"
   ]
  },
  {
   "cell_type": "code",
   "execution_count": 104,
   "metadata": {},
   "outputs": [
    {
     "name": "stdout",
     "output_type": "stream",
     "text": [
      "This is a raw string...newlines \\r\\n are ignored.\n"
     ]
    }
   ],
   "source": [
    "# raw strings don't escape characters\n",
    "print(r'This is a raw string...newlines \\r\\n are ignored.')"
   ]
  },
  {
   "cell_type": "code",
   "execution_count": 105,
   "metadata": {},
   "outputs": [
    {
     "name": "stdout",
     "output_type": "stream",
     "text": [
      "For score and seven minutes ago,\n",
      "    you folks all learned some basic mathy stuff with Python\n",
      "    and boy were you blown away!\n"
     ]
    }
   ],
   "source": [
    "# Triple quotes are real useful for multiple line strings\n",
    "y = '''For score and seven minutes ago,\n",
    "    you folks all learned some basic mathy stuff with Python\n",
    "    and boy were you blown away!'''\n",
    "print(y)"
   ]
  },
  {
   "cell_type": "code",
   "execution_count": 106,
   "metadata": {},
   "outputs": [
    {
     "name": "stdout",
     "output_type": "stream",
     "text": [
      "{\n",
      "}\n"
     ]
    }
   ],
   "source": [
    "print(\"\\N{LEFT CURLY BRACKET}\"); print(u\"\\u007D\")"
   ]
  },
  {
   "cell_type": "code",
   "execution_count": 107,
   "metadata": {},
   "outputs": [
    {
     "name": "stdout",
     "output_type": "stream",
     "text": [
      "♥\n"
     ]
    }
   ],
   "source": [
    "print(\"\\N{BLACK HEART SUIT}\")"
   ]
  },
  {
   "cell_type": "markdown",
   "metadata": {},
   "source": [
    "[More on unicode characters here]\n",
    "\n",
    "[More on unicode characters here]: (http://www.fileformat.info/info/unicode/char/a.htm)"
   ]
  },
  {
   "cell_type": "code",
   "execution_count": 108,
   "metadata": {},
   "outputs": [
    {
     "name": "stdout",
     "output_type": "stream",
     "text": [
      "spameggs\n"
     ]
    }
   ],
   "source": [
    "s = \"spam\" ; e = \"eggs\"\n",
    "print(s + e)"
   ]
  },
  {
   "cell_type": "code",
   "execution_count": 109,
   "metadata": {},
   "outputs": [
    {
     "name": "stdout",
     "output_type": "stream",
     "text": [
      "spameggsTrumpkins\n"
     ]
    }
   ],
   "source": [
    "print(\"spam\"\n",
    "      \"eggs\"\n",
    "      \"Trumpkins\")\n"
   ]
  },
  {
   "cell_type": "code",
   "execution_count": 110,
   "metadata": {},
   "outputs": [
    {
     "ename": "SyntaxError",
     "evalue": "invalid syntax (<ipython-input-110-60878b285cf8>, line 2)",
     "output_type": "error",
     "traceback": [
      "\u001b[0;36m  File \u001b[0;32m\"<ipython-input-110-60878b285cf8>\"\u001b[0;36m, line \u001b[0;32m2\u001b[0m\n\u001b[0;31m    \"eggs\")\u001b[0m\n\u001b[0m         ^\u001b[0m\n\u001b[0;31mSyntaxError\u001b[0m\u001b[0;31m:\u001b[0m invalid syntax\n"
     ]
    }
   ],
   "source": [
    "print(s \n",
    "      \"eggs\")"
   ]
  },
  {
   "cell_type": "code",
   "execution_count": 111,
   "metadata": {},
   "outputs": [
    {
     "name": "stdout",
     "output_type": "stream",
     "text": [
      "spam and eggs\n"
     ]
    }
   ],
   "source": [
    "print(s + \" and \" + e)"
   ]
  },
  {
   "cell_type": "code",
   "execution_count": 112,
   "metadata": {},
   "outputs": [
    {
     "name": "stdout",
     "output_type": "stream",
     "text": [
      "spam and eggs\n"
     ]
    }
   ],
   "source": [
    "print(s,\"and\",e, sep=\" \")"
   ]
  },
  {
   "cell_type": "code",
   "execution_count": 113,
   "metadata": {},
   "outputs": [
    {
     "name": "stdout",
     "output_type": "stream",
     "text": [
      "green eggs and\n",
      " spam\n",
      "\t ... and Trumpkins\n"
     ]
    }
   ],
   "source": [
    "print(\"green \" + e + \" and\\n \" + s + \"\\n\\t ... and Trumpkins\")"
   ]
  },
  {
   "cell_type": "code",
   "execution_count": 114,
   "metadata": {},
   "outputs": [
    {
     "name": "stdout",
     "output_type": "stream",
     "text": [
      "spamspamspameggs\n"
     ]
    }
   ],
   "source": [
    "print(s*3 + e)"
   ]
  },
  {
   "cell_type": "code",
   "execution_count": 115,
   "metadata": {},
   "outputs": [
    {
     "name": "stdout",
     "output_type": "stream",
     "text": [
      "spamspamspam -> eggs\n"
     ]
    }
   ],
   "source": [
    "print(s*3,e,sep=\" -> \")"
   ]
  },
  {
   "cell_type": "code",
   "execution_count": 116,
   "metadata": {},
   "outputs": [
    {
     "name": "stdout",
     "output_type": "stream",
     "text": [
      "**************************************************\n"
     ]
    }
   ],
   "source": [
    "print(\"*\"*50)"
   ]
  },
  {
   "cell_type": "code",
   "execution_count": 117,
   "metadata": {},
   "outputs": [
    {
     "name": "stdout",
     "output_type": "stream",
     "text": [
      "_| |__||_||_ ||_||____ | _______|_|__ __  ____|__| ||||___|| |_| ||__||____|||_| ||_|| |||__|___||___ __||_|_  | |_|_ __|__  ______|_|| _ |_ |||||__ ||||_|_||_|_____|____|  _|_||  |__ |____ __| _|_||||_ __|_______|_||_|__|_ |||_  _| |||__|_| _| |_ ___ ____  ||  | |_|||_ ||||  __| ||| ___ ||||  |_|| _|__ |  |||_||__|__|| |_ _||_|| _|  ||_||||_|_|__||_||_ | |___ _ _||_|  _|___  ____| ___ |_____|||_ ||__| __ ||______|| _ |_| ____||___|__||_||__| _||__| |_  || _ ||| _||||||  ||_||_||| |__ _|_||||_|____| |____|  | _|__ ||__|||__ _| |__|  |_|_||| _____|_ _  ___|| _|| _____ |||_|  |__ |_  _||_   ___||||_||   _| _  __ _ | ___ |_| _| _ |__  ||_|_||_|_| __|||__|||_|_ _||__| _| _  _|_  ||  ||||___ _|| _| | |||| |__|__ |__|___||_|_|_   |_|_||_|_|_|_||_||___|||_|_|_ |_ | _|_|_ |__ |||_ |||_||||  |__|||__|_||| _  ||_ | |_||||_ _ __ _ __| __________||___|_|_ |_| _ __ ||__| |||_ | ||_|||_ __|   |__| ___|||||||| ||_______| _|||_|| |||_|_  _||| |_____| | _  |_|_|_  | _|__|  _||__|____|_|_  _| | |_|| _| | _ |_ _| _|| | _| |___|___|| ___| ||_|| |__|____ |||_ _  ||__|||  _| |__|||__|||  ___|___|__ ___  _| |_|__|____ _|_||||__ |_| |__   ____  |__| _|_|_|||  |_____|||___|_|_||_|_ ||_||_|||||||_||__| _|_ _|| |_ || | _  || _|||| _|||___|_ |__|__|||  _ | |____ |___||||| | _|__  |_|_|  |||||_ __||_|||_|_ _ _____| _||| _|_ _|_|_ ___||__||_ __ _|__|_|_ ||| __| |_|_|||  _||_____ ||_ ||_||____ |  ||  ||||_ |_|_ | || | ____|___||_|__|__|___|| | | _ || ||___|||_|__|_||__| _ _| | __|_|_||_ ||_  ||__ | _|_||||_|___|__ |__||| __|  __ _||| _|  _|___ __  |||__|_|__||_|___|_|| _|||| __|_|___| ||_ __  _|| |  __|_|   || || |||||__|_|||_| |_||_ __|||_ __||  ___||_| |__|| _|_ _ |||___|| |   || |__|_|||_ |_|||__     |||||_|||_| ___ || __ |_ || _ __|___|__|__|_ ||__|||||_ _|_|___    _|____ _| _ | | __| ||_    _ ___|_|| ||| _ ||||_|||_ _|___  _ _||| _|__|__|__| _|___ __ __|__||__| ___ _ || _ |_|_____|||| ||_||_|_|__||_||_|_ __ __ __ __ |||| ||| _ | __|_|_||_|| |__|_|__ __|_ ____||__| |______ __ | __||_ _|__||_| _ ||_|_|_||_| ____  | _||||____ _||_ |__  __| _|_ _|_   ||____|| __ |__||__|| _|__|_|____ _ ___|| |||_||_|__||| __  |_ |_|_  ______ ||| __|__||______ __ |__||_||____||_|_ ||__|__||| ||_  _|_ __|____ __|   ____|__ |_ || _|||_  ||||__| _ |_|_| _|_|_|||_ _   __||__||__|___| _|_|  ___|__  | _ |_||| ||__ | _   __| _|  _ _|||_||||___|| ___|||___ |_|||| |_||___||_|__|||| ||_  ||____|__|     _||___ || |||___ _|_| _ _ |||_ ||||_||| _| __ _||||||__|_|_ _||_|| | __|_||_|||| __|| __|__|_ |_ |_ _|_|__|__||_| |||__|__||_||||| |_||_|__ || | _|___|||   _|_||_ _____|_| ||_ _______|____| | _|_||_____||__ ___|__|_||___|_  __|__| _||__   ||__|_|__| | ____||||___||| __ _____ _|_  || |__ ||| |_____  || _||_ ___||_|  _|_|__ || _   _||||  |_| _||_ |_ |||_|_|__|_|_|_ __||||| _|___|__| _|| |__||_ | _| |||_ _____ __|||_ _    _||__ __|_____||||_  |_|_ __ |_______| ||____| |||___ __|_| ||   __||_|    | _|||||_|___ |__   |||____| |__|||_||||__||| _| __|_|_ ||_|| |_||_|_|___|__ __  __| ||__|_ __|||_| _|__ __  _|_  __|_  ||_||| | |_|_|||_|_ |_||||_|| ____|||||__  |__|| __||   ____|_ ||______ | __| |_ _ _| |_| | ||____|| |||_|_||__|_|__ |_||_||___||  |_|___|___|_||___||| |||_ _ ||_ |__|_|____|_| | || || _||||_||| _|||_||_ | |_ _| ___ | |_|_ |___|_|__|_|__|__||_|_||__|__|_|_| ||||__|||_|_ _ ||_||  ||||_ |_ _|_| |_|_  |_||_|_||_|  __ |||  |_  | ||___ _||||____|  ||  || |_| |__|__|||| __|_| |  | |__|__||||||_ |_  |_|_| __  _||_|_____||_ | ____||__ |  |||_____||   __|_||_||  __| |__|_|  |_|____   |_|_|__| |||  __ |_||||__|| _  |||_||_ _|___|||| _|_  ||_| _| _| |__|  _||_ _|_| |_||__ __ |_ _|__ |||_||||__ _  _|_|_ _ | |_|| _  _  _ ||__||__ | __ | |||_||||| _   ____||||_|||_|| _||_____|  _ _____|  |||_  _| _|_||_| ||___ _|   _| __|| __| _ ||_||__|_ ||_  _|_|_|___|_|||| |_||| __||_|__ ||__|| |_||_ |_|_|__| |__ ||____|_ |_ ___|__|||_|_|___|_|__ __| __ _| __ __| _||_|| |||| | |  ___||_||||__ |_| __ |_ |___||_|_||_|____|||  ||_ |___|_||__|____|||_ |||__|||||_ _ _||___||_ |_|__ ||__||_ |___  __|_ _| _ || _| ____| _ |||_  __|_|| ||_|___|__||__ || __ |__ _||_||_ |||||_||_ |_ _| _|_|__ _ __||_||_ |_| ___||||__|_||_____| |  |||_ ___ _| _|_||| ||| ___|____  _||_ ||__|_|__|__|| _||||__ _| |_|__| ||_|_|_||_||___|_   |_||||_____|_|_ _ |||_| |___|||_|_  __  _||_  |_||___  _ _|__   __|| || ___ ____||| _|||_||_| ||_|||| |_|| |  _| | |_______|_| _  _|||_ __ |__|__|__|_ _|||___ _|_ _  _| | _||_||  |||_|| __||___|_|_ |  |_|||_ _|__|_| ||||_ ____||_|__|___ |__  _| ||_| _|| _||_ |_|___|||__|  __||_____| ||_|___|| _||_|__| ||__ ||||_|  |||||__| |__ || |__   _|| |  ||  __||__|_| |____|_||| |__|_ __|_|| |_ ||_| _ _ | __| | |_||_||  _  |_|_|_||___|_ _|_ _||_| _ __||||||_ ___| _|_| _  |_|  __ | |_||||||___||||____ __ ___||||||_||||_|| |_ |_|__|____|  __| __|__|___   _||_ _ _____ |   _ | _| |__|_|_|_ __||__|||| ||_||  ||||| _ || |___  ____||____||__|_| ||_ |_ |_|| _|__|_ ||___|_|___|_|__|||_|_ _|____|__ _|___||___||_ |___ |  ||||_||_ |_|_ |_|| | |||__   |_ ||_ | _||| | __ | ||  _____  ______ _ | |  |__|| _| |__||_|| _||_||_|__|_|_|    _||  |_ _ | |_|||_|__|||  _ |_|_ |____|____| __||_ || || |__ _||__ || |_||_||_____| ___ __ __|___||__||__ ||_|  _||_|| ___||__|  _ __ _ __|__|__| _|||  |_ _ _ |__|_ __| |_|| |  _||| ____||||__|__ |||||__|||__|___|| _|  ||_ | _ | ||_ |  ||_ _|_ | |__||_|_|_ _|_|_||||| _||_| |_____  ||_|______||__ _ |_|| ||__|___|_| |||| __  |_  ||__| _|_|| _____|||||_  _|_  |_|__| |||||__||_|__|||_  _|_|_|_|||_|_||___ |__||_|____| _|_||||_|____| _||| |_ _|_ | _|_  _||_|||| ||   _|_|__|_| _| |  |_____|_||_ __ _|| _ || _ |__ _ _|_ __|_|| __| __  |___||____ ||_||| ____|____| |_  _  |||||_|_|_| |||___|||||_||_______||_|__|_|_ |___|| |   _ _ |___ _  ____  _|_  _ _|||_ __|_|__|  _ | | __|  ||__||__|_ |_|__|  |__||| _| |_ _||__||__ |   _ |__||| _| ___ ||_| _|__ _|_|_|||| | __||||_ ___||||_|| ||_|_||| |_|_ ||_|_| |_|_||__|||____|_|_ |||| |_  _ _ ||_|_| ||||_   __||| _|||___|||||__ |___ ||__|_| _ ||   __|_|||| |__ |_|||__ ___| _| _||   | || ||_||___|||||_ ||  _ | | |||___|_|___ |___| _||____ __ |_ __ _ _|__ _  __|||_____| |||||___|||_ ||___ _  _|||_    ||_|_ _|  |_|||__ |  ||_|_|_|_____|__||_ _| |_ _  _ |_||_|__ | ||____ _| |___ ___||___ | |_____|_|||__|_||_____| |___|||_|__|||_| __ |||_|_|  _||_|____|| ____|_|||____||  |_  _|_|__ || _||| _|||_ | |_ _| __|||||_ __ _||_ __ ___|___||| _|_|||_|_||| _||_||___|_|| _|  |_ ||||_ |_||| | _|__|||||_ | _| _ |_|_|__||_______ _||_ _|  |__|__ ||_ || __ | _|_ ||| ||_ _ _ |_| _ _|_|  |__|| _|___|___ __||||||___ ___|| |||__ _ |_____|__| __||| |__|__| ||___ ||__ |||_ _||_|| |_____||   || _____|||__||_ _ _||||_ |_|__ _ ||| __|__||||_|____||__ |||| __| | __|__||__ _||_|__ || |_|_ _ _|_| ___||__| | __|__| |||_ |_||___||_ |____  __  __|_|__|__   _||__|__|_  _| _ ||  ||_ |_||_|___||_||_|_  ||||__|||__ _ _| |________|_____|   |_ _||__|_  _|| |  _|_|____||||||_  |_|___|_|_|___|_|| __|_ _ ||__|____|||__|_ ||_|_|_|_|| __|   ||_ |_|_|_  ||_____|_ _ |  |_ _|_ _____ |__|_|_|__|||  _|_ | __|_| |_||_| |___|||||||_ |__|_| || |_|__||____|_||____|___||_|__|_||| ____ ||| ||   ||__ |___ _|  |__|||||_|  _|_||____|____|_| _| _ ||__||||__|_|__|   ___|__|||__   |||| |_|| |___ || |__|_ __|_ ___ |___ | || __|_| ||_ |_|_|_||_ |___ ||_| |__ ||___| _| | |_|  ____|____|_ __| _|  _  _|_|__|__|__  | ||  ||  __|_|__|_ ____||__|__ ___|| ||||__ |__|_|  _|  |___|___|_|__||| _|___||__ ||__|__  |_  | |_|_|||_ _ | |___ | |__ ||| |||_    _  |_||_|_||_ |_ | |_ ||_____ _|_ |_____ _| |__|___|_|||||_|||_    |_|||||_||_||  |__||_ __ __|| |_ ||| |_  __||_| |____|_||_|___ _|||||_| _  |__|  _____| __||__||| _| ||__||_|_ ___|__| __ ||   ||| ____|| |__|_ || | |_ |  __ |___ _|_  _|____ |_|| | ___| ||| __||_||___| __| __||||___||||_  _|__ |_||||||||__ ||||_||| |_ ___|_ |||_|_|_|_|___ ||||||_____| _ _||_|_| |_ | _ |_|______|| ||| |___  _|___  __|| |_|_|__||||___ _ ||_ | __ ||_ ||_ |||| _|||_ ||_|_||| _|||||_|_|||||__ _||_||||__ |_|_||__|_| _|__||| _ |_|||_ __|__ || |__ ||__|  ||__|__|  | |||| |_|_||_ | ||_|||| _____|_|| |_||_|_  | | __|_||__|_|_ ___|_| _|_|_|| |_|_ ||_|  _ __|__|_|_____||_| |||||___|___|_ ||_| ||_ __|  _||_||_ _ | _   _|___|||___|||_|_|||_ __| _|_|||   __|||________|_|_|_|_|____|__||||_  |__|||_ |_||| _|_| _ | |  ||_____||__ __ _|_|_||__|____|_ |||| | __|_|_ ___||||||| |_||__||| ||_|_ _| _ ||__| ||_ __ __|_|_|  |_||||_||||_ __|_  ___ _|__| || _ |___| |_   _||_|_||_ ||____|_ _||____| |||_ _|_  _| |__|_||___ _|||___||___ _|_|_|__||||_|_ _|||  _| _ _ || __||_ _|__|_|_||___|_|_ | |||  _||__ _||___ || ||_|__________|__| _| |__|_|_|_ |_| _  _  |__||| _ |_|_ _| | | || _|_ | _ || __ _|| | ||_|||_|||| || _ | _____ __  ||| ___ ___|_|  | ___||_   |___ | | ||___|_ |__|||__ ||| _|| _|_  _||||| __|||_|  __ |_| |_ | _ ___||__|| ||_|_ |___||||| _|_|__| __|_||_ _|__ |_|||_ _ ||_|_|__|_||_ _|||  ||_|__|____ || | ___| |___ |||| ___|||__||   |||| ||  || |__|||  _____| |__||__|_|_|  _|__ _|||_|_|| ||| _  |___||||___|_|||||_   ___|_    |__| _||___  ___|__||||_||__|__|___ _  _ | _|__ | |||__| |__|_||_| __| ___|_ ||__  | __|| ||_|__| |_|||_| __ ||  __  _ __|__ |____|_|__ |______|   __| _ _|||||||_|____|_ __ _ _|| _|_| _  _  |  |_ |_  __||_ |_|___ |_|____ ___||_|||| |_ __| |_| ||_|__|___ |||_|||__|_|____ |   |_  _||||||  ||_|____ | __|  |___||_|| ||__|_  _||_|_ _||| _|||||______| _|||___|_||___ _ __|_ |_| ___| |_|_   |___  | _   _|___|_||| _ || __|  |__||____|__ _|__  _  _|_|__ |||_|_ _ _| | ___|__||__  _  |_ |_| |_|_|_|__|___|  ____ |||| _|_|_|_|||___  ||_|__ |_||__|_ |||____| ||  |__  _||||___ | _ |||||__|  |______|____ |_|   _|"
     ]
    },
    {
     "name": "stdout",
     "output_type": "stream",
     "text": [
      "|___|__|___||__|_|___ __|| || | _|_|_| __| ||_ __|||___||||_  ___|||| |   _|_  || | _|||_|_|_|||_____|__|_|__| ||_|||||__|_|_|_  ___  |__|_|__|_|||  __ __ |_| __ __ |__||__ __ _||_||__|___ |_____|  ||_|_| | _||| __|   |_|  _||_| | _ _ __ __|__|_ ___|||||_ _ |____||| |  ||__|||_  |_|_| |_|| ___ ___|_||_|_ _|   |__ | __  |_|_ || |_|  |_| |___|___|  _|__||_|__ _____||__|_ _|__  __||____|_||| _ |_| |_| ||| _| |||_|_ ||__|| _|_||____|_ __ ___| _____|_|_|_|||_||  __  _  |__|____||||||_ | |||_|_ ||| _ |__||__|__  ___| ||_ | _|___| ||||_|| ___||_|__|_|   _|| || |_|_|||____   __|_ | __|_| _|_||  _  ||__| _|_ |||||_ __| ____||_|__|_|______|_| |_||| __||_| | ||_|_|_|_ |_ _||_  | __|_____|_| | |_   | ||___| |___ |||_____ _|_|_|__| _|__||_|_||_|_||||| _ ___|_ |_|||_    | |_ _______  |____|_| || _____|  __|_  || |_|  || |  |_||_ ___||__ | _ _|__|_|||___| _||_||| _|| ||__|_ __|  __|||||_|| _|_|_ ||_||_ _ __||____ ____|__| |___|_|__|__||____|||__|||_ |||_| __  || __|_|____|__| __ _|__|  |||_ |_  __ _  ____ |  _ |||_ ||| |_ _|||| |_ _| _||_|_ ||_ |  | __ | _|| || ||____|__ _ _|_||  __ _| __|__||_|_|___|_ _ _|_| |__  |__|_|_| ||__ | |_| ___|_|___|_||_| _|__||__|__|_| __| _ |||____  _|||| ____ |__||| _|____|||_|||||__ _|_| _|_  _ _| _|    _     ___||   __ __|_____|| _|_||| _|_||| __ |||  || _||_ |____|  _ _|___ || _ |_| |_ ___||_____| _ _|___ |_|||||____ ||___|__|__||_ _____ ____|_|||__ _| ||__ _|_ _ || _|___| |_ |_| _ _|_| |  _|| _||__ __||||__|__||__| |_|__|| | | |||||||  __|_|___||_||__| | |__ || | _ ___  _ __ _|__ ___| ||| |___ _|______ __| _ |_ _ |  _|||_|_||__|__ |___ _| __|_  _|||_  || |||__ ________ _  ___| _||_|||__ |  ||||_ |__ __||| | _|_ __ ___ |_|_||_  _| __  _| ||||| ||__ | __ |_|__|_|____|_|_|_____ |_|||    ||_||  __ |_|_||_ | |_|  ___|_||_ _ |||_ |_|__ ___ |_|  |||  _||| __| |||  |_||_ | ___|||||||||__ __|_|| _ _|_ __ |__||_||___ _| __ __|| |____ _   _||_|||_||___| |_  ||___| || |||_ |___ _|_|____| ___||___|__ _ ||| |||  __||__||||_ |____|__| _||__|||_|_||_ | |  | _|  ||__ |_|_|||_|___ _||_ _|__|_| __ |_____|  ____|__  _|_|||||_|_|| __| __|___||_||_ __ |__ _| |_  ||_ |__||| ___||_|_____||_| _ _|_ ||_| __| |__|_ _|_| _||__|__||__|____|||__||_ _|||_  |___| __ ||_|| |_| _|||_| _|||| |_ ||| _|__|||_||  _|||| _|_ _||__| __|____||||| _| _|   __  |||| ____  _|_  _| | ||_|__|___    |||||||||__ | _______ |_|| | _ _| |_||_||____ _|||| ___|| _| __|__||_|__|_ __|_| |_|__|_|_|_| _||_||_|__ _  _|||_||__|_|| _ _||| _ __  _|  |_||_||||_|||___|_|___|||_||_ | |_ _ |||__ |_| |||__ ||_|_|_| _|__ _|_||_|__|| |_____  _||__|| __ |_||_  || |________|||_ ___|___   _|_||_ |_|_ _|||___||||_| |__ __||__  _|||__||__|||__ ___ |_ || __  _ |____ __ | ||___|| ____| __ |||__|||_____||| _ _||_||__||||||||_____ _|| ||  |||__ _ __||___  |__|||||__ _|_ |___ |__ _|_||__||___ |_____ _ _ ||_    | _|| _ ||_|_| |_|_ | |_| |____||||_||__  _|__ _|_||__|_____|____||||  ||_|_ _|_|_||_ ||||_____ _ _| _ __||_ | |___ |_| _______|___|  |_|_|___|_|| ___||| __|||_| _| _|_ __|||_| ___|_ _ ___|_|_|__| | __ _|||_ _ | __|_| |  __ _|__||____|| |_| __ |_|_||_ |__| _|||_ ___| __||  |_||||_ ____|__|_| ___|__   _|__ | ____| _||__|| |_ |||||  _ ||_||_|__||||||__|||_|__||_|| | | __ ___|| __ _||| |_|__ ___|__|    |||_||||_ ||_ |||| |_ || _|_| | |__|  _|__|| | | _||  __ |_|  _ ___|__|____ |___ _  _||||||_|_| _|||__ |_ |___|__||||||_ _||  |_ | ||_||_  ___|_|_|_|| _|_ _ | _ __|  | |  __ ___|| _ _  _  || __|__||_ ____ _  |__ __ _ ||_|   _ _|||_| __|_ |  ||  ___||_ __|| ||_   ___|___ _|__| | |__||_| __|__|__ ||_____|_ __||||_|_||__||__||||__|| _|___||  _ ___||_|_|_ _|__|||||  |||__ _| |__ |||  || |_ | |_|| __  |||_|__|_|_||_||____ _|_||______|_|||||__|| ___|_||___|__ _|__|__||||_||  _|_ |_   ||_  |_|||__ |_|_|| |  _||_||_| |_|||||_ _  |||  ||____ _|____ |_|__  ||_||||_|| __| ____| _||||_|_ |_| ||_ |______||_ || _||||_ ___|__ ___ |____| |||_   _|___| |_ ___ __|__|_||_|___|_ |_ |_ |__ | |||__ |||||__|_| | ||__ |   |  _||_||| |  _ _ _ ____||_|| __|_| ___|__|___| _  ||____ ||_|_|___ ____|__ ||_||_| __ |  _|_ _||_____|_ _ __|_||_ __ ||    ___| |  _  |_| |_||____|||__| __| _|_|     _| |||||__ ||_||_ _ ____||| _  || _||_ |_ |_|___||| _____||__ ||__ __ _ | | _|| _|_|____||_|__ |_| |__| |||_|  |__| __ _ ||||__|  |_| ___||_ | ___||| _|  ||____|||| __|||_ |_|_|   _ ||_ |__ _||  |____|_ ___ __ ___ _|| |__| _ |____| |_|_|_|||_ || __ ______||_  ||_||__ _  || | |  |_|   _|_|||| | ____|  _|||      ||||__||__| ___||_|| | __|_||| _| ___||___|| |||||_| |_ ||_|_  _|||| _|__| |_|_| |||| |||_|| __|_ _ ___||_| __|| _|_ ||||||__ |_ | |_ |_____| | __ |_ _ ||_|___|__  _ _|_| _||_ || _____ || __| _||||_|||_|__|_|_||_||    ___ ||||  ||   ||_|__ | |_|_|| | _ |||__|_|||_ _ |_|_|___|___|_ _ _|__|__|  __||__| _  ___| _|_ |_||_|_ _|_|_|_||__||_|||_|| |__ | ||_ |__|_| | _ |___|_||  | |_| _ _____  ___|____ |_|__|||_|__ _|  || __  |||||  |_|__  |||||__|  _  _||__||| __|__ |__||||_ | __|| |__||__| __||_|| || |__|_ |_| ||_  ||_  | _ _|| | _|||_|||__|__|_|||| ||  |_||__ _ || |__||_ |_ |_|  |____|_|_| |_|_|___|||___ _| | _|___ __||___ __|_ | _|||_|_|||||_| __||__ |__|__ | |__|__|_|__||___| |__|||_|| ||||__ |   |_ _  |||||_| _|| |  |   ___|_||| |___|_ _||___|_    |||_||__|_| | | |_|||_|_||_|__ ||__|__||_||| | ____|_|__|_||| _||_||__|_|_|||_ _ _|_|_ ||||_  |||| |||||_  _|__||_  ||||_|__|_|||___  ||_|| _ __||__  __||__|| _ |_|_|_|_ | |__|_||_|_ ___    _|_ ||  ___|__|_|__| __||||||  |_ |||||||_|__|_|_||   |||| _ |  _ ||||  _||__|_|||_||_||_||__ |___||_| _| |__ || ___ __|_||  _|_|  _| |__|__|||__ _ __|_|_____|_ _||_|_|||||| | _| |_||____ __ __||||_|_  |_|_|||__  |||    __ _|_|___  _|||   |____|_ _|||__| __| _|| ____||_|||_||_|_ |||| || _|||| |_ ||__|||_ _|  _|_||__|__  ||||_||__||__|_|__||| _ _|_|__ _|___|  || |___|_|_| _ |  | _ _|_|_|||  _ | __ ||___ ||__| _ _| |_|||_|||  |__ _|||_ ||_   || ||_ _|  _|_|||___ |___ __|__ ||__ | | |__| _ _ _    ||| __ ___||  __ _ |___| _|_||__|_ _ _|| _ _||_|_|  __|  | |_ || _|__|__||   |__||_||___||_|| |__ |__|||||__|__|__|___|| __|_||_____ |_ |  __|_  __|_||__|__ | |_| _ |_|| |  __||____|||_|_____ __||_  |_|_|_  |||__ _ |__|||__|_|_|| ___|||__| __|_|_||| |____ ||__||| ___ || ___||| _||_ |_|| _|_ ||||________| ___|_|||___|_ _||__|||__|||| ||_  _   _ __|||  |__|__  _ |||  |______||| ___ __||  |___||__|||___|_|____||_||||_|||____|__|||||__| __||_  ||| ___||__ |||_|__ _____ _|_ __  |_|_|||__    _|   |_  _ _ |__|_ |___|| ||  ||_|_| _ |_ || _ |___  |||_||_|__| | ||_| |_  _____|_ _|__||__|||||| _|____ |_ _||||_| _ _  |_|_|_ __|_|  _|| __ _|||_|____|__ ||_ _|__|_|_||_|_ _|_|  ||__ ||_|___ |_||_|__|_|___ |_ ____ |_|__|___ __ ||__ | | __||_ _|__| |_||||_|||| | _||_____ |_||||| |_|||____||_|_|______ __|| |_____ |_| |__||____  | |___ _|_|___|___||_|| ||___|||||_|__ |_  ||__|_||_ _||___ |_  ||__||___ ______||_____|_ _ __ __|||__ __  _ ||  ____| |_||  |_|_|_ _ ||| _ ||_||______|__||_| |_|_ _  _||_ |_|__|| |_|_|_|___|||___|__||_||| |_ | _ ||||_  |___|_ _||_||_ |_ ||_ _ |__||_   ||_|| _|_ ||| _|_|_ _ |||_|_|_|||||___|_ |_|  |__|_||| __ ||_  _| _|__|_ |_ ||_ _|__||_____|| __|||_____|  | | _| ||__ ||| |  || _ _ ___ |__|__||||||||_| ||||__|_|___|_|__|| _|_ __||_ |______|||__  _|_|_ __|_ _ ||___||___|| ||_| |_|_||||_|||__ | ____|_|| ||_ ||| |_ ||__| __ ||______ _||| ||||______ __| _ _||  _ ||| ||  ||_|   _| _|__|_| _||||__  |_|_||_|_|___|_|| ___|_|||_|||_|_|  _|_|| || __|_ _ _|||  ||| ___ __ __ _ ___  |_||_|__  |||||||  ___|||_|||__ |_|| |_ __ ||___||___|___   ___ |_ ||___| ||___ |_| || ||__|___||_||_ |__  _ |_|||_|| _||||___ |_|_| _|| |  | _|_|| _||_ |___|||_| __ |_|___|__ |_||_|| _|||| |_|__ _ ||_ ||__|__|||__||_  | __  ||||__ __|__|_ _ _ ||___||_  __|_|_|||__| _ |___|_____ _|||_   _ ||__ |___ | __|_ ___ _|_| |_| ___|| __ ||_ _____|_||_|_ |_||_||| ||__  __|_|_|| |_||  | __| |    _|||||  |||__|_____| |_||| || ||___|_ |__| |  ||_|||_||__  __|__|__|||_  |_||_|____||  |||___ |_____||_|_||____|||__ |||||_ _|| _|__ _  _| _|  |_ _|_ || |_||  _ ___|_||| __| _ ||_ |____ _|_ |||_|_|||_ _ _ ||__|__|  ___ | ||_|||||___ || | |_|_|  _ _ |__| ____ | _|  ||_  _||||_ |____ _____ __|| _ | _ ||_ ||| ||||| _|_| | _ _||_|_| _||___|_|||___ _  ___||  ||| _|  _ |_|_|||_|_||_|| __| ||_  |___||   __||___| | _||__ |_ | _||| _|| |||||||| || |_|| _ |__|_ __||| ||  || ||___  |_||___||||__|_|___ _||| __| _| __|_  | |__|  |_|_|_ ___||_||____ _|| __||_ __ |_||__||_||_|  _| |_ _||_|__|  | ||||__|||| _||___|  __ ||__|____  _|||__|||_|___|__| |_|_|__|_|||__ |_| _||_______|___|____ ||_|_ _||_ __ _||   |__|||__|_|___||__|_|| |_|  _| |||_ _____|_||_ _ |_|_ |_  _||_||___|||||   |  __  _ __| _||__|_|||   |_||__  |_||__|_||___ _|__ _||__||_|_ |_ _ | _||_ __ __  || |_ |_|_|_|||||_|__ |__|____ |_____|||||_|_| ___ __| || ||_ ___ _||  _|_ __ |  ___ |_ _  | ||__ ____ ||  |_  |||__||| ||_|||__|_ _ | _____|__|__ |_ _ ___| _|__|_|___|_     |  |_||_| _ | __| _ _|| | ____  |__  | _____ ||_|_ _|_ __||_| _|__| | |__ _|__ _||_||_||_||__ ||__ ____ || _|||   _||__ _|__|__ __|||| || _|  _|   ||_||||_||||_|||___|_ |||  __|___|__|_ _|||_|_  __  |_|_| __ ||_||||| __||_____||| |_| | | |||_| |__||_|   _|| _||||_|_| ||_ ____ _|_|||||  |||||_ __||__ |   |_   __|_|__|||_| | _|___ | _ ||_|__|___   ___|__ |_ _ |_||_|||_|| _|||  _ ||| ||___|| ________|||||| |_ _ ||_||| | _|___| _| _|_||_|_||| _| _|_|_ ____ ||_|__||||||__|   |||_|| ||||_| | _|||  __|__||| __|___|__||| __ __||__||__ ___ ||||||| | _|_||_|_ |_|_  _|____| _|_ ___|__ _|_  _ __|__|| ||||||||_ | |_|| |||| |_|  _| |_ |__||_|_ | ||___||  _||___|_ ||| _||| _ ||| ||_|| |_||__||____ ____ ||_ |_| _ __||_|_|_|_  _|__|_____|||_|___"
     ]
    },
    {
     "name": "stdout",
     "output_type": "stream",
     "text": [
      " |_| || || _| |||_ __ |_ |_| _  |||_|_|_____|_ __|_ ||___ _ _|_|_  | | _||| ||_ |||_||   |  || __|   |||| _||_|__ | || _ _|__||____|  ||__ | |__ _ |_  _|| _ _|||| _|__ |_ |||  _||_| __||___ | ||_||| _|  ||__ || | |_   _|___| ||_| _ ___|_||_| |_  ___|| _||____|_ ||_   | | __|| _  |_ |_| _ || _|||| |_||_| _|| _ ___ _|||__|_|_||_|||_ ||||__|___|_ |||||__|  || _||||___|__| |_| _ _ _ _|_  | __|||__|_|_|||_____||___||||__|_|_||_|______  |||__|||_|| _| ||__| _|_|||||||_|   |___||_____|____||| ___|___|____||_|___|  _|__|__| ||_ ||_ ||_| _ _ _| ____ __|_ _| | |  |_|| _||____|| |_ |_||_ ____|_|_|_| _||_||__ ||||  _| || _| | |___ _|__ || || | _|||_|__|||_| |  |__ |||_ __ |__ _|__ ||_|___|_|__| __|| |_|___| _|||____||| ||____ __ ||_| |__|_____| _| _| _   _|_|_    |  |||| ___ |||||_ |||||||___|_| |_|| | |_||___||_|____ _ __ __||___||_||||__  _|_ |  | _||||___||__ _  ||  ||___||_  ||________| |_|_|| | |   | |_ ||_ _||_ _|_||__|_ ||__ __||__ | |||_|  ||_||_| _  _||_|_| |||_|_|__|||_ |__|__|  _|  _ _  |____| __|_|  _|  || _| __ _ _ __| ||| _  ||_|_ | _|||| ___ |__|_| |_|    |_| |  _  _| |_|_|||_|__ ||_||__|_|__|_ |||| _ | ___|| _|_| _ |||_||||_|_| _ _  _|_|  _  ||||_|  |  | ||_ _  _| |____ ____||_| ___ _   |__|_|__|______ |__|_|_|_| _   |_||   __|_||| |_  _|||| ____| _|_||| | __ |||_| __ _|||__|_|_ _|  _||__  |_||||| _ ____|__|__ |_|_ |_||_ _|||_||_|_|||||| _|  || _ _ |___|| _| _||_||_||___|   __||||__|__  _||||_| | __|__|_|  |_||_||||||__|  | ||| |__|||_|_ ||_|| |_ |_ _|| |||_|__ || |||__|   |||_ ___ || _|_||_||||_|__||_ ___ |_|_| _ _|__ ___|_|| |_| _|_||___||_|___| __ __ |_||||   | |||___||||  |____| ___|| _||| _ _| |||_|_____||  |_||_|||_||_|_|_|______|| _ ____|_ ||__||_||_|___ _ |||||_||_ _|| |||| __|| |  ||  |  _   __|_______|__|_______|| __|_||||_ |_ ||_|__||_||__|_ ___|_ ||_| __|  |||||_ | |||_|__||__||_|__|__  _||_|___|__ | _| ___|_ _|||||_|___| _||______||| _| ||_ ___ _||_|_|_||||  _||_|____ _ | |___|_____||||_ |_|| |_ ____ | ||_ _  |||  | _|__| |_  _|_||_||_|__||| ____ | ___| |_|_||||___|___  _____||_||___|_ || |||____|  _|| ||  |____| ____||||||||__ ||||__ _  |_|||_ _|  ||||__ |___||_____ |___|__|| _ |___|_  __|  |  __ _|_|||___|| |_|_|_ ||_||  _|__|_|_ |__|_ |_|   ||_||_ _|_|_ ____|_||_|___  __|||__| |||||_|_|____||___ _|____| __| ___|_ | __ __ |__||||_ _ _||__| |||||__ |__   ___ __|_| _|||_| _|_|_||| | _||||___ _|_|||||||| |_|___ ||| __|||  |_| _|| ||  __|__|| |_|__|_ |__|_ |___  ||_|_|| |_|__|___|| _| | | __|___| |||_||||___|||| _|__|__| |____ ||_|__ _ ||_______||||__| _|| |||  __|||_ || _||_|_|___|__|||_|  | | ____ __||__|_ |  _|_||| __ _ ___||||_ _| _|___ __|_|||__   |__|||_| _|_|_|__    ___ _ ______|_|||__ ___|_  _| _| __|__||____  | ____   _ __| |__ |_||| __|| _| |_|_| |||_|__ _|_|_|_ _  _ _   ||_ ____||||_ || || || |__|___|||  _____  |__  ||||_|_|||_  |_ _ __|_ ___|__|||__||__|_|| ______|_ __ _ _|_______||||___||__|_|  |_|||__|_ _||_ |||||_|__||||_|__|_|||__|| _|_|__|__||_|_ __||| _ ___   _|__  __ _|_ _||||||  ||| | _|_|| _|__| _|| ||||_ |_|__|  |   | _||_|||_|_ | _|____|||||___|_|___|  |_||||__ _||||_| __|__| _ __|_|| ___ _| || |||_|__|||   ___  | |||| _ ___| | |_  ||_|_ ___|| __|||||_  | _|_| |__ _|_ |_||_ ||||_| _|_ || | _   _  _||__ |_ _  _||_|__ _| ||_ _ __| __| _ |||||_ |__ |_ ||||| _ __ || |__| |||____||||_| _|||||__  __|__||_||||__| _  _ |___|    | __| __| |_|__ ||||| |||_____| ||_| |__|| |_|_ _|_|_| ____||__||____| |||__||_ _| _ ||_||___|||_|_|_|__ ||___ |_ _ _ __ |__|_|__|||___|_|| _|_| |  ||  |__|_  || |||__ _|_ _ _|___|||| ||||_|_|_| |__||___ |__ |_ ||__| |_|| || ||__||_|||||||| _ _ | ____|__|_ |__ |__ |||___  _ | _||||| __  || |||_| _| || || __||  _||||_ __|_|||__||_  |_||__|| |  | |__ __|_| |_|__||_____|_ |_|||_||__|___||_||   ||_____|_____ |__||____|_|  _||__|_  __ |||||_||| __||_|__|_| _ |_|   |_  ___|___| | ||__||_|| ||_|_|||_ _ _|___|_ |___|__ | |||| |_|_|_| _|_  ||_|___ ||| |||___|  |_|__ _|_   | |_ _|  ___|  _|_|__ _|_ |_||_ ____|||_| |  || |||__|| _ | _||__||||||_ __|_ ||_|_|||__|||| __   |||_|| __||_|_____|| _| _|_||_|_| _ ____|_||||__|_|_|_____||||_ |  ||____|| ||___| |__|_|  |__ _||  |_|_|||_||_| _ |||| |||_||_|||  ||| |||___ ||_||_  |||___|| _|__  _|__ _|____  | ||_ |||___ _  _||__|_ _|_||___ | __|_|_ | ___|||___||_||_|_|_|___ _|_  ______||_||| __  ||_ __||__||__  _ ______||_|__|||___||_||__| __|_||___| _||_   | _|||__| |_|_ _| |_|__ |__|__ | _   _|_ _|||__ |__ ||______ |_||| | _ |______   __ _ _|___| __  _ __ || | _ __|_| ||__||_||__|_ __ _||_|_|||| _| __|_ _|_||__|___||_|_||_||_| _ |_ _| __ |_|_||  |__  _|| _||___ ||_||__|_ _ _ |_||_| || || _ | |_   |_|_|_ |____ |_ _|_  |||__ || |_|_   |_ |_|_| ___|___ ___|_|____|_||___|_||__ |||___|_ __|___|__||_|||_ |__ _|| |_|_|||_ |   |  |____ ||||_| ___|_____||_|____||||  |_||___| ______ _ ||___|__|||__ __||_||_|__ _||||_| |__| _|_||__ | _ _||_ ____||_  _ _| |||__ |_|_ ___ _|_| |_|_|__|||| _| _ |_| |____||_| _|| _ |___ _| ____ | |_ _ __|| _||___||_ |||_|___ __ ||__||||||______| __   _ __||||  _||||||||_||_ ___|  ||_|___ |_|____|__|_ _||_|   |  _ ___|_|||_|__|_ |||||| ___|_ |___|___ __|_|_ ||__ |_|_ _|__ _  __|_|| __|_ __   |_  _| ___||__ _|_|_____ | |||||_|_||| |||_ _|_|__ ||_|__||  |   __|| |_ __|_ | |||_||||__ ||_| _ ____|_|__ _| |_|_|___ | |_ |  _||| || _| __|___|_|||_|||| |__  _ _|||_||| _|_ _|_|||_ ___ |_|||  | _||_|||  _|_| _|_||___| _|__|  |_| _ _ |___ ____|| _| | ||  _||| _|_|_ || _ __|| ____|_  |  |_ |_||_| __|_||_ |_|__|___|_||_||||_| |_ _| |||_|_ | _|_||_|||_ ||_|||||_  | ___ ||__ |_ ||___ _ _ | __  __ |_||| _||_ |_   ___|__||___ ____|_   _||||  _ |_|||_||||_|___ _   __ | |||__|_|| __| __||_|| ___ ||   |__||_||__| __ |___ _|_ |||  __|_| _|_ _ || _|_   ||  _ __ ||||| _|_||||_|_  _|______||_|_|||||___|_ |_____| | |_|||||_|||_|| |_|||| |_| |__ _|__|_|| _ _|___ |  _||||  _||__|| ||__||||_ | __|_ _ ||_ ___|_|| | | _||_|_|_| |__||||___|_ |_||_ ||_|||||||||_ _|| | ___  _||_ _| _||____| ____|_ _ __|||||__| _|||_|||__  ||||||_|____ |__||__ ____|_|_| ||||__   ___ |__||_ _ |  __  __|||_|   __  |_ ||||_| _  ___ |___  |  |||___|||_| __|||_|| _|| | __| | __| |__|   |___  __|| |____| _ __|| |||__|_| ||__|| __ __ _ _|||_|__|_ _|_| |  ||__| ____||_|__||_|| __  || |_|| ___||_| ___ _ __||||___||_|||__|_|| |__  | _||_|_ |||_  |_|___| |||||  __||_|__ ||_  |___|||_|__|_|  ||||____|__ |||  |_|| ||__ |_| _|||||___||||||_||| |_|_| | _ ||__|| ||__| |||_||__  | |_|||_ __|  __|| _|__||||||_| |_| _____||_||__||______ |||_||_|_| _|  __ _||_||||_|__ __|_|_|_||||_ |||  ____  _| _ _ _  |_|_ |||__ _||__  | __|||_|| _ |__ ||_ ||_|__|_||||_||__ _|_|  _||__|_|  |____|| _ | |_  |_|__ _|__   ||_||_||_ |___||__| _____ |_ __ |||||_ ___|||_|___| ____||_| |_|||_||__  ||| _|| _  |  |_|_   |__ _|__ |_|___||_||    | |__ _|| ___ |||_  ||_|___|__||||| |_|__  ___ __|_  |_|_|_| |_|_| |_||_|_|__ | _| || |  _||_||__ __|_||_ _ _||__ ___|___||||_ _|__ _||_|_||_|_|||||_|  __| __   __|_|_ ||_||___ |__||||_ _ |  | |_||___||_ ___||____|_|_|||| ||__ |_|   |_  _| ___||| _|||| |__ __|____ __|_||||||     |_ || _| |_  _ ||_ || _||| __  _|_|__||_  __|||||_| ____|   _||| _||_||| __ ||||__|_||____||_| _|__ ___||| _ __ __|  ||__   |___|__||_|_|_|||| |__|_ _|____ __||_|____   | __||||_  _|_|  __||  _| _ __ | |______ |__|__  __|_ |_|_||____|||___ ||||||_ _|_ |_  __| _|||_ _|_ |  |____|| | ___||| | ___|____|| __|_ ______||| _  ||_|__ ____   __||_|||_|__ ||_| ||||||_____  _| | _    __|||| __|__|  _  _|  _| |_|__||_|_||_  __|||_|__|_||||_  __|||_||_____||||__ ||_|| _ |||_|__ ||__ _  |||___|_ __ _| ___| ||_|| |_|_|__||||| || ||_ ||||||___|_|_|__ _|||  _|___||  ___|  ||_|_| |_ |_|__|_| _ ||||| ___|||_ ___|||| _| _||_ ||_||_| ||__ _| __||_|____|||___|||| _|__|| __|__| || _____||__|_|| _| _ |_ ___||____|| __||_____|_ | ___ |__ | ||_|| |_|_||_|_|_||| _|||_|___| |_|__|  ||__ _ || _||||_||____|||__   ||_ ||_| _|__|___|| _|| | | ||| _|  __|__|||__| |_|_ |||_ |_||__| |||_ |_____ _|_ ||||  |__| |_ |_|||_|_|__  _||__|______|___  _|____ _| |  _ || |_|||_ | | | |__|__|_|__|_|_ __| |________||_||_ | ||| _  __| _ _|__|___||||_||_| | |||_ |__| __ _|__||| _|_|| |||_  || ___| |||__|_|||_|| ||_||_| |_| _|| |__| _|___ ____   _ _ |_||||___ _|  |__|_|_||||||_ _||_||_|| ||_______|||_||_|_||_| ___|____| |_  ||___|| _ || |_  _|_|||_  _||__|_|__|____  ||  |_|_|||_||__ _||___|_|______|    ||____ |_____|_ _|_||__|||  __ |_||  ||__||||_|_||  |__ _ |||___|| _  |||||_|___|___|| ____ _||||| |__|  ||__|_|||_|| __| |||___|_| |__| ______| __||| __   ___||__| |_ |__||__  __| ____  ||__ |__|__| ____|__|__||_|||__| |||_ |___ ||| | ||_|__|||_|_____||_|| __ |____||||___|  _| _|_|_|| |__| _ ||||   ___ _|_|__  ||||  _|___ |___ | __||__ |_ ||__|_|__||___||_|   |_|||   |___|||_ _ _|_||||__| |__| |__|_|_| |_|_| _ || | _| _  |____  _ |_||_|__||__||___| ___|__ |_|_| _|| |_|_   || |____|||_| ___ ||____| _|_|| | ___||__ ||__|___|_ ||_||_|__ |___| _ |_ ||_||||_|| |__  ___  ____||_ _| _|_ |  _|||||___|| _|  __ ||| |  ||__ ||_ || _____ __| |_ | _ _____ |_| _ | |  _| _| _ ____| ____|_ || ___| _||_________  __ |||||__||| |||||  _|_ | ||__| __|__| ___|_"
     ]
    },
    {
     "name": "stdout",
     "output_type": "stream",
     "text": [
      "___|| _|_____||| || ||_||__    _|||  ___| | |_||_|_ _|_ | _||  ___| _||| _ _| |_|_ | | |_____| __ __|| _||_|||_||____|_||__|_ ||_|___|| |_|_   _|||___ | ||_  |_||_||_  || ||  |_| _|__||__|||__| |_|_|   |____|| || _ ______|||_|_|_||| ||||_|| _   |_| | _  _|  _|_| |__ |_ |____||||_ _|__|_|_ __||  ____| __| ||__ |||||__ ||_|||  _|__||_|| |_ ___||| _| |||||____ _|||||__|| |_| _|  _|_||_|_ __||| ____|_ ___ |  ___  ||_ || |||  | _| _  __| |||  _|_ | |_||_ |_|_||| | _  |_|__ |||| _ __|_|_ | | __|_|||| ___|||| _ |  _|_  | _|_| |_|||_|_| ||  _||||__ |_| _ _ __ |||  __ _|_||______|__|_|_||||_| |__ _|||||_ |_|||  ___|_|_ |_ _  ___|_||__|__ _| |  __ __ __|__ _|||_|_|  ||  |_|_|_ |  | _ ||___   |_|_   |_|  _|__ |__|| |__|__ | |_|______ ______ _ ||| _ | ||_ |_ |_|_| ||_| _ ____|___  |||_  |_ _ _||____ ____|_ | _|_|_ _____ ||||| _ ||  | _||||||||__| |____||_|||   ||||_||_| _||__|__ |__|_|__|_| |___ | _|_|| ___|| ||||  ____ _ |___||_|__ _||| |__ |||| |||| _||_ ____|||_|__|_|_ |_|_____|_| | |_____ _  |_ |__| __|||||__ | ___ __ __||_____|||_____  |_ ||||   _ __| |_|_||  | ||____|||__ || |__ | |||| |___||||| |___ __||_ _____ || |||_||__ ||||||||||| ||_||_| |___|||__ || __|__|___|_|||__||||_|_ ___||_| |_ __| | _|__|__||__ |||_|| |||_| __|| || | __|_ |_| _|___|||||||_|__|| |_ |_ _____| __|_|__ |_ _ __| __|_|__ |___|_||__|_|_|_|_ _||__ _| _| |||_||______|||| | ___|___||_|_||_| _ |__|||__ ||  || _|___|___|_|_ ||| ___|_|__ __| ||  _|_|_ || || _||_||__|_| __|_____ _| __|  _ |_  _ |___||  ||_ ||___ _|_||____|____| |__ _|_||_ _||||_|__|__ _ _ |||||__ | _|_ |__|| |__||   |_ |__||| ||__||_|__|||||||| ||_||___ _|_| |_||_ _|____|_||_||||____| _| _ |_ | ||__|||| ___|_ |__ ||_ _|| |||_|__|||_ |___ ______|__|___||__ _| ||_||||__| _||_||  ||_||_ __|| _| __||| _|_|  |_|  |||____ _ |__ _    |__|__  _|  _ _| __|__||_| _|||_| __ |_| _||  |__|___|||  |_ _ |_||_|| |_|__|| | |__ _| || |_|_|||___ _ _|_||__|_ |_|||_|_|||||  | | |_|| | |_ _|__| __ ___ ___||___||____| ||_|_| _| |__  _|_|_|||_ |_|__|___| |  _|__|__||__|_|_| ||||||  __ || ||___|__|||_||_____| _||_| |__  _| |_ __|_|| || __ _|_|||||_| _|_|_|_ | __|   |_|___ |_|| ||_|_|_|__ |  _ |__||_|| ||___ | | | __|_|_|__ |__|||| _|_||||__ |_|_|||_|_ |||__|_ ___| |__| |_|| |  __ _ _| _|   |_ _ _|_|__||||__|_| _||____|||| _   _  |_||||__|__||||_|____ | __ __||  _|| |_ | | _ ___ | _|_____|||_____|_______|_|  |_  __|___|||_|_ ||_|__||  ___| |_|__ | ___|_|_ | _|_ __| ||_ |__ _ _ _|_|___|  __| |_|_ __| ___|_ _|__|_ |_|||||__| ____ |_| | _  _ |_  |_  |_|| _|_|| __ |_|| |__  __||_|_   _|_ |_   _ ||||______|_||_| __||__|___|__ __|| |__|_||__|_||_  || __| |_ ___||_ |   |||___|___|_ ||| |_ | || | ||| |_| |_ _____||_|_____| _ || __|||___ __ ___| |  | __|  _ |_|_____ ___||||_|_| ||_| |_|||__|||__ || _ __|_|____ |  __||  ||   | _ _ __|_ ___| |_| ||_| __ _|_|_ __|| || |_|| __  |||_| |___ |_|__|__ _|  || |__|     | _ _|__|| |||| _||_||_| _|_||_  _  ||___|_||___|_|_ _ |  ||||____ _ _ ||__ _||_ |__| || |___|___ _|_|_|_|_||__| __ ____ _ _ _|||| ||_  __  _| |_  |_|_|||    _|| _|_||| |___|_| ||_ |||_ _|___|_||_  _   __|_||_||| ||   ____|| ___|||_ ||  _| _|_||_|  _ _||___ ||_|___||||_ | _ ||___||||||_ _ ||  _|_ _|__||_ |_|||_ | ||_|_|___||| ||___|___ _||_||____|__| _| | ||||_ _ _| _||__||___ _| _|| |||____|_|_ _ _|||_|_|__|_  ||||__|___|_  __| ||_| _| ||__|_ |_ ___||| |||_|| |||__  ____|_|___ _|||__  ___|___ ||___ |_ |___| |_|__ |||_|__ |___||_|_ |_| _||_||||_||| ||||_ ||__ ||__||  ||   ___||___|_  | | |__|__|  | _  _|||||_ _ __| | | |_||_ __|__|__ |_|__|   | __ _||_| |___|____  |||__|_____|_ ___  | _||| | || | || _|||||  |_|_ || _|____ ||____ ||_|_|_|_|| |_||_ _|| _|_| | | |_|__| ___|_|_||||| ||| | _  _|_|||_ ||__| |||_||||_|_  __|___|| ||__|__|| |_____ _|__|__||_|____|_||_ ___||_|_||||_ |___|____|__|_  _ __|| ||__|_|_ |_ __|| |||||_|__||__  ||__| _||||  ___|_____ _|||||_| ||  ___|_|||_ ||__  _|_| __ | _||__|_|_|_|__| _____| __ | |_|||___|_ _ |__|_|_|  _|____| __|__||_ |_ |||_|| _| ___|_ _ _ __|| _|||| _ || |_|_|||___||__ __ |_| ___|__|__ ___  ___ ||_ | |_|| |||_|___ |_ ||__| ||| |||_  |||_|_ |__|||_||_  | __|| _|_ _|_  ______|__|_ __|_ |__|||||||___||  _  _|_  _| || | _____|  |_ | __||| | _ | |_|_  |_|| |_| | _ |___ _|_ | ___|__|||_||_|______||_||_  _ |_|____|||| _ |___ ||_||||_|_|||_|  |_|_ |||_|_ || |_|||_|||_||||||_|___|__| |___|||||____ _||__|||||__ ____|||__||| _|||  |_|||_  || ||_|| __|   _|__||__|______|| |_|_|__| _|||_|_ |  _ | _|___ |_|| || _ __|||_|_ ||__|_|  __|_|__|__|_||___||||__||||_|||_|||_ _|_|_||| _| _||| ||_||_ _||_| _ ||_|||| |||_| | _||__| _||_ |__  |___ || ||__|||_| _||_ || |__|  |_|||___|_ ||_|_ _|__|_|_|_| |||| ||_| |||||||______ ___ _||__| _|_|||||__|_|| _| _ | |||_ _ | __|||_|||_ _ ____|  | |_|_|_|__||||||__|__||__ ____||| _ ___ ||_|_ |__||||_| _|_|_|__| ||_ ___||_ |_||_| | | | ||__| ||___||||  _||||||____|_|_ |_ ___ ||||  |_||| _________ _  ______ |___|_ ||_____ | ||___|_|__ |__|__| ||_||__| __  || | __|___ ||| _|_ _|||_ _||||__ _|_|||||_ _  ___||_|____|______ _|_||_||_| ||_| _|||||__||_|||__||_|_|_ ___| _||  __ _|____| || || _||||__|||| |||| |||_|_|||  |__  |||_| | ___||| __ __|||_ _ ||_|_ |___|_|_ ________|_|__ ||_ __|_||_|_|| _|_ | |_  _||___|  | |||__|_ |__ |_||    | || |__ |_ _|| |___|||_|||||||| |____ |__||_ ____||_||___| _ ___||____ | |_ _  |__|__| __|||_| |    ___ || _|_|___   |__|_  |_ _ ||_|_| ___|| | _ _| _|  _|_| _|_|_|___ ____|||_| ||___| | |__| |_|____ ||_ |||__ ||| _ |__||_ | ||  _ _  ||__|__| ___|_ |_||  _|||_| _ || _ |_ _| _|_| _|__ ||__ ||_|| _ |___| _|_ |__| |_|_ ||_||_||_||_|__ |||_  |___||||___|||||_ _|| |__|_|__| _ |||__|__||| _||_ || |_| |_||  _ _   __ |  ___   |||__ _||__||||| _ __| _|_|__|_ _____|__||_||||_  ___   __ ||| |_||__|_|___|_ _ _ |_|_______|||  || |  | _||___|___|_| _|| |__||||_ __||____||||| |_||||_|_|||_||  _ __|__|___|| |_|_ ||_ _|||_ | _ _ |_|___|__| ||_ _|____ || ||||  ||__||||__| ||__ |____||_| _| __ ||____ |_||_ |||_|_ ||__|__|_______|| |_|||___| |_| ||__ _|____ |____||| _||_ |_   _|| _||||_|_| ||__|  |__|||||_ __| _|__|_ |_||_|| |_|_ |__|||__||||_|||_ _| _|_|__|_||_ __|  _|||    |__||| _||_|  ____|| |___|__ ____  | |||__|___ _|||_ _ |_ |_ ||_||||_|__|_|_|| |_||||| __|||___||___|||| __||___|_||_  _ _|_|||_ _ _ _|__|||__|_||_______|||| |_||__|| |_||__ | |__|__|  _| ||_| _||_ _||||||___   |_ |||_  _|___  ___||_| |_||||__|| __||||_|_ ______|___|__|  |_ _ _|_|__||_|  _ __|_|  __||||_||||||||_|_| |||| ___|| ___  __|_| ____|_||_|_|_ _|__ _||__| _| ||||_||  __|| | |||||  |||__  _||  _ _|_  _|_ |__|| _|_||__ ||_ _ |__   |_|__  |__ __ |||_| __|||___ __|_||_|__ _|__||||_||  ||_____||__|_| _|| __|__ ||| __ ||___|| ||||||||| _||| _ ___ ||| _||__| _|___|_ __|___|______ || |_| ||_||||_ ___|  __ | __||_  __||||   __||__ ||___| | |__  ___|_|_|_|||| | ____|||_||__  _|__ _||_| |||||    __ __ __|  |||||||_ __  ______ | __  |_|||__| ||_||_____|____ __ _|  __|_ | __|| |___  _|__|||_||_  |_ _  |||_   __ | _| _ __ |||| | |_|_||  _  |  __|_|__|||_|_||||_ | ||___||  __|| ___ ___|| __||______|__|  | _|| _____|__ _   ||     || |||_|||_||||_ | _|||_ ||_|_  ||__| |||| __ __||_|_| ___||_|||_|__|| __|_|______ __  |___|___|___|   _ |_ _ |||_|| | __||_||||_|_||_|______  _||| _|||_|_ |__||_|  _ |||_||| |____|| |_ ||||_| __|_|_ |_|_ |__||_ _||||_||__|____|_|__| ||_|_ _|_|||_ _||||_ __ _||_   __||||_|__  || __|_ _|| _ ____||||  |_|| _||| |_||_|_||_ _ | ||__||___|| _ ____ |_|_| ___||||_|_||||__||_| _| |_| _ ||_|___ _|_ |||__ ___| |||| ____||||__| __ ||||__|__| __| | __|_ |_|_| _|__|_|| _| ||_|_| | ___| |__||__|__ _|_| _ ||_ _||__|||||| |_|||__ |  |__||_ _ | _||_|||_|___|__|||_  _||__| |___||| _|_|||  _|_||__| ____ |__ |_____| _|__||| _|_ |__ |__ _| |_|__||  ||____|__|||_|__ | |_ __| _|  _ |______||_  |_ __ _|   _|_| __||||__||__||  _ |_|__|| ||_||||_|||| __ |__ | ||__ _||_|__|||_| _|____|_ |||_|__|| | __ | ___ __||_ |_ |||__| |___ |    |||| | |||_|_||__|_|__|_  _   _||_||||| _|__|_ _ |_||||||__ ||___|_ __ _ | __  __  _||_|  ___|___ |||_ |_|  __|_||__|___|__||_ _ |_||| _||__| |_______|_||___||  ||_ _|__ _| ____|__ ||||_||| | _| __|||_|____|  __| ___||_||____ _||__|_ _| |__ _|| | _| | |||_||_ |__|||_ _ |__ | _ __ |    ____|__ __ _ | |_  |||__||_|_||_||  |_||_ |||_____| _||__|| _ _|_|_|_ _____|__ | _|||||__||_ | ||_|_ |___ |_|||_ _| |_ _ |_| |__|| |_||| |_|_|__|_|  |_ __|| __|||__ _    ||_| _  |_|__  |_  ||____||_ | _|_ |_| __|_ _|___|||_____|| |_  |||  | ||_|_|| _| |_ __ |_|__ _| _ _| | |||_| | _| _|__| ||| |||| _|  __|______||||__|  ___ _ ||_____||_|||||||___|_|_|_ | _| |_| ____ ___|__ ||_ ||_  _|| _|_ |_|_ _ __ _ |||||_   _||_|_| ||_||||_|_|_|___ | |_|___|||||| |_ __| _ __|| || _ _|____  __ |__ _|| __|| _||_|||_____ |_ __ ||_||_||_|__|_|  |____| |_____ |__|||||||_ _ || ___|_|||||| |_| _ ||| _||_||| || ||___|_||||  _ __||__|_||____|_||_||   _||___ ||| _| |_ _| ______|_ _| |||||  __|_|_|_|____| __|_| _|_ |__ | ___||| _||| _|| __| |_|_||_|_ | _||_ |_ |||________| _|| ||| __ _   ||  __|| _|_ | __  |_| | _|| |__|_||_ __|__|  |__|_|| | _|_|__ |_|||   |_ ||__| _ ||_|_  | | __ ||___|__||___ _ | ||_  __|_||__|| _|| ___ |||___| _||||_||"
     ]
    },
    {
     "name": "stdout",
     "output_type": "stream",
     "text": [
      "||_ __ _ |__||| |||_ _|| |_ |_|_ _ |  _ |_|_|_|||_  |_| |_|| __| || |||_|_| | _|_ |__ _|  ||_|__| ___| __||_|_|__ __|_ |_||_| |_ ||__|_|||_||____|   _||||_||||_|| ||| _ ||  _ ||__||__|_ ______ | _||_|_||___ | __|_ _ |_|__||   ___||_|||__|_||_|_||_||_ _ ||_||||| __|| ||||______|__||| |__||__|_ _| _ |__ ____|____|||_| ||_|||_|__||____|| ||_|_| |_||___ ___||||_ | _|_||__ |__|| __| __ |_ _ _  _ ||__||||___ |_||_____|||_|||_|_ ||_|__||_| | | _|||||| | ||||||_ _| | _ | _|_ _ |_|||__ ||||_||__|_|   ___||  |_|_|  _ |_|___||__||| |||_||||_|__|_ |||___|| |__||_  _|____|_ _||_||||__|_|||_|||  ||_ | |_|_|| |_||__|_|___|_|_|| __|______ _ |  _||_ _  __|_|__  |_ __|___| _ || ||__|_ _||_ ||||||_| _|______||_||||_||   |_ | _||_||_ _  _ _ _||__|__||_| _ |||_|_   __|_ __|||__|_||_ |___|||_  ||| _ ___ |_||_ _|_| ___|_  ||| || _ _____  _|||||__ _|||_|__|_|  |||_ __| |__|_||||||___||____|_____ __|_ |____ _|_ | ||   |___ |||___|| _____|_ || _ _|_ _||_|  __  ||_____ _|_|__| _ |_ |_ ||___|_____|  |||| |__ |_||_| __||  ___ |_|_||_| __||_  |_| ___|_||___|||  |||||||_||_|_|_ ___|_ | |_||___| ||_|  ||| _||_|_|_  ||___|||_||| _ || _|||_|  _| |||__  _ _|____| | _| |____ | ___|_ || ||_  _|___|____||_||__  |||  |__||_||  __|| |_|||||_  ___||_|_|||_ _||_| _ _| _   |___ ||_ |_|| _|_|_ ||_||_|| _|  |____|_|__|_ |||__|  _| ||  ||_||___||_||_|___  |____ _||__ ||__|__ __|__ _| ||_|_||__|__ ||| |_|___| __|| | _||__ | |_|_|__|_| |||  __|_||_ | |__ |_|_||_ |_| |||| | _|_ _|| |_|_|__| |__|_|___|  |__|| _ ____ ||__||_||_| |_|__|  |_ ||  __|| | ___|||_|_|||||__|__||||__ |_|  ||||__   _||__|___|_||_ ||_|_| __| ||_||__  _   |  |___| |    _|_ _|_|  ||_||__|___| |_|____|_||____|_ _||___|__| ___|_|_ ||__ __ |||| _|_ |__| |_|___|_ __|___|| ||_|_ ||_||_  ____|_| _||_ || __|| __ |||__|||_| ||_||||||||_ | _||| |___||_| _  _|| ||__|_|___ || _|_||||__| _|_|_|_| |__ |__|____||____|| | |_|_|  |__|||___| || _||||  | _| ||__|_| _||| __|__|_ |||_|| ||_ _||  _|_ ||__ _||_ _ _|||||_|_||||__|_||_| _ ||_|__|___|__|_  __|___ |_|_| _|||_ |__||_  _|| __ ___| ||_|||||| ||____ ______|||_||__||_|_|_ _|__||_ _|   |__||___||_|||____ _|_|  |_|_|____||||_  |____|_| || __|____||_ __|_|  __|||___||_|_| _||| ||_|||__  _|_|_|_|_ ___  __ __|_||_|||| __ |_||| _|||_|| _||||_|_||__||||_||_____|_||__ |__ _  _||___||__||_  |___ _|_  ||||___|_ |_||_|__|__|_____ _|| _ _  |||_|_ |__ ____|| _ _ _| |||____ _||  ___|___|_|||| |_||||_| _ | |||_|___ | _||||__|||____|  __| ||_ |||||  |  ||_||_||_|_|_||| __|||_|__| |  _ || |||  |  _ _|||__ ||_|_||||_||_|| _|_ || _| |  ___|______|_||| |_ _|_|__|||_  ||||____|___|  || _  _ |_||| _| _|||_|__|___|||__|__ _||| || ||_  ____| |___ _____|__|_||| || _||||_| |__ ||_ || _||  _|||___||__||||____|||||| |_____|___|_|___|_____|_  _|_||_|_| |||_| __ __||_|_ ||__| |||||_ _ _|  _| | |_ ||  |____ __|_|__|  || ||_| ||_ |___|||||_ __|_ __  |_|__|___|__| __|||___|  |__  |_ __||_ _|||_|||  ____ |_||___|_|_ |_|| _| |_   _|| || _|_|_|____ |_ _  |_ _ ||___ ||_ |_|  _ _      _|| | _|| ||||  _ _||||_||  __| |_|| |||_|_| |||  | ____|__|| ||__| |___|| _|___||||   ||_ |_  _|____| |    _| ||__||__|_| _||_|__|| |||_|_| __| | ||__|__| || ___ |___|__|_|| |_|   _| |_|_|_| _||_||__||__ _|__ __|__|___|_| _ _||__||_ |__ _| _|_ | __||__|__| _ _ |_|_|_|__ | |||____ |_ ||_|___|____||  ||____||___ |__||__|||___| | | | _  |||_| | __||_ |___|   |__| _|_ _| |_|||____||_ _ ___ |__||_| _||_| |__|||__|_ ||___|__ |_| |_|__||_|_ _|||  |__|_|  _|_| _|_ |__|  _| |_|_|_||__ ||_| _ _|_|____ |_|_|_ ||_ ____ ||||__ ||___ ||_ ||  ||  ____ |_  _  | |_| __ ||| |______|||__|__    |___ _|___|||||_  _|| _ |_|| || |_______ |__ ||_|||___|||_ ||_| |__ __||__|_| _|__ _| | __|__|__| |_|  _|__|___||||_|_||__ _ _ ___|__   |__||___|| |||  |__| __| _|||_____|||||_|_| |__|_|___|||| |__|___|_ |_|_||___  _| __||_||_| _|_ | _||____|_ |___||_|   |____|_||__ |___ |||| __|| | | ___||__  |___|| ||_ |_|||_ _|||_|||__|____ |   | | ||_||||||_| _|__|_ _||_|| _|| _||________||  | |  _|_ _||  _||_||  |____ |||_|_|||_|_||_| _|_|_|||__|_|  | || __||____| _|_______|_|||| __ ___ |_|__  |_|  ||_| |||__ _ |_  |__|   |___|  _ |_|||____| |___|_ ___|_| __ ||___ _____ _|||__ |______ || |||  _ |||__| |_|__|__|_ _|__|_  |_ |___|_|||   ||_  |____|__ _| _ __ _ |__|________ | || || ||| ___|||___||_  | ||||__|__|_  __ |||_||_____ ||_| | ||__ _|| |_||||  |___ | || ___|_||     _|_| _| |_ __ _ _| ___||__|_|_|_| | ||____||| |_ ||___||_||| __|_|___  ||_||_||_   | ||__|___|__ _| _|||____ ||| __ __| _||  || __||||_ || _| _ __|_|_||_  | _||  |_|_|__|  |___ |_||____||_ ____  _|_ |__ _ __  ___ ||_|__|_|_ ||_| _|||| ______|_|| _ |__|||___| |_ _|___||  |__ | |_|_| __ |||_ _|____||| __|_| ___|__| || __ ||_|_|__||_||  _||_|  _|| |_  ______|_|__||__ _||_|__ | | |||| |_ ___ _|_|__ |_|||___ |_ ||_| |__|||_   __  |_ |_|| __| ||_||_|  __|| | | ||  ____ __|_ |_  _|_|||__||_|_    _ _ __||||_| _ ||_|___|__|_|_||_|| |||__|||||___|_ |||__ ||  __|_  |  _|__||_|_|| ||_|____ __ |____   |__ |__ _|| |__| _|||_|___||  _|_______ |_  |_||_|||||_ |||||_ ||||  _|_ |__||  | |_|_ _||____ _| _ _|  | |_|||||  ___|||_| ||__||| _ | _ _ _| |__|_|_|____|_|___|||__|| _| | |_ ||||_|  _|_|__|_ ___||||__|_|__|||__|__||_|   |_| |_|_ _ ___||_||_| _|_| || __  _  _|___  |_||||__ |||||_|_  _|_|__  | _ __|__|__||  _||__| | _||__||  |  | __  | _  _ ||| _|_ | || __||||||  __ |_ |_ ||_|||| _||_ __ _ _|___ |_||_ |_||||| ||_ _|___|| __|||  _|__|_||__|_ __ |__ |_|_|||__|__||_|||| | __| ____|_|_|||_| _ ____|_||_ ||_   | |||_ _____|||  ___||__|   __| _|__||_||_ | _ |||__||__|__ _ ||_|_|| |||_|_|||_  __|||||_|_|___| |___ |_ _||____||___||_||_ _____| || |_| _|| ||_ _____ ||_  _   _| ___|| |  || _|_|| _|_ ___|_|_|_|_| |_|  ___ |_||_||__|_|_ |||___|____|____|__|_|___|_|__ _ _|___||_||| || _ __| |_|_____|__|_ __   ___|____| __ __|____|___||___ |_||_ __| __ _|||  __||_|_|____|_|_|  __ __  __| | _ |_||  _ ____  _||___ || _ || |__|| | _|  __|  __| ||_ _|_ |||||_ ||__ ||_|_  ___ |_|_ _ |||_|_||  _ |_||_|||| |_ ___|_||| |___||__ || __|_||__|___|__|   _____ |_ || _| __|||||__||_____||___  | || | ____|_|||__ _ ___ ____  |_ |   __|_|_ __  ___ _ __||_ ||___| __||_ |_||||_| __||| |____ _||||_||__  _|||||__|| _  __ | | |  |_ |_|_|  _| ||||  ||__|_ ||_|||__|_ |_ _||__|__  ||_||||__|_|_||_ |__|_ _  |_ || ___||_ |||_||_|||_ _ _|_||||_| _||__ __ |_|__|_|__  _|||__|__| |||||| | _____|_|| _ |________|  _|___ ||  ______|| |||_| |_||_____   |_ ||_| __________ ||_|_ __||_ _ | |___|_||_|_|   | __  |__|_|| | |||_| _| |||_____|   | | _||_| |__|__| ||_ ||||||_||__|_ _||__|__ _| _ |_|   __|__|__|| _  _| __|_ _ ||_||| |___ |__||_|||| |_|_ __|_|___ _|| __|| | ___|_ __ | |_| _|||| || |__|_||  ||||____|_|_ __| |________|_| _|________||___ ____ __|_ ||_||_||_ ___ _| __|_ _ | _ |_ |__|_|_ |__|||__||_|__| _|_|||__|||| ___   _||_ |_|_ _||||__||___|____    ||___|____|__||_  |_|||_ || _|||_||||  | | _ _|  |_|_ _|______||___|||_|_ |___  _|_|| |__| _ ||_ ||_|_||_||||_||__||_  __| __||  |_| _ ___||__|||_|  _|_|__||__ |||||| _|| ||_|   ____ _  ___||_ ||| _|_||_|__| ||_  |||||    _|___||    | |||__ ___| _|_||||__ |_| |_||__ _ __||  |||_|___|___| | __ ||| _| _|_||| __ _ || _| |_ ||_ ___|_ ______ _||_    _||__ _ ___ _|_ _||_ __ _||_|||_  _|| _____||||| |||| |||___ __||_ __|__||| |___|__||_|_    || |_|_|_|  ||_|__||||__|| |_|___|| |_  __ || | _ |_|___|_ || ____|||||_ |___ || __|_ |_|_  | | |_  _  ||  | |_||||||_|| | __||_ _|| |_ _||__|_|| _||_|__|_ | _||___|__|||__ _||||||_|___|_|_  | _ |__| _||__ ||_|__|_|_||__ __  | |_|_ | |__ _|_ || |_ _||_ ___| __| __| _||||_|__|| _ |_|_|__|| |||_|_____  |   |__|__| |__ |||_|_ || _|||_| _|  ||_|_ |___|||_|__|||  |||_| |||____ __|||_|_|_____ |||_| __||  _|__|| |||__|||___|| | ||| |||||_||_|_|   _| _ _  |||_|_|_|_|||| _|||_ |__|_ |  ___|_|_ |_||___||__|_||__ ||_| __||_ _|_| _ _||___ _ ___|  _||_|__|_||_  ||_|_|_||||__|_ |_|||| |__| |_|____||__ | |__|_ |_||_|   ____|||  _|___|||___ || ||   |   ____| | _|||_|_|_|_|_||__| ||||_|   _ _||______ ||__||_ __|___||__|__|||  |__ |__|||_|||||||_ _|||__||_|||_|_||___||| __ __  _||___ ||_|__ _  __ _| __   ||  _  __| | | || __|__||__|__ __|_ || |_|_|_ ||| |  ____||______||_|_|__|_  _||_|||| |__|__ ||_ ___ ___|__| _  _ _| ||_ ||__ ||_||_||__|_||_||  |__ |_|| __ ||___|__| || _||_|||_|__ |__ || _||_|  __|_  _|_ _|__ _|_ | _|_|||||_|| ||_||_||__ |_| |  __|||_ || _ ___|__|_||_|_|_|__|||_|||||| _____ _|_ || _ _|||___|_|||_|_|_||_|||_||   __ ____ ||_|_ |___||_| |||||_|__ ____ _|_|  | |_||||_ ___ | |    __|_|_ __ |_|_| |___|_||_|_| |__ _|||_|____ _|  ___| _|_ |_____|||___||_||| ||_  |__|____ |____|_||||__|_|___||||_ ||_ _||_||__| |___  | __|_|||   __| |_| | | _| _ _||_||__ _|||_||_|  |____ ___ ___ |  _||__| _|___|||||__|_|_||___ |||||||____ _| |__||_ _  | _  _ ___ |_|||_ |__| |_   _|_ ||_||||_|  |_|_|___| _|_| |_|||_| |_|_||_ _ _||||_|_ _|| ||_____ |_____||||_||_ |___||____ _|_ _||_|||  __||||_|_ |__|__||_ ____|||| |__||  _||| _ |_|_||_ _||___| |||_|_|  __ ___  |__||_|||| ||_|___|_|_|__| |___ _| __| _  | |_|||||   | |_| |____|_|||__||__ |_ |_ |_|_||_ _ | | _||____ __||||__  |||_|___|_ |||||_|| ___|_|_| "
     ]
    },
    {
     "name": "stdout",
     "output_type": "stream",
     "text": [
      "___ ___|__|_|  _ _|___|  ____|_ _  |||______|__||_||_|| _ |||_||__|_  _|__ _ |__|_|__ |____|__|_ __|_ | | _|| | |||_||_|_ |___ |||| | |||  |_|| |_ | | _||||_|__| _  |_|| |___||_ _||_ ______|  _||| _ ||||||__ |_|_ |_   ||  _||| _ _|| __||||__|___ || __|___|____|__  | __| ||__ |_|_|  |_ _ _||_|| ||_ ||  |||_|||||__||||_ _  _ |___| |_|___|_||_ _|________ ___|_|_|||_|| _|| _|||  _||||_ || _|_||  _|| _|| __  |_|||__ ____|| |_|||_| _ _ ___|_|__|||_|__|_|_|||__ _ |_ || _ _|_|||_ _    |___|_||_||_ _|__| _____|_|| || ||__ _|||__||_|_| _||| ||_ _||| |____||__  ||__|_ |_|| |__ _||||_|_ | ___||_ |||_ |  ||_|   |||_|_ |___  _|_|||_ |_|_|_|__|  _ |__| ||  |_ ||||||||__|_ |||_  __   _| | ||||_||_| ____|_   __| ___|||___ |_ _|_||| _|| |_| _|__|_| __|  ||  ___|_||    || |_||_|__ | __ __ _|_ |__|||_|_|_ __ _|___|_ |__ |__ |||___ |_|  | _|| |_|_|___| |_| | |||_ ___|_|||  _|_| ||_ |__|_|||_||_____||  |||__ _    _|| ___||_ | _||||  |__ __||__ ||_||_| _| |_   _|_|__|_ |_|_  || |_|__ ||_| __ |____|||_|| ||||| ||||| |_||||_ | |__  _|_ _|__|_ _|__|__ _|___  ||_|_________|  _|_  |_||__|__|| _ _ |__ | ||_|__ |||____|___| |||_ |_|___ |_|_|  _  || ||__ ___|||_ ___| _||| __|_|||____||___| |__||__| ||_|||_|__  | |__||_| _|   |||__ ||  _|_ |_ |__|||_|||_|||___ | |_||| |___|___ ||||_||__|_ |   __ _| __||__|___ ||__||__  |_| _|_|||| _||_ _| _||  | _  ||_ _|___ |  __ ||_|||| _ __ | ||_  _|__||_|_|||||__|| _| |||_|  _|__|  _|_| | _|__|  _| |_ ||_|_________|  |_|_|_|| | |_|___ |__ _||||__ ||__|__ __ |_|_| _____| ||||||| |_ _|__|_|__||_ |_| |__||_||_||_|_| || _ __|||_||___|_  |_ |_ |_|_  |__|_|||_|    _|____|__ _|__ |   _____||__| |_ ||_ |_|  _  | || |||||_| |___  __||_|____||||__|  _  _ ___|_  |__|_|___ _ ||| |__ |_______|_|_|___|___ _|_|||_| __|| |_  |||| _|_ ||_|___ _  |___|| _ _| |_ _   | _| _| _ _ _  |_ |_||||||__ |__ _|_____ ||____|_|  ____||||_ ||_   |__|_|_ |  |__  || ||_||| |||||_||__|| | |__||__|__   _____  |_ ____|_|  |_|_ ___| ________ _ |_ _|_|_|_|||_||_||_| ||  _  ||_|__|_|_|||||_|| |__| |__|__|_|____ ___|||| ___ |_|||__||| |   __ _||____||___||_ __|| ||___| _| _|| |_  __ __ _||| || __|_ | __||||__|_|_|_  ||__| || |__ | _______|_|_|| ____|_| _|||||  |__ |__ |_ |_ |||__ | _   |  __|__ _|_|___|| __  |_____|__|__|_|______ _ |_ |____|__ | __ _|_||_|| __|_|_|_ ||__|_||_|_|____|__ _||__|_||||||__ |___ | ___||||  _|_ |_|_ _|_ _|__|_|____|_ _| __ |||_ |__ _||_|_ _|  | _ || |_| _|| __  |_|_ _||__||___|||_|_|  ||_||_____|_ _|_ _|||| |__ ||_ _ __|__ _ |||||  __ |  _ || _|| |_ |||__ ||___|__ _ _|_ ___||___|_|__|_| __  ___|_  _|_|_|_  _|___ __ |_| _| _ |_||__|  _ ||_|___| ___||_| ||__|| _ __|_|___ __ __| || ||  |||_______||||_| |||| _|   || ||__|  | |_||| |__|_| |_ |___|| _| |_||__|  _|_|||_|||||_ _|_  |_||_|_||_  ||_||_|| |__  ||__||__  ||| _   |______|__ _|||_|_  ||_  || |_____ __|__|_|_||||__  | ||| __ |_| | _| _||| ||__ |__ |_|  _ |__|_|| __|  __|||_ __ _| |||||_| |_ _ | | | || ___ |__|||||| __|||__||||||||| _|____||||||_ ___|| ||___||||_|__|_ |  ___  _|__|_|_ |||_|___  ||___|||_||| _| |||||_| _ __|__|__||_|__| |_||__|||||| _| __|||___|||||||  _  ||  _|_| |_|_||  |_||__| |_| |_|_ _|__  _|||_|_|_|_|_|_|_|__  _ |_||____|_| _|_|  |||_| |_||| |_|__  _||__|  _||__|  __ |___ _ ||_| __| |||___  __|_||_||_|__|___|__|||__ _| _ _|| _ _||__|__ ||   |__|_||  | |_| __|||||__ __||_|_||_|_|_||_ __||||_ _|___|__ _|_||_ |_ __||||_|_|| || __ __| _||_ ||_|||_|||_|_||| | _|_ ___  _|_|___||__|||| __||_|||_ _ _|__|  __|_|___|_|_||__ | _||__|_  |||_| _ _ |__  | _ ||_|_ ||| | _ ||_ _ | _|_  |_ |  __||||  _|_|||___|_|| |_ | _ ||_|_|__ |_|_|  _||_|__ ___| __ | |_ _____   ||   _|_ |_|_______ | ||_|___  ___ __| __|||_|____ _ _| |_ || __|__ |_|_ |||_| _|__ |  ||_| _| |__  ||| _|_ ___ _|||| ___ |_|_|_| _||_   ||_||__ _|||_ |___|__|| _||______||_|_|_|_   |_ ||_ ||| _ __ |||||  || _| __| ||  ____||||||___||_  ____|____|||  ||| || || ||_|| _|||____|___|__||__||_ ____|__|_|| ||_||||_|_||_|_ |||| __ | | |_|||__|||_|_| _| _|__|__ |||| || | |_ _ ___ _| _|__|||||___ __|||_   |  ||||_ _ ___|||_ |____| ||__||||||__|| _|_| ____|||__ _|_  _|_| __ _  | |__ || | _| ||  |_|_|||__|| _||||__|_   _ _|||| _| _|___|_ |  | __|||___|__ _|_ _|||_ |||_||_|__| |__ ___|_ ____| __|||_|| | _||  |__ | _ | |_|__||_  ____|_ _||__ _|__|_ _||||||_|| |  ||_ _| |_ | __|_|   __|__ |||_|_|__|__ | _| | _|||  |_____||__|_| _ |_ | _ _|__||__|_|||__||||  |_| |   |_ || ||_ ||||___|_|__||__||  | ____ | | |_|| |_|||_|||__  ||___|| |_||  _|___ _ |_|__ ___  _ ||| | |_||||| _|__| __ |_|_||||_|__ _ |_|| |_||_| _|_|_|__|_ |__| _| _|___|_| |||__|______|   _| __| ____|_||_|_|___ _||___|_|  ____| |_ ||_| ||_|_| |______ |||____|| |_||  |_||__| _||_|_|||_ __|_ ||_| ||__||_| ||||| | | |_||____| _| || |||_|__|_|| ||||___ _||_|___|__| _|__ _|_  |||_ | __| _| ____||_| ||_ __|||||_|_|_ _| __|____  _|||_||  _|_  | || |_|_||_|||__| _||__  __|_|____|_||__|_ |_| ||___|| |___|||_ _ _|_|_ |||_ |||| |_|_   __|_|_|||___||_ ||  __||_| |_| |_ _|_|||_ || ||__ __||||__ _|____ _|____|| _||__ _ |_ __ __ |_ _|| __||___| | ||_|||__ _ __|_|||_| |__ || |  _||_ |_||| _|| || ___| |||_||||_| _ |_ |||_|_|||||||||___| _||_ _|  _|__ ____|_|__||_|_||_|___|| |__   |_ || ___| ___   _| _||_ | || _|_| _|| ||||  _| _|||| _ ___  ||||___|||__||_|  |_|__|| ||| |__||_| _| __| ____ |__ _|  |||_|__||__||_|_|___||_ |  |_|    | ___| | |__||||____|||_||___ |||||| _|__    |__|| |_|||__| __|||_||| _  __| _|_ |___|__|_|_| _|||__|_ |__ ||_|| |  ___|  _   __|___ __|_||_ |___|| _ |_ ____|_||___||_ _|_|___|__ | || | ___|||_|_|| _ ___ |||_||_ _| _|________|||_| ___ ||| | _| ___||| |_  _| ___ _ | |_| |_||||||||___ | _|___ _|_|||___| _| __| |_|_ |_||___||_|_  |_ |___||_||| || | | | __| _|__|| |__|   ___|||_||||| __|||__||____|_|||   _|_ | || ||_ ||||_|_ _ | _|_|__||_ _||__||| ___|_____| __||__  _| __ _|||| |_||||_|___ ||_| _|||_|_||_|| |_||_|| ||_  _|_||_|__|_  __|___|_____| | _|_||_|__||_|__|_|_||  |__|__||_|  _| __|_|_  |_ | __||| _| ||||___||_|||__|__|_| __||  |__|||_||_ |_|____|| | | |__ |_||_|_|| |__|||__|___ __ |_|_ ||||_  ||_|_|_| || __ |  __|_|__|__|_||| || |||| |_|_||__||_ ___||||||____|  ||__|_ | |___ _   |___|_||  |_|_ |||| _||__|||_ _||__  __| |_||||__| ||  ||| _|| _| _||| ___||   |_|||_ _|||__| __||||__| ||__  |__| |  ___| __|| _|  |_| ||_ ||| |_|_  __| _ _|____||||___ ||_ _|||___|| __|_ _ _|__ _|_   _|_|  _|_|_|_|||_|____|||___|__||| _||_|_|_|__|| _||____|__  _|______| ___|_| _||  ___||_ |||  _||_||||||__ ||_|| ___| |_____| ||| ___|_ ||||| __|_| _|||_|___|__||__ |___| ||_|___|| ___||__| ||__|_| ||__||| ||_  _ ___ |_____|| _|_||__  __||__|||_|__|___ _ |_| _|__ _||_|_ _|_|_ _ _|_| _ _| ||_|____||_|_|| |||_||__|_ __ _ __| __|___   _|___||||| _|  ___|_||||_|  _|_| || _ _|_|__||____ ||___||| _|__|||||_|__ _|||__||||___ _|___||_||_ | || _|____ __|__|_|||_| ___ | _|_|_ ___ __  _|__  |||_|__|__||__||||_|||__ _|_ |_||||| _| _|_|_| _ | __|_|_|||___|__||_| __|___ ||| |____ _|_| |___ |__|| __|___ |||||_|_|_|_||_|_|_| _ |_| | |__|| _|| |||  ___ ||__|| _ _ |_|  |___|__|___||||  __ |___|__ __|__|_|_ || _ |_  _____|___   _||_ ___| ||____|_ |_ | _|_   |||_ ___|_ |__ |_ |__|_ |_|____||___|_||| |____ |_| ___ ___|__|_|___||_ |  _|||_ |_  |||||| _ |_|| __  |_|  ____|_|_|_|_ ||_ __ | ____| _||__|||_ | | _|_|||_____|||||___||__||___||  _| || | |_||__ _  __|_ __|| ____||_|_ |___||_|_ |||_|___|_|_|  _ _|__| || |__ _ | ||  |__| |_ __||_|||||_ |_|_||||||__|_ |||_|_ |_ _||__||_||__||| __||  _|__| __||||_|____ _|__| || __ | |_ || _|_||__|||||_____  __||_ ||__||_||__ ___||_|||_| | _| _ |__ || _  _ ____|__|_ |||___ __|___||| | |___||___ ||||__ ___ | |||_||||| ___  |__||_ ||__||____|__ ___|__   _ _ | |_____|  | __| |_| _ _| ||| ||||||_|__ |___ __|||_|___|_||_||___|_||___||| |  __|  _ |_  ||__|___||_|_||_  | ||__ __||_|____| _|_  _|||_  _||||_||_|___ _ |_|__ |_ |_|   _   |_| _|| |__  __|_ _| ||| _||____|_  | _|| | | ___ ___|_| ____ __|_|_|    |||_||_ _||| |___|_ ||||_ ||| ___||_|_|___ |_   __|___|||_|| |__|||  |____|__     __ __||  __|_||||_| __ __| __|_ ||_|_ _||_|  _|__|_|  ||__|||_| _|___  |_ |_ | _|_  || __||_|  _ __ |_ __|| || |_ __|__  _||_|_| ||_|__|_| |________|__|_||__||_____||| ||_____||__| | _||_| |__||_ |_|| ||_ |__|_||_ |||_|__|| |  | |____ |||__||||_ |  __|| _| ___    _| ___|_|||_|_ |__|| ____|__ __  _ __|_|__ _ _| _ |||  |__||  ___|  |||_|| _ | __|_  || |    __|__  | ___| __ ||||_||__| ____ _|__||_|__|||____||||____ |||_   || |___||_|| _|_||__ |||_| _ ____|__||_____|| |__ _||_| _ __||___|_| | _|_||_|__||||____||_||_|__|_ _|||____| _||_|_|||||_  __|__ |_|__| __  _|||__||___|  ||_|_||_||_||___||__ _____|__||  |_|_|_| |__ __|||_|_|__|||| ||__|_|__||__| |___|__||    |_ _|_ __| ___ |_|  _|_||_|____ ___||___ ___ |___|  ||_|__ ||| _|_ |||||__ |_|| _|__|||_| _| | _| _||_ |_||| __|_|_|_|__|_||__|||||__||__|_ _ _| | |__ || || _||__|__ | ||_ |_   _|___  |_||| __||_||_ ||_|_ _|___ _|  ___||_  _|_| _ __|_|| |_|| __ __ _ |__|||||| ||_ _||_ |_ || |____|__ _|___ | ___|_ |_|||__|  __  _|     || ||_|_  |_|||_ ||_  __ _ ___|_ _|||_||_||___|__|_ _ || "
     ]
    },
    {
     "name": "stdout",
     "output_type": "stream",
     "text": [
      "|_|||__| | || __||| | _ ___  | |__|_ |__|| |  __|_  || _||_|_|__ |_ __ |___ _|||_  |||_|_|||_|||_|_|  |_| __||___|_____| _ ||||__ _|_|_|_|   __ |  _ |||_ || _|||_ ||_||___   _   |___|___ | |_|__|_|__| |_|_||_|_ |_|_|| | |__|  _||__||  _|_|_|_     || _||_____| ___| |||||_|__|_ _|||__|______|_|  ___ |__|_ ||_||__||___|||_|| _|||_| || |||_|__   _||____| ||_||||_|| | _|___ __| |_ |_| __|||_|||||_||| | ||||||| ____ || |___ || |||_|_ _ _ |||_|| ||_|||_|_|_|_||_ |_ |__||_ _|||__|||_|||_|| _|_| _ __  |__ _|_| |__||_| |___ _|| ||___   |__  |___|_|_||  |__|| |  _|______|__|__ _ _|_ _| __|__| |___ __ __  _|||_ _| __ __| _||| _|_|||__|||||| |_|| |  |__ |__|_||_____|_|||_ |||____ _ | _| _|_ ||||_|_||||_   __|_|_|||___|__|||_|||||  ||||_ _|__||__|| ||_| _|||| ||____||_||||| _|__  |__|| | _| _ __||_ |||__|__  |_|||_||||__|_||_|_ __|_| |_____| || || | __  |___ __|||_|||_|__||_| |||_|_____|_ ||||__ _ __________||__|__|_  |__|| ||__|_ |_|_|| _  _ _| __||||||_| |____|__||__||_  __|_ _|____  ||_ __  |_| |_| | _|_|______||_|_ _|__  __|_||_|___ _ ||||_||_|__|_|__ _| _|__||_|| | ____  | |_|_||  ___|_||_ __ _||_ || _|_||| ___||| |_ |_||   | | | _||_|__||_|_ _|  __|__|||| _| _| __ _||_|___|_ |____ ___ _|___ _|_ _ _ |______||_||| __|||__||  _  _|_| ___ __|| | __  |_ _  ||_ |||_||||____|__ |___| ||__||||_||___|_ | _|___| |  _||_|___|______|_|| _|| _||| |||||_|_ ||_||_|_ _____||___|| __||_||  _|| ___|__ _||_|||_ ___||_|  _|||| |__ |___|___|____| _||_|_  ||  _|||____|___||__||_____ _|_ |____  _______|_|||_ _||_|   _|_ |__||_ _|_|_  ___|_| |_|  ____|_|||||||_ _ |___||_| |||_||___|___  _|||____|  _||_ |_|||  |_  _|_|__ |_|| _|__ | _ _||_|_|| _|____||_||_ | ||____|__|_| _||__|||_||| _ |_|||_ __||||||||| |_ | _||_||| | __|_ ___||__|__|__| ||||_| _||| |_||__|_|_ _ _|__|_| _|   | _||_|____ ||_|_||_| _|_|  |_| |_|_|||_|__|||||||_ _||_||__| | __ | _|||__ __ |_||||__||||||| _|_  ___|| |||_||| |   |||||_|_|_  |  || _||_||_|___||_|||||__|||||_ || |||___| _|| | _ ___||_|_|   |||   _|_|_  ||_____| ____|| _|||||||||  ||   ||||_|___|  __|_|__|||_| |_  | _ |||_||||| ||__||_ |__|||_|||__   __ _  __|  ___|_| _|_ |__|_||  __ _||___ _ _||_||__|_   ____| _||_ | _____  || _|__ _|_| | _ _|_  _||__|_| ||| __|_|______||_|_|| |__| |_____  __|__|  ___|||___ ||_ _| |_| __|_| __ __||_|_||_| __|__| |__|____ ____ |||_|| _|_ _| |_| _||_| _| _|_|||| ___||| __|__||||||||__|_|__||_ ||__|| _ _|||||||____| |__| _____| |__  |||__||__||_|_|__ | |_ _||||___ |  _|||_|_    ||__ _||||||__ |___ ||| |__|| | __|_ |_|   |_ |___|  ____||_| __ || _|||||||_|   || |_ _ |_|_ | _| __ __|_||| ___ ||___| _____|___|_| _|__||_ _||  __   __|_||__|||__|_||_  |  ___ _| |||||_|_|_||||| _|__|| | _ ____|_ |_||| _||| |__ |__||_|_|_|__ ||_____ ___  ___|__|__ ___ | ||||| | |___|   __|___ |__| __||_||__||_ |____||__|_|__|| |__ ___|___ |__|_||_|_||| | |_|_| __|| _||__ |_ _   _|___ |_|   | ||| _| ||| _|_ __  ___|||_ ___||_|___|_|___ | ||  |_| |_ __|_|_||____|_|| |__|| ___|__ _|_ |||______ _______|_|_____|||_||_ |__  __| |_||_||| |_|  |||___|__| _  _| |||||_|_|_ ___ |__ |_|||_||_|||_| | ||_____|_|__ _|||__| |_|__|_|_ |   _|||_||____ _  |||| _|__ | |_| ||||__ || |___||||_ __|___ __ |__||| |___ |__ |||||| _||| __||__|____|||    _|__ _ ______|_|__ |___|_|_ _ |||_   _||  _||| ___ || || _||||__||||_ |||_|||  ||__||||___||_|_ |_|_|___|||||_  |_   _ | |_ _|_ | _  |_|__||_|___ ||___ _ |_||_| ||_|| |_|_|  |||| _   _||||_ __|_|__||__| _ | _|_||||___  _ |_ __ _|______||_|_|__ | _||_|____ _ _  __|_||______ _|| __ | _||__|||__|_| __||| ||  _ |__|___|_ |__|||____  |_||_____ __||  | || ||    |__ _|____||  ___||||_| ||||_|__|___| ||_|| _|||||_|||||_|__| _|_|   ||||_||_|_|_   |__ | |__| |__ _|__|  ||  _|_|  _|__|__ __ __|  _|_| _|| _ __|| |_|_ |_ __|||  _|_ __||||  _| |___ _ |  _|_ |||| _||_|| ||||__ |___ ||_ | |_|_|_|__    _||_||_ |  _|||| | ||||_ |_ __||__||_|__|__|___  __|_|||_____  |__|_|___ ||  _| _ __|_|_|_ || || ||_|| |_ ||__|||_ |||  __ || __|||____|__|_ |_|||__||_ ||| _| |   |_ _ _ |__ | __| |_|_ |_____|__|____ _ ___| _|_|_||_ || ||_|__|||___| __ _|||__|| _ _ __|__||_|_ ||__|_| |_ |_| __ |_ ___  | |  ||_|| |___|_|_|___|||_| ||_ ___|_|_|_|  |||_| __|_|_ _|__| ___|| | ||_|| |  ___|__   __||_|  ||  _ || _|_ ||_|| ____ ___|||__||||_|_| __ ___||_ _|  _|___|_  |||__||_|__|||_ ____ __|_|| | __ | |_   __||_ |_ __||||| |  |_ __||__|_|||__ | |  __|| |_|_ _| ___|__||__  |_ _||__ _||__ _ | ___ _||||_    __|___ |__ |_|___||||__||_|| |_|_||||||_|||___| ||_|||| |_||__|__|_||_ |  |_ _|____ |_______|___| |_|__||____||_ _|___ _|||_||_|||_|| |__|| |_ |_____||||___|  _|__|||__||_____|__|_|_|_||__| __ |__||_|| _|__|_|_|__||_|||_ ___|__|||_  _ ||||__|______|__ |||___ _|__| _____ __|_ |_ _||| ||_  __ |__||_|||||_ |__||||||_| __|||__| __||_|___|_|_|| _| __|___| _ _|||||| ||___ __ || || | |||__|___|____|| _|_ |_  |__|_ __||_ _||___|__|_| _ |_| ___ _|_  ||||_||| _| |||_|  |_| __  ____|_ _||__||||_ _| _|||___||_|___ || |___ |  ____ _|_|_|____|||_| _| || |||_ _ |||| |  ____| ||_|___|  __ ___  _|||  _| _ |||_|_ ____ _||___| ||_|_ |_|  _| ____ |||_|_ |__|   |_  _|_   |___|__ || _____||__|  ||| | |___||_ _|_ _|__|||| |  | | _ |__|_  ___| |_|_ ||_| ||_| _ _|||_|||_ __| _|_ _ _  ||_|_ _||_|_|__ |_|||||||___||__ _|_ | | __|_ |___ _||  |_ ||||    |_ _|_|_ _||__||| ||__ |||_ __|___||||||__|| _|||  || | || |_|_| __ __|_ _|_|| ||_ __| _ _ | |_  __|| | || |__ __|__ _|_| _ |_  _ _|_|_|__||__||_______||_ _ | _|____ ||____||||__||||_ _|_|_|_ |__|_ |__|_||__|||||  ||_|__ _|_ ___|__| ||___|__|_|  __ ___|__||  _ _  _|  __ |||___||| |_|||| ||_|__| |  | |||||_ ||||_| _ __| |__| _ _||_||  ||||||_|_|____ __||_  ||_| ||| ||_|_  _ |||_____|_ __ ||||||_  ||_|____|_ || ____||_  __ _ __ _||__| |_||_|   ||| | _||_ ||__|  _|__||_ | | __| _|___||_   |_ _|| _||_ _|_| __|| __|___| ___| |_____||_|_  ___ | |_| |_||__|| _ _  ||_||||  |___ ___|||  |_||||__  __ _| _ _| |__ | _|_|_||_ _|_ ||_ __  |||___| __| _| _|_|| _ _|_||| | |_ _| ______|||_| ||  | ||_ __| |_|_|____ |__|_|_|__||_|__| ___||_|_ |||_|_|__ ____|_ _||_ ___| || |_|__ _||_ _| ___||__|___ |  ||_ __|_|   ||__ ||| _| _||||_||||_|___||_|__ _||| ||_|_|| _||_____|| _| |_|| || |__|__||_|_|_ |||_|_|_ |_   ||_| |_ || |_ _ |_ _||_||_  || _| _|_  | _|||_|_||| _|__||___ __| | || __ _| |  |||||_|||__ |______| _ ||_|_|_|_|_ _ ||_ | || |___ |_ | |_|__ _ _|_ _ |_ |_||| __|__|_|||___ ||||___||___||_|| |||| ___|__|_|| |___|_|____|_ | _|__________|_ __ ||_   | _|_ __ | | _|||_ ___|_|_ | ||__|_   _|_| || __||  _  ||_| __ _|__  _ _|_ |_______|___|_|| _|_ _ _|_ |_|_ _ | _| |  _|__||_|_ _| ____|_|__ __||_ |_|___ ___|_||_ |_|_||_|___ |__   __| ||__ _| ___|| |__|_  _|__ ____|_ ||_|_| |||__|_|__|__ _||||___|||  |___||___ __ _|___| |||  __     _|__|||_|____|__| ____ _ |___|_| |___||_|_  _|_ _|   | ||__|||__ _| _|_____|||_ __||_||__||||_  || || _||_|____|_ __||__||||||  |_ |||_|__ |__  |||||__  |__|_| |_| ___ _ __  _|_ ||_|_|||| ___||_|||__ _||||||_ || ||||_____ |   _|___|||_||_|__| |___|| __|_| |_ __ _|_| _ | _____|_||| _|_ |__||_|||_| ____ | _  |_||||______| |  __|_|_|||_|_ _|   _  |__ __| ||_  |__ _  | _| _||_____ |_|___|||||_|__ _____|__|| ____|  | __|||____|_| |_ _ |||_____ __|___ |||||||_|||_ | _||_|_|_|___||_|__|_ |_ |_ _  |__| _|| |_||_|||| _|_| || __|_|__|_ | _ _____|__||_|| |_ ||____|_| _|_  _|___|||_____|__ _|_|  || |  _||__|_|______ |_ |_ __|__ ||____| || | _ _  |_|__|__ _| |  |__|_||||| _||  ||| __|___ | _ |___|||_ |_|||_ |__| _|__|__ |_||__|____ __ | ||  _|__|__| _   _|__|_ ___|_|_||_|  ||_|_||| | || _||||_ __  |__||||   __||||_|||_|||_  | |_|_|||_||___||| _|_|  _|__|| _|___ __ |_|____|_|| ___||| _||__| ___|_|||| __|||  ___ | _ _ |_ _ _|| _|_||   _ |_|||||  _|||| ||_|_| ||| _|_  |_|__ ___   _|| _|_| _ |_ |_|_|__ _||_|____  _|_||____| __||| |__|__|_|_ ____|____||| ||||_|| _ ___    ||||| || |_ _||_  _||___||_|_||| |__|_ __|   |_ _ |||_|_ __ |__|_|__ _  | __|___|_|||||_||__||____ ||||_ __|_ __||| _| _|_| | |||__|| |_ __|__ __|||_| _  |__|| ||||_ |_|__||| ___| _ _____| __|_|| __ |___|_ | __|_||||_|_|_  __| _____|_| | |_|_ __  | _|_| |_|| __| | || __|_|_|_|__ || | |_ |||_|_||_|| ||||_ |_ __ __ _|_|||| _|  || ______| ||_ _||_ _|||_ _ _|___| _| __ _ __||__| |__|____|  |  __|||  _  _ |____|_ |__||__||||| __||||| _ |____ ||__|||_| _|| ||||_|||||_|_||_||__|_ _|_____|||||_||| ___|  | ||||_| __|_| ||_ ||_|_||_ _ _ _|_ __|___|   _  ||||_ _||_ |_|_|____ __| |_ |   |_||_| ||___| _ || __|_|___ __| | _ _|_|||_ _____|____||  _ |___|__|||_|_ _ ||_|__ _|___   _ _|| __ |||_||| |__|_|_|__ __ _| | |_|||__|__  | _ _||_|_ _ |_  |||||_||_|__| |__| __ ___  || || |_||__ _||| ____||_ |||  | _  ______|__|__||_||||||||||___| __||_ |  |||_|_ || |||_||| _|____ ____|_ __  ||| _  ||_ |||||_  | | _| || _  _|__|_  _  ___ || ||_|___|||__|| |_ _|_| |__|_|||_|| _| || ___"
     ]
    },
    {
     "name": "stdout",
     "output_type": "stream",
     "text": [
      "  |||   |_| __||||_| __ __|_| |_|||| |_ |_ |__|__||_|__  _  ___||| |_||_||_||_||  _||_| _|_|___ |__ ||__||||| __|__|__| | | || ||_ | _ _|||_ |_____|___| _||| || |_ ____ || _|_ __||_|||__||__| __  _ |_|||_ | _|| _|||||_|__|_  |_|___|  _|| ||__ |||||   ||_ _ _|_| ||| | _| ||__|___|_|| _|_ ___ |_|_ _| _____|_____||_|_   | _ | ___||____|__||_ ____  |||| ||_||_|_ __|__ _ ||_||| |_|  _|_ |_| _|_|  || ___|___| ||__|__|_||||  ||____|__||_ __ _| _|_|__||_  _ _||| _|_ ||___ _ _ ||| ___||_ | _| |_||_||_|_ ____|_ ||| _ _| ___|_||||_| |||_|_|_|_|_|_|_| | |||__||||_||_|| _| |_ __||_|_||___|_| _|_| ||||__|_ ||_  ||| |__|_ _||||__|___|_|||| _|_|_|| ||_||_ |_ _||_||_ _ ||||_  __||_ |____|  |  ___  _||_ _ | |__| |_|____|___|__| |__ |||_ _____|_______ _||||_| ___|__|_  |_|_|_|| __ __|||||_ _|_|_||||_|_| |_|__|_||| _  |||__ |__  |_||_|||| ___|| | |||||||__| | __||||||_||_  |_|__|__|||||_|__|____| _ _ | ||__| ||  _|_  __|_ ||  || _|_____||||||_______||| _  |__  __||_|| ||__  _||_ _ ||__ |__|__|_|| _|||_ _|__|____ __ __| __ _ _______||||__ | _||_  |||__|__|| _ || _|__|||_ ||_ _||| ___|_|__ __|___ ||||_   |||__|___|__|__|   |_ ||_|__||  _|__||| |_ _____ | _|||__| __||_ _ _ _| _|_|||||| |_ __|||__ __ __|| |_ _ _||_ _|_|____|| |____|||| ||| |_|____|||_|_||_ _|_ _|___||||_| _ _|__ | _____ |_| __| _| | __   |_ __|_|_| __|_|_|_| |__ __||||_ _| _|_| _|__| _|_| |_ __|||_|||_|__ ||_||___|| _ __|  |_ |_||| _||__|_|   ||     ||_||  ||||___||||_ _  _||_ _ _____|||_||_|_|_ |_| ___|_|___|_|||___|_  || |_| _|_|_|__|_||___ |_||||___|_|| |__  _ _| _|______| |____ __ |__|_ _|||_  ||   __ | _ _ ||_|___|_  ___ |_ | |__||__|_ _|||_ |||_|||__||_ _| _|||_|_||_||| |_ | | ||____|__||___||_|||  |_|_|_____| ||_ |__|| __|  |||__ | |__||__|_||__||||__|__|_ _ |_|_||__ __ _||_ | _|_|  __||||_|_ ___| |_||_   __ _|_| _||_|_|_ |_  _|||||  _  ||_|_|| |||_|_||_|__|___ |||___|_| |_|_ _|||_  |||_|_||| _|____|__|_||| |||||| |__|__|_|_|__||_ _| _||_ __|_ __||_ || | ||_ ||||| _|_|_   _|_|___||| |_|___ ||| __||__|___ |____ _|||_ __||_|_||_|||__|_ |_|_ _|_ _|_||_|_  _ ||_|_ |_|_|    |_| _|| __  | _|___  |||  _|_|_|||_|____|_|||__ _||_|  |___|| || _ |_____|||__|_||_|__ _|___ _|_ | _ _||| |_|||| || ||_||__ __||_|_||__| _|_| _ _ _|___ | _| _ _|| |_|_  ___|| || | |_| |___|  |_|_||_| _ |____|__ _||_|__ __  |_||||_____ __|  ||||_|_||_|| |||  __|| __ |_  |__ ||_ __ | _ _ __||__ ___ | _||__| |_____ ||||_ |_ |_|| |||_ |_ | ||__|| |_ _|_ _||| _  || |___|_|| |  ||_| _|_|_|||  _ __ __ |||___|_| _|_|_ _  |_ _ |||_ |_ |_ _ __|_____|||_|_|  |___|| _||_|_| |||__ ___  |_||||_ _||_|__|| ||||||_____| _|_||_ __|_ |_____ __||____|__ |  _|| |____|___ _||_|_|||_|__ _   ||  |||__||| ____| |_|__||____|||____|__|_ _|__||_  _|||_|_|_||___|__|_|||_ |    __|||| |_ |__ _|   |_____   ||_  |_ |_| |_|_|| _||_  _|  _|_ __|____  | __| ___ __|||__ _|||_|__|||| | ||__|_ |____||__|_|__|_ _  ||_ ___|_| |_ __  _| ||| __ _||| |  _|_ || _|||_| |_|__|||__ |__ ___|||||  |___|_  _ ||__| ___  _ __|_||   ___ | |||||||  _  ______  | _ |_ _ |__||||_||_|_| _|_| ____||  |___ ____| _||   ___||____  ||_| |_|| _ |||___|__ |_|__|| |_|__||_ |_||__|_|____|||_ _| | ___| __||_| _| | _||_|_|||__   ||_|| |___ ||_||_ _|__ | | ____|__ |_||  _||| |_||_ |_ __  _|||  _ __ |_| ||_| | |  __||| __ | __ ||_ _ | |  |_|__|_| __|__||_|_ _| |_|__|__||___|_||__|_ |||||_ |__ |__||  _|_||____| __|_||| __ ___|||_ _ ___||_| ||||_____ ||_| |_| | |_ || __ |  |_|_ __|_|_____   __||_|__|__ __ __|||_______ __ _| |_  | |_| __|||_||__|__||_|_ _|_||_ ||||||_|___|_|_   |__|   |||  | __|| __|__ |___||    |||||_ |___ _||__ _|||   |_|_ ||__|_| ___|  __ |_| |_ _||_ ||__ |_ |__|_|_||||||||_|__| ||__||_______|__||___ | |||__  ||_ ||  |_| __||_|__| _| _ || |__|_ |  ||||__| _ |  __|_| _||_|| _|_|___|   __ __|_|_| | _|_| ||_ _ ||| | _| |    |||||||__|____|| ||||  ||||||_|| |_ _|  __ |_||   |_ |_  | | _|_  _||||_| _|||| |||_|  ||__|___| |   |___|_||||_||| __|__||_ ____|| __||_|_|_|| | |_|| __| | |_||__||   _|||__||| |____ | || _|__ | | |||  ||_|___|__  | ||_ _| __  ||  ||| _ _ _|_    _ |_| |||__|___ ______ ___ ___ _|_ __| ___| _   __| |_ _|_ _|_|_||||_|||||||||__ __ |_|_| ___| ||||__ |_|||__ __||__|||||  _____|__||_|__|___|___ |  | |_||_||_|__|    ____ |||_____ |_ ||||||_||_ |___ |_ |_|___ |||__ __|||||_|||__||| |_ |  | || ___ _ |||  |_____ |_|||___| ||__| __| | || _ || |__|  _||_|_ |___ _|  | ___||_ __|_|__|_|___|||| |  __  | _ |  ____|   ||| | |||| __|| _|_ ||__|___|__| | |   _ |___   ||_ _|__||_|_|||_|_ _||__|__ |_| __  _||_| |____|| | ||  |_||_|___|___|___| _ | _|___|_| _  |_ ___  _|| |___ _||||  __|__|_|_ |_____ _|_  |___ _  |____ || ___  _|_|_| ||_|||___|_ | |_|____||_|_ |||| __ |___|  ||_|__|| __|__|_| ||_   |_| _|_|_ ___|_   | __|  ||||________| |_ |____|__  _|____ |__|___ |||_||__|||_||_|_| |  |_|_ ||_|| _||||| _| _||  _ __| ___ | |_ |__ |  __ | __| _|_||__|___| |  _ _ |_|__||  _ ||||| ||__ || ___   __  |||||||_ ___ ___| _ _ ||  ||_||_||| __   ___| | _||| |____  _____|||__| | _ |__||__|_|_|||_||_|_|_|_|  ||_|__| || _|||   |__ _|_____||__ __ _| __|_||  ___   _|   |||___ _ _||| _|_____|_||||___|___||| __| ||__ ___|_ | _  |_|_||_|_||||| | __ _|______|__||_ _|___| _ ||| |  ||||_ _|| _|_____| __|   _ |____||__|_|_|___||_ _|_|_|||__   _||||___ | |_ |__|__ __| |_|||__ ||| _| |__|_|| | |___|______ | |_ |__|||___|_| || __|___ |_|__|_|   _|_||_ |_||__||  _|_ _|_|| _ ___ |||_ |||_|__||_ _||_ |_|_  _|_|| |__|_|  _| | ___|||_||||_|| _|| |||||_||||_|| _  _||_| _|| _  ||_ |_| _  __||__ _ ____ |_||_  __||__| _|__  ____ _|_ |_ __  |||  ||_||||___|_____ __|______ |__||||_||| _ |_ _|_|||_||    ||___|_____|||___| _ _|__ |__ __|___|||__ | _  _|______| | _||_|||  |||  |_ _|__|   | _ |||_|||  ___|__ _|__|___ |___ |_|_ |_||___|___||||__ || __  __ ___||_||  _| _| | ||_|___|| __|| ||____  ||| _||_| _ |_||_|| ||   |||_|_|   | __|_ __|||_|_|__  ||  |_|_||_|___||| | ___|__ ||_ ||||||_| ||_||___| __|_|| |||_|_|_||||||_|||_||| _ | _|_| _| ||||___ _|   ____  _|_ ||___|__||_  __ || __  _ _|| ||   |_||_||_|_| || ___|_ ||_ _ |__ _|_|  _|_||||__|_|___|_ __|__|   ___ |||__||_   |_ _|__|_|| _|||| _|__ _ |_  _  ||__|| | |_| __ ___|||_||_ ||_||_|__ |||_||_ |||||_|||___ _|  | ____||| __|||  |__||___|_____|  _ |_||__ _|_|_||__   _| __|_|||__|||_ ||_|| _||_|| _|__|_|| |||| __ _ _|_|__ ___||  |_____|_| ||||| _|  _|___ _|_______  ||_|_|_ |_ || | ||__| _||||||||||____ _||__ __| ||_|__ __||____|___||||_||_ | ||_|_|_|_ |_|||_ |_|_| _|_|_||_||| |_ |_ _  _  || |____||_|||||__| |||_|___| _|___ __|_ _|___|| ___  _ __ _|| |___|| |_|_|||__|__ ||_|| |_| _|_  |_|| | _|___|||||_  _|_|  | __|_ ___|_|___|_  ||_  _|||__ _|||_||__ _||| | __| |  ||||_||||__||| _|_| _||____|||   __  ______ |||||_  _|| | __|_   |__|  ||_||__|___| |||  ||_||__||_ __|_|_ _||| __ _||_||__||_|_  |  |_| _|| ___ _  _||_|_| _ _|_||||___|||_||___|_||_||_ ||__  __||| ______|| | _|_ _ ||_ |____|_ |||||_ ||||__|  __|__||  __ __|_|_ |_ ____||_|| _|||| | |_  |___|_ |_|_| _|_ |||_|__|_ |__ |___ |_|_|  |_ __  _|||| _|_||__ ___  ______|||  |__|__|__| |||_||_|____|||_||| __|__ _ |||_ __ | _||__| |_ |_| __|||___ |__ |__||__  ||_||| ||_||||_|||||_ |_____| __  _ |_|||_||_| |____||| __ |_|_||__||  __||_| ||__||||_|||_||||___ _|||_ __|_|_| __  _  ___|_ ___||_ __||| |_|_|_|____| _ |_   |_|||   _|||||_|_|_||____ | | |||_|_||_ ||_ ____||___|| __|||||_||_|| _|__|____  | ||__|_|__|_ _|||| || _|__||  |||_||| |__|__|__| || _ ___|_|___|_|__|  | ||_||_|||||_||__|||||_||_||  ||||_||_|___||__||_ ___|||_ ||||_||_|_|__ _|   ||_ ||__|_| _||_|_|___|_|_|||_ _||__  _| ||___|_______ ||||  _|__|  _|_ __|_||_ || _   ||| ||  _ |____|_|_||_||_|__||_|||| ||_|_ ||___|__ _| | ___ _______| ___ _| _|_||_|_|__  ||_  |__||__|| |_|| _ |_||  ||| |__||||_|  |||||||___ |___|||  _ _ _____ _  ||_||  |_| ||_ _|_ _|_||___|_ __||||_|_|||___|    _||_||||_|_|| ___|__  _||_ | ||_||| |____|__ _ | | __|_|| | |___||_ |_|_||___||__| ___||_| _  |_||_|||_| _|_|| |_|_  __|  |  || _ _|||_ |_ |_   ||| ___|_| |||__ __| |__|_ _|___|__|__|||_||||  __| | _|| |_|| __ _|| |__|_| _||   |_ _|| |  _ ___ |_|____ ||_| |||__||__|__  _|_|_|_ |___ | | _||_ | _ __|_||||_|  _ ||___ _|_|___ _____|| ||_||___|||||_  ||_  |_|_ _ |__ ||_|__ ||| |  |___||_| _||_| _||_|__|_||_||___| |||| ||_ |_| __|| || ||_ |__ |_|||_  |_| |_|||_|__ _||  | ___    _|| |||_|_| _ _  _|_ _||_||_| ____ __| |||_||_|_ |_||_|_|_|||||| __|__|_|||__| __|_  __  ||_||__|||_ || __ ___ __|_|  _||_||||||||||||_|| ||_ _|_||||__|| |______| |__ |__|_____|_ _ _|_ |||_____ | _ _| ___ |___ |_||____ ___|_|||_||    _|___|__ || __|__||  |_||_  | |||__ __||_|||_|| _|_|_  |_| _||||_|  |__||_|||||  _| _|    |  __|___|||______|_ _| _____| ||__|__|| | _|__||_|__||_| | _____|_ ____|||__|| _||_ _||__ |___  ||__||_|_| _ |___|__|____|||| |||_____||__||||______||| _| _|_|____ | __  | _| _  ____|__||___ |_____|| ||_| |__|   _ || _|||_| ___|||_____ |__||_ ______||||___  ||__|||__||  |||| _|||___  | _ |_| |  __|_|_|_  _| ||_|||| _|__|_|_ _| |____|||____|  __ _ ||____|   | _| || | ||_|    ____||_"
     ]
    },
    {
     "name": "stdout",
     "output_type": "stream",
     "text": [
      " |_| _|__|___|_|| | _||||___ __|||   ____ _ |_|| ___ __ _|_____|| ___||_||  |_|| ||_|_|||___|_|_| | |__||__ | ||___|| __ ||_||__ _|_ _ |||_|_|__ _|__|___||||__|_||_ |_|||  |_ _| ||||   |||| __||_|_||_|||___|__|___|__|__|_ |||__ |_|_|_|_|_ _  _||___| _ _||_ || |__ __|||_|__||__|___|||_||_||___| _ _| __|_| _|__||| _ |__||__|___|||_|_|| ||___ _ __   __| ___||_|_|_ __|__| ||_|_ _    _ | _ |_|   __|___||____| _|_____||_____  || _|_|__||_||||| _ |_|____|__ _ ||| _|_||_|| | |__|__  __||_ ||| | |_||  |____|||_______ _|__| _ |||  | _||_|_|_| ||__|_| | __|__| _|_|_| |__| _|__|| __ _|  | _|_|_  _ | _| ____ ||_____|__|_||_||__||_|_ |_|||  ||__ _|_|_ _|_||  ___|  _||||__|__|| |__  __  |_ ____|_|_||__|| _|_|______ |_ __| |||__||__|___|||||| _ _| __|_|| ||___|| _|__||____||_|_|| _|____|_||__ ||_| |_   __|_||_ ||_ |  | ||_  |_  _     ||| __|  __|_ |_|||| __| ___|||____|_|_|_|_ ||_|__||_||__ |_|___| |__|_||||_|_||_|__||_||__||||_|_||_| _|| |_  _ | __|_ ||| _|_ __|_||_|  | |_|__| |_|_|| ____||_|__||__|___| _ ____| __|_|__||| |||__  || _|____|| __ |__ _ _||___  ___|_ |||| _|___ |_ |__|__| |||   ||_ _|_||_ _| | _||__| |__  __|___||_|_||_ |_ |____||||||| _ |_  ||  |  |||_|  ||__ | ||____  _| _|||___ || |____| |__| ||_|____|_||___|| _ __ __|_||__|   _|_   _| __  __| |_  ___| _ ____| __|_|_| || __ |_||__ __ _| __ ||_|_ |||__|_|||||_|_ ||||_|| ||__| |||__|_|__| |||_||_|___||__ | |_  _ |_|_ _|_ |||||__||| | _|_|_||| |_|||_||_  __|_ _|__| |_  |_||_|__||   _|||| |__|___   _ |||_| _ ___|__|||_|__||||_ _|_||_|___|_||_||||__||| _||_______|| _ _ _ |_|_|| ___  |_|__ _ |___| |_ || |_|  ||__ _ |_  | _|_|_ _||  |||_|||_| _ |_|__|  ___ |||  |__|||_|| __|  |_|__|   _|_| | _||_|| | |||__||_|_|__| |  _|_ |||__ ||___|_____|___|_|_|  |__| _||__ __|_|_| _ _| |||||_||||_|||___|_||  _|||___|__|__|_| _|_ | ___||_|__|__ ||_|__|_ |__ | _|___|_ _|_|_|| |__| ___|  |||||| |_||_ _|   | _| |_ |_ |_ ||___||_|_ || |_||___|_ _  |_||___| |__| _____|__    ||  _|| | ||  ____||__    |__|||___ _|_|__ | ___| _  _|__||_ _||_ _|| _ | _ | ___|___ |_|_ |_ |____|_____|___|||___|_|__ ||_| |_| _|___|___|_ ___  |____|__ _|_ _||||| _| ||_ __  ____| _ _|||_|__  _| _|||_||_|_|__ __ ___   |__   ||||_|||___ |_| |_|||__ ||||_||__ __||||_|_|___ | _|| ||_|__||___|__||_  _||__ __|_ | _||_|_|__|_|_ _||_  || |_ ||__ _||_|__|__ ___|_ |_ _|____|___|||__ | ||_|__|__|__ _| _|____|_||| ||___||||||___|__| _ __ |_||__|_ _|_|  _|_  |__ ||_||_|||| |_ |_ |||_  __ ||___|_|_ _|| |_ _|_|____||| |__ |_ _|_|_  ___ ||__  |_||_ |_|___ ____|||  _| |||___|_  |__||||__|_|| || _|_  _ __| || |__|| _|_| ___||_|_|||_|_|_|_|_|| _||_ |||| _|_|_____||_|  |_ _  __|||||___| _|_| |||     _|||||  || _| ___|___| |____|_ _|||___|  |_|__||||||_  || _ _| ___||||_|| __ | || _ || _ || _|_|__| |_|||_ __ |_| _|__ |_ __|  | _|__ ||__ _| _ |_||__ |_  | |_||_|_______ _|_|__|_ _ _ || _|_  |_|||_|_|_||||  |_|____ ||__ || |_ |_||__  |__|| | __ _ | ||_|_||| _|__ |___ |__ |_|__ ||||_|_||____|_ | ||_____|_||||___   |||__||__ _| |__|_|||_|__|__|_|| _| |_ _ __|_  ___||_||_| _||__ || ||_ _||__|  ____|___ ||||_||_| _|_| |||__|_| |  |____|_|_ | _ |_||_||||  __|_||_|___|_||||| __|  ____ __ |_|___||_|_|__ _| _|_|_|| _|__ ||_ |_| |__ _|__||| |__ __|___ ____|_||_   _ ___|| || __|||| __|| |__ ||_||_|| __ ||_ |_  || | |__|||_|____ _|__  __|___|_|_||__|____|__| ___| _|_|_||||_||__  __||_|___| |||_|_| |||| _||_ |__ |__ _||__| __| __| ||_   | |_ ___||| |||   _ ||__  |||_|_ _||_ _||| |||||_ |_ _ |___|| ||_| || |__ |_  |__||_|__|__|  _| |__ |_| ||__|| ___|_ | |||| ||_|________ |_ |_| _____||_||______||||_ |_||___ |_  ____ _| _|  | |_|||___||||| | || ___|__ | |_|___ _ _ __||___|_|__|_ |||||________|| | |  _|_____|_________ |_||_|_|_|| |___ _ _||_|||_|_|_ _| ___|_| _|__|___|_ __ |||_|_|||_|__|| ||__|||_||_| _|_||_|| | |____|| | |||_|||_| _|_|| __||_||_|_  ___| |_|__ |___|_|_|||||| |  ||_||_| ||__|__|||_| |_ |_| ||| __|__ |||||_|_ _||| __ _|_  |_|_| |||  _ ||_ __ |||_|__|||_|_|_|||_| _||| |  __|||_| | _|______ |__ _ |  ___||_| |||_|_|_||__ |__|||||_ ||_ _   |_ _|_|__|||__|_|_||_____ |_ |_|_|_|_____||_|_|||_ _______|   |||| _ _||||_|  |  __ |___||_ || ||_| |_____|__|||_ |_||_|___ _| | _||| _||_|___ _ _|___||__|||_|_|_| _| ____|| _  _|_||_|_ |_ ____   __|_|__  |_|_||_ ||__| || _ __|||__ ||| _|_|||__|   _||_|||__ _| _ _ _|_||  _|__ __|_|| _____|_ | _||| _ ||_ _|_ || ||_|| _||| _| ||||||||  _ |||_ |||_|____||  _ |_ |  _|_||___ || __|| _|_|_||_ |||_|__  | _ _|__|| _____|| | |  __| |   |___|_|_|__|_ _|__|| _ _||_||__ ||||||_||_||__|_|| _||  || | || _ | ||_|_||__| | _||| |||__||_|__ |__|  ||||| _|_|_||_ _| __| ||_|___|__|  |_ _ __| __| |_|__| |__| |||__ |_   ||_|_|___ |||__ |__||_ _|__  ||_ |_ _|||||_ __||__|||________ |___|| _|_|_ _|||_ __| ||_|   || _ | _|___| |_ |__|||_|_||_ |_ |_|_||||_||_||||_ __ |||_  |_|_||___ | |__|_|||_ __||| ||___ _||_ ____|_ ____|__|| ||__| ||_| ___ __ __   __||_|  _ ||_|___   ||||||_|_||__|___  ||| ||___|_||| _____  |_|||||||||__|||__ _| |_ ||__|_|  |___||||_| ||| __ __|_|||  || | |_|_ || _| |_______|____|___  _|||_ __|__| _| |__|||_  __ __ |_||_|||||__||||_||| ___|_   __|||||| __  |____|_|  __ ___|||| |____|||__| __||_|__|_| __| __| |_| ||_||||_||||| _|||  __|||  ||_| __|   |_||_| __|__|___|||||___||_||  __ _|   |||  ||| _|_ ||_||_||_|__ |_|_ _ _ _ __ __||_||__|___|||_ | ||||||___|__||_|| |___|||| __| |_|_|___ | _______|_| |__|____|__|||__  __ _   ___|_| ||__|_   _||_ __||___ |  ||_||____||__|| ||____||| |_ |||_   __ |_| |||____||||| ||__ | _ ||___||||_| | | _ ||| | __|__| ||| |____|__||| ||_ _|_| _|||____ || ||_||| _|_||  |____ __| _|||___|_ __||__||__|_||_| |_ |_ |||____ | ___ _|_ _||||_|____||_ | || _||| _| __|__ |__ _||||_ _|___ ||||||____| ||_| _||||__|_||_| ___| | __|___  _| |___  |___ ||_|_  | _|__||||| __    _| _| |__| ___ || ___  __ _ _ ||__  _||||| _||_|_ |_|_|_ _ _| _|__||||_|_|_ _|  | | |_ _ ||_|_|_||_| | _| __ |||  _ ___|_ _|__  |__ __|_|_  ||__|||| |_|_|||_||| |_||_|___ ||___  __  __|___ __   _ |||__|__|| |||_ _ | _|| |_ |__ |  _||_____||_|||_|_| _|____ |_||___ | |____ |||___|||_|_  __|___||_||__| |_  _____  _||_|| |___||||||__||__ ||_  _ __|__|_| _| _|_|||_||_||__|_|__||||___||_ _|_|  |___|___ _| ||_|_||_| _|_ |_|_ |_|_| |||| |___ |_ ____|  _______| __   | _ _|__|____|_ __||  _|  _||___|||||_ |_|  __|||_||__ |_|_|   ___||_   _|____| __|__|_ __|  ___|| |  __ _ | |_|__|||| |___ | __|_ |_|_|||| _||_ |_ _|_ ||| __|___||||||___ |||_|| | ___ || __|_||_|__ | | ||_ _|_|_||| |_|__||||___ _  _|||__|||__|_|_| _||_ |||| |_ _|||| _||||_| __|| |___     | ||__|___|_|_|_|_ __|||_||_|_ | _| |_|___ _|___|_  || _|_||||||||_ |_|| |_ _  | _   ||_|_ | |_|| _|_ ___ |_|||_|__|__||  |__  |_ |___|___| _||| |_||  _|| ||_ _ ||_ |  _ __| _ |||_ |||____ _||  _ |_ _ |_||_|__|_|_| |____|||_|_  || _||_ __| ||  |_||_|_ ____|| _ ||_ |||||_|_| |___|||_ |_ |_||_||_| _ __||__ ___|_||___ ___|  || _|_ _| | |||___|__ _ ____||_|__||_||_|| |_ | ___|||___|||| __||_|||    |_  |||__||| |_| __||  |||||___||||___|_||_|_ _||__|___|| |__|___|____ _ | _ _|| _| _||_ _| _ _ |___| ||| _||| ___  |_ |||_ | _ __ |_|||  |||__| __||__||||_||_  _||_|__ |_ ||_  __ _||| |_ | _| ___|||__|||||_ |||| ||_  |_|||_|____|_||_   _ |___| _||_|||_|_|_    ||_| |||   |_ || |||__| __| _||_|_ || ____|| _|__|||_| ___|| _|_ ______|_|__||__||_| ___|| | ___ ||||| |__|_ |____ _|_     ||_| ||_|||__    |_ _ ||||_ _||__|| ___||||__ ||__ _|||_ |__ _|__|_|_||_| _| | | ___|__ || |_| _|_ ___  _____|||_|_____ || _  _|_ _| _||_|||_|__  _ || ____||___  _|_||__ _|___|  ___| __ |_||_ __|_|___||_ _|__| |_ __| |__| ||_|____ _|_ |_|__| |_ ||____|_||_ _|||_|||_| _ _||_ __||_|__| __|_||| | | _||||||___|| |_|_| __|||__|| |  _|_|__||__||____| |_ _  | || _ |__|_ ||___|____|_| |_| |__|_|_|__ |_| ||___|_||||_|_____ _|___|_| |__||__|| |  _| __|__ ___||_||_____ _|  ||_|  __|__|__ __ |_|_ __ _ _||| | _ ||_|| _|_____| _| |__| _|  _ |_ __|_    |_||__|_____|||_| |_|______||__| |_|| | __|_|__|||_ __ __ |_|  __| |_|_|__| _|_||_||| |_ __ _ __|__|_ _  | __|  ____||| _||_| |_ _||_|_ _|||___|||||_ __|__ ____ ||__| ___|_||| |_||_|| | | __||_|__ |_||_  |_|_||_||  |_||||_|_ _ || ____| |_| _| ||______| _ ___ |||_ _  |__ ||___|_|_ |_ ||__|_|_||_  __|||| _|| _|___|_| ___||_| ||||_|| _ __ ||_  _|_|_||| ||_|||| _| _|_|___  |_|_|_|___|_  __|_|__||||_|| _ | || |  _____||__| _ ||_|||_|||| _  |_|___|  |_||___|  | || |  _|||| _____ |_|___  ||||__|||_| | |_||| __ __| ____|| _|___|__ | ___ _ ______||__|_______|_|||_| _  |_ _  |||_|||_|_|||_|__  ______|___|___ _|||___|||_||_|__||_|   __ ||| |_|__ __ __| __| ||  |_   _|_|____ __| _____ __ _|_||| ___ ||____|___|| __|_||||_|__|||| __| _|||_|_|  |__|_|___ __| |_||____|_ |_ |__| ||_|_||____|__|||| ||| ___||_ _ _|| __ |||_|__||_| ___|__| |||  | __| _|  ||| _|  _ |__|||  _|||_| __|_|_|||_||___||____ |_| ||_|_||| ||_|||_|_|_ | ___|__  _|| |____|  _|_|__|_|_|_||_____   __||_ |_ _|  |||_|_  _||__|| |_|__|___|_|_| _|_||||_|  |  ||_ _ |_|___ |||_||____ ||||  _ ___ __||||__  __|_  _ |___|||_  _| __|| |||___|  |____|_| || ||__ |  _|___ _|_ _ _|||__||| __| || _ |  |__| __|| |_| _|__ __ _|_|   |||__ __ ||__ |__||_| ||_|______"
     ]
    },
    {
     "name": "stdout",
     "output_type": "stream",
     "text": [
      "| _||_| |__|____|_  |_ _|_  __| _||_|_|____ |||_||___ __|| |_| ____|||||___ ___|| ||_|  _ ||||  |||__ || |___|__||____|__ || _|| _||| |____ _||| || _ ____|_ __||| |_||_||  |||__|_|__ | |__ |___||_| ||_ _ ___||||__|| __|  ||||______|_||__|_| | |__ __||_| _|___ ||||| ||_|____||||_|__ _| || _ ___|____ _ __|__|| _ _|| ||  __  |_||| _||_ _||__|___|| | __| | |||_| ||| _|||  |__ _ ____|_|||_| _||_____|||| _|_| |___|___|___||__|||____|__||_||  _|__|_ _ ||__  |__ | ||_ | _|| ____  _| _   __  ||| |  _ _|_ | _| ||_|___|_ ||_||  |||_  _ ||  ____|___ _| ||_ _|_ ___ _||_ |_|__ ||___ ||__  ||_ __ ||__||__| _||_| __|__ ||__|   ||_  ___|| | __|| _|  _|_  |_|___ __|____ _|_|_ |_|_|__||  |_|_______|_____|_||_||__|__|__ ||  _|_||||||___ ___ |_|_ _   |__|__  _ __||_|_||_____|_|  |_ _||__|__  _________ _ ||| ___ | |   |||||| |_ |__|||_ |||||_| __ |   ||__||_|_|||||__|_ _ | _| ____  __|__|_|| ||_ ||| ____ |_ _|_|||  _||_|||___| _|_|_ _||_||__| ___ |||____ _ |||  __|  _ _ _| ||||_|_|_  ||| _|_|__ | |_||_||_ ___|_|| _| _|||_||__|__| |_ ____|_|  || |_| _| _|_|__|__ ||__|||||||| ___ |_|_|_ |     __|||__ ____ |_|_   ||____|_|  ||____||_ __|__|__||__ __ ||||  | ||___ _|__ _|_ _ | __|__ |____| |__||__ | _ __|___ __|___|_|_|_|_||| || |_ |_||_|___| | ||| |_||||  __ |__|||| __||||_ ||__  ||||_ ___| |   _ _ __|||_||_______| _||_|| ||| | || |_| _ __ |_ _||| _||__ _____|_|||__|___|    |__|_ _ |__|__||||||  _  | ___ ||  __||| _  __  __|__|_ __|_| __  | _|__||| _||| _ __|__ __| ||_||| _|___|_ |___|_ |||_ ______|| ||||||   |_||_ _|_______|__|_| |_|||_  | __ ||| |___  | |_ _|__||_|_|_|__ |_| |_||_ |_  _|| |_ _| _|_||  |||_______  |_ ||_|___ _||||__|  _|_||  _|||_ _____|||_||||__|_||_|_|_|__|| |__| || |_||__ |||| |_||| ||| __  _||||||||| |___|  ___|__ | ||_ ||_||| _ | |_|_|__|__|_||___|| _| _|____ _||_|| |_ |||__|  ||__||___||||__||_|||_ |||| _||__||_ |||| __ __| |_|||_|_ ____|||_ |__| __ ||  |_ _  |  _|_ | _||_|___||| ___|__ _| |_||| _||   _|__    || ___ __| __|__ | |______||  _ _|_|||_| _ __| __|_ | _|___ ||_____ |_| _||||___ | ___|_|| __ | ||_| ||| _  _|_| _ _ _||_ _|  ____|_||__| ||_|_|| |__|_|__|__||| ||___||_|_|__|___|___ |||__||||___ ___||__  _|  _|| |__|| _ ||__||__ _|___|___|||_|___  | ___ ______|_| ||  _|__|______ || |__||_|  __| __|___||_|_||||_  | | ||__ |_|_|_||_  |||__ __| _|_||_| ___ _ __  |||__|__ |___ | |_|||__  | __|_|__|| |    __|||__||_ |___ ______| __||_|||_||_  _|_| _|_|_||__ |__ _ _|_____ |___||_||___ | ___ _ _|_||_| |||||___ ||_| |_|| |_ _||_||_|__| |____|_|_|_|__ ||||_||_|___|_|_||__ | _ _  _ |__  |_||| |_|__||| _||||______ |_|||||_|_||____||_|__ _||__||_____ __ _||_|_|| _||_ _||__|___|||__  _|_|_| |_|_|____| |_||____| __|||_|   |_| _|_  |_||_   _    |||_|__|_______ __||_| _||_| |||__|  |_||__|_| |_| __ _|_| ___  |___ |  _ | | |_||__||||_________||__ _  ||| ||_||_|__ _|__||_ ___||||_| |__  |_ |  ||__| _ __   |_|_   |||| | _|| _||_  _||  ___|_|_ | |_||  ||| __||_ _||____ |_|_   |__|_  ___ |||  _| | |_|_|_ _  | __ |_|   _  _||_  ____ ||_____ ||__|| |_ _ |_ |__ |_|___|||__| _||||___ _|_|__| ||  _|  |____  _ ||  |   | |__ __  ||_| _|_||| | ||   _|  |  __ |||_|  |__| |_|__|_|||| |__ | || |_  _ _|_  | _ |_ |_|_|_|  __|_ ||_| _| _|| _ |_ |_ |__ _| ||__|_|| _|__||||___ | |_ ____ _|||_  |||  ||_||__ _ _ ||_| |_  | |_|__|__ _|_ |_||___ ||||__||_____ _______ ___|_ _ ||  |__||| ||___|_|___|_|_|__|||_|_|_|_| _|  ||________|_|___|__| _||| ||| ||  |_| _|____|  |__||_|_ |__| _||____   __||___  _||__ |_|||____| __|__| _||__|_||_|_|_|||_ ____|__| || __| _|__  _____|| ||||__| __|||__|_|||_||_|  __|___|__ | _| |_  _ ___||_ __| _||||  __||__  |_____||__| |_||__|| _ ||_ _ _|||_|__| _|_||__||||_|    _||| _ ||_||_|__|_|_||||_||||_||_| |_ ___|| _| |_|_| _ _||_ ___|__|_|||_|||||_ ||_|_||| |_||_|| ____||__|_|__||||||__ || || __|  ____ __ ||__| _| _|||__|_ __|| _||___|_|  |_ _  __|||_|_ |  _|| ||_||| |__ _|||_  ||_|_| |___|_| _|  ___|_|||| |_||____  _|___|||||||___|_| _ _||______|____ __|_ |_|_ __|_ || |_|||__   |||_ | ||_|_||||||__|||_ ||||___  __|||||__|_ || _||||_  _|| _||| _|_ ||_|_|__|_|  ___   ____|___|| |_|_____ ___   | |||___  __ _ _ _||__ _ ___|___|||___|__  __|  ___| _ _ _|_||| |__|__|______|_ |||__|||_| |    |_ _|_   |_|__| | _||__| __  __|_||_ |__|||| _ |__ |_ ____ |__ |_||__|||___|_ _ ||__||| ______||| ||| |_ ||_|||__|_|||__|_ |_ |__||____|_ ||_  _| |_ _|_|__|_ _ ||  |__ ||___||| _____ _|__| _|_ _|_||__  _|__| _ _  _||_||__||__  ||||___ __|| ||| ||||_ _|__ ___|__| _ ||  |__|||  |||___| ||_|_ || |__ ||||___|__ |_||||_|||_ ||_|_ _____||___ ||__ ||_||_|___ _| _||||__|_||_|_|___  ||| ___|_|__  _|____|_|__|||| |_ |_|__  __||__|_ || _|_|_| |__| |_||  _ __|_ |_ |||| | ||_||__| || ____|_   _|_|_| _||_|    _ |||_|||_||| _||| |_|____ |_| |_ _  |  |__ __ | ___ _ | |_||__ _ _||||||| |___|_  ____ | ||__||| ||_ _||_|   |__|__| _ __||__ _  _|_ __  |__||_|_|_ | ||||_ |_ __ _  _ ||||||_||_|__|||||_||______||__|_ __ _ _|__|  __|_| _ |___ __|||_||_|_ | __|  _||_|___|||_||_||_|__|||||||_ ||||| _|____|_|__| |||__|_  _|||_  ___ ___|_| |_||___|_||_ _ _ | |||_|___ ||  ____|| | _|||_ | _| ||||_|_ |||_| ___||_| | |_ |||_ |||||_|| |_||_| |_  |_ ||||__ __ __  |__|||__| _|__|__ _| |_| ___|____ __|_ | _|__ |__|||__|| _|||||| || __  |||__|_||_ _|_| |||__ _ _|_____ ||||| _|||_    | ||__|  |||| _||   ___|  |_| |_|__||| ||_||__ __ |_ _|   |_|__ |_| ||___||| _|| ||__||||_||| |_|||_ |_| |_|_|||_  _|____|__| _|____||_  __|__|_|_|__| ___|| | _ ||||| |_|  _|__|____ |||___|_____|||__|_| ___||__||| _|  ||___|_|__|_  || ___  _|| |||_ __||||||__ __||_|_||_||||__ _||____||_ __ |__||__|_| |__|_|___| _|_|| |  |_ __ _| _|||_| | | | __| |_____ _ ___|_ |_| ||_|_|____ |____ __ ||  |_ ||_||__|||||||_| || ___ _| |____ |_||_|_|_ | ||_  _ __|_||| _|_|_ |__ _|_|__ ____| | |_|__ _| |_| |___|_|_ | |__||__|  _|__| |__|___| | |_  |_||__|___|  |__||| ___|| ||||||||| __| | __|___||| _|_ |____| __ |_ __|_ | _____ |_ |__ | __||_ |__|_____  _|_ _| |_  __|_ ___ _|_|| _|_||||__|__ _ ||__|_| ____  |__| ___ |||_| |__|_||_|| _|___||__ ___|_|___| |_ __ __  _  |__| _|__ ||_|_ ||||_||  _ _ __|__||||| __|| |_|||| |   _ __|| _  || _ |_____||_ _||_|__|___ |_ ||| _ |||| ||__ __|__ __|_ |__| _|||_|_ _ | |_| | _|||_____|_||_ |_|__| __|_|_ |||___|||_ _|| ||_|| | __|| |_||___|| _||_ |_ __|_ | ___ _|| ||| __|| _| __ |__ |  ||_ ___|__  |_|_||||__ _  |___|_||_|||__||_|||||_ _|_|_| _|_ _  _| |||| |_| |__||___|||_____ ||__|_|_||_ ||||_| | _||_ | || _|_|||__ __ |_|_||  _| | __||| _|__|||||||| _ |__| _ |___| __|__ ___|_||_|_____ _||||_ _|___||_| ____|||__|||__|| ||||_ |_|__ _| ___|_ |||_  |_| ___ _|   | _  |||  ||_ |||_|__|_ _|_|_|_||||__| | _ |___| | ___|  _|_ _| _||_|_ _||_ __ |__|_| __ ||||  ||__| |_||_| __ |__ |_ _|_|_ |_||_||_|__| | |_| |||| _ |_|||||_|__|_||||  | ___|__|_ _ __|_ |_||___| _| _|__|____  _|___|| |__| ||| _||||_  |_ _|__|__|__|  ___|| |||| _ _ _|_ ||_|_ |_|_______||___ |_ _| |_ __|  |||_  _ ||_ _  __|__||_| _|_____| _|_|__| _|__|||_ __|  _| | _|_| ___|__|_ ___||__|___|  | _ _ _|   _|  || _| __ _ | _||_|__||__|___|_|_| ||| _||_|__||_|  |_|_|| | _ | || _ _ _  |||| ___ | ||_ _|||__ _|||||_ |____|__||__|_||_|||_____|____||__|__| _   |_|| |__|_|____||_______ _ ||_|||____|_||_|__ _||_|| _|| ___ _ |__  ||  _|||____ _|   __||_  |____ | ___| ___||__ |__  |_|| __  _|___||| ||   ||_|_ _|____|_ _ _|||_||  _||__| |__ _||  ||_ |||__ __| |_ |||_|_|_____  ||_|||  _| _||||_  |_||_  |__|||______ | |_|__|_  |____|||_|_|_|_|_ __|___| __|__||_ ||| _|_||__ _||||||_|__ __|______||| _||||    |___|_||||__ _|||||||||_|_|______|_||__ __||_|||||||||  ||__|||___ |_ |_||_||_|_| |_ __||_ ___ ___ ||  _  _|  _ |____|  __| |||||__| |__ ||||| | _|||||__|_| ||___| _| _||_ __|_ _||_|_|||__|||||_| |_|_ |__ _ |_|| ||_| _|_|| _ _|||    __   _| |__|__|_||_|_ __  | | |  _|||||_ ||__|| | |_| ____| || __||_|_ ||_||_||| |__|___ |_| ||| |_|   || ____||__| _______| _ _||_ _||||| _ _| _|||__|___|_   |_ _ ___||||_|||___ |__|_ ||| || __|||||| |__|___| |_ |__||_||| |__|_|_ | | _| _|__|_|||___| | |_ _| |__  ____|____||| ||||_|__|___|||_ |_|__| |_||_ _  _||||_|_|   __|||_  |||_ _|_||___|_|   __|||   |||__|_ _| ||__ __||||_  |_  || |__| |_|||| ___||____ | _  ||| _|_ |_ || _|_| ||_ | ||| ||______|___||| _|___ | |_||_||_ _|_|__|  |_|_| _|  _||  _  |_____| ___||||_|_|| |__  |||_ |_|_| _||  _||||___||__|____|_|__|____|___| | __|||| ___ _  |_|| |  _ | ____||_ _ ||_  ||__|| |_|_ __|___||  _ |_ |__|_|_|||| ||_| __||_| | ||_| |_|_||||_ ||| _ |||__ _|___|__||__||_|__|__||| _||_ ||_|| |_ _| __|| || _ _| _|___|   _  _ |||||__|__ _|_|_|_ ||||_|_ _ | _ |_  |_|  _| _|||  ___|_| ||___|||__|||||___ |"
     ]
    },
    {
     "name": "stdout",
     "output_type": "stream",
     "text": [
      "_|__ ||  __||||| _||_|| || _ |||||__  __||_||___||||_|_|||__|_  _ || ___|    |||__ |___ | |_|__|| | _||_ __ __|| ||_ _||____| _____|_|||| |__|_|||_| ||| _ |||_ |__|_____|||_|_  | __ | __| |||_____|____|| _||_ | |__|_| ||_  ___|_ _|_  _| __|__|__|||_ _|| ||||_____|||  | |_ |_| _ _  ___|| _|||_ |_| ||| ||___|||_|_| ||__| | ___|||_ | _ _|||_|_|| ||__ _|  |_|____|__|||  __| _|_  ||_| |___ |__|||_| ____| |_|_|_|___||_||| ||||_  |_|____ _ |_||||__|| |___  | |__|____|_  _||_|| ||_|| || _|__|_   _|| |_| _|| || |_|_||_ ||_ _ _ ___ _| |__|_|___|||_||||_|| ____|| ____|_|||___ | || __||____||_| || | _ _| |__|_| |___|   |_|  | || _| _||_|||| || |||||_ _____|____|| _|_|_|______|| _| _|_|_|_ _| _|___ |_ __||_ _||  _|| __ ||| |_|_|||__ |  __|___  | |||__ |_|_| ____|  ___   _|_ || _ _||||_ _  _|_|____ ||  ||||__||_|_  || ||||_||_||||_ _||||_| |_ __ __||| |  ||||_|_||__|_ _ _|__|  _||_|_ ||||___|_  _ ||_ _||_|_____ _| || _|||_|___ __| | _|_|_|||___ ||_ __|_||__ _  __ ___|| _||  |__  _ __||__| || ||_ _|_|_ |__ _|_| _|| __|___||_|_ | ____ |__|__| ||__|||_  ||____  |_|__|_|_|_||______ _||___||||||||_|||__||_||__ |_|_|_| |  | _ ___ ___ |_|_| _| __||  ||___ _____||____ ___||_|||_ _|_||__ _  |__ __  _| |__| |   _||_ | _|||___ _ | |__|__||_||_| _|||   |__ |  _||_|___| _ ||  |_|||||_|_ _|_|_||_| __ | __| ||_|_||||__  |_ ___  _|| |  _|_||_ |||||____|_ _ _|||_|_|| |_||| ||||__|| |||||||_|||_|_|| |_ _|| _||||__|_|__|| |_| _||| _ __ ___|_ | |___ _||____ __||__|_|___ __ ||__|___||__|_|   _ |_ _||__|__|||_ ||_ | |__ | __ |_|___| ||__|_ __|_||_|___   _ |_|__| _||__|__ ||||   | |__    |_|__  ||_ |____| |___|_______|_ | __ __||__|__|__|| _|_||| ||_____ || __ _|||_||||||__||_|____|| |_  _|__| | ____|||_|__ __| |_  || |||__ __||_|_|_ __ _  _    _|_||_ |__ |_| _| _ _|__ | |_| |_ _||__||| _| || |_ _||___|___ |_|_| _|_ _|||_||_|||| _ |  _ |___||_|||||_ |_||___| ____|||_||_ __ _ ||| _||___||_|__||_|_ | __ _|| |_ __ ||| |_|||_||_ _|__|||_ |_ _| __|_|_|||__||  |_| |__ |||_||||__|_ ||_|_| |_|_||_|||___|___|__|__ ||| |_ _  | |_|_|__  |  |___|__|||___||______ ||_|_ | ||__|_|||__|| || _   __ __ _|_|_||_|_|   ____||||_||__|__||||_  _|______|___ |_ _||||____|| _ _   ___ | |_  |_ ||_ | ______| ||| |___| __ |_|__  |__||_ || |||_|_ |__|____|_|__ _||||_|_||___|___ |  |||  ||_|_ _ ___|_|||||_ ||||_ _ |_| ____|_  _|||__||___|||||||___||_|__ ||_| || __|||| __| ||||_ _|| |_____ _|  ||_|__| __ __|___ _| _|_||_ _|__|_|___||__||||_  | |_||_|_||____|_|_||||||_|__ |_ _ | _|__  ||||_||||||| _ __|_|| _| |||___|__||| |_|||| ||__ _|||_||_ |_ |__|_ __|||_| ___||||___  |__||||||||||_|||_||| __ _|||____| |_ ||__|||||_| |_|___||| |_____|_ |___ |__|| ___||| |_||_ |_ |_|_|  ____ _|_||  ___ ||_|__  _ |_|||___|_| ||_ || __|_ _||__|__ _| |  __ _||| ||___ |__   _||_  | |_| _| _ _|||_| |_|__||_ _ _  _||||__ _|||| | __|__| || _| ___| | ___ | _||_ _|_| |_|_|_|__ |||___ | __| _|_||__| _ _|_|______  ___ _| _|_ ___  | ||___ __| __ ||| __|___||||_||| _|_||| _ _ _| |__|_   __||__||_||| __||_||_ | __ _ |___|___  |__||  __  | __ __|_ __  | _|_| _| |__|_||_ ||________|___|_|_ |||_||||_|||_ | _| _| __ __|| |___|||_____| |___ _|_|| ||  _ _   _|____|| _ |_|_  _ _| _ |_ _|_  | |__||  || |||  _ |_||_|_|_ |__ |_||||_| |___||_|___| _|_|__|_|_ _||||| ____ | _ |_____| _||    _|_|  _ ___|||_||____||||| || __||||_____||_||_ |__||_|_ _|_|| _  |__|||| ___|_|||_  _ |||_ |_||_||_|__| __ __ || | _||_|| ___ _ __  |_ ___|_  _ _|__ __|_ _|_ _|__|__|| || |___|_||| _||___| _ _  |||__||_|||||_|_|__ _ |||____|_ _|_|_|| _ __ _|| _|  | _||_ __ ||____|____| __  __| |||__ ___|||  __|||_ _||||_|||___|_|_||__|___  |   |_| ||||||_||  |___|  |  |___  ___ ____||||_|| ||_|___|||__  _||||__ _    ||| | | __|_|| |||__|__||_| _|__  |___ |_ _ |_ _ __|___||_|___ | __ ||____||_ |_ |_  _|_|____||_ |||_  __|| _  |__ ___ __|____ |__|__| |_| | |_  |||_|_|||_ _|___|_ |_||_____||_||||_| _ ||_ _|___  ||__ _| _|_ | ___||_|| _| __|__ |___|__|_|___|||_|||||_|____||____ _|___|| _  |____|_|  __ ||||| |||_| ||  ||_|__ ||_|_ _ _|_ |_ |  __ ||_  ____|_||____| ||_| ||| ||____ _ |_| ___| |||_|||_| | _|_|____|_  |||__   _|___| __||||_  ____|_ || ||||||_ _||_ ||_|_ _|__||| |_|||_|_ |||___ |__|__ __ |_|_|_|| |  |__|  | _ __|_ | __| ||_____|||_|__|| _|__| ___ _ _| _||_||_   _|  _|_ ___   |_ |_ |__| ___|||||____|_|| _ _| ___ _|__|_| _____ ___|| __ |_|_ _|_||__| | ||_|  _||_|||||||| |||__|||_| |___||_|_|_|| __|_| | _ _|___| ||_ |_| |||_||_||| __|____ _ |____ ___| |_|__| _|||| |__ _||||_|___||| __|__| _ _|_||||_ _|||_|___||| ___|__|||  _    _ ||||_|_| __ __|_|||||  ||____  _||| _|||| |__|_  |__|| ____ |   | _| ||| ||__|_|_ |_|_  | | _|_|__|__  ___| _ ||_| _|_|||____|__ _|_|_||__| ||  __||||___||_ _ |_|_|__ _|||__||__||||  _ __ ||_||____|_|  |_| | ____|___| |_| |_ _|||_ |||_||| || _||_ __ |_|____|_ ||_ _|__|___|||___||_ _|__|___ |  _||| _|   __ __ |___ ||__ _ _____| _|___ ||__|| _||__||____ |_|_  _____ |||_ ||_|||_|_| _ ______| __|__|||||||_|||| | |_ | _|||| ____ |_||__|_||||_|_|  |__|| ||| |_|||_|__|___||___|  |_||__ _ ____ |||__| ||_| _|| _| _ |_ ||  _ |_|||_||_|_|| _ _ _||| __|||| ||_|| |_||____|_|  |||___ | __|______ __   ||_||||||_|| |||_||_      ______  ||||||||||_|||_ ||_ |||| |__|||    _|__ _  |_  _|_||_ |||_ _  |_|||_ |_______||  || | ||_  |  || | ___ ___ || _|  ___|__|| || _| |__ __| ___ | |_|___| ___   __ | _| _|__ __   || |||| | _|_|_| _ || ||___|__| _||||_  |||_ _ ___|||_  _  _ |_|__   ||__|_ _|_|___  |__ |_ ___| __||__|_||_ _ __| | _|__|_|||||| |___|_ |_|||_ ____|______ |_ ____||__|_||_||_|  _|_||__|||_|||__ |__|___| __ __|_|___|__|_||_||| || __|   ||_| ||_|___|| ___| _| _||_|__|_ __ ||_ __ || __ _ __ _ _|_||__ |__||||||_ _|_|||  |  ||| ||__|__||_||____ __ | |   ____| ||__||___ _|_||| __|______ _ _  | ___||__|__| _|__|_ ______| |__ _ _||| | _||_| |__ _||||  ___|||_||_|_|  _| _ || ____  _|_ _ _|||_| _ | |||||__| |_|_||||_ _|__||_| | _|_ |_||_|__ ||||__  ____||||__|_ __|||_||_|_|||__ ___ | |  |__  |_ _  |||| __||| ___|_ _ __ _||___ __  __ __| || __|_| | _ |_|_| |_ __||| ___| |__ __||||_____|||_ |   |_| |_|__||_|||||____|_|__|__|_ |_| ___ |__||_||_|__ __||____|| _|_ |||_|_|_ |_||_|||__|_|___|__  _  _  _ |_ _|||__| __|___|__|__|_|||__||| ___ ||___ |__ _|__ ||__ __|_  __ | __|   _|| ||__  | _||____|____|_ |__ ||_ | |||_|_||_|____|__ | _|__ _|||__   __|_| ||| _  __|_|_||__||_| |||___||||__|__|   |_|__|_|| |___|| ||  _ _|___|_||__|_| ___|_ |___||_|_||||__    |__ _ ||||_ |    _  |  |||__|  _||_| ___|___|||| __|_|__|  |_|_|_|_|| ||_| |__  __ |_||_||||  |___||||_|||___   _|_| __ _| _|___|___ ||___|_||||_ _||_ |||| _| _ _||_|_|_|_  ||_|___|__|_|__ ||___ _ | _ |_||  _|__ _    _ ||_ _|  ||__||__|__| ___|__|_   _ |||_| ___| _ _||_|__  |||||_|||| _|||||_ _____|___|| ||_|__|| || __|_|__ ___ |__  __ _ ___|||__| __|  | _ ||_ __| |___ _| || _||_||| |  ___ || ___||_|| |  | __ _|||_______|||__ ||__|||_||__|| __  ||_|_||_| _|_  _| |_| __||||____ |_ __   |_|_||_|__ _  |_|___ |_|  __|__|__ _ |_| ___|_|| _|_||__||___|__||_||||__|| |||_____ _|____|| ||   ||______ _|_|| __||_| _| |__||_| _ |_ | _____|| _ ___ | |_|_| _|_| |__|    __ _||__   _||_||_|_||_| _  ||__|_____| | ||_| || __|__|_ || _|| |_ _  | ||||_|__  |_ _| | |_ |_ |__|||_|_|_||_|_| ______|_|_||____|| _|_|___ ||__ | _  | ||| || ||  |_|__||||||  __ ||__||_ | ||__  _||   | _ ||| ||_ _||___||_ | |  __ |_|_ ||___|__||_||| ___||||__||_  _| _ |  |__ |  |__|___ |_|_||||||_ ___ __|_||||||||__ |_| ____ __|___|_ ||_|_|__   |__|_||_|__|_||| ||__|__|__||__|___| |_||_| ||| _ |____| |_|| |_||||____ _| __ __ ___|||||| _ _|__| _____||__ | ||||__  __||_|_  |_|||_ _|_||_||___ |_||_|||__||  ||___||_| ____    | __||_|||__| ___||_  |||||| _|_|_|_ |  |_|__ |_|_|___ ||__ |||__ _ _|_|_||__|| _||| |||_ _ | |__|||||| _ _|_|| __|_|_|||  _|_| _||_| |_||_||    _|||_ | |_|||_|___ __ |_|__|___| __|_   _  | |____ || _____ | |___|_|| _||  _|_|__||_ __|||  |__||||_____ ||| _ ___|_____|_____|___||||||||_|| |_|___ _||__| |_||||_|_|_| _|___|||____|___|__|_|_| ||_||_| |__|__ ||||||||_| _ | ||| _| |_| ||  _|||||||____ _____ |_|| _ |__|_ __ |||__|_ _ _|| _|_| | __||||||_ ___||__||_|||| |___| __  _||_|_||| | _ _| |__ _| |__|  _||||_|_||__ | ____||_ ||__|_|__||  ||_||| |_||__|| _ _| ||||_  |__|| |_ _|_||_  |__ | ||||_|_||| |___||_| _|_||||__ ||| |_|||__ ||_|| ____|| || |_  ||||__||| ||_|__ ___||_|||_| _| __ ||__ |_||_|__|_| ____ |__|_|||_ |_ ||||______|_|___|  __|_|_||||__ _||||  _| ||_ _ _|_||_|_  |__||_|__  __||||| |||| _|______| |_|  | ||_|||| _|_  _| |||____|||_|||| ___|_||||  |__|__ |_ _||_||_| _ |  ___ |_||__ |   _|_|| _||_|_ |__| _ _| | _|| | __|_||||||||| _|||_| |_|__ ||||___ |__|  |_ __   |_||_||| |_____  __ ||_|||_  _  ___|_| _| ___ | _ ||___||||__ _|___ __ "
     ]
    },
    {
     "name": "stdout",
     "output_type": "stream",
     "text": [
      "_ __|__|__|_||_|_|||_  ||| _  _||__|||||___| _ _____ _  |_ ||||_|__|  _ __||   ___ _||_ ___||__|||| _|_____|| ||_ |___||_||___|||   |  __| _  _|__ __||_ _ ||||___|||_||_|||_ |_ __||_|||| _|__ _||||___|||_ _ |||_|||_|_ |  |  __| _ |_ |_||_ ____|_|||___ |||_||   ||_|| |_ __|||__|_|| _ |||  _|_|||_  __|| _ |_|__| |    || _|| _| |   |||__ __ |___|_ _||  _||  __|_||_ _|| _ __|||__|_  ||||__||_    _  _|__||_| ||  |_|| _|__|_  ____|  _ _|_  __ _|| ____|__| _|||_|| |__| _||_|| |____ |____  ___|||___||||| |_|  __||__ |||_ _ __|___|_____|_||_||  _||_ _|___ _ |_| _____||__| _ __|| |  | _|||||_|__||__|_  ___||__|_| _ ||_ __||__|| ||_||||_|| |||___ |_|||_ __|_||_|__|__ _ _|__|_ _ | __|_|__|__ |_||_|||_|____|____||___|___||_ ||_| _  _| __|_|__|| |_|__| ||_ _ ||_ _ ||_|| _ _|  _ | _|_____|| __| _ _|| __| __||__  _ _|___|_ | ||||__||____|__||||__ _ | |_ _ || _ _|_ | ______  _|  |_ _||  ____| |_ |||||__|||___|_|_____|__  _|_|_ |||_|||__|_|_|  ||||__|_|||_|__|_|||_____ _  __| _|_|_||_ ||_  _ ||||___|_|_ _ |____|___| _|___|__|_|| _|_|_ || _|  ||| |_|___|| _  |_| |__|||__||||| _|_|   _|__|_|_|| _|   || ||_ |||__|_|_|__|_|_ _ _ |_ ___||||  |___|||__|_|||___||__|_|_| __ _ _||__||___ |  _ __|||_ ||||| _| _|_  _| |___|___  |_   __|_ || |_ |||___||__|||_ |  __|| ||  | ____|_||| |  |__ |__ || __ _|_|| __|||_ |_||_|_ _|_| ||_ ||_||_____|||__  __|| |||_ ||||||_ |_|  _ || _ _ |_||___|| _||___ __|_||___ _||| ||___|_ |___||| _|___|_| _ _ |_|__ _ | __|_   | __ |_|_| _ _ __|_|_|_____||_ |_|||__|____||__|__|||_||| |_ _ |__ ||| |___||_  |||    ____|__||_ __ ||_||_|_| ||__ ||_ _ |_||  ||||| ||_|| _||_|_ | __| | | ___|_  _|_|| |__|||__|_  __|_  _|||||_||___ ||__|| ||_|| |_|__  |||__|__||_ _ _|_|||_|___||_||_|| _  __|_|||_  || ___||_| ____| |__|__|| ||_||_ |_||_|_|  |__ |||__ | ||__ |__|_  ||_ _|| _ _| |_|_ |||_||_| __||_|_|||_ | |_| |||_|_   __|__|_ |_  _|||||_|_||_|____|||||||||___|  |_ _ ||__|||___|   _||______||     |_| _|__ |__ _ ___|___| |__||||_ __ |__|_ | |||| ||_|||_||_|| _|  __| ___||__|   _| _|||__|___|__ _ __| __|_||___|_||||||_|__|_|_|__|_|||||_|| |_|_|_|| ________| _|_| __ ___ ____|__|___|||__|___|__||__ ||_|||||_|| |  __|_|| _||____| |||| ||||_  || | _  _|||_|  __| ___|||_|  _ ||_ |||_|_ |  ||_ | ||||__|_ _|___ |___ |  ___ |_ _|___||__| _|||||_||||_____|_||| __|_ || _ _||| ___||| __|| _|||__||| _||| |_|__||__||_|__|_  |_|_||  _ |__|_ __ __ _| __| __||__|_ |__|____||_|| _||||| ||_||||____||| _|____||_ _|| ||__| |_ | | ||||||_ | _ |_ ||__|  _ |__| _  |_ |_|_||___|___|||_____| ||| |__|____||__||_| __||| |_|__________|___|  ___ _ __ _ |__|____|_|_|  _|_ _|| _____||___ __|_|| | | |_| _|_| _|_||_|||____ _| _||||___ ____||||  _ | ___|_ || __ _|   _| |_|__|  | ___|_| | _ |__ _|||_| ||  |||__|___ |  _ |_||__|||__||_|_   || ___|_||| ||||_||__|_||_ ||___|___ ||||_ _  |_|_ _|_  _  ||_____|||||___| | |_||_||_|_ ||||____|||| _||||| | ___|| ___  _|  __|_|_| ___ ||_ _ ||| | ___|___||||__|_|_|||_ |_|| || __||_|__||||||  |_|_|||____|___||||__ _||  |_||__ _ |__|___|_ |||___||__||___||  _ |_ |____|_ | _____|_ _| _ |_|| __||____ ||_||_||| | _||___||_  _ _|||_ ||| |___||_||___ _||||___ _|_ _|___ _|_||_ _|_| ||||_| _  _|||||| ||__||_|______ || |_|_____|_|___||__    _|__ ||||||| | ___|_||_||||___ _|_||_|_||__  __ || ___|_|___ _||__|_|||  | |__ | |____  |___ __|  ||_ _| _| __|_  |_||_| |__|_|| |  |___| |_||| |_   |__||__|__|_|_|  |_ __|| |  ___|_| |__| | _|___||||_|| || |__ _ ||__ ___||  ||__|_ _|||_||    _|  ___| _ || __ |_|||_|  ___|||_ |__|||_ | __ _||__ _| | _  ___||_|_|_____|| ||| |____|_| |__|_ ||___||_____|| _|_ | |___||||__||_| |__|   |__ |_|_|_ _||_| | _|_|_  _|____  _|____| _  |_|__|___ |_ __ |__  _  _|_||_ __|_||_|||_||  |||_| _|||_||____| __ __||||| _|| ||_ _| | __| |_||_ _ |__||| __ _ | || ___| __ |||_|_||__| _  __|_||| || | ____|___| _||| |||||| _| |_ ||||_| || _|||||_|||| | __||||_|| __|_|_| | | |||_|__ __|_||||| |_| |____|_| |_| ||__ |_| _|_ || || _|__  __|||_| ||_|_|_|_ __|_|_ _|___| _ _|_ _ |_|___|__| |_   ||||__  ____|| | |_||__  _|| _|_|___||_|__|||_||| | _  |_|||_ | |___|_|  __| _|_ ||_|||_||_ ____|__| ___ |_||||_ _ |||_ __| __|  | ||_ ___  _  ||_ _|| _ _|_|_|__ |_ |_||___| |_|| |_|_| |||_| _|_||__|  |_| _|| _|___ ||___|| _ _ ___| _|__ ____ _|__|__||_ | _|||_|_|||_ _| |_|___||____ _ | _|_  ___ ____|___|_||_  _ ||__| |__|__|| _|_____|||| _ | ___| _||||_||  _|_|||_ |_||______||___|_ ___| __|_ _|_| _ ||_||_| _| _|_|___||| ||||||_||_|___| ||__ __ | _|  ||__ ||_|__| _||_ ____|__|_  ||__|||_||_ ||  __|  ||___ ____ || |_ _|___ ||_| _|__|_||___|____||_|| |_|___ _|||  _ | ||__||  _|_| |||||  __|_ |||  _||_|__|___| ___|||__| |__|||__|__|||_ _ _| _||_ |_||__   _ |_|__|||  |_| _ __| ||__|___| __|__|__|_||_____|_ _|_ | ____  |_|||____|_|  ___|||_||_ _|   |_|___ ||__||__|_|_|_ |_|||___ _____|__|  _____|| |__|| _____|__||_ _ | | __ || | ||||_| |_ || |__ |__||||___||_|__|_____|  _||  |_| |_|_|_ _ |||__|   ||||_| |_ _| | |||__|_||___|||_|||| |__||||_| |_| ||_|| |_|||_|___  _|||_| _||  |_|_|  __|__ |_|_|_ |__ ||____ |__||_||_| ||__|||__||_| _ __| __ |____  _|_|_|| __|||_||__ _||_|||_______|___ |__ |__|| __||| | _ || _ |_ __| | _ __|  ||| _|||||_|||__ |  |_   || |_ |_|__ | ___||_|| |__ _||_ _||_|__  _||_ _|_|_|_ |_|_| ||| | _ |_ ||||| |_ _|__|_||  |_|_|| | _|  |__| _|_ __|||_|__|__|||_|_|_ | ____ | ||_ __| ||___ __|  _|___||_|__||__||_ _| __ |__|  ||_ ||__|||_ |_ _ || ||  |   _ ||_|_ |||||||||_| _|__| _ ||||_|___|| |||  |___|||_|||_ _ |_||| | |_|_|_  ||_|_ _ __|_||||  ||_||_|||| || __| _| | __| _ __|||_|_|_ _||__  |__|   _ |_||| _ _ __|||_  _|_| ___|__ _| __||_||__  _ _ __||_|_|_|| _||_| _ __ | |_ __|_|_|__|__| ||||__|||||_ | ||  ||||| _||_ | |  _| |_|    _||_ ____|__| |_ |_||| _|_| ||||  _| ||__| |_| _||__| ||| __||||| || _ _| | || _| |||_ _ |__  ____|__ ||||_ __|||__|| | | |__|__|_||__|_ ||_ __|_| |__  ___| ____| |  ||__ | ___ _|  ||_|__|__ | _ _ _ ___|   |__  _ |___ __ __| __ |_ |||_| _| __|_ |__ |||_|| _____|||_|___  ||_|  _||___|_ || __ |_|_|_|_ _||||_ _|_|___|||_|| _| _|___|||______|_||_||_||||_||| ||______ _ _ | __||_ _ |_||__|__|____|| || _|  _| |__|_||_|||||||| _ |__| ___ _|     | || ||_|||_|_|_|_| ___ ||__|_|_ __|___  || _|_|__ || | ||||_||__||__|_| | _|| _ _____ || ||||_ |___|_||_|___|  |||___ __||_| _|__||_|_|_||  __||||  | _||  _____|__ ||_|__|_|||  ||_|_| ||____ _||_    __| | |||___  _||||_|_|||  | || || _|||_ ___|  |_ _  |  ||_|_ |_____ | ||||||| _||__|| _ |__ _||__    |_ | ||_| __|__|_ __|||_| |__| |_|_ |  __|||| _ _|| __||_ ___ |____  _|_ |_|_ |__ |||_ __||||||__|____|||______ |____||||_||__|_ _|||| |  |_  |__| __||__|_ | _| _|__||_|__|_| __||||_ | _|    || _ |_|||_ _ ||_|__||__| | ||_ __ ||_|_|_|||  __|||  |_  __|__ | |___|||_ ||_||  _ |_|__||| _||| | | |_ _|_|__ __||_||   _ || |_|__|| | | _||_  ____ | |||__|_|_||| _|| _||| |_ |_| __|_ _ ||||_|__ _ |||_| ||  __ ___ |_| ||_ |  | ||||_| | _ ||  || _|_||___ | __ __|_||_____|___|__||_______|_ |_|___|_|_||__|||__|_____|_ |_|| _ _||||  |_|__|___ __| ||_ | __|_ |____|| _|||__ || |_  |_ ||____| _|||  |_||__|_|||_||||_||__ __ _|___ |_  ___|__||||   |_|_ __ |||_____|||| | |__ ||_|| _____|__ __  _|  |||__||_ |__ |_ _|__|||_ || _|__|_||_||_ _   |_ _|  |__|___|||_|_|_| |__|______ _|_ __ __ ___|_|____ | _  |  _| ||_|_ _| __ _ |_||_ ___   ||  _|_||||| _||||||  ||_| _||__  ||||||_ | __ ___ _| ___|___ _ |_____| _||| _|  |__|____ | _|_|    |||  _|||___| |_____| ___|_ __ _____ _|_|___ __ ___ ____|_|_|| |_||_||__| __||___|___| _||_|_||||_||  _| _||| |_|||  _|||||   | _|_|__||| _____| _ _||_|_||____||||_| |_|_ _|____||_|||_|_||| | ||_  | ___ |__ _||||_ ||____ | |_  _ | _|_ ||_| _|_|_||  __|__|||_|___|__ _ || ||____| _| _ _|_||_ _ _   |  _|_ _| ||  _ _ |__|  |__|_  __  | _ _| |||_|__| _|__|_ ||| |_||_ |__|___||_ |_| |__ __|_||___|| _|_ ||_|_ |  ___  | | _   ||||||__ |__|___|__| __ || __|___|____| _| _ ||||__|_ _|||| |||_|||_ | || |_|____|_ ||||_||_|__  ||| _|_| _|| _ ||__ __|||_ |_| __   |_ _ ||__|__|_|__ __|_|_ ||_ _|____|_| __ ||_ | | |____ |___|_|_|||| |__| _|_|_ _|||_|_|____|__ || _||_|____|_||__||_|__  _  ||__| _||||___|_|_ ||_|__ _| |__ __| |_|  |_|_|_  ||_||||______|_   _ _|| |_ |_ | _|___||_ _|_ |||_|||_ ___ |___ ||||| | |_  ___||_|__||||_|___|__|_|____|_||||| _|||___ ||__||||__ ||_|||||_||__||___ _ |_ |___|___| _|| _||_|| _ __| ____|  _|  __ |||  |_ __ |_|_| |  |_ || |||_|__|_| |_| ____ |_| |_|__|_|||||||_|_|__||||||||_|___ ||||||_| _|_ _| _____||||_|__||__| _||||_||___|__ _|||||__ |__| _ _   |_ __|__|__ _||_||___||___|||_ |_||| _ ||____|||_| _| ||__ |_||_"
     ]
    },
    {
     "name": "stdout",
     "output_type": "stream",
     "text": [
      "   __ |____|||_  __  |_||____|__|_||_|_|||________ _|__|__ | _ __|_|||__||_| __|_ ___ __|| |__|_ _ _| || _ _   ____ __||||_| _|  _| |||_| _|||  |||   _|_|||__|_||_ ||  __ _||___  _|_ _|| _ _ |_ _ ||| _ |_|| _|  |_|__| ____| |_|___|__ ||_||||| __ _|| _ || |__|__ _|_|__ _|_ _|| _|_|__||||__ ___|__ | __|| _ ||_|_  |_| ___|||__ ||__|__ _|___||||_|  |_|_ __ |_|____| ||   _|   || |___|__||||| __ __|_ ___ _|_ __| _|| |_|_|_|__ _| | __|_|__| ______|_|_|_|__ __|_| _|____| || __|||||| | __|_|  _||____|_|__ || |_|__| __ __|__ |_|||| |_|| |_ _|||| |__|||||__ _ ||_|__|  __|||| |_|   __|_||_||_____||||| __ _|  __|_|    _|____| |_ ||| _|___ _| _ ____   ___|  _| |_|__ |___  __||  |_|_ |  |__  _ ___|_ |__|__ |||||_ __ _ |  |_| |_|__||| |_ _|| _ _|||_| _|__| |||_ |_  _|_| _| __||_||_  |||| |__ ___| _|_||_|______||__| |____| _ _____|__||||_ |  _  |_  ||||||__||_|_||_||___  ||_ |_|_||||______ _|_ |_||_|_||____|_  _  |__| _|||||_  __|_||_|__|_|__||||____|  ||___||_|__|__|| _  _ |_||__|____ |||||______| |_|_  |__|||_ |_|_||||___|||_||| _|__||| __|||_ |_| __  _  ||_|_  ||  _   _  _| _|||_|___|_|| ||  _ _|| ||__||__||__|||__|_ | |      | |_|_____|| |__||| |__|_|||_ _  ||_|_ _ __||_ _||| ||| ||_||__|| ||  || __|_||||_ _| _| ||| | |__|_| _ _|_   _|_|_||||||||_||||_ | | |||__|__| | _||_  |||__ _|__|__ || ||_   |||||____  ||_ || _| _|____|| _| _|_|_||_|___||___|_| |_|_|__|__|_||_ ||_||||  __   __ |_ ||||_ |||__|_||_||__|_||_ |_||_ | _| _| |_|_||_  _|| |||||__    |||_||_|_ || _ || _|______ | | |_ __|__ _|||||||___| ___ ||||__  |||_ _ ||_____||__ ||_  _ _ ||__|||_| _|__||_|_|___ | _||_ _| _____| __|| |__|||__ _|||__||_|_|||  |||____| |_|_  __| ||| ____|   _||_| _  _______|_| _||__|__|  ___ __ ||||_______   _|_ ||||| |||__ || __|_|||||  _ |||||_ _|_ _|___| |_ ___||_|__| |____|_ |_ _|  _  _|_||___|||__| |_|||__|__  ||____|__|_|  |____|___|||_____|_ |||__|_ _||||| _|___  ||_|_|___|__ |_||||___| ||_|  ||__|__|  __|____ |_|||__ ||_ |  |_ __|_ ||| __ __ |  ||_|____|__  _   |||| ____| | _|_ _|_    |_||||||_____ |_|||_|_| _|___|_|_|_  |_|  | |_||||| ||| ||_||_|_____|_|||| ||_ __||   _||||_|____ _|_  __| ||||_   |___  |_||||_||||| _ | _ ||__|_||_| _|_____|___||||  _|||_|_ __ |||__| ||| _|_| | _ _|____|_|__ __  |_ |_| || || _|_ | |||||||| ___   __|| __ _||| ||_|__|_|_||____||_|____ _ __|| _||| | _|| _|_||_____|_||_  |||_____ |__||_|||_|_ ___ |||_ _ _  _|_  _|______|  |_ _  |_|_||_| |_|_||||______|||___| _ ||| ___ |_  |__| _||__||_||_|_|||||| _ ||||_ ||||__ |_ | _|_ |||||_|__ ||| _  ||   _|  _|_|____|||  _| |||_  |_ ||||||| __|_|_||___||  _|||__||_|__||_|____ |||__ _|   __|__|_ _ _ _||_ _ || _ _|||||_||||__|__| __ _|_|____||| |_ __|_|||_| |_|___|||| |_||  | ||| _ ||| __|__|  |__| ||||||_ __|_|||||___||||_|_|__ | _|  ||__|_| _|_ ___|_|__|  || _|||||||||__|||||_ ||| _| |____|_ |||    __||____| __ |___ | _|| ___|_ __| _ |   |_|||__|_____|__|___|__ _|| __|_|| ||_|_||__||__|_|____|_||__| |_|_|_|_|__ ||__ _ |_|_| |_|_||__ |_||__|_|  |__ |||_ |||___ _||| ___|__|||__||| |__|| _ |  |__| | |__ ||||_ _||___|  ||__|||___ |_|||____||__|___| |||||| |||_|_||  |||__|_|_ ||_ _||_||_  _|___|__|__|_|    |_| _ _ _||| __| |  |_|___||||__||_||___|_ _ |__| |_|_ |||_||_||_ _ _  __   |||__ | |_|||_|_|_|__|   | _ | | _ | __  ___||_|||_|||__||| |__ _ | _|_||_| _ _|_|_ ||||||__|_| _ ______|_||_| |__ _____| |_|| |_|_ ||__||__||_| | _|| |_|_ ||  |_|_||  _____|  ||  __|_ __|_|_ | __ |_  __|___  _| |_ _|_|_ __|__| |_|||  |_ _| |______||_ |_ _|| ||___|_ ___||||___|___||_||_|| |||_ ||||| ||_ |||| __||_| ||  __|_|| __|||_|_||_ |||||| | __ |_ ||_ __| |_|  |__|__ |||||||_|  __ |||_ ||__||__|__ _|_|___|_| _|_ |__||_||__ || _ ||__|| _ |||__||||_||| _||__||_||||__ |_|  __ |_||__ ||_|| _|||_|__|  _||_| _ _ |__ __ _|||||_|||__|_|_||_ _||_|__|__ __||||__| ||_| _  _ |_|_|| ||_  |__||| __| |___|______ _||_|_|_| ||__||_|_||__|____| _|| __||| __||_|| ||| ||__||| _|_|_|____| _||__||__| __|_ ||   _||||| _| _    _ |_|| _ |__|||__ |__ _|_|__| || _ | _|| ___| ____ |_ |||___|_ _|___||| _||| _ _|   _|||_|| _| __| |||__  _ _|||||||||__||||___|_____|_|_|_|__|    _|__|__| __| _|_ _|_ _ |  | _|| _|||_| _ ||_||_| _|||__ _| ___  _  ||_| | ||__|||____  _ __|  __|_| _ __| ||_ |___|___|| _|_  ||| |_| |__|||  ||_|__|  _| _ |_||_ _ | __| _| |_|||____| ___ ||_|||_| ||___|____||_||||| |  |_ _ __|__|__|_ |||__| _|____||_|__||__|_________|_ |_|_|__   | _|| _ | ____| __|  ||__||___|_ __ |||_| _____|__| |_||__|_|__|   _|__|||_||| ______ ||_||_ _______|__|| _  |____ _|_|__ |_||_|__ |_  ___||_ | _||__|_|||| _ ||_|| _|||__  ||__ |||  _|_ | ||__|_ __| ||_|_| _|_|__||___||__ |_ ||||_||   ||_ ____ ____|_|_ ||  |||| _ |||_|_ _ _|____|||||___| |__|||_||_ |_||| __||_|||_|_ || |_____ ||_||| _||||_ __|_____|_|_|  |__ _|_ |_____|___|| _ ||__||__ |_||_||__|_ |_||  |__||   _ | |_|_____|_||____|| _    |_| |__|_|__||_|_ | |_||_||__ _ |_| _ |_ _| | ||   _|_ __||__||| |_|||___|||___|||__|_||||_ ___ |_   _||___ |_||_   | _  _ ___|___ _|_____|  _|__ |_ _ || |___|___|_|| __ |||||____|  __|_||||_|||___||_ _ _||_ |_|____ |__ |_|_ ||____ _| ___||||_||| |_ | |__ ||_| |||___ _ _  ||_ |_|__||_| |__|_ __|  _|||_ _| |_  _|||_|| _|  |____ |_||__| ___ _ _ |_|_||_|_  ||_||_|||_|__|||_||_| _ |_ _____| __|||_| _ |_|___ | ____ _____||____||_ ||  ||__|||_ ________  |_ | _| _||__|____||_|||_| _ _||__ |_  _| ||  _|_||_||___||||__||||__|__ _ _|__ |||||||_||__|__  __|_||_| |_ |____||_||__|_||_||| |__ __| _|_|_||__|_|||____ _||_|_|__|___ |||_|_||_  ||_| ||___|__|____ ||__|_| _ ||_|_|| _||| ___| ||| ___| | __| |||__|_||_||_||_||_ | _  ||_ __| || _||| |__||_ |_ _ __||___ ||_|  ||_|||____| _|  __|____|||___ _| |||||___ | ||_|_ ||_||_|___||| |  _ __ _|__|_  |_ ||___|| _|||___||_ ||__| |||_||_  ||||  |||__|_|___ __|||||__|_||| |_| |___|   |||_|__|||___||     | _____|____|___||__||__| ___| _ || _| _||| |_|__|_|_  _|_| _|||_ ||_|||_||_ |||__  ||||||_||  | ||  ||_|_  __| ||   |__|_|| |__||  __|  | _  |||_|||||_|__||| ||__|||__|_ _ _ |_| ||| ||__|_||_ _|_  |_ |__|__|| __| ||_|_|||___|_|||_||_|||||___|___|_|___|__||___|| _ __||| _  ___|_|_|_||_   ___ |_|_|_|||_|_|___|||_|  _ _ ____ |||| |____||_| _||  _| | _ ||__|_||_|||  _|| _| | ||_|_|| __ _|_|  |___|_ |____|_|____ _| ||| | _____| |_ _ _||_| |  |||__________| ______|||_|_____||_|_||__ _ | __|__||________ ___ _| || _| |_| _ | _ |_|_|_  ||||_|| _ _ |||| |_|_ __||__|_ _|||__ | | _  ||_| __|_|||_||_| | _ ||  || |  _|_| _|_  _ __ |__||||__|_|_   |__| |__||||_|| |_  _| __|| ||__ |_|_| |||__||_||_|_ || || |___||_||_|_ _| _|_|_|_|||_ _|_|__|||_____|_|_| |____|____| _ |||||_||_|_ __|_| _| _ |__|  |_|  _|_____|||___ ||||_||||_||||_|___|_|||_ _||| _||___| ||  |_|____ __ ___|__||_||  || ||__| _|_|_  _|||| ____|_|__|_  | _| _ |_||__|||_  __|_ |_| _||____ _||__|  | |||| _____ _ |||| __|| _ |_|_||_||__ __|||_|____|___ _|||_| _||__ ||__||__||___||___|| __ __ _ ___|__ _ | _ ||| _|_|_|   _||_||_| |_ |____| |||||| |||____ _ |___|__ || _||  _|||| ||| _|  __  |_|_|_____ _|| ||_||__|__ ___||  _ ||_ _|_|  __ _| _|__|___|_ __|__||____|_|_|_||||| |||_| |__|_ __ _||__|||_|||__|__||___|_| _ ||_|_  _| ___|__|_|_| | ||_ _||_|||||__ __||___  |___ |_|    _|| _ _|| __ |__  _ _|__|   _||_ __ ||_ __ |__|_||__|__ _|_|  _||||| |_|__ | |||__||___ |||__ | _|_ ___| | __ _ | | __|_ __|__ |____||||_|  |_|__|||_|_____|_    _ __||__ _ | | |_| |_| ||___|||||_ |_|___  ___ || |_||_|_ |___|__ ||__|_||_ _|_ |_ _ __|  |_|_ ____ ___||__ _|_ ||_ |__||   _|_|__|| _ |_ ___  | ____|_ | ||__||__  _|_|_|||_| |||__ _|| __|_____|||__|___ ___  _||||  |  | __||||___| _|||__|__| |||___ ||__||   |_ |||||_|   __|_||__|_|____  ____|  __|||_ _ |_| _ _| |||||___  __| _| | |_||__|__  |__|_||_|  _|___ ||| _|_ |_   _||_|_| _||__||| __  ||_ __||____ |  ||____ ____|___  |  ||| ||_|||_ _||__|||___| _ ||__ _|||__  |_|| _____ __||| _| |__|_ _|  |_|_|__||| ___||  |__| _ _||_|_ |_ |_|__|_||| |  __|_| | ||___|___ |||| __  |_ || ||_|_|_____ |_|_||_||_ _   |__|||   _|_ _ |||||||_| | |||__|_ _____||_| |__|_ ||_  |__|_|||_||_| _|__|_ _ ||||_ ||_ _|||_||||_|_ _ _||_||___| ||_| _|__|  |_| |__|  ||__ ||||||__| |_|_ ___|____||_| __ ___ |_|| | ||||_||_| __ _ | _ |  __|||_| |_||||_|||_ | __||__||   __ |_ _| |__  _| ||  ||| _|  |_||_  ||_  _ __| |||||_||| _ __  | |||| | _||__ | _ ||| __|_|_ |__|__||_ || | __||_||__|_|_ _ |||_| _| _|_||_|||| _   _||__||__  |_||_||_ |__ __|____|____|_|||_||__ || _|_ |_|___|__|| _     _|||___|||_ _| __| ____  _|__|| ||_| ___ _||_||||_| __||_|__||_|____ _| _ | |___||||||||||__ |_||_ _| _ ||__|_ |||_|||__ _   || ___|_||_||__|_|_||___ __|| ||| ||||__|||___|||| |__| _||__|_|__  |__"
     ]
    },
    {
     "name": "stdout",
     "output_type": "stream",
     "text": [
      "|__|_|  ||||_|___||  ||__||__|   |_|||_ _ _|||||_|| _||___||||_ __|||_|__  _|_|_|_ || |_||| |_ |___| _|| __| _|||_|_ _||| |__| _|__|  __|||__  _||_||___|_ |_ __|  _ ___||||| __|__|___ |__| |__ ___| | ||||__|   __|___|  _  | _||__|__||_||___|| |_ | |||__|||___ _|__||____  _|| ||_  | | _ _|_| |__  || _|___|||_|||_||  ___  ||_|__ | _   | _ | |_|_|||____| _|   |_ |_||__|_| ||||_|__ _|||__||_||_ _ |__|_ ||______|_| __  _| | |||_|_| _||_ |||__| _|| _||__|_ ||||_ |||_| ||__|_ | __|||____|| |_  ||_||__|||_ || _    |_| ||||_|___|_|__| |_||___|__| _ ||_|| _||   __ _|___||_|___ _| | _|_| _| _ __|  _| |_ || | __| _|||_| ______|| |__|__||_|_|__|||_| |__|_|_| __||___ |  _||_ _| ___|_||||||||___|___|_   _||____ |_||   _||| ___ _ __|__ _||_|_|||_ ||||||__ ||  |_  _|___ |||||| _ __ ___|____ ___||__ __|_ || | _|| |_ _ __|__|  _ __| _ _ | |_|  |___| ||__ |__|||| || |||||___|_|_|_ | ||_|_ _ _|____|___||| ___ | _|__|___|____ _|__||__ ___| || |_||_ _ |||||_  ||_|||| __ _||| ____|_|_|||_ ||||  ||_|||||| |___| || _ |___||__ __|||_ _|_||_|| | _||__| _|_______ |_|| __ __||_|_||_ |||_ |_||||    _|||||| _ ||___|| |___   ___|__|__ _|_  ||||||_|| _|__|_|_|||_| __| _|_____| ____||_|||||||||||_||_|_|_ || _____||__|_|_ ___ ||||_||||__ ||| __  ||| |__|_| _ _| _ || __|| ||___|___    _ _|_ _ | ||_|__| ___||_|_ | _||_|   || _|||___|| ||_||| ||   |  |_| _|_|_| __ |__|_|_||_| _ ___|||  _ |  _|_ |__  || ||_ __|||___ ||_ _ || |_ |||___||_|| |||_ | ||_||||__   |__|____ _  ___ _  _|__|||_ |_|  _||____|____|_| ||___ ||  _|  ||__|| _ _|_|_   | || |___|| |||__|_|__  _||__  _|_|__|_|||| |_|||___|||||_ |||||__|| __||| ||||____||__ |||_| |_|__|||_| __ _ |||_ __  | __ || ||||___|_||__| |_||_|| _|_||___  |_  | || |_|__|_|__ _|_______ |_|| |___|_||||| __|__||| | __|__|_|_ _|__ || _  ___ |_ ____ | _|_|_ ___| _|_|| _ _| ||||| ||___ |_|_ _____ |_| |_||_|__| ||||_|_||_     __  _|_ _|_|___ _|_||| | |__|||| _|_ __ ___|  ____|  _|  |   __||__  | _ |_|__ __ _ ||__| |__||_|_____|_|___ |_ _||_|   |||_||_||__||_| |_ |_|_  |_ || ____ _|_ |___||||_|  ||  | |_|_  ____ ||  _|| | ___||_|_||__|||_|_ |||||  _|_|__  _|__|| _||| |||||_|__| ||_||__| ||| ___ _| _|_|| || ||__|____||||_||___|_ |   |__|___|_||_||___ _||_ _||_ |_|| | ||_ ||||_____ |_ | |_||___||_|| _|_|___ |_ |||_||_  _|__||_|_||____|_|| ||_|||_ |_| |__||_  _____| __| |_ _|| ||_| _| |||_|__|||_||_|__|_||_|___ ___|||_ __|_| ___|___ _| |||_|||| ||___|_|____|____|  _______|_|||__|_  | _|_||__|_ __|| __|||_____|| ___ __||_____|___||   _ |___|   _|| __ |__ _ _|| | |__|__|_ |_|_||||_  |___| __| | _  |_ ||___|_||| __||_ ||__ ___| _|_  |   _ ||_||_ _||__  __  |||| __  _|_|__||____ ______|___|_|_||| |||_| _|_ |____|||||||  _  _  _|__|  |_|  |_ ||_| | |||_||||_|||  ____  |__|_|__||_|_|_||_|__||||____ _||  _ ____| |___|____||  |_||_ ||__ | _| |__|| _ |_|| _____|_|_|_|___| ___ _||____|_|__|| _||_ |__|__|| _| __|_| |_||||____ |_  ||||______ | _ | _||__ |_||_||_ | |||__|  __||_|_|||_ _ |||___|||_|| |_|||_| _||||_|| |_____||_  |__ |_| | |_| ||||  _|__|_|||___ || |_ || |__||_|||||___ |||_ ||| _  ||  _||| __   || |__  _|_ __ _ __ |||||||| _  _||___ __|___||  _ _|_||_||||_ |___||  _ _ ___ |_||____|_ ||| ||  _|__|__||||_ |||_|| ||_ | __| __ __ | |_____  |___   |_||||__| |_|||_||||_||||_____ _ _ |__||| __|__||_|___|_____||_||_| ___ _|__|__||__|___|_| _| _|_ ____  __ |||__|   |__ __ |______  |__ ___|__|_    |  _ |_ _| ||||_ | _||_ | _  __ |___|_____ | |___  |||_   |_  |||||| _ _|_||__ | |___| ___ __||_ ||||_ _ | |__ | |||||_ _||_ |___  |   ______| ___| __| _|_| |__  |__ |||___|_| |_|_ | __||_ _||_ _   |||_ _| _|__ ___| __ _| |____ ____||_|__ _||___||| |_ _|| |||_ |_| |_||_| |____||    __|_ |_ |||||_ |____|||_|___|_ |__|| |||___|| _|||_|_ | __||_|___ ||| |_|_|_  |||__|_||__|_  ___ |_|__||__||_|__ _|| _|____|_|_|  |  _|__ ||| |_ __|||  | __ ___  ___||| __||_  |  |_ _|||||  | | ___| _ _||| __ _|| _| |||___||||| |||___|_|_   | _| |____ |_| ___|  |__||   _  || ||||_|||_||___|  _|  |||  |  | |  ||__|___||_| _||_|_ _|| |____|_ ___||||_ _|_||___| __|_ _ __ __  _||___| _||_|_________ |||||_ _|||____| _ ||_|_|_ _|_||_| |_______||____| _|___ |_||__|_____| _|__||__  _| ||_|||_ __||__|_|||_||_|||__ ||_|___|___|___| |_   _|_|_| |  _| |_|| _____  ____||_||_||_ |___|| |__||  ___||_|__||____||_ _ _  _ ___||_|_  ||  __ | __ ||_|||_ |_ _| _ |_||_  ||   _| |_|___|_|_|_||  _||_||| _|_ ||_||_ ___ || |__ |_||||____|_|||_||| _ _|||___|__|_|_    ||___|||_| _| ___ ||_|  ____|_||__||_|_|||||| |_|| _ |_|___ |_| || _|| ______ ||| ||_ |||__|_|_  | __|||____|_|| ||||| _|| __|___|_| __ _||___||_|||_|||__|_ __|__|_ | ___|__|_ |_|___|  _|_ _||| _| |_| ||___|_|_|||_|| _|_|__ |_|||__|| |_||__|__|_________|_|_ ____ _||_ || |__||____ _||__|_____  _|  _ __  ||__|| |__ |||_ ____|_|__||_|_ ___ |_ __ ___|||__|_ __|  ||__ _||||_||_||_||__|| __|_ ||||_| __  ___| || __|||_  ___||_||||_||_|_ __|  _|_|_ __||__|||_||_|_|_||_|_||_|_ _|| |_|____ _|_||||____|_||||_ _ ___|| _ |____||| _|||__||||  _ |___|_  __||_|_||_||___ |_||_ ||_|_||_| |||||__ _ _ |_  __||_ ||___| _|| | |||| |_|||___ ||||_|__|_||_||_|_  |_ |_|_|_| _||_|____ |_|__  ||___  |  ||_  _|| ||__|_ ___|_|| | |||__|____ _|_   |||| _|__| ||_ ||_|_|||||||||___||_|   __| _|_||_  |  __  ||__|||_||_ ||||  |_|_|_||||_|_||__||_ ||_ || | _|_|____||__||||_|_|__|____  |_|| _  |  _|_|  _ ___||| |_ ___||||| _ _|| _|_____ || |  _| |____ |||__|_ |  __ _| | |_||_ _ ______ _|_|___|___| |___  ||_ _ | |__|_||| ____ |_   ___|__|||  | ___|_|_||__|_|||_||_ _ _|  _|_____ _    _|| __||___ __||_||||||||_ ||_ |||__|__ |_ _ __ |_ __|| | _ _||__  __||__||_|_|___||_ __  __||_ ||| _  ___|_|_|_|||| | |__|||_|| |||_| _||_ __|_ |_ |_|_ ____||| | _||___ ||__| ||_|  _||_||__||| ||__ _ |__ _|_ |_ __  ___|___|_|_||_||_ ____| |_||_|_|__|| _ __ ____||___ _ |_|_ _| | _ _  ||_|_||  |||| |_|  |_ | |_  ||__| ||| __|_ ||___ |  _|___|_ ||_| _|| _|_| || __  __ _|_||_|__ |_ || _|___ |_|___|__ ___|_ __|_ |||__|_||  _||_  _|||____||_ | _|_ _ _| ||_ _|_|__||__|__|__|_| _||||_ | ||_|____||__ ||__  __ _|| _| _|__|__|___|_ _| _ |__|_ _|__|||_||_ | ___ ||__|______  |_ _|_|| |  _  _| _|  ||_ _ || |_||_||__ _  _||____|____|_||_| ||| _ __|| _|||||_| ||| _|_|___|_ __|__  _ || ||_| |__  _ _  |___  |_ ____| ___|____| __|| ||___|_|___|_||| | |_|||__ |_||__| _||_|_ | _|__ _ | ||__ _ |  |___|_ _ |||_|||||||||_| ___|_ __ || _ ___|  _|| __ |||_|||_ ||||_|__|_|||_| ||||  __  __|__  _|_|__| __|___| |___ |_|| _| | | | _ ___|__|__ |__| ___|_||__| ||_|_ | __| |_ |_ |_ | ||__||_||||_  __||| |_ || | |||||_|__|_|||| _| _|||||| _ |  ||  ||___ ____ |_|_|_ __|_| _|_|  _|| |_ _||__| |__| ||___||_|_||_|||  _|_|__  |||||| _|_|_   __ _|__   | | ||_ ___| _| _ ||   ||_|||____ __ _|__||__||| |__  _ _ |_|_|||__|_|___|__|_| |__||_| |||   __| _|_|| _||||_  _   __  _|| |||_  _||__| _____|__|_ | _ |||___| |_ | __|__|_||_ ||_ _|__|_|  _|____|_ ____|__|_ _ ||__ ||  __|_|||__|||   |||_| _||| __ |||||_||__|_|__ |_  |||_| __ || |_ |   || |_|__||_|| _| |||_  _| ||__ __||_ _| ||_ | _||_|___ |_ _____||__|_   |_||| __ _|___|||__|__  _| _|_||_____ __|_||_ ___ ___ __|_|_| | _______| || ||| _|  _|_|_ ___ |__| |_ | _ ||__|_||__ __| ||__|| _|_|__||_ _|_|_|_ _ ___ ||| ||  _ ||_|_  ||__ __|_ || __|___||||||| | _  ___  |_|__||__  |_ || __ _ ||_ _|___  |_|||| || |_|||_| ___|_|__|___ __|____|_|_ _|_ __ |_||_|| |_| |_|| |_|_|__||_|_|_ _ _||_|_|||__||_||___|_ _| |  _ ||_  |_||||___| | |_____ _|||_||_|_|||_ _  __|_|_|||_||_||||_ | |_ | _||_ | ||_|||_|_||  _|  _|||  |__   || ___|_|__|___|___ || _ |__| __|   | |_ | |__|_|_ ||__   __  ||  _|___| _  ||__||||||_||__|||||_| |_ _  || ||| _____ || __| |_|_|_|_| _ |_  _||_|_  ||_|_  ||__||_||||||_| |____  ____||||  _ |_ _ _| ___|| | _|__||_| |||______ ___|_|||__ |||_|_||__| | _ | _| |__|_  ||| _|____|||_ ||__|_ _||||| ___|_ ||__|__|_||_ _|_ _ _ ||_ _ |||__||_| ||  |__|_||| _|_|_| _ ||_||___ _ |__|||||____|_|||_ ||_| ____ _|_|_||||___|_| |_|__ _ ___  |____ __ | _|_  _ _ _|| |||_  _ |_|_ _||__  _|_|__|____||_||   ||__||_|____||__|   ____|_|__ ||||||_|  __|||_|_   |_|__|___|_||_ __|____|_ | _||| _  ||  _ |||__||___||___|__|| __ _ | |_|_|_ ||_____|_ ||||||| _ |||_ || ||||| ____|_||_||__| _ |_|__|__||__||___|__    _|_|| _  |_|____|__||  __ ||_  _|___| _|| |||||||_||_|||_|_| _ __|__ |_|_____ |_ _ |_|_ |__|  ___||_______  __|_||_  __|_||   _||||_ |_||_  _ _ |_||_ _ _||____|   _|_  ||_|| |__|||_  ||_||  |_|||_ _|_ |__|__ ||_____||_____ _|| _|||||_  |||||__ |_ _|_|__ | ||  _||||||_ _ _|  _|______||__ |_ __ | |||_____|__  ||_  |__ |_||  |____|_ || _ |__| |  _| _|| __|||_|| | ||__||  __ ||||||   |_|__  |  |_|||__ __||||_|____  __ |_  _||_|| |_ _|_ _|_ | __|| |_ __ ||_|||__ _|__  | _ |__||_|||_  || ___||| ||_ |||| |______|_| _ |___| ____||||||__| ___ _|| _____ ||||  _|| _ | ||||   ||__   _|_|_||  |__|_  __| _|||_||_||___| |||  _ ___|_|  _|_||  __| _|| __ _ _||| ||_| _|||||| _ _  |_ _|_______  |_ _ |_||||||_ ||______| ___ | || |_|_| _|__|  __ __|_|_||__|||_ _||_|||||__ _ __|_  ||_||||| _||| ___| _||_| | ||_| ||__ |||  |____|| __| |___||_|___|__|||__|_|______| | ||| _||____|____||_ ||____  __||||_ __ |||_ |_ | _  _|__________ __ _ |__| |_ ___|||||__|| |||_ ||||_| ||__|||__|  |_|  ||_|_||_  ||__|||||_||  |_||||_ |_"
     ]
    },
    {
     "name": "stdout",
     "output_type": "stream",
     "text": [
      " ____||___|__||  _|_| _ __|||_|| |||____|_|__|___ ||  _ _||_|| |_||| |______|  | _|_|  |___||_|| | _|| __|_||||_||| |_|  ||| ___ |_  _|| _ |_|_ _|  |__ __|_ |__||| _|| |_||  _  |__ ||||||| _|||| _ | __ _ _|||_  |||_ |_ _  _|  __|__ ___  |__ _| |||| || _|_ |_||___|__||_ |__||  ||||||___||  | | ___  ||__| _ |_ ||___|_|_ ||  |__ _  |  |   __ _||||||_|_|_|| ___| |_ |_|___| |____|||| | _| |_ _ _  _ | ___ |||__ _| |___|||__ _ | _|||||||| _| |_|_ _|__|____  _|_|| |_  _|||||_||___|| _ _ |__ _|___||__|____|_||__|_|| _  _|_ ____|_| _ _||_|__  ___ _|_|_| ___|_   ||_  | |_|____|||||  ____|_|_|_ |_ _ |||| |___|| _  | ||| ||||__||  _||___|| | ___ |__| _ |_|___|__|__|  | _ |||| _||__| _||____| ||_|||__|___ _|__  _| _ |_______| __|___ _||__ ___|_ |__|||_ __| | |||  _|||___| |||_ |_ ____|__|__  __||_  ___||||____ ____|_|   |_ _|___ _||_  _|__|_||_| _|_|__|_|__ |_|| _ ||_|___|||_||__|||__  ___ _|____ ___|_|||__ _   __||____| | ___  ||_|_|||_|_  __||  _ __|_|___| |__| _||_ _||_ __  |__||||||_||| _|||_   |__ | __||_|_||  _|||||_|| _|||||||_|__|| __|_ |||||  _ ||_| _____|_||_| |_|_|  |__||___|__ _ |_| __| _|  || ||| |_| |_|__|||_|| | _  _||__| || | |_|||___|__|_|   ||_|___||_|||_|_| |  | _ |_ |_ ||__ _|| _|| |||  ||||  _|_ | |___|_____| _|_ _ ||  |_||_||  __ |_| |__|_|__   ___|||   |_____|| _|___ _|_|| __|  || |_ __||_|| |____|__  |__||||_|___ |_|__ _|| ||| ||||____||| |__ ___|_|| ____ |||_ __||_|_|______|_ | ___ ___   __|_||_ ____|___|_| | ||____ __||_ ________|  _|| _|_||_|_  ||___ _ |__| __|  _|_ ||__|_||||| _ |||||  _ _|_  _|_||__||| | |__|    |||_ ___|| |||__ || _|_||_|_ |_   __ || __ _|_|||_| __|_ |_ |_| _|||_|||| _  _||  __|_| ___||  | _ _|_||_ __  _| _| __ || ||__|__ ||___ _ ||_ __ ||_ _ ____|__|  |_|___| _ | | _ |__ _  || ||| __|||||||_ | |||___ |___||||  _|| _||_ _ | |___| |_|_ _ _ |||_| |__||_|_|||_|||__| ___|||| |_  _ |_|| |____| __||__|___|  __||__|_|| |______|_| _ _| _|_ |_ ||||||_||__|___ _|__ |_|_| _|| ||___ __ | |_ |_|_|||||_||__   _ |||_|_||||__|_|__|_|||__ __||_______ | __|___|_    ||| ___|__|___||_ _ |__||_|| ||_||_| _||__ ||||| |_|__ ___ __ ___  |__|_  __|||||_| _|_|_|_|_|| |_||_|||||||__ _|__|_||_   __|||_||||_|___|_|||_|| | __||_|__|_ _ _|_____|_|__ |||||_ |||_ _ ||_|_| |_ ||| |||__|_| _| _||_||__ _ _ _ _ _|||__| |||__ _ _|| | |    |  |__| ||_| |_ ___|______|__ |_||||_ _|  |__|__|| |__|||__|_|_||  __|  | ___|_||_|_| _   _| __|_ _ ___||_  | _ ||_||| _ __|_ |__| _ _ |_| |||_|_|_ _||_ |_____|_|_|_|_||_| _ _ |_||||_______|_||__ __|_  _||__ |_   ||___||__|  | ____||_|__ __|_ || __ |_| |||_|__||__  |_  |_|| __ | __| |___|_|  |_|_ ___ _|__|_  |_  __|_  _  |_||  ||||_ _|___|  |_ _____ _|__| _  ___||_ __ || ||_______ |||_|__|_|_ ||_ ____| |__|_|__|___ |_|_||_|__|__ |||||_ |_  |_||| ___|  |||__|__|| __|__ __|__ |||   |_|| |  __|_|_|  ||__|__|__|__||  |||||___|||__|  ___||||||_|_||__||_|___||_||_|||___|| |_____||  || ||_ _| |__|_||__|_|||  | _||_ __ ||__|____ | ||_||__|_ _ _  |__| |__   _ | ||___   _|____   __||_|||_ __|__ |_  |_|__|| __ ||| __|__|_ _|_ |__|___ |__ ___|__| || |||_| |||_ |_ |_||___|_|  __|__|_ |  ||| |___    | | ___|__||_ | |  || _ | _ |||__ |__|_ |||  ||_|_ _ |||___|_| __  ||______|_| _||||_|| _|||_______|| | __| _|_|_||_|__  || _ ||||_|__|_ |__||______ _||__||__||__  _|  ___| _|_||_ |_|_|__ _ |___ _||_|_||_|___|___| |||_   _ __|_ |_||_|_ _ ||  ||||||||__ |_| _| | ______|_|___ __|_||___ _||_|_|_||___ |_|_____||__|_|_ |_| ||| |||||||||_ |_|__  _|| __  |__||_  ____|__|_ |_|_||__||_|_ |   ____ |___ || _||___ |_  _|| |_ |__|__||__ ___ ||||_| || __|__||||_|_|___|____|__|_| | __|___|___ _|_|   _| ||  _|_|| ____||__ |_ | |_|_|_ __||_| |__ _ _||__   __| _|_ ||||||| _ _| ||_|||||_ |_ _ || _ _|_  | | _ _| | || |_| ||  |_ ||_||_| |||||_|_____||_|| |||_ ||__||_ __|_   | |||__|_|  __  ||_| | ||||__ _|___ _|_|||||  | |_|||| |||__|_|  _|_ ___ | ||_|_ _ | _| ||__|_|____   _| | | _ ___|_ _| _ | ||_|  _| | |_   _|___| __||_ _| __|_||___||__|_|____|_ _ _| _| ___| |||_|___||| ____ _ _ _|___ _|_ __ || ___|||________ _ |_|_||| ____ __|_|||_ | ||||| ______| |||||_ |_      _|_  |__|||_|||_|_|||__|__ _|| __| _|   ||  |_ |_|||_ | _|___ _ |_ |_ __|||__|||_|___|||| _ |__|_| _ ||___ _|_|||__|_|__|| |___ _| _|_||_|__| | || _ __|_| ||||| |   ___|_ _ ___   __|_|_|||___||||____|___ |_|_|__ |___|_ __ |_| |__|__||| |___ ___ |__|_ __||__ __   | __| _|_|____||____ |_ _   | _ _ ___|__||  |||||  __ || |_|  ||_||  _|_|_ _|_|  ||_ | __|||_ |_|_|||||_|_ _| || _ _ _|| | ____||_|_| |_ | _ |__||___|_  |___ |_ | |_  __|__ __|_|_ | | _||||||__||_||____  _|_|||   __|  __|_| _|_ __|___||_ _|___ |__ _____ ___||| |_|__ __ ___||_____|||__|||| | ||||||||_||_ ___ || __| |_|_ _| | ||| |_|___  __ |||_ |||| ||_|  ||_|  |__ |||  _|| |_ |___||_|||_| _||||__  ||_||||_ __|| __||||___|_ |||_| ___  |_   | _|| |_ _ ||||||||_|| _ __ _ |_||_||| _|__|_ ||__ |||_ |__|_||__| |_ _ ||||_|_| ||  | ___|___ ||| |_|||_|||_  __||_  |||___|_ _|_    | ___|||_______      _|_| |_|__||__ _ |||__|_ | _| _|_|||______ |_| |_ |_ _||_ ||  _ |_ _||_|_| |_ ||  _|_  _| _ _|___ _ _|_____|_|||||_||_|_ | ___ |___|_|_|_||__|_______|||___|_ _|_||_ |_|_  __ |_____|_ ___ |__|_ ____||||_|___|_|||__|_| _| |  ___ ____ ||_|_  |___| _ || __| ||||_||_|_| ||__|____| |_|__|_| __    _ _____| ||_ | |___|__|||_  ___  |_ ___  | _|__ ||_|||||| __||_|_||_|_|__| ||_|| __||__ __|__ | |_|___||_____ __||_|  __||____||| _|__|_|_ ||___   |_|__||  |__| |__ |_|_|__|_|__|_ _|__|_ _ _ __ _||||___|_|| | _|___ |_|___ _| | ___||_||| | _|_| ||||_   _|__ || ||| |||_  |__|_||____||__ _|_ | ___|__|___ |__| __| ||_ _|   ___|_||||| |||_||_ | ________|||_||  | |||_| _||_____|||||_||||_|||_|||_|||____|| |_|_ _||___|_||___||_| _| ____|___   ||_|_ |___||| _||_||__|| _ _|_ _|_|  || |__||_ ___ _|   ||||__|__|_|_  __|_||| _ |__|  _|_| __  _||_ __ __| _|_|||_|  ||___ | | |||_ |_|____|||_ ____|  _ ||  |__ ||__|||| _ |_|_|   ||_|_|| ||||__ |___|_| __|__||_ _|__||| _| _|_||___|_ ___| _|_ |_ |__|_||____ __||| |||__| ____|| ___|||_ _| __| |||_|| _|_ |_||____|| |__ | _ | _ ||__|_  __|| |_|__| __ ___| ||_||_| ____||_| |_| |_|| |_ || ||_|__ _|||_____|  _|__| |  _|__ ||___||| __|_|||_|_|___ _ _|_|_||  || _|__|_ _||| _   __ |__| || ||__|__ _||__|_|||___|_|__ __|||_|____|||__  ||_||_|_ _|__ || _| | |  |_|___| __|_ |_| ____ ||_ |||   ___||_ |__|||_| ___|_ || _||_|_||__||||_|_|__     |_| ||  _|___    |||_|||_   __ |__ |_|__|______ __|__ _ _ _|| _  _||_    _| __ _____ || _  |__|||_ ||_| ||____|   | | _|_|__|| |_||___  ___|| |_|_|_||| _  |   _||| |_ ||_||_|__  |___ |__|_ ||_|__|_ __ |_|_ _|_|_||_|_|  |_|______ ||_||||_  _|_ _||||_|___ _||___||||_|_____  |_|_|||_ ||__ __|_|__|_||||||___|| __| __ _||||| _||_|____|| |_ |___ ___|__||__|||__|||_|_ |  _ _|_|  ||__ |_||__| |||||| _||  || __||_|||| __ _||||_   |_|_| __ _||||_ |||_| _ |___||   _|||_ |_||__ _ |_|_| ____ _|___|| _|_  | _ |_| ___ ______||___|_ _|_| _|_|  |||__||_____|_||||_| |_  _||__ |_||_|| |||||_ _||||   _|_||___|||_|_|_ _|__||_____ _||___ |||||___| _| |||_|   |||__| _|__|___ _|__||  ||_ _|_ _|||||  |___||||_ |||_||_ _||___ | __ _ __ ||_|__| || __|_||_|__ _|__ |_ __|_|| |||  |__  ||||_ _|  ||| _||_  | __|__| |   |_||____ |_|||_|||  |_|_ || _||| |_  |||  _|____|_|  | __| | _ |_|| |___|____ __|_| ||_|_|||||_| || ||| ||___| |__|||_|___|__||__ |__||_|__|| ||______| __  |_ | ||_||__|___|_||__|  |___||__|___|_| |__|_|__|_|_ |_|____|_|_|_  ___|| | |___|_|__|_ _____| _|__||_| _||_| _|_|_|||_|_|||_|__|__ __ ||| _  _||  |_|  _ _| |||||_||__ _____||||___|||||_ | ||| | |_|___| _|||| |||||___|__|_|_|| ||_  ___|__| _|||   _  ||| ____ _| |_ |___|__| __|_ | ||| _ | _||__ |_| _ _ ||__  _|_| ||__|||||__ _|_||__ |___ ___ __|_||_|_|_|_| |__ |_| _|__ _|___|| _ _  || _|_|__ __||_ ||___| |______ __|_|||_|| |||_|__|||| ||_  ||_|||| __ ||__|||   | |__  ||___|| ||_| | _  |__| _|_|__|_____|| _||  _||___||  __ ____ |_____| __  ||| | _| |__||_____ |||_| __|||_||   _ |_____||||_||___ _|______ _  __ |_|| ||___|  _ | |_|__ ___| ____|||___||  __|__|||  ____|__ __||_|_| _  |__| __|_ ||__|  _| | __| | __ ||_|_____ |___|  |||_ ||__ | |_| _ _| | |_||_ __ ||  |__|____||_|||_______ || __|| _|||||__ ||__|__||____ _ ____|||_ __ |__|___ |____| _||__ __|_|||__ || _|____|___ _|_|||| ||__||_|_ ||| ||__ |_ _|||___||_|_|_|___ _ || _|_ _||___| _|_|_||||||||||_ _|_| ||||____||_| | | __|||||||   |__||_| | _|__|___| ||_ _ _|_|_|_||  _|  _| _|_||_____|__| | | ||_|||_ _|_|_   _||||| |||||_||_||_ __| _|| _|| |_|_____ __ ||||_||_|_ |_ ||__|_|||||||  ___|____|  __ _ __|||__||||__|__|||||__| ||  | | _||_ _ |___| | || |||_ ||_ |___||_ |___ _| | _  |_|_ _| _|__||_|_ _  |__ | |_| |||| |||_ || |||_| _|_|_||||_|_| ||_|_||||___|_| _||||| __|    _ __|___|  | _|||_ | _|  |_  __|_|____|_||__ __||| ||__|__||__|__|| ||_|  _   _|_|||_||| __ _ __ _|__| _||   _|_ _ _ ____|||__|__ |||_|_   ||| ||_ _|___||_|___||_ |_|______ __  |||_ |_ |_ |"
     ]
    },
    {
     "name": "stdout",
     "output_type": "stream",
     "text": [
      "_| ||_||___ || _| ___|||__|_ |__|| _   || | ||____ _||_ __||||_ _|_||____ __|||____|__|_| |____|__|__||||_ |___  ___|_|||_|_|__||||||___|___|_ |__|___||_||_|| |___|__|| _|___|___|_||_|_ |_  _| |||||| _| _|_|_|__||_| __|| __|__| ||_|__||_ __ _ |||| _||_|||__ _|||___ ___|_|_||_|_|__|_|_|_||_| |_| __||_|__ |||__|_|__|||__|_ __  ___| |__   _ |_|||__ ||___  __ | _|__|__ |||  _ |||_|_||_|||_ | _||| |  || _____|||__  |||||| |||_|_|||____ ||||__||__|||__|_____||_|||| __|_ __ |__|   |||||||_| |_|___ _ __| |||||| _|  ___ _||__  |_|_|___|_|_  |__ _ _|__|_____ _|__ _ _|_ |  _|_ ||_| | __ ___|||___|_| __||||__ _|||||_|| __|_||__ |_||_||_||_|  |_||_|__ _ |__|_ ||||___  _|_||| |__  |_|__||_ |||| | |___ |  _| ||_||__|| __||||__||____|_|__| _|    _||_| ___| |||_|_|_    ||____| | _ |||| __| |||| _|_|||_____|_|_|  |___| _|  |_|__| _ _|||_||||_ _ _|__|   |_ _|| || ____|_ |_|_ __ _ ___  _ | |_ |___||||_||||__|_|_ ||__|_|||_|_||||_  _|_| __|____ _|_ _|_| _  __|___ _ | ||||__|___||_||__ || __|| ||_ _|| | _ |__ _||||__|_| ||_|__|___ __ _||| __ _____||_ ____ _||_|| _|||_||_ |__||  |________| ___ _||__ __|_  _|||| | _|_|_|__|  |_ |_|||_| _ |__| ||____ ___||| ||____||| _||___ __|| ____|||___|___|__ _||_|_ __||_| ___ _ |   _| _____|_|||__| ||_|||||_|__|_  __ || __|__|_  |_  |_ |||_||__ | _ __| __ | _|_|___||_|_|_ |||_|||__| _ _| |_|_||  |__|_||___|__|    ||_|__||| |_|_|_|| |||||  |_ ||||____  | |_|||_| | | ||_|__| _|||__|____|| __  || ___||__|_  |_|_  ||__ _|__|_ |_||_  |   _  __|_ __ _|    _  ||||_ |_ |_| _| _ |_||__|_||_ |_|| |_|| ||_||||___| __ ||___| ||_  _ __||  ______|__  |_  _|||||||_| |  _ _||_| |_|||||_ |__ |  ||| _|___| _ ||_||_| ||_|_|  _ ||__|_| |_ __|  |_____ |||||| |__|||_|||  _|||_|_|| _|__  |_ _||| |||_  || _ ||_|_|||_|||||||||_|||_  ||__| |___| || |||_||| __|| | |_|_ _| |||___|_ _|_|__||| |_ ||___ _|_|___| ||||_| |___ |__ || |____|| |______ | _|___  _||__|_|_||| | | |_ _|_||| _|| _| _|  |||_| |____| ___ _|__ | _|  | _|  _||  | __|__||_ | || ___ _| |_____ _|| __ __| __|| ||_ ___|||| | |__|__||__|__|___| ||__||| _||_ || _|_  _|| _  _|___| _| _ _ _||||  ___||_|___|_|_||||_|||||_ ||___ | ||_|_|__ _ __|__||_ __ |_|_| ||_  |__|__|||||_  |_|_ |_   |__|| __||__  ___ |_|  |_||__ _||__  | || _|_|_|||| || __|_||_|__||_|||_ |_  _ |||||| ||___|_  __||__|  |___|||  ___| | _|||_______  __ || _ |_||_|| ___  ||_ _|___ _|_||_|_|__|| _ _| || _| |_|_|__ _||| __|_| __ ___| _||||_||_|_|| _  ||__  |_ ||___  _| ___||||_| _ |   _||___| _|_ ___  _||__ _||_ ||___|_ ___ |__||_||___ |__|_______ ___|||| || ||_ |||_||_ ___|____ _ _ | _|||___ |__|  __| ||_| |_|_  |_|_|| |____||| | || ||__ _ __|_||   |_|||__|__||  | _|| _|_||__|_|_||_|  || ____  _|_|   | |_| |___|_| |___|||||_|||||_|_|__|_|__|||||_||__ |_| ||_|||||_|_||_ __|_ __||_  |___||| |_| |_|_|_||||_|  _| _ _|_ ____ | _ | _|_|||____||___| _| |  _ |_|_ |||_|   __ |_ _| _  __|_ |  |_|_|____||  __  |_|__ |__|_ |  ||__ || | |||__|  _| ___|_||__|||_ |||_||_  ||  _|_|__|__| | |_|__| _|__| __||_|_|| |  _|__| _ | |_||_|_|||__|||   |__|| _ _  _ ___________|____| || ||___  _  | _|  _|__ _|_ __  _| |  |_ _|__ _|  _||||_|_| __ _|||__|_   || ____ ||_  |_ __|_|_ || _ |||__|__|| __ _ |_|_ _|___| |||___  |_ ||_ |||_|_ |___ _____||| | _ ||__   _ |_| ___|_  | _| ___ _ ___ _||_|_ _ __ __|_||_ ||| |_|_|_  |__  | |_ _|_| |_ |_||_|__|_||__ _||_ _|__||_||||_ ||_||||_||  ||||||___ |||_|___|  _ ___| || |_|  ||||| _ ___|_ |_||| _|  _|_|||__|___|||_ __|_| ||  _| _ __|_  ||_|||_ | | _ _  _||_____   | |_||__ _|_| __ | __|__|_|  |||_|_ |__|||__ ||__|| ||___  __| |||_|____ __||__||___ _|_______||_ || | |_|_ _  |_||| | _ ____ |___ _|_ ____ |_____|_|||| _| | |  |_|__| __||_|_|_|_|| __  ___|___| __|__| _|_ __ __ |_||_ _  ||| | ||||_|||| __|| _  __||__||_ || __||_|____||_ _||___|__ |  _ __|_| ||_||___ |_ |__|||_|__| _|__ _ |__| ___ ||||_|___|||___|||____|  __| _|| _ _|__ ||_||___||||_|| |_  _|___ _ |  || _|||_ _|_|____||||__|_ |||_ ||____  ___||| |_  |||__||_||||_ _ |  ||||__|_||||||_|_|||__  |||_||__||_||___ ||_|_|||_||| _|_|_ ||| | _||_|_||__|__|||_|___|  ___|_| || _  |  _| __| |||__| |_ |_| |_|______| ||_| ___ ||||| | | | __  _| ____  _ __|| __||||___| ||_ |_|   ||____ |_| _ ||_||__||_ _|_|| ||__|__|| |_|__||___ |||_|_||_|| _||||  ||__|| |__ ||___|_| | |_|_||_|| |_|__  ||||  _ __ _| | __|_|_  ||_||_ | || |_|| |_|| ||__| |||| __|__|   |__ __|   _|_|_| |_|  |||_____|  | |||_ |__|__| |  __ ||_|___ _|  _ _|__|__|__|_|___||__  _||_|_||_ ||_|_|_|||___| _| _ _||_|| ||||_ | |||_| __||_|__|||_ _ |||_| __||____|___|_|_|_| _|__|| ||__|_  __|||| ||__||  ||| |_|__||_|__ _||__|| |__||__|||__|||_____ |||_|____| |_|_  |_||     || |__| |||_| ||__|_|||  _|_|| _||___|_ _| _ ___||| ||_| ||_| || _|_ __||__|__|_ |_|__|__|_|| ||||__ | ____ |_||___ __|_ _|_||_ |_ ___ _   _|__|__|||_ | | |_____|__  |___ | _ |_|||__|_ __|_||___| |_ _____ _____ __ _|||_||||___ | |__||_|_|_|__||___|_||| __|_||_|_|  _||___|_|| __|_ |||_|| _||____ _   | ____|__|__|||| _ _|_| |_||_ ||_|| __ |_____|_ |__|_||__ _  || ||_ ___ _|___ _ | |____| _ __ |_ | _ _ |_ _|_||_|_____||| |__||| __|_ | _|| ||___ _|||_|_||||   ___ _|_ _ _ |__|| |__|||_||||_|__ ___ ____|||| | ||_ _||__| |_|__| ||_____|_ |__||| __| ___  || __  | ||||||||_|| |||_ |__ _ ||___|__|_ | ||||___|| __|_ |||||| _  | |_| |_||___ _||__ _| ___||__||__|||| |_||_|_|____|_  |_  ||||__|| _  ___|__ |__ |_| | | |___|_|_ __ _||| ||_ ||_| |___  |  __ _____|__  __|__|_____||__||| |_|_|_|_ ||__ | _ __| | | | || _|_| ___|___  ||_||__ ||__|||_|| |  __ |_| ____| _ | || _ |_|___ |_ ||__|___| || _|_||_|_|| |_|  ___ |_||||___ __|___ |_| __||_||__|_|||__   |__| _| || |__| ___||__||__ _|||| |_ || __|__ |__||_||___ ||__|_|_ __|  |_|____||||_|_|____  |__||__|_  |_ _||_  |||_|| _| ___|_| | |_|__|  | ||_|_ ||| __| ||_|_||  _ |_|_|__   ____| ||||||| |_  |__|_____|||_| ||__ _| |__ ||__|_|||_|| |||_||_|__|  |___ |__ | | _|__  _____|_  ||____|_|| ______|||_|| |__| |||||_| ____ ||__ |_|  |||____| |_| _ ||____ _||_||||__|_|| _|_ ___    |||_ _|||___|_||  _  |__|||_ || _ _| ___||_|__||_| ____||_|_|____|___|| _ |_  |||_ |_||| ______ _|| ||__  | |___||_||_|| |__ |_  _|_ ______ _  |||____||  __ __|____ _| || || |__ _||||__ ___| ||__|__|||____|_|   __||___ |||_ _ |_____|___|__| ||___| _| |__|_|__| _|_||_|__ |_| ||_|_|_| _ |  | _|__|__ _|_|||| __ _||||_|  _ |||   ___ _ _____ |_  |||__|_|__ ____ _|_|_|_ ||__ _ ____|_||||_|_|______|_|||__  | __| _|_|__ ||__ _ || ___ ___| _|__||||||_|_ __|_|_  __ |  |_| _||_|__ __|___  _|__  _ |__ ____ ||||_|____|_|_| | __|||_||__  | |__|_ |_|_||_||__  |_|||_|| _     _ |__||_  |||  |||| ||| _ _|_| |__|_||_||__||_| _|__|____|||_|_|||____| |||||_||_  _|  _____ _|_| __|||__|||_|||_| _|||||||||_| |__|__|__|__|__  || | ___||||| _||_   _ _ __|__|__|_|||_|_||___|___|  _|____|| _ |__||_|_|_|___|_____ |__| ||_ || _|_ _| |_|| ||___|| _||||||_ __| |__|_ _ _| _|_|_| |__  |_ |   | _|_| _||_|_|||__ ____|____ _ _|__||_|_||_ _|_| _ |||||__|__| ||_ |||__|||||_ |||__|_||__  __||| |||||_ _|| ||___||___|_  ____|_||_ _|_|||||_| _ _|_ _____ _|__| _|  __|____||||| _|  ||__ | __|_| __ ||__ |_|| | _|_|_|_|_|__|_||| |_|__ _|||_____|_|_|_| _____|_| | _|__|___|___|||_|__  |_||_ ____ _ _  __ || __|||_|__| ||_||| |__ _|__ __||_    |||_|  __|_|_| | ||_| ||_|____ __  |||___|| ||  ||__|__ _  __| _ ||__|||| | __|__  __|_|__| ||_||_ _|__||_|_____  _||__ || _|_ ||_||__| ||___|__||___|_|_||__||__ |  _| |_ ___  |____|_  _|_| _  | ___ |_||  _   _||_|__ || _|_||||||_| _||___  |_||||__||_  __|_||_  |___ _ _|__||_______||||_|__|_|_|  _|____  ___|||__|_ |_ |||||||_|_| __| _|_ |    _ ||||||___ |_|_ _|_|   ||_|| |___ |_|| __   __ ||||||__|_  _|_|  _| |__ _ ||_ _|__|||____|| | __ ___ _| __||_ _ |_|| |__|__||_||_ |_| _ ||_ |_ ||__  ___| ||||_|| |___ _|||__|_ ___|||_ ___| |_|_||___| |___  __|||___  _ |||____|| _|| |__|_|| ___ | |____|__| _|_|  _| |||| _||||_|||_  __|___ __| | _ _____||___ ||__ | _||| | _| _ ||    _||||  ||||||__| __ _____||||||||| | _|  |_ |____ _|||||_ || ___| __|__| _||_||____|||___  |_|| | | __|___||_  _  ||_|_|_  __ ___|_|| _|______| _|   ||___||| __ |_|_ ____|__ __ || | _ ||| __||____|_|| ||_|__|__|_|| __ _|_|| _ ____ _ _| |||_|__ ||_|_ |||_|| |  | _________||_|_ _  |___| |_|_ ||||||____  | _   | _|||____ _______|_||_||_||| ||| |_ ||___ |||   __|__ __|___ __| _ |_ ||| _|_| |__ _ |__| | _ |||_|_| _|_|_|_ __| _||  | | || |_|||||_||_ _____ _ _||_|__|_  ___||__| ||__ ||_||  _|| __    |_ __||__ |_|___|_|_ ||__ | __|  ||_ |  ||__ _||_ ||_|_ |__|__ _|||_ |_   ___ _||_|| _|_____|| |_|_ _ ||_| |_|__|_ _ |__ __||| _ __|_|_ ||  |  _ ||____|__|||_____ __|| |_ ___ __|___| _____ _|_ || __ _|||_ _|_||__ _|___|_| __||||_||_ _ |_| |_| ||_ _||_ __| _ _  ||__|_|_|||___||_____ | | ______ |_|_|__ ||  |__|||____|_____| |__ ||__|_ _|___  __  | |||  ||"
     ]
    },
    {
     "name": "stdout",
     "output_type": "stream",
     "text": [
      "||||_||____|_ __|___| | __|_||| ||| ___||___||  __|_|_| _|__||_|_| |_ _|||_|  __ __||_ ____   _ |__ |_| |  __ | _|___||_||__  |_|||_ |_ || __|__ |_|   _|| |__|  |  __|| |___|_|___ |_|||| _| |_ |    |_|__ _||__||_ | |___||__|| _ |____| _|||_||||||_|  _|__ _||||_ ||_ ||_____| _ __||_||||_||| |_|__| |_ |||_ |___|__|__||__ ||_ _ _| |__ | _______|__ ___|_  _ | _| __|_   ||  _ ||  ||__||| |||||_||||___| _| |___|| |__|__|_|__|| __|| |__| |___ _____  ||| __ ||____|_| |||_||_   ||__||_| _| ||_|__|_ |    |___||_|| _ |  |___|_||||| |||_  |||__  _|__|| ____||||_____ |||_ _    _|_ |_|_ _ |_____| |_||  __  ___|  __ |___||||   _|| _|_|____|___|__|||___||__|  __|||___ |__| _|_||||__||  __ _|_||__ |_|_|_| _|| __ _ __|___ __ _||___| _||||_ |  | |_ _ ||| _|__|_|__|_|||_____|||||_||  _ __ _||| _ _|____ ___   _|||__|_| |||||_  ||_||_ _ _|| __| _|_||_| | |____|||||| |  |__|_ |_||_|_ |__|| ||||____|___ _ _||||||__ ___|   |_ | || ____|__| |||______ |____|__||| _|| || _| _ ||||_ | _|__ __|__||_|_|| _ |  _| __ _|_ || ||| |||| |_| _||||_||_  _||_ ||  | |__  _ _|_ ||_ __| || _| | _|_|_| ||  ____| _ __| | _| _ _|_| ||_ __||||   __||__|   _|_||_|___|_ |__ _||| ||___|_  |__||_|_|_|_||______| |_|__|||__ | | _|_ __ _ _|| ___|__|_ ||_| _||||_ |||||____ __||__ |____ __|_|_ |_  _|__|_ __ _   ||||_  | _| |_|| |_ __| _||_|_|__||| _|_ ||_|_||__ __|| _|__ _||||_||_  _||   |||_|_ ||__   |_|_|_| |  ___|_||| __  ____ _|__|__|_ | | ____| _ ||| |____|| ||_|__||_ _ | __|  _|___||_|_||| __|_ ||____|__||__ _ |__| ___ ||__  || ___  _ ||_||||__|| __ |  ||| || _|_| _|  |_||_|_||| ||__||___ |__|__|_| |__ ||__|| ___| |___|  |_ |__ | |__| __ || ||_|_| __||_| |  __|_|__  _|| __|| _|||_|_|| | _|||___|_|||| || |||__| ||| || _| |_ |||_||||_____|__ _ _|| __|| | _ __ _  ||  ||||_|| ___|||__|_| | _  _||_| ||||||__|_ __|_|_||||_|_||_|_|||__||_| _||||_|||__ __||_  ||_||_|  ||| _| _|_ ___| ______ ||  __|||||___ |_|_| |||_|  ___| |||||_||||_|   |_| _||_||_|_||| _|___|_  _|__| __|___  __ _ ||| _|_|||||||_ _| | _|| |__|___ _|  _  | | __ ___ ||_|  _|  _| ___|_ | |||___||| |||__ |_|____|_||__|_||___|__   | |___ |__|| _|| _|||||__ __ _____ ____  _  _  _ || __|__|______|_ | _||_____|_ _|  ___|||||_____  |_ __ |_|___|  __ |  __ ___|_ | _ __  || _|______ _|__|___||_ _|| __|__|_||||_||_ | _ | |___||__|||___|_    __|_|__ ||||__|_ _||__  |_||_ __ ||||_|_|||___||_    ||_|_| _ |__  |___ | |_| _|_|||_|| _||_|__| ||_|||__ _| _ |_|___|| _||  | __  ______ _|__ __ |||___||  |__|__ _ |__ |_||____| |||_|_|  _|_||||___ |___||_| _  |__| ___ |_ _|  | _||___ _ |_  |_|||__|____ _  |||_|| _||  || |_ | |_|_||_ |__|__ _|_|||_ _|_|_||| _||___ |||||__|  _| ||_ _| _||_ |___ ||_ __|| |||__ ||| _|| _|____|___||_| |_|__||| |||_| _| _||_||_  |||_|_ |_||||____||__||_| ||__|_| |_||||  _ |||||_|__|__||_||_ __||____ |__|| ||_ _ |_ _||__ |||_|_||__|||___||____||_ _||_|_____ ||_||||___| |||_____| |__|____|_ _|__| _ ||__ _   |__ ||||  ||_|_||  _|_|||___|_ __|   || _|_ |_|||__|__|| |   _|_  _|_||_|__ __ __| _ _  _|||||||_|__ __||_| ____|||| __|__|__||_|__| |_| | ||| _| ___|||_||__ __ _|__|_| ____||__|_|| __ _|    ||||| _| _||| _|__||_ _|__ |_|_|_||_||__|| _||______ _|||_  ___| |____  _  _____| _|_ _| ____| _ || |__ |_| | __ _|_|_|||_|_||_ _||_||  |__|_|||| | _|__||_|____|||__|___ || _   __|  |   _|_ __|| ||| _ _ _||||  |_|_ | _ |__ _|_|||_|_ ___|_  ___| ||__ |_   |_| __||_|||__ ||_|__|__|_ || ||  _ |||_|__ |||_|| ||_ __|||__ __|| |   |__|||_|  _ ___|_| _|_   _||||_ _| |___ |  __| |_||_| |_| _|_||_____| _ _|__ _ |_  _|||||  |_____ |__|__|_|__|||____ _||||__|________||_ __|  _|_ _ _  |||__|__ _|_| ||  |_||_  _| _ _|  |_|_|___|||||_|| _||___ |___|_|||__|| _ |_____|_____ ||||__|__ |_  ||_ |||_|_ |_||__|| ||__| _| |_|__|_|_|__||__|__|_ | |__|_| _ |_|| ___|_||__|_| _ |_ _|||__ ___| __| __||_  | ___||| __|_| _ _||_||_ _||________|||||| |||| _ __||_  _ |_|  _|| |||||___||_||  |_|_|||_|_ |__|||__|| |_ |   | ||_ _|_|__|_ ___|||| _|__||| _|_| ||_  ___ _ |__ |_ _|_ _| ||_ _|__|||_|_| _|||____|_|__|_ |||__|__| _||__||_ ____||_ _|_|| ||   __ |_  || __   __|_|_|_|__| |_| ||_|    |_|__ ___|_|__|__| __| ___  |____|_ _|_||  ||_   ||_|__| _|_   |___ _||||  | |_| _| ____||||_||| |_ |||||__||_  |||__|____|__ ___| _||__ _|||_|||||_|_ __| _ ||_______ _|_  |_|||____| |__||||_ ___||__|_||||__|_|| __| |__|||_|| _|_|||__|||_|__|_||___| |__|__ | |_ |||  | _ |||| |__|__ |  ||||___|| ___| _|_   _| |_ _||_|_|_____ _ _| |_|||||||_    _ _ _|||_||__|||_ ____|  _|_||  |||_ __|_|_| |__ |||___  _  _|  ||_||||__|__|||||__ |__|__|______| |||_| ||| _||__||  ____ _||| __ __  __|||| | ||__| _| ___|   _||_|||____|||_ | _| _|_   _|||| |______| | ||___ ||| _|_|||_|_| | |_||_ |____||_ ||_ |_ _____|__||   |  |   _|_______||__|__|| _ || __|__||__| | ||_||| ||_ _| __||||_|_  |__|||__ ____ |_ | ____ _|_|__| |||_|___| ||||| _|||__|| ___|_|_   _||  ||_||   |||| _ ||_ __||| _ |_||_||_|   __|||_|___|__ _| ||_ ____||   |_______  |_  ||__ ______ _|_| __|||  ||_| |_||___  _| _| _ |_  |    ||_||____||_ __|_|__ _|_|_ _| | |_|_ _|_  |||| ___   _ |_| _| | ____ ___ ||_  |_ || _|____ | |_|| _ |||___| | __|_   | __||||  |  |||__|||_|_ ______|  |   _ |_|_ _||_  ||| ||| ___|| |___| __| _ _|||_| |__ _|_|__||||||__ _|_||___||_ | |  _ ||__ |_ |_ |__ _|__|   |_| __| _||__  |_   _|__|||__|||_ _ _|_|||_||__ ||| _||___ __  | __|_|||__|_  || ____ _ __ __ || _  ||_ |_ |_  || _||| _|__ __||||_| _| | ___|_  _|||_______| ||_||| ___||__ _||| ||_|_  _| || ||__||__|| ||  |_|_ |_| |_ _|| |_ |__||||____  __ _|__  _|__|_||_||_|| | | _ |_ |_ __| _ |||__|__||_|_|_ ||__| __||___|_| _||__|| _||_|_ |||  _  ||  | |__|_||_|___||_____| |_|||    |_|_||_ _||_|_ __|_ |___|_____|_ ||_ __|__||___|__|_ _||_|__|||_ _  |  | _||_| ||__|_|_|___ ||_ __|_ ||| __ |_|| _|_ |____|__ |_| | __| _| |||_____|| |_|_|_____|_|_ |||| ___ |__|__||||||_||___| ___ _| _ _||____| _||_|___|_ |||____ |_|__ |||||_|__|_||      ||_||__  |||||||_|_  |_ ____|| | |_| |_||_ _ | |__|__||||| ||| |_| |_|_|_|_ __| |_|| _||||____|___ _ |__|  _  _||_|__||__|  _|_|__|___|||_____  ||__| ___ | |_| |___|__ ||||_|| __ _||_||||_ ||_ __|__|  __||___||_| __|___  _|__||______||_____ _| __ _ _| |   || _||_| |___| ||_| _________||_ _|| ||_  | ___||||_ __|||_____  |_|  ||_  __||||_|||_|__ __ |_____|||_ |_|| ____|__ _|_|___ |||__||_||_||||__ |||_ __|_  _|___|   _ ___|___|_||| _|_||_|__ _ ||||  | _||__||_ | |__|__ |_ __|__||_ _|_| |__ |  | _||  || _|____ |_||__ |__|_ ____ | _||  | || |___|__ |_|||_|_||_ |  |   | |||_ __ |||__  __|__|||__||_  _ |_||| _||| __|_ _____||_|||| |||||_| |  ||| _||_|_||||| __ _| __||_|| _||__ _  _|__|_| |____|_  ||___||| |_| || _|||_|||_| |||_|_|_|_| _ __| ||||__|| ||_  ___|_||___ _| || __|_|||| _|___|_| _ _ |_  |_  ||__|_||||||__|||___||__  |___ |_||_|||_|___||||__ _||__ |_|||  ||||||_|_  ___|_ ___||| _|_ |||_ _|||||  ||| ||_ _|  || ||_|_|___|__|___   ||_|| |__|__ |_ _|_ __ |||_|_ _| _|| _||_ _|||_____  |___  |__|__|____|_||||_ __ ||_ |__| |_ __ _|_  || ___|| ||___  _|_| |||__||__ ___|||||__ _|_ _|| _  _|  ___ _____|_ ||_|___|||||__ ||_||__ ||||_|| | ||| |   _ _| __|_||_|_||__|___|_|_ _|_| _||__||||_|_| _|| |_| |_| _|___ |_ ||_ |_|| _||| |_||__ __  _||_|| ___ |___||||| |_ |_|_||_||_ ||  |_ || _|_ _|_|_ |_ |||_ ||__|||_____||_||_  ||___|_ _|_ |  ____|||||__| || ||_|__||___||_  _| ||__  || | |__| ____|  _ _ ||_ _||__ __ _ | __  |_|| _||_|_ ||    __|_ |_||_||___ _ ||  ||_|_|__ _|__|_|_|||||_||| |___| _|_|__|__||||  |||||__|__| _   __||_____ |_ _| _||__||_|_|_||_|||  | |_| |__||||| ___  | | _|_||__||__|_||___  | _| __  |_||||_ _|_| __   _|__|__||_||__|||  __| | _|_|||_||___|_| |_ __|_ __ |__ ||_ _ |_|||__|_|_|||||  |_ ___ ____  |_||||||__|_|___||_|| |_||__|_||_ | _|_||__|  |_|||_||| ___| |_|  |    __|| | __ _||__|||_ |___| __|_ |_|_|||___|||_| _ ||_ ____ |_  |__||_|_ |___|_ _  |  _|||__ _| _|_____|_|__| __|||_ ||_ ___|  _| _||_||__||||_||_||_ |||_|_||_ ___|__ |__ ||||_  _  ____  | ||___ | |||  | |_|___|_| ___|_ | | _|__|||   | __ |___ _|_||_| | ||||_ |___ ||| |__| ||__ __||_ ____|_|_|____||__|_____|__||| ||__| _|_|_||____  ||______||_|_  ||| _||||_ ____| ___|| | | |  ___|_ _|_ || _|_|_|||_____|___|   | |||| |__|_| __ ___|_ _|_____|||_||  | |___|_|||_| |_|  ___ ___|||___|___|__|  ______|_ |||_||_ |||__||___| __|  |    _| _|| _____   || || |||  _ _|||_ _ __| _ ||__ ___|_|_|__ | __ _ |_| || || _||||_|_||| |_|____ __|_|__||_ |_||||  _|||_||||_||| _ || ||   ||| _||  _ __ |__|__  |  _|_|||______  _|_| _||| ||_|_ _||  __|_|  |___ _ _||_ _|_  _||| | __ _ ___||_|| ||_|_|_||_||_||__|_| __ _ __|_ _ __|_|||__||____ _|| _|___| |____|_|||||__ | |_  | __|    _|__ __||||_ ___ |||  _| _|____   | _||||||_|_|____||||||  ||_"
     ]
    },
    {
     "name": "stdout",
     "output_type": "stream",
     "text": [
      "|_ || ||____ _|_ || | _|  _  ||___ __||| _|__|| ___|__|| _|||_| _||_|___ |____| ||_|___   _|_ |_| |||__ _| ||_ |__|| ||_|||__| _|_||__ _ _||_||_ _ |__|_|_| ___ _|| _|_ ___|||_|__| |_ ||| _|_|_|| __|||||___|___ ||____|  ____|_||__||_|_|  _| _ __ |_||||__|_ |_|___  _ || _|  |_|_|__ || |_  _|_|     ||__ |  ||_||_|_||__|_| _|| ||_ _ _| ___|____| |____ |__ | ||_|| || ___ |__ _||____ |___|___|| ___ __ _ |_ | ___| || _||__ _ | |||  _ |||||| _|_|||_|_||__ |_||_|_|| ||__|______|___|_| || |||____|____| _ ___  ______|__  |||| __ _||__|__|_|_ _||_ |___  |__|_||____|_|__ ___|__|_ ___|_||__|  _ ______|__||___ |||_|_| ||___||_|||__| |_ _||__  |_| _  ____||_ ||_|_|__ |__ _| _|___ |___ | || |___|_| |  __|_|_|_|___ |||_| ||__| | |__||_|___||___|||______ _|| _  _ __|__||__ || || | |__||| _| ||_||__|  ||_  _|___|_||_|__|_|||||_ _ _|_|_ |__||_|_|| ||_||_||___|___|__| |_|| |___|_ || |||   ____ ___||___  |  _|_  ||_|| |_|||||| |_|__ || _|  ||| ___  | _|_____||_| |_|| ||||___||  |  ||| |__ |_|_ |_|_   ||_   ||_||____|_|_ _|__|__|__ _|  |__|_||_ ||| _ _||_| _| _  || _  _ _|_| ||_ | |_|__||_ | ___||| |____|____|_| __||| | |_ |_| ||_|_  _| __ _|| | __|| _|||__| _|  _|||_ _| ___||| | __|  |||_|||  _|||||||| |_| _|| | _  | _|_ |__|_|__|___|_||_| || _ _ _|___|_ _|_| | _|_ |||||_ ||__ _|_|__ |||_||| _  |_ | ||||||| |_|||_   _ |__  |_|_ _ _|___|_ __|__  ||||__ __|_ _ |_  __|||__ ||_||__ |__ |___|| ||_|_|  |__|   __ _| __| ||||__   _||_|__|_| _ |||_  _|_ __|_| | _|_|____ ___|_   || ||||__|_|_ | | |_|____ _ ||  ||||_| __| | __| ____|__|_|__  _| __|____|_| |||__|||___| _   _ |__|_ |_| |_|__| __|_||_| | ||_| _|__ | |_| __ _ ||| _ ___   _|_|  |||_|______ | ___  _ |__|  |__ __| | |__|_ __   _  __ _||_|_||_|_ |___ |____|__||  __|||||_|__||| _ | __|__ ||_| |  | ||_||| _| ____|_||__    _| ||| __|__| __ _| |||__|_|____||| |_|__ |_ |||_ ||_  _ |_  __|_|| __  ||_||_  _|  | _|| ||__ _ | | |__ __|_____| |_| |___ ||__|_ __||_____| _ |||||||_|_ _|_|__||_ ||_||||| __|_|_|||||__||_____   |_|__||_||____ _||||_| ____| _||_||| ||___|   ||__|_| |__|__| _| |__ __||||__ |||| ___ ____|_ |||||_ _||___ ___| __ ____|_|_||||_|_|||_||___||__ _||___||_| |____|__ | | |_  _|_|_|_|_|__|_|_|_|_||_|| || _|  _|__||__|_|||  |____|___|  |   ____ |_||_ ___  _ _|  |   |||||_ _|__ |_||__|| __|_____ |____||__| |_____|_ |__|| | ||___| ____|| |_|__ ||_ _ |_ |_|||_|  |  | |||_|  _|| |||_  |__|_|_| |_|__|_| ||_|_||__||||_| ||_| |__||||| _|____|| |_| __ ||     ||| ||__  |||__||____ _|__|||| __||__|__ _ ___|_| _||| _ ___|_ |___  |  |_||||||  __|_|||__|_|| ||| ___|_||| __|_||||__ |_||_ |_|||__|__| __ |||||___ _|_|||__ | _  |__|___ _||| ||__|||__ _|__|_| ___  |_ |__||||____| ___||_|| __|||| ||___  |||____ |_||_||_ || _||_| _| _| _|||__|____ ___|_|_||||||______||_|||||||_ |_  _|  |   _| __   _|_ _|_ _|_| __ _|_|_|| ||_ __| __|_  _|_||_|_|||_||_ _ _|_|_ ||||_|_____|__| _||||__||||||_|___||_|||_|_ _|||||__ _____ |  ||_|| ||_ _ _||_|_ __|  _|| | |||_ |_|||| ||_ _|| ||_ ___||_|||||_ |_||||__|_|____ _|___|____|_ |||___ |_ __|_  _|||||__||_|| ||___ |__|||||||___| ||_|  __| _|| __||__   _ _|| | ||_ |_____|__  _ __||__|_ _||_ _| _ _|| __|_____|_||_   |__|___|| _  __ _|_ | ||_|  __  | | _  _ ___|_ |_|| |____||  | _|_| |  _|_ ||| _    _____| |_|  |_| || _|__| | |__|||__|| || ____||_ ||| |_|___|_|| ||| ||_ ||| || _||||||_  ___||_||___|_|_ _ |||_ _|__||_|_ _ _ _|_|_||  __|||_||| || __| ||__|_  ||_||___|_|_||  _||_    |    _ |____|_ |||_ _||||___| |||_|_____| _ |_|_ _||_| | _ |_|_|||_||_|__| _||_ _||_|_ ||||__ _||_ |_   |  _____   ||__||||  ___||| _ || |_||__| _||_|__||__ _ || __|__|_ ||___ _|__|  |    |||__ | _| ___ || __||____ _ __|_||_  _ _|||| || _ __ |_||||______ |__| |_|_|_|  |_||_ ||_ ___ _|_|_|__ __|__||_||| _  __ || ||___| || ____| _||||__ ___||______ ___|_ ___ _|_|||__ _| |_ ___|__|| _ ||_|____|__|| _ || |||__  __|___|____|_ ___ ||__|| ||||___| _|| |____||| |||||__||_|_  ||||_ _ _|____|||    _____ |____||||  _|_|  _|_ |_|____ _||___  _____|___ ||| _||_ | |_|_ __||   |_|||_||_||| _| | _|__|__|_ |||_|__ _|_ |_|___|_|__|__|___|  ___|_|_ |__|    |_| _ ||__ | || _||_ _| _|_ |_ _  || ||__ ___| _|__|_  ||_ ||_|__| __| | |||  |||__||_ _  __|||_ |||| | _||_|_|_  |||__|_| _| __ | __|_||_| || |____ _|_||__| __|__ |_ __|| _|||__ _|_____|__|_|||||||||| |_||_||__||  | ||||| ____|  _  _ _|__||__ ||__|  ___|| |___|_ _|| _|||_  |_ _||_||_|_|__||__||_ ______|__|_|||___ |_  |_|||__ ||_|_ ||||  _ _ |__|_||_ _  |_______ |||| || ||_|_ ___ _ __|_|_|||_|_ ||_|__|_|| |_ || _|  __||_|_||_|  ___|_|_ ||_  |    ||_|_ |__| __||__|||_||_|_||_ ||  _||| _ |||_ __   ||_| __ ___ |__||_ ||_|_|__ |||_||_|| _||_|_||_ __ _   __| _|__||__|_||___||_| ||||_|__  |_| _| ___  |_|_| _|_|||_ _|_ __|_||___|||_|  ___| |_|__| |__ _ __|_ | _|_ _  _ ||__||_||_ __|_|| _||    |   _    | |___ _|__ _||||__|__||_||_|_| __||_|__ _  ||| __|___| __ ___  __||_| ___|  _ | _| |_|| ___|||__|| |_ |__||_|||__    |||||||__ ||_|_|_|||_||_|__|__ |_| ||___|||_|  _||_| ||_|||| | |_ ____||||| |_|_| _|| _ ||_||__|_||_|_ | _| __|_|_|_|| |__|__||__||_____ _| |_ ___||  |__| | _   |__|__  ||__||_|||||__   |||___|_ |__  __||_ _  _|_ |_|_ |_____| _|||__|||_|__|__||_|_||_|  |_|  __ |_||_|||____ |||_  _|_|___ ||_||_|||_ _ _|_____||| |||_||  || _ |___ _ | |___||__||__|_ _||_||| ___||_ |_   _ ||__|_||____||_|  _ __|_|_ |__|_|||_ |||__   |__ __ ____|||||  ||| ___ ||___ ||||   |____| _| _|__ | _ _|_ _  _|__ __ |__||_ | |_____| ||_|_| |_|_ ||||_ |||__| |_ ||_ |_|_ |____  | |_ ||_|_ ||_ || ___ _||_|  |||||||_||| ____  | ___|  |__ _ ||||   |__||||_||_  | |__ _| _||| |_|____||||_|__ _ ||   |__  |_|_ __|_| _ | _ __| ___|| || _||| _|_|_|| | _|_| _|__ |__|   _ | |_||_||__ ____||  __ _  | ___|_|_ _ _ |___|______|__| _|_||||_|__|__|||||_|  __ |____ _||||_| |_||__|_ | |_| _||| __||__|||___|| _|_ _||_ _|||| ___||| | ||||__|||| |_|||__|_||_|_ _ |||_ |||_||_ __  _  _||_|___ _|_____|||||_ _| _||| _||_ _|||__||__| _|_____|_||   _ |_| |_|_ |_ _ | |__|_| |_ _||_||_ _|_|_ ||||_| __||||||  |  _|_ ___|| ||_____| _|| ___| ||___||_||__ __| ||| ||||__|__| ____| |____ ||_____||_||___ __  ||_|_|__ | _|||_|__|_|_____ ||| __||_ | _| __||_|| |||_ | __ _ ____|||_|_|||____|_  _ |_|__  |__| __||_ | __ ||__| __|_ | ||__|  ||__|__||_||||||_|_||__ ___|_|__|_|___||  _|_||| _|_____ __ _    | |__|| __| || _|||_|__ |||  ___|______|__ |__ ||_||||_| |_|_ ____|_   | ||_ |___||_||_| |__|_||_   | ______|| |__|_ _|||||_ ___|||_ __||_||_ ||_ |  |_ | |_|| |__|__|| ____|___ ||_||_|__ ||_| ____|_ |___|||____|___ __ |_|__|| _  ____ _ _||||  ___ |__|__||__|_ _|___ |_  |_ |_ |||||_|__|_| _|_|__| __| _||_ |_____|__ |||_|| |_|__|___| _|__||____| |_ _||_||_|| _|||_| ____|__|||__|__|____|_||__||_|__ |_|___ __| | ||_||_ _ _||_|||__| || ||||_|__|_|_|  _| ||_||||  |_  |_|_| _____| __ _ |_|_||__ _|______ __|____|__|_|| ____  |___|____  || _ _| |_  _|  _|| ||_ ||_ __ _  |__ __|| _ _|_ __ ||||||  _||_|_  ||_______|__|_|| _ ___|_||  |__ __|__|_ ||||_ __|  |_ |_ ||_||__| _|__|____|_| |___ | |_|  _| __ _|__|_|_ _||__   || | |   |__ ____||||||| |||| | __|_|| |_|| _ |  | _|||||| __|_   _||____|_  ___||  _  || _||_|_ |_|__|_|____| |__ ___|_  __||| |||_ _|__ || ||_ |__|_ || | |_||_||_|| ||||||___|||___||__||||_||_|_|_  __|_|__||___|_| | || _|__|||||||||_||__|__||| |_|  |_|  __|___|_|___ __|_|_|__|_|||||||___|||_ | __ |  | _|_ ||__   _|____|__|  ||| __| |_|_ ___| ___ |||| __ || |__| | _|____||||_ |_ || |_||__|_|_|||| __|||__|___ _ ||__||___|_____|___|___ __ _||_|_||_|____| || _ ||_|_  _| _____||||_| _ ||_||__| _  _|||_ ||__|| | ||||| __|_|||_|_____|||||__|_||_||_| _|__|_||| ___||| _|_| | _|_||__ |_|    ___||  ___|__||__|__| |___ _|__| _| ||___|| |__|||||___|_|||| |__|___     |_||___|_|||_____|||____ ___|___||_||__ | __||||__|___|_ ____||||__|| |___| __| | | ||  _  |  |__| | | _ |  __||_  ____ || || _|_||||___|_|_______ | | |||_|__|__|____|_ _|__  ||___| || __| ||__ ______  _| |||_ _ __|||_|_|__| ____   _|| |__|___|  _ | |||  _ ||_ |_||__ ||_|__ _|_| _ __ _|||_|_ |   |_|||   |___| _||_|_|___||||| |_|| || _|||_ _ |  |_|_||__ _ _|||||____| | |__ _||_|||_ |_ _| _|||| | _ _| | |__||_  || __||__|_ __ ||_ |__ _ || |_____|_ ||_ ||  _|_ ||__ |__ |___ _| _ _|||||__| _|  ||__  |___||||||_|_| __ ||___ _|_|_ _|_| _|||_|||__|||_| |||_ _|||__|| _  ||||| ___||____ _||||   __|__| _|_|||_||_||__||__| _||"
     ]
    },
    {
     "name": "stdout",
     "output_type": "stream",
     "text": [
      "__||_||__ _|__  __|__ _  _|||_||_ __|||_|_||_|___ ||_ _ _||___| _ | ||_| _|__||_ |__||  ||_| _|||__||_ |__|||__|| |_||| | |  _||||_||   |||_____| |___ |__|||_||_|__||__| _|__|__ __||___| |_|__|_|  _|_  |__ |   |__| |  __ |||_|| ||||_|__    _||| _|___||_  _||__|_||___| __|_  | |||||_| |||__  |||___| __||_|_|_|_|  _| _|_|__|_|| |___|||| _| ||__|_______|||| ||| _|_ _| | ____ |_ |_ _ _||  __|__|_| _|_||||_|_||||||_ ____||||| __| || |_| _||_|||_ _ _|_|_ |_|_|_____ |___ | ||| _ _|___||||||___  _  _| _ |__|||_||____||| _|__|__  __|_||__| ||___|_ |||_ _ __ ____|_|___||| ___|||  ||__ __|   |_  | ||_  _||| _|_|___|  ||_ |___|_ | |||| _|_|_||___| |||| __| | ____|||      || __|___||_||||_  |_||_|||__| _ _|______||| |_| _| _ __|| ___|__ __|_||_|| _|| |_||___| ||| __|_| _||||_||_|___||_ |___||_| ___ |__||_|_|||| |||| _| ||___| _ __||| __  ___|  | ||||_|| | ||__||| _ || ___|  |||||_||||__  |||_|||||_| __|_ ||__|||_   | | _|_||_|||||||||___|__ |_  |||_|||||_|||_|| |__|__|___|__||| |_|__| |_||_| | _ __|| __|||_|_ _|___|__|_||______||  ||||| _ _|_|| |__| _|_|___ |||__||| | _| ___|_||___ |_|___ |_|| _|||||_|| |__ |  | _ _  _| _ ||_| __||__|_ ||__|__ _ |__ |_|| __|_||_ ___|___|_||__| |____  ||_||______ |__ || ||||__|_||_| ___  _| ___||_ ||| _|||_ ||||__||  _||__|||_|__|_||__|||| ||___ _|_|||| ||||_ _ _ |__|_|_| _| _||_|| ___| __ |_|||_|_ || |_ _ ___ _|_____|____ _|_||_|__ | | __ _|__ ___|_| __ _||__ ||_ ___|__||  ___|__|_|_| |__ ||||  _ _ |_||||| ||_|___|_ ||_|_||| ||||| __ __ | |__ ||||____|_  _  |_|_|_|_| | __|_|||||||| _ |   | _||_____ __|_| _ __|| ||___ _ |||___||_ |____||__||__  |__ _  |_||___||______|||   |____|||_|__|__|___  ||_| |_|||__| __ __ _|_   ____|__| __|_|||__||_||_ _||||_||||    ___|  ||_ |_ __|||____|  _|__||_|__|__  | __| _ |_|||||_||___ _ |_| _ ___ ||___|__||_  | _|_|| |____||_|_ __ |_ ||_| _|_|_ |_| | |_______|| ||_||_||___| _|__|| |__ |_||_|_ |||| ||__|_|_|__ _ _ _||____|_||_||_||   __|_____| || __||||||_||  __|_|_|_| __  | |_|||_|| |_ ___|_____|__ ||__|____ |_|_|_ | _  ||_|_ _||__ ___| ||__|__| || _|_ _|_| _|_|_|| ||__||||_|| |_  |___|___| |_ |_||_ |______ ||  |_|_____ _|  |_ ||||____|_||||  |_|_|_|__| _| ||| |_|_|||__||__| ____|| | |_||| _|__||||  |_|| |_||_||| ___ _| _ ___|||  __|| __|__ |____|__|__ _ |||_|||  ||  |_|_ _ _|||||| __ ____||__|  _    _ |_|  |||__|_||_|||_ _|_| _||_|_|_||||||__ _ ||___|||_ |_|__||___ _| _|||||||_| __  __|_|_ _||_ ||_|_||_   __|||| _ ____||_||___||_|| | |||__ _ _ || _|| ___| |_|__ |__| | |__|| || |_||||_|_||__ ||__|___ ||___ _  _|||___| __||_|____||__||| _____|||_ _| _ |__|___|_  |||   _ | | _ __| | _ |||__|_|_|_|_  ||_ ||| __||  ||__|_|||_|___||__ _| ||__||_||_||_|_____| ||_ |__ _|||____| ___  _ _|_|____|||_|||_|_|_|_|| || |____|__ __| _|  |_||_||_|  |_  ||||| |__|__  |______||| |_ _____|__ _||||  | _ __| |   _||_  |__|_ ____ _|_| __|||_ |__|_||||  | ||  __|_ |_||||_|_ _|_|__|_|_ _|__|_||| ___||_|_||_|__ _| | |_  _|_|_|| _ ___|_| _|_|_ |||_|  ___||  __|_|_|||___|___| |__||||___|_  |_|_  |_ || ||_| ||_|  _|||__|__| ||_||_|_|||_ _| _ ___ ||__|| ___||_| _||_|   _ _|||_|____|_|_|_|  | _ _ |__ __| |_ ||||__ |  |||  __|__|_||_| __   _ __ __|__ ||_   |||  |_||__|_ |__ |  _|_| || _|__ ||||___|_| |||_|||____| | __|_|__|| |_ _|_|_|||| _|  __|_||_ | __|__ _      |||| __|  |||___ ___ ||| _ |__|_  ___|_ |  |||| |_| __ ___ | __ | ______||_ |_|||___ ____|||_|_|  |||||_| _ _|||  _|_  _||_|_ _   __||||_|__|_||____  |____ __|__ |__ |_||||_||___ _|| _| |  __|| _ |__||| | ||_||_||_| |___|||_|_| | |__||____|_| |_____|| __|__|_|_| |____ | |_____| __ | ||_|| _|| || _||_|| |___ ||_|__||  |_| _ ___ _||_ |_|_   |_|__||_|____  | |_|||||_ |_|||_|_||_      |||_|_ |||||__||___  ||| __ _|___ ||_ _ ||| ___ |||_|_|__||__|||_ _____ _ |_|____|_||_|_|  _  |||_ __|_ _|||___| |||_|_|||_ __| _|__ _||| _|||_| |_ __||||| _|  _||_||_|__|_______|__|____||_| |||___||___   ||_|   |||| _ _|___| |||__ _ |__ ||__||||_|_|  |____|_||_|| |||| _|||__|__ __ __ |   |_  ____||_|_|||_ |_|_| | _|___ ||||___||||_|| _   ||||__  ___ _||___ _  _|___ ||_ _|||_|   ||||__ __| ||||__ ||______  | _|_|__|__ |_ _||_  __ |  | _|_| ||___ |_||__| ___ ||| _||_____||_||  _ _|_||_|__ __||_  __ _|||_|_|_|_|_|   _|_|_|__|_ || |||_ __ _||__||__| |__|_||||__|_|_|____|_|_||||  ||||||_ _|| _|||||||_|||||  __| |||  ||__|_|_|_||_|_ _|_ _____| _||| ||  _||_| _|||_|__|_ __|__  _ __| _ __||__|_|_  |_  _  _|_|_ __||__ ___ _  ||_|_|_|_ ___||__ _|| __|_|__|| __| __| |__|_ | _|||_____|_ __ _|||__| _  |    _ || |_|||  |  __||  ||__ |__||   _  ||_ ||_|| ||| || _|||_||____|_|||_|_ |_|__ |_ _||_||__|_|||||_||_| _||_| | ___|_____ |_||   __| |||_     _|_ __ |_| _|||||  |||||____| |_|_|_|__ || _|_||_ _||_ __|| |||____|__ ______|_|_|__||   |_|__ _||_|__| _|__| _| |_|__|||||_||_ ___ __|__ _____ |_ _|_____|| |_ | _ |  |_|_|||_|_| |_|_||_||||||_| |_  __|  _ _   |__|_ |___ |_|||| __||||| | |||  ||____| |_ _ ||| _ ||  |____|_ _ _|_  |__|____|_ |__|| _||||  ||______ ||_||| _||||___ |___||___|_|||_ _||_ ||_|__ |____  _ ||_||||___|_|_|||__||__|_ __| |  _ _ |  __  ||__  _||___| __||__| _|_|_||_| ||__|_____ |_|__||| _| ___ _ |_ __   _||| |__|_|_ |_|_| | ||_ |_|__ _||_|__|_|_||_  _||__|__  ||__|___  _|| ||_ || _||||_||| |__ ______|| _|_| _|| |__|_||_ | _ | __||_ |||_||_|________|___|||__| | _ |____|||_| __  ___||_||__  _||_ _| |_|_|__ |__|_| _|_|__|||__||  _ |__|_|| _ _ |_ _|_|||||_|___ __ |_| _ |_|____||__ |__|__|__|  || _ ||||____|__|__ |__  _____|| | ||||||__||_|   | ||__|| | _|_ __| __|_||_||||| _||  |  |_ |_||_|||__|| |||||__|   ___||_|__|| __  __| ||__||___||__|  |__   |_| _|_||__||||_|| _||_|__ | ___||___|__ _ __|__|__||_ |  __|__|_|_|||_ ___|_||_|__| __| _ |____|_|| _|||| ____||||__|_|____ |__  _|_||||_| |||_ |__ | |_ |||| ||_|_| _ |_|  _ ____|| _||||_  || __||__| __ |__|____|| _| | |_   _||__|||| |___| _|_|_||_|| _| |_| _| __||| _ _ |____  ||_|_  _| _||_ |_ _|_|||_____ __|_ __| |_|_|__| |_| _  _||  _ || _||||__||__ __|| _|_|||_|_|||__| ||||__ |__|__ __||  _______|_|___   |_ |___ |  _|  ____|_ || | ||__|__ ||_||||||||_ _  _|_ __ ||__ _|_|_ | |_  ||_____ |____|_|__|||__|_||__ |___ ___ __ _|| _ _|_ |__|_| ___   __|||  || ____|_ _|_   | __|__  _|_||_|||| ___|   | __| _  _|___|_|| ||| ___ || |_ | _|_ |_______ ||  ||_||__|| |___ ||_|______    _  |_|_|_| _| _|_|_ ____   |_ __ _____||| _ _||  __ _|||  _|__|||___| __|_|||| _| ||_|  |___| || _||_|___||__ __ |||_|_|_|_ _|___|_ |__|_ __|_||___ |_ ___|____  | |   _____|| _|  |_ __ _|| | _ __|||_|| __|| __|||_|_|_|_|| _ |_|||||_|__|||  |__|||_|_ ||||_|| _|___ | __|__|__|||___|| ||_||__|_|||_ _|_|  ||_|__|_|_ |___ ||__|| _|  __ | |_| __| | __ __|___| | _||____|_ __||| |_||_||_|_||__ __|_| | _ | __||_|____ |||__||_  ||_||| | |_|||____|_||__|___ _  _||||_ || |___ _|||_|______ __| | _  |_   |__ _ |_|  |_||||______||_ __||||___ _ _||_|__||_|__|  ||__||__|_|_|_ ||_||__|  |_____|  ||_|| |_ _ || _|_ ____ _  ||_____||  __| |_ _  _ _||||_||||___ __||_|_|____|__|| ||||_|||  _||___| |___| _ __ | _|__|  _| _||__ ___|__||__|_|__|||__| ||_ ___ ||________||_|__ _| | _||  _| _ _ _|__| |_|__|| __|__|_| ___ ___| _||||||  _ _|_ ||_|  ___||___| ___ |__|||||_|||_|__||__|__  |_|_ __ |  |||| ___ _||_|||   __|||||| __||___|||_ _|_|| ||_||_|_|_ ___ _|||||_| __|_||||||__ __| |||__ _|||____ __| |_ __|____|_  |__|___  __|_|| _|__||||_|||_ ||_|_| |_|| |||_||_||_|_|_ |__| |_ _|_|__|| _ ___|_|_ _ |_|| ______ __||| ||  |_|| _ ______  |_____|||||||   ___|__|_|_|||_|_|_|___|_ |  ||__ ____|| _|||_|_|_|_|||_|_| | _ __ |_ |___| ||| _|_||____| ||__| _|_ |_  _|||___  |____|__|__| | |_| _ _|_|_ |_|| | ||_ _|__ __||__|| __|__|_||  ||| ____||   |_|__| _| | | _ _|_ | ||___|   _| ||_|_ |  _|__||___ | __ |_ _|___| |__|_ | || _|||  | _| | ||   |_______|||_|_ |___||| _|_ |___|_  _ ||_ |_|_____||_ |_|||_| _|_| __||||_ __ __ |___|__ ___|_ _  __  |_|_   |_|||_ __|  _ |||__||||_||_ |||| _|____|_|| __||_|||__|_ |_| ||__ |||||||  ___||_ _|_|| _ |   || |_  _|||_ || _|___||_|    || __|_  |||__ | ||| |_|_|||_ ||| ||_ __|  _| ____ ____|  _ |_  |__|||| |_| _  _|___||_||__|  ||_| _  |_|||__|_| _|||||||| |_||__ _|| ||||_| |  _  |||__|_|_||__ |_|__|_  __|_||_|| |_||__|__||| ||| _ |||___ | _ |_  _| | ___| ||_|||__ _ _|_ ||  ||||_|__|_| _|||_ _||_ _|  ||  __ |_ |__||_|_| || |||_ ||  ____|_  |  | __| _|_ __ |_ |||_|__||_____|___|||| _||  __ |  _||_| __ ||_ |_  ||||||_|  _ _| ||__ |_  |____ __|_|_|__ |  __   _|  ||__ ||| _| _ __  _|_|_| _| ||||____ ||||_|____ |||_ |___|| ______ __ __| |_||  _|_   || |||  _||||___|__||_| __|||__ _____ ||_|_| |||_ __|_ _||_ _ |_| _|_ |_____|| |__|_|||_   _|_ |  _|| |__ _ | _|_|_|__||_|_ |___|_ ____ __ _||| |_|_|__||__|||_| ____ ||_|||_||___| __| |_||||_| ||__ _ __|||_ |_|_ |______|_|__||__||||_|| _|_|_|||_ ||||_ |  | __ _||| __|__| _|| _|__|_   ____| _|| | _ ||||_ _||||__|_ || ___ | | ||_||  _ | _  |_ __|__ __|_|_|| ||__|||||_|_|   |  ___|_ _  |||__  || __||  ___|||_"
     ]
    },
    {
     "name": "stdout",
     "output_type": "stream",
     "text": [
      " |_____| ||_|__| __|_| ||_ |__| |_ __|___|_||_| |___|||| ___ || ||||___|| _| _||_ | ||_ ||| |____ ||__|__ |_| ___|_|___  ||||__|__| ||||||_|__ || _|| | _|||_|||_ ||||_|_ _  __|_ _|| __   _ ||   _ _    _||_|__|| ||__  |_| |||_||_|| |_ | _|||_|___|____|_|| || |||_|____|____  __  _ _|_||_|_ |___| |__ |||||| _|__|||_|  |_____ ||_ ||_|||___   _| _||_|_|||_||___|   | ||_ || _ |_ |_| _||_||_|___ ||_|   _ _||__|_|||||||_|___| || |__|_ _||_|  __||  |_|___|_|  _||_||__ ____|_  _ ___| _||__| _|_ |_|||_|__||_|_ |_|| |||_||_|_  _|| ||||_|| _|_| ___|_||_ | _| _|| _|_||__ |||||_|_| |_| |  ____|||||| | _| |_| _ |  ||||||_||_|_||__ _|| | _ _ |__|_  _ _|||__   _ ___ ______||_|| |__||__|_|_|_ ___|_ _ |  __  ||_||||____ __ | |_|||_ ||_| || _ _ | |__|_ || |_ __ _|||__|_||  ||__ |||_|| __ |___ |_|_|___|_|_ |_ __|_|||  __ ||_ ||_|_|_||  __ _| |_ ___ ||_ |||||  _ | |_|_||__|_||_| |___ |_ _ |__|  | |__||__ | |__|___||_|__|_|||__| _|||_|_|_|___| | |_ |||||__||| ||_||__|||_| _|||  ___| _|_ _ | ||||||||_||___|_|_ ___|____|| _ |_ | | __||_||||_|  ||_ |_ | _ |_|_|__ |_||||_|| __||_|_ || _||| | __|   _|||___|__ ____ |_ _   ||| __|||__|_|__ _|__|_ _|_|__|||__| | _|||_|  __|_|| |_|_|| ||| _ |  _|_|||||__ |_  _|_|_| ___|| _|_ _ __|| _|||_| |_||| __ |__|_||||||_| _|||  _|_||_||| ||__ ____|| ||| ___|___ ||_|_||__|  _||| _|_ ||| |_ _|_|| _|_ ||__ || | |||_|_||| |  | ||_ | ||_    | _  ||__|_||_ |_ ||||  |__||||_||__|||| | ___|__|| | |||_ _||||_||__| ||_|__|| _| __  _| | | |_|||   |__||___ |__|_|____|  || ||||_ | __|_|||_|____  ||| _  | ||||__|| _ | _|_ || || __ |_ ||||_|_| |||__||  _||| _|_ _|_|_ _||___||_|_|_|||||_____|| |__|| |_ _ __|_ _||_ _|_ |__|||__ |_ __| _|____|_ _____||| ||| |_ _|_|||__|______  |_|||___ ____| ___ ||_|_  |_ ||_|  | ___|  | ___ |_|__| ____ |__  ____||__|_|| _| _||_|_ _|_  __|__|  |_ ||__|||_  | _|__|____ __| _|_||_ _|||___ _______ ||||||__ ___||___ _|||__|| || _ ||_||||| _ |||_||_|_|||  |___| _||_|____ _____|_| |_|||_|||_   _|_| ||__|||  _|| ||   |_|_ __|____ ||| _ |_____ __|_||  _| | __ _||_    |  __| |||_ _ ____||__ __|___  || _| |__ __| __ _|__|_  _|   ||| | | |_||_ ||| _  _|__   ___|_ |  ||||___ ||| _ __  |_||___ ____| |_|___| |__  _ |  _||_||_|__|| _| |__  _|||_  || ____ _|____ |||_||__|__  |__||_  |_|_|||__|_ __ __|    _| __|_|___|__|__| _|_|_||_||| __|||__ |___  |_| _ __ _||__| |_|||_| ||_||||_|_|_ ______||||__|||_||___   _ ||_|_|  ||_| _  || |___|_||||_|  ||_|__||||_|| |_| _|_ |_ _ ||_ ||| _| _|||  | | _____|_|_|  |||_ |___|_||| _ _||___|__ ||| | __  | _|_ _||||__|_|__|_ | ||||__||__|_|_||_|_ | |_|  | | ||_|_  _| _|_| _||__||||__|||||__|__|_ ____|||_ _ |      _|||_||_||||_ |__ | |_||| __|__|_|_||__ |||||_|_||| | __||_| || | ||_|||_ __|__  | _|_|  __| ||| __ ||  |_ ||__||||__ _  _ |__|___ |||__ |_ _|_|___ __||| | |___||| |_ ______|__|_||| _||   |_|_ |___|_||__ |||_|_|_|___|||  _| __| ||____| _|____|____|__  |_ || ||_|___ ____||| ||_ |||_|_|| _ __||  |__|_ ||| ___|___  _||||| __ _|| __|__| ||||____ _ | |__| |_| ____||| __|_ |__|_ |_ ___|_| __|____|| ||  | |||| ||| |||  _||__ |||| |_|__|_ |||| |___||| |__ _|||_||_ |  ||_|_||__|||_  __ |___|___ _ __  | |||| ||||| _| _|__  ||_ |_ | | ___||||__|||___||__|__ ___   |_ __ __||||||||_______|||_||||_|| ||||_  |_|||| ||_||| ||_||_|__|_|_||_|_|__||___|_ |_||__|||_   ___|  __|||_ |_ _ ___|____|||_  |_|___ __|__| | _ |____|_| __|_||__ ||| ___||| _ _|_| _ _||_||  ____ ____|__  |__|__ | |  ||| | |||_ _|_|_|_  _| ||___ | __|__ _||  _||_| |  |__|___| _||_|| |   ___   _|| |__ __| ||_||_ ______||_____| ||_______ ||__|||||| ||__ |_ |_ ||_ |_|||_   |_||| |__|_ _|||_ ||_|||||| _|  _||_  || |||_|___|| _| |_||___|_|_ |_||||| ____| || ||_ |___|__ |_|___ _|_ |  |__|||__ |||___||||_|_|||_ _ _  _|_ _||___|  ____||_  ___|||_||||| _|||_ |_  __||| |___|__|_____| |     |_|__|_  _| |  __ _|____| __ _| _  _|| __|__|_|_|||_||__|_|_||_||_|_ ||__ |_|| __| __ _||_|___|   ||||| _______|  |_ ||_|_ ___ | _||_|||_| |__|_| ||___ _| __|_ __|_| |___||__| ||_____|___ _|_|||| _| _||_|___|||_ __| _ _ __   ____|  || ___| __||||_ | _|__ _ |_||||||||__ | _|| __|__||___|_ | __ __|  _ ___|__|||___|____ _|__|| _ ||||__| |||||__|_| __ |||__ __ ||||_|_  __| ____| | __|__|| ||_  || |__||_ _ || _  ___|   _ _ ||_ __  |__|__ |_| _____ |_  |__|___ |_ ___|_|__||___ _|||__|| _ _ _ |_||  |||_||||_|_| ||_|_|| |_|| __|| |__|_| _ ||___||||||| ____ | |_  | |__||_|__|__| _  _ ___|||_|_||______|_|___|__|_|__||_||| ||___|||||_ _|_____  _ _|_|_|_|||____||_ _|| _| _|_|||_ | _  |__||| |_|_| __|___|_| ||__| __ | _____|__||__  _|| ||_|| |||||||__||_  _  __|||_| ____| ____|___ _ |||_  _||||__|__ || __||_| |__|_| |_____ __ _|_ _|_| ___| ____| _||_|_|____||__|__|_|||___ _|___|__ | ||_||__ |__ ||__||_|||_| || _|__ __|_|| |||____|__| _||||  | || _||_ |___ |||_||_|_||_|_| | ___|_|||_ | _| | |_||_||||||__ |__|| | |_||| _  |_| ||  ||__|| |__|  _|___|  |||__||||||__  _ _ |_ __|_ ||__ |__|_  |||| __|___|_|_|_||_ _|| __ _|__|  | | _  |__ _ |__| ||__||_____|_ _|||_ _||| ||| __ ||_ _ __||_|_  _ |||_||||__  _|_|_|||___ |_ _|_| ||__|_|||_|__| |_| _|| |_  ||_|_| ___|| |__|||_| ||__|_ |__ __   |_||___| | |__| ||__||_|___ | ___|_||| __  _|||_||||__| |_|__ _|__|   _||___ ||__|||  ____|_ ||||_|  ___ _   _ ||_||_|_|__|_|__|__ _| |  _||| _ _|||_||_ ||||___|_|_|_  | |_|__||___| |_ _ ___|_ _|_||__|__  |____|||||_| __|||_|_ _  __||| ___||__|_| ||| |___ ___|| __|___| | __ _ |_  ||  _ || |_|___ | ___|_|||_|||| |_ |_|| _ __|_|||_| __||_||||| ||||____|_|||_||| |_|__ __|| | _| _|__||||  |_|  __||_|____   ____ _|______|___|  _  |_||___||| |_ __|_ |   |__ | _||_||_|_| _ ||____|______|_   |___|_||| |||_|_|| _ _ _ | ||__|||||__ ||_| |||_  |_||| __|___|||  |___|_|___|_ _||_|_|||_||_||_ ||_|_|__|_||_|_|_|  _ |_| ___   _|_|__| |_|||| ||| ___|| _  __|_____|| ||_|||_ |||||_||__| ___|_  |_|__|___ ____||____| |||||_| |  |_||  _ |____|| |_| ||| |___|_ _|  |_____|_||||| ||  |_|||||__| |||||_|||_||  |_|||   _||__|_| || |_||_ ||_ _| _   || ||  ||___||_||___|__ _ _||_ | _|__| || |_| __|_|||___|__||||||||||_| _||_|___ _||___ __|_ ___|||| __|___| |  || _|_|||  ____||||_ _||  |____||_| _  __||  _| |__|_ _|| |_||_||_ ||_||___ _||||_ ___  |__||____|_|||_||__|_  __|_|_  | ________| _|| _|| |_ |____ _ ______ |||_||__|||||_|  __|__| __|_|| _|||_ |_  | |__|__|___ ___||_|_|||_| _|__ || _|_  |_|__|| |__ _| | _|||_|| | ||| |_|  ||||  _|____|_ ___||| __ __| _   |_|_|___|||___ |__||___||||| _  __|_||  |_ || __  _|_|   _|_ _|||_|_||||_||_| _ |__|||__||  _  _|_ _| | _||_| _ |__|___ |___| || _|__||_  ||||| _|  |_| |  |||_ ||____| ||_|||_||__|___|   _|_ |___ ||___|__ |_|  |   |_|||_____|__ |___ | | ||||   | |||_|||_ ___||_|___| _||_____|_|_||| | ____ _|_|__|_ | _|___| ___|___||||||__ |_||_|_|_ ||  _ _|___ _  |_|_|_ |_|__| |__||___|| _|_| _ |||_   |||_|  ||__|| |_||||__||___|___|___|___|_|__|__| ___||_| |_  __| ___|_    | |__|_ ||_ _ |_ __||||| |_|__|| |__|_| |  ____|||| |_|||_| __|_|||||  __|_| __|_||__  __ |___ _|_ _|_| _ __ | || __ _|  _ _|_|___||||_ |_||_ |  _|_ _ ||__| ||_|_|_||_|||_|||||_||||____ |||__|___||___ ||__|| | |||__|  | _ |_|_ _| _ _|__| |_|__ _|||__  _______||__ ||||_ __|| |__ |||||_| __ | |_|| _||||_|__| ____| |_ _|||_|_  |||_ _ _|| |_ |__ _|_ ___  |_ _|_ |_ _|_||  ||__||| ||__||||||| __| __|||| |_|_ |___ ||| |_||_ |_ _ ||    ___|_ _|_|| |||||_ || _|__ _| _|||_|||_|________ _||| ||__|__| ____|__|___ ____|_|_||__|||__||__|_||| |_||_ __  |_ |__ ____|_ _||__|____|__| __| ||_|_|  _|___|___| __ |_ __ ||| __||_|___||_ ___|___||___|_|_| __| | | _|__||__||_|_|_   |_ ___ _|_|| _____ | _|__||_|_  |  _ __ || |_ ||_ ||__||_ _  _|__ _|___|_ |_|_ || | ____|| __|| _ _____|_ __||| ____|| ||__ |_  _| __ _|_ | | _|    | |||__ |||_|_ _ |__||_|___ ||_| __   |  ||| | |_______| |||| _||_ |_|_||_|_| __|__||_||||||__   __|_ |||___|_||_||__  _ _ _|| | _|_|_  ||__|__ |_  __ |  _|_|__|_|  ___||_ |_  _||_| ||_||_| _||  |_|_|  |___|_|__|_ ||_| ___  _ _| __ |_|__|_  ||  _| _||_|_|||______|__  |||||  | ||||| |||||    ____|_ _|||_ |_|_ |||_|___|||_|| _|___|_|__||_ _||||_| ||||___|_|_ __ _ _ __|_ ||_ | __|||||_|_| | |_||___|__  ||_____ |||_  ___||__|_|____ _ |_||__|_|_||_ |  |___|_||_ || __|||||___||||_||||_    _ __|_|_| _ |_ __||| |__ __|||| _||_ ___|_|_||_|_ ||_| __  __ ||___|_|  |__ _||| | __ __ _|__||__||_ |____ ||_||||_|_|| ___ |||__|  _____|_|_||||_||_ |__| |_|_|| __|____||||___||||_||||||   ______|||_|_| ___    _ |_ |_|||_|__||| |_|____|||||_  ||  _|_ |||_|___|||_| _ __ _|| __ _| ||| ||__| | || _ __|_|| ||  _  |_|||_| ||__| _||  | ||_ || __||| |_|____|_| |_ |||_____ __|_ | _|_  _|||| |  _ |||__|__|___|  |__| |  _||_  | ||_  | |_|  |_|_ _____ _ _ | |_| |_|_| | |_| ___ _|| __ | ||___ |_| _  _| ||||_ |||__||_|__|_|__|||_|| | |___|||  _  |_|_||_  |_||__  | _  _||____| _|_|_____| __|_|_ _|_|_ ||||_|||_ | __|| |||_|_|_ _ | __|__    _||||__||||____|___|  ||_| __ __||_| || _|||___ _ ___|_ |||___ |||_|||| ___|_   ||__| __ |___||__|| |___  |_|______ |||__|| |_|||  _ |_|__| | _ ___|||| |_|__|____|_|_||_| |||_|| __ _  ___| ||_| ||__|_|_|_ _| __ |____|_|_||| _|__|_|_ |___  ||||__________ |||| |____| __|||_||| ||__| |_ | ||| |_|_|_||____ |  __|_|||||||_ _||||||__ |_|___||||_|||__||_||_|__ |||||   |_____| | ||||___|__ ||| _ _||_| |  _____|_|__|_||| __  _|__|_| | | _|__||||_ __||_   | ||| |  __ |__| ||___|_| |   __ |__ |_| ____|_|||| _ |||_ _|| _|| ||__||__| _|||_||||__| __||____ _||| __|__|_| _| |   | |_ | _|__||__|_ _ _||_ _|_ |_|_ || _| |_| ||__| |__ ____||_|||_|||  _|_|____| ||_ _____||_|| ||_ __|_||  _|||_||_|__ | _ | _|___| | _ ||_||_|||_ _||| _   ||_|  ||__|_ _| _    _||||_|| _|_|||_| ______|  ||_|_"
     ]
    },
    {
     "name": "stdout",
     "output_type": "stream",
     "text": [
      "_|_ _ _|__|  |_ __ ___| |___  |_|_|| |||_ _||_ _|_| __  _||_ _ __|_|_||_  ||_ _||_|_|_|_ _| ||_||__|||||  |_||||_||_|__||___ _||____ |||_||   ||||||_| |_ |  __| |____||||_ |_| _|__ ||_|  ||__| _|_|  |||  |_|_|__|_|_||_||_|| |___|___||_| || __ __|_| __ ___|__|_|__ || _|  |_|___| |||_ ||_| ||||   _|_||| ||_|_ _ |_  __ _|||_| |__  _|___  | ___| _|  _||_||_|_ |__||_ _|||_  |_||||||__ ___|____|__ _|| _|_ _|__| |_||_|_|_|_||_|_|___ |||_| __|||__|_| |_ |_  __|_|_|__||_|||__|  ____ | || | |__|_|| |  _  |_|__||___|_| ____| ||_|_ _ |_ ||_____||___ _| |_ |||||_| _|_ |__|| _|__| |_ || _ | _| __|_ |||| | _ _  _|_|_||__ _|__||__|||_ ___||_ _|_| _   _|__ |_ _|  |_ _|_____|  |_|_ | ||__||_||____ __ _ |  __ __||_|||______| _|____ _| __ _ |_||_|||||||||_| |_| |_| _ ___  | ||__|_|_||||||_  _|||| |_ | | _|_|_ | |_||_| __||_|__|_| _  |_ | _|__|__|||||  || _ ||_|_ _|__|_ _ _| __ | _ |____ |_|___||_ ||__ | _ __|_ _ _ _  _|_|_ |||___||| __ _||_|||__|_|___ _| _ _|| || |_ | _  | _|||_  _||___||_|||| _||_|_|||| _|__|||||||||| ||_|__||_| _| |_|||_| _|__ _____ _ _ ||||_ _   _ _|_||_|_| __ |____  __|||_| ___|||_| ||||    __| || |_|_||_ | _|___|||_ _||__|||_|_ |__|_|||| |_| _____|| __||_|    |__  | |  _  ||___ |___|||_|_| |__ _||_ _ | |__|_|  |_ ___|||||_|_|_|_ |_||_ ||__|_ || _ |___| _|  ||_|  _ |__| _|_| _|_||_| _ ||_ _|_|||__|||__|| |_ |_ _|||| |_| |  |_|_|| _  __ ||||||_ _||__|_|_|_|_||||||___ ||__|_||___| _| ||_||__||||____ |_| __  __ _|__ _|__ |_|||__|_ ||__ __||_||_| |||_| ||__|_ _||||__|_ _||_|_|| _|____|| __|  __|__| |_  ___|__||____ __|____ |__ |__|||_| _|_|_| ||_||__|_|___|_|  _|||| __||_ _ ||_ ||__||__|  _|__|_||_|_|__||__|____|||_ ||__  |_|_| _|_|||_|_|  |____|  | ||_|_| _|||_|_|_|_ ||||||||_||| _____||_ _|||__ |||  ||||__ _|_ __  | __||||||  |_|||| _|_|_ | ||_| __|  _ ||__|  |  ___|| | _|||___ |__  ||_|__|||____|___  __|_|__|||_| __||_  _| ||_| ||__||| _|_ |_||   _| _|||_|_|_||_ |_|||  |||_ ||__|___||__|||_|___|| || |||  |_|__|  ___|||__ __|__|| ||__||___|_ |||| ___ |||| |__|_|_||_ |_|_|__|| |  |_    |||__ _ |__|  __|_ _| ____|_ __ | |_| _|__ |____||_|__|_|||____| ||__ _| _ __  | __|| ||_ | _ _|__ ||   __||_ __| | ___|_||__ __ _|_____ ||_ |||_|| |  _|||_|__|____||| __ __||_ ___ _|  __||  |____|__ _|_| ||__|__ |_|__|_ _| | |_| __ ||__  ||_ _ |_ |___|__| _|||  _ ____|||_ |_|||__|  _ || _||_|___| ||__|_||__|_|_||__ _| ||__|_||_| ___|| |__|_ | |__| |_ | |||__|___||_||_____||| |||_| _| _|_ _|_____   _ ___|| |_ _ | __| |  || _| __|___ ____  _|||_ |  | _||||||__|___|_|_ __ ||  _ ____|||| |   | |_____| _|_ ||_|_ _ _|_  |___|__ |_| |___||__ | |_||     ||||||__| __||_ _|___||__||__|_|||| ||||__ _| |_||____ |||| |_  _| ||| _|__||_ _|| _|| _| _||| |__| __|_|||__|_|_ | | ____| ___|| _|||  |_  __  |_||_ ||| _   __| _|__|__|||||_||___  ||_ _ || __ _ | |_|| ___|__|_|||| ___| _|_|_||_ |_ _ _|___  | ||_|||   ||__  _||_ _||_______|______|_ _____||_____|_|_| _ ||_|_|_|_|||_ |_||| _| __ _|_|||_||||__|_||___| ____|| _  _| | _|___ |||||_| ___||  | |_||__ _|| ____|_|| |_  ||_|||  _|_|_| || ||___|||_|| _|_||__||||||___|||__|_ ____ |____|| |_|_||| _|||_||_|_||_| |___ ||||_|||_ __|___ _ | | __|_||_|_|__ |___||_|  | | | |_ _|___|_ __|_||| _ _ __||_|||_|____|||||_||_|| |__ |||_ __|__||___|_||_ |__ __ _| _|_ _____||___|__|_  _ ___|_|  __ __ |______ __| |_| _ _||| ___ _|_ ___||____|___|| _  __ | __|_| _||_____|_|___|_|||_____   | ______| _|__|||_|  |__|___|||  |_|_ _||__  __  _|_||__|  _|||||_|___||||_|_ |__|_||__| |_| _| _ ||_| |||| _ _|| __|__| _____|__|||||_ ____|__|_|_|| _|||||   |___ _|___||||_||_  _ | ||_  |_| | || ___| |___ __ ___|  ||| |_|__  |_|_|_  | ___|__||_|| _____||  _ __|  |||| _||_|__|____ | _ __ |||   _ ||  | |__||__| _ _____|| |  | |_|||_|_|__ |__|_ ||_|____||_|| _|__ _ __ | |_ _| || __| | __ _|_|___|___ __|_ _  _|_ |__|| ||_|||||_| _|||___ _|| |||_|__|_||||| _ _||__|_||_||_ |||||_ __ |__|_|_||___| _||_| || __  |__||| |_| |____| |  | |_ || || |__ |  __||__|_|||___ |___|_ ||  _ _|__| __|||___|__||_| __|___|_ _|  |__| _||__|_||_ ||__ __|_|  | _|||_| _|_  |_|||__ _||||____ |_ |__ _| _|   | _|_||__ |||_|_|__ |__ _||_|__|__ || |_|___ |||_|| |  || _|____   _|| |_ |_|  __  _||___| ||_ _ _ |___|___| |  __||___ ||||||_|||||   _|||___|| ___|_|____||| _ _||____|__|| __||_| ||| |_ |||___|__| |_ __|___|_|  _|__ |||  | |||____  ||__ |||_|_|_  ||||__|_||_|_||||| |__|||||| ||_|_ _|| _|__|  __| || | _| ||__||_ |__|||_|| ||_ |__ |_ |_ ___|_____|_ |__   ___|_||| __|_||_|||____| ___| _|||||_|_   _ |||_||||_ |__||__|_ |_|_ _|_ |_ || |___|_ _ _ _  || _ ||___  | |__|__|_||_|_  | |_  __| __|__ ||| |||_| |__ __ __|||| _||| _  _ __|_|||__||_|___|__|_|_  |_|||____| _ ||_|||___|_|__|__|||| |_|_||_|_||| | _||_ ||_| |||_|____||  ____|||_ ______|_|||_||__  __|_ |__|__||_|||| _ __|_|__|__|__ |_|| ||| ___ |||_|_ _|_|_||| |||| |___||||_|| |   __|| ____|_|_||| | | || |_||| _| || ___| _||_|  __|_ _||| _|| _||| ||___| __||__||||_|||||___   | _  ||_ | ||_|_|_|_||_|__  __ |__ _||   |__  __ |_||_|_|_ | | ||||_ ||_|__  |_|  |_|| |_|| |__|||_|||__ |  | ||_|_ | |___|_ _|_|||||_| ___||| ||___|_ |||_|| | ______ _|||__|____ |||_| ||| ||_|||| _||_ __||__||||_|__ _____ | | | _||||  ||_||||___  __|| ||_| __|| __|  __ |||| ___|_|| ||_|_|_ _ _ |_|__|| __ _ ___|||_ _| __  __|||||_|_ |_|_|_|| |__||| _|___ |_ |_  _||_ |||| ||| _ | _|____||___|_____|  ||| |  _   ___|__||  _ _ _||||| __ | _ |___||||__|_|_||_|||_|||_ |  _ ||||| ||___|_ __ ||_|__ ___|||___| ______ | _|__|| |__| _|_| __|_  |_|    ||_ _ ___||__ | _|__|__||||_ |___| _|_||_ _|| ||||  _|__|||_|_| |_ |_|_||_||||  |_ _|  |__|_______|||||  _|__| |__||||| _| ||| |_ | |_| __| ____ |___||_|_ |_| _ ||______|_||||_ _ _____|_ _  _ _|_||_||_|_| _|_||_|_ |__|_ ________|____| | _|_|__  |_ |_||_ _|_|__||_| ||| | __ |_| |||||_|||||__|| _||| _| |||_  _||_   _|_|  __| _||_||||___| _ |||_|||____ ||_||__|_||_|| |__|_  _|||_|_|______|_  ||  _ || _|___|_ |_ |_  |||||_|_|_|||| _|_ ||__|____||_ ___||_|||_||_ _|||_ |_  _  |||____ ||____||_||||____ __||_| __||||____ || _ ||____|_|| ||__|_  |__|||__|_||_|_||__|_| ||||  __|| |  ||__| __ __|_|___|  | _|_ _ _____ |__||__|_|_|__|_| | _|_ |____||||  _ |___|_|||____ ____ ||| _ _|___|_|_|___ | _| ||| | ____|  ___||| |_|_|___||||||_| || | | __| |_ || _|_|||___|__|||| __|_ _||___|||||_  | |  | ||_| _  _ _|______|_|_|__|_|_  | | ||||_ _||_ _ _ | _ |||__|_||  __||| ||||||| |_|||||_ _|_ |_|_|_ |_||||__| ___ |__|||_|_|  ||||___|_||_| | ||__ __|_ __|__| __|||| _ _|_ || _ _||||  __||_| |  __ ||_|||___| ||_ |_|_|__||__|| | || _|__ |  || |__||_|___||||__|__   _|  _| |__ _____ ||| |_|_  _|__|_ |_|_  |____ | | |_| __| _| ||__||||_|_ _|_||__  ||__|| |_||__| _|_||_____  | |_| _|||_|||_ _ | ||___|_ |__||||_|_||_|_|__| __ _|_||| _||_|||| |||_|__||_| _ |_| ||||||____|_ ___ ||___|_||_| ____ _ ||_|||||__| _|_|_| | _| | _| | __|||  |_|| || _|_   || _||_   __||||___||__||_|_| _ _|_ | |___|  ||___||||_||_ ___|__  | |||_| ___||_|_ ___ _|_|____|_ |_||||| __|_|__ _|  ||_|||_ |__|||| __ ||_|___|||___|  _|| _|| |||_|| |__| | | _|  _ _ _| _ |_||||||||__ ||_|__ _|| || | |____|||||_ ||| _|||_ __||_||_||||__   |  |_|__||_|| |_||_|_|___ _| _  || ||_  __ _____|_ | |_ |||  ||||____ __ _ | __|||_|||||_|_|__ | |_|||  _ ||_|| _ _|_| | _ |_|_ |_|_|___|_|___ |_ |_|__ |_||   _ _||___|||_______| ___ |  ||___ |__||  | _||___|_||_|_|||_   ||  ___ _| |_|_|_||__|||___ _ _|   ||_|||| ____ | |_|_|||_ |  _| _ _||_ |_ _|||_  ||_|_|_|_||____|||| _______|_| _||_|_|___|_||___ _ __||_|__|_|_||||||_|| ___|_|| |___| _____ ||||_|_| __||_|_ ||_|_ _||_  | _||| | _|__ |_|||  ||____|  |_|_| __|__|||_|__|||||_|_||||_|__|_||   |||||__ __|_||_| |_ __  ___|___|_ _ _______|| ||__ _|| |__|__|_|_ |_|_||| _ __|__|_|_|______ |||_ __|____|_|_|  _ | || __ |_|_ __|_ _||_ ||||  _|_|||_|_ _ | ||_____|   _||___ |___ __|  __|| _|_ |__|__|_||| |  |_|_|____||_|___|__|_| __ | |||||| ____|_|  |______  || ___|||__|___||_||||___ ___|__|____ ||_|_|__ |___ _|__|| |||__|_|_____||__| |  |_ _ | _||__| ||||||_| |||__|_||_ |__| _  _|||||| | _ _|| |_   |_  ||_||||| || |||_||_ ___|_|||_||_| _|_|||____||| _ ___|||_| |__|_ ___ ___ __|___||_ _ |_|_ _| ____|__|_ _ |||_| |||||_||||||| ___|__||||_|_|__|||_||_  | |  |__| ||  ___|_|_|_ ___ |______||||_ || |__|_ _  _|_  ____|||__|__|||||||||_|_||| _ |_||| |  |_| |____|  ||_____ _|__ _|_|||_| _|_ |_____|_|||_ _|| _  | ||_|| _ ||_|| |___ ||___|_ |_|_| | _ ||_|_|____ _|| _|_|_|||_||_ _|__|| _|__ _||_|||| ___| ||_|_|_|||| ____ |_ |_|_ _||_|_  ___ |_||_ _ __|______| _||_|| _|||___ |_   ||_ |_ _|_|___|__|_||_| _|_ |___ ||||_||__ ___| ||   _ _| ||_|  ||_| |  |__  | |_|____   _| _||| ||_|_||| ||__|||_|||_ ____  |_|_ | ||    | _| _|||||_||__ ______||_|___|_|_|___|_   | _ |_| _||__|_||||__||____ __ __||| ___ ||_|  | | _|||_|||_ _| __|  _||||_||_|_|||___  |__| |_|_____  _|| _|_|_ _|_  _||  |__| _| __||___|||_  _ _  ||| |_||__|_|_||_| |  |_|_||__|_|_|__| _||_ __||_|__| _|__ || ___|  | |__|||___ |__|_|_|_ _||_|| |||||||__ ___|||| |_   ||_| ___ ____||_||||_||__  _|__ __| |||||___||____ _|||_||_||  |___|_||___|| _| ||_|_||_||_|_| ___||||____||| |___|||| __|_||_|_||_| _| |||__"
     ]
    },
    {
     "name": "stdout",
     "output_type": "stream",
     "text": [
      "__||_ _||||_|| _| |||___||__ __|_|_|_|_|_ _| _|_| _||__| _ |||| |_________|_|||||_ ||_|| ||| |  ||||| || |_| _____|_|_|__|||||_ _  _|| |_||_ |_||||__|   _| |||__| ___ __|_|_||| |__| ||||||_  |||___|| | ||_|_  |||__|||___ |||___ ||| ||_ __| ___  | |_| __ |_|  _|_||_  ____| ___|||__|| |_|_|_||_|_ _ _| ___||||||__|_|_| _||___|_| __|__ | | __||||_____|__|||__| |  _____ _| |_|_|||_|_||_|__||  _|__|| |||_ _____||||_ _ |  | ||____|___ |_ ||| ||| _|_ __| |||_ |_ _|__ |_ __|||__||__||_|__|||_|_|_| _ _|||__ ||_|____ __|___ |_||||_| _|| |___||_ _||| |_|_| |_ |__||__ _|_| _|| __ || ___ _|_|__||_||_|__|__ _ _|  _|_|___ | _____ |__ __ |_ |_|__||  _ _|   |_ __|_ _||_||___ ||_| __| ___ |_|___ |_|_ ____ |||__  |__||__ _|||| __  _ __|_ | |__| |_ |||||_|___|_  |_||__| | _|__||__|__  |_ _|_| _ |_||_ || |__  |_  __||| |||___|_||_  |   |_ |||  _ | ___|||_|_|_|___|__||__|_  ____||  |_|_| _ |_  | ||__|__|_||| _|_|__ ___|||  __|||_ ||| |_|__|| |__|____||____|| __||| |||__  ____||||___ ||_|__ ||_|___ |_||__ _ |||| _|_| _|_ _|_____|||_ ||||_|_|  _ |_ __|__|  ___ ||| ||_  _|__|| _____|   __| _|_ _||_||_| _|_||_|_| _|||| ___|_ ___ |||__|__|_   | __|_|_||_ _____ ___||___ |__|___ _||__|__||| __ ||_|_ _|||__|||_ | _||_ __||___ ||| | |||___ _| |_| _ |  ||__|_|___  ||_||_|  ____ |____ _||  __ _||_ |___|__ _| _||__||__|    |__|| |__|_|| _| | __|  |__ _||||| |_| _|__ _|_|_|||| ||| __|| __ |||__||  __ |||  |_|| ||  ||__| _ _| |  || || |||_ _|||___|||____ |___  __|___||___ |__|||||||||_ _ ||_ | _ __|| ||_  |   |||_|_ ______|_   |  |__  _|__||___||| | |_  __||_| ||_|  ||____  | __ _|| |_|_|_ _|____|_|||_   _|_||_  _||_   _|||__  |_||_| ||_ |||_| ___||_||_||_ | |_ ||_|| _ __|| || _||| ___| || | ___| |||__| |||_ |__|_||| |||__|__|_|| |_|_|_|| |||||||__|| _|_  __|__||  __|_|| __  _ |||| |__ || | |  | ___|_ ||| |__ ||____  __ _ |  |__|| _|| |  |_  __      ||||__| ||_ _|_||||__ _| __|_|__ _ __  __|__ || | _ _|___  ||_|_|| ||_ | ||_|_|____|___|_ ||| |__ _|__ |___|_ _|_||||__|__|_|___||_ _|_||_| | | _ _||_|__| ||__ || |_||__ _ | | __|____ ||_  _| |__ _____ _| |__|_| _  _|_|__ |___|||_|_  __|| | |_ _|_ |__ __|||_| |_|| _||_ |||||| ||_|_|_____ || |||_|_ |||_|  ____ |  __|||_|_|_ |____|_|__ |______ | __|_||___ |||||__|__|_|| ___|_ _|__ _|___|  _|_| |||_|_||___ __| |_|||  ___|_||_||__ ||  _||_|| _||_||__||_ ___ |_ __  || __|_|  |  | _ |||_||__|_______|_|_ __|____||_| |_ __|||_||__|_|____||||_  |___ |__||   _|||_||_| _|_|__|||__ |  ____ _ |_|__ |_|| |__||_||____| ____  _|_|_| | || _||_| | __|   _| _|_  _|__|| | |____|_||_ |   _ _||||||__|__||_||_ __||_ |__||||||__|||_|__|_____ |__||_|__ | __||_ ||___ _ ||______| |_|_ |___|||_ ||||_ ||_| ___| _| _||| _|__||_  __|| | |||||__||  __| _||_|||| ||_|__|_|_| |__|_||| |_  |__ || ||_____|_| || |  || _| |_|   |_||_|| ||____ |_| ||_||_ ____|_||_|_ | | __|_|_||||| |||_|__|_ __||____ _ _ || ||_|_ ||___ _ |_||  | _||| _   _ |__||  _|| ||_ | |||_|___|_||||_||_ |_ |_ |__ ||_ _ | _|___||____ |_| __| ______|||_| |____|__| ||_|||||| _ ||__|  _||_|_|__ |  |_||__|||||_ _ || __ _| |__|  _ || ____   |_ ___|_|_|__||| _|_ |_ || ||___  || _|__ __|||||__ _|___  ____ ||__ _____||__|||__|_ | __||_|_|||_| __| _ | _|| |______  _____||_|_||_|  __|_|_ ||_ _  ||_|||| |_|_|_|_|_|_| ||| |   |__|_|_||_ | __| |_ | _|_ _|||_  _||__||_|  _|| |_|_| |_____|| _ |||_| |||  ||_ ||_||___|   ||__ __ ||| ||_||_____||_ |||_||_|__ |____|__|| |_ ||__|_|__ __||||| |_|| |__ __|__   _|   ||| ___|_||___ || _|_| |_ || _ |||____| |  ||||__ ____||_|| _ |_  |___||_||____|_| ___|_|| ||_ | ||_ | || ||_ _||_ _|__|||| _ |__||__ _ _||_ ______||____|___  _____ _||| ___ _|_   |_  || | ||| | | |_|||_||||_  _||||_ _||___|____|_ __ |_|||__ |_  _| |___  |_|  |||__ ____ ___ |_____|| _||_|_ _|__|||_|_ ||_|__||____ _ | |||_||____|_ ||||____ __|| | |_| |__||_|      |||__|__  _||_|_| _ ||_||||||__ ______|| __|||_ _| ||  ||___||___ ____|_|_|_ ||_|||_|||_||___||  |_|_____   |_| ___||__|_||_____ |__||_||__|_|_|__ _  _|_ ||__ ||||||_|_|__|_ _||||_ | ||||||_||||___||__|_| ||_|__|_||_|_|| _ |_ |||__ _|_|  __ || |||_|_ |_____|||_||__ |__ _  _||_|_ | _ | ||_| |_|||_|_|_|_ __ __||_||____|_| |_||  | |_ |||_  _| |||_  |_|__  |___|__ _|_||_| ||_|_|___|_|_ |||___ |___  |_____ __|__|_____|_ |||__|_||_|_ ||__||||_|| |_| ___| ||_| |_|_|_|_| _ _ _ _| _||_ _ ___ _  |||  | _|_ |__  _|_| _||||  _____ __||__| ___ _|_|  __|__ _ |_|||  _ _| |_||__||_ ||||_ ||| _ ||_|_________  _|__ || | ||_ _| ___|__ ||||_|_ |||_|____ |_||___|_|||___  ||   ||_||___ |||||_|  __|_|__ _|____| | __ |_||___ _ |||_||_____||_____||| _ __||___ |||__ ||_  _|||| |||___|_||_|||___||_  _||  ___|_|____||_ _| |__|||__ _|_||||_|_____|_ ||||__ ____ |_||| |||||_ _ | _|_____|_ __ ___||_| |  ____  _|_  __||||_|_ _|__|_ |_ |_||_|_  ____||| ||__ |_||_|__| ___  _|_|_ _|| _| |  ||||_|_| _ | |___|__ _|||__|__ _|  _|_ _ _ __||__ _ || __||||____|| __|_ __|| ||||____||_||||  _ ___ ||||__ | __|_|___||______ || _||_| |_|______ ||_  __  |_____|__|  |_ ___||  |  ||_____||___|_|__ _|___ __ _| ____|___| ____|||_|||__|_ |__| ||_|_|_ _| |__||_|_ _|||| ___| _  |___|| || ||| ||||_|||___ |__|| _| |__ _|| |__ _|||_ _ |_|||_  _|| | ____| |_|_ | _||_||_||_ _|___ || | |__||_|_|_|  |_||_|||_ |__ _ |___| _|   _||  _ |__  ||__| |__ || _||_|| |_|||_| ||_|_|_|_ __|_|||_|| ||__||_  _|____| _||   |||__ _|_ | _|_ ||| || | __|_| ___| _|_|__|__ _|__|__|||_____||__ |__  _||_||  | ___| |_||| | _| _ _|___| |_ |_||___|  __|___|_||||_  ||__|__|_ __|||_||_ _||||_||_|  __   _||_|__|_  __||_|___|| _||| |_ _|__|  __|__| |  |||||__|__|||_|||____||_  _|_||_ ||_|_|||| | || __  __ |__|||__|____||||_|| |__||__||_|_||__|___|__||___| |_|_ _| |___ | _|_||_   _||_|||||| ____|_ |_||_| ||_ _|    ___|||_ __| _|_| ___||||______ _____|_   __||__|||||_|||_ ||||_|||_| ||_ || _   |||_|_|||_|| ||| |_| __ | |__||| |___|  _   || _||| __|____ _|_||_|  |_||_ | |_|  | ||  __  _||||_ |__ || _||_|_ || |__ |_||_ |  ||_||__||| __|_||__   |  |_|_||| |_|_| _|  |_||| | __|____|__|_|__| | __|_ || _ |_||_|_||_||_||_ ||____|_|_  _|||___|_ |  |||| |__|_|||  || |_|_    __|||||||_  |  | || |||   ||| |||_|__|_  _ | _ ___| | |_ _ _| |||||_|___ _|| _ |_|___|_|_|_|__|_|_|_|  _|_____||_||_||||_|_||_ | _|_||  _||__ | _ _ | |_||| ||_|| ___ |_____ |_ ||_ || __|___ _ ___ _ _|__|__| _|____|||_____ ||__ |__ __ |_ ___|_| |||_  ||__| ||| ||_________| ___| _|_ || _|_|_|_| |_|__| __| __||___|| |_  _| __ |_ ||__||_____ _||__ __|| _|___| |   ||_ |||___| ____||_|__| _ |_ |_ | _ ||||_ _  __ __  _||| _ ___  _|_ _|||||__| __|| |____|| _||__ | _ _| | || _| _ |_||__| _|||_ _ || |||_|__|_ ___|||||_| __|_____|_   __ __|| |  |_|| _|_ _ |||_||_|__|  ||  _|__|||||_ __|_|_ ___||_||_||_ _ _|_| _|_____ ||__| _|____ __|_||||  |__ _||__  |___|_|_|   __| | _ _|__ __|||__  | | |_| |_|__|| |_| __|__||  _  | _|||__||| |||_ _||||||_|| | _|_|||_ |__||||| |  _||____ _ |_  | |__  ||___|| _||  _  | ___ |||  _||_|___  ||__ |_ _||_|___|||_| ||___|_| |||_|_| |_| |||||_____|___|||_|| _| _|__||_||__ ||||| _||||__|| _| ||_||_|||_ _|| |_||| |||_|_||__ ||_|  |___ _ _|_||__ |_||_||___||_|__|  |_|||_||____ || |_||____||_|||||__|| _ |_ _|__   _| |___|| |||___| ___| |||__ __ _||||___|_| _||||  ||||_|_|_||| __|_|| |__|_| |_ ___ __    __ _|_||__| ______||||| |_||_ | |   ___  |_|_|__ _| ___|_|___  _| ||_ |_|||____ | ___|_ |_||  | ||__|||_|| _|_|_ |||_|_____||___|_ |_|_  _ ___||_ | _|_||_| |_ |_|__ _ |    |||__  _||_||_| ||  _|___  __  ||| _|_ |_|_|_|_|_ __||_| || _|_| || ||_ _| __ _||_ | ______||  _||||___ |___|__|__ ||__|__|____    |||_|_||| _|| | _||||_  _|__|_ |_||_|__||||   |   _| |__  _||___ |_||_ || _||_ |_  ||||__|_|||__|_ ||____| _||_ ___|_| _|__  _|__|_| |_| ||| _ | _ |_|   ___ _|__|||_||___ _  |__|___ ||| |__|  ||__|| _ |_||__| | |___| ||_|_| ||  | __|_|||_ | __||  __|_| ____|||   _ ||_|_||_|| |||_||_|||_ |_|_|||_ |_|_|_____|||___||_|_|_|_| _| ||__||__ __|||| _|__ || _ _| _ || _|___|_ _| __||| | |_|| | _ ||_|||||_____ |||||_||| ___|_||_| |__|_| _  _|||_||__||_ ||_|_ _|_ ||_  |______   ||_|___|| _|| |_| |_|___ __|   __||_|_|||_ _|_ |_|_|_| |_  |_ _ | | | _ _|| | ||||__|_|_ |___ _ _|| ___|  |_||||_|_ | |_| |_|_ |||__  | __  |_||__|___|___| ____ ||_|||___ _|___|  ___||_ _ | _||| _||||_| |||__| ||_ _||| _ _|__|||___|_____  ||||____ | _ || |_|__ || ____| |||__| | |____ |_ | _||||___  __|_ _ __|__ |_ | |__ _| _|_|___| |__|_  |_| __| | _|||__||_ |_|| _| _____|||||  ||__|||_|| |||||| ||| |__ | __ |||_ __|||_| _|  |_ _  |____|_||__| _||_ __|___|_|__  _  ____| _ || ___|__|||||||||_||  |__|_|| _ |_|||__ |||_  ____||||| |_||||_ |_|| _| _|| _  __|__||___|   _|_||_|| || ||_ _|_||_||| _||__| || |_| ___|||_| |_ ____ _|_|___|_||    __|  |_||_|__ ||| _ |___ ||||| _||_|_ |  __| _ || |____|| |____| __|| ____||_| __|__ ||| _ || ___|_|_ ||______ ____| || _||_| _|||__|____|_|_  |_||| _|_   __|_|||__ __ |_ |||||_||| |_ ___ ______   _||||| ___|_||  |||______|_|_|_|_|_|____|||_||_|||___|| _____||| _|_|_| _||_|| ||__|_||_____ _||||||_______|||_ ||__|_|_________ _|||||| ||||_|_||||_|_ _ |_|||||__|__||_|__|__| _|_| ||||_ |____ _| |_|| |__|__|_______ |___|||___|  |__|___|_ ___ ||___| |____|_|_|__ |_||__|| __|||_| __||_|_ _||__|   _|  |_|_  _||__"
     ]
    },
    {
     "name": "stdout",
     "output_type": "stream",
     "text": [
      "__|||__|__||__|__  _ ||||_|_   _  |_||_|____|_ __ __||_ _ _| __ __ _ __| __ _   ||_| __  |||  _|_|  __|_|_|_| |_||______||_|_|_|||  | ||| |_ _|||__ __||__||| _ _|___|_ || ___||______ |||_|_ _ | __|_  |___||_|_| ||_||||_ |_ __|_|___ _|____|_  ||_| _|||| |___ ___|_| || _ ___ ___|______ |_||_||_|_|_|___| _|____||||_|_ __ ___|_ ||_|_|||_|_||_|_|_|   | _  | |||||_______|_|||_|_|__|_||_ | |||_|_|_|_| |___||__ |_  || _ |_|  _||| __ ||__||_| _|||  __ __|_| ___  ___ |__  _|___|||  __ __| __ ||_ _|__|| ____ |___|  ___ |_ __| |||_ |__| |||| |_|_||__|_| _  ||______||_| |||_| ||_ |_||| _||__|||  _||||_|   _ _|   _ | __ _||||______  __||||  |____|||_|| ||||___  | _|||_||__ _|||_|__|_ || |_| |__| ______||__|_ ___ _ || | _|_|_|| |_| | __|  | |_  |_|__| _| |_|_|__ || ||_||_|_|__ ___||__| _|| _|| ||_|||||_||_ |__ ____|_||_ _|_|_|_ | _ ||_||  |_|_||__|  || __  |  ____| _|_ _| ___||___|_|||  __|_|_|___ ___||_|_||_ __   ||__| __| __|___ |||___| |____|____ |_||__ _|   __|_ _|||  __  _| _ ____|_||   _| __ |_| || _|||__  |  |||||_|_| |||||__||||__|| _|___|_ |||_ _|_|||_|_ |__ _  | || ||  |_ |_ |__|_| _||| |___||_   |_|||||  |___|||__|   |_ __|_ _ |||||| |_|_ |    ||||___ _ |__|| |_||_ || _||_|_ _| _| | __ _|___|| _||||||| _|||_||_  | ||  |______|  |_|||__| _| ||_|___||_| _|__ |||___|_ |||__  |_ ||_||| |__|_|  ||_|__  |||||||_|| _|| __ ||____|_||  _| | |_| |__|||___  |__|| |||||| || _ __|____|||_ _||__||| _ || |_ |_||| _______||___  _|_|_____|||||_||___|_||_|||__| ||__|__ __| | _ _|||| ||___|| __|||_||_| |_ _____| _ _|_____ __||| |  |_| ___ _ _||| _| __|  __|_|_|_|_||||__|_||__| ___||____|||_|_||  __|_ _|_ _|||__ ___| __|_|_ |_ | ||||__ __||||_||_|| | |_|_  |_||___||| __|___ || | _ __|_|__|__ ||_|||_|___ |_|  __ ||_ ||___ |_||_||__  _|_ |__|||__ ||_|_  ||  |  _  |||_||__|_||_||_||__||||_|||_|| _|_  _||_|_|_ _|__ __  | ||_|_ _||____| _||_|___|||_|||_ _____| __ |_|_|||_|_|_|_ |_|||||_||||_|_ |_ _|_   _ |||__  _|||_ __  __|   _ ___|____||||| _|_|_  | _|_|| | _||_ |_|__ ||___|_| __ |_ _  _| _|||_| __||_ _ __|||___  __||__| ___ |_|||   ||_|_|_ | | _|_  ||______|||_ _____|__|_||| || |||_____|_ __|_|__|||||_ _|   ___|_|| | __ _|__ __||||| ||| _ _|_||_ _|_ |_ __ _  _||_|_||||__ ||__|  _| ||||_| |_ | _||_ ||_ ||| _ | |__|||||_|_| | ||| | _|| _|_||__ | __||_|_| _|  |_|__||||||_ _|___|__  _||___ _ _ |__||___ | |_|_||| ___||_||__ ||__|___ || ||_____|__||___|_|_|| _|_||__||  ||_ __||__| _ __|_   _|__||__| ||  _||___  ||_ _ __|_ |____ |__||_||__|_  _| ||||| __|_||__|| __|| __|__| |__ |___ _|||_   _ |_|| |____ | ___|||  |__|_||_ _ _    _   _|_||____ _ | __|| __  ___| _| |_  _|_ ________||  ||||||||___ _||_|| ___| __|_  ||___ _ |__  |||||_ ||__| _|__| |___||    |_ ___ | ||_| _ _| ||_|||_ _  |_ _  | __ ___ __ |||||_|||| |||_|_|__ || ||_|||  _|__|||_|_||  _||____|_|____||| |_  ||_|__|_  ___||| __|   |||||______ ___| ||_||_||__ _||_ ___   |_ ____|_|_|_|_ _||||  |_||_ ||||___|| |_| _|  |_|___ ||_| ___|___ || |_|__||____| __  |  __|_  __|_|| ____|_|_  | _|___|_____ _|_ _|_|_ ||||   || |||_|__|  |  _|_|__ _| |||_|||||_ ||_ __| _| _||_ |__|_|| _| ____|_|||_ |__ |_|_|  ||_ _||___ _| _|__||_ |  ||_ _|_ _|_|_|||__ | ___  ___|_ |||||| ||___ ___||_|_||_ __||___| |_|___ _ |___|_|_|||||||_  ____ __||_|| _||_  _ ||  ||_ |__ |_||_   |||_|_||__||   _ || ||_____||_   |_| || __|| ____ |_____||_ || __ |_ __| |||__ |____|  |_|_  |||  ||__|| __|___|||_| _  ___ _  ||  | __   || _||_|__|_ |_||_ __  | _||___||_____ |_| _ ___|| |||__|  __|_||_|||_ _|__  | |_| __|__|__||||_|||___ ||||   |||_||_||__    |_||_|__ |__  |_||_ |_ |||||   ____|_______ _ _|_   |||_|_| _|__|||||||_||__||||_| _|__| ___ |__|||_| _|__|_||  _|_ || || ___|||  _|_||_ ||_|_| __ ____ |  ____|||___||_|__|| _ |_||_ ___ _| |  ___ |_||___|| __|____||||||__   |_ ||_||_| || ||__| |_||__|_ _|_ |_ _  |_ ___| |__|||__||||_ ___||  _||_||  ||_|_||___ | || ||__|__|_  ||| ____| _||||__|_ __|||_|_||_| || __||_| |__ ____|||__ ||_|___|__ |_  _|   ||____||_ _ | ||| | _|||____|||__|__||__ | || |_||_||| ||_|| |||_ || |_||||_|_ _| |||| ____|_||__|_||_| __|_||_ _ || |_|___ ____ | |_|__ _|_  |___|__| _  |_| _ _|| __ |_____ ____|||__|||||| __ ||____||  _| |_  __|__|||__ ||  __  |_||___|| __ _|||__|| | _| ____| |_ __|_|_|| __ __ ||__|  | |_| |_|__ __| |_|_|__|_|_ ||_||    __| ||| |_ |__||| _|  | _|||_| _|__|  _|| _||____ |||__|_|___||__| __|_|_ |||_|__| |_||_||||_ _|||_||____||| ||_| _ |___||_ ||___|  |  |_| __|||_|| _|_||_|___|___ _|| |___||||  |  _ __| _ || _|__|||__|__|__|__||_ ___|   _| _ |  ____|__ || ||_|_|__||_|||| ||| _ _  ||_ _ |_| |_ |_ ___  ||_ _ _ ___| __ || |  ___|||||||| __|_ |_|_  _|___||||_| _|_| _ |||_ ___|_||_ ||   _|_ |___ _||  ___ | __| __ ||_|_| __| _  |_ __ ||||  |_| |_ __||_ ||| | |_ _|_ |__|___ |  __|| _| |_ |__|_||_|_|____ || _|__||_|  | |_||_|__|_ |_|_| _ ___||_ _  _|__ |_||_|_|_|_|_ |_ ___ |__|_|__ _||_|||_||_||_|_|_  |||_ __||_|| _||| ||_| ||_ _|___ _  __||_  ___||_| |||||||_|||__| ___ __|__ _| _ |_|_||_| _|_ ||||_| ||| ||  _|||_|_|_ ||||| _|_  ||  ||| |||___||_ _|| | _ |||___||||__|_||_   _|_||____||__ |____ __ |_ _| ||||_|_|_|_|_ | ___ _ |||_||__  __|__|__| ___ _||| ||||___|_ | _| |_|_|||_|_||_| |||___| |_|___|____|_ _  |_  _ |   |_  _|____ _ |__|| _|___|_||__ ___|| _ _ _|_||||  ___|_|_||_|_|___ __| _ _|__||___  ||_|||__|||||||__|___ _|_|| ||   _ _   __ ___| __|   || _||  _  _|_ _||_|__|_____ |  |_| |_|__  |__||||| _|___||_ |||__ ____ _ ||_||| __||_|_|_|  __|_| _  _| ____| _ _| ||_|__|| || |__|__ ||    | |__|||___ _|_| |__ _|__|_____ |||___ |__|___|_ ||__|_ |   ||_  _ |_|   ||| | |__|_| _| |||| _ |__|___|||_|__ |  |_||__|_|__| |_ |___| _ _| __|__| _||_|  |__ _|_ |_|| __ _ |||_|_|_   __ | ||__|__| ||______ ___|__|| |__||__|_|_||||| |_|| ||_ ||||____ |_||| |_||||_||_|| ___| ||____ ___|_ || __ _  |__|__|_|| |__|| |_|||| |||||||||| ____||__||____ _ ||| |__|__|_ |||||_|___|___ _|||_|_||__||____  |__ |  _||___|||_||_||||__|__|___ __|______ ____ ___|_|__||_|_ _| ___ _|||| |_|_ | |||| |_ |__|||| _||_ || ||_| |__ |__|_||____ |____|___ __||_ __||| _||||__|||_ ___  _|_ _|  ___|| |_|__|||__  __|||_ |___||_ |_|_|__|_| | _ _|_|_|_ _| |_| ____|_ || _ ||||  _|_____ __||_||_ |___ _ _|_  _|_||_|| _||_ |||_|||  __||_ _ | __||| || ||||_| ||___| __|_| |__|_|__|_  |  ______ ||||_ |__||  _| ___||  _|___|  |_ _ _ ||_| ||| |  __ | ____ __ _|||||| _ __||_|  || _||_|||| _ _||_||_|_| _||_|_||__ |_|_| |||| ||||__ _| ||_ |_ |||| _ _|_| |__   __||  |    | _|| ||__ |_||_|_ ||_ | __  ___ |||__|__|__|||||_|_ _ |_|_||||______ _||__ |___|__|__| ___ _||_||_|_|_ _||_ _|_|_ ||_|__|| ||| _ _ _|_ _|__|__    |__ |_|||_ _____|__||_|||||_||___||___ _||_| ||_|____|_|_|___| _|  |_| |___ ||  _||__|__|__||_|_ ||||| __|||||_||_||_|___|| _ _||_||| |___|_||_| _ _|||_ _ _|_ ___||||||__||  ||__   _|||__|_||__||_ ___||_|||_||||__|  | |_ _|__|_|_|_||_|__|__|___|| |_||_||_ _|_|_|____ | |||_ __|___|_ _|_ _||__|_ | |_ _ _||__|||| _||_|_ _  | ||__|_ _|_ | |___||__  ____ ___ _|_ | __|||_|_  | ||__|   _  _| |_| ||__ ||| |_|||__||  _ |_ _ |  __ |_||_| ||  ||||_|_|| |_|__||___|| |_    _|| ||_||___ |_ _|   ||_ _|_|__|_||__||_| ||_||__|____|_|__||___|_| | _| |||__   |_| | |_ |_____ |_||__|__ __  |___ _   ||____ |_  __ || |_|_|____ _|_ __|||_ ||_|__|_|_|| |_|_|_ || _ __|_||__| ||_|||_|____|| | |_| __ |_|||  ______ |______|_|_| |_|_|_ _|||| |_ ____|_  | |||_| |__|__|__||| _|  |__ __|_| | __| ___|_||__ |  |||___||_|_|__ |||| | ||||_ _|  ||| |||_|_ _____||   |_ ||__|__|||__ ||_ _|_|_|_|  _| __|| ||__ _||||_|__ ||||||_||_|__ _  _|__|| _|  |__  ||_||_| _|||||___|_  |_  __|||||_ ||||_ ||||_|_||  __|_|_ ____ ||||_____|||___|_ _|__ | |_||  _| __|||_|_||__| | __| |_|__| | ___  _|_||_  | _ |_| __||__  |||||||__ |_ _ _ _ |||_ ||||_  _||||_  |_  _|__| __|__||||_____|_|_ ||__ __| | | ||_||_|_ __ ||_|| |_ _|| ||||  _|__|_|__|_||| _|_|||| |_ __|_|_| ||_____ ||_|_|||___|__|_____|| ___|_|_ _ |_______|||||__|_| |__|___|_||__||_|||_ || |_ ||___|||||_ |_|_||__|||||____ _|||||_|_||||_____|||| |_||| _| ||__| __|___|  |__||__|_ |_ ||_| || ||||___||||__ _ ___|_ ||_ _  |__|_ ____|_| _|__ _|___|| ||_|_|_|_|||_ ||| _|_||||   _|__ ___ ||| ||_|||| | _  |_ ||| |___ _| | _|_ ___|_|  _||__|| _| _|_||| __ | __|_|__ |__|_ ___| __ _|_ _ |  |__| ||__||||__  |__||| _|||__|___| |||| __ ||_ |__||_| |_|| | ||| | |||__ _ |_ _ _|___|_ __| |   | __||_|__|_|||| |_ |_||__ _  ___ |___ |  | _ _ _||_|_| | __   _   _ |___  _  |___|||_  _| ||||  |__ |_ _|  |||__||||_||||_|||_|_  _ |___| |_ |_||| ||||_  _|||_ _||  | |   ||| _|_||_____|||___|||_|  ___|_|___ |___ __ __||___ ||__ __|__  | _|||_  __|___| __||||__|||||___|__|||||__|__ ||__ |___ _ | |  | | | _||__||| __|||||_  |_|| |_|_|__ ____| _||| _|||_  ___ |_ _||_||||_|____| ||||  |_|||_| |_|||_|  | __ ____|__ |||__| ||_||__|||_|   _||_ |_||_|  |_|_|__|_  _||___| _| | _|__| _| |_||____|| _|__| _  __|_||_ __|_|||| |||||  _ _ __||||_ | ||_|__|||_|    | || "
     ]
    },
    {
     "name": "stdout",
     "output_type": "stream",
     "text": [
      "_|||__|_|__|__|____|___|_| _||_____||__ _||_|___ _ |_|||__ ||_||| |_ _||_| |_ _|||_  _|_|__|||_||||||_||__ __||____ |__ |___|  |_ _ _ |___|||__|||_ __||__  _ _|_|_| ||| _| |_ _|||_ _||__ |  _ ___||_| _ |||__|__ |____ _ ||____|_| __||| _ |||__||  |__| ||| _|  |_ __ ___||_ || _||||||_|||||||| |_|| __| ||_____||  |_|__ ||_||_ _|| || || ___ | |_||   || __ __ __ _| | |___ ___|_   |_|| ||_|_|__    | _     __|___||_|__|__ _| __ |_|__ |__||_ _|||___|_ _| _|| _ |__| || _ ||_|_ _||||_|_||||_||||__| |___| | _  __|   _|_  |_ |_    _|| |||__|||_ _| |  _ |_||_|||||| |_ _|_ _||||_ |__|__ __|_ _| __||_ |_ |_|_ | __ |_|__|  _ _ __ ||_|__| | |__|_|____| _ ||||__|_|_ | __| __||_| _| ___ __|_| |_|||__| |_ _|_|___|  __| |_  ||| ___ ||_|||| _| _|_|||  _|___ _|| |_|||____|| | ||||_|__|___|_|_||_|||_ _ _||| | |_|_ _______| _|_||  |_|||____ ||_||__| _|_|___ |_ |_ _| _____|| |_   |__|__|_|   _|_| ||__||_|  _ _||| _|_|_||||______  _ _ _|  _|  ||_|||   |||_| |_ _|||_ _____ | _| ___||___ __|||_ |||||___ __||| ||||___ __| _|| __|______|| _ _|__|_ | | |_ _____|_|__| |_| |_ _ | |||_|_|_____ |||_ _||_|||_| |   ||__ |_  _| |__||_ | _ _|_|___||_||||  _  ___|| |   _ | _||||___ _|_||| _ |_|| |___  |_|_|_|_| ___|_ _|_|_ ||| |||| | _||__  |_ __ _|||__ __ |||_||____ |_|___|___ ___|_||_|||||__||_|_ __ | ||__|_| _|___|||||||||___  | __ _|_| _||__||__||_ |||_|||____|_|___ _ | |_ _||| |_|| _ __ |  | ___|_| ||||__|| |_| | ____||| | ___|__|___|_|  _||_|||||| |___| ____ |_ _|_|| _|_|_|||__ _  _|  _||_|| |___|| |_|__ _||__ _|__||_|_ _ | __|_|__|_||_      _ |___ | ___|||_|__||| |__| |________  || |_  | |_ _ ___|____|_  _||_||_ ||_|_ __| ___||__ |    _|_ | _ __| _||  _| _  ||___|____ |_ __ __|  __ _|_  _ ____|__||_|_||__ |_| | |||_ _ _|_||_ |_|_ ||||| _|___ ||||_||| | |  |_ |_ |____|__||_|||_|_||___ _||_|||_|__ ||||| ___ |_|__ _||_|_||_| _|_ _| __  ___||__|__||__||   |_||_| ___|_|___ _|||__| |_____|__|| |_|_  _|_|_ ____||__||_||_|   ___ __||||_|| _||_|_    _ |_ |__|_| | _ | | |_||_|_| ||__|_|___ __|  |___|||_| _|_||_||_||_||_  _||  |_____| __     ||||| |__|     _|  ____|_ __ ||| |_|__ __  ||_| |_ ||_|___ _ |___||||||||__|||_  ||_ || |||_|||||__|  _ _ _|_|_ ___||__| | _|_||__ ||_|_|_| |  |___ ||||| ||__||_____||_|| |__|||||_|| _||____ |_|_|__| _|_||____|_ _|||__||______ || __ | |__|||  | || ||_|__ |_|__|||_ ___|  | _| _|_|_  |_____||___ _||_ _  ||__||_|_|_ _| ||___| _|| ||| ||_|_|_ ___|||||__|_|_ __ _| |_ |  | _| ___|_ _ __ ||||_|||||__ |__ |  _|_|  ||  |__    __ ||___|  |_|_|||   ___|   _|_ __ __|| |_| __    _|_|__||| _| __ _|_ _  |_|||__ |_||__ _ _|   ||_||||__ _|__|| ||| __|_||   __|_ |_|_|  _|_|_|__   ||  ||__|_____|| _| _|__|_||_|__  __| |_| _||  || _|_|_|_ ||_|___ | | |___ ||____|||_|__| _||__| | _|| ||__|  _____|| __ | __| __|| __||_ _| |_ ||__|_| __|__ ____   __||______|_____| ||_||___||_| | _ |___|___|_ |__|__||   ||___|_ _|_ ||||_  ___||||__|| _|| ||_| | __| |||_  _|||__| __||_  __|_||  _  _|||||_____|_|_|  _|__|__|_||__|_||__ _|||||_  _ ||_ _ |_ |___ _ | _|_||___| |_ _____| |||| |__|||| _ |_ |||   __ |||| |___|__ |_ __ |_ |_||___|_ _ ___|__ _|_ | _||_  |||   _||| |_ | ____||||_|||_||_||| __||_ _ _||_||__ ||_||___|_|||  __|__|_ |_|__||_ _|_| | _||| _ _ ||__|__|__|| | ___ |_|__| | ___||||___  __|||____|___|  ___|||_|__||_ _|_||||____|_| ||     |  _| _| ||___| ||_ | |_||__| |_|  ||| __ |  _||___|||||  |_ |_|||||___| _|_||__ _ __|||||__|_|  ___|__| ||_|__|_ _ _||_||_|_ _ |_  ||||  |__||_||_ ||_||__||_|_|__| | |_ ||| |_| __ |||_| _||||_||| __ __|| _||___  _|__|_|_ _ _   _  || ___| _||_ |_|_||___|_ |___||_|___|____ _| _|_|| _ |__| _|| |_ | __|||__|___|||| _||_   ||_| _| _|||||||  | |_||||_____||_| | | | ||_ _|___  _||||_|||| |_|||__|| |__ | |||| ||__     _|___|||_|||_|___| _| |_|_ __|_  ___||||_   ||_  |___|____|__|__|   ___|| _|_||_____|____ ||_||| __|_|___ |_ ||_|_|_||__|||__ | |_| _    |||  ____|_|||_ ||_ |||_|||| _|__||||__| __ |  | ||||_|| _|_ _|_| _ |__||__|||__ |_||__  |_|_ | _||_  ___|_|__ ___ __| |_ _||||||_ |__||||_|___||_ ____|___|_|||  |||||_ _ _||___|_||_| |_ _____|_|_|_  _||__|| |__| | __|_____|___ _|_ |______||_ |_|_ ||| ||_|| ____|__||| __| | _| | || |__|||__ |____ _|____| ||_|||_||||__||_||_|||| _| | _||_| _|_|||_|_|_||||_|__|  ||||_  |__ _ _ _||_|_|||||||__ |||____|  _||_|   _____||_|||| _|| _|||_|_|_____|||__|__  | |||_||_| _|||_ |_||__| _| |_|__ _||_ _ _|_||_|__||  _|_||_|_ _| _||_ | _| ||_ ___|_ _||||_|_||  _ _|__ __|_|_||||_  _| _|| | _||_ || __|_||  _||| | ||| |___ |_|_| || _||_ _||||___|___|_|__ |_||_| |___||_|_|_||||__    |__||_||__||_____|_   |_| __  |_ ||__|_|_ | |____ __|_||_|||_|_ |    | || __|_||||_ |_ __||_|| | __|______|__|_ ||___| ||| _|||_|_||_| _|__ ||||| | _||| |_  _|_ ||||_|_  ___|||||__| | ___|  _|__|__|_||||____  | |_ |_|_ __|__||___| __|__ ___|__  _||||_|___|||  _|||__ __||||  | ___| ||__|_|_  |_|_|__|| |||___|_|||__ _| |||_|||||| ||  | | __|||  | __||_ | |_||_||| _| ||_ |__ |_ ||_|_| |||||__  | _____ __|||___| _|_|_|||_| __|__ |____ |__||| _ |_ _|_|  _||_| | || |_||| __||__|_|||_____| | __|| |_|___||_||__|_ |__ _____ |_|_|||| _||___ ||_ |__| _ _|__ _____|__ |_||_|_|||_||_|_|  _|_ ||_|||_____||_|_|___| |||   |_ __|| | |__ _ __|_ ||||__ ||_| __  _ |___|  _|_ __ _|___||__||___||__||  ||_||_ _|__|______  ||_   ||__ |_ |_ _ ___ || _ |___||_|_| __|__|_|___| |_ ||___||| | ||_ |_| |_| | __  | ____ || _|_||_ |__ |_  _|__||| _  __||||_|||_____||__ __|_|_|__|_||____ _ |__||______ __|_ ||_|_|||_|__|| ||_|_||_|__ || _|| |_||____| |_|___||__| _|   _||_| _|__||||| ___||_ | _|______|_ _|| |_ |||___ _| | | _ __|__ |||  |||| ||| __ |___|_|_   | __  |_|_|  |_|_|_||__|  ____|| |||| ||_| |||  _ |||||_ _  _| _| _|__|_ _ _| _||_|_ _    ||_ |_||_|   ||___|||_||_ _|_ ||__||||||_ ____| _| ||||_ _  _|__ |__||__ ____||_____ || _ _ __ ||| _ _||_||__ | _|||____||_ __| _|||__|_|| | |||||___ |_|_ __ _  _| _|||__ ___|_|__| _||__ _| __|_|_| |||  || _  ||| _||_  | ||_||_|||_|_______||_|_ _|_ _||__ |_|||__|| __ ___| |_| ||||____  _ ____|||____|_|__ _| _ | || |_|____|___|| |||_ _|__   |_|_ |||_|||   ||__||||_|_|||||||||||_| _ __|||_||| __||_ _| _|||||_||_|||__| |____| __|_|___|___| ___ |_|___|  |_||___ ___ | __|__||_| ||_||__ _|| |__ |__ _| _|____|| _ __|__|||_||||__|____ || ____| ___||__|___||__|| |__ _|||_||_|___||||__  ___|__||||   _|_|_ __| ___|__||_|__|___  ___| |_|_|_____|__|_||| | __||_ __|| |___|| _|_|_| _ |_|_ |||| _| |||||__ | |_|____ |_||_|__|||_ __|||_||__|||  _ _ _  | _||_|_|||__||| | ||__|_|_|__ ______|||_|_ _|_| | _ |____||__|_|_|  |||||||_|_|||  _|||_____||__ _|___ |__||_____|_| _ ||_|_ _  _ ||__||  __ ||| | |__|____|||__||  |_|_ |||_____|  _ _|_|_ __|| |_ |___| |_||_||__| __||| ___|||_ __||||_| _||_|__||||_ _|_|||__|_||_||| |||_| _ ______|||__ |_ |_ |_ |||__|| |_||_|__ ___ ___ | __ _|||_|_|_||| _||||_|||||| |_|__|_|||| |||__|  |__ | ___|__ _ |____||_   ||||_____| |_|_|| _ |___ _   _ |  _| |_|____|__|_ |_|| _ ||_|__|_| ||_|||_ _|_ |_  |___ |_|_||   ||__|_|__ _| ||_|__|_||_  __    ||||__|||_|__ | __|| _|__|_ _ |_|  ||| ___|_|__|||| |_|||__ _  |__|| |_|_||_| __  ||||_||||_|_ ||||____||_|| |||_|_|||_ _  __ _ _| _ _||_|_  _||_||_||_|||||_|_|  _||| _ ___   ____|_|| _ |||__|_ |||_ |_|_||_|| |__||||_|||_|_|___|__ | __  ______||||__|_ _ _  ||_| || |_||_||_|__||||__  _|_||_ _ |_|_ ___|_ _ |_|  _ _|_|_|__ |||| |_|_|____|__|||___|||__| ____|||____ _||___ ___  _|| ___| _|||| |____ |||____|_||||_||||  |__|||_|_ |_ |__| _ ||__|| | |__||__  |__ |_|__||_|__|_||_| _||_ |_|__|_|_|| __||||||_|___||||||_|__||_ |_|___ _|_ _||||_  _|__||| _ || | ||__ __| _ __|_   _||_ _| |_ __|__||__|_||_| | || __|____| __||__  __|||__| _|_|_ __|___  _|_|   _| |___|_|_||||_|_|  |_||__|__ __|__|| |___||_ ||_||__||| ||____ __|__|_| ||__|_||||__||____ _ __| __  |  _ _|_  _ |_| _ __|__|||| _ _|| _| |   _ | _||_  ___|| _| |_||_ ||  _| __||_ |_||_|___||_ |_||_|| |_|| ||_|__ ||| _| ||__ ___| |___| _|_|____|__ |||| |||_||_|_|_|| |_ |__|_ |||_||_|  _| ||__| | __  _|__| ___ | _|_ ____||_| ____|  |_ |_|_|_|__|__|_  |_|_ _|_ |_|  ||||__|__||||_ _||| _ ___|__ |_| _| |||| |___  _  _| ||___ ||_| _|  ||  | ||__|_ |__ _||| ||  | ||_|_|_|_|__| ||||_|_ |_||_||_||||__ _|__| | _ | __|__||||||___| |__ _  _||  ||__||___|||  ___| |_ __ ___ _|__ | |__ || ||_||_|____||| _| ___|__ |||__ _|__ __ |_|___ _|___|_|| ____|____|_|__|_| _||__||_|| ||_ | _||_|||||_|||___ _  _||__|_|_| ||__|||__| _|_||_ |___|_|||___||||_ ||_ _|__ __|||| |__|| ____|_ |_ _|_| __| |  |__||_|___|__|_____|_| ||"
     ]
    },
    {
     "name": "stdout",
     "output_type": "stream",
     "text": [
      "||| | |    |__| _  _|_|___|_|_||_  |||  _ _||_ |___  |_|||_||____|||___||||_  _|  |_|_|___ __||| | | _|_ ____|__||_| | _  |  | _||||||||_|||  |||_|||| ___  ||_|_   ||_|__||||_||_|| _ _|_|| _ |_ ||_ _| _ || _ |__ _|| _|| _||_| ||||  _||_| _|||| ||_ || | _| | |_|______||||_ |  _|_ |_|__|___|__|  ___| ___|_ ___|||__|_ |_| _||  _| |||_ |_ __ _ |||_|  | _   ___|__|||||__ |_|_|||____||_ __ || ___ ___|_|____ |____|__ _ ||| |  |_|_||_____|||_| _|_|__||| |_|||_  __|| || _||_ |___ ____|||_ |||_||__ __||__| || _ | _|| |__|_ __| ___|_|| __ _||  |||__|_|_|| ___||__||_ ||||_  __||_|||__|_|_|||___  ____| ||_|  || _|_|||||__|||  |  ____|_ ||||_|_|_ |__|___ ||___|_  | ||__ ||__|_|__|__ |_|_|_|___|_|| _||||||| _ |__|||_| _ _|  _| _|   || | ||___ |__ |_||_| | _| _|__||__| |_|_| | _|_||_||__|___|_|   _|_||_|| _| |_|_|_||||_||_|_ || | |___| |___|__  || __||_ |_| _|___||___ _|___|_ ||_|_  _|| __ ||__ ||___ |||__|||__ __| | |||| _|____|__|__||_|__| _|__ _|  |_|  |____| |||_||_|___|_ _|||__| _|_ _ |_| | |____|_|___|| _||___||||___ ||_|  _ _|_ |__|___ __|| | _  _|_ ___|_|  ||_|____|| ||_||_||___||__||||  _  ___ |__ ||_|| |___||_ | _ __| || ||| || _ _|_|_  |_| _|||_|_ |_|_|_||_ ||_|||_||||_ || __ _|_|      ___  |__||_||___ _|__|__|_|||_|_| _____| ||__|_|__ |_|| ||_|_|__| __| _| ___||||_| |  |__||   |_| _ _   ||_  ___  _ ____  __ _  |||  __|  _| | _____|  || __| _|___|||| |_ __|||___|||_||_|_||___||_||| _|_|| _|_||__ |_|_|||__| _ |_ ||_|||_|_|  ___|_|_||_ ___ _||__  |_|_ |_|_ |   |_ ______ || _ |____|  _|| _ |||_||___||_||_|__|| _|___|||| |_|||_|_|_____ ||__|| |_ ||_  _|_||_|_||____|||__|  |_|||__|||____|||_ _ _|_|_|_____||_|_|_ |_||_ | ||| | |__ _|| || |___|| _____|_ _|_|_  _||_| __|||_||__  |_| ||||____  |__|____|__|| ||_|||_ ||__ _| _|__ |||__ || |_| _ __| | __||||__|  |_|  _|_||||||____  _||_ |__|_|||_||_  ||||_|__   ||_||___  __| __|__|  _|_||_  |_| ___|||| _|||| __|| | __ | |___ | || _|_ ____| ||___ ___|_|_| | |__| __|_|______|___|___|_ |_ | __  || ||_||||__ ____||||__ ||__|  | |_||_||_ __|||__|___ | | _ _|   _ ||__|_ _|_| || ________|||_|_|_  |_||_ __|_  | |_ |__|   __|| |||  __|_|____|_|___||__|||__||____  _  _ __|_   |||__ | |____| __|__ __|  __|__|_ __ _|| |__ |    ____||_ _ _ _    __|_||_  _|_ |  _||__ ||__ |____||  _|_|||_ ____|__||___ ___| ||__| ___|||_|||__|||||   _| _|__ _ | _||| | |   _|_ __ _____  _  ||_ _||_ |__ ||_||| ||_   | _|__  __ _|_  _|   |_|_|__  __|_  |__ _|_||____|_|_|__|| _||   |||| ___|||_ |__ |_|_| _ _  |_   |___|  |___|||_|| _ _|_|_|||_____||__  |||_|_ _| _|_| ||_|__||| ||  __|_ ___ |_ | |_| |__||| |_||__||_ |__| || _____||_||_||__|_|_|||| _ _|___| ||   |_||__|_| _ _||||__|| || ____ |||___||||_  || _ ||__| |_||_ __||_ |_ _||||_|_||| |  ||_______ _|_ |____||_|_|_| _||_____|||||_   |___|_|  | _|__|| _|_ |___ |||| |__| _ ||_  |||____|_||___| |__ _ | ||_|_|_  _||||||___||| _  |___|_ __ |_|__|_|__ |||_| || | |_||_|||||_ ||__||||_|_ _  _|_|__ ||__||__ __|_|_|___|_ |_ | __|| _|  ||__|_  _ _|__  |_|| ||||___ _ |_| __|__|_ |||_  _|  |___ ||_ ||__| _|||_||| |___ _  __ |_  __|||| _||_|| __| | |||| |_|__||__|__ || |_   |__| ||__|___||_ __| |_ _|_||_| _|_|___| |_|_|||_ ||| _ __|__|  ||_|_| |||____ || |_ ||_|||_||  __|___||  _|_|||__ __|||_||_  _||___  _|__|_ _ | _||| _ _  __|||_____ __   __ ||  |_ ||| _|______|||__|____|_|| _____  |___|_|||_|_ _|_|_| _|||_____||| |_|_|| |_|___| __   ____|_||||||_ |_|__|_ _||||_|___| |___||||  _|||| | |_|||__|| | _|| _|__||_|_|__|_|__||_||__ |_|_| _|__||||__| __ | || _  _|||| ||___  ||_|| | _| ___| _|_||||||||_||  _|_||___|||__ |||_||||| ___ |_|_|_ |___|  |__|_||_  _|____|___ __ ||||___|||__ ||___|||_| |_||__|______|___| _ |||__ ||_|  __ _____|_ _||| __ | |__ |__ |___||  |___ _||| __  __| |_|_||_ |_ _| |__  ||  ||_______||__ _||_|_|_||_|_|__|_|_||_ | _ __| _ __||| |_| |__||_ __||_ || |___  |  ____ _|_  _|_|| |__||_||____| |__  | ___|_______|| _ _||_| _ || _| _| | |_| __||||_|||||_| ||____|| _|___| ||||__|_||_  | __| ||  |||   |_| __ _||__ |_|| _|_| |__|_|_| |___|  __|_  | |  _ |_  __||__||||||_ _ __ | __ |_| |_  |_ ____|_|||| |  |_  _| _| _ |_|||__| |__|_||_|__|_ || ___||__|____|| _|||_ ||_ |___|_||__||_  _ __|______|_|||__||||_|  _| __| |||_ __||_| _   _  _|||___ |_|_ |||_  _  ||_| ___|__||| _ | ____|_|  |__|| _   | ||||||___ _ __ |||_ |___ |_||_| |_ |_||_ ___ ||_ _  _ __  _  ___|| __ ||||_|_ |_|    |_| _|||_|__|||_|_|| |||___||||||_|_||_  _ ___|__|____|| |||_ _|__|__|__|_|__  |____|_ __|||_|_ ||||_||||| _|||||_|__ |_|__ || |__ |||__||__||_||__  |_|____||| | |__ _||__|_|| | _____|__|_|||_ _|_|___|_  |__|__|_ |_||||__ _|  ||  |   ||_|_|__||  _||_| |__|||__|   _   __| _||__||__ __|_|  ___|__ ___| |_ _ |_ _   _|______| _|___|_ |_|_||  |___|_|_| _ _|___||___|_ ___||_|  |||___ _| __|_|__|_|_|_____ _| ______||_|_______ ||| _| ||_|_| _| ____||| |_|  _||||_||______||_|  _  ___ __|_ __||| ||||||  __ __ _|_  _| _||||||||_|| _|_||| | |_|_ |___|_ |  _||_||||_||_ ||__ |_|__|_|___  ________|||_|| ||  _|_|__ ___|_||_ | _||  ||_||___|_||_  | |____  _|||__||_ |_|_|_  |___|__|_|__| __  _____|_||_|_| ||___||__|_|_|_|_|||__|_|__|_|__|| |__|_|||_|_|_|| __|__||______|____| _||_|___|__|||| _||__|_| ___ _|__|_|||_ |__| _ |_ ||_| | _|_| |_ __||__|| __||__|_|_|__  _||__|_|   _|||| | _|_|_ _ | _ ______||_| |  _|| |_ || | __||   _|___||||__ || __  ||_||__||||_ ___|_ _|___ _  | ||||     ||  ____|_|_| ||_ _||___|||_| __| |_||_|_ _||_|_||_|___ || |_|_|| |___|||_|||| |_| ____|__ _ _|__|__ ____|__ |_ ||__  | _|_ ____|||__| |_| __| ||__|||_ |  _ |_|_|_|_||__|||_|_|| _|||_|_  ||__|_  ___  |_ __| _  |||_||____||_ _||_ |_|_|_ _|______|| __||||   |_ ||| ||||  _| _| |__|__||__ _|||||_||  |_|_| _ |||||_| __|||____| |__||________|__||_|_ _||_ ___|__|||_|_|| ____|_ |_| ___|____ | || __ |  __|||_| _||_|| |_|__|____|_ ||_| |____ _|||_|| | _|_||||| __|__ _||| |___| _| __|__| ||||_   __ __|||_ | _ _||_||_|_| |__ |_|_|__ ____||___|||||_  |  ____ __||_ ||__ |_ |||____|_  | | _| _|_ __| |__||_ |_|_ _ ||__|| |__| _| __ ||_||__||||  | ___| __ _ |_ _|| __ |__ _|||_|_| __|||___|| | ___|||__|||_ _|||  _||_ |___||||_|    _|__ _|_ ||__ _|_|__|_|||_ _||_|_| _ ||  ___ _|_| |  _ ____ |||_|||__|||_|_ _____ _|__||_||_| _|__ _|_|_ __|||| | ___| _|_ __ __|| |||___ |___||_|_|_ ____|__|_||||_|___| || | ||___||__ _| __|__  |_| __| ___|__|| ||||___|| |||_____| | __ _ |__|| _ __| _|_|||__ | ||| _  |__  |_|||_|_|___ __ | ||  _||__|||__|____ __| |||  _|_| __|||____|_  || ||__ __ ||| || |  _ __||| _||  _ ||___ | _  |||_|__ |_ ||__|__ |_|| | ||___ __| __||_||||_|___ _| |_ |_ __||__|_|_|  ||| _|_   |_ | __||__|___ ____|_| __|_|____| |_ _ ||___ ||| _||_ |_|| |_|| _||||_|__| |_|____|| |_|_|_  _| |_| _ |_| ||_||| _  _| _| |__|__|___|_|_| ||___|| _|_|____|_|  ______||_ __|_||_|| | |_ |_|| _|_ | |  __|____ ___||_||__ |___|||_|_|_|||||___|___|  _|_ _| _|_|_|||_||____ |____|____|||__ ||_|_|  |||  _|_|_|_ _ _|______||_|__||||__ _|| __|||__||__|____ |  || ___||   | _| |  ____ |||___ |_| _ |_||__|___| | __ _| __||_|_|||_||_|| _|_|_ ____||  ___ |||_|__ __|||_|__ _| _||  |_|| _|__|_|_|||    |___|__|_|   __|||_| _ _|_|| _|_ | |||||_   __| |_| |___ _ _||__|_ __|_ _ |_|_| _||_ _||||  ||||_|_||__||_||___ __||_____ |__||| |_ |||__ | __|_|_ __ _||_||_ |_|||||_ |||_| || ___|_||________|  ____||___||___|||__|_|___ | | _|| _|  |_|_ |_|||__ |_ __||||_||  ||__|__|_ _| ___||_  ||_|__|_  __||_ __|  |____|_|_ ||_||_|__|| |_| _   ___|  ||_ __ |_|||__| |_  _||__||___ _  ___  __||_|___||__ | ||||____|| |_  _  ||___|   | _|| |_______|___ _|_|| __|____||_| |_|||_|__|__ _||______||__   ||||_||_| |_||__ ___|____||||||_ __|   |_||||||_|___ __ _| | ||| __ | _ |____ |_ _|_____|| |__ |  _|| |  _  ___|  ||_  |_||_ |__| | _||__||___|_|||_|||| | _|_|___|_| |||_|||  _|__ __||__||__||_   _|_ |_ |  |__|_|_ || _| |_ ||_|_ ___  _|_|___ _|||_|||_|_|| _||||   ||_| __| __|_||_____|   __ |_ | __ _|___|__|| ||_____ _ |_|||| _|||_ ___ |__|__  _ |_|||__| __ _|__ _|_|| ||| |__ ___||_ ____ |__|_ |_||_ |_|___||_______ __||_ | __| __ |_  ___ _|__|____|||___|_|_| | __|| | ||___|_ _|||| _ __|___| || |||||__|___| |__ _|  | ||__|_  _||___ _|__|| __|_ | |_ _||||__ || |_ _ |__   _|| |||  ||____|  |___ |||_| ___||_ |_ || __||_|||_|||______ _||_    || || | _|_  ||_ _|_|_|| __|__|_ |_| _|_|____|_|_|||_|__|__|_|||_|_| ||_||  _|_||___|_||||_||_ __||__|||||||__|_|_||_| | ||  __|||_||_| |_ _|_|_|__| | __|____||_|_|| __|||_|_| _   ___|_"
     ]
    },
    {
     "name": "stdout",
     "output_type": "stream",
     "text": [
      "|| |_||||_||_|  | __ _| ___|__|||||_|__| ||__|_||||||_|  |_ |__ |||__ |_| |_|_||_ || || | ||_  _ | |  _| |||||_|||____||  _|||__||_  __|__ ||__ |_|_||_||||_||_| ||_||__|___ _ _ _|||||_ |||___|| _|_|_ ||||||| |_ _|_||_____|| |__ __|__ |_|  |_|_|      _|_| _  __|| | __|  _||___| |_||_|__||_|_| _|______ |  __|   ||_ ___|_|||_ _||_ | _  ||_|_|  ||__|  ___|__||_ |  |_ _____ ||||| __|__ _____|||||_|||||__|  |____||_||||_||_|_|| _ |_|_||__|| | |____ _|_||_|  |__ __ _||||||__|_ ||___  __|| __|__ ||| __  ||____|| _|_ ||____| _| _ |_|__|| || __  _|| | ||_|||||_|_|||_|_|__ _||   | _  ___|  | __   | |_||_||____ |  _|||||  ||_  |_ __|||_| ___|  _|_| ||_ _ |||| |_______||_|_|_____|_____|||_ _|_|||||_| _ ___|___|___||_|||_|_|    _ |_|_|__||______ |____  ||_|__|||_||_||||___ _|_|_|||___ _||||_ _|_|_____|_|| __  |  __|___ __|| || |_|||_||__ |_  __|_|_|||_|__  ____ _|_||   |__  ___ _|| |||__|__|_||_ _  |_ __|_|_||| _ |___|_|  _|_______|||||__|_||_ |_||_ ||| ||____  |_|_|_| || _|_|___|_ |_||  __ ||| |_|||_||_|_ |_ _ _|_|||||_|_|_|| |||__ ||||_ |_|_  |_|||||____ _| |__| |_ |_ ||_||_||____| |_ |___|_ __|_|_ _|__| |__| ||__|__ | _   _||_| |_ |||__||_||| |||__ _ |_|_ __|||||___|_ | |_ |_|___|| _ || || ||_   | |_||  ||___|| _|__|||_|| __|_|  |_||_|_||  ___|__|_ ||____ |_ || _  |_ _| ||__ ___||_|  |_ |_ ____||____| ||_||_||_|||_ |____ |_||__| |_||| ||_ _  |_  __|_  _|||||_|_ |__||_|||__|__||_| ______|| _|_||  __|||__||| |__| _||_   |_|_____||____|_|||| ||_||__ __ _|_ __||_|_ |_|||_| |__| |_ |___|||_||_|||_|_|__|___|_|__   |__| | _|_ |_|||| | __|__|_ __ _||_||_||||| _|  __ |  |_|_| | _||__ __|||_||_ ||_ |||_||__||  |___ _|| |_ |__|_____|__||_|_|||  _||_|| ||__ _||| |  __|__|| _||| _||_ |||_____ __||    |___ _ _||||| _ _ |_ _|_|| || |_ _____|_| _||_ _|___ ____|_|_|||_|_|||_____|_ __||||_||__ _||||_|||__| |_|  |||__||||| | ||__|_| _||  |_|| _|||____  ||_|||_ __||  ||||||_ _||||| || |_|||| ||_| __ |_ _ __ _||||_||___|_ |_||||_ |_____|___ |__||_| ||| |||_|__|  __  ____|_|__||____| _ __|_|_| |  ||_  _  |   |_|_|||| |__ |_ _| _|_ |__|_|_| _|_ _|_| |____| || |_|_ ||_ | _ _  ___ | | _||_ __|__|  __|_|_|_||||_ ||_| |_ __ _| _ |_| _|| ||__ ___ |_||_|__ _||||_ __|| |  _||_ _ _ ___|__|_ ||_ _|| _|_||_|_|____|||_|||__|  | _||__  _ _  |__ |___||_ | |  __   _| __  __|__  ||__||| __|___||_ | _ |_|| __||_||__|_ __|| || _______ __|| _ ||__ _  __|_|||  __  | ||__   _| ||||||_||___| |____||_||  |_|__| ||  |__||||_ | _ ||_|____ _ |||___ __|_|||  _|__ _||_|_____|| |||_ _ _|_|||||__||__|__| ____  ___|__||_|__ __    _____|_|____ |_ _ _|  _| _| _|||__||_|_||_|___||| |||_|_ _  __|| _| |||  ||_____ |   | |_________ |_| _  ___  __|_|||| __| || _|| |_ _| __| _||_|_|_______||___| || || |__|_ __|   ||   |___|_  |_  |||_||_| |_|_ || |___|_||_||__|_|__  | |_||_|______|__| |  ___  _____| ___|__||__ _| | ||| _ ___||  ||_|||  _ _||| || _|_| _|_|| |_|__ _|_|_|__||_| __ |_ _|_| |_|__|| ||_ | ||__ ||_   |_||  ||_|_____| __|_  |_ ||__|_ _|||| |||___ _||||__ ||_ ||||||| |_|| || _  |__||_||__||||_|_| |_ _||__||_| ||||__|___ | |_||||_|_|| ____|_|_|_ |_ _||____  _ _____| |_||||___  _|||__||_|||__| _|_|||__||_ ||||_ |_||__|____||||  _ || || ____ ||__||||_|||___| |_ ||___|_||||||___ _|__ _ || | ||_||_  |||| ||_ ____| |_|__ |_|_| |_||_||_|_||__|| |||_|||_||__| ___| __|_|_|____||__|_ ___||| ___|_|||____    __|_|_|| __|_|__  | ||_|  __| _|_|__ __ __ ||__|  _||_|____|||_|_||___|| _|_|______| |_||___||_ __ _ __||      __|_  | _ _|_|||_ _|  |__|||| ______|_|_|_ |||_|_|  _|  ||_|_ _ ||_ __|||_|_|__ __ _|_|_|_ ____|_|||__ _|___|__||_||| || _||||_|_  __ ___||||_ _||_|_||    _||__|___|_| || || _ |_  _|_|||_ __|   |_||| _|__||_|___| |_|_ |  ||||___|____||  _||_ __ | _   __| _ _ ||||   _|_|| __||__|___|__||_| |____||||  | |_  || _  _||| | _||____ __||___ |__ _|||| ||||_   ||| ____  | || |||__|    _ _|__   ___|  |__ |___|||_|_|_ |||__||_| _ _| |||_||____|||____|_ |_|  | __|__||____|_|__| |_|__|_ __ |_|||| _|_| ||_||| _|| | | | ____|| |_  |||_||  __|_|__||||__||_|__||||| _|_|_||___ ||_ _||_| _|__|  |||__||_|_|_||_ |__|| __||_|__| _|_|_||_|_  __||    _  ___|_ |__|____||| _|____ ___|||_|  _|__ ||__|_|  |__|||_ __ |_||||_||| _ _|_||||_|_ _| _ | _|__|_|||___ _|_|__| |   |_|||| ||___|_|||___| __| |_|__  __|||| _||______|||____|||_||  ||_||  |__|_| _|_ _|___ |__|_ __||__|______| | _|||__|__||||  ||||__ |_| |_| _| || _|__||| _||||| _ | ___ | |_ ___ ||_|__||||| |_|____| _ _ ||__||_||  |||_|_  | _ | _|___|_|___|| |||__ _ __  _|||| ___| | |_ | |_|| ||||||__  _|_||_ _ |_||||||_|__||| ___ | _|_ |_ |_ _|__  _|___ __ ______ |_ ___ __||____  ||_|_____||_||| _ _____||| ||__|||_ |_||__ | _| ___ | __|__|_ _ __ ||| __ |||_ |_|_ ||  |__| _||||___| |_ _________|||_ |_ |__|____ _| _ |_| _____| |__| |  |_ ____ __||____| | _| ||_||_||| __ || _||   |||||_ _|_ _ _|___|_| _ _____| ||__  _|__ | |_||__|__|||  ___ _  __ ___|___|___ _|| |_||__||__||___ |__ |_||_ _||__|_  |__|_ _|||___|| ||||_|_ |||_|_|_____ _|  _|   ___|_ |_|||_|___|| |__|__  ||__|_ _||_| _|__ ||  | ___|__| _| ||| __||_  ||___| _  ___|_ | _|| |_  || _| | __| _ | __| _|   ||__ ___|_ |  _||_  _ ___|  |__ | ____|||__||_|__|_|__  _|_|||| ||________||_ |_ _||_||||| |_|__|_ |__|| __|  _ | __ | ___|||_ |_ |   |__|__| ___|_ | |__||| ____ |__  _ |_|__  | |_ _ _|||||_ ____||  |_||___  ___ ||_|||_  |__|_ __||___| __ |  ||||||| |_| _| | |_|| |_|| ||| | || _|_   _ _  _ _|___|| ___| |_|_ __|_____| |_|_||_| ||__ |_|_| ___| |_|| ||||_|_ ||__|||_ _ _ |__ ____  _  __||||___||  |_ _|_|__||_ ||||_ __||| |___|| ||__|_ | _|_ _|__ || _|| __|__|| || |_ |___|_|_ _|| _ |_||_ __|__ ||||||_  |_ |_ |_|_|  __||||_| __ __|_|  |_||_|| |__||_|_|_| _| |__| _   __||_|__ _ _||__|_|| _|||___| |_   |   |||||__ |__ ||| __|_||_| |_| |_|__||_| ||_| __|| _|| |___|_|| _ __ || |||_| __||||_ __|||__|__| __||_ | |||_|_ __ |__|| |__||__|__ _|||_ |__|_||_||_||||____|||_ ___| |__ || _ || ||_|||||____|___ ____|  |  _  __ _ |___ __ ___|||___|__| |  |____|_|_ ||  ____| ||_|___ ||||_| _| |  _|__||__|| _   ____ |_|_|_ _ |__||   ___|||_||___|  _||__   __ ||___ | _ | __| ___ ______  |_ _ _|___|____| |_ ||_ ||__ ____| _ _ __|___|| |_ _|||  _| ||__|____  |||_|_ |_|_|| | |_|____ __|__ __ |_|__|_ _||__|_|||||   _|__| ||_  __| |_ |_ ||| ||| |_ _|__|__ __|||_|___||| _| |_ | |_ _| ||||| |_|_|_|||||| _|_ |__|__|_ _|_|___ |___ __ _||__|| |_||__|||_|__ _||_| |___|_ |_|___ _ __ |||||||__|  _||| |__ _  |||||_|||| _||_|| __ ___|| |||  _||||_| |__ || _____ _____|_|_ _ _|_|| |_ |_| __||||| ||||__| | _||___  _ |_| _ _| |_  || ||__| _||__ _|  |_|_||_ __ ||| |____||  _| |_|||__|_ __ _|__ |___||||||__|_  _  | _   | _||| _ _||_|_|___|____||_ | || __ |_|___|__|| |||_ _ |_  ___| |__|_||_|__ |__ ___|_ |___|||   | _|_| |||_|||__|__ |_| |____ |__| |_|___ _| ||_ |___|||| |__ ||_|||____|_|_|  _|| __||_______ | ||_ |__|_|_ _| __|| _||  |__||_|_ _||  |  |||||__||_ ___|||||__ _ __||_|___|  |||  |___|||_ ___ ||||_| ||_||_|_| |___ _____| | __ _ _______|__|__  ||||_|  |__|_||__ |_ ___ _||__|||__|_ | _ __||  ||__ _||||| | ||_|__||||||_  |||__|_|_ | |___||____|_|_ |_|||____| | _|_ |_|_  | _ __|_ ___|____|_||_ |||_|_ _| ____ _|_|_||||_ |_ |_ |_||| |__|_|___ |_____|_|   ||||_ |_   _||||_||__| |__| |||| |_||_||| ____  |__|_||____|| |___|||||_ |||__||__  |___|___ _ | __|  _||____||___|_ __ |  |_|_|| ||__| |  |_ __|| |__ ||_| || _ ___|_| |_| || ____|_ _|||| |___|__| _||_ |  _|__|_ __|||_||||_|||_____ |_|||_|||_ |_|||_| ||_ __| |_|| __| |_|||_ |_ __| |||||_||| ||| | _  _|____|__|||||||  | ______|_ |__ |||_||__|||_ _   __ ||_|||  _  |_|| __ ||||_||__||__| _||||_  |  _|_|||__| _|||___|   ||____| | _| |____ ||_ _||||||| || || __|||| _|_ _||| _|_  |__| ||__|__|| ____ _||_|  ____||___| __|_ _|_ |__||  _|||_ |__|_ ||___|_ _|||_||_|  _ ||_||_ |____|__||_|_____|_|_ |____|__  |__|___ ||_||__| |_|_| _|__||_|_ __ | _| __|__||||||__ __ |  |_| |_|| |||||_|| | |__|   __ _ |____|_  |_|_ | _| |____ __||_|| | ___|___| ____ _   |||| _|_||| _ __ ___||_||| | _|___|  | _|||__|__|__  |||  |_ _ |_||||_||_ _  |____| |_||_||| |  _ ||||_ |__| |_| ||___|||||___|_     _|_|_|  _| | ||___||__||||_| _  |||_ ||_|||_||   _ __ |_||_|__|| |__ _ ||_| |__ ____|_|||||||_ ||| __ |__  |||| __||_||__ _|_|_  _| | _|___|_||| _|||| _ |_|||___|_||_|_||_|||__ |_|__| |___||_|_|||__|_ _|_|_ __ |_||__ |__ ___ _||_     _|_||||_ ||||| _ _|__|| _ ____| _||_   _   |||___| _  ||__ ______|||||_ _|__||____|_||_______  _|_||_|__ ___|_|_|_||_|| |_|||____|_ |||_|||_  _ ||_|_|__| __|_|_|||| |||_|_||_|_| ||  ____||_|_|__| ||_ __  ___ _| | _|_ |||_ |_| _|| _ ___||_|||_||___ _ _|_|_| |||__  _|_ _|||_| ||_______|_ _| __ _   || _| |_||_ _ |  __ __| _  ||| __|_|||||___|__|| ____|_ ||_||_||||___||___|_| _|__|| __|_ |||_| ||_|||_____| _ |__ ____ ||| |__| |__ __||| ___||_  __ ___|  ||||||___|_|_|_||_|  ||_ _||||_||_|||_ __| _|_| __ |__|_ _ ||||___|_ |  _|__|_ |_||_|| ||___|___ _ _____ ||_  __|   ||_||| _|_ | ___  |__|_|__|  _|_ | _ |__  | _ ||||| _| _||__ |_| ___ ||  ||  |__|_ |__|||__| || |_|  _||_|_   _||_   |_ _ | |_  ||| ___|__ |___ |_ |__ _ | |||| _|| |__|| |||_|| |__|||__|_ ||__||_|_ _ |_| ______|||  || |_||__|_ |___||__ ||____|||_ _||_| _ ____|__| |__|_|| _  _|__|___ ||||_||| ||_|  ___||_|___ ___|_ _ | | _|| |__  ||  |||__ |_|_||_  |__|_|__|_||||__|||_|  | ||||_||___|||_|  _ ___  _ _ | |__ ||||____|__||  | ||| ||| |  ||_||_|| __| _|||_ |_||____|_|___|| _|| __ ___|||| __| __  _  |_||||_||_||| |  |___| _____||||||| ||| _|_ ___ _||_||____|||_____||_ ___|| |_____|_|||  | ||___||||||| |_|_|||  |_||___ _|| |__| _"
     ]
    },
    {
     "name": "stdout",
     "output_type": "stream",
     "text": [
      "_|__|||_ ||_|___ | ||||__||__| |__ ||| ||__||____ _ ||  __  |__ ||| ____||____  __|| |__|_| | __ __||___|__|__|| _||_|__ |_||||_|| __|| _|||__|_____ |_|_|| |_ __|_||  |||  |_|||_|_|_ _|||  _|| ||  _ _|_|_|__|| __|| ||___|____|_   _||_   _|||__ _____|_|_|_|_ _ _|_|||__|||___||__  _____| | _||||| _ __ |__|| |_ _|__||_ |||  | | _ || | || _|  |||||__||_____|_| __|_ _ |||||   |_|__|____|_||_|_||__ |___||_ || _ | || __||| ___|_|_   _ ___||_| | |_|_| _|_|||_|| _||| ______|___|__||__|| _______|_| __|_|_ |||  ||_ ||__ |__|______|_|_|||___  |_____||____||  _|||__| __|_||__| |____|___ ||__|_|_|_ __|_|  ||_|__ ||_|__|___  |__|||____ || |_| |_ |_||||__||| |  _| _||____||_____| __|  ||  _||_ ___ _||| _||_   | |_|____ _|_|||_||_|_ _| |__||||_ |_|_|_ |_| |_|__ |_|__|_ __| __||__|   ||  _|_  _ _|| ____|||__||_|__|_|_||_ |_||_ |||_|_| _ |  _|| |_|_|  _ || _|||  __| | |_ __|||__|| __|_|||__ __|  ||  _ ___ __|_|___|  _|_||  _____ |||_|___||||__||__ ||_| |||___ _|_|| ||  |_| |_||||__ |_ | ||__ __|__|__ _|_ |___ _||_|_||_| |__|_|_|__|_|| _ __| ||||__|______|  ___|______ |||__|___|||_||__ | __ ___  _|_|| _|| |___|__||| _|_|  _|_||| || _|||__  _|___||| _ |_|||__  |__ ||   |_ __     _||___||_ |_|_ |_|||_|| _ __|_|||| ___  __ ||_  _| _  _|_||||_|____ |__ __||| |||| |__|___||   |  __ |_| |____||||| |__|||| _||_|||_|_|_ |_ |_ |_| | |_|_|_|__|___| ||| __|___ _____  |______|__|_| _ _| __|_|__  |||___|_ _|_|_|_|_ || _| _ __|___||||__|   ___| _ _ |_____|_ _ |_ __  __ _||||_|  |___ ||_|_|__|__|__ ___||___ _ ||_|_|_ _|||___ ||| _|__|_ __||||| |_|_ _| _| _| ||||_| |_|||||| _| ||___| _____ __| _||||____||_|_| ___ || _ ||_||| __ __   ||_| ||__|_|_||__ _||__|____||___ _|_____ ___|__ _ _  | ____   _| _||_|_|||||||_______  ||||_ |  _   _|||||_||||| ||_  |_||||_ __| __| | _||___ ___|| |__|||_|___ |||||_ |_| __ _| | || ___ __| _|__|  __|||___ |_ | _|_|| ___|____ __ _____ |_|  _ ||__||__ |___ _|_ |___ __|_| _ | |_|_||| |_||||_ |_  |_|  __|___|| |__ _   _||| __| _ _|_ ||__  |_|_ _||__|_|_|||_|_ __|_ _ ||_||__  |_____||| ||||| _||_ |__|_ _  ||_||_ ____||_| | _||||| ___||_ ___|||_| ||_|_|| _|| ||| ||| __ ||_| __ _||| _|_ _| __||||||_|| | |__||_____|||| ||| ______|| |_||_|__| | |_|_|   ||_||||_ |||_|_||| __|| _||_|||__|||||____||_ __|| _ |___   _||| |_| ||_|| ____|__||||_|_| _ _  __   ___ ||__|__|_ |_ _|__|||_ || ____|| |  ||||_ ||_ || |_| _||||_| |_  _|| ___|_|_ |_|_ |__|||||_  |_  |||__ _ _|_||_ ___   _  || ||_ ||||||___|__ |___|||||__ |___  | _|__ __||||_||___ | _|_ _| _ |_|_ ___||_ ____ ||_ ||_|||___ _   |||_ |_|__|| __||||_| _||___  | ||_||_|_|___|||_|_____  _|_ |_ ||| __||__|_|| ___   _ _||||||___    _||_____  |_|___|_|| ||  ___|_ _ ||||__|_ ||__| ___|__|____| |____|__|___|||||  || __| ||| |  _|  _  ||_||_  _||__| | __ ||_ |_ _ |_  |_||_|_ _||__|_|||_ ||_  ___||  |_|_||_| __||| |____|  _||| ||_| | | __|__  __||_|___|||__ |_|| _____||| ||__ |_|__|||_||_ __|___ |_  __ | ___ __|||__ |__||_______|_||_____| || |___|__|__|  __||_| |||||_| |_| __ ___||__| _||_||  |_| __ |__||_ _ _||_|||_  __|| _ _|_| |_|___| _| __ __| ||__ _ _____ _|_   _||||__ |_  _|_||_____|||| _|||_| ||| __ _ _|| _| ||_|__  _ | |  |_ |_   ||_|__ _|__|__   ___||_ _|_||__||__|_| |_ | || ||||____||__|__|| ||_ ||_ |_|_ |||___|____|| ____ |_| _|__|||||||__|_|||_ ||||||| _||_||| ___| _||__  _|__|_ _| ||||| _|_| _| ||_  |_|_ _||___ _|| __ _|||| __||___|_ _  | ___ |_|| || |_|__|_|____  ____|_|__|  ___|_|_|___||_|_ _|_|_||_ ||||_| | | ||_|| ||||__|_|||| ||_||__|___|__|__|__ | | |__|||_||_||||_|||_ _ ____  __|||_  __||||  | __|||_||__|||___ _ ||__|| __||______|___|_____| _|_|||| |_| _ _ _|___|_ _  |_||_ _|||_|_| |_ _|_|_|||_ |  _|____ _|  |_ _| |||| ______|_|____| _||||_|____| _ |__|__|_| __|_||  ||_ |_ ____||| |   ______|||_ |_ | |||_ _ ||_|| | _|__| _____|  _|_|_||____|__ ____||_|_ | |___ ||_  ___ __||||| _ ____| |_ _ __ || |_ ||_||_|  ||_||| _|||   _||||___ ___| | || ___ |_|___|||_ __|| ____ __|_______|_|||_| |||___ | __|||||_  _| ||_|||||_ |_|_  ____||| _ |_|__ ___|_  ||||||||_|_|__ ||____|_||_ _ ||_ ||_ _|| _| | _ _|_|_ || _||_|_|||||__ ||    __|_| _ |__ ||||__|____|__||__|||__||__ _ || _||_|___ _ __|||__|__|_||  _  __ | |__ ||_||_|||_|__|__ | _ |_| |  |____|_ |_||_  _ |_||_||   _||_|___________||_ _| || _||||_|_||____||_|__|  __ _______|_||__||  _|___|_|| __ |||_ ____| _|||__||_|||| __ _|  |___|||| | |_ __|__ _ __||____| _|||_|  _||___||_ __|_| _ ||  |  _|____||_ ___ ||_ ___ _ _|_  _  ||_|_ ||| |___|||__|____|_ || |  |__|__ |__|_||__|  _||  |__| |_|_|||_ |__|_  |_||_|__|_|| __|__ _|||_|| ||_ _____||   |_ __ ||   |_|_||_| ___ ___ _|_  |_||_ |_||||_ ___|  _|| ____ |||__|_|_| ||||___ _ | ||_  ___|_| __|_| _ |_|_ __  |_||| |__| __|__|_ |  ||||___ || |_||__ | |_ ||_|| ||| _| |  _  _  |_|__|__  ||_|_ |||__||||___|__|_| ||||_|___ |___|_|__ _|||_||||_||   | ||_|| |_|_|_ |_|_||  |__||__|||| |_ ||_|||_||_|____||||| _  _|_||__||_|_||_|___|||__ ||____||_||_||_||_____ ___ ||_ _|| _ _|||| _|___|| | __|| _____|| __| _|||  _|_|___| | |__| __ _   |_______ _ |_|_||  |||_ _|| |_|_||__ _| _ _|_____ |_| _| _|_||||_ _|_|  ____||__|  |_|____ _|_ __|_|__  _||_  ___ | ||| ||___|_|__|_||_  | __|_||_ |___|__ _|_||  _|_ || | _ |__|||_ | |||_|_||||_|_ _ ||| |||__|| _|___ |_  _||||_ || __ |||_||| ||____||| _| __ |||_|__ | _____|   __|_|||__|| ____| |_|__|_ |_ |   |  || ||||||___ _|||_|__||__| ___| _|_ |__||_||||_ __|_||||  ___  || __||_|  |_|||__ | _  _| ||||_| __   _ | | || _|_ __||__|| || _|__ |____ |_ |_ _||_|___|_ _|______|__ |||_ | _| ||_||||_|||_  _| __| _|_ ||__ _ || |_  |_____ |_||||_||  __|| _|__|_| __ __||___ ___ _ |    |||||__ _|||_  |__|||__||_|_||_|||| ||| ||_|_||_|_ __|_| __||__| _______| ||_ | |__||__ | |__|_ |__|_|_| | | __  | |  ||_|_|    || __  ___| _____|  __  _|||____|| |_|__| | _  |_| |___||| |_| ||____ __ |__| | _   __|  |_||_     |_|||__||_  _____  |__ __|__  ||___ | ____|_|_____|__ ____|__|| _ || _|||_|_|_|  | _____||| _| |__|___ __|__|||| ||_||__ __ __|  |_|__|| _ ||_|  | |_|__||__|_| _|_ __ |_|____|___|| |_ _|_ _|| |||_|_ ___ _ _ _| _|____ ||_||||_| || _ _|||||___||___|_ _|_ _ |  |||| ||||| ___|_|| |__|| __||_| || |  |___ |_|__  ||_ _|_  ||   |_|_____|||_|__|_|_  | _||_| |_||___|| |_|_ _____|_|___|_ ||||_ __ |__ |  |_ __| _|||||____|_ | |_| _|_|_|_| |||_ |  _|||____ ___||___ _ __ _____|___|_|_ |  |__| |_||_|_||||__|_ __ ||||| |_ | _ _ |_|_|__ _|_| _|||_||_|||_| |_|| |||||__ |_|____|||_|_|___ |_||_|___|_|__|| ______ __|__|_ | __|__|_||   |_|| |_ | |  ___|| || |__|_  ||_|| |_ _|_| ||_ |||_ ||   __  | | |||_|_|_ || _|_| ||__|_| |__||  |  ||__   |__   | _ _|||| ___||_|_|_ |_| ||__ ||__| __|___ ___|||___ ||| __ _|_| _|||| _|_|_||| _||||_  | |__ _|_|_|| ||  |_|_     |_||_||_|_| |||||__ _ |_|___|| ||_|||_|_|   _|___ _ __ _|_|  _|_||__ _|||_|_|_|||___ ___|| _| _|||||| _| _||__|_|____ _ |_|||_|||||_|||_ |___|_|||___ __||||| | __|_|_ ___|   ___ ||| ||___|||_ || |||||_ __  __|____| __  _|  ||___ _|||_|||||_||  _|||||__ ___|__|  |_| |||__|| __ || ||__|_ |   | |  ___| ___||_| __|__ |_||_|_ _|||||_ _| ||_|_|_| _|_|_|_|__||||_ __  ___|__|____||||_| |_|_|||_ |_||_ _|| ||_||_ |_ |   |__| _ __||_|_| ||___||||_ ||____|| _ __||_ _| __ __|_ ||||_||_  ____||| __|____||||| ||_ |__  _|  ||  ||_|  _||||__||__ ____   ||||__| | ||_ | _||____||__||||_|| _|  _ |_| _|| _|_ |__   ___|_|____ |_|_ |_ _  _| _ || _ _  |__  _||  _|_| | |_|   __|_|  _||| _|_| _ _ |_||| ||| | _| |_|| |||_|__||__||_|_||__|_|_ _ |||||___|| __|_ __  | ||_||_ __|| |_| __ | __|| |||_|_||_ _||| |____|_ ||||_|__|__|| ___|__ ||_|__| __|||||__|_ | |_ ||||| |__ _||| _ |_||||| |_      ||_ | _ _ __|_||||| __ |__| |||_||| _|__|_| |__ |__|_|| _ ||_||||||__  __||_|_| _||||__ _ | _  |__|_| _  _ _| _ _ _|__|_ |_|_|_ |_|_ __|__ ___|| |_ _ ||_||_| _|  |___ |_ |||||_  _ ||__||_|_____||  __| |__||| _||  ||_| ||_|| |_||||_| _|     ||_ | || _|_| __|| |  __||__  | | |_|||  |||_|_____||_|_|||_ ||___||  _| |__||_ __ | |_|||_|__| _|______  ||_||__  _ |_||___ _____|  || __| _____  _ |____|_| _|| |_|_||__||_| || _|  _   |__|| |__|_|_|_ | |_ __| _|__|||_ |___|_|_  _ ||__|||____|_ |||_____| _ ||||| ||___ || ||||_ | __  _||_||____|__  |____|_ | |   |__|||_|_|  |_ ___ | _|||||||_|__|_|| _ |_ __|__ || |||__||_|||||_||||  _|_ |_||___||_|__||_|_||_|_|_|_ _ _  |__|_||| |_ _|||_|___ |__|__  _||_|___  |__|___ | |__ _| |_| ||_|___| __||||_ _|||_|| _ |_| __||  _|_|||_ |||_ _|__ | __ |_| __||_ _|__|  _||_||__|| _    _ || | _||_||_|_|_|_|_| ||  |  |||__|| _| |_|__|____|_ |_||_|_ |||_| _|_||_| __  |_| |__||_   __|| ___ _|_|_| | |||_|_|_| ||| || __| || || ||_|___ |||_|___|  |||_||||| _|__||| | | __ || _||_|||_|| ___|||_| ||||||__|_ _ _ ||| || ______||  __|_|__ _|    __|_|___|||_|_ ___||| |___|| _||_|| _ ||  _|__||_|_||| __ |_|____ _ |_||_ | |||||_ __ ||| _|_||| | ____|_||| |||||_  |_|_||_|_| ||_|_|_|| _|__ _ _ _||_||_|_||_||_ __| |_|__|"
     ]
    },
    {
     "name": "stdout",
     "output_type": "stream",
     "text": [
      "_ | |__ _|||| ___|_|_| __| ||| _|_|  __   __||___|||__|_| _ |_| __|_|| |||_ __|_| _ _|| | _ | |__|___ |_ _||_|_ __ __| ||  _______ ||____  |_| |_|  _||__ _||  |___| ||_ _|  |||  | |_| |__|_|__   _|_|  | ||__|_| _| ||| __ |_||_||||_|| __  ___|_____|__ _ ||_|||_ |___||_  _| _|____|||  |||_ _||||  _| ||_ _|__|____|| | |||_ _||_ || __| _|  _|||_||||_||__ ___ _|________ _| |_|||_| |__| __|_ |_ _||__|_|_|_|||_ _|||_| | _|||_||__  |_|___||||||_|__|__||__ ___|_||||_|| |_|_| _||_||__|__|_|||_  _| || _|_  _ || |___|_||_||_| _  |_|_||  _||____ _ _|_|__ |__|_|__|____|||_|_||| __ | | _|_ || __|___| |||_ _||_ ||  __ ____|___||__|_| _ |  |____ _| | || _|_|___|||_| _ _| _ |_||||______| |_|_ __  __| _  _________  _ |__| |_|__|_____||____ | ||_ |__||||_ _| _||_|  |_| __ __|__  __|||__|||____ _ _| _|||| |__ | ||||___|  _ _||__|    _| |||  ___ |_ _____||||  ||___ _|_ ||_|_ ||__| _|||____|_|_|___|__| |_ _|| _| __ ||_| _|__||_ |__|_|||_|  __________ ||____ ___|_||__| _|_ |_ ___| _| _ ||   || |___|____|  ||___|__||___||||||__|| ||| ||| |_|| _|_|__||_||__|_||___|_|||__| _ |_|__ _|||| __|| _|_ |_|||___ |||_ _||___ |___|  | | |__ ___|   __|_||__  _|  _____|_ |_| || | |_|_|_|___ | _| _ ||_|__||| _|_||| |||   |||  |  _||___|_| ||| |__  _|__|_||__| ______|__||__|_| ||  __||__|||____|| |_ _||| |__|  ___ ___|_ |_| | _|||_|  _ _ |__ |||_ | |_|| | _||_|||_ |  |___||||_| _ || _|_||_ _|| |_ _|||_ ||_ _||__|  ||__||||||___ __|||| || ||||||||__| |_ _|  _|_||_| |_|_||  |_ | _ |_|| _|| ||_____ _|  ___| |||||| ____| |__|||_|____| ||_ __||||||_ | __||_ || _|_  | _|__ |   | ||__  _||_||_||__|__| _|_|||| _||_ ___|__    _|__ _ ||__ __|| __|_ |__ _|___|||| || ||_ |  _|_|__|_|_|| | _| __|_||___ |  __ _|| _|||__|| _|_| |_|_____ _|| |_|__| _|| ___  ||_| _ ||__|__|_ __||_|_|_|||____| | |__ __ __|__|___ |_   _| |_ __|_ ||||___| ___ __ _|_ _| ||| _ |_||| _____||_ _|_||__|__|___ _|||_|_||||_ _  | |__||_|_|||| |||___|_  | ||_||_||||_  ||___|__|__|  |___ _ _ _||  |_|__ _ _ | |||__|_| _|||||___| || |||| ___||_ || ___| |_ ||__|_ ____ __||__ _| | | _ _| ____ __|_||____||| ___||_|_|_||__ |_ _|__  | ||||_|___ _| || |_|||_|_   | |_|__||__|_|_  _|__|__| _| | ||_||  __ _ |_ _ |||_|_|||   ||_|| ||    |_ |||_||__|||||____|__|  _|_|||| ||||||_|_|_||||__   || __|__|  _|_    |_|||_  _| __|_|||____|||||  ||| _ |||_|__ ||_|_ |__|_||_|__ |||| |_ |___|||| _||___|____ |   _  |_  ||_ |____|__ | ___||__||_||| _ _|_____ |_____  | _|| |_|___||_|||__|_ __ |_|__| | ||  |______| __|| _ _| ||_|    |||  |______|__||_ _|| |__|_| _|___ |||| ___||||| |__||| _  _|||_ ||_ |_|___| _|____||_| _|| |___|_||||______ ____|__|  _|__|__| _ |_| _ |_ _|_|_ ||_|__||_| _ _ _|_ _ |_||_ |__|__ |_|| __|| _____||_ ||_||___||_|  |_|_| ______|||||_|  |||||| __ |__ | ___ ___||| |__||_||||____ | | |||||_||||| _|___|_|||  |_||__ __||||_|_____|___ | |||_|  |__|||_  |_ | |_|___|_ __|_|_|___|| ||| __| ||||_ __|||_____ ||  ||_|_|__||___||_||___||||_|| || || ___ __||||_||_|___|__|_ |__| _  | |__ | | __| |_  |___||_| __ ___||_ |||||__|_|||_ || | |_| |||||__|_|_ ||||_|_||||| ||_|_|| _  __|| _|_| |_|_ ||_||_ _ _|||||___  _|| |||| | __ __|__|_ ||_||  ||__ ___| | |_|_|__| _ ___ |_     _||_  _|||  ||| |__|   ___|_ _| ||_ ||_|| _||  __|__ |_||___ _||| __ _   __|  _|| |   ______|||_ |___||||__ |__ __||___||||_|_|__|  _||||_|_ __|__| |||| ||__|_ ||_| _ | _|||_|| _ |||__________|_||_|__ |_| ___|_  _||||_ |||||_|_|_|_|_ _ |_  ____||_|| ||||_|_  _ _| _ |___|_|||| __|_||| |_|_|_  |______|__|_|_|___| _ |||_____| | _|| _ _||| |____| |______| ||__| |_ | _  _|_  ||_ _| |||____|_| __||__| |_|||_|_ _|_  || _ __|____||_| |_ _|_|_|||___|_|___________  _ ||  ___|| |_|___| |||_|__||_|_ || ||_ _____|| _|_|| ||||_|| _||_| |_|| |_ |__ |_ |__ | _|| _||_|  | ___ |_ __|| _ _ _|_ | ___|___| __ _||_ ||| |_|_ _|_ _|_| |_| _ || || ___|||_|| |___|_ |_____|  _|||||_||_|__| |   | _ | _||____    ___ ||___|||  |||||__|__|||| _|||_|__| __|_||_||_| _|| _ _|_ _||_|  _|___||| |||    ||__| | ||||  |_||_||||__|   __||_|_  __|___|| |_ | ||_|  | ___||___ _|__ |____||______  _|____ ||_ __|  | |__________ _||__ ___|_|____| _ _|_ |___|_ _| |__| _|_| _ ||_| _ _|| _____ ||_|_|_||||||||||_|||___||___ |____|  |___|___|||||_| |__ _|__| |_  |_||_|_ _|_ | |_|| _|_|| _|  _|||| |||||||___ _| _ _|  | |_| |_|__ |_   _|__| ||_ _ ||___ _|_|_ _|__| _|_||||| ________ _|_|___ _|____| |__||_ |____ |_||_| |_|||_ |_|__ |_|_| | |||_ _ ||__ _|||___|| ___|_ | |_______ ___| |___|_ |_ _||_ |_|_|_||     ||__|_ _  _|| _ _ __|||___||__   || |_  || __| _|_ |  ___ ||__ __||_|__|___|  ___|  _||| ||  _|_  |||_|_|____ | |_|__|_||   | |_____||_||||_| ||_||||_||   ||| _| _||_|| ||_|__|| |_||__|| _|_ _||_ _  _||__| ||||||| |__ |||__||| __|_| | | ||||_ _ ||_ ||_|||_|_|_||||_  |__|__ |_ || |  __|_| || ___ | |__|||  _| _|__ |__|  __| ||_____|__ || ___|_||___|_||||_|_|_||__ _ |_|_|||_|__ _  _||_| |__|_|_|_| ||______ | ___||_|||_ |__ |_| ||___ __| | _||| __|||___ _ || |_ ||| |____ ___|_|___|_|_|__  _   _||__ _|| |___|___|__ ||__ _|| ||_ |_  | _|||_|  | _||__||_____||_|||_|_|__||_| _ |_|_|_|_||  | |||   _|||_ |____ |__|  __ |  __ _| _|||___ _|_ ____ |||_||||__||_ _|_| |||_ ||_  _ _|__|| | |  _||_|_|||_ |__|| |__| |_ | _|_|||_|||_|_||_|||_||___|_||__|_ |_||_ |_| |||_|___|||_____ _|| _||||__| _  ||_|__| _| |||___||_ |_|| |_  | _|__| |__ |__| ||_||   __|__ |__ |__|  __|_|||_|_ |||  | ||||_  |_||_|  |__ _|_ ___|||_| _||__| |__ ||___ ____    _|_||  _|_|__||_ ||_|___  | |__| |||  _|___|_||| _|_|||___ _|_| _| | |_||___ ___|____ ||_ ||_ |_|_|||_ ____|_|||_|__ ___|| _|__|__ |_ _|_|_|_||____ _| || ||||_||_||| _ _|_____|__ |||_ |_||_ | ||__|_| _||| _  || || ||__|____ _____|_ |_| |_||_ | _||||__|| _||_|__||_||||_|||_||_ |_ | __ |||__|_| _|_|_|_|  |_   |   __||_|__||_||_|_|___ ||||_||||| _ | _|__|____|__||_ ||_|___|| _||_|||____|| _|_|_ |__ |__|__||__| _   || _| _ _|_|_| _||_|____| ||| _|_|__|__||_ _||_ |||| __|  __||__| |_|| _|_|__|_||_|__|_|_ |_||| ___||___|_|__|__ _||_| |______|   |_ __||  | |||__  _  __ _|__|_|||_| _||_||____||__| _|| |_|__ |____||_|_ _|__|__|__ |||__|    |_|| _||_|||| __ | _ __|__|_|||_ __||  |||_  ||_ |_| ||||| | _____||||__|____ | |||_|_||  ||||||||_   |_| |||_ _|||____|_|_||__||_ _| |_ _| |_|||__|__ _|| |_||_| ____|___|_||_ |___|____|| __ _|_|_||__|| ||  |_ _|_| |___||||_|| _||| _____  |||__|||__|____||__ __|_| |_|__|  || | |||___||   __||||_|_| _|_|||_|_ __|||||_ _ |||| ||_|____|||_|_| _____ | __  _________   _ | _ |___ |_|| ___|_ | ||_|_ _ ___|||_ ||_|__|_|_|__  ||||____ ||||___| |_|__ __ _  _|||| |__ | |||_|_ | _| _ |__ _____|__||_|__||_ | ||_ |_|__    __|_|_ _||__ | |____|_ |||| ||| ||||____||_|_|____ _|__|_||_|||__|__  |__||  _ _  _||___||_|||_  _|_||_ __| _|_| |_ ||||_____||||__ __|__ _ |__ _  _|_ |||||||__| _|||__|__ |    _||_||__| ||____||| _|| |_ __ || _ || _ |||_||_|| |_||||_|_|||__ ||_||____  __|___||__|__ ||_||  ____|_||||_|  |__||||| |_|_  |_ _||||__|__|_ | __|_|__||| |_|_||___ _ __|_ _ |||_ |  ||||____  |||  _| _ ___| ||__ |||_|__|__ |_____| |||__|_ |_ |_____ _  _||_|___|__||  _|_|___ _|_|_ |||_ |_| _|_|_ _|_| | ___ ||| | | ||   _|____|_||_|_ _|__||_ |||___||__ __|| |__|__|||___||||_ |___ |___|_ |_ ||_|__|__||_ |_____||_|____|||||_|_ _| |____|__ |___ |_|__| ___| _ |_|||_||_||___|_ __|_|   __ |___||____ _|||  |_|__|_|_||_|__|_ |_|||||_ _|_ __|__||_|||_|||_ __| |   _|__ __| |_|__ || _| |||__| _|  ||_|| _ || | _|_ |__|__ _||| |_ __||_|_ ___ | || ||_ ||_||___|_|_|| ___||_|_|||_|_| |__ _|  ||_|| ||__| ||___|||__||__|||_|_||_ _|||_| _ | ____|| __|____  __ || |_|__|_|||||__ |_|__ |||_||___ _||_ __|| | |_| _|___| _  ||__ |||_  _ __ _||_ _|||____|_|  |_ |   |_| _|_ |||_|_ _| __ _||  | __| |__|| __   _|____| _____|_| |____|__||||| | |||____ ___|_ ||     _ |_||____|||||_ _||_ __|_|  |||___||__|__|_|  |__| ||___ | |__| |||_ _  _|_||||__ |_  |__||__||||_|__ _  |_ __| _ |_ | _|_| || ||| _|_____ |_|___||_ ___ _|_| |  |_||_||||_||||___|||    _ |_|| ||||||_||_|_|__|_ _| ||_|_ ____ |||| ||| _|_____ _| _|||__|||___  _ _|_   _|_|__ ||_|_|_||__ |||_| _|| ___|__ |_ _||| _| |_|__| ||_|||_| | ||  __|_|_ |__|||_ __ __|| _ | ___  _____|_ __|_| ||_||||||____ _|| ____||_ |____|_||___|__||___| ___|_|_|_ ___||___ _|_    |_ __   |_ |||__||_|||____|||___| |_| |||_ _| _ |_||   _|__ _||_  ___|_| | |_ ||_ _ __| _|||_||__|  ||_|_||_ __|| _ |_|  |||_|_||_|   |___ _|| __|_|_|_|| || _ _ ||||_ __|_|_  _| | _ |__|_|__ _|| ||_|| __ |_| __|_||_|  |___| ||_||||_||_ ||_|_| _ |||||||__|   | ||___ |_||__||| | _|___ _||_ |_||_ ||_||_ _|_ _||| ||_|__ |||  _______ _| __ |__|   ___|   |_ _ |__|_||_|_ ____|||_____ __ |_| _| _|__|"
     ]
    },
    {
     "name": "stdout",
     "output_type": "stream",
     "text": [
      "|_|||_| |_ ____|___ ||_ _|||_|  _   |_  ||__ ||   __| |_|____|| _|_ _||__|||___|_|  _ |_ |||| |__||_|||__|_|_|||_||_|| ___||_| _|| |||_ __|_|__||___  |_| __|||__|__||_|||_|__ ____ |   |||  _|___|_ |||__|||_| _||||||___ ||_|_|_| |_|_|| _|_ |_|_ _| _ | |||_ | | _ _ _|| ||___|   _  |_|||___||||_|_|_ | _|_| || _|_ ____   _||||||_____|____|_|||_|| |___ ||_|_||||_||_||| __||____|_||  |_|_|__ | || ____||_____  ___||| _|_|__|_|_|__| |_ ____ _| _  ||_|___ ___||___  ____   _|_ _||_|_| _ __ | _|_ |_|_||_|__  __|_||_|__||_| |__ |_||___ |__|| | ___  ||___ |__| ||||__|______| ______|__ |___|  | |___||__| _|||||_|||  |_||_||____  |  || |_||_ | | ___ _|____| |_|___|__  |__  _|__||_|_||____| |_ ||||__  _   _|______|    |_|_|_  |___|| _ __|__ _ |_|_|||_|_ ||| ||_ _|_ _| ||_||_||_|||||___||| __||_|__| |_|||||_|_ _||  _| ___ _|| |__|||___|_|_|_||| || |__||__||_ __  |__ |||_|||__ _|__ | ____ | |_|||___|_|__|___ _ |   ____|__||| _| | __|_| ___|||| |  _ | _ _||_| |_|_|| |___|||||||_||______  _||_| ___   ___|  ___|||||| |___  _ | |||||||__|_ ||__|_ |||||___ _____|_ |_|| |__|_ ___|__|| | ___ | _|__  ||| |_ _|_ _|__ || |__||_|   |_|__|_| _ ||_ _ | |_|||_ _ _ __||| _ _|  ___|_|_ _|_|_| __||_|_ _| _|| _|___| |_|___ | ___|___|__ |_ _|||_ __ | _ | ______||| _|__|_ _|| ___|  ||||__ _____||  ||||__| |_|||||___|   |______| ____ ___||__ | |_|  __ ___||_||_|__ | |_|||| _ _|_____| _||_|_| |_|_|_| __|__|____|_|__ _||_| | _ ____|__| ||||_| |_| | _|___||||_|__|_ ||_| _| ____||_||| |____ _|_|| | ||_|_|__|__ __|_|_ ||__||_| ||__|_|_|||||_|_|__|__ |_ _ _||_|__|  _   |_||_|___| _______|||_|_| || |_|  |_| ___ _||_ _ |_| _ ||_|||_ ||_ _||___|_____|_ _||___ |_| |||__ _|_||_| _| ||| |_|__| ||__ _______|_ _|____|_|||||||||_|| |____ _____||___||_|_||__ _|||____||__ || _ _____|_||__| _|_||_ |_____|||||||||| |__|||_|___|_|__ ||_ _|||| ||__||_ _|_|| ___|___|||___|_ _|||_|__|_|_||___||__|||||____ |||| ____|__|| _|  | __||_|| | |_ ||| __|||_  |__  _____||_  _|____ || _  ||| |_ |_|||_|_|| _|| |_|_| || | ____||||_| _ __ ||___| _ _|_ ___ _|__|_||||| |__ | _____|__ |_ ||_ _  |_| || _ ___|||||||_|_||__|_| | |_ |_|| ____||| __|_| __ ||_|_ _ ____|   __|__|___|  | ||| |____|_|__||__||___|_|__| |  ||__ _  |||| _|||_____|___ __||_|_ ||_|_ _ || |||_ |_|_|____|||  _| ||_ _  ||||_|__| ____|||_ _ __ _|||| |_|||____ |_||| |__|___|| |__ _||||| __|_|_|||||_|||_||__| ||__||_ ||_||  | |____|___||__| | _|||_|||__||__||||_||___  _|_____|___ __ || __|||__||| |_||  |__||||________||_|||___|__|_|_|_|_   |_|___ |_||_ __  | _|_|_|_ ||  _||||_||||_|____|_|||_||| __|_|_|__ ||_ __||__|||_ __|_| ||| |_|__|_ _|_|__| _||||| _|  |_||   ||| ____|__  | ||||||||| |||_||  _|| | || ||_|||_| |_| ____| |||_||____|||__ _|__|_|___| |||||_| ||_|||||__||| __|_ ||___ _ |__|_||__  _|_  |___|___ _|_ __| _||  |_||__|_|_ |||_|__|_|_|_| ||||_||| _|___|| _ ___|__|||_ |_||__|__| |__|_|_ _ ___ _ _ |___||_ ||_ __|||_|___ |__|___|||_|   | | _|__ | |  | ||_|____ |||| _| __ |_ _|_ _| | || ____|_|| _|_|_|__|_ _|_|   ____|_ __||_|||__  _||_|_|_|_||| __ |__||||_|__||| ||||_|_||_ _ __|| _ |_||___ |||||    ||||||||_|_ __||__ __ |__|_|__|__  _|| |_||_|||| ||_||||_ _|||||| || || __||_||||| |_|  _|__|_|||||_|_||_|_| |_||||__|_   ___|||_|||| __  |||__ _|____|_|  _|| _|__|_|__ ___||_|___ | |_| __|__|| _||_||_ _____ ___|_|||_ |||__ ||__|_  ___ ||_| ||||||  _ | | __||||__ ||_|_|_|_ _ _|||_|  |_ |_ | ___ _||_|||_ | _|_____||| __ _| _ |__| ___ |_|_|  || _ __||||||| ___ ||_| |||| ||_|__|___|_||_|_||||____||||| ||_  _||_ _ | |  ||________|| __| | _|___  ||_|||_______||| _|  __| | _| |||||_ _   ___||| |||||_|_____ _____|__ __|_|_ |__|_|_|__||||__ |______|| |  ___| _ | | || |__|_|__ |  _|__| ____ _||_|_ _|__|___  _||_|_ __||||_|||_| __|| _|__|||_ |||__ _ _|_ _|||_ __||_ |   _ ||_|___|__| | _ __|___|____ |__ _||_|__|||_| _|  ____ |  _| _|__|_|__|__ |_|| _|  || _|||____ _||_||_|__ _|_|  |_ __ |_|||||___ _|___ _ |__| |   _|||_  _|_|||____| _|_|__|| ||_| _| ____  ___  __ |___|||__|||||_| _|_|_|||||_ |_ ||_| _ _____|  _||_|||___|_ _   |______  _  _||| |_ ____|_||___|_||_|||_ _|_|_|_   ___ |_|||||__ | | ||__| _|__|| _||_|_||_||__  _|____ | ||___|___|||  ||_||______ _ || |_|| ||||| _||_ |__|_|||_|__ _|__|_|__|_ _|  |_ |___||||___|| _ |_|___||___| _ _|___||||  _|__||| ||_   | |  ||| ||__||_ _|| _ |_ ||_||_|_|__||||  || __||__|  _ | |||_|_    ||||| _|||    __ |_|_|_____ _ ______|  __ ||||||_||_| ___|__|||||_   _|_ ||_| | _|_|_ |_|___ |__| |_  __|_|____  | __|||___ |__   | ||_  | |_ | |_||  _  |_|_||_ _|_|||__||_|_ |___ | ____|||| |_ __|_|___||_  |___|_||_|| ||_|  |_|||__|| ||| _||_|_|__|   |__| ____ __||| ___  || _|||   _|   _ ||_ |__|_ ||__|__  __|_|| ||_|__| |_| || ___|_|__| |_||| ||||| |__|_ | || ||_||| __| _||_|||__|_||  _|__|| _ ||_|  ___||| ____|_|||__ _|||_ || _||||____|__ |_ _| |_||_|_| _ _|_|_____|||||_|| ___||||||_||_|_|| | ______||  __||__ __ | ||_____ __|___|| ||___|_ ||_|_|_|| || ||||   _  |_ _|  _ | ||_|__ |_|__||_||| |_|_|| _ _| |_||_|||__ | |||| _||___ |||| _|||_| _ _||_||_||___  ||__ ||_ |__  ___|__ __||  ||___|_  ||||||_|__|__ |___|__|| |__ _ _  | |  |_   _| ___|_|||___|| __|___|| |_|___| _||_   __||_ _| |_|| _ ||_||_|_| |  |_|_ ||__|_||__|__ _____ __  __|||__||__ ___ ||_ _|_ _ _ _  __||_|_|_||_ __|| _| _ |___|_____ | || _   |____| |_| |||_  __|__|||||_  _ ____ |__|__| ___ __ __ __  ||||| _||__|__   _   ||_| __ | ___|   _|_ _ |_| _____ ||_|__    ___| |__|_|_ |__||||||_ |______|_||| |||_||_|_|_______  |_| |__|_||| __ |_||_ _||_|____|| _ _ | _ || |||__|__ |_ ___|| _|_|||| ||_  |_|_||_||  |___ _|_ __|_| _ |_ _|__|_||_|||||  _|___| |_______|  |_||_  ||_|_|||__| | |_|_|__||_|__||__| _|_|||_| | ___  | |_ _|_ |||_|__|_||___|||__| _|__| |__||_||__||_|__|____| | |__|_|__|___ __ |||_|_|_|_ ||_||______| ___|||_|__|| ___| __  _| |||___ __| _||| _||___||||  _|_|_|_|||| __|__ _ |||__ _ | _ ||  _ | _|_||_||_|| |__|______| __|___||| _ | |_|| |_|___| _|||| _|__|| |__|||_ _  |_| ||| |___|_||_||__||____ _  __ _||__||___||_ ______|_ _| ||_|__ _|_ ____ ||||| |__| |_|_|_  ||||__||| |__ || _ |_|| | _| _|_____|_|_|_  |_   |  __| _|_ |___________|| _|_|_|__|___ ||_ ||||_ _|___|||____|| |_|| ||_|____| __| |_ |_|_|_||  _|_|_|||| |  __ |_ | |||__ | ___ _|| |__|||_|_ _||| |_||__|||___|_| _ ||_ |__ |___|__|_|||||| |||___|_ |___|||__|||_|__| ___||_ |_|||__ ||__|_|___ ||_  _|||_ ||_||||  _|__|_ _||_|___|||||||___ _ ___| _  ||__| | _|_|___|_ __||_|   _|_  |||_| |_  |||_|_|____|___|_|_  |||__ |_  _ _|||_ |||_| | |__||||__|  ||___|_|___| __||__|_|__|_|| _| _| ||_|_  |__||  __|____|_|__ __  |__ _|_||__||___|__ |||_||___|___ ||___|| _||_||____|||||   ______| ||||____| _ |_____ _| _|||||_ ||||__ _|_ |____|_|__    _ __ ||___|__| _| __  _|_|||_ | _____ ||| _| |_||___| |__||_||||_  || __| _| | | |_|| _||_ _|_| |||_|| __  |_|_ ___||||||_|| ___|||__ |||__| ||__||_||_ | | __||||  ___|____ __| | |   _|_| | _|__|| |_ ||_ |_|_|||| || _ _| __|__||_ | |__|__|| _||_|_|_||__|__|_ _|  _  |  _____|_ _|||||__|_ | _|_|_|__|__||_|__|_|_|_| |||| ||||   __|__|__ _||_ _ |||__|_ || |______|||||||||_|_ _|_||_| || |  _|_||_|   |   __| _|_|__||| _|_|| ___||_ _|_ _|__|||__   | _|__|_| |___ _ _||_ __|__ __|_|| |___ _|_|_|_ _|| |__   |_||||||_| |_|___|_|_| _|_| |_|_  _ __|__|||_| | _|||__  |__|_ ||  |||___|__||__ |||__|| ||_| ___| ||| __||| |||  ||_|_ _|_ _|||___|_| __| |__|__|_ |_|  || || |||_|_|||_||_ |___  _||__||| |_ __|  || |||__|_|_ ||||| _| __ _|___||||_| |__| |_ _| |||_||__| _|____|||| _ _| _|_  _ |_|||_ |_|| |||_ | __|_ ||| _ ||_  _| _ _ ___ |__ |_||____ __|_||__ _||| _|_||_| _ _  __|||___|  _||||| || _|||||___||   ____ ||_ _   _|||_  _||____ ||___||_| _||__|||  ||||||||_ ||_ ___||_ ||| __| ___|| |_ |__ |____|||_|||_|| ||| |__|_ __||__|_||_|||||_||||_|_|___|___ ||__  ||_|||__|_  ___| ||__ ______|_|_|_||___ |_  |||_ _|_| |__|_  _|_|__ |___|_||_|_||__|_|_| __||_____|  _ |_| _|_ _|| |___|_|  ___||||__| ___ __ __ |_ |__|___ |||_|||| __ ||__|||||| |_|___||||   ||_|_||_ _| ___ || _ |||_|    |______||_|| ||_ |_| _|_ |__|_|__|____  |_|__|||___| ||_||_|_ ||____|__ __ _|__||___|___|___|__|__|_|||___| __|__| |||__|___||_|||_| ||  || ___|__   || || _||__||||______| _| |||  | ___|||||||____||___|| _ _||  _|||__|||||__|| |__|| ___| __| ___||_ || | _| |||_|||||| || |||_||_____ ___ _|_||___|_||||| ||__|_ _ __||_____|_ _| | _ _  |_|__|_|_||_ __|__________||_|___|__ _  |____|  ____|  |_|||_|_| ||||___|_||__ _| __| |||| _|_|||||_ | _ |_|____ | |||_| |_ _|||_|_ | _ _|| ||_|| _||||||__ ___|  _| _| |||_ ||___|_|_|_|||| _||_ _ _ _||| _|| |___ |_|  _|  _|_| ___| |_  ||_|___||__ |__|   _|_| |||_||_|__  |||  ||||_|__ __  ||_ _||__ _|||||____|_ ||_ _ | ||__| |||_|_|_|_ _|  __|___||__| __ _|__|_ __|||_|  __| ||||_||__|_____|____|__|__| |||__|| |||_|___ ||_ ||___||||| _ _|||| || _|_||___ __ _||_||_||_|  __||_ _||||_|||__  ____|__|_|||||_||| _ |__ _   _||__|_ __ | ____ || _| | __|_||___ __| | _______|_ |_|||_|    |__|_||  _ |  |_|__ |_|_| _| |_|_||_____||_|_____ __||| _| _|  |||_|___| __|__ ||||_|__ | __|__ _ _||_____ _|  __ ||||__||  _|| | _ |__|_    _ __| |||__ __|__| _ ___|__|| _ ||   |____||||_| | _|_| | ||| |_____ ||__||  ||___||||___| _|_| || ||_  _ _|||_ __||  _ |  __ |__||_|___ ___ __  ||| _ _ ____| ||__|_|__||___  _|___|_|  |__| __|_|||_|__|__|_| |_|||_ ||__|| __| _|_|_|__| | ||___|| |___|  |||_|  ||| |||||| __ _|_||__||| _|__|| ||_|____ ___|_ _||_|_|____|__|_ |_ || ||||_   | | _|| ||  _|_|___|_| __|_ __|||| ||_||_|__|_|__||| _| |||_|| ||| _  ___||_|| | ||_ _ ||_|||__ |__||_|_|"
     ]
    },
    {
     "name": "stdout",
     "output_type": "stream",
     "text": [
      "| ||||__ |_||____ || __|_|__ |_ |_|___ _  | _ |  ___||  |_ __|||_ _ |||| |_|| ||  _|__ |___||_||_|__ _ ||| _______||||__| |__|||| || _|||  __| |_||_ _|_  _|_   ||__ |_|| |_|_ ||||||| | ||||||____|__|_|_|| _|_ _|| |_|_||_ _||_____|_ ||||_______ _______||_|| | ||_|| |||||_|| ||_| __ _| |_ ||| __||| |_|_|_|__  || _|  ||_| _| _|||_||_ ___|_|_|_ || ||||  |_   |_ ||__||__||| |__ _|  | _ ||_ _ __|_|__ _|  |___| ||_ _|__ |__|__   |__|_|||| ||__ __|_|_||_|||||||| | | _| _| _||___ |___ _||_| |_ |_ _||| _|_  |_ _|__|    _||_||__|| | ||__ |_| |__ || _||  || |_|_|__|_|__||_  ||_||__|| __ |_| _|_  _  | _||_|___ _| |__|_||||__ ||__||_|_|||||___||__|___|_||___|_|| ||  _   _ | _ || |_|__| _|_||___|_ |_||  __| _|_|||_  |_ | |___ _|_|__|  |||_|_ |||  ___||___|||______|_||_|_|  _|_||| _| || |||| |  _ __|  _ ____| ||______|| ____| ||_| ||||__|___ ||||||_|||_|  |   | |_ ___  ___ | |_ _| __| _ _|_|__|_  |||||| _|||_ _| || ___|__||__||  ||_||__|_  _||||_|__|_||| | __|||__|_|__|__ ||||||_|| __|__|_ ___|||||__| |_|||| __ _||__||__ __|_||||___ _|__|||_||__|_|||_|_ __ _||_|___|__|_| _|___  |||__ |___||| |  ||| |||_|_|| _|_  _ ||_|_ |||||___ _|||__|||_| __|  ||_||_____|||_ _____|  __|_ __||_| __|  |||__ ____| ||_ _|_|||_|_ |_ _|||_  ___||_ ||  | _| _   |_|_| | _|____ |____  ____| _|||||__|_|_|_|  _||__ ___ |||__|__|||___|_|  || _||||_ __ _|||| ||__ |_ _ _ ||__||  | _||_| __  |  | __| _|___| _|____|__  _|||||||_||_ _|___| ____  | | _||||||___|||| || |_ _ __||||| |_||  __ ||_ _ ____|__ __|| ||__|___| __ || |_|_ |_  _|___|_||_|_|_|_ ||||||_ _|__ ||_|___|| |_ | __ ___ |||_|| |__| _| _|____||_ _| _ _ |  |_||_|||_| |||||| _  _||___|  __ |||____   |_|_ ||_|_|| _|_ |__|  _|| _|  _ | __ _ _ |_||_| |_ | __| || |_  ||_ __| |__|_|_|_|||_ |||||_|||__||| |__ ________| |_|_  || _| _____| __|||| _|_ _|| ||_||| || | ||_| |_|____|||__ _ ||_||__|_| _____|_ |_||_|| |  __|_||_|||  ___||__||| |_||||| |_|___|__||||____| | _ __||||||__|_|__ |_||__|__|_|__|_||_|___ ____|| __|__ __||||||_||___|__|_|||__ |||__|||___|_||| |_|||___||  |_|_|_|| |_|| ___|  _____|_ _ |_|| _ __| | _|_|_ |_|  | |__ _ _|___||| ||_|__ __||||_ ||_| ___|_|||_|_||_| _|_|||_|_|_|||___| |_ __|__ _ | __ || |_|__| __|||_ __ ___|| _ |___   ||___| __|||| ||_|_|_||___| | ||__| _|___|__  _____  |_____|||||____| |__  __|_||_| | _ _ ||| |_|__|||  _|_|_ |  |___|__|_|_|_|  __||_|_|__|_||_||__||_|| || ||___||__  |_|||  ___ _| |__ _|_ _|||| ||_|||| _ | | _____||__ _|||||_|| ||_ |__ _||_||__ _ |__| |______ |_||||| ___||||||_|_| | ||_ _ ||__| || |_||||_ | _|_|||||||_ ||| __||||__|| _| _| |_|| _||_|__||  _||_|_||| ______|__||__ __||_|_| __|_|_| ||_ |_ _|_|||_|_|_|| ||_|| ___ _|__||_|_|_ |___| |_|____ _|_||___|||__ ||_|_|__ |||||_  ___|| | __ _|||_ |_|_||||_|_| ||_||||  ||_| |_ _ |_|||_ |||__|||||  |_|_    | |_|| _|| __  __||||| _|_  ____|_|__ | || _|||_______  ||_____ ||_|_ |___||| _|| _||__| |___| | |___| |___|||_|| | || ______| |||_ __|_||__ _||_____ |||| ___|_|____ ___ _____|_|_|_||| |_ || _||_||_|_ _|_   _____||____|||__||_| | | ||| __| |_ __ || __   __ _|_|___|___ |_| ___|_|_||_| _|___ __ _ __||  __ |_| ___  ||__|__|_|____ _|_|_ _|____||_| ||_|  __||_ _ _  | |  |  _ ||_||_||_ ___| ||||_||||_  _ |||______|||||| _ __||_|__||___|__||_ __|| ||____  _|_| |||||_ ____ | ___|_ |_|_||| ____|_||_|| _|_| | ||__|_ _| ____  ||_  |_ ||_ |_|__|_| ||______ _ ||__| _ ||||__|_|_|_ |__ |__||_|||_ _ |___||_||_|___|___|_ ___ __|_ _|_ |_____| _|___| ||||_ | __|| |_|  _|_||_|  |____  || _|__||___|_ _|_|_|___||_ __||_ |_||_|_|__|__|||_|___|_|___|| |___ __ _|__ __||_| ||_| | ||_|_| |___| ___| |_  | | |__||||||_ |_|||_||_|_ ___|__||_ ____ _| _|_____|  __|_|__|  ||_ _ _|_______|____|_|| _||__||||_|__|_|_||_|_|| _||||||__|___|_|||__ _ ___|||| _ _|||_||||| |__|_ | | |||_ __ _|_||__||_|___ __ ||||_ _  |__ _|  __ |_| ||____ ____ | _ ||______|_|_ |||  |____||_|_ |  _|  |_|||_|   |_||_| || |__| ___   _ ____||_  | | |_ | _______ |||__||___ _ |_|__|_|_||||||___   ____| _||  _ _||__|_ _ |||__|| |||_|| _|||__ ||||| _|| || _ _|__|_|_||__||______|_ _|_||_ _|___ |__|_|| |||___||_____| _  ____ _|_|___ |_ |||__ __ |||__|_||__|__ __|__ _|||| __ __|  _ _ _|__ ___ ||_|___ ___|_ _||__|_||||||_|__ |_ _|_|__|____||  |||_||______|_|___  _ |_||__ __  ||| ||____|||||_||||_ ||| _ |_||_|||_  |_||||__|_  |__|_____ |_||_|_  |_|| __| |  __|||____|______ | |||| ___||_ | _| || ___|_||_||||_| _| |_| ||___ _|_|___ __|| __ |_|__|  ||__| ||| _|_|||| _|_ __ _ |__|| __ |_ ||_||||____ ||____||_|_|____ |||_||_|| ||_|__ ___|| |__||_| __|||_|||_ _| _  _| |__|_| _ __ _|_|| _|_| |__|_| _||_||__|_|| __| ||____ _ _ |___| _||__ ____|||||___|_|| _ | _| |__| _||  __ |_||_ _ _|||__   |||__|| ___|_ ||_||_|||__|_ _||_| __  _  |_____|   || __ _|_ ||||| |||____ _ _|| __||_||_|  |_ |____|__|||| ___|||_|_ _|||_ _ _||_||| __ |_ |_ | ___ |||||  | __|__|__ |___|||||||  |_ _  |_| |__| |_|_|||_ ||_|_   __| |_|____  __ ||_| |||||___|||__ __| ||_|_|_ ____ _||| ||   ___| _|___|  _ |_|  _|___|| |_||||_|_|__|_|  ||_||__|_ ||  || |||_|_|__|____ _|||| |_| |_|||||__|||| _| __ ||| | _ ____|  _ ||_| ___ _|| __|___ || ___||__  |_||_|__||_ |_  _|____||__||_|||_|_|   _|_||| _|__ _____||_|_|||||    ||_|__||__|  __ |_  _|_|__|____||_  _|  ||_ || _||   _||_   __ _||  ___ | ___||_     _| |  _||__ _|_ _|_ | || || |_|____| || || _|_||_  ||| |_|||||_| ___ _ _ ___||_ | __ ||| |  | _ _|| ___|| ||_| |___|_|| |_ __||| |   | _|_ ____|__|_|_||__|| __||___||_| ____|__||_| || |_|_||||_ |||_||||_|_|    |_|__ |__ _|___ ______|_____||_ || _|_ _|__|| |_ _| _|||_|||__| _ _|___ |  || _|___|_||_|_| ___|||| ||_____|_||||_|__|_|__  ||_||||||_|__|_| _|_ _| _|||_ ___|_|___  ||  ||_   |__  | |__| ||_ _|_ __|_  ___||_ | ||____|__|||__||_| _|_||||_|_|__|_||__||___ | __    _||__ _ |_ _| | _|| _|| _ _||__|__|______||_||_  |||___ _| | __|_|___  | _ ||__ |_ __|____  | |_|_|__ |_   _||___  ___|__|_|||_|_|_|_|  _|__|_| ||_ __|___|___ ||_ _||__| ___   __||_||__|__ __ | _ |__| ____||| __ ||||__||  __|__|__||_||___|__|  __|_ |__|| _|||||_||  _ ||_   _|_||__|_ __|_  |   _|_ _|_|  ||_ _|_ |   |____|__|_ |_ __|___|||_ __|_|__|   __|    _|| _||_|_  __| |_||__||____|_|_|____||_|_|___||__| |||_||__ |_  ||_ _ ||  _   _ |__ __ | _ || |___|  ||_ |_|_|___||_|___|_ _ _|_|__ | _|___ |_| _|_||__||______ __ || | |||__|__|_||_ _  _ _  |   _  |_|_| _|_|_||_|_ |__ _||___ _|_|__ __||||_ |_|_||_|__|_| |__ |___ _|_||_|_|__|_|_|_|_ |  |___  _|_|| |||_|  ||_||||||__ |||_ |__ |_|___|__||_| |||  _|__||_ |_ |__||_|__|____  | ||_ _|__|__| _|_|_ | ||||_ __ _|__| |_|_|__  |||_ ___||||_||_____|_||_____||| ||| ____|_ ||_ | ||__||___ | |_ _| _ ___  |  _|_|_|||||||_|_ |_|_____|_|  ____|||_|_|| __||||__|__||||||_ __||__|_ _| _||| _|_||___|_|__|||__ _|||_|||||_|  ||__||_|_ |_|| ||____|_ _|__|__ | |||____||||_  |___|__||  _||||| |||_|| |_|||||| ||  ||_ _ __||   _| ||_| | _  | |__|___ ||||__|| | | _|_ _ |_|_ _ __|__ ____|__|__ __|__ _||___||__  |_|||_|_|_  ___||_ __||__ _|| ____ ||| |_ |_|_|_ |_|__|  |    | _|  __|| _ |||_ |_  __ _|||_|| |_|| |__|_   __|_|_ __|_ ||| ||_||   _ ____ _|__||_ ||_|  |_|_|_||_|___||_|_ _|__ |  __| _ _ __||||____|  ||||_| |||_ |_|__ |||_| ||___ _||____ _ ||_|| _____ |  | _  __ |___|||| _||___||||  _||_||_____ ||_|__ __ _||_ |_|| ||_|_ |___ |__||||____|  _||___|____ |__|_|||____  |  |||_||_|||_||_|||| |_|___||_ |__|_| |__||_ _||__|___|_| ||||||| || |_|||_| |_| _ ||___|__||||_|_| _||_||||_|_ _||||__ ||||| _  ||||__|__  _|____||  _ ||_ _| _|| | ||_ ||| __ ||__||_ |_ _|___|_|___||  |||_____ ||_||||_|| | __||_|_|||_ | _||_|_ ______ | ||_|__ _ | ||  |___|__  ___ _ |||_|  __|   __ |||_|  _||__| _  |||  _ ___|_|||___|____ |__|___|_ |__|  | _ |||  |_||||_| __  ||||_||___|_||||_| ______ |____ _|____|||___|_||____|||||_ _||_||__ |_  ||_|||_|_| _|_|| | _|_  | ___||_ ||||_||_|_ _||____|| |_ | _ | |__|___  _||| _|_ __ |_ || _|  |__  |||__|_|| |_  _  |||||__ __|_ ||_ _|___ _||_| |||__|_|_| |||___ |_|||||___ _| _ |_||_|| |_  |__ __ _____|_ ||__ __|_|  __ ___ || |||_| _|_ ___| ___|__|| |_   _| |_ __||_|| |_|| | ||| || __|||__  ||_| || _|  ||||  |_|_|___|_|__ ____ || | |  _ |  _||||_   __|____ _| _ _ |_ _ _|  |_|__|__ __|| _|_|_|_ |___|| |_ _||||| |_|__||_|__|||_||_ |_|_||||| |_ |_____| |_ |||_||_ _| ||_|  _ |||____|_ |_||_|_|_|__||___ _||_ __ _ |___|  |_|___||_|_|  _  |__  __| _||||||| _| ___|__|_|__ _| _ | _| | ||||||||||_ _ |__  || _     __ __|____ |_ |||__| |_ ____| _ | _ __ ______|___ __| |_||||_ ||||_ |______ _ |_|||||_|__|_||||__|| _ _ _|_||__ ||_ |  |||||| |_|_|||_|__|  |_ __ ||__|_||__|_|_ _||_| |_ |_| _|___|____| ||_|___| || |__|__||_|||_ __|| _ ||_|_|||| _| _||_|_|| _ |__ |_| _|||||__||||__||||||||_ ||||_  |_   _| __|||||_||||_|||_| _ ||_|____   _ _|____|_ ||___||  _|_|______ __ _|_|  |__ | |_|||_ __ ____|||__|_||_|| _|__|_|||||_|_|  __||_ |_____|_|_  _____| _|||  |||_|__||__||||||___|||_| | ||_ |__|__|_||_ |  ||| ||__|| __||___|_|___|  _| |_||||_ __ _ | ||__   |_| _|   _ __||_ |_|_ _  ||_ _ _ | _ ___|__ |____|_|_|_   ||_ |   _||_||__| _ _ _||||| __|| |__ ||___|| || _ _ __|||____| || |____|__ _||_||| _  _|_|__ || |_|||| ||||__||||||| ||||__ | || _||||__ ____||__|_||||"
     ]
    },
    {
     "name": "stdout",
     "output_type": "stream",
     "text": [
      "|_ _ __ | ||_ _|| __||__| ___|| _||_||| |_ ||_|_|_  | _|_ ___ ||||_|| ___ |_ _|__  |_|____|____|||_|__ | _||_| |__ __|_ _|_|  __|__||| ||___|__| _ ||_ |__|____|_|_||  _   |_ | ___|||| _    _ || ___|| ___|||||_ |_| __| __|__|_____|_____ ||_  _ _ |||__      |_||_||__ __|_  || ||_|__| |_ |||_|___||__||| |__ ___|_|_| ___||||____|_ __|||___|||_| | ||_ _|| |__||_   _ |__ | __ _ |   ____|||| | |_||_  _|_|_ |_|__ _|||__|  _|_ |_|_|   _||| |  |__ |___ _ |_|_||__ ||____ |_|||_|||||_| |__ | |__ __  _|_ ___||_||_ __ || ||||_  ||__|_||||  |_______ | || |___ __ _||___|||_ _|||_| __|_ _  |_ ||| ___|||_|| ___| |_| _|_|_|_||||   _|__| | | ||____ _ ___||_ |_ |_ ||__|  |  _|___ _  || |__| | _| ||_ |_|_____||_||__|||_||| ___ ||||||__|_ |_|_  _ __|   |_ ____||___|________| ||  |  ||| _||   ||___|_ |___|__| __|_|_||  _| |_|||__|_ _||__|_ ||_|_|| __ _||||||_|||||||____||_||  _  |||____||_|__||||_ |_|_ ||__ |__|___|_|_  _||_ _| _||||___|_|_|__| __|  || | __|__|_ _ | |_|_ _|_  _ ____ |||__||  _|__ || _||| |||_|||_|___ _|||__ __||||_| |__|___|_ ||| __ _||_| |_____  |__||| __|_|| __ _  | |  _ _____ |_|_|| | |_ _|_||_ ||| _|__|__|_ __ _||| _  _||||| ___|__ _ _|_|__ || __||___|_ __ ___||| ||_|_ | ||_| |_||||||_ _|___|||_|||||__||_| ||_||_ _|__ ||  ____ | |__|||   | |___ _ _|_ || _||______|| |_ ____|||| _| _   |||||_||_||_|_ _ _|_ |__ _|_|_|__|  __||__ __|   _||_|| __ _||__   |___||||_|||_| |__ |_ __|_|||    _|_   _|_| |_|_|_||___| __|_||___|___|_|__ _|| _|||_|    |__|_||_|_|_|__| ||_|_|||_|__|___ ___|_    |  _ ___||| __ __|_|_| __   _| _ ||_ __||||||| ___|||_| __|__ ||_|__||__||___ __ |___ |_| | _||_|  |_|__ __| | ___|_| _  _|_ |_| _||_|||  _|_ |__  |_||_|_|||_|_||_|__ _| |____| ___|_|___|_||_____||_| |_|__|__|__|||| ___ | |__||||||| ||  _|| || __|||  _ |_|_|______ __ ___ ||_|| ||||__|_|_ __|_  |_ _ __|_|___||_|_|_||__|| |||___ _|_____ _||| | ||__|| |____|||||||_ |__|___|__ __|__|_ ||| _|______| ||_|___| __|__|__| |_ |_|_||__|_|| _  | _|||_||___|_||__ ____||_ | _  |_||_||| _|_____|_|    |||__ |||___|||_| ||___ | _|_  | _|__|_|_ _|| _|||   __||_ |_ __||_|__| __|__| |_ ___| _| ___|_| | __||_|_|_ | _|___|__||____|_||_____|_ _ __|||  _|___|  ___|_||||_|_| _|__  _ __| ___|||___ ||__|||_| |____ ||       _|_|___ _____  _ | |  _ _|__| |_| __| |_|_|_  |_|_|_|__ |_|_  _|_|||_||__ |__|_|_ __||_ __||_|__|_ |||| _||_|__ |_|__  ||__|  _ |_||||_|_ ___||_|| |_ |||||_| _  || ||__ _ | _|_|__||   _|_|_ |_ ||||_||||_ ||| |__|_||  | | __ _| _||||_|_||| _____|||_     ||||_| |__| _ _    ___|| |__ ||||||__ |_ |_ |_| |_|||_||__|__|_ _||||____ | |__|___|| |||_||__  |__ |  _||__ |_  _|| __ __||_|_ _|||||_ _||| |___ _ ||___| ||_ |__|||_ ||___||__|  _| _| ||_|_|___ |||_  _| __   | ||__|__|_ ||_|||_|_||||_ _|||___| _||| ___|______||_ _|___||_| _  |_ ||_ __|||_|_ _||  ____||| _|_||| ||   ||_  | _ |_|_  |||_|||||   |_|_ ||__|_ |___|_|_| |_|_||_|___   |_|| |  |||_ || ______|| __ |_|__|||| | | |||_ |_|__ __||||||__ _|__ _ |____|________  | _| |_||| _|||__||____| ||_|_|_  ___||||_|_____| | ___|| |_| |____ ||___ |_|||_|_|__|_|   __|__|_|_ _|__ | |_| ___ _|| _||_|_|_| __| _ _ _|___| _|| ___ _|  __|__|||| || _|||__|| |||_||__ |_||| | _ |||||| _ |_|_|||_____||____ ___|__|__|_ _ _| |_||||_|| ||| _    | _| ||_|_| ____ _|||_|__ _ |___||_| _| _|_|||_|_ _|||__|_ __  _|_ |__|_|_ |_||| __ || _ |_ ___|__|__| ||_|  _|_|___|_|_||_| _|_|| _| __||||__|__|||__|_|||____|__ |_||_  __||_ |_|||_  | |||_ _|__|| __|_ _ _|_| _| ___  __ _|__||  |__|__ _|||_ _| ______ | |____|_|  __|| |_| _ ||||   ||_|_ _ |_|_  || ||_||| | _||_|_ || _| _|___|__  _|____| ||||| | _|| _|_______  |||_ |_| _| _ _____|__||   |___|__||_||_|____|__ |_||_| |__|| _  _ _ _|____|   |__|| _| ||_ ||_|_ __|_|_|_||  || | |__|  ___||    |_||_ | |||||___|_|_|_|||_|_|__||| |__ |||__| |_|_________ || ______ ____ |_||_ _||_||| |_|_| |__| __ _  _____ _ | | _||__ |__||||| _ ___ __|_____| |||_|| |__ __|| __|_| |_||||____|___|| |_  _|||||_||| _  _ ||__|  | _| _|_| _ _||| __|_  ____||__  | |_|___|_||_|__|  __ || ||_  |_||_|_|__|_ __|   ||_____|||_|_|_|  |_|_| |_|  ||  _||__|___ _ ___|_|||_||_____ ||___||__||___|__|| ||_|_  | ___| |_| _ |___ _||_|__||__||||_|_  ____|_____ ___  ______||_|_||________ |__ ||||||||__|_|_||||| ||___|||_|  ||_||_ __|__|___ ||||  | || _ ___|  ______|_ ___|||_|_  _ __|_|__| _|_|| |_|||| ||||_____||||_||_| ||_||_||||___ _| __||||_||  __ ___ __||___ | ___ ___|____|__| |__ __||  _ __||||_ _||_||| |_||__|||||___ __ | _|||||_|_|_|_|_|| __  _ |_ |_ ||| _ _| _| _ |_  | ||__|_|__|__||||_| ||_||||  __||__  __|_ ___| _  | __|_|_ __ |||||__  _| |_|_|||_|__|_|____ ___|_ _ _ |||| _ |__ _| _  |||_|||||_ ||| _|_||| ||| __|_|__|___  ||  ___|__ |__|_|||__|__|| __|___|_|_|_ __|_ ||_| _ |||_ |||_| ||_ __|||_ _____||| |_|_ _|_| ___ __|  _| ___| |_|||| _|_||||__|   |__ |_|_ _|_ |__| _|||_|||_| _ _||_    ||______ _||_ _|| _ |__||||_ || |__|___  |_|| _   | ____|||||__|||_|_ __|__ _ |||__| |_||| |_|_|||_ |_ _|_ ___|| | __ |_   || ||_|_ __ _||_| _|__||| __|_|||  || |_____||  |||_ _ | _|___|_|_||||_| ||| |||||_| | _ |_ ||_||_ __  __|__||__|||||  _||_|__|__ _ __|_||| |||_|||_ _  |__ | _ _ __||||_|_ __    |__|_    _|__|||__ _|| | _|__ |_||__|||__|___ |  ||| _| |||| _____ __ |  |_| ||||___|||__||__ _| |__|______ _|_ _ |||||__|_||_____| __|||__ |_ ||||_|| ||||||_|_|| __|||__|__ ___||_|| _ _| |||_ |_  __|||_ ||__  |_|||||||||_ _|_|__|_||__| _ _ ||| | |||_|| | |||  || |_|_   __|  |_||_|||___||||  |___|||||||___||_||_|_||_ _|__|____ ||||__|_|| _  | _ _ |||  _ __|||||| _| _ |_ _||_|||_|____ _|||____||||_|_ |_||_||| _ _|||__ ||_| ||||_ _ _ |||||____ ||||_|_|_|_ ||_||__  | |||____| _|||_||_|||_|||||_|_  | ||_|| _||  | _|||  _| ||___|_| |_| | _|__| __|_ _| |_ |____ __||_ _||__| | _| | _|___||_ |_| _ _|| |||| __|||||_____|__||__ _|_ _|||   |_|___|_|||__ ||_|___|_||_|__|||||  |_ |_ |___  __|_|   |__ _ _|___| ||| ____ _ _|__|_|_  ___|||______ |_  |_| |__ _| _||||_ |  ||__| _  _||_||_|||__ ___|__| __|_| _|| ||| |  ||__ _|  _  _||| | _|__||_|  |_||_ ||| ||_|| __ |___|| _|____  |||__|____| _____ ___ _||__   ______|_ | |_ __|_  |__ _ __ | | |||_|_|||___|_|_|_ | ______| |_|| _  ___|| |__| _|_|_| |_ __ _  _ ||_  ||||_|||_||_ ____ _|__|_|_|_ |_||_||| __ _ |  __|_ ||_ ___|||_ ||| _| |_  |_| ||__|| ||||__| __||||_||__ _||__| _ ||||_|| |__|||_____|__||_||| _|_ |_||||_ |__|| ||__|___| _|_|| | |__|_|_|_|__  |__||_ ||_||||_ _ || | ||__|_ __|__ _ _|__|_|_|||||_|___|_ |||_|  || |_| ||_|_|__|_| |_| |||__|__| ||_||| _|| ||_|__ __|__ ||___|__ __ _|__ _|_|______ _|||_|_| _|| _ |_|| ||_|_|  _|_|_ ___|_||_ |||_||_ |_|__|___|_ _ __|  |__ _|__|||||| |__||__|__ |___|_|___|__ |_ _|_|||||_|||___| _|   _|___|_____|_|_ _ ___ _||_||||  ____  ||_||| |||_||    |__ _| ||_| _| | |||_||___|___| _||_ _ _|_  __|||  ____ |_||___|__| _ |__|||||  _ _   |_____| | |__  || _ __|_|| ||_||_ ____| ___|_| |_|_||__||_| _||_  _|_||||| _ |_||_  _|_ |||_| ||||_||__ ______ _| ___ _|  _|| _|_ |____  _|  _|  |||__|__|_|__|__|___|____|||||__|||_|| __| ||  _||||||||___||| ___|_| __  |_||_||_|||__| _||  _|_| |_||_|_|||_||_||__ ___| |_____|_||_||||||__||__   ||||||_ |__||____||____ _ ____|||_ _|___   |_|||| _ |  |_||___|_||||||  ||________ ||_|_|_|__| |  _|_____ _|_|_ ___|| _||||||  |____|_  _ |_|| |__|_|_| _______|||  _|_|_||| ____||| |||_|||||||||___ ___||_|  |__|||_| |__|   __||_  _ |||||_||___ _ _|__|_|__||_| __ _||__|| |||_||_ _|||_|_ |_|__ ||_ _||__   | |____||___|___ ||||___| |__|__|_|||| ||||_|__||_||| |_|| ____||| |_  _ |||___||_| _ |_ __| |_|  __|_ _| _ _|_| ||_| _|_|_||_|||_ ||____|||||  |___| |__ |_  |_|_|_  _ _ |||_ ___||||_|||_| |_||| ||| ||||____  ___ _|||_|____|_|__|_ _||_ _|_ _||_|__||  _||_ |_| ||||_|  |||_|_ _ || | __ _ |  _|_____ _ |_|__|||__|_||||_|_|_ |||_|_ ||__ |___ ||||_| __|__|____|__|____ _  ||_||  |__|_____||_|_|_| |_ |||_|_||||___||_ ||||||| |||____ |||_|_ _ |_ |____ _|_ | _|____ _||_|||||||_____|__|||_|_|_____||_|_|_|  _ _| ||||_| |_ _ |_ _|| _|__|||_|_ _| _ | __|_| | __|_|__|__||___||||||_||_||_| _ |_|||___  _|_ | ||_ __| _ _ |_||__|_____ __|_|__| ____| |___|_|__ _ __ _ ||__||___|_ ||___|__|||_ |__   _ __|__|__| |_ _|||__||||| _|||__||| __|  _|_|_||    _  |  ||  _____|_ ||_|____  _|  ||_ |_| |||__|_   ___ ___||_| __| __|||_|_|__  _|| |_|| ||__|  |_ __||| _|||  _|__|_|_||_|_ __||||__|| | |_|  |  |_ __ |_|_|  |_|__|_|  || _||||___|_ |__|____||||___|_  |_||   _||_|_ _ __ __ _ _||_ |_ __| _| __||_| ||___|_| _|__ __||_ _||_|_| ||___|___||__|_||___ |__ |_|_ __| _|_|   __|_ | __ __|_|| |||_|||||||_|_ _____|___ _ ____| _| ||__||||_|_ |||||| |||_  ||_| | ||__ _| _ |_ _   ||||_|____|_|_____|| |__ _ ||_| ||||||_____ |||  |_| _|||_||  |  |_ _|__||_|_||||_ _| |_|___ |_ |_____||_||||___ _|_||_ _|_ _ _ _||__ ||_||| _ _|_|_ __ |_| _|___|| __|_ _|||__ _ __| _|_|_ |_| ||_|__|| |  |||_  | | _ | _____| _|  |__|||___||_|  _| |__| |_ |_|_|__|||___||____|_||||_ ___|  |_|__|_  | |__|__| _"
     ]
    },
    {
     "name": "stdout",
     "output_type": "stream",
     "text": [
      "__ _ |_ |_|||||_| _| _ |||_| _ ____|_|| __  _  __| ||| | _ |_|  ||_|||    _| |  |_|_ _______    _|_|_||| ___ _ ||| ___  _|_| _ |_ |||  _ |___|| | |___  | ||_|_  _ || ||_||__ |_|| |_____  |_||_ | ____||_ _||___  _|_ ||_  _||____|||_|_||_   _____ __|  _||__ |  |_| _|_||_||_| |_| ||_||| | _| || __|_||_| _||_|_ |__ __| |_ _ ___|_  __|| ||_ |___||_ |_|_|___|_ __||_|||_ _  ||||_ _|||  ||__|| __|__||_ __|_|_ |____ _ ||__ ||| __| _ __|___||_|| ||||_|_|_ |___|_  |  __|_  ___| _|| _||_ _| ||_ || ____|__ ___ _  _|_ _|_  |__|__|_|_|  ___|_  __|_|_|||_||||__||||_|||||_ |___|___| _|_ ___||| ______  _____|____|| |||  _||||__ |__ _||||__| |_||____|||___|_|_ |_______ |_|_|_||__| ___|_|_|__| _|  _  |||__ _ _|||___ ||_ __| |__|_|__ |_|__|_ ||_ _|| |_  |_ _| || |_||___|__||_  ___ _|||_||_|_|___  _||__| |||___ _ ||_____ | _  _||_| _|||_| || |_|||___||||____ __|| ___| _||||| | ||_______||_| _||_|___|__ |_ __  |_ _ ||__ _| _ _|| _| __ ||| |_||__ |_|__|_ ||_ _| _ _| _|_ |__ | || __||__ _| |_  ||_|_  _||| _|||| || __ __||_|__|__| ||_|_|_||__||_|_| ||_____||___   ___  |___ || _||||_||  __| || ||_||||||_ _ |______|__|||_| |___|_|_  __ _ ||____|__|_||_||_ _|_ _ _||| || ||__||| |__|||_|_  |_ |_|_|_|____|____|_ _|_|_||_|__|__ |||  || ||||__|_|__  |__|__||___ ||  ||||   _|_|  __| ___| | |____|_|||||_|_  _|_|___|____|_||_|__||__|__ ____  ||_|_ _||| _||___| __ ||| ||_ |  || || | |  ______|_   |_| |__|||||__| | _ |_|| |_||_| ||||||_|_|_ ||  ||_| __|___| |  __||__| ||||___| ||_ _|__|_ _ |||__||_||___|_|| ||| | |_|| |__||||_||| ||| _||_ |_ _ |_||_| |____|_ |_ _  __ |_|||| ||_|__ __|_ |_| _| _|||___|_|_|_|_|__| |_|__||__ _|  ___|_| __||__||||_|_||_  _|_||||__ ||||__|_   ||| _ |||__ ||||_ |_|_ |_|||_|_| _ __ _|_| | __ ||_||_| _ _|__| _|__|___|__ _ |_|  | || ___|_|_|| ||_| | | _|___  |||||   |_ |___|||_|_|_|||__|__||____|___|||||_| _______  |_|_|_|__|_||__|| | |||_||_|__| _| _||_ |_ |  |_|__|| _ ___ |_|___||__| _||||_|_ _||_|_|||||  || ||_|| |_|||||_||_|____ ____|_|_|| _|___||_|||_|_ | |____|_ ___|_ _   |_|_| |_|||| _ ||_ __ |_|___|  __|| __|__ __|||_|_||  _||__|_|||_ _   |_|_|____|| _ || __| _ _| |__|__|    _|__ | ___ ||||_||_ __| _|__|||_|_ |   ___ |____|||| |_| | |_| _|_ __ _|__ __  _| _ _|_|||_|_ ___||____|_|_ |_|||_ || __ _||||__|| |___||_|_|  __|||_ _||||||_ _||_____ |______||__| |__ |_||__ |    | |____|_|___||_  ||_|_ ___||___ __|_||_|_ |  __| __|||____|| _|||_|| | __|   ||||____ | _ ||| |__|__|_|||| ||_ ||__ |_|_ ____ |_| |_|||_  ||_||||  || ||__| |__||  _ __ ___ _||___||__||____ _|_____|||||| || ||_|_||| _||||__ |||_|  _|_ __|| |_||_||_ |__|_ _|||__|_ _||_|__|_| ||  |_ ||__| |_ |_| || ___|_||_|  | _| ||_ ___ |||  ||  |_  ||_| _ ||||_||_|__|__ | ||__|_||_||  |_|  ||_|_____ __   _ _ |||_ _ _|| _ _|__|___ ||| ___|| _|||__|___||||_|__ |  | | _ ||__ ___|_||__|_| _____ ____ __|__|____|| |____  |____||___|_ _|||||__||__| ||__||_| |_||_|  |___||  ||  |_|||||____ |_ |_|_||__ || _|||__|_|||||_| | |_ |_ |__||||||||_| ______  || _  || _| _||__ __ __|_|___ _|  __||__||  |||_|__|||| | |__|| __|____   | ____||_||| _  ||_ _|_ |___||_| |_ __  ___|_||||_|__ __||_| __| |_ |_| _|||_ |||||___  _|_ __||_ _  _|_|__ |__ _||_ | _|_|_ |||_| _||_|___|_||_| |__|__|___|||||_|||_|||__|_|||_ |||_|_| _ __|_|_|_|||_||_  || ||_|_ ___  |_|| _|_|_ _ __|_ _||||_ __ |||_ |_ _ || _|_   __|__|_ |___  _|_| _ _| _| | _| ___||_|_|_ ||| _ _|||_ ||__  __||| _ _| || _|_||_|| || | __||||_|_ |_|__|__     _|__|||| |_ | | ___|__|_||_| _| |_ |_|| _ ___|_ ||_|||_ _|| |||___  _|_||  ||__ | _| | ____ |||_ ||__|  __||||||||__ |__|__   _ | |___|__|||__|| _|_ ||| _|_ |  ||| |_|_|||___| ___ ||____|___|__|__|___|_| _ ___ __|_ _ ||___|____|__| _| _| _|_||_||__|| _ _  || ||_|  ___|  ___|____| ||___||____||||__||_||||_|_ ||___||_ _|||_|_____ | |___|  || |_|_|||| _ | _ |__  ||__ ||_||___| _||__||__|___| |  ___||_|||||  |_||_| __ ||__|_|| _ | _||_|_|| _ _|___||___||_|  |_| |__||_|___||_||__|_||__ _ __|___| _ || _   ||_ |__|_|_ __ _|_  _|||_|__ | ____  _ || ||_  ||||__||_|___| _||||||__|_| |_ |___| _  ||||||__|| ||_|_| __||___|||_|_||_| __|__|__|__|___|_|_|  | ||_|||  _  ||_| __|_|_ __| ||_ || |_ _ _|_||||   _ _ ||__ ||__ || _ __|| __ _|||_|_|_| |__| |||||______|  _|||||____|||_||_____|||||_| __ |__  __  __ _||_||_ ||||_|| _||_|| _|_|_ __| ||_ __|_____| _  _ _| _| |  | _ __||||__________ __  || |_||__|  ||__ ___|__|_||_ _||||_ |||____|__ |||_|||_|| |__|| |___| |__ _|||_ _ ||||_|_|___| ||_|||||_| |||__|||_|| |_ | ||||| |_|_|_|_|| _____||_| |||||| |_|_|| | |  ||____||||| | ||  ||__|________ |||| __|_|_|____||||_| ___|_|| __|| |__|_||  |___ __| | _| ||_|___|_______||__ |_|_  __|  ____|___  |  _____| | __ || |||_|__||_||_|||_|_|_ _|_||_  _|____|__|___ _| |__ ______|__||| _ |_||| || _|   _ ||  ||__||||||_|_| | _|||__|____ _|__|_||||| ____| _ __||____||| |_|_ |_||||__|____||__| ||_|||||||||||_ _|| | ||||| ||__|| |  ___|__ |_||| ||__| _| _| _ _ |_|_ __ ||_ ___|_|| | ___|__|_|_| ||____ |_|_ __|_ __|||  _||_|_|||| _|_|__ ||__ ||__  |_ _|  _|____||||| | || |_||| |_|||||_| || | _|__|||  __ _ |_| _||| _|||_ _|_|||_|_||||_|__  |___ _|_|| |___ |__||___ _ __|_| |||_   || _||_ _|____ _ ___| |_ |_|_|| __||__|_| |_||||_||_|_|_ _|   _ ||__||_| _ | _|_||__ __||__ |_||||_|_|__| | |_|||_|  |  |||||   __|_||_____ | _ _ _|||____|_ |_||__ _  __|   _||_|_||_|_||__|___ _| _| __|_ _| |__|____|| ____|_ |_|__ |__ _||___ |||||_|___||||||||||____ |_||| ___|||_ __|_|_ __ ||||__||_|__  __| | __ |||___|||||| _|| __|__|||_ _||||| |_|| _|__||_____|_|__ |  | |_ |___ || |__ __ |___|||||___    |_ _ | ||| |__||_______ ||___ _|  _|||||_  ||_ || ||__ _ |_ _|||| __|__| _|  |__| _|_||_ _ | |_||||  _  |||__|___|_|||___ |||__ _| | __| |_|_| __||_|||  _|__  ||_|____ |__|| _ _||_|__ | |_||_|| _||__ | _ _ _ _||__|__||___|||_||___ |||| |  || _|__| ___| ||_|__   _ ||__|___ |_| |__|| |||||________ || | __|__||_ || _|_|__   __ || ||||_|____  |_ __  |||__||   |_ __ | _||| _|  |  _|_| || ||||__|_ || ||    ||__ ||_ |__|||_ |||___|_   |_|_|__|_||_____|||_ _ ||| |_||_  ____|__|||_|_|| _||_ | | _|_|__||_|_|____ _ _| |_ __|_   || _ |_ |_ _|_ ||____|| |_|__|  |___  |__| |  _||_||_ __|   ||_|__||| |__|__|| ___||| _|  _||_|_|||_|_ |_| |_ ||_____ |  | |_| |____||__|_|_ _|_|__|| |||_||____|_ |  |_||_ ||||||_ _|___ _|_|_|___|_ _ _ _||||_||_|_| ___  _|____  |_| _ _||__ ||___ _|_|__ ||| | _|||___|__|||_| |||||____| |__  _  |__|____|| |__ _| ___|__||_| _ __ |_||_|_____|_|_|  |||_|_|_|___||||_| _ |____ ||_ |||||_|| _|||_ __|___ _|| |||_| | ||_|||_|___ ||__ _ |___|__   | |_| |_|___|  _ _|_|___| |_||_|  _|___||_|_ ||____  ||__ _ |_| ___|_||_||__| ||_ ||||___ ___ |_|||____|  |_||_ ||||_ ___ |_ ||_| __|_ ||_| _|   || |__|___|||__|__|||_|____| ||| _|_| |__| __|_   | |_______|__|||_|||__ |__| | _|||  _|| _|_|||||| |||__ ||_|__|  |_||||__|_| |_||_ ||__ _|||||||_ |__ ||___|| __|_|__ |_  ____|_| |||__||||_||||_||__|__|| _||_ _ __|_ |___| || |_| __|___|_||_________| ||| |_|____ |||_||__|_||_|| _|_|_| |||___ |_ |_|| _  | _ |_||___|__ ||_|__||__| __||_|_| _|__ ____|_ _  _|__ ||____ _|_| _|| |_| __|_ |__|_| _ ||  _|___|||__||__| __|__ _____| _|||___ ___||_||_|| _ |_|||_||__|  _____ ||| |||| __||__||_|| || | ___ |||||||__|| _| ||_|_||_|_  _| _ __|_|__|__| |__ _|_||__||_||_| |__ __|_ || __|   |___  | _|__|||  _|___|_||__ _ |_| ||__|___|| __  _ ____|__||_ ||_|| _ __|___||_|_|___   | ||||  ||_| | |  | __|_|| ____  _||_| |_| |||_ | _| ___|_ |__|_ _ _|__||__ ||_ || |__ _ |__||| _|__ || __|||_|_||__  || _|_ |_|  |_|_||_||__ |_|_||_ |__  __|_ | |_| | |_||_|__||  _|| |__|_|______ __  ||__|||_||   _  | |__ __|_ _| ||_| |||_|__ __|_| |||_|__ _|||__||||__ __||| |__|| _ _ | |_ ||||_ __||__ __|| ||| |____  ||_|___ ___|_||_  |||||_ |_|  |_||_ ||| _||||||| ||_| __ |  |||| __||_ __|___| __| ||_____ _|_|__||___|| _|__ | |_| | |  __|_| _ __||__ |_|| _|||| |   ||_ ||_ |___|_| _ _ __ _ _|||  _|||_ _  _ |___ |  _ || _|_ _||________||  ||||_ | _|_ _| _____|_ ___||_|_||_| __| ____|_  ||_ _ ||___ ||| _  _|___|__ _||_ __|__|_|_ ||||||_|_|__|__|||||__||_____|_ |_|||__| __|________||__  | ||___ _||| __|__ _||_| |_|_|_||| |___||_|__|||____||| _|___ ||_|__||  _| |____||_____||_||_|____ _||_||_  _ |___ _|_| _|__ _||| ||||___| _ ||||___  _____|__|||| |_||_ ||| _    |_|||   ||__|_||| |__||__ |__|_ |   _ __|_ __ ||___|||  _||||| ||  |_||||  _ |_ ______ __ _  |___|___||||_| __ _|_||__||_|||__ __| __|___|_|||||_|__ __| |_ _||___| || |__ _ _|  ||_| _||| ______| |_|___ |_|_|||_||||  _|_|||_|||||___ _ _|_____ _||_|__  _|__|_ _| |||_ |  __|__ ____| ___| ||||||__| __  _| _ |__|| | ||__ |||__ |||| _ | _  _ |_  ||| | ||___|_||_| | __|_ |_ ____ ___|_|__| |_||_|||||_ _|  _ __|_|| _| |||__||__  ||| |____  | _|||_|____||| |  _||_ __ | _ _|_|_|_||__||_|||_|____|_ |||_ ||||||__  |___ __|_|| |_|_|||| | ____| _|_ ||| _ |__|_|____ _|_||_  |_|  |||_||_  |_ | __ |_|___ _   __ _|| _|_||||| _|| |__ _||__||||| ||_ |||___|_||||_||___|| | __||  |__  |__||__  |||_ |||| _|"
     ]
    },
    {
     "name": "stdout",
     "output_type": "stream",
     "text": [
      "_||_ ____|||_||___||_ ___  _|__  _|__|_ _ ___ |__|___|||__|__|| _ ||_ ||__|||| _____ |  _| || ||____ | | ||| |_|  _  __| __||| _ || || _ __| | _||_| |_||||_|_| ||| || __|_|   |_____ ____ |__ || || _ | _ |_|__| ___|| _ |||__ _ ||_ __|_|| | || ___  _|_| |_||||||___ | |_||_| |_|_ __|__||||||||___  _   |_|||_  _|||___|_|_| ||||| _|___ |_  __ ||__|||||_ ||_ | __|||_|  _ _|_ _|||__ |_ |___|__|_| |||||____ _|__||____ __|___| _|_|__|_|__|_|||_ ||__|   _ __| ||_||_ |||_||____ _|_|||__||___|||_ _| |_|___|| ||_____ ____ ||_ _| |___ | |||  __ | _ | |  | ||| _|  __||  _ | ||||_  _ ___  | |  |__| _|| |_ _|  _  ||____|| |_|| |__|_| |_||____| |_||__ ____|_ _|_|||_|_ _|__|_ __ _|  | |___|_|| |__ _| _ | |__|_|__|||__ ||| _||__|_ |___ __  __ __ _____| |_   |_|_||_|| |__|_||_ _ ||____| |  __  _ _|| __ _||_||_ _ |_____||___ ||_||||||  |_|___ _ _| _|_____|___|_____| _|| |__|_|___ |_ ||||| ||__|___||_ ||_| _||_||_ |_||||| _ |_|||| |_|| ||_ |__|__|||__|_|_| _  || ||_| || | | |_  ||_| ___   |_ _|__|||| _  __|||_| __  _ ||| __|__ __| _| |__|__ ___||||_|_  | _|_|_ |__| _|_||__|_ _ _||  |   |||||______ _||___|__| |  __|_|_|_ ||__|_ __| ||___|__ |___|_|  ||_|||| ||||_||__ ||||||_||| |__| |_|||||__|| _|_ |_|_||___|_|____||__|_ ___ ||_|| __| _||||___| _| |  _|___||||_|| __|_|_| |_ _| || || | |||| |_|||___|_| _| __|_|_||___ ||__||___ _|_ ||_|||| _ | _||_||_|||_ _ || __ |||||_ __ _    ||||| || ||_ ||__ |||__  _|_|___ |_ __ |||___||_||__    __ _ |_||_||_||_ |_|_ ||_ __|__|_|_ |_| _  |__ |_|||| _ ||   || _||_|_|||____||||_ |__|__||| || ____|_ _|___|_||| ||  _ | |||_||_||_|_|_  ___||| _|__ _|_ _|__| ||____|______||| ||_| |_ |||||| |__|_|||||____| |__ __|__||||_|  _| __ |||__|||_ _ _|   ||| __| || | ||___|_|_  _|_||__||||_|_ _|__ ||_ |_ _|| _||  ||| __  _ ||  ||___ ||||_  | __|_ |__|___|_||_|____||_ |___ _|_ |  ____|_  ____ ||||||| __|| ___| ___| |___|_| _|  _|____ _|__| |_ __ _| |||| | _ _||| _|__|__  || __ _|_||  |_ _ _ |||  ____|_  ||||_|_ _|__||||_||  |_ ___   ||_ |||_|____|_|| |_ _||____|  |_||__ ||||__ ____|||__||| ___|__|__ _ _|||_ _||_  | __ |__|_||||____|___|_ |__| |||____|_|_ _  |   __||_  _||| | _ __ _ _ | __ _______||___| | ___ __ ||_|||  | ___||| | _||||_ |_|_||| | |||_|_|||_|_||||_||_||__ __||| ___|  _|_ |____||_ _|||||__|| |||__||  ||_|____| |_ |__||__ _  | __||_| |_ |   ||_ _| ||_|_  __|_||_| _ _ ||_|_||_| _| _ _ _ |||_ ||_|_|||_||_ _|_|_|__|||_|_| _||_|____|___|__| |__||    ||_||||_|| ___|||_  | ||_  _ ||||  _ |____|______|_ _ | __|_||___| ___ _ __  _|||__  ___ __|_|_ _|||| |___|__||| | ___||__||||||_|_||_||_ _|_ |__ _|_|| _|_ |||_ _| | || _ |_|_  ___|_| _||_|  _| |_ ||_| ____ _| | __|__|______ |_|_ ___ |_  ____|___||||_ |  _ | |___| _ _ _||_||  || _____|_  _  _ __|______|||__  ||| _||| ___|||_|___||_| _ _|_||||  |__  |||||__|_||  _ ____|_||_||| |_   |__ |_|_|||_|__||_| |  _||_|_ ___|___ _|_| _|____|_|_____ _|  ___||| ___|| _|__ |||_|_| _  __||||_ | ||____| |||_|||_|| || |||| | _||  _|| |_ |__|__|___ _ __|  | |_ |_| __|_|||_|____||_ |||| __|_|||_ __|||| ||| ____|||_| | |||||_|_||_|__| ||||_|_ _||_|__|  _ |_|___| _ |___| |_| _ __ ||___|__ |_||_|_||  __   _||__|_   ||| |_  ||| __|_|||  |_ _|| _||   ___| ||||_|__|__|||____||_|||__ |||||_|__||_|||_| |__ |||__|_ _| _ __ __|_ |_| _|_ __||__|__|_| | __||__ __ |____|___|__|_|_|_|_ _ ___|_|_| |||___ _|___ | || __ _ ||_||||_| | || ||_| |_| _| ___ _|||_| |_ _|| _|||__ ____ __||__ || |__|  _|  __|||__||||  | |_||__|_||_|_|__ _ |___||||||_|| _  |__|| __||__|   _||__| _|_|  _ ||||| | _||__|__||_||| _ |||_||_||_|_|____|||_||| ___| _||_ __||___|__  _|| __ |  ||| |___ _|_  _||_|__ _ __||_ |_| |_|_ ____||_|_| __||_|| |___| _||__||__|__|_____ _||_ _|||___|_|||_ |_ _ _||| _ || || |_|_ |||__|_|  __|||_|  | _||__|_||||||||___||  __||  _| | _  ||_|_| |||_||___||__ |_ __| _||||_|||  |_|__|_|__|||__ _ ________|||_|| ___ |_||_|______|___ | |___|_| |___|__||||_  |||___| ||___|||||_ |___|_||__|__|___|___ _ | _ _ __|||||||__||_|_||__||_|_|_ |____|__ |___|| |__ ||| |||||_||_|_____|_ |  |____ ||__ _ |_||__ __|_||____ |__ ||  ||_||_|| |||  |_|_|| ___||_|_||    __|__||__ _|||_ | ||_|||_| _ |_|__  |___ _ _  | _ __||||||_|  |__|_  __ |_|_||||__||||__|_||||_||_||_|___ _ ||_ ||__  ||_| | |____|__ _ ____|___||__|_||_ _|   ||_______|_|__||||__| | __ ||_|___|__|| ___| ||||_|_| |  | |__ _| ___||_| |   _|_|_|||_|| |_ _|_|||_|__|| |__|_  __|||____ || | |__|____||___|||| _|__ ||_|__||| | || _||| |||_| ||__||__|||| __ ___|  _| _  ___  |_|   _|__| _ _|| ___| |||__||___  _| _|| |__  |_|||  ___  _ |__|_||||_||||  |||_|__|  || _ |||_ _|__|| _||_|_ ||_ __| |_|||_ _|_| _|____| ||_|_|__ _|_| |_____  _| _|___|  |_|_  __| | ___|_ |_|| __  |||||_ |_||__|__||| |__|||___| __ ___ |__| _|_  _|_ _|  _ |______|  _||||___  |_ | _ ||_|_|_| _|  ___|_|| |_||_|__||_|_ _ |_||_||  |_| ||__||| |__|_ ___|||___||_|_ || |     __||_|___|_|_____|__|_|_  ____|| __|||_||______||_|_ |_||_|||||_ _||_ _||  || |__ |_|__  ||_| ||_  _   _||__ __ |__ ||_|_| _|____|_|  _| ||________|| || __ _||__  |__|_||  || ||| || _| |||______||_||| _|___|__|_ |||_|_||_ __| |___||_|__||  _  _|  _|__|__|||  _|| |_ __ |_|_| |_ |||_| _||_ |||| ||_|   ____  |__||__|__ _ ||_|_|__|___||___| |||_ ||| |__|_   |_ |__ |_|||_  |||_|   __| __|_|__ |__|_|__|__|| _| __ | |_ _ _||___ |_||||_ _||| ||_||  |__ |_|||_||||_| |  |_|| ||_||_ |_||||_|__|_|||__| |  __|____|||| |||||| ||_|__ _   _  __|||_ _|_|_|____|_ |  |__ ||  __   _  |___||_|_||_____ __|___|_|__|_|||| ___  _ | | |__|__| ___| ||__ |_||_|     __  _|__| |__ __ ||__||||_|||||| __||_ |____ __|__|__ |__|| || __  ||__ ||| |_|||__|_|__|__|___| _|  |||_|||||||__| ___|_| ___ ||||||||||_ | __ ___|__  ||__|_|| ||__  || _ | __ _| _ |_||||_| | |_|||_||_ ___ _ _|__ ||_ ___|_ |____||_|_|_|| |   ||_|__|_ __|_|||| |__|_ _ ___| |_|__ |__|______|_____|| _ ||_ _| |_|_  |_ __| _  _ __|_ ||_|||| | _ _|_ |_||| |_|  | |__|||||_||____ _|_||_| _|_|__|__ || _|_ _  _|_|_|  || _ || _ ||_||| |_|_ _|  ___|__| |_|_|_|  _ |||| |______|| ||__   |_| _| ||  | ||_ ||_|||_|_||_ _|||_  | ___||__ _| || |_ __ | _|||__ |||_||__  __|_| _|____|| |  _||||_||_| _|| __|___|_||||_|_||__   __|__|||_|||_||_|_| _____ |_|| |  ||  |_||_ _|_|| |  |||___|_  | | |_   ||_ _|_||_ ||_| __| | |__ _______  |_|___  |_|__|__ __|_||_|_ |_ |_______ _||  _|||_||_| _||_|| _|||__||_|||||_||_|____ ||||_| |||_||_| __ _ _| ||__| _|||__|__||__| _||||_|||__| ___||__|||||_| _  |_|| ||||||_ _|_|_|  |_ |||__|||___|_ _ ||  _|__|| _|____| ||__ ||_|||| ____ __|| _|__ _ _||____ |_||||||_|_ | __|_ ||||||__|||_|| |___ |_|| || __ ||____ ___|||_|  __|||_| | || || __||___||| _|||  || _| |_____|__  | _______| __ |_|__   |_|_  __|||_| |_|_  ||||||_ ||_|_|_  ||__ |_|||__| |_| ||||   _|||_ __|||___||_|_||____ ||| _|__|_ ___|_||_||||| | |_||__  |  |  _|___|  _|  _ _|||_||  ||_|_ _| ||__|| _|_|_|__ ||_||_|_|_  _ __ ||____|___|_|__|_|||_|___ _|_|_ | __ ||_  |__|_|_____  _|  _|_ __| _ __|_ ||_| |||| _ ||_ _  _    ||___| ____ _|_ _|||__|___| ____||| |_|_|___|__|| |___|__|||__|__||_|  ||   ||||___|__|__| ||_| _ _ __ |_|||____|__||_  | _| | __ |_ __||_ |__ ||||_  |_ ||__||_||| __|  |___ | __|| _|| | ||| |_  _||_||___|_|||_ _||_ _||__||_| _| ___|__ _||_|||_||_______| | _ __|_||_  _| |_|__||_|_|__|  | _|__| ___ |_______|||____|||_||| _| _|||__ |||_  ___| ||_   |_||_|__|___ |_ _|| _ ||| |__|||_|__||_|_|__ | | _  _||| || |_|_ ||||_|_| ||_|  |_ |||| _| _ |_____|||_  |_|| _____|_|___| ||__|_ _|__| _| _|__ | |  | _ _ |__  _|_|_||__ _|___|||__ ||__  __||_|_||___|_|  _|__ | _|__ |_|_|___| _||___||____| || |__ _| __ __  || | _||_| | |_ _|||_|__| _ |_|__||||||| _  _||_  __||_|||| |__ _|||_ _|___|  ||_  __ |_ _|_|| _ _ ||__|_____ _|__|||_||| _||   ___|___||_| || __||_||___||___|||_ |||_ | |||_ ||___||____|_| |_|___|_ _ __||_| |  ____ ||||||||_ ___ __|_|__ |_ _ __|__|_|||___ |_|| | _| | _ ||_|_  |||__||| |_ |_ |_____ _ |_||___|_| ||| _|_||| ____| ||_|_|_|_ |||||_|_|||  _| |   ______||__ __|___|____ __|_|___||_ ____|__|_ _ |_ ||_||  _ |__| _| |_  _ _|  |_|||___ | |__|___|_ _||__ _| ||___| ____ ___ ____| |_||_ |_ |__ _ ||| |_  __  _||||_|__|||| _ _|| |_|__ |_||____ ____|_ |||   ||_|||_| __|_||| |__||_|__||_|||__||__ ___ ___ _|  ____|__ _ ___|_   __ _|____|_| ||_|__ __ | |_|_|_ | |_||_ _|||||_|||_|_||__| | | _   |___|||__|___| |_|||__||_|___|| |_|_||______|_  _ _____ | _ |_|_|___ |_| |_|_ _____ ___  _|___||||_|_______||__ __||_|__| |||||_  ____|__|_|_|||_|_|  |_|||_|__||_ __ ||_ _||_|||| |__  |_____| | | |||  __ |||_  ||___ _  ____||_|_ _|_|_"
     ]
    },
    {
     "name": "stdout",
     "output_type": "stream",
     "text": [
      "_ | || _||  _||_||||| |_  _ ||||_|_||__     _|__ |_| |||_ |||||__|___|| | _|||  __|_|_ ||_||____|__ ___||_ ___ ___||_|_   _||_ |_|||__||_|_ || __||||_  _|_ _ __ |_| __|__ |__|__|__ | |___|| | |_||| _ _ _ ___ _ _ ||| _ |   ___ _ _|   ___| |___ _ _ ___||_____|_ __ _ _|||__   |_|| |____|||   |_|___|_||_| |__||__|_|||__ | _ _||_ _| ___| ||||| |||_||__|||_|__||__| _|_ |___| ||__|_ |||__||___|___ ____||_| ||||___|__||||___ _| _| __|||||__ _|||____ __ __|||_|||___ | |__||_||_||___||__|__|__ |_ |_|_|__|_| || |_ _ __|_ |___|_  |_ ___|_||__ |__ |_|__|___|||_ _ |_|| _|_|__| ||_ _  | | | || | |||_  |___ ____|| | _ __|| __| ||||  | _|| __||| __|__|| _ __ ||_| _||_||_|___|_|__|_| ____|||||  _|__|____|__|___ ||__|_|| __  ___| | |  |_|___ _ |_||_  ___ __ |__||_||_| || |_|| |||_|_ ||| _  |||_  ||||_ |_ _|_ | _| ___ ||__  ||||_ |__||_|__|_ __|___|_ ||__|___||  |_||____|_ | ||_ |_|__|_| _|_| _ _  |_||| |||||||_ _ |_ |__||____||| ||| _|_|_ ||| _ __ ||___ |___  |||||||__| |_ __|||___|_ _  |_|__|_| __|_ ___||||____||| ___|__||_|| __ ||||_ ___||  __ _____|| _|| |_|_ ||_|||| |_|_||_  || __||||_||_ |  |  |_ __||_|| |_ _||||| ||_|___|| __   ||||__|||||__|| | __| |||| ||___ _|_||___||  ||  _|____ ||_|_   ||__|||_ _| | | _| ||_ |_ || _| __||_|_|||_|  | ||__||_|| |__ _|  ____ ||_ _|_|_ ___   | ||_____|| _| |__| | _|| _|| __ |___|||||_|__|__||_||__| _ ___|_____||||__| || | _|_ |||__|_|||_||_|||  |||| ___ |_|| |||___|||  |__ ||||_|||__|_| ||_|||____|___||  _ |||___ _  _|  _|  |___||||___ |___|| __ ||_|    _ |||_||_||| _  ||_ |||_|||_ __|__|__ ||  _| ____ ||___|| _| _   _||  ||_|_|__|  _   _   _ | _|||_|__| _ |_|_||_ ||___|_||||_| _ _ __ _ |_ _|__|   | || __  ||| _  |_|___ ____|| _|||||| |___||___ ||  _|_||_||_ _|   |  _|_|___|_|__ _|| __||__| ______|_||__|| _| ||||||_|||| ___|  __||_|_ _| |_____|__|_||_||||||_ _| |__  | _|_| ||||  ||||_| __||_ __|||__|_| ||__||||||___|_|_ _||_ |___ |_||_|_|||_|___|_| _|__ |||  ||| ||||| __|__| _ __|_  |__|| ||__ _| |_| ||_ _|| _____|__ __|| ||| ||||__ _____|__|_ | _ |_| __|_||_| _ ___||___||| _ _||_|_| __||_  |  |_||___ |||_|_ _| |||___|______ __   |||__||||_|||_|||  _ |_|_||____  ___||__|_|||_||__|| | |_| ||| __| |_||||| _|_____| |_||_|_ _ |||___|_ _|_|_ |_ |_||___  |_|_   ||_| |_||___|_ |__ _||__||_ _||  |_ ____| |_||___|| _| _| |__|_|__  |__|_|__ || _||| _| |_|_____ ___ _____||_  ||_||__||||___ __|___||_ |__||||||_|_____|_|_| | ||___|  ||| __||_|||||__ |___|||_ ||_||__||| |  |_|_||_ __  |_||  _||| ||_ __ _||  _ |___|_| ||_| || |_| __ ||| __ |_  |__|_ _ _| |_ _| |__|  _ |__ _ __|_|_  |_| |______ _|||_|_| _| | || _ |____|| _||_| _ ___|_  _____|  |||_  _   _|||   |_|__|__| ||_| |_|  |_||||_|||_|_ ||_ |||____|||_|||_|__ __||_||_||||___ ___|_|__||__||_| |__||||__|_|_  |_||||_||___| |___ |_ __ |___ |__|| __ ||_||| |||__  _|__|__|_ | |||||__|____ |_||__|_||___|__ _|| _|___ _|| _| |__||_ _|__ _|__|_ ||_|__|__|_|_||_|____  |_||||_|_||_|_||_|___ _||||  _||_|__||___||_ _  |___| |__|_|_| |___|_| |||||   |_|___| __||   |____|||_|   |||_ _|  _||||_|__  _ ||_||  _|_|___| |||| ||_|___| ||_   _ | _____    | |__||_   ||__ _|_ ||_  ||_| _|| |_|_ ____    | | |___|_ _____|||_ _  ___||_|_|_ ||_|_ _|___| |||__||_ | _  _||__||||||_|__||||  __|_|| |_|_|_|_  |__| _|| ||| |____||_||___||||__||_| | ||_||| ||_||___||||_||__|_ _|_ _|____||| _||_||_|___ _|_|_|___|___ __||__|_|||_||_ ||___|__|_|_   _|___|||| |||__|  _ _ _|_____|_ __|_  || |  |____ _|__||_| _| _|___||__ ____| _____ |_ ___  _|_|____|| || _| _||||||___|_|_||||_ |  ||_  |_ _ |_|_|_|_|   __|___|______  _ |____|__| |_ __| _||_|| ||_|_| __|||||_ __|_ ||  _ ||  _ |  |__|  _|| _| |||_ _  _|_|_ _|| __ || |__|  _ _|_ |_||__| ||_|__|_||_  _| ||_|_ _ |__| |_ __||_|__||_ || |_ ___||| ___||_||_|| |||    |   _||_|_|__|__ __|_ |    |||_ _ |__|||||_| |__|___|__ __|_| _ |__|_|| |||||| |___|_|__|  __|_||||_|| |_ _ |  |||_| _ _  |__|_ |  _||___ | ||__ | |__|_  _|_  ||||_||__|__|| |||_|_|_||||_|| |||_|_|_ |___||_________|   | _| _| |_|________|_|__ ||_ ||_ |||_| __ || __|_ | ||___ |||__|||   ___|_ | |_| | __ ____|__| ||___|____| || __|||_||||__|__  |___  |_||_||__|_| __ |||_ |__||_| _|||__ __ |||| _|_ |_ |____|_ | |__  _|___||||__|_|||_ _ _ |_|||_|__ _ _|_|_|_|||_|_|__ |||||__|__|||__|__ __|_||__|_| |___| |_|__ _ ___|| _ __ _||_ _||||___|||_|______|_ _  _| |___| |_||||||__|_  |____| _ __   |||_||| ||_| _| |_|| __|||_ _| _|| ____ __ ||||||||__||_||_ __|_  ||__ _|||| ____|_ | ||| _|_|_|___ __||__|__|||___|   __|__  __ _ |  |__|||_|| _ | _ _|_|_   | __ _||||| ___ _| ||_|_||___ ____ __|_| __ |___| _ |___|___|_|_|___|_  ||  |_|||| |_ ||__ _|__|_|_|_|_|_ ___|__|_   |||_| |  ||| ||___ __||_|_|_____ |  |_||_|__|||||___|||_|_ |_|  | ||| ||_ _|  _ _|  _|_||_||_ | _  __  ||__|||___ |______||_ |||| |_|_ |_||_ _|___ _ __| _| |__| | |_||||_|_||_ | | _|| _ |_|_ _|_  _  ____|| || __|_|| __ |_||__|_  |_||_ _ _|_  _||_ | |   _ | |_|__    __ _ _  __|| _| _|_|__|____ |___ |||__||_| _|___|| |_|||_|| ||__|__ _ _|__  _||_|| _|______ ||_||| |_|  |___|_  | ||_||||__| ___ |__ |||_ |__|__ |__ ||| |__|  _|  ___|||||||_|||_| |  _ | __|_ _|_||_||_||_||__|||| | _  | |_| _| || || _||| _|_|_   __| |_||| _   __| |__|||_  |_||||__||___|_|__|____||||_|__|_ |__|_|||__  |___||||_|| |_||||_| __ | | _ _|| _|_|| |___ || _| |_||| | _ _|_| ||||___ |_||||__|_|||_|__   _| ||_|__|_| ||__||_|||| _ |_|_||_ ||||__|_ |__||__ ||||| |__ ||__|_| ||_  _|||_||_ ||__|_____||_ ___| _||||_| _  |||_|_| |_|_|____|||__  |_||_||_||| _  _|_|_|____|| _|_| _ |_ _|_ __ | __ __ | |___||| ||_ |_|_|__ __||_|||_| _|__||_|| |_|___ ___|_ ||||_ |_| |  |__ | ||__||___ _ ______||__|__ _ _ |||  |_  _|_| _|||||__|||||___|_|_ __||_|_||_| _|_ |_ |_||_ ___| _|||_||_||_||____ _  |_  | _|__|||___|_ |||_| |_ _||| ___  |  || _|||___|_| _ _ __ || |_||_|_ _|_ _| || |||_| _ |      _|______  |_||___ |_||| |__| _ __ _|__ |||_|_ __  __|__|| __| __||_|| |_ |||_|||_| |__||||__  __| | ||  __ ___  |||| |_|||_____  _|_||||||__ _|__ |||__ _   |___|__|| _|__|_||____| __ __||_||__ _ __|__ _|_|||||| __|||____|||||||_||_|___|____ |_||_|_|||__||___|__ |||__||_ ______ |___| |||__ _||_| ||  __ ||_| | ||_|_| ||_ |_||___|__|_|_|_|_ | || __ _|__|_|_|| |   | |_|_|____|___ | _ __|_|__||_ |_ |||| __||   __|_|_|||| ||_|___|| _| ||___ __ |_|_||_|_||__|__||__ |__| |    ____||_|||_ ____| | _  |_||| __|_ |__ __ |_|| ||||| _ |__|_|__||_|_|__ ____ ____||_ |___|__ ||__ __|_____||_| _ _____|  _||___ ____ |_  |||__ _|| __|||  ||___| || _| _|||||_ |_|__| __|||_|_| ||_ ||_ ||_||_||_ _ _  __ ___ |__|_| ||___ __|_|  |____|||||_|__ _|_ ___|||  |__|_|__|_|_ |||_ _| _ |_|||_|__ |  |__| ___ | | ___|_||||__||__|_ |__| __| |_ _|  |_ _||______|| ||__||_|__|____||_|_||||||_||__||_|_| _|_|   _| _|||__|_ |_||_|||___ _| _ |||_|_||_ | ___||_|_| ||  ___|__  __  __|_ _|__ _ ___ |__ ||  |_|___|||_||_  || |||| ||  || |_ _|_| ||||_  ||__ |__|_| _||_|_ || ||_| |__ _ _| __ __|||__|| | ||_ _||  __  _||||_ |___| || _______|||||||__|| |||_| ||___||_| |_ _|____ | |||_ _|_|||   |_  |__||||||_|__|_____ _|||_||   _|_ _|_ |____|__     __|||_||__| __||||||_ ||___ |_ _||||__|   |  |_||_ _|_|____||_| |__|_|_|__|_|_____||| |_|||||_|__|_|_ |___|_|   | || _  __|||||  _|__|| |_||_||||||_  | || | | _|___|||_| ||_ _||  _   |_ _| __ ||| |_| | ||||____|| _||__|___| |___ |_| |_|___|_|  ||___|||||_|||||_ |||__|| ___|__ || __|__ _|  |||_|___| __||_| | |___ __||_|||___ _ ___|| _||_|_ ____ |_|_ |__ _|||_|| |||__ || ___|  ___ |||_ __|_|_||_||__| |_|_  _|__|_|_|||_  ||__ ||||___ || ||__ |_|_|_ ___||||_||__ |_||_||| | |_____| _ __| __|_||_  _|__|  |||||__  |_ _|  __|||  | ||_||_  __  |_|_ __ __|_|| || |____ __|___||||__|____| _||_|___ ||_|_|_| |||| ___|||  ___|_|_ _|||||_||_|___ | _|_ | |||_ ||  _| || _ _   _ ||||   |_|| __|_|____  _|||||| |_|_ || |_ |___|_||_|_  _||__| _|||_|_||| ||_|_ || __  _ | _|____|_||_ | __  |||| |_|| _|| |||__|_|_|||_| _||_ _ _||_  _|||||_|_|  | _||_||_|_|||_|_ |||__ |___  |__|_ ||    _ _|__||__|_|| __ |_ _||||___||_|_| |_|   |||||_||____|| _|_| ||||___ __|||___|_|__|__| |_ __|||__  ____||_|| __||___| |_____|| ___ |||_ _| ____|| _| ___   | |_||____|______ _____||__| |__| | _|_|_ |______| || |__||_| _ || __|_|_|||__ || _  |_|_|__ | ____||_ |||_|_|  |_|__  _ ____|_|__|||__||__|||_|_|_| __ _ _    |_||  _||_ _| __||_  |_|_|||_|_ |__ |__||__ ||||_ _| __|_ ||_||___ ___|_|_| _||_ |_|| _|||___   |_|_ _|__|_ ____ _| _|_|_| _|||||__| |_|||_|| _ _|_ __||_ ___|_|||_| _||||||||_|_| ___|||| |__  || ||__| _| __||_||__ _|||  |_|_|||||| _|_  ___ _| ___|||__ |   | _ ___ ||___| | _||||||___||_ |   ||__| _ __ _|_||||_| | | _| | || |_|____ |_|||_ _|_____|||__|__|_|__ |_| |_|||_| | |_||_ _| |___  _||| ____|__|||__|||| _|__|||____|_|_|_ |__|| _||||_  _|__||_||_ _| _|_|__| _| __|__|  | |||||| ||||_| __ _   __||_|__  |||____ |_ |||_|__|_|_ _||_ |__||_||||||____|||_| |__|  _|| ||||__| __|_| |_| ||| _|| || |_||_| __||  |_ _|_ _ _||       _|   | _|____|||_|  |_ |  ___|_|||_|| _||_  _  |||__|_ |||| |__| _ |_| __| ||_||   _ _|_ ||||||_ __  |   _||_||_|____|||||   _||__|_|__||___| |__||____  |__ ||___| _ |_| || |||_|||__| _|___|||__ __ |   || |_|_|| ___|____ _ ___|_ | || _|| __ _|_______|_| |  _|| __|___|_| | __|_|_||_||||_|_| __  |||||__||__|| __ |  _ || ___ |||__| ___|| ||||_ |__ |||_ _ |_  _| |_ _|__  |||___||_|| ____ ||||__ ||__|_|______|_|_||_|| _||| _| _||| _ _ |__||_ ___ |||||___ |_||_|_ |_| || ___||  _ | _|__||||_|||__||_||   _|_|  _|__||_||__| | _ __|| | __ |___|____|_|_ __ _|___  |||  | |____|___|_|| _|||_ ___|| |||||||||__|| _|__ |_ _    __|______  __| |__|||| ||_|__ ||_|_ __|_ __  | __ _ ___||___| || |_|_____|_ _  ||__| |_ |_||| || ___||_| |_|  | | |_| |_|_|| _||||_ |||_ _| _ |_|_||||_||||| __|_| |_|| _ _||_||_||_| _||   ||_______ | __|_|_ _ | _ ||_|"
     ]
    },
    {
     "name": "stdout",
     "output_type": "stream",
     "text": [
      "|_| _| |__ | ||__ ||_|_ |__  ||||_ ||| ||| | |_||____|||_| __|__|_|_ _||__|__ _ __ _| ||||__ __ | ||__|||_|||||| |_|_||_  _   |_|_|||||_|_ __ ||||_||_||||||_ ___| || _   |_  __||||_ _______|||_||| _ |___|_|_ | ______||_  _|| ____ _ _| |_____|| ||| _|  || | ___| |_____||__  ||| _| __||_|_ _  |_|_ _|_||||||__|  | |__ _ _|_ _|__ ||__|||__|__||||| |||_ ||___ ___ ___ ||__|_| |___| | _____|__ _ |_  __ ||__ |||_|_|_|___|| _|_| __ _ ||__||||__||_  ||____|_|_| __|__|_| _| | |_|__||_ __|____  _||__|||||_ |_|_|__| |____ _ |_ _ _ | _||_  |___|_|||_||__ _| |  ||| __ |__ _____| ||_ __ _|| |_|_|_|_ || ||___|||__   ||____ _||__ _|| __ || |_ _||_|__|_|_|_|| _ __||   ||_ _|||||_||||___  |__ |_|_|__ |___  |__|| __|__ |_| __|| |___ _|_|__|||_  |   _|__||__|_||_|_|_|__   |__||_|||____|||__ |__  ______| _||_|__|||| _||||__|_ ||__||   _|__|| _ |  __| ____||| ||_|||| _ ||_| __||_||__  _ || ||||_ |_| |_|||| |   |||||_| __ _ __  | | _|___||_|_||| ||_|_||| |_|_|||_ _||__ ___ |_|_  _ _||_| _||| |||___|___||_ |________||____|_ |___|||__| |_|_|  | _|| |_| |_|_||_|_ | _|||||_|__ _| __||||||_ _ |  |__||||_____||_||_||___ |___| ||||_ _|_|___ ____ || ____|_| _| ||||| |_|   __||_ | |_ ||_ _   | ||___||__|_|| __|| || ___  _||    __|||||__|___|_|__| _||________ _|_ __|___||_|  | _||__|_|_||__|_ | ||_|_|_| || __ _|| |_ |_ |__ |__||___|| _ | ||| | _ |__ |___ || _|_|_|____ | __| _ |||_||| |||__|||||__|_|_ __|_||_||_||_|| _|||_|_||__||| _| |_| | ||___|___||   __||_|| |__|| _ | _|_ |___||||__|_|_||_   _|__|  ___|  |____| |_ __||||_|__  _  ||| |_|____ |_ |_ __|_   _|__|___|__||_|   |_ || _   ||__  | ||||   |______   ____| _|__|___|___|||  || _  _ ||__  _ _|| _|_|__|_ | ||__||||_|  _ _________|___ ____|||||__|____ |__|  | |||__|_| _|_||   __  _|  __|__||_|____ ||_|_| |_|_|_____ |_|__ __ _|__|___|__||| | |___  |_|__| |  __|_|| _ _    || || | _ |_ _|_|_|||___||_| |___| _|||_|__|||___||_|_ _|_ |||____ |||_|||__  _| |||||||  __||_| ||__||__ || ___| |   ||__|__|___|_  _|____|||______ _|___|__|  |__|__||  ____||||_|_|_ _|  _   ||  _| |_|___||_| |__| |_|||__||  |    __||  _ _ |  ||_||| | ||_|____|  ||_|____|_||||_|  _|_||____ |_ _| || |_ | |||||_||___|_ _|  |_||_|_||||_ __|__| _____||____|_ |__|||_|||| |_||||__  ||| |__ | |_|||||  |______| _|_|_ |_ _| | __| _ ___ _ __   |||_||_|_|__ |_|__ ___|__|_||_| |||_ _||__||_|| | |__  || |_ __|____ _|||  |_|_| |_|_|_ __|_|||___|___| _  _   _||_| __|_ | ____ _||___ || ___|__|_ ___|__| __ _|| __| | |_ |_| |_ __|_|||__|_  ||_| _|__|_| |_|___|  __|__||___  |||___||______|  ||_ ||||_ ||_| _|_|  ||  __||_| _||_ ___|____ |____ |_|_| _____|| _ |||||_____ __|| ||_____  ||___ _|_ __ _|| __|_|||_|| |_|||__ _ _|_|__|_  _|__|___|||_ __|_||||_|_|  _||__ |||__ _|||_|| ____|_|_||_|||__ |_ _||| __ ||__|_ _| ||||__||_|_|_ |  |_|_  ____|||___| _||____ _|_ ___||_||_|||_|___| |_ | __  _|| _|  ___|||_ | | __ |||_ ||___|  ||_|||___|____ |_|||_ |___| ___|_|__||_||___ _|___|___|_|||_|__||| _||_ ____|__||_ || || _|_|__||||__  |_| ________  | | |_||___|_|  | ||_| _ _|||  _  ||_ _| |__|_| ||___ __||| _|__|_ _  | _  _||__||__| |__|||__|_ _ _|_| |  | |_||_|_|_|_|__|_  _|_ _| |_ ||| |_ ||_|| | | |||_| |__ ||_ |||_ _|||_|___ __ __ |||||__ | ||  ||_||_|_| __ _| |__ |||||| _ |_ |_||_|_ | _||_|__ _|_  __ ___|| __|_|___|||||_ _ |||| | |__ |||_|| __ |_|_|_||||_ ____||__||_ ___ __|| ||_ ___ |||_|___|_|_|___ | ||_|__|__|___  ____|_|___| |||   __| |_||__ || _|__  _|  _  |_||_|__|||_||_| |||_| |_  ___|_|||_ _|_ _ _||||_  |__ || ____|_|||||| |_|___  _|____|_|__ |||___|_||__|__| |_  _| |__|_ ____||_ _||__|| ||_  _ _|_|___ _ __|_____ __ _ |_| _ _| __|__ | ||||_|__|_|||____ | |__| __|| | _ _| |_|_ |__ || |_ ||__|||_|||__ ____ || | _|   _|_ ||| ____||_|_|  ||_| ||__|||__|__| |||_||| _|_|_||_|| ___ ___| _|||_ |_|__|_|_|_||______ ||||_| ||||| ||__||_ |_||_| |_|| ___ __|__ | || || |__|__|_|_ _|  _ _ _ ||_|__|||_|__| ||| _ |_____ _|__|| ||| ___||__ __|||___|||_|  _____  ||_| | __|__| _|||__|_|  ||___||_ |_ |_ |||_|___|_ __|||___ __|  _   ____|||||||_|_|_|__||__| | _ _ | |_ ||  _| ||_|_|_  _| |_ __||___|__|  _||| _|||_  __||||||___||__|| __|_|||_|_|  |____ |__|_|||_||____|__||_|___ || __|_|| _|||___|||__ _|__|| __||__|||_||_||  ___ |_ |_||_|_||___ __ |__||||__  _|_ || ____ |_____||_|__|_   |_| |__|  _|_|_  ||_  _|_||||_| _||_|__| _||| _||| |_|||_|__ |_|_____ ___|||__  _| ___|__||_ |||_|_ _ |_ |__| _ __|_ | __| |||_  ____  ____||_| | _| |_|  ||| _|_|__||___|  _|| _|_|_||__|| _| | ||_ _|__|____|_| _||_|| | _|__| |_ |_|_|| |__ _|__|| |_|_ _|___|___||  ___|__ | |_|_| | __| _| ___ || _|_ |_||| ||_  __||||    |__ |___| ||||___|__   __| ||_ _ _|__ _| _|_||||__|_|||____||||____|||_|____|_| | |   |_  _|__|_|||__||___ ||||| _|_||_ |||||_| |_ |||||_ | |  |_ __ ||| _ __ ||||| |_ |_|___| |_|_|    ||| || _|| |__|| _||_|||| _  | ||_|_||__|||_||___||_|__|____||__|_| __|__|_|__| |_| _||_|__|| ||_||__|| _ |__|_| |_| | _|| __|||  _|_||_  | _|__ _|_| ||__ ||__ |_|___  |__||__ _ _||| ||__ |_|_|___|___ ____|__|| ___|_|____|_||_|___|__||___|||| |__ |__|  | |||_   _ _ _|__|||__  || ___ |_|||_|||||_   __ _ _  ||_| | ||||_|||_ _|___|__ _|||__ |  __|_|  | | |_ |_ _||  _|_||||__| _ __ _ ___|||_  _ _||__  |  _||__|_|||_____| |_||  | _ | |_|||  _||____|_ ||| |_ ||__ _||__|__ |_||_ |____ |||||  |_|| | | || _||| __|__  _ _| __ _   | |||_|_||_|_|||__  | | __ ||_ __||_|  |_ ||___ |__ _|||___|| __| _ _|| __|| | _||__||___| _ ||||  ___||_|__|_|||__| |_ | ||__  |_|||__||||||_| _|   | _|||__||  _  __|_||||||_|| _|_|||||_|_|_||_|||_ __ _|_|_||_ _||_|||| _|||||_|___||___|| _ ___|_ _|__|  |||__|__||| |_|_____||_||| | _||| |_ _ ||__|_|| | | ||||| __|_ _  __|_|  ||___|| | |_||_| |_ __||| ||_||__ _|_ __ |_   | _|_|_|___ |__|_|_ |_ | ___|_|_|_||___ __|  ___|||___|_ _____||__|||___  ___ ||___ __|||_|| | _|_ |_|_ __ |_|__ _|||   | | |_|_|_|| |_| _||||||_|__||| |||___ __|||__||||__||||| ||_|| |||_ |||_|_|___|___||__||_|_|_   ||__| || |_____|| |_| _ ___|___||_|_ || || _||_|_| | _  |_ |___|||_||||_|  |||||____|_| _|_|||_||__|||_|||__|_  _|__ _||_ ___| _ ____  _|| |  __|__ _|_||__||__|_______|_ ___|||_||_ | ___| |||_   | | | |__ |_|| _||   __|_|||____| _ |_ |____| _____ |_ ||||| |_||_| _|||| _|||||_ ||_|| |_ |_|||_  __|__||_||_||__|_|| |___|  __ ||||______||| __|_||  _||_||_|_||||| |___ _||_|_ ||_||__|__  _|__| |__| _____|_|_|__|| _   _| __ |||_ _|| |_||||_||__|| __   __|_|__|____||||||| __|___ _|__|__ _| _|_|_| ||  || __|||_||||| ||_ ||__| _ |_||__|||_ |_ __|  ____  |__| | _| ___| || ||_ __|_|_ __| |_| ||___ |____ _|_|__ _ |||||_|_| _|__ _| __ __ __  _ _ __|___|_  |_ ||___| ___|_ _ __|   ||_| |_||_| __||||__|____||_|___| ___||  |_|_||_|__|__ _ __ |__||||_|_|_____ __ |_ _ ||__||__|||_ |||| _|_||__|_||  _|_ __| ||__ | _ _|__|_||_ | ||_|_  | _ __| |_ |_ ||| || _|||_|| |_ | ||| _| _|___|_ _|_|_|||__|_|_|||___| |||_| || __ _|_  _|______ ||||||||_ ||___|| |___|___||_ ||_|_||__|_| _|  |||__|___|__|_| |___|________||__ _|| |_||  _____|||_|_ |_| _|_ |||   ||_||||__|____ _| ||___|__| ||__ _| _ |_| ||||_|_|_|_  __ _ _|||__||__|||||___|| _|__|__|_||_|_ __|  _ |_  _|__| |_|| __|_| __ |||_| _||| |||  __|||||  _|_|| |_| _|_|| |_ _|_||_| ||| |_|_| |_ _|_ || _ | _ _ |___|_||_||  ___ || |||| || ||_||_ |_|    _| __|| _|_| |_|__ _|| _|_|||_|___|||||__|_|___|||__|_____|_ |  |__|_ _|___ ____||||_|   _|||||__ _| || ____| __| _|__|__||||||__|_|_|___ __|___|||__|_|_ _| | | __ _  ||____|| __||_ ||||||| _ _|__  _|_|||_||||  _ __|_|_||| __||_||__ _ _|__|_| |_ _ |  |||   _|| |___ | _|_   _|||__ _ ||_| ___ _| | || ___||||_|_|_ __|||  __|_|_ _|||_ ___ _|||_|||____|__|_|  | |||_  ____||_| __ |__ _ __|___| __ ___   || _|_| |||||||_ |_|_____|____||| __ |_|_|_|__|_|__|_||_||||_|__|__ ||____|____||||___ |___||_ |||  __|__|||_ | || __|||___ |_|_|_|||  _  __| || |||||__||____| |__| _ _|__||___ |||||__ |__|_ |||_ _|__|_|||_|||_|______||__|_|_ __|_ |___||_ _|__|_||_|||_ | |_ |||_| |_|_|__ __||| |__ ||| | _||__||_||____| | | _| ___ | _  | __|| |||___|||_|_| __| _ _||| _|__ ||_  __| || __ ___|_|||__ _|_||___   _||__|______ | |_| |||| |___||||_  ___ ___ ||_|| _|  ||||_|___| ||__| _|__ _ __||__ || _ _|_  |__|__|_ __|_| _|___||__||__|_||_  _ |||||_|__||  _||||_|_| _|| _ || |__|    |_|||_|_  |_____ | |_| | |___|___|   _|| _|||___ _|__ __ | _|||_ |_|_ | ||||_|_ ||__ _|| _||  |_|__ |_  | _||_ _|__ _||_|_|_||| |__|_ |_| | ___||_| ||||| _|_ __| ||___ __||______||  _ |__ _  _|_ _||_|_| |__|||___|_|  __|| ___|_|_|__| ||__|_||_|| ||| _||_|_|______ ||||_|| _ _||__ |_ _ _ | _|_|_|__|_____ |  _ |_| || |_ __ |||||_||__ ||||_|__ _|| |_||_||__|||_|_| |||_ _||__||_|| _ __||||||_ _ |||| |__|_____|__|_ |_|_ _ |_ |_|__||||_ ___||_||| |_|_|| _|||||_| __| |__| _|_|_  _|_||_ |__||__||||| _|||____|_ ||_|| _|____|||||| __  | |_|| |||__|__ _|_|||_| __|_ ___ |_|_|____| |_||__| _ |__|  __ _| | ___ ||_||__ ___ |||__|_|__|_| ||_|_||__  _| _ ___|  | ||| _____ ___ |__||_|||_|||||| _|_||_|_| |_  |___|| |__  ||_|__ |||____ _|_ |____||____ _|| _||_| __ _||_ _|__||||___|||||__ __ ||||  ___ |_||| _|__||_ | ____||__ __  |_|_|_ ||||_||_||_|_| _| _ __ || _ ____|___|_  _|| ||____|__ _|__ |_| |_||__ |_| |_ |_|||_ |_ _||| ||____ |_||  _|||||_|||  || ___ ___| _ _   |_|| |_|  ___|__ _| ||_|_|___  |  ||_ ___ |||||||| _ _||_ _||_ __||_|| |___|||||_||_||_|__||| ||||| _   |_  _ __ _|_   |_ ||   ||___  __|| || |_ __| _|||  _ | _|_ ||_|||_|  |_|_|||||_ _ _|_|||__|_ _ ||_  _|_ |__ ||__|||_ _||__ __|_|||_| _||_|||_|_ |___|| |_ ||||||_  __ |_|__ _|||__ || |    _|| _ || __|_|  _||___|_||_|||||||| |__ |____  || |  | _  | |||||| |__|_|  | |__ ||  ||__|_| _ _____ _|_|_||| _|__|__||_ ||_ _||||| |__||__ |__ |__|__ __ _|_| _|_||_|| ||||___|||_ |_|||_ | |||___|__|||_|_|__|___|____ __    _|__|| ||__||__ __ _|_ _ _| |_|_"
     ]
    },
    {
     "name": "stdout",
     "output_type": "stream",
     "text": [
      "__ _| |___||_||____ ||___| |||_ _ |__|__|__|| |||___|___| |_|||_____|| || ||_  |_||_|_|__ ___| |__| | _|____ _|_ ____   |__ |__ ___|___|| |||_||____|___|___|  |_| _  _||| __ _|_| |||  ||__|| _| |_ || _|_|| __ _ ___|_|__ ||_|| ____|_|    _|_||_ | |_ __|| _ ____|___| ____| |  |_  ||_ _| __ || | _| |_ _|_|||__  __|___ __|__ | __|||_|__|_|__||_|||||  |  _ |_ |___ _|_ _|||  _|| |____||___|_ | || || |_|__  _|__|||_|_|  |___|__ ||||__ |_|__ |__  ||_|____|| || _ |__|_|__|_|||____ __ ||_   ||||||||__|____|_|_ |_|___ |_|___| ___ ___ _|||__| _|| |_ _____||_ _||||__ ||  __  _|_____| |__   _|||_||__|_|| | |  _ ___|_  _|__| ||  ||__| __ _||| _|_|_|____  __|| |_|__ _|_  _||| _ | ||_  ||| ___|__|_   |||__| _|| |_|| _____ ___  ___||_| _|_ _ ||_|_| __|_|_|__|| __|_||  ||_|||||  | || __| ___|_|  ____|_|__  _ ||_| __|||||||_ || _| _| ||_ ||_ _|_____| __| ||||      __ _| | _| | |__||_ |___ ___|| __||_ _|_|_|||______|| _|||_|_||_|__|___ ||||  _|| | _ _||||_| ||  _ _| ______| __|__| | _||__||||_||__|_ | _||___|_|_|||_|_||||_|||__  _ |_ ||||_||| |__|_   ___ ||||___ ||_|  _|||__ |||  _|  _| |_|_|_|___ | |||_  || _ |  |_| __ ____||____|||_||_   |__|| __||| _|_  |__ ___| _|____|__|_|| _| ___ | |__|__|__|_|___ |_|_ _|__| _ _|__|___ _ | _|_||||___ ____ ___|  | ||_| _|_ ___|  ||||__|||__ _||||____ |___||| __| _|_ _|_|__|  ||_ |_||__ __||_|___|_||__||_| _ |_|_|| |___|__ |_| __ _|_|_|| _| ||__ ___  || |||__|||___||_|| | |_ ____|__| _|_ __| _||_  _|_ ||| |||_|_||_|_______||||_ _|_| _ || ||_  _ |_|__|_| _||||| |__ ||_ _|__|_|_|___ _ | _ ||__|  _|||_|_|_|| _|||_  |||  _|_|__||||__|_||_||| |_| |__| |____||| _  ____|_|____  _ _ _ _| |_|| __|_| _|__|_| |____||_| __||_||| |_||_ _ __ |__|__||__ |___|_____ _|_ ||_|_||| |||___ |_ _||__  |__  _ |||_  _|_ |_ _ _ __|_|__||__|_| |||_ | |_ ||| _ |__|__| ____ | __|| _____|_| _ ||_ |__|_ || |_|__||_|||__|_|_||__||| __|_|_ |_|| _|_|  _|  |__|||||_||_|__|| __ ||_|_||_ ||___|_  | ___ __  |_ _ |_|| _____|||_||__| _ __|||_| __| |_ |__||__ __|_ |_| __| __| |||||____|||___|__|_|||| |||_||_|_|__ _|| _||______     _|_||  _|___| _|_|_ __| |__| _| __|_ _ _ |_| | |__  _|__|_ _| ||_|||______|  ||_|  | _|__|_|____ | __|_ _ ||||_|__|| |||||   _ _|||| ||_|_| || _|_||| _| _  |  ||  |||| __ _ __|__|_|||_|_|_ | __|||____ ___||_||||____||__|___|__ _||| _||_ _| _____|_|| |  _ |||||||_| |_ ||____|_|___ |_ |_ ||___||| ||__||__|||_ _|||_|__||||||_||||__|| _||_||_  _| _||__|||| ___  _||_|_|_ |_|___ ||_| | ___||_|| _|_||_ _|_|_|_||_|_|___||  |  __ |_||| |__|||_ |_||_| |_ ||_|__|_|_  _|__|_____| | |____  ||||| ||__| | || _____|||___| ||__||__ _  __||_ __|__ _  ||  _|_|  |_|_ _ __   | |_|||||||__  _|||_ ||__ |___ _|_ __ || ____||___ || |_  |||  |__||_||||_ ____  __ _|_|___||||__ _|| |_||___|_|__  |_|_|_| __|_ _ _| |||   ______|_|_||_||| _ _||_||____| ||_|_ |__||__||||_|__|____|__ _|| |_ _|_|____ _|||_||_||__| |||_|___|_|_ |_ | _||| _||||__|_ _|  |_|_||____|__|_|_| __||||_ |||_||___ | _  _| |   ||__||__|__ _||_|||_|_  |_|_|| __|||||||| |__|_____|__|||__ _ __|____  ___  |||__  _||__ __||__||||_| ______|||||_ |__ |   _ ___ |  _|_|_|__|___|__ _||_| | __  |||_| | __ || __| _ _|_ | _|_|_|__|||_    _|_ _ ____ |__ |__ | |__ _||__|||| _|__|  ____|  |_  |___|| _| |||_||_|__|_|_____| __  |||__|_|_|_|_|_|_ ||___| | _____ |_ ___||_|||___||__|||__||    |_||_|_||_|||_ |___  _| | _ _   |_|||__ _|_ |__ _|_|__|__ _|_||___| ||__| __||___ ||| |_||__ _|_ |__ |_ _|___ _| | |_|__ |_|_||||||||_ __ |_|||_| |_||_||_|__||| _  |______ |||_| |||||   |||___| ||||||  _  | __|||__|   |_| || |||__|_||_ __ __|_ |____|_| |||_  ||____|| |___||||__||______ || ___________  |_||_|  __ |_|__|_   |_ _ _| |_ ___||_ | ___| |_|_| ___| _| ||_ _ ___ |_||_||_ __|____|_|_|_ _  _||_| ___|| |||  |_ __ ||___|_  | |_|||   __|_|_| |||__ | |__ ||____|_ | |__ ||__ |_|| __|_||___|  ____| __|||||_||  |__|| |_  ____|__|_|_|_|__ __|||_|  _|||  |__||||___   _ __|_|__ ||______|__|||___|__||_  _||| |||_|_| _ __||_ _ _|| ||__|_|_|| |__ |__|||  ___|__ __||| _||_ |_|_ _||__   |__|| _| _|||| |||_||___|||||_||_||____|_ |_||||_   ____ _|||||||__|_ ___|||____|  | |  _| ||__||_|_| _||_|_|  __|_  |_ |____|||_||__ |_ |||| |||||___ |__ __| _|||_||_ |||_ _  _|___|_ ||_|___|||| _ |_|| _|_____|_ ___| _ _|||_|_|_| _| ||||  ____||___ _|__ _ |_|__ || |_|_|_ _|__ |||_ __|_ _|__||_  || _|____|__|_ | _|_|||||_||| _||_|__|_|__ |__  |__ ||__|_| ||||| _||  __|_|___ | __ _|_|_  |||||| _____||| |_ ||__ _  _|_  || | |_ _||  |  ___  _||  _  ||||_|___|_ |_ ___ _|____|| ||_ __| ___ |___| ||__|||_|_||___||__|_| |_|__|__|   || ___ |||_|| | _ __| || _ __|__||||_|_ __||_ ___|  _|||_|| ___|||__||__|||| | |  ||_||_|_ |_||| ||__ __  | _|_ |__| _  _||  | _  _ __|___|  _ _| ____ |_ |_|||_|_____|_  _||_||_ |_  ||_||_ ||_|_|___||||| ____||_  |_| |_ | _|____ |___|_|||_ ||_ | _|  |____||____  __| |_   ||___ |___|   __|_|__||  __||_||_| _| |_ __| __|  ||_|____|| _ |_|| _  ___||__|_||  ||_||_|___| __|_ _|||_||_|_  |_____ ||__||_ ||___ _|||||_________|_||__| ||___ __ _||_|_|||||_|__ __||__||||_ _____| _|  | _  _|_||| |_|_|_ _||__|_|_|| || ||||| ___|__|_||_ |__|_____|| |_ |_|| | ||  _ __  |_| _|| |||___|||  _|| ||___  || _| _||__||__|__ | |_||  |_ ____ ||_ _ ||__ _|_ |_|_| |_||_|___|_| || _ |_ _ |_| ||__ | _|_ _ |_ ||| _|||_| || __|_| || ||_||_| ||| |||___|_|_|||_|___||___ __ ____||_ ||_|_||__ _|_|||_|____|||_||| _  |___|||| |_ |__||_|_ _||_|_| _____|  ___|__ _| _||_ ____|_ |_||||___|||_||_|| ____||_|  | _ | _ || __ _ |_ |___|_|| |_ | _ || _  ____ _  _ |______|_____| |___|____ | ||| || ___|||||_ _|__||_|_||_|| | _ |||___|__||_ |||_|__||  _ _|__|__  _|__|  |_|  |||||_ __| _  |_|___| |_|| ___ || |____|__|| |_ |_|  ___|________||  ||_||__|_ |_____ | __|_|_|_|_||__|||_ __ __|| | _|| ||___|_| | ___|__ ||_  |_ _|______|___  |||_| |_|_||| __ ||_|_|| |_ ||| _|_ |_ __  |||  |||__||_  ___|__|||||___| _ _ | ||__ _|  ___|__|_ |__|_____ |_ __ _||___| ____|__ ||_|_ |_|_||_||_  __ ||| | |_ _ __|  |_|| |__|_ |_||_|||| | _|||||_|||_  __  |_|| ___||||__ | __|__ | |||__  || |_|   _|| _  _ _|_____|_|_ |____ ______ |___ | ||||__||_|_  _||___  | _ |__|___ |_|_ |||____ _|__||||___|___|_| _ | |_ _|_ | _  ||||_|||__ __ __|_ |||_ _ _||_ ||_ |__|_ | ||||_ |_||____ |_ _|_|___|_| __|| __|_ ||_ _ _| |_|__ _|____ _|| __ || ____|_|  |||__ ||___|||__|||___ |_____|_ |   ____|__||_|_|_  |__|_ _|_ |_|_||__ || | | | ||| | |||_ |_|___| _|  ||_|_| |||||_|____|_|_||_  ||____||_|_||||__  |_ | | |__|__|_|| _||__ _|_|_|||||||_| __ __ _|_|_ |_||___|_||||_|___|_ | __| _||_||_||  |  ||_  ___|| _|__ ||||||| _ |_||  |___||||  __|_ | __|   | _||||_| _|___||||_||  _|_| __||_|_||_ |||_|_|   ||_||||| ____ |||__|||__||||_|_|||___ __|_||__ __ ||__ _ |||| | |_||||_____| ||_ || ||_|_| |____| |||_ ||__  |___|_____|_||| _||||____|  | | _| | __| __|_ |____|||___  |_|_|__|_____| | || ____|||  __||_|__|_|__ _|_||_| __|___ | |__|__||| _ _ |__|_ _|_||_|_____ _| | |_|||||||________|_|_| __ |__| _ ||_| || |_ ||||_|_|_|__|___ |___|||___ ___ _  ___ _ ||  |||||___|_|__ __|_|__|| |  |_||_||___||| |_ | _|_||_ _|_|_| |  ||__  _| _ |||__ |||| |||____| | |_| | _||  | |_||__|| | ___ _|_  __ ||_ _|||_||_|_|||| |||||_||_|_ _|_  ||_||__ |||_||||_||||__|__ |||||___ _ |_||| | _|__|| |___ ___|||_|_ __|_  || |__| _|||||_ |__|| ||___| |_||_  __|__ _ |_||||| _  _|    _____ |_|  | __  |||__ ||__|||__|||_ _||| _| |_|____ |_|| __|_ || _____|||   __ ___|_| ||||__ _|___|_____| _|||_|| |__ |||___ _||_|_||||__|||_ _|_||  |___|_|| _||_||   _||____|_|_ |__|| | __|_ |_| | |____ ______ | _| |  || ___ | |__|___||_||_||||||___|||_ ____  |______|||__ ||_||| |__|_|  ______ |||  _ |_||__|__| | __|___|||_|||| _|_||_|_|___||____ |   _ __ |   |_ |__|| ||||  _|| _| ||_|_|_|__|| _||___|__||| ||||_____ _ |_|_|_ ___| || ||||_|____ ||__|__ ||__| _|_|___| ||__||| | | __|_|_||_ |||__|___| | |    ||| _||_ _|_| ||_|_ _  ______| _|||_____ |_ _||_||_|_|_ __ ||||__ __  |_ _ __|_|| ||__|||||_ _ _|__ _|_||__| __|_|__|__| _|__  |  _||_|  __ _ ___|_|||____  _||_|||_  __|__|| |___ || __  __|_ _|_||_|_|||  |||__|_|_|| |||  ||__|___|_ |__|| |____|___|__|  _ |||__ _|_ |___|_ ||_||____|__ _| ___|___ __|__| ||_||| | | | __| _||| |__ |_|_| _||_ |||____||_||| _|||____||_||__|__| _ ____||_|___|_ _ |_|_||______|||||||___|||||||_||_ |___||_||| _||__ _||_||||_| |||_| ____   _|_|||___| _|_||___||_|||__|_||__||||_ _|_ _ |_||_ _| ||_|"
     ]
    },
    {
     "name": "stdout",
     "output_type": "stream",
     "text": [
      "  _| _ _|  |_ | |_ _|||_||___||_  || ____| __|__|__|_ ____| ___  ||__||||__ ||_|| _ _ __ _| _ _|__|__  _  _ _ __| _|| | ||| || _|_| _| |_ |||_||||_|||_||||_|_ |_||___ _  |||_  |_||__|__ ___|_ _|_  _|_|_|_ |||_||___|_  |__ _ |___||__  |_|__|||_|_|___ _|||||_ |_  |____| | ||_ _|_|_ _||_|_|__ |  |||___|_ |||_||| | ||__| _|  |_|   |||||||_ _____  __ _||_|__ | ||  _|||_||___||   ||__ _ | ||_| ___|||_||__| ___||____|_|____|_||_ _ ||| _| ||_ _   __| |_| _ _|||_||_| |_|__|| ____  |___ |_|||||| _ | _||__|_| _|  _ |_  |||__|_____||| _|__|_ _|_|_||_ |_ ||||_|| _|||||___||_|_| ||||||||||||_ _||_||_ |__|_|_|||_||||_ __||| _  _|___||____ |_ __||_||||_| _|_|_|_ __  _|_|_| ||__||| _  ___|  ___ _|_|_ ||| _|__|__|____| _|_ _| __||__|||_ |_ || _|||_|  | | __ ||_|_| |||_ | |_|_   _|_|||__||| __    || |||_||  _||| |_||  |||| __  __ || _|_|_|__ |||  _|| |__|_|_____|_|| ___|__||_ |_ ||_ |||_||____  |  |||_ _|_|__ _|| _||||_ __  |___  _ |_   |____ || ___ ||_|_________| |_| ___ _|||_|||||_|_| _|_| _|_______ _  __ | _  _    |__ | _ ___| ____ __|| |_ _ _  _| _   _|_||||__ _ ____ _|_ _||_|____ |_|____||___|__|| ||_|_ _  |_|_|_  |_|_| |_ _ |_|_ ____| _||  |_ |_|_|  |||||_  _||__ _|| ___|__|__|_| __|_| |__||_  __|_|_ ___ ||||||__|_||| |||__|||_||| _||___|||| _||_|_| _|||_||_||__|_|_ |   ______| |_ |_ ___||_||_||||___|||_|||_| _ ___||  _|_|||| _|__ _||___| ___|||_|_ |___|___| _|_| _||__| | |_|__|||  __|| |_||__|||_    |___|||___||_ _ |___ _||__  |_||_ || ||__||__| | |   _|___ _| _||||__|_ __|__||_|||   |_|___||_|__| ___|  __||_|_|_ |_|______  |__|____ _|||| _| | ||_||   | |||  ||_|||_ ||_||| |___||_ |||__| ____|_| __ |_|  | __|__ _|_|__||  __|_|_|_|__| |___| __|___|__|_||  |  _|    |_||_ ___ ____||_ _|| | |_|| || _ _____|__ | _ |||_||||_||   |||__|||__ ||||__  || || |_  ___ |_|||_|| || |_|_||_ _  _|| |______||| |__ _ |___|  |||_ _|___||| _|_| |||||||__| ___  ||| |_| |    |__ | _ |_ __|_| ||_|  ||| |_ __  || |  _|||_______ |||_|  |||____ _|__ _  |||_ __||____||||||__|_ _|__  _|_| __ | |__| __|||| |_ __ |_|_||||_ _|_ _|  |_| _ _____| || _|_ _|||_|_ || ||  ___| | ||||||_ _|_|||_____|||_| |  |__|_|  __ ||__  ___|_ |_|_ _____ |_||| _| | ||__|__ |___|||||| _|     |_   |__|__||__ _||__ _ |||_| | ||_| |____| _|___|  |__ __|__ |||  _|__|  _ |_|  | |||||||_ __|_|_| __ ||| __| |_ || __|_||___|_ _ __|  _|_||||||||___||_|__ || |||___| ___ |||  |||_||_|___|_ _ |__  ||_|_ |__||_|||||||__  |_||  |__  |_ ___||||_  _| |_|||   |__ ___| _|_ ______| |_____|||_|_|_   _ ||  |____|_||_|  __ |_| |__ _|_ _ ||| ||| ||| _|_ ___|___|||_|_ _|| |__||___ |_|_||  |__|||_ | |||___|__ __|__ |_ |_|||_|_|||_  _|__ _| _____|||| |___  _|||||_   ||| |_||| __|_   |_|| ___|_ ___| |_||_|_|_____|__||_|||||___|_  |__|||_|_ |__|__|||__ _|__  __ _ ____ | _|__|_||_| |_||_||___|   ___|_ __ _|  _ | |_ ||_||_ |_|_|_ |_ ___ |_|_ _  || ___|_ __ _ |_|____||_|_ _| _| || ||_|__|_|||_ ||_|_|_|||_ ||_ |_|__||||||___ |___|_|__|__|||| |_||__|_|||||__|___ __ |_||___|||__||| |_|||||  _| __|_  _ _ |||  ||__ |__|_| |_ _|_  _  _||||||_||_ | __|  |_||__|__|||_|_||___|____||_ __|__| ||_| ||___  ||||___|_||||||___|_| ||_|__|__ |_|_|  | | |__ |__|||||| |||__||_ | ||__  |__ _|   ||||| _|| |||||| | ||_|_ ____ _||||_ _|_|| _|_|__| __|_|_|| ||_ _||_ |  __|||| _||__|| |_|| _|_|||_ |__|  |_ |  | _ _ _|| ||__ |___|||_ __ _ __|_ |||  __|||||_| _|__|__|_|_ |||||___ |||||_ __ _____  |_||_ |___ _|__ __ _|| ||||__||||___ || _||||_|___ _ | |_|||| ||_|_| _ |_  _|| _| _| |||__|___||||  ||   |__|_| |__  ||_  | |||_| _||___|_|__||_ ____|__ __||_  ___| || |_| __| __||  __ ____|| _|_  _  _|__|_| _| __| |___ _|_|| __| _|__ |__|_|| _||__|_| | _ __||_||| _ || |||_|  _| __  __|__|||_ || ___| ||_ _||___|_ | _|_|||__| |__ |___||_ __||__|___ | _ |||___||__| || |  ||||__| |_ _ ||_ || | |__|_||| |||| _|_|__   _|_|_____||_| |_  _ _|____|____ _ || | |_ ___||__|_||| _ |___ ||__|___|_|_| __  __  _| | ___ | |_|| |_ ____ _| __|__ || |__||_ |_|_ |_ _|_||__| __ | __| |_|_  _|__|| ||__ |__  |____| __ | ||||_ _|__ ||||_|__|__ ___  |||_ ||_|_|_  _| |_||_ _||__|||_|__|_|__ ||_| ||| |_ _|_ | _|_ __|  || _|||||_ |_|____|__| |  _  || || |_|_|||_|| _|||||___|  __|  | _|_| _|_| |||| ||| |  __|| |||_|_  ___ _|_||___|||__||__|  _ _ ||_|___| _||||||__|__|_|| ___| ___| |||___ ||_  |__ |_| __|__ |__||_|_  ||__||_ ___ | _|_ | _ |||___| |||||_|_ _||| ||_||__|____| ___ || ||| ||___|_|_||____   |  _|| || _|_||___  _||||| _| _|_|__| _ |__|_   |_||__|  _| _|__||_ |  _| _| |__ |_| ||||||   __|  __|_||| |||__|_| | _ |||__||___| _||___|_ ________| |_ |_|| ||___|||_ |_|__| ||__|   |_______|_||_ __ __   ||| ||_|_ _|   | ||||||  _|____|_   _ | ||___|___|_ |||_|||_|__  |_|||_|__ ___||_ ||||  ||_||   |_ |__|___||||_|__| |___| |   _|  _| _||||| _  __|__|_   |__ |||_||_||__||_  _ |__| | |||_|_|_||_ ___  ||| _| __| _ ||__ __| |_|||__|| _|_ _ _|__  | |_|___|_|_| |_  _||__ |__|___ _|_  |  _ _||||_  _||__|____||_ ||___|||__|||___  __|  _ __||_||_ |_||_ _ _ _ _ _|___ __ _|| _||_||_||_|__| |||_|______ ||||||__ |_||| ||_|___||_____||  _____||_|_ ||||||| ||  ____|_ _|| _||_|_ _| _ ___ ||  _|_ ||_|  |_| |_______| _|__||_ ||__|||_|_| | |_ || _||  || |__|_|_||_|__ __| __ |_||____|_|____||_    ||__ _| |__|_ ||__| __ __ _|_||||  _ |||__|| _|___|_|__|____|_|__| __ ||| ||||  |_| |___ _|||| ____ |||__|_|__|__||| __|_|||_ ||_____||__| |_ __| |_ _|_||||__ ___  || |_|_ __ _|_|__ _|_||_|| |__|___|_ ||___| _||_|  |_ | _  |  __|| _  _|_|||| ______ _||_||_|__ __|_|| | __|||  _||_|_| |__ | __|_| _  |||___| ___|   |__|| __  |_|  _| _|__  _| _|___ _||| |_ _ ||___||___|||___|_|_||___|||_||_|||_|| _ _ |_|  _|_ |_  _ __|____|_| _|| _|||||_|_ _|_|||||_|  _||  | ____ __  |__|||___||__| ||_|___| |_| _  ||__||| |__|||| _ _| _| _||__| |__ |||__||_|__||_  |_||_|_|_|__ |||_| ___|||_||__|____  |_| |__  ___ _||__|__|_  _||_|_ __||| _|||_|__|__|__|__| __|||_|_ _ ||||__ || _ | ||||_| ___|_|__||__ ___ _ |||__||_|  __|_||| _____| ||_|||___|_|| |_| _|||_|__|| | |  _|_|__|_ _ __  _|___|__||_ _ _ ||_ _ |||__|_|__|__||_|_ |_|  |_ _||_|| _ _ |_|_|_|||_|__|___|  __|___| ||_||___|__ ____  ||_| __ _ _  _ |_  |_|______||_|_|__|_||___|  _| ___   |_ _ ||  || ||_|_    |____  |_ |__|||||||||__|_|__|||__|_||_ ||_|___||__|_||____ _|__|||___|_ _|_|||_||||| _| ||| _| __ ||||| ||  | ____|  __|||____|_   _ |__|___||||_|_|_||_|_ _| _|_| |_||__|||_|| |_|||_ |||_||__| _ ||____|_|_|||____| |__|||||__|_   | |_|_|| |__| |||||||| | | _||_||_ ___|_ ||_||_||_|__  __ _  ___  |_|__ _ _| |__||  |_|_ |||||_______|_||||_||__|__ | ||_|_|_ _  ____| _|| _ |||_|_ ______||_|_|_ |_||__||| _ _|____   |_ |||| ||__ ||_|||_| __|_||____ ||_||_|_|  | ||__||||__||__|| _|____ ___|_ |||__|_||_|  __|__|_|__ | ||_____ _|_|___|||||||||__||_|||___|_||_____ |_|__||| |__||||_ ||||__| ___| ___|| |_|_ _| |_ _|_ ||_|||_||||_|___|_   |_____| |||_ _ |   ||_|__ ||  _|_  _____|||_ | ___|| |_|  ||||__|__|  ||||_||  __|__|_|___|_|||||||| _ ||___|_|_||_ _ _ _|_  _ ||_| |_ _| |__|_|||| _ _||||_|___ _| ||____|_  _|  ||_| | ||||_|_ | ||_|||_____  __| _ |_|__|_|__ |_|_|_|||||___|_|| _ __|___ _||_||_ __  |||| _|||||_|||| | _ || _||| _|__ |_||||| __||__    ___|_|||_||_  |_|| _ _|_ |||_  _||||| ||___| __|| _| _|__|____ ||_|||_|||_ _|| | ____ _||| _| |_ ||_ |||_|||_ |___|_|_  ||_|_||| ||__||_  ||__  |  |_||_ _||_|__ _||__ _||_|__||__  ||_|_||_||_|_|____||_______ _|||_|_| __ |_ ___ _ ||_|_|__| __ |__|__  __|_ __|| |_|_||  _||__|| _|_||_|_|||_|| |_| ||  |__ ||____ ||_ _|__||_||__ ____| __ |_ ||||_ |___|| |__ | _|_|  | ___ __|||_||_|| _|_|__ ||_  _ ___ | _||| _|||||_|__  _|_ __||___ |_||  _||_ | _|__||||_    | _|_| |_||___||__|| _||| __|__ |_| |  ||___|__  _ _|__|__||_|_ | |||_ _||  |_ _ _ _|| |__ |_ _||_ _ _ _||_|_|_||  __|  _|__ __|   ||_  _||__|  |||   |||| || _|_| __|_____||_||___||___|_||__|_| || |_ ||___ _||||_ _||__ _|||_ ||||___  _|_ |____ _|__|__| |__|_ ||___  _____||_|_|_   _||||| |__ _  _| |   ||||_ || _||_|___ _| ||_| __|| |_|| |||_  |_|||_| _| _||  ||_ ____|||||_|__ ||   |||__ _ |____|__ __  _   |||_ |___|_|_|_ __ _||| __|| |__| |___ ||_| |||_||||__|_ _||_|_|_|____||  _ || |||_| || |_||__ |   |  |__  |||_ |_ ||__||__|||_|||_ |_|| _|_|_|__ ||_ __||||||_ ||__|__||___||_|_|  | |__||| __||_|___| |||| ||||_ |_ _ | | ||||_| _ _|_ _|__|__||||| _|| _|_ | |_|_| |__||_|__|||____|_|__| ______||  |_ ___ | |||__|_ ___ |||___| |_|| |_||_|__|  _| |__|_| __|   __| _||   _ |||_|||_|_   __|| | |||_|_|_ __|_|_ __| ____|| __ _|| _|_|  ___|___| __ __   |_ |_||___ | |__|__ |_| |___ |___| ||||_ _|_______ | |___ _|__|_ ||_ _ ||_    _|| ||||_| |||_|  |_| ___||  __|||||_||__||_|| |_||__|_ _  _||_|___  |_||__ __| ____| _|___||_|  |||||| | | |||   | _||| __|_||__|_ _ _|| | |  _|__ ____||"
     ]
    },
    {
     "name": "stdout",
     "output_type": "stream",
     "text": [
      "__ _|_ __ __|_ _|  |_ __|| __  |__||_|_ |_|__|||  _|__|||| _|||_ _||    _ __|_|||_| |_||__ |||_ |____| | |_||___| _|| |_ __| _| || ___ _ | _|||_|||_ _ _|_|||_____||__ |_|___|| |__| |_|| | |_|_| ||  ___ _ _||_  _||___ | | |_|  __ | ||| |||_ _____________ _| ____   ||_ _|||_|_| ___| _|||_|__ | |__ ||_|||_ ||_||__|_|___|__ |__ __  ____ |||| | ||_  |||_|| |||____ |_|__ _ __|_ _| __ ||_  _|__|__||___|_||__|||_|||_|__| | _||_ _ _ __|__   ||||__|| | |_ |||    ||_  |_ _||| | ||||| | __|||_ |_|_ ||_|||_|_|_||_|_|||_||_||_|||_|| ||_| |||||  |__| |_|__ _ |__ ||||_|_|_ ____ |_|__| | _ |_ ___| ____|||| __| |  __|||_ |  _||____ ||_ |__  _|_ |_|  ___ __|||| |  ||||__||___|__ |___ | _|_||__|||_ ___||  |_|||_|  __|__|_ _ __ |_|||__||  _|_ __|_| _|__ ||___ ||__||___|__|| _ _ _ _|_| _ | | ||_|__|____| |_ _||||  _||__|_||  || |_|_ ||_|| | _| |  |_|  |_||_   _||||||||_ _  ||__ |||_||_||| |__|__|__| _  |_______| |_| __|_||__| | | _|____|_|||||  ||_|_ _ _____|___||__| | ||||_ ___ | _ ___| _|||_|||_|_|_|||__|||_ | ||_| ||_   |  ____|__|_| |_ |  ___ | |_|__ |||_|_|||___|__ ||||_ |    _|_|_ _ |_    |||_|| _|_ |__|||_||| | |__ | |  __ ||__|| __ ||_| ||| _|_|_| _|| |__||_|_ ____|| ___|__||__|||___ | ||___|____||||_____|  |__|__|_| ||___ ___  _||| | ||_ __|______  |_ _|____  | _||__|__  |_|__|||_|  _|__ __|__ |  |_ ___|_|| |_ |_ |_ __||   __||||__ _||_ ||  _ _ _____ _ | || ||  _|_| ||||__|__|||___|  |  ____|___|__|||_||__|||__|| ||___ |___||_|  | |  ___|_  || _|||__| |_|  |__ |__ _|_ _ __|___ __  |||| ||__|__|||_||________||||_|| || _ _| |_|_ _ _|_  |____ _|__ _|__||__| |_| |___| |__ | _ _||||_|_  ||__|  |__|||__ |__| |__|_||| |     |___ |___ ___||__|| |_|| ||__|||_ |_||  __||| ||  |||_| _|_||__||| |_||   _|_||| ___ |_|||_ | ___ ___|| ____|____ _|___ __   | _|_ | |_| |__||_|____|_ | ___|_ __|||_||______|| ||___||__| |||____||__  _____||| | | __|_|_|||||| |__|| ___ |_ __ |_| |_ _ |_ __ _ _ |__| _|__||||||_  |_|_|  __|_|_____|  || ___|| |_______ _ __ _ _ _ __| |_ ||_ ||||___|__|| __ ||_|||||_ |____  ___  |||_ |__||_|_| __||  _|||___  ||| |__|_ _|||  |__||_||__|__||__ | _|||_|||| |__| __|  ||_ _    ||| _|| _ |___ |_ |_|__ |_||___ ||_||_ | |||_ || |_|____| |_ _ _||| _ _|||_||_  _| __|__|_|_____|  __||____|__|_|| |__ _||||_  _|_|__|  | ___ | ||||||_ ____|__||__|_| ||___| |_|_||_|| ||____ |_|||_|| |_ |_____||_ __ |_|_| |_ ___ __ |_||||_ |||||_|||_|_ |__ __||_ |||____ __|_ ||__  _ _____||_ ____| ||__ ______||__ _|__|__   __ _|_|___|_ | ||___ |___  | |_ |__ |_||_  ||_ ______|||_ _|____|  |||__|_|  ____ |___|_||||  _ __||_||_|_||||_|_  _|||| _| |||| _ __ _||_|___|_|||_ _|||_|____ |||| | ||__  | _  |__ ____||_| __| | ||__  ||____  | _ _ || ||_   |_ __   _|   ___|__||_||__|_ |__| ||__ || _||_|___  ____ _|_|_ ||___|||__||||_| ___|_|_| |  |__|__ | _|_||_| | _|_   _| |  |_  |_|__ |_| _|||||_ || _ _ || _ |_ | | || ||_ ||__| _| _|  || _||_||_|||__|_ |___| _||_   _||_|_ |||||___||___ _ ___ |||____||_||__|__  ||__|||__ |||__ __ |____  _|||_||| ____|__|_|_|  _ _ _|_||__ | _|_ __||__  |||||____|__ ||_||_ __||||_||_|_  |_|__||__ _ | |__||_|||_ || _||___||_____  |__|  _|__|_|__ _ |_|| _   __| ||_|__|__| |__||_| |||_ _||__ _ | ____||||| |_||_|||||_||_ _||___|||_ _|_ |||___ |||_||_ |_||__||| |___ _|_|||_| _  __|_ _|_|  |___|||__|__|__ |||___|| |__|||||_||__||  ||___|_ __ __| ||||___|_| |__|||_| _   ||  _|| ||_|| |___|_ |_ _| _|| _||_ _  __||_ || __|_||_||_|  ||||__|_ __   ||||__ __||_ _  _|_|||| _ ||| | |_  |_|||||_|| |_||  _|_|_||_|_||__|||_ _|__|_ _ _|_|||_| ||__|_|___ __||__ |_|___| _____ || ||_|_||_ |_|____ |  _ ||_||_|__||  | | |_ |||_|_ ||||_|  | ||_ ___|||  __|__|___|||| |  _ |__|_|__||||__||||_ |||||_  | | __||_||___|_|  __| ||_|||| |_||||||_||_|_| _|_||___ | ||| |||||||______|| ||_|     __ __| |__|_|||___||_||| ____||______ __|_| __ ___| _|||  |_|_|_ |___|_||||_ |_|||_||___  |_|||_|||| __|||| _||__ |__|| ___|_|_| |__|_||_||__|_||||_|___ |  __|_ _  ||_ || |_|__|_|_  ||_|_  ___||__|||| |_||__ |||_|||||_  _____  |__| ___ |_||_||_||_|_| |__|| ||_||||____|_ _||||||||   | _|||__||_|_|_|_ __|__||__|_|_|||_|_____|_| ||  ||_|| |__|_|___|_  _|_|_|||| || |_  ||__|____ |||_|  |_|_||__|_ |_|||_|_|__ ||_ |__|__  _| | |_|_||  _ || ||__|| | |__|||_||__| |_|_|___| |__| __|||||||_|_|__|___|| __||__||_|__| _||||  ___|_  ||||  _||_|||||_ _| __ _ __|__| _|||_|__ | |_|__||_||_|_||||_|_|__ ||__  __|_ |_|_||||__|||||____| _ _| ___  ||||  __|_ _|||___|||__ |   ___|_|_ __|| |___ |_| ||__ ||_  | _ ||_|_ _|||_||_||_|_|||||___|||__|| ____   __ |_ __|_||_|_|_|||_|______| |__ ||  ||_|||_ _ |||__||__ |||_||_|__| __ _|||_|   || _ ||_ _____   |_| || |__ __||__ _||__ __||_| _|_| ___|_ __|_ |||_ __||||  ||| | _|____|_|_____||__  ____ |_ |___||  |___||_|_|_|||||___|___||__|_|_  | | __|_|| ||___  | __|_|_ _ ||_ _|_ __|_|_ ___ | | |_ |   ___||| __  | ||__||_|||_||___|_|||||_ ||_ |___|_||||__ __ _ _|_| _ __|_ _||__ | |  _||| | __  ||__| |_  _|||___   | _|  |_  |__ _ || _|_ |_ | _||___|_ _|_|__ |||_||_|||| ____ __|_ __||_|_|_| _| __|___|__ || |__ |_|_|| _|_|||||||| _||_ ||___  | |_   _||||_  || | _ ____||_|| |_| ___________  ||||__ _|_|  _|_ |_|||_||__ |||____|__|||_ _|_  __| | __| |||___| ||_|  _|_|||| |_|_|_|_|____| ____ ||_|_ ||  | |_|_ _ || _ |_ |_  |_ _| _ _   _ _|||  ___|_|_ _||__|____|_ |_  |||___|||__||__|_||_||||||__|__|_|__|__|___ |__|__|_|| |_|| _|| ||__||_||___|||_ |_ __ ___ ||_||||_____| _   _| _ |__||| _|_|_||| _|___||| ____|__|  _|__    __||||__ |_ ||||_|__ |_|||||__ |||_ | _|||||_  _|||_||| _ __|_|__|||___| ||______ |_| __ |_ ||_ || _|_|___|_ |__|||_|____| _||||||||__|  |_|_| _|__|| _||| |  ||_||_||||_ ||__| | |_| _|| |_|_|__||| ___|__| ||__|_ | ||__|__|_| || _   ____  |_ ||_ _|||| _||| _ |____||_|__|| ___ |_____ | |___ |||_|| _|| __|   |  ____|____|| |||||__||__| | _|| _|_|____ | |___|||_ ||_ ||| |_ _|___|||||_ |_ |_|______|______ || _||_ ||||__  _ || __ |___|_|_ |___ |__ _ |__ _|| __ _ _ __|_____ | __   |__|||    ||_|_ ___|__  __|||| |||| |  _ _ ||  |_|__|||__||| ___||_| |_ _  |__|_||_ |_|___||_|_ | |_   |_ | | ||_ |_|||_||___| | | ||_||__ ||_|__||_|_ ||_ | ||  _ __ ______  |_|||_ |__|  |___ __|_____||__||||_|_||_| __|__ ||__ |__ ____|   | _ |_|__||||| _|||| __ _||| ||_  ||  _ ______   |_   | |_  __|||___ | __|_ __||_ ||_| ||__|___|   |____||__ | ||___||_|__|||___   __ __|_  ||||||_||_||__||| |_ _| _ _|__|| ||____|_|_|_____||||| _|___|_|   |_|__|_ __ __|   _|_||||||_   _||_ ||_| _|___| __ __||_ |_  _ _| |_  _| |__  __|__|_ _||_|__  |__||__ ||__|||   |_|_| |||__  ___|| ||_ |____|||  ||_|__ _|_|_|__|||||_ _|_|___ | |_ |_||_|_||_||__|__|__|_|_| __|_|__|______|||  ___|_|_||_| || |||||| __ __|||_  |__ __ |_ __|_|_____||_ |_||||| ||__||___ ||_| ||||    | _ _|_ ||||||_|_| _|||_|__|_| ||_|| _||  |_ |____ ||__||_||_|| ||_ ||_|||_| |_ ___ __ __|__|_||__ |_|_ | _||___ _ |_|___ ___|___||___ || __|_ _|_ ___ |  ||  |  ___| __ _|__| __|__||___|_ _ ___  _|_ | ||___ _|____|__|___  |  __|  __ | | |||_|_|_|||_   ||_|_| _ |__| |_ __||||_| || _| __ || ||___ |_|___|||| __   |__| _ _| || _ _|_ || |_||||| _ ||_____|_||_ _ |||| _|||_|__|_|_ |_ ___|  _ _ |__ _|| |_||_|_| ||__ _||_|  ||_| ||||| | |__ _|__||   ___ |  _____   _| _ _  ___| __|___|_ |__|   ____|_____|||_|_|_| |  | ||__ _ |_ _||| _ _|_|||    |_|  _ _ __ | _|_ _|| |_|   __ __|| _||_ _|__|_|_ |_____| | | |___|_|___| __  |___|_|_|  |||_|_|_|_|_|_||___ _|_|||___ ___|_|__ _ __ _|_|| ||___|_|_|_||| | ||______|____|__|| __|||__| _| _ __|  |  |_|_ | _| ___ __ ||| |__| || _|_ ||__||||__||___|_|||_||| _|_ __||_|_||||||_|||||____||_|||__||__|| __ _ ||| | __  __ ||_||||__|_ __|_| _|_ _|__ ||_ _|_||_ || _    |_||| ||||_ |__ __ ||_||__|_|_|| || |___  | __||__ __|__| ___|||_ || ||||___|___   |||___ __|  | |____|||__| ||__|_|__   |__ |_|_ ______ _____ _||___ _||_ ___||_||   __||_|____ _|||_| |_|||___ _ ___ _||  _||_____||||_|||____|||||_|__| __|_______ |__ __|   ____ |||_|_|_|____|    ||| _| _ |  | __|| _||_|||_|||||||_|__|_ _|_|___   _ __  _|_| |_||__||__||_ ||_ |_|  || |___|__|| | |  | |_|_|| _| | _||_||||||_||_|_|_|_ ___||||___||_||________ |_| _ |_||___  |_ |_|_|||  _|_|  _|||_|__||| _|_|_ ||__|_   |_ _ _|||| _|__|_______|_ _  ||____|   _|_|__||_|_|_|__|__|||| _|||_____ || |_ __||| || _||_|_ ____|___|_| _||||_ |_|| |_|__|_  |_||_ _|| || ||| _|||_|___|||_|_| |||_ __|______ _ |_ _ || ___ ___| ___ _| | |_ ____|__|_| | _|||_||_|_|||____| _ |||||____ __|_|_|_ |_| ||||__| _ |_|_ __|_ _|_|___|_ | _||____|||| |_|__|| |_ |__|__|_||| __  |_|_|__|||||| | _|| ||_|_|____ _|__ | _|||_ | ||_  ||| _|___||__||_ |_ ||___|__ ||______ |_||_|_ _||_||_| ____| ____|_| __ |__|_||||_|||_   |||_ | |_ |_| _| __| _||_||||||  ___|||_ |__ _|  _ _ __ |_ _||_||_|_||__|__|___ _ _|_|_||__ ||____|____ ___ |||| |_ |||_|| |_|__||_ ||||_|___ _|___||___|_|___|__|_  ||||___| |||_ |_ | |||____  ||___| _||| |  |  ||||||| |  _  |_ _||  |__ __ ||_|_ |___| __|_ | __ ___| __ _|| |__||_|| _ ___|______||_||||_ ||_ _ _||_|    __| _|__|_|_ ___| __| __||  _|_  |______  |_ | _||_   |||__  |_||||    |||_|_||___|_ |___|   _|   _ __ _ ____ | |_|_|||_|__|||_ |____|__|||____ _ __ _|__||  ||_|__|||  ||| _|___|_|_|___ _|_____| |||_|||_|_||_||| |__ _|__||__  |_|  __|___  _ |||_  |||||__|_ _||_ ||_|||__||||______|_||_| |___|_||||_| _||| ||__|_|_ __|_||_|__| _| _|_ _ _  ||_____ _ _  ____|_ |_||| __|_||_|__|_| ||_| || __||____|| _"
     ]
    },
    {
     "name": "stdout",
     "output_type": "stream",
     "text": [
      "|| |_|_|__  |  |_ ___||____| | ___|_||  | ||| _|||  _||_|_ |||___| |||||_  ||_|_||_||_|_||__|||||| || _| | |_ _    |||_ _ |||_|||_| __ _|_||__ | | _||||||||___|| |||_||___||  ___| |||___||_|    _| | |__| _ __|_| ___ __|_|__|__|__|||_||||_|| __|___ |||__ _  __   ||_|||_|||_|| __|||_____||||_| _||_|____| |_||_|| |_ __    |___|_|||_ __||_|__|| _|_    |||_ ||| ||_ |_____| | ____||__|___| |_|_|||||__ |_ _|__|_ |_| |___ |__| __|  ||_ |____ |__| ||__| |_   ||_|_| |_||_||__|||_ |_|  |__ | |_ |__|_||_|_|_ | ___ |||_ |_| __|| __ |__|_||_||| |_|_|__ __|_||| | _||_|_|_||   _ |||_ _| ||_ |||_|_|_|||_ _|| _|_||_|| _|__|___| _||_|| __|__|| _||_|||_|_| __|| _|||_|_|_|| |__||_|__ | |_|||__|| |__|| _|_||__     ||| |__||_ |||_ | |||_ ||_||_ _|_|   |_ || | _|| _| | _ |  ___||_||_|  _||_ |||_   ||| _|||  _|__ __||_ _|||_ __ _| _|_| _|___| |  ___ ___|_||_ _| |||__ _| | |||_ _|___ |__|_|__|_| ____  |_|_ | _|_ | _|____ ||| |_ ||_| _|||_ __|_  _ _ || | _|_| |_| |_|||_ |___|| |_|| ____| __||__||__|__|_ _|_  | |_____|_|_||___|_ ||| _  |||||___|_ |_ ||_ _ ||||| _ ___ |_|_||| | |||___||_||_ _|__||||_||  |_||_|  ||__||_||||_  ||__||_|_|__|__|__|_ __  || _|__|| _ ||||  |_ |_||_ __  __|___|_| | ______   _|___|| | _||_|_|_|______|   __  |__|____|_||__|_|_| _ |__|__ ______ ||_|||||__|_| |_ |||_| _|_||__||| __||___ _|__  __|||_|  |||_|_____ ||_____|_ ||_| __ ||_|||__ ||_  ||__||__ | _ | |__|| __|__ |_|_ | | _|_||_| | _ ____|||_||| ___ _ ||_|__|___ __ __| _||_|_  _____ __ || || ||||  _|__|____| __|||__|___| |||_ | |__ |||  |__|||| |  __  _| _ ||_ __|_||___||__|_|_|__ |__ ____|||_||___||__ || | _|_|| |_ _|___|_|||_ _ _|_ _|__||___|___|_||_  || __|_ __|_||| | _  _|_|_|_||___|||| || |___|__|_____ ||| || ||_|||_ |  |__|||||____| |__|______ |_ __| _|_|| _|_ _|  || ||__|__ _|__ ||___||_|_||_ _ || ||  __|_||___|___| _||| _||___||__ |_||_ |||||_|___ _ _||_|___ _|| |||_||| ||_ _|_ | ||_ |_| _ |||_|_|||| _|_|||____| _|_|_|_|__||||||  |_ |||  ___|__ | __ _ |__||||_|_ ||_ ||||_|  __||_|| _   |__|__||_ _ _|_|_ _|_| _ __  _|_ _| |_____| ___|_| _|  _||_| |||| ___ |_|||  | _|  | |_|___ || _|_|_ | __  ||_|||__|  |_| ||_ ||_| __||_ _|__|||_______|||| _|_ ___||| |||____ ||_  __| | | __    _||| |_ _  ||_ | ___ | _ _|_  | _|_ _||__ __|  _ _|_____| _||__||_|___ _|_|_|__| ____ _||_| ||| _||_| ||  _ _|_|_||||_||_|| |_|_|||_| _| __ |||  |__  |__|_|___| || |_||______|__ | | ___| _ _|| __ ||||| |_||_  | | _ ||_|__|__|_|_ | ||_|_|  ||||_|__| ___||_ ____ _ |_______|| | __ |_|__|||||  _ |_|_|__||_ ||_||_|||_|||___||_||| _||___|___  |_|||||| |||__|_ _ |_||_ __| _|___| _____|_|___  |_ _ _ |__||||_|_||_|___||_| _|_ | |_ _||_| _ _ ||||  _|||___|__| |||__| ||  |_||__   _ _ | _|||_ ||_ | | _____| |__||_|_  | |_    | _ ||| _| _|__ _ __ | ||||||||_ _||_||||_ ___|_| |||___| || ||| _|||____|__  _||_|_ _|_____ _||__ |_||__|| |||| |__|||__|_||| ||__ |  ___ |_ _|_|||||___| ||||_|_||||__| _ ____| | _ _ _||_ |__| ____|||||   ___||__||__ | |||__|_|___|_|_|_ _|||____|_ _ _|  __|||__|____ | __|||_||__  _||_|_ | ||_|||__|_||| | _|||___ ||   _|____ __ _ |  _||__||_||_ __||_|____| _| || | __|_||__||||| |  __||_| _ |__|||||__||___|_|__| _   | |____ ||_||_|_ |||__|_||_|_ _||||____||__ ____ ___|__||__||___ _| ___ _ _ ___||||||___|_|_||| _ __||_|||||_    __|_||__|____ |__|_||__||||||_|__| _|_ |__|||_||| |||_|_ |_ ___|_|__||_ |__|___|||__|_|_| |_|||_|  _|| _||||___| __|____|___ || ___ _| __ |||_| _|_|||_|||_ |||_|||_|_| | _| | __ _ __|__ || |_| ||||   ||||__ | _||___|_| || _|__||______|| _| _||_|||  _|____|  _ |__ __|_|__||__||  ___|_||_||_ __|_||_| ___||____|_ _|||_||_  |_|__ __| ||_|_||___|____||   __   |_|_|_|____| ||||||_||||__| __|__|| |__|__||_ __ _|__ | _||| ___||__ ||  |___||||__   ||_____|||| ___| _|___  | || ||__|_ __|||_| __| | __|||_ _____ _|_|||   | __|_||_| ||___||_| __ ____||| _|||  ___|  _ | ||_|__| _|_||_ _ ____ __|  _||_|||__ ||_|_ ___|||_ _| __ _|_ |_|||||___ |||__|_|_|_||___ __| |_____|| |||_| _ |_ _|| |__ _ _|_ _||||_||_|_|_| ___| | _ ||__|| | _|_  |  |_| |_ |_|_|__ | ||_| | |_|_ |_|||_|_||   ||__|_|_ _ __|||| _|___|___ | __ _| | || |_||||__|_| ||_|||  _ __|__| || |  |__|  |   ||_ _|__ _|_|| __|_ _||||_  | _ _|_ __||_||__| _|_| _|__|||_| |__ || _ |_ |_|||_||  |__|||| __|| |__| __ |   __ __||| |||_ | _| ||||_||| _ _ | _| ||||__||| _ |_||_|_|||||||__|__|_ |_ _  || __||___| |_|_||__ _  |  |_ ____|_|||___ ||_|| ||___ _| _| _||_||||__ _|_||| | | __||_|||||__ |__  __| |_ ||_|_ ___|||____|  |||__||||_|_|| _||__|___|_  |_|______|_|__|||_|_|__||_||__| _  |||||| __||_ ______ || |__ _ _ _|_|_|_|||||_|__|  |_|_|| __|___ ||__| | |__|__||_|___ ||__||||__| |_ _||||_ |_|__|| _|___| _|___ _|||__|_||__ __|_|  ___ || |  |_ _||  |_  |||_  | |_||__|_|_|||_||__ |_|_ ___| ||_|_|| _|||________||_ | _  _  |||_ |||__|_  || |_||||_|__|_____|  ||__|_  ||||| _|||||_| |_ |_||||______| _||_|||| _||__ || __|| || |_|_|__ |_|____||||   __| _|| |____|_| ___ |_||_|____||_ _|__|| __ ||||_||_||___||__| ___|___ _||| _____|_| | ||_ ||__|___||||| _|_ ||||_ _ || __|| |||___|__|__|_|_|_  __ |_|_ | _ ____ |||  __|__||| || __|_|_|_ _| ____|_|||__||_ ||__|_ |  _| _|||_____  __ |___|__ | | |_| _ ||_| |_||_  __||__|_ |___||_||||_ |__|_ | _|_||_ _|_____ ___| _| |___ _|_  __ __|||__ _|_||__|_ |__|||_|____|||_|_||__| ||||||_ |__|||||_| __ | ___||||__||__| _|_| ||||_ ||__  _ | _||_|__ __||||_|__||_ | |  |_|  |_||__|||_ _|   | _ |_ _____ || |_ _|_ |_  ____|  |_ _|_||___ _ ___|___|  |_|__|||_| |_| _|||| ||||_||__|||| _|_||__|| ||_|___||___|__| _ |_|__|||_|| _||__|_ _||_|_|_   _|___|___ |||||_||_ _|__|_|||___ ||_  __   ___ |||_ |_|  _||__ __||_|||___ |__|_|| _ |____|||_|_ | ||| _|__|  ___|__|||_| |_|  |_ |__ __| ___ |_ __ ||||_||||||||_  __ |_|__|___|||_|_  |___|_ |_ __| |_| __|_  || |||||_ _| __|| _| _||_|_|__ |__|_ | ||||| __||__|_|_|_||_ |_|_||__ _ __ |_ |||_| ||_ |||_| _|| |_ __|_|_|||| _|___|____| |  |||| ||||_|__|  _ ||__|| __|_|_||__|| _  _|_||__ __|_||_|| ||_ _|||___|____|_ _|| _||_ |_| | _|__ __ ||_ _|   |___|||  | _|_ __ |_ ___|  ||_|||__|___|_ ||____ ___ _|| ______| _||_|| ||_ _|__ || ||| |_ ||| | _  ||||_____|_|||_|   |_||| |||||||||_| _ _|__|_| |  _ |||_| |_||_ _| |_ _ __ __|||| |___| ||___|| _ ||| __|_|_| _ |_|||_|  |_|___|___|__| ||___||||||_| || | _ |__|_ |||| |||_  _  __ _|__|_||||_| |_|| _| || ___  || _ _ __ _|_ | _||___|_ |_||___|||_  |_|__ | ||__ |___|||| ||||||_ || | ___||_| _|____|_|__ _|___ _|| |_| | | __|||_ |__|____| __|_ |_ ____|__ |   _ |__ |___|||||_|__| || |__  ___| __| _|_ __||___| _||| ____|_|||| _ __| |_ __| ___|  | ____||__| _||____ || | _|__|_|_____|_|_ _|_||_||__||_ | |  ||_|||___|____|__||||___||__||_ ||_|||__ _ | |_____|_|_  _||_ _ |_|_ _||| ||_|_ _|_  __|||_| _|_ _|_|_|_||__|_|_|__ | __ _  ||_|_|___|  _|| ||_ |  | |_|__| __ |_ _|_ |_| _| |_ |_ |_|_ ||||_ _|_|||__ _  ||__||__|_ |_|| _ _ |___ ||_ __  _|__|_ __ _ |_|||| _|__|_ __ | |_ |___|||_||||||||| ||___||||| |_||_ __|  |_ |__|_ ||_ |__|||| ||| ___|_|||| ||__||__ _ _||_|_|||_ |||__| ||| __||_|_|_| | __ ||__ ||__|_|| __|__|||| | |||| _|_ _|| |||| || ||_|__|___||__|   _|_ |_||_|_ _||__||____ ___|_ _|__  || ||  |_||__|_|__|_|_||_|__||| ___ ___|_||| _|_  | |||  _|___   _ _|_|||_|_|| | |___  ____|__||_||| _|_|__ _| _____ _  | |_| ||__   | ||| _||_|_|  __|||_ __|||__ __ ___ ____|| _|  |_ || _| |_|_| |||__ |_| |||||_|||__|_| __|_|||||__ _  |||_|_ _|_| _ |___ __   __|| _ |_ |||_||______ |_ |_ ||| |_ |___|__ |_|||_|_|_||||||   ||  | |_|___|||||__|_______|__||| || | |_|_||_| __||_ _||_|_ _|__|||| |  ____  __|| |__|||   ||_ |_|__|  ||__ ||__ ||_|_||_    || |||||| ||___| ____| |||__|_ | |_| ||_ _  ||_|_| |_ _|_______| |||| | _  | |||_ ||||| ||_||||  _  |__|____|| |__| ____ ||| ____||   |||____|||||||_|| ||___  ||___| || ___ _|_||||||||_  |____||  |_ ||||_________|__| | |_|_ |___|______ ||_  |  |__|||_|||  __||_||__| || || _____  _ ||___|  _ ||_||||_|_|||_ |__ ||_|||___|__ __|____||_|_ |__|_ __|  _||||||| ||___   __|||_|_ _| __| |_ _ |__| _ |___|____|||__|_|| _| || _ |_||||___|___ |||_ _||_|__|||| | ||  ______ || | ||_||||_ __ _| |||_|_ ___  __||_  |_|_ | ___  | __ |_|_|_||_||||  || |  ||_|_ ||_|  | | __||_|_|_|| ||_ | ||__|__||__||| _ _ _ |||_|_|||____| ___ ||  | __ _||||___|___ ||| ____ ||_|____| _|| |__    __ ____| ||_| |__| | _ ___||______||_||_ __||_|_ _| _| |||||___ _||_||__ _|_ |_|| _ | |||_|||_  _| _ ||___|__ __ |__|__ ||_|   |_  |||| __|_|| ___ |_|____| _| |__ _|_|  | |_|__|_|__|| __|__ _| __||_|| _|__|| _|||| __ ||_ __ | __ ___|____ _||_|______ _|_____||| ||||__| _ ||__||||  _|||_|| _ || _  _||   |__|_||| |||_||_|_|||||||  _||__|___||__ |_|||__ |||_||||| __|__||||_ _|||___||_||__||_|_| _|__|_|_ _____|_|___ |_| _|_| _||_|  |_ _|_ |__|_|||_| ____||| ||__|_||__|__|_ |__| || _|_|||_| | ||_|__|| __| _ |||_ ||_|| ||| ___|_|_ ||  _||___ __|_ _||__ __||||_|_|_ ||___ _ _||__|||_ |___ ||__|_|||_|||_||_|_ ___|||| _|||  | __||_||_|| |||_ __|| ____|_____|_|  |_|_|__|_| | |||_ |___|__||||_|  _ _| ||__|_ __|_|||_ _|  | ||||||_ _|__ | | __|_|_|_|_|__|_| |_|__ |__ _ |_ _| ||__  |___||||_|||_||_ __ __ | ||||_|___ ||_ |____ _|_|| ||_|_| ||  || __|_ |_|_ |__||  _|__ _||||_| _ |___| "
     ]
    },
    {
     "name": "stdout",
     "output_type": "stream",
     "text": [
      "_||     ||||_||_| ||__|____||||||__ _||  _  _| ||| __ __|_||||| _|||___| ||| |_| | _|__ | _____ _ _ ___||_||__ _ _ ___ __ _|_|||||||_ __ ||_||| | __|__ |_   |_ _|_|| __  |___  ____|_  | ||_ _||___ _  _|_|| _| _|_ ___   _ |____|__ |_ |_|_ |__| |__|||_| _|_ _  ||  _|| _|_  _||_||_|_| |||||_| |  ||||__|_|||__||   _|__||  ||||__ |__|||_|_||| |___ ||||__ |  || _| _ __ |_||_ _| |_ _||||| |__|___| |__| ____| |_||||||||_||__|  __| | |___| _|_ | | __||||_| _||___ _||   |__ __ |_|_|||  | | |_|||||____ ||  _||__|_||||_  _ __ ||_ |||_||_|||__||_ | ____ ||__ |_ __|__| _____|||_ _|_|_|||_ ___|||||__ __||__ |_|||_||______|__| | |||_ ||_|||_|______ | __||||| _|__|||__ _|_|_  __ __||____||_| __ _| |____||_||_   __|_| |___|__|||__||__|| _| __ _|_|| || |   |_| || _ ||__||_|||   |_ _ ||_|_| | __|__|_|__|||_|| __||___  _ _ _|_|__|______|__|__  _|___ _|||___ _|| _|||||_|  _| |_||| |_|__   || |_  _ |_ __|_||| |_|_ _| __|_||_ __| |___|| |____|___ ||||||__||_||_||__ | ___|_||  |_|_ ___|_____ __|__||__ |||___|_|  |_|__| _| ||| __| _|||||_|_| ||__|__ ___|___||_ _|||___||_||____ |___|| | |||_ | ||| _|_||_|| _|_|__ _|_____|_ ____||_| |___|___ |  _ _ ___ |||__|||_| __ |_ _|  _||  |_ _| ___||__ |_ ||||__|| __| |_| | ||____|_|_ __||___|_||__||||  |___|| | __||||_||||_ |_ |  _  ||||_|__||__ __||| ___||_ |____|__  |||   _|| |||___   ||_ _|____ ||_|_|||__|_||_ ___ _ |_|_|__|||__|_  |_| _|__||_| ____|_|_|| | _______ ____||_ |||___ |||___|_||_|___ |_|_|_|_|___   ____ |   |__|||||___||||____ ___| _||_|| _| _|_|||__ _||_|__|_||____  _ _||||  _ |_ |_ |||||_ _ _ _||__|| | |__ |_  | _|_ _|_|| ||_ ||_||_||_|||||||_ |_||_  || |___ |_||_______||_|__ |__||__|_|___  | ||| |_|   |_|||_| ___| _ _|| _|_ ||__|||||||||||___|__|__| __||_||_ _|____| || |_| _|| | _|||  _|_||_|___| _| | | ___|___|||||||||__ _| ||| |_ _|||_|_|____|__| _|_____|_____|  _||||||_|_|| _| |_||__ || _ __| |||_ || || _ | _||_|_______  |_|__ _ _  || ||___ |_ |_| |_ |_|___| |_|_|_|__|||_|_||_||_||_|__ _| _|_||| ||  |||||_| |__|| |___|_|_| _ |_ |__| ___ _____|_|_||_|__|_ |_ | __ | _ __|||_ ||_| |__| |_ _|  ||_|_ |||_||||| _|_|||_ _|||_|_ |||_||| ___|_ |_|||___ _| ||_||||| __  ||||  _|| _| ____|_| _|  ____ | ||_|| |_ _ | _|__ |_|_||_ _  | __|_|_| _|_|_|__   |_| __|_|| | |_|_|_|__||_ _||| __|__|| |    || __|_ |||_ _| _|||_ ___   |||||_ _|__ _ _||_  _| |__ | |_|_|_ _||_ |_  ||_||_ _| _|_ ||__| |_||_|__ _ ___||||_|||||||_|___ __  _|___|| __ |____  ___  _ |  _|____ _|| | | |  _|_|__|||_|  |_ ||__ ||_||  |  | __|_  __|||||____|_|___|__ _|__  __||_|||__|_| ||_||__| __|||_ | _  _|_ |___||||_||___|| __| __|_||||_ _  _ ||_  __|___|_ |_| |||| _||__|_|_||||_||_|| ||||_|_|__ _ |__| _|___||| _| _ _| _| |  | _|__|_  ___|| __|__ |__|__|| |__ _||__ || | |||_|_| |_|___ _ |__||_ __ _||___| _|_| _| |_____| |__ _|_ __|   _ |  _ __ _|_||__||||__   _|_ ||__||_|___|_|||||||_|____  _____ | _ __|__|  _|_| _| |_ _|__|____ _|__|_|__  || _||_|_ |_|||||_||____| ___ ___|||||_ __||__|_|__|_|_||||__ _________|||||_|||____|_ _ _ || | _|___|||_||_  __|__||___|||__ _|_  |||____||_|_ ||___ _ ||_|_|___|||   ___||||__| |_||__||| ___  _____||_ _      |_ |_|__|_ _  |||__ | ||  _|___||_ | ___|_|  |||   ____|||_ |||__|__||_|_ |||_ __   _|___ ___|_____ _|___ | |_|_ | |_|_|||_|| |||| |  _ ___|||_ |_||||___ |||| _|__  _|_____  _ ||  _  __|||||__|_ |||_  ____||| _|_ |  |||||_|_|||  _|_| __|_| |__   |__||_|| __  ||_|_||_|   __||_ |_____|_| |_ ||_ |||||||_||__||| _|__| _|__|| | __  __| |_|_ ||__|   |___|  |_ ___||_| |____||  |__|||__||_|____|__ |_||| |_| _|  _| _|__|_|_ |__|_|  _|_||  _ |_|_ |  _|___||| |   _|___ |_ _|___|||____||_|||_____  _ |___| _|| |  |__ _||| __||__|__|_  |_|_ _ | | |_ |||||_|||||___ ||____| ___ _|______________|||  || |_ ___ ||||   _  _|_|_ |||_ | |__| _||| _ __|||||_||___| _||__| __ _|_| _|||  __|||_||| | _||_||| |___|_|| _|||_ __||___|||_|___||| _____  __||||_||  __|__|___| ||  ___|_ || __ | | ||| _| |  _||_|__| _||__| ||_|__| || __  ____ ||___ |_ _|_  _|  |||_ | ||_|_|__|__ |_| |_ |_| ||_||___  _| |____|   _||___  ___||__||___|| __  ___  __|||||_  __||||_|||_||_|||||_ |__ _|____||_ _ |_|__|||__|| |||||||||__ ___|__|__|| __ |_|| | ||___ __|   __| _ |||||__||_|_|  __|| |||__ | ___|_|____|_||||_|____ _|||_ ||| | _ _| _ ||_| ||_ ||__|__ | __|__||||||___ _||| ______|_ | ||_||___|_||_|__|_| | _ |_ |  ||__|_| __||__|___|__ | ||_| | _|||__|__|_   _|| _ || ___|___|  |_|_ ||||  |_| _  |_|_|| |||  |_||  |___ | |||__||||__||______| |||||_|_||     __ |||||_ __||||__|    | ||_||||_| _ _ | __|__||_|| ||||_|_ ||_|_||_| |__  |_ ___|||||____|||| |_____||__ |__| || |________|||||_|||__||_|| ___|_ |_|_|_ ___ |___|| _|||_| |_| _|_   __  |  |_   || _| _|_|_ _ __|__|_| ||__ __ ___|__||___ ____|__  |__|||__|___ _|_||_|  _|| ||___ |_ _|_|_ _  __|||__||_  |_|  _| _|_  __||_|  __||_ __|____||||||_|_ ||_|__ |_ _||_||  _|_ | |  _ _| _|| _|||__  |_    _|_ __|_  |||_| |_|||||__ ___|_ ||__ ||_| |_| |_|| |_||_|_|_  __|_| __|  |_ |_ ||__ ||  || ___ |||_|_||||| _||_ _|_ _|| __|_||_||_||___|____|   | _|_|__||||||  |_|_|_|_____ ___ || ______| _ __| _|| _||___  _ ||||___|||___|___||||   _ |||||||__|_|__|_| _ _| |_  ||_|_ |_||||  _ |||_|_|__|_|_||||  _|||__ _|__||  _ _ _  |||||||___ _ _  ||||_  | |_| ___| _ |  |  __ | _  ___|| |_||___ |||_||__ |_|_  | ||___|___| |_|__ ||| __  ____||_ __||__| |_||__|_|  |_|_||   | _|____ | _ |    ||_||_ ||||  _ _|||||__| _   _|_  _|_____|||_ _|||_||_ _|__|__| ||_ |_|||____ _|_|_| |   |___|| __|||  |__| _ |_ __|__||||| _|  | | _|||| | |_|_ _| |_| || _||_|_||_| __ |_| ||___|_||||_ ___|_| _|_| _|___||_ _|____|_|_|___|||_|__|_|||  |_|||| |||| | ____|_||| |__|_|_|| _||_||| | | ||| |_ ___||_|  || _|    |__|||_|_ __|||_  _ ||_ |_|__|||_|__||__  ||_|_||_ || _||_   |_|_ _|||___|_||_|_|| |_| __|__|___|_||__|__||__ __|_ ||_ __| _____|_ ___||_ ___|||||_  _ _  ||__|_ _ _|||_| ||||_||_ |_|__||| |_| _ || _||||_ |  _|||_ __| _||_ _____|_|__ |_____|_ ||||  | _|__|_|_ __| _|| |__| ||| | | |____|____|||||____ _ _||_||____|_|||_|__|_____||_|_ _  _|__|_ _|_|||||_|_|_|_____|_| _|____  ____|   ____|__|_|__|| |_|| |_ |_ | _ _||_||| _|||__|_____ |||___|_____|| _|_ _  | ___|_||_||_| _||_ | ____|_ |_|__||_|_|_|__|__| _|_|||_  || | |   |_| _|_ _|__| __ _| |__|____| | |__| | ||_|_ _||__ ||__|_||__ ___||| _|_|_|||___||_| ____| |_||_ __ ___ _|__ |_ || | _|_  | |__|_|_|  |__||| |__|| __|___ |_|||||_|| _  |_|_| |_|__|_|| | | ||_|__|_|_||||__|| |__   _ ||_ _ |||__| _ | __| _ || _|__|  __ |____|  _ |___| _||_ ____||_| | _|__  |||   |__|   | || |   __|_||||____|||||__ __|__ _|  |||_| __|_||___ |  _ | _|__|_||__ ___ ___|_ |__ |_| |__ ||__  | ||__| _||| |_| ___ |_|_____ |||_| |__|||||_|_||_|_|_|_|_|____|_||_|_||||_ ___ |____ | __|||||_|| _|_|_||_|||_|_ _|_|__||| ___| ||_|_ |||__| ||__ _|||  ||__ _||_ |_|_||_ _|_|_| ______||_ |||_ _|__|_ | |_ |_|  _ __ ||  __||| ||_ _|_  _  _|||_ |___|__|||_|__ |||_| |||_ ||__|___|__|__|| _|| |__| __| |_ |_||_ __| _|__|_ ___ _|____||__|___||| _|_| |_ ___ |_||_|_|_____ __|||_|||_|||_||_|||_ _|_|||||__ __|__|___|_||||||| |  _ _|  |_|_|_  |_|_||__|| _|_  _| __ _ |||__|_ __||_||| _ _||||  __||||| _|___| _|||||_ ||| |||| |_| |_|__||| __|__| ||_|_  ____||_ __ ||| | |_| ___  _|____| ___  |_||_ _|||   _|_| || ||||||| ||___|| __||_   |  __|__ |_|___ | |_ | _ _ || || ___|| |___  _|_| __|_ |_|| |||_  ||| __ ||_||_|||||__    _ __ __|_| ____ __|||  _|_|||_|__||__ ||||_|_|___| |||  |_|_  |||_||_|__||_| | _|_|_| |_| ___||_|_||   __| __  | |||  ||__||_|___   _____|| _|  | __||_  |_ | _  ||__|__||||_||_| __|_ | |_|| _| |||||_|__    ____||  |||_|_ |_|||___|||_| || |_|__||| |||_|_||_  _||||| __|__||_ |||___||_||||_| || _||__| __ _|____ ||_||_ |||__||  |||_  _|_||___|_|_||||_||| __|__||__||| ||__||_||||_ || __| | ||_ ||_|||_____| |_ || ||||_|||||__ __|_ | |||||_||___ | |  ||___ |_|| || ||| || | _ ||__ ___|__|  _||_||||_||_|| __ _ |_____||___| _||__ |_|_|_ |||____ __|___||__| | ___ _ | |||||__||____|_ |  __|||||_|||__|| | _|_|| _|_  | ||_|| |_|| | |_|___ _| __||_|_|||_|___|| __| _||_||__|_ ||||_ _ __ | _| |_|_ ||_|_|_|||___||___|_|_|____||_ |||| ___|__|   |_ |_ _ _ | ||___ _| |_ ||_|||____|||_|___|  _| ___|||___|__||||______ |_| |_|_   ||_ ___| _|_||||| |_|_ _ |______| _ |___ | ___ _|____|_|______|| |_||_|___  |  ||_|| ___| _||  __ ||_| __| |_ _|||_|_|_||___ |___ ||_||_|_  |_ __ ____||| _|_ |__|__|____||||_| ||_ |__  |_|| | ___|____ || ____ |||||_| |_| _|_| _|__ |_|_||___|   __ |  _ | _|_||_|_||_||__||__|_||__  _||__| __ _ __ ||  |||___  |_|| | || _||  |_|_______||   _|   |||_ ||| | |__ _|  ||  _|_ _|_|||||_|_|||||_|_ | _|__| _|_|_|_   _|_|| ___|_||||_|_|| |_| _ _|||__| | _|___||_|____|_ _|____|___||_  |_||| |__||_   __| __  _ __ __   __|||___| _ | || |___| |  |_||___||_ ||| _||_ |___||_|__||__|___|__|_||_|___|||_||   ||||||_|_____||||___|_|__|||__| __|___   _   |_|_|__| |_ _ |__ |___|___ _|_ | _ _  |  | _| ||__|_|__ __| __|_||  __ | |_| _| _|__|__ |     _ _|_ |||__|||||| |_ __|_|||_||___|  __|___||_|__|| _|||_|_  _ |_|__ |_  _|| _ _  |_|___|___ |_||__||||||__|____|_ |____||| __|_||||||_ |__ |_|_||||_  |_ __| |  __ _||__||_|_| |_ |____|  _||||_|_|  _|| ||__||_|___| ________|_ |__||____||__|| _ | | ||___|__ _| |_ _ ___|__| |_ ||___|| ___|_ ||_| _|_||_| _||| _||||__ __ __|__|_ ___|_|   ||||_|__|||  |__|||_ _ |_||____|||_|_|____ _  ||||  |__ ____|_ _| _| |__| |_ |_|_||_|_ _|_ ||___|_|___| _ __|  | __||||_|__||__|__| | |_||_ ||_| ||_|__|__ _   |__ __ __|___|____| |||_ _|_|__  |||_ __  |___| | |_ _ _ ___|_||||__ __|_  ||__||| _____|__|__ |___|| __|||_____   _ |_ ___ _|_||_|||__||_| _|_|_ ||||_| |_  |__||_ |_|_| |___|_|___|| _  |__|_||   ||__|__|| | |_____|  _|| _ ||_||  ||_| _|_||_|__||_||__ |||_ ||___||_ __| || _  __|_|_ ____| _|||_ | ||_|_| __   ||| |_|____|    _|   ||__|__ ||_  ||___|||_|_|| |||__| |_||__|____| _|| _ ||||| _  _| |||__|| |_______ | _ ___|||  || ||_|___| |_|||__|_|___ _| _ ||||||_|||_|||||||| _  |||_||_|__ _|_||_ || __|__  __||___| |_____|  ___| |__|_|_|____|_   |  _|_ | |_|_ __ _|_| | |_|||||___ ___  ||__  |_||___| |||  |_|   | |____ _ _||  _||  | | _|_|  __|  _| |||_| |_| || __ __||||_ _||  _|_|_|| | __|_|_| |_|___   |_|__||_  "
     ]
    },
    {
     "name": "stdout",
     "output_type": "stream",
     "text": [
      "_||__|_|||_| |||_| |_ |||| _|_ _||__|_____  _ __|_|___| |_|_ _||  |___||_||_||__  _|_|_______| |  ||||______|_|_  | ___||_||  _|| | _||| |_|__ _|| |_____| |_| |__|_||_|__||||||_ ||_| _|__|_|_     ___|_|||| |______|___||  _ | |||| _  | | _|||___ |___ _ ||| |_ ||___||_| _|_ || | ___|  __|__||_| ||  | __|_| ||| |_|| _|_||_||||_||__ | |_||_|||_|__ |__ _ __|__ _ _|_|||__ __ _|||_||____    ||_| ||____ |__|_|__|||||__||__||||| __|||__ ||__| |_||_|_|||  ___|__ __|||_|| |||_____|____||_||_|______|| _|  __ | |__ _|__ | _ |_ |||__|___ _  _||||_    __||||_|_|| ||_|__ __ || |__| ___ |___| |_|_| | __|__|||||_|_|_ _| ||__|||||||_ _  _ ___||_||_|_|_ | | || _ |__|_||| |||__||_ _|_|_|_|_|___|_||_|__ _|| |_ |_ |__ _|||__ _|_ |_||___ |____|_ | |_|_|| _||| | _|___|| ___|_  ||||||_ _|||_ __|_| |||  __ _| ||_|||__ __| ||_|||_||| _||__|| ||__|||  ___ __|_||__ |_  ____ __||   | |_ __|_||| || |  ____|__ _  __|___  __ _|| ||_ __| __||   |_| ||__|_|_ | _|_|_ |_| _| _  |______||__ |||_||_ |___ ___ |_ ___  | __|__ _|__|_ ____|||__ |_|   |___||_|_|___  | ____ ||____| ||||____||_ ||_||__||_||____||  __|___  ___|_||_|  |||||__|_||____|__ _|_| ______ ||__ _ |_|__|_|_|||__ _  _  _|_ | ||| || |_| |_    __| | |_ __|_||__|__|_|_ __ |_||____  __|_||_ |_|| |_| |___|_|| _||||_|||| _ |_|||_ |   | _||_|_||_ || ||  |_||__|_ |_| _ | _ _||||  __||||||||___||_| | _|_||__ |___  ||   ||__ | | |___|__|| |||_ _|_|| |__|__||_||__||_|__|  |||_ |_|_| _| |_|||   |  | |_ ___|_|_ _||_|||_| |_||  _|_____ __|  | ||| ||_|_|| __||| |  _ _|||_| |__|_ _____ __| |||  |_||  _|  ___  |__  _|||_|_|_ _  __||||_||_ || _ |__ _| __||_|_||||_ ||__ ___||_______  __ _| _|__|||___  __||_ |_|_ |_|____|_|| ______| | __ ||||____| | _|| ____|__  _|_|_|||_|__| __|||_|__ _  ___ __  |___|_| |_||||| _||| | |||_ __ _  |___ __|_ __| | |__ ___| ||||_|_|||||___|_|__ _ _||_|||____| _ _| |___||||_|__ _|__|_|  |  _| |_ __|| | _ ||__|____ _|_ _|||||| ||__ ||  __ | ___ |_| | ||  _ ||_||_____| _||__ | |_|  |_||_|_|_|__|||  |_|_| ||_| _|_|___ __|||_|||  _ || _|_ __| |__ ||_ _|||_  _|__|||||__|||| |__ _|| |_ _|___||_||_|__ | |_|___||_|_|_ _| ||||||__|| __ ||| |__||||__||__||_|| __||| ___||  |_|___||||__ __   |_|_|_ | |_|_||_|_||_____||___ | ___|__| _|| ____||_|__|||__|_|_|_  |||| __|||||_|| ||||__|___|___ __|_|__ _ ||| | ___||  _|_| |_ |_|| |  _|||___| | __||_|_|____||__  |  ___  |___|  || ||| _|__|_|_ |__ _ ||_|_|_  | _||_|__|_ ___ |__ _ _|| _|__|||| _||___|____ |__ _|_ ___ _  ||||__  ___|| __  _ |_|_||___|_ |______|_|  |||_| _| _ |_  ||__|__    |__||____|_|||__ ___||| | ||||| ||| ___ _||___|||_ _||__|___|___| _|___|_ __ | |_ ||_| ___||_||__|| __|  _||___|||__| ||||__|_ _ |_|_|| _ |_|_| _|||_|_|__ _  __||||_|||| _ |||_|||  ||_|||| |_| || __ || |___  __|| _||__|||__||||_|_|||__ |||__ _|__|_|||__|_|__|_|||___  |_   _||___ ___ _|_||||___  ___  ___|_||__| __ |  ||__ ||_____|| _ _|_||_||||||___| ___ _|| _ _||_|__ _|  |||_|| __||___|  |||_ |__|||  | |___ __|___| ____   _    _ ||_|  ||||__||_ _|_|__|___ ___|___||||___|__||__ || |_|___|  _||_ |_|__|_|_ |__|__ ||  |||__ __ ______|_ __   _ __||__||_||||||| _|||| || | _ |_ |_|    ||_|__|__ ||| |__||| |  || || ||___|_|||_||||||_|_|_| _|||__ __ ||_| __| | |___ _ _|___|| |_|__ | ||   || _|__ |_ _ ___ |  |_|_|_|_|_ _|| _ | ____||_ __  || ||    _ __|_|___|_  |_ _ | | |_|__|_ __ __|_|   |||__| ||__ __|__ |_||_||_||  _| _ || __  |_|___||||_|_|___|_|  _||||_  | |_||||_| __| || |_| |_   | |_|_ ||__ _|_|_  ||___|||| ___  |____|  ||||||__|_|_|_| ||| |_||__|__|| |__||_|_ |  ___| |_ __||||_|| _|__||_   ___  ||__||_|| ||||_ ||____ _ ||   _  ___  |___  _|_ _||| _|| __  __ __ |  |_ ||__| __| _ ___||__|_||||  || |||__||||| |_| |_|_ | |_| _||| ||| | | _| |_||||_|_||_|  _ _____||||___ | __ _|_|||_|__| ||_|__||__  _|__|_||__ __|___| |____|_|_ ||_|| |||_ _|||_|| |_||||_| ____ ||_ |_|| _|| _|||||||__|_||_|| |_|_____|_|||_|__ | _|| _|||  || |__ |_|| _ ____|_|||___|_|| |||___  _ ||__|_ _|__|||_|_||| ____ |_||||_ _ _ ___ _|_  _ _| _ ___| |_|||  |  |_ |_|_ ___||__|__ |_|_|_||_||||| _||__| | || _|_|__|_| |__|    ||||__ __   |__|____|_|_||___|__| _||_|_ ||||__|_|__|_||| |||_|_ _ |_ | ||_ ___  || _| _||_| |_||_|||___||___  _ |||| |___ || _ ||| |__| |__ _||| _|||||_|__||_ _|_||_|_| ____||  _ _|| |__|| ||| |__ | ||  || _|____|__| |_||___  _ __ |  |_ ___ __||| |__|||_|_|__ ___||__||_| ||_||___|__ |__ ||_ __|___| ___|__||_|||| ||_| ___||_  ___|__|_ ||_  __ _|_ |_|_ ||__ ____||||___|||_____ ||||_|_|__   ||___  _|||||__|_ _  |_ |___ |_  _|||_||__| _ __|  ||_ _|______|__|_|  _|_| |_||_|_  | | |_| __ __ |__ _|_|_  | |_|_| ||_|__|_|__||||_|__|| ||| ___ __|||||_|||_ __ _ | __|||__|_|___||_|___ _|___  | _ _|__ __ |_ ____| __|_|__| |||_ ||___| |_||| |_||| |_|||_ __|_|__|_|___ ___ |_|__   |||__| |_|_|_ |__ _|||| _ ___||__|  |_|_|| |__| |_|____| _| ||__||||_|_|_||| __|_|__ | _ _ _|_ | __|_ ||  ___|_ __||__||___|_|__  |   ___| ||_||_||_||_ ||||___||||||| _||_|| _||||_|||_|_|___| __ |_|_ || _|__|_  ___| |___  __||___||_|||___|_|||_| ||||_| _____ | |____|_|||| ||||||||___||___ __|_|||| _|_ _ |_|_  |__||__  ||__|__||___|_ ||  __||| | _|__|_||___|_||______ |__ _| |_| _| || _|_|_|_|____|||||||_||_||_|_|_| _  __|||_|_|| ____ |_ _ _||| _| _|_|_||___ |___|| ___|__||_| _||_|_|_ |_|_ _|__|_||| _ __|_  _|____ _|_||| __||   _ ____|___| | | __ |__|_|  ||_|_||||| _| |  | _|__|| __ _ __| __|__||||___ |_|___||_ _||__ _ |||___|__| |_|_|| ||_   __| _ | |___|_|__| _|_| _ _|__||__  |  _ |_| |__ _ | _||_|_||_||||_||||||___| _|_||__||_|_ _|__  |_  __||_||__||__|_|| |__||__ _||___|_|_ |||_   __|_|| ____ _    _ |__ || ||__||_|__|____ _|  | _||__| ___| |___ _ |||||_    _____| _|_| |_ ||__||__||_  ||||_|_||____|__|_ ||____||||_|___ |||_| ||_|_ |_  | _| |__|_  ||_ ||_  _||_||| _|  |||__ |__|_ | __ | |_ ||| _ __|_| __  |__|___ |__| _| ||_|| | _| |___|__ ___|||_| _|_||_ |  _ |_||_|__|_____||_|||___|||  |||_|__ ||||__|_ |_  __ |_|||_||_|_ _ _ _||||_   ||_|__|__|_ || ||||_||| |  __ | | |||__|_|| _|_ _  | _|||_ | __| |__| _| |_|  |___ |_ |_ ___|_ ||_ ___||__|||_|__| ||||_| ___ | ||__ _| _|___|||| |___|||   |||__|_|____|| |______| _|_ _ ||_| _| _  _||_ __   | |||||||||_|_| |||_|_|||__|_||_|_||_||||____|_ | | || ____| _||_|_|_|__| |_|_ __| ___ |_|||||||| __ |  ||_||__||_||_||||| _|_|_|_ |_ |||__   __||| ____ ___| |__| __|_||| | |_|_|_| __ |__|||||  | |||| _|_|| || |_|_____|_ __|| | _|__|  ||_|___|  |||_ _|_|_ ||_ |_|   ||_||___|_ __| _ |  _|_|| __ ||_|___|||_||__|_ _|  | |||_|||_|   __|___|___||| | || ||| | ||___|||__||_|__|| _|  || _|__ |_ || _|||_ _ |_|_||_|||_|| | _  | |___|  | ||_|_|_||_|__|| | | | _||___ |_ _|_| __|_||||_||_ _ _ _||___ _||__  |||_|| |_   ||_   | | || _||_| _|_ |_||_| | _|_|||____ _ |__|________|__||__ | |_|||  _ ___  _ __||_   ||  _|  ____|_ |||_||__  |_|_||_ ||_  |||_   | || _| ____|_| |_|| |_ |_ | ||_|||_|||||_|__ |__| ||___|  __||  ||_||_||| |___|_||__ ||||_ |_ ||||  |_  ||||_|__||| _|||__||__ | _||_|___|_||_|_  _  |_ _  |__ |__|  _| __||||__|_ _|___|   ___||  |_|___|| ||  _| _||_|_____|_||____| || ___||| |||____|____  _|_ _||| |  _||_||||_| |||_|_| | _| | | __|| _ _ |_  _|__|||| |||| | |   |_|||||___||| | ||__|_ _ ____ |||| _|_| _   _|_ _ _ _|| __ |||_|_ _ ||___||  _| ||_|_||_|  _ |||_|  || _____|||  | ____|| |_|  _____ | ||_||_|||_ || ||_|__|||__ __| __||_|_||_|____ || | || ||__| |__ _|___||__||||__|__|_  ||_ |_ _ ||||||__|_| | |_|| ___|_|____|| _||||| _|||___|| |_ |_||||   | ___|_|_  _|_|__|__||__||_|__|  | ___ ||_||_|||| |||__|__||_| _ _||_||||_____||_ _|_    _||_____|_|||____|| _____|||  _ __|||__ _|| | ||| |||| _|||||| _ |_|||_ |__ ||____ | _| _|_|||___|_ __ ||_ _ _ |_|__ _| _   _| | |||______| |_____|_|| |___|_|| | |__|___ __|_|_|||___||__  ___|_|_ ___| || _ _|||  |||__|___| __ __ __  __  _|_| |___ || | ____|__|___|___|__||__|__||| ||_||_|  |_ _|___ |__| | ___|||  _  ||| __||||||_|__  ___| | _ | |__|_   |||_  _|___|_||  |_| ||_||| |__ | _||||||_ _ ___|_|_| |_ _ __ ___ | |||__| __||| |_ ||||_|__  |||__|||_|||||_  _  |||_|_||_| |||| |___|  ||__| ____ __|| |||__|| _|| _ |__||__|_||||__|_______|| _ __|||___|_|  _ ___|||_|__|_____ ||_| ___| _  |_|____ __|||__ |__ _|__  | __|_|_||||_|||| _||  |__ |__| ____||| ||_||_||_  || _||_|   |||__ _|||_ _|_|_ |  _ __|__ _  _______| |___ _ | |  _|||___|| _____| |||___|_|||__ __|_ |||_ ___||__||_|| || |_|___ _|| | |__|__||  ||||_| _||| _ __ _|||| _| _||||| || |_|_| |__| |___|_ _|_|__||__|_||_ _||_ ||| ____ _|| _|_ _||||__ _||_  |_||_|_ ___|_|__|_|_| _||| ___|__| | || _| ___|| | _|_  |__|__ _|____|_|| | |___||||||| ||||| |__ __ _|||__  _|_ __ __|  _||||| | __|||_|  _|  _|_|||||__ _||_|| | |_ ||||_|_| | | _| _    |__||__|_|__||||__||_____||| _____ ||  |||_| ||||||_ _|_| __||_| _|__||_||___|| |_|||__ || |_||_ || _||___|_||___|   || _||||||______ |_||_ |_|_|_| || __|    __|__|_  _______ | _|_|__||_||_|   | ||||_ |||___||_||| _||| |___|__||||__| |_ |_||__||__||_||__ __|| __|||_|___ __ |_ ||| |_|| | _| _||| |___|__ |_||  _ | _||||| __|||_| |__|_|___|_|||___|||_ |__ _  |__||_|| |_|| || __|_| __|___|_|_   |_ |__ |__|_ _|_|_|||_ |_|__||||||_| _|__|_ _|__|||_|_|___|_| | |||_|| |__|_| _||_ __|___|_ __ "
     ]
    },
    {
     "name": "stdout",
     "output_type": "stream",
     "text": [
      "|_ _|____ ||__  |_|_|  __ |__|| _|||| _|___ |__ |_||||_____|_|||   || _|||| ||_|||__ | _||_|__|_ _|   _  _ _|_ ___||_|_|_ | ||||_|_ ____ __| |_|_|_____ |||_ ||| |_  ||_|||| |_ _ ______|_ |||_||_|||_| |_|___| |||__|_|_||| _|| _|__ ____ _|_ __| _|_||__||__|___  ___|__|___|| |_| | __||||__ _ _|_||_ ||_  _|  |_|_ |_ |_____||__|_|__|____||| |____|_|||| |||__|___ |_||| _||___|_ __||__|_| |___|||__ _|_|||__||___|  |_|___|__ _|_|||| |_ _ __  _| ___ _ _ _||___|__|||_|____|  |__ |___|_| |_ ____||_|__|___|_   |_|||__|| _|||| | ||||||_|  ||_||||||_ |__| _ _  ||_| _|_|||_ | |__|_|_| _ _ _ |_| _|____|__|  |__ ____||   |_____||_|||||||_| |||___| |_ || __|| |_||   |||_  ||_ || |_||| __|||||_ ||_|| __|___| ||_||____| _   ___||_||_|  ||_| _||___|  |__| | _ __  _|   |  ||____|_|_|_|_ ||__ |__|||_ __|__||_ |___| |||___|__  ||_______|__ |__ ||| | |__ |_ || || |__| |__| |__|_|_ __ |_|__|___|__|_____  _ ___|_ _ __||_||||_|_| | ||_|||__|_|||_|__|_||_ _|____||||  ||| _ ____ || _|___ _ |_ ||_|| |__ _|_| _____   | _ ___|||_|_| __ _ _ |_| _ |||__ __|| |_|___|_||_|_|__|_| ___|__|||||__||__|__|__| ||_____||_| _ | ____||_| |____ _|__|_||| __||| _|___||__ _  |||__ |||_||| |____ |_ ||_ __|__|__| _||||_ |__| __ ||_ |_ |||_  _ |_ |_| |__ |_|_|_ | |_|_| ||_||| |_ ___|||_ ||  __|__|_  __|||    _ |__|_ _ | |_| |_  _ __ __  |_|___|    ||||_|||__|_|_| _||_|| |__| |__  __|___ _| __|__||| ||||__|||_|  _ | |_ ___ _ |_|| __ _|__   __| || |_ ||_|__|_____|_ | |_ | |_||||___|||_|| __ |__|||__|__| | |_||_ |__|__|__||| |_|||||| _ |_||||__|_ __||__ ||_||___ __| ___|__||__|_ |__   __|_|__|__ |_|||_ _ | _ ____||_|_|| _||_| | ||__||||_||_|__|| |||||____ ||____||| _| _||__ _ __|||_______|__||__| || _||| | _| __||_ || _|_  _| | ||___|_|| | _   __ | __ ||_| _ _ |||_ _|__| | |__|| _||_|_ |_ ___| ||___|| |___|_|___|_|_|  |_|| _ | _ |___| ___|   __||_|_|_|_ |__ || ||||    |_   _|||_ |_||__| | ||_|____ _ |_||||_|_|_ _|_|_|_ ____|||| |  || _ ||_||   |_ ||_  ||__|_ ||__|__ ___||||| _ ||____||  ______|__| |||_|||_|||__| _|_ _ _ _ ___|_ __ |__||___ _|__ ||_ |_____||||_ ||__ |  || ||_|||  |__|__ _|_ ___|_ |_ __  _  __|||||_|| __|_| ||| __|||_|_||_|||_|| |_||_ |||||______||| | |__ _||  |_||_||__ __ _|_ ||_|  |_|  |_|__|||__||_  _   ||_||_|_ __ || |  |__|_  |_|____|___| _ _| _ |_||_||||||_||    ||   __|  _|_|____|_|__| |__|__|_||_||____|_| |||_||| __|____ ||||__||| ||_ | _____|_|_ |__||||||_||_| _|||_  _ ||__|  ||_|___|__|_ _|_|||_||__|| ||_|||_||__ || |||||__|____||||  ___ |__|_ __|_ |__ _ ___ _||_|  |||| _ |__||_  ||___|__  _|_ | | _ ___ _| || |||_|  _|| _ |__|_ |_||__| || _ _|__||||||____  ___||_|__|||_| _||| ||_|_|_|||||| |__ _ |_|_|||____| ||_|__|  ___||||_______ |_|___|  _ _| _|||_|_ _|| |__|||||||| _||_||_|  __| ||| ___||___ _|_____ _|_ ||||_ __|_| _||_||  |__  __||| |______||_|_|_|_ | |_|_____|_||| __|||__|| __| | _| | ||| || |||||_|_____ _| |______| |_||_|_|_|| _|| ____| ||| | _ _||_||_|__|||_|____||   ||  _ _ |  ||_ _| | |||_ _|| _|_ _  |_ ||_|_|__|_| _|||_ _||____| _  _|| || |___ |_ | _ _|   |||____  __|||_ ___ ||  |___ |_|| _||__ __ |||_|__|||__| |_|_ ||||____||_|_|  ____ |______||_ _______ __| | __   _|___|||_|| _|| |||___|||   |__ _ __|__|| |__ |_|__||||||_ _|  __|||||||_| _|_ __ __|___ |_|____ _| |||___|___|_|_   || ||_ |_||____|__| ||_|_|__ | |_  _|||_ |_ _|__|__|||______ |||_|_|_|_|_ __|||______ |||_ _|__|| _ |_|||_|_ _ |__|_|_ | __|_||_|_ __|   |_|___| _| ___ || |  |__| _| |_|__||||__|___||_|__ _|_| ||  | | |_||_||| _|||_|_  _|||_| _ ||_ _|_|_||_ _|| |__| |_| ||_| __| _| | ||_|__|_ _  _|_||____ ||_ ||__|||_|||_|_|_   |||__ _| ___ || ||  ||_|_|_||  ____ _ _  _|_|||__|_ _||| | |||_||| ||  |_ _|_ __|_ |_ __|_| _|||_|___|||__|_ |____|_|_|____|_______||   |_|__|_ |_ ||||| _ || _|||||__ _|__|_| | _ ||_ |___|__ ______ _|| __| _|_||__|______| __|  ||_|| |_| _| ___||| __||__|_ _ _ _|___ _ ||__ _   _|____||||  _  _| ||__|||_|||__||||_|| _ _____ _|__|_|_| _ ||||_|||__||__ _ __|_|_|_|__|__|| ||| |_|_|_ | ||_|__|_|  _|_| |_|___ |___   |_ _|__||  ___|_||||||__  |__ _  _||_|| |__ ||||_|_ |_||| |__|___ |__|||_|___|||_||__|__ __|_  ||_||  ||__|_ _|__||| |||__|||||||| _|_ || __ __|  ___|| _|  ___|_ |  _|_ || _|_|_|_|||    |_ |||  ||||| __ _  |_  | _|_ | _|_|||_|_ | |||______|__||_| ___|__||__|||||| _||__ ___|_|||__||___|_| ||__ _|_____________|_|__| _ |_||_||___|__ _|_ _ ____|||_||| ___|||___ _ _||| |___ | __|_|____|_  ||_ _ |_||__|| ||| |____|  __ __||_|  __||| __||| _____|__| |||__|_|||_|___| |_|____|_|__|  ||| |__ |_| |____||||_ ||||| _|_|_||||||__|||___|_ _ |__|_||_  ___ |  |||_ _ |___| _|||_ _|_| |_|  |||| |_ |  __||  __||___|_|_| _ _|_____ _  _|  ||_|__ |_  |__|_|   __ _|___| |____||_||| _||| __|  __|_|_ ___|_______ _||_||__|  _ _ _|___ __||_____ |_|_|_ ___|___|||_ |___ || ___ __||_ | _| __|_||_|__|||||| _|_||_|_ | __ __ __ _  _ |||||____|_ ||_||_| _ _||____|__ _  _ |_| |__ _|__|____|_  |_|||_____|___| ||__ __| |__   _| |___|_| |_||_|  ||||_ _ |||_ || |  |||| _ __|__ |_ |__||_|__ ||__| |__ |_  _|  _|||_ _   ___|__|| ||  |_| __|_|_ _____|||||_|_| |___|_| |_   || __|_|_|| |_ _ ||_| _||__|_| |_ ___|| |_|||_  _|_ _||_|| |____|__| |_|_|   | _ |_|||_|_ _ |__|||| |  ||||||____|_| || __||___| ||||| __ ||_|||||||_||_||__ |_|| ||___ ||  |  _  _ _| _||  _|__| _|_|_||_|_|__ _ __ _ |__   _|__| ||__ |_| __||  |_||__|||  |__||_|| _|| ||_||___ _ |||_|_|_____| | __ ||_|_ |_| || | |_|_|__|__ _ |_ || | _|| |__|| _||____ | | |_|_|||_   _|___|_|||___   ____ ___|||||||__|_||_|_|__|_|| __  ___| ___| |_|||||___|_| |_||| __ ___ | | | _ ____|___| | _| |_||___||_ |||_ |_ ||__ |_|_||_||_|____ |__|___   |___ |_| |  ||| | ||_||_ _ |||||_| |_ ||___|___ |_ |_ ____|_ _||_ _ |_|||_ |_|||_||___|||_ _|  _ |_|||_ __|_ || ||  |  |||||||| ||||____| ___|||||| _|   || _|| _| _ |__ _|||____|_| __ |___|_  _ _|_____ |_ | _  _|__|_|__|_ |__ _ ___||_|_|__ __ | _ ___||_|||___|_|_ __||_  |_|_||||| |___ |__ ___| _|_|| ___| ||_|||__ ||___|| ___| _|||_|_ _ _||_|_|||||_ ||||| |__ |||  __||__ _ |||| _|| ___|_||_||||| | | _ ____||___  |_|| _|____||||| |||| _|_||__  _  | _||___ __ _|__|  _| |_|  | ||_|_||  ||____ |____||_|_||||_|___|| |||_|_|___|_ _|__| |______|_||___ |__|||___  | __| | _|__| __|_ |__|____|_|| ||_|_|_|____||_||||__||_||___| _|_|  |_|_|_|__ __|_|__  |_||_|||||_  |__|  |_ _|_|||_  |_  ___|||  __ _|_ ___||__| ______ _____ |_|_||_ ||_|__ _||| ||| |_|_| __||| |_ _|| ||______| _|__|  | |__||_|| _| __||||__|__|||_||___ | _ _  |_|__|___ _|__|||___| _|_ _|_ |_|_ _ _| ||__||_ __|||_|__|___|_|_|___|__  |_|  |_ |__||___|| |_| |____ _||___||__|_ _||_  ||_|__|__||_|||__| |___ |_| | |||_|_|__|__ _|_____||_|_||| | _| ___|_ __|_| ||____|_|_ _|_|  _ ||||||_  ___||_|| |_|_|__|__|||__| __|_||_|__ || __| || |__|||||_|__||__||___ |||  ||    _ _|||||__|_ __| | | ||||||__|__ _| _  |||_||__ |_ _____|_|| |___ _||__||_|_|||_ ___||_ ||_ _ __|_ ||_ _ _ ___|||___|  _||| | |_ |__ ____|_||_|||_||||  _||||||_ |_||  _____ __|  |__|_|_||___ ||___| |_|__ _|_|||_ _ __ |_| _|||_||_|__    ____|| __| _ || _|__|_|_| __||__|| _ _|_ ||| |||___||__|__ _|| |||___|  ||_|__ || | _|  __||__| _||__|||_| _____|__| || ||_ ||||| ||_| _ _ _||| _|_|_  __ |______  |_|_||__ _|| _|__ |_ | ||___|__ _____ |||_ ____  |_| ||  __| |_|_ _|_| _||_  |__| __|__ |_ __||| _||_|__|_|  __||_|___ __| |||| _| ___|_|_|___|_||_|   _|_| |_ || _|||   |_| ___||_|_||____ ____|_    ||| |||__ _||_|| |_ _ |___||  _|||_| _||_| __||  ||____  _||| |_ _|_ |__|______|_||_||____|   _|||___| ||_ |_| _| ||_|_ __|____||_|_|__ | __|_|__|||___|_  _|| ||_||___|||   _ ||||____||_||_ _|_||_ |_|||_  |___||||||_|_|_|__|_    | _| __|| __ |___|__|| |_____  |_ |  _||_| ___|___ _||___||  |||||_ _||  ||||____|_|| |_|__|_  _   _||_||||____|_| ____||  _||| ___|_||||_|__||| _|__|_|__|||_ ||_ |_ ||_|_____ |_|_|||_ _ |_ _|__||_| ||_|| __|___ |||  ||_ _|_|_| | | ||___||| _||||_| ||_|| |_|_| _|_|_   | ||_ |______| | ____||_ ||||__ ____| __||_||||_|_|_||__|_ __|___|__|_|__| |||_  _|||_| ||_| |_ _| _| __| __||_ __|_  |||||||_ _||| |_| __  || ||__||__|___|_| _ ___||___| _ ___|_ _|_|_|_   _ |_| |_ __|||  |__|| || ||| |||||||_ _|_ _  ||_|___ __| __|||| _||____|  _|| _ |_| _ _| ||||___|__ |____| _| ___||__ _||  |||_|| |__|__ |_ _|  | _||__| || | _|_ ________ |__ |___||_ |_|_|_____|__||_ ||_ _ __ __ | _____ ____ |_ ||__   |_||| ||_____ |||| |||__|_|| _| ||||_ _||||___|__|___ __|| _  _ |_|__|__| | | _|_| ||_______||___|_ | |_ _| ___|_ |_|||__| |___   ||| | |_ _ || |__ _|||_____|__|_|_|| ||||_|_  |||__|_|_|||_||| || _|||____ |_|| | | ___|___||| |_|_  _|__ ___|  _ _|____| | |||| _| _||||_ ____||__|___|_| _|_ _||||||_||_| |   ___||| |||___ _| _|__ __  __|||__| _|_|__|__| _||||| __|___|_ ___|||_|_ ||  |_|_||||_ |_|___||_|| _| _|__|_|_|| |____ __|____|||_ |_|__| _____|___ |__|__|_ | _|||___|___||__ _ |||_|  |||||_||| ___|_|||_||||_||_ ||| __ |_ _|____    | _| ||__| __|_ | |_ _||| |__||__||_|| ||_|||_|||_|  _ |||||_| |||  ___| __     |||| _|_|  _|_ __| _  ___ |_____|_||| |__ __ ____| _  ||__| ||  ||||| |____|__  _| __  |_|_||__| __ ____ _ | | |_|____||_|| _||_||__|||_ ||_|_   __|_|_   |__||__|___|___||||| __    ____| _||___ |_|_ _|_ ||_| |_  __|||_||| _ | ||_ _ _||| __|___|_||||_||| |  ___  |__|_|_  ||||__|_|| __||_ | _|_|__| ____|__ _||_______|  |___ ||||||____|_| | ____||__  |_| _||||__  _|||_|_| _|__ | __|_|___|  _|_|| _||_||__|__ |_||_| |||| | __ |_|__ ____   _|_||||__ |_|||_||___ ||_ _|_ _|_||| |||_| |||||_||_||___|| ||__ |_|_ || | _|_|_  _|||____|||___|||_| |  __ _| |||__|___|| _____||  _|| _ |__||||_|||||__ _  ____|_||  |_||___||__|_____ __ |_| ____ | |_|___|_|_ |_|_ __|||  || ___| _||___|  |___ || | ||_  | _ | __|||| |_|__   _|||||_|__|||||_ ||__ _|__|_ |_ |___|  _|| _||_| |_ |__ |_ |_ |__ |__ _|_|||__|_ ||_ |__ ___|_ _ _ | || | |___| _____|| __||_   |__|_||___||||||||___  __|_ _ |_ | __|_| _ |_   ||  | _|||  |_ _|| |||||||||||_||___ |_ _||_ _ || ||_||_ _||__|_|__||___ |_ |_| __||____|__| |||_|____||__ | _|_|_||_|_ | ||| ||_  | _ _ _|_||____| |_ ||_|_ _|| |_| |||_|_____ _  |  __|_||||___|  |__||  || __ ||| ________ _  |__| __|_| |__||___|_| __ _|_|_| ||__ |___|_  _ ___|||  _ ||||____|  __|_ _||_ || _ ____ __|| ||_|"
     ]
    },
    {
     "name": "stdout",
     "output_type": "stream",
     "text": [
      "_|||__||_ __||_ |||| |_ _|__|___| __||____|_| __|_|| |__ |_|_ |_| |||__ ___|__| __|||_|||__  _|___|__|| __ ||| _|||_|||_ _|_|__|_   _ |||_|  ||||||| __  __   __||_||___ ___|_| _|  __|| _|||||__ _|_|| |__|_|_   | |    ||__|_|_ __||__ |__ |_|_||||||||_|___ |_ _  _||| ||_ _|__|_|| __ __| _|  | _| |||__ __||  ___||   |___|_ _ ||_||__|_ _  ____|||__|  _ _|_| ____|_ __|| |__|_|| ||_|| _|| ___| _|  |||___|_ ___|_|__ _|||_ _| |    _|  || __ _ __|_|||____|___  _||_||  |||_|||| |_||||||_|__||_ ||__||||_ _|__||_|||||   |_| _| _ ||_|_  _|   |   _|__ |_|____  _  |__ _|   ____||__ ||_ | ||___||_||__||||_  __|_||||____| _|_|||_ ||__ ||_||| _| __|_  ||_|_||_|__|__  _|_____||_||| ___ _| |  |_ _| |___|___|_ |_ |__  || ||_|_|______| __ _|_| __|| || _||| |_|___   ||| |||||___ ||__ |__ |___||||_|_ |__|_| |||  |_ __|  __|_  _|_ ||||__||_|||__|  __|_||__|  __|_|_|_|_||_ _____  ||  |_ |_| _ _  _||||_  | ||___|_|_ _||_||____|_ __|_||__ | _|  || _ ||___||__|_||| ||||||_ _ |_|| |||| ||____|_|| _|_|_|_||||_|_ |_|_||  _|_| _| |___|| | _ |_ |||| _||__| |_|  ___| | _||_ |_| _||__  __|_ _|____||_|_|_ |__| | ___|___|__||_|__|_ _|____ __||_|___  ||||||___|_|__|_ | |_|__|_|___   __|||||_|___ ||_ ||||__|| |_ _||__ _|||__|___| | |_|_|_  ||_ __ |_ |__|__||___ ___ _ ||___| |  | _|__|__ ___| ||||__  _____|_ _ _| _ _|_|_||___|||| __|||| |_  || |_||  |||_||||| |_|_| | |_ |_|| |__ || _|||__||  ___|||||___||_|_| _||_|_|_|__|||||___| |_   || _|| _||__ | _|__||||||||_ _| |__ |||_|___| _|||_|___ ____||| _|  ||_||||_ |||_||_____|||_||| |___ _|_|_|| || _|_| ___  | ||_||_|  |_|| _|__||| __|___ | |   _  ___||_|_| |_ |__||| |__ _ __|_ | __||_|_ |_| _ __| _||||_| | _| __|_ ____|| _ _|||_||_|_|__ _|______| |__|  || __||___ |_|_ __ _||__|___ __  ||_|_| _| _||_ _| _|_|__| || |_ _______|||_|||_  __|___ |_||| ||_| |||  | ____ __| ___  |_||  _|_| __ |_|_ _||_ _|| _| |_||__|| || | _ |||__| _|_||||_||_|| __||||_|| _| |_|_|__|| _ _ |___ ______|___ | |__|_| ||| _|||_|___|  ____||  __ __||___|_ | _|_|__ __||____|| _ _ |||_ |||||||__||___|_____|_|||__ __ |||_|||||____|  | __ |__| _|_|||| |   _|  _ _|_ _ | |___|  _| ||__|__||__| |__ _ | _ |__|||||_|||  ____ |_|__  ||_||||_| ||||__ ____||_ ___|_||_|_|____||__ __ _| __  _|__ |_  ||_ |_ _ |||_|___| _|_|    ||  |_|__|_||_ __|_||_   _|||_ _||_|_||_||_| |__ |___||| |_ _| _|||_ |__|_________|_|__|_||___|| _|____| __ _______||__| __| ___|| |____|_ | _|  |_|||_ ||| _| __ _ _|__||__ |_| _||_|__||_  || _____|__ __||||||_|_ _||_| |  ||_|_||||____|__  __ |_|  || || _|||||__ |   _| __  |  _|||__  ||_||_ |_______|| ||_|  __|  _||_|  _||  || | __|| __ |_  |_   |__|_ |_|_ __||| ___||| |_|_|||__  | _|| |_| _||__|||_||__  _|||| |_|_||||| __ __|__|| _ | |____ | _ | ||___| ||| ||__  _||___ | _||_ _||_ |___ |___||| |_ ||_ __|__| ||| __ _|||______ ||||_|_||| | _  |||||||___|__|  |__|| |__||_| |__| |____|_ _ |__|_____ |_|    || __|_||||_ _|__|_ |__|__ |_| ___|  _|||__| _|____||_|_ |_|_| |___| ||__| |______|____   ____|_ ___||_____||_|__| _|_ |_ | |_|||__|___|_ |___||_||   ||||| __|__|_|_|__|| _|  _ _   | |___  __||||_ ____||__|_|_| ||__| _|_||||_||_|| | | _|||||_  |||  ||_ |||_|____|_|_| |  __||  ||____ |_  ||__|||_|_ |__|_| _|| |||_|___| |_|_||_|  _||_|_|_ _||| ||___||_|| | _ ||__________||__|_||  |__| ||_|| __| _ ||_ _|_| _ _||   _ ||  |_ |__|___||||_|_  ||   _| |||_||___|_____||__ |_|_______|_|_ |  |  |_||_||||____||_ | ___|__ || |_  __|_|||| ||_||||| |__|_|___| |||||_  __|__|_| | |||__ _| __   |_|_|_||||__|__|| _| |||__||_ |||||_|||  |_ |||__| _|| | |___ ||_ _|||_| __ ||| || |___| __| _| ||| | || ||__| |||__|_|||_|_  __||_|__|||| _____| __||_   ||_  ||  |__ _  |_|||_  _ _|_ ||_ _ _||  ||||__ _||||__ ___ || _|_||_|_|| ||_||_|_ |____|||||_| | __||_   ||_||_| |  | ||_  ||  |||__||_||||| __| |_ |_||_  ||_|_|__| __|||__  _|||_|||  __    ||_ _ ___| |_____|_ __ __ |_|||_|| ||_|||||_   _|_ _||||  | |||_ _|||__|_|||__|_|||_||||||_ _|_|_ |_ ||__ ||_|_|_| ||||||_||__|_|_ |____|  _ | | _ |_ | _|||  __|||| __ |||_|__|_| | _|_  ||_|| _ ||___||_|| || ||_ ___|_| _ |||_|_|  |_|_ |___|__|_||_____ _ _  _|||___ __|  |___ _|_|__||_ | _ __|_| ||__|_|  _|_| |__|_||_|_|_||__ ||| _|__| __ ||| __ _|__  | ||_ | __| ___|||_|__  | ||_|___  _ |  |_  ||  _||_|_| |__  _|||_ ||||__ _   ||||_|||__|__|||_| |_|_ __| ||| | _|_||__|_ __||_|||_|____| _____|___|_||__|_| | _| ||||||_|_  |_ __ _|_||||||| _|||  __| |___| __|  ||___ _|_|__||_|_|_ __||_| _||__|_ |_|||||| _ |_||_| ____ ||__|_||_|_|||| _|_ |___| _||__|_ |__ _|____ _____ |||| |||||_|_| ||_ _| __||   ___ __|_ _ |_| _  |____ _ | _ ____ _| _| _|__|___ || ||||___ ||_ |  _| | ||_||___||_|_||_||||_ _|__|  ____|_|_||||| |_|_| |__|||||__ _|  _ _||___||| ____|__| _  || |   ___|___|||| __|___||__|||__||_| __  ||____| |||||||_ ___| ||___  __|_||_|_ |||_|  _ ___|_ | |__ |||_ |||_||||__| _| _||__ _ _ |_|_ |__ _     | _||_| |  _ _|______ |_|_||____| |___  ___  _|| |______ |__| |_|__|| | ||_|_||_ _| _|||_|_|_|_| _||__|_| |_ |||_| _ |__| ||| __|||| ||||_||| _|||_  | | ||_|___|||_|_|_ _||__ _||_|__|_|__ |  ||_ _ __|__|_  _|__|_ | |_ ___ __||__|_| |__ __| |_|||| _||_____|_|||_||__ |_||__   ||____||||| ||_ |_|||||||| __|_ __|_ ||||_|_ _|  _|||__|__ |__| ||||| _|||   __  _____   | _| _  |   ||___ _ |_|| ||||||__ ||||_|| |_ ||_|| _|_|| ____ |_ _ | _  __||__ |_|__|____|_|||||_|_|| _ __ _||_||_| _____|_||_|||_|||| _| ___|_|| _| |_ ____ _|  _ _|||_____|_|__|_|||| ||_| |_||| _|| __|__ _||_   _||| |_||_|__|_____|__||_|| |_|___||| ||_|__||  |__||___|__||||_|_|_|____ | |_| _|_|_| |___|_ ||_ _|||_||||_||____||_| _ _||_|__|||_  _|_| | |__|| _|||_|| _ _ |_ |___|_| |_|__  ||_   _ | |_| |_|| | __ |  _ ___ |_|_||_   _|_ | || ___||| |_|__|__|_ __  || |||  __|_ _ _|_|___||||__||| _|_  |_| __|_|||||||_   __|__||_ | ||_|_|__|_ _|_|_ _| _|||||__|__||_ __||___|_| _| ___ ____ ||||| _ __|| __| _|___ ||____| |_|_|_ |___|_ ||_|_|  | _|||| |_|| __| | |_ ___  _| |_| |_ _|_ | _|| |_|_   _ _||  _ ___||__|||_|__ |__| |   |_||__|||| ___ _ _____|_||___|____||_|__||  _|_||_______| _|||_ |||__| __  __ ||||_|    __|||_|| |__ |_|  __|_ __|__| ___ _| | _|||_|||  _|_|_ __|_||____ || |_|| |_ ||||__||_| _  _|_||_|__||_ |___| _  _| || |____|____|__ |___|| _ __ | |_|_||_||_| _  |_  |_|||||||  _|_|_ _|||___||___||||| ||___|| _| |_ _| _|___  |__|__|__||_||_| |_____| ___| |  |||____ __|||_||_|_|  _||__|___|_ | ||  ___| |_ ||| ___|_|||_||| |_ ||||||||_|__|__|_ _____|| ||____  _||||||_|___ ||_||_|____|||  ||__ ____| _|  | ___ _ |___ _ _||||____  _ |||_||  _|_||||_|  |_||_ _|_ _|__ | | |_|__ ||||__|___|_ |_|__ ||||_|__|__|_ _   __|__ ||__ |__|_| || |||_ _| ___ _||_|_ _| |_____ |_||__|__|__||___|__|__|_||_ | |_ |__| __|  ___| __ _ ____|| |||_____|__ _ |||_  |||___|__| _ |___|||___||| ___ _||_ ___   _|    __||||| |||_| |||_|| ___|| _ ||||||| _|||||||____ ||_  |_| ||| |__||||__| ||_|||  __||_____| |__ _|_|| _| _|__|_ _|_||  _ ||__|_ ___|__|_ _|__ |_ _|  _ | |_|_|____| _  |_|___ __ _|||____|_____|||| __||| |_|__ __|__|| _ |_ __ __|||_   ||__| |_  _______|_|___|__|| |_ || | ||_|_ ||| _|_|____  |_| _|_||| |  ||___|_||_|  ||____| __|__|_ |__|  __||  _|__| |||||__|||___||||_|__|_____| ||___ __||  | _|_||___  |_|| ||||__|___ __ _|_|__ _| __ |_ | | _|__ _| |_|| |__ __ |_|||_| _| __ ||  _|_ __| _| _||||||||  ||__ ||_ __|||| | ||_|| _  |_ __|_||___||_ ____  | _|_|   _|| _ _| _|||||__||_ || |_||___ _| __|_||||    | ||||_  |_| |||__|_|_|_|_|_|_ ______ || | ____  |__|_ __ || ||__||| ||||||_| || |||| _ _|___|__|||_ _|   | |_|_||| __ __ _|__ | _|__|_  __||_| |  |__|| |_||||_|| _|___|_|____|||| |_||||_ _ |___||  _| || ||__ __| |____||||||_|_ ___ |_||__|__||||_|__ __|||___||___|__ ____|_|_|__| |_||||__|_|_|__|_||_|_||_|||||_|____|_|_ _|_|__ ___|||| |___|  |__|__|_|| ||__ __ || _||_  |||_ |_|||  ||__ |||_|| ||__|_|_||_||_|__ |_|_|  |__||||||||||___|| ||__|  |_| ||___||||_||__|_|__|_||_|_| ___ |___|||_||  __|_|_____ ___ _| ___ ___|||__|_ _||_ _|_||||||__|___| ||||____|_ |||_||_|____  _|||__ __| |  _ _|____|__ _ _ |||_| | ||___|_|_| |_ _| || |_| |_|||____|_| _| |__ _ | _|_ _ _|_||__ ||__|||___| |__  __ |_|_____|__ _ __||__|_|__||_  ____| ||_|__||_ _|||| | |_ |__ ___|__     | _| _  |  | __|_||_||||_|| | _|___|_| _ ____|_||_|| |____|||__|___|_____  __||__|__||||_|||_ |_ ||  ||_||| |_______||_ __  _ _||_____|  ___|_ ||_|| ||   __ _| _  __|_|_ _||_|___ _ __|_|  | ||||||  |||_ _ |||_||__ _||| _||____| __| __|  |||_|||_||_ |_|_  ||_ __|_____ ||| |_||||_ |___||_|  |||___ |_  |||___|  |_| __|||___|||__||_|_ | _|_|_|_ | |_ ___|___|_ _|__ |_ |_ | _ _|__||_|||||_ ||_____||_|_ __| |_|_|| ||   |_||_ _ __  _|||||__|||_  _ |_|_|_ _| ___|_|_|____   ____|_ |_||| ||| ||___| _|_|___|_ |_ | |_____ _| |||_ | ||_|||__|_||| |_ |_| _||____ |__ _ | __|||_|_ _|| |___ _|| |_|_|  _ | |___|_ |_||||||____ _|_ __||_ _|__|__| | _|__|_ _| |__ ||_|_|_  ||   | |_  _| |_||_|_ _____|__|___|_|__| |||_  __ ||||_ __| |_| ______| ||_ || |__|  _||||    | || _|_|___||_ _ ||_|_|_ |_ __ _||__|||_| | || ||||__||    __  __|  ||_|_|||____ |||_||| ___ __   ||| __   __|_____ || __ | __  _ |_ _| || _ | ||___|_____| |__|_|| || | | |__| __ __ __|||_ ___|_||_   _ __|||__||_| _|_ |_||_|_| ___|| _|_|||_|__|___||_|__||_ |||_|____||||_|__| |___| |__|___ _||_| _  _ ||| |_|_|||_||| |___|_|____|||__||_||_| __|||| _|_|_ _ ____| ||||__   _ _ _||| _||___ __ _|_|_||||| | | |__ _ _| _||_|||_||___ || ___  _ ||_||__|||  __|| ||__|| | |_|_| ||_|_|_|||||_|  |____| _ || ______|__ |_||_||__ |_   _  _|__|_|||_|_||___|||_|  __ |_|_|"
     ]
    },
    {
     "name": "stdout",
     "output_type": "stream",
     "text": [
      "_|___ |_||  ||__|__ |||||| _ _|  |_ _||_| | |_| _ |||| _   |_ |___ __|_|_||____|___||| _|  _|___| __|_  ||  ||____| ||| _||| |_|||| |___||_| |||_  ||_|_ _||  |  |||_| __| |_|__| |_|__|_ ||_|__|||__|___|_|_|_|____ | ___ |_|__| |_|_ |__|| __|||_||____ _|_|_||  |_  __  |_||________|__| _  __ |_|___ _||| |||_  |_|__ _____|_  __||| _|_||__| ||__|||__||||_ |  || |||___ | _ |_|___ ||__|___||_ _|_|_||____|_ ||  ||__|_  _ ||_| _  ___|    || ____ |_ |  | _|_||__|_|||__|__|___|_| _|_ |_____|_ __|__ |_||_| |__| ___|| __|___|___| |__ || __ ||_ |__|__|_|_ |___|_|__|| _||_|| _ _| _|| ______    __|_||| __||_ ___ | |||_||||_||||_______|| __|| ||  ||| _|_|__|   ||_||| _ _||__ |___ |_ | _||_|_|| _ ____||__ |_ _ _|__||__   |___ |  _|||| _ ||||__||||__|_ _|___|||_|||____| ___ | |__||| | ____|__|| |  __|_|  _ _| || _ _||_||__|_| |__ _|_ __|__|__|| _ __ __| _|||_ __|_____| ||||__|_ |__| ___||__|||_ __ _||_|__||_||_||_||||_|_|_______  _ | | _||_ _ _| __ || _|_| || |_ |_  |__||_||  ||_| _ _||||    |_  _|__||_|_|__||____||_|__ ||_  __|||||___|__||||__ |_|_   _| _ _|_ |__| ___ || _||||_ ||_  |_|__| ___| _ | _  |__||_|_||||||__||___|_ _||||___|_|__|_|__||_|||| ______ || __|_ ___|__|_| | _ __| _|_|_||_|||||||||__||||__|| _|_ |_|| |||||||_|  |||_ _|_||_|_|||||__| | _ | |____ _|_ _|||_|___ |_|__||_| __ ___   |_|| |_| _  _|  _||_| ||___|__| |_|  _| |  ||||__|| |_||_|_ |_||__|_|__|||__    __| |_||____||__ _|_ ||___|_|__ _| ||||  _|_| ___||__ __|_|_|_ |_ _||__||__ __| ___| |_|____|| __|||||_ _| || _| |||_|   |_||_|| |_|_ ||_|||_|___||__  __|_ |__|_ _ __  _ || | |_ | |||||__|| |__|||_ _ ||_ _|||__||__ | __||_ _  | ||_ ||__ _ |_ ||_|_||| __|_ || |_|___ |___ _| |__|||| _ ||__|__|_   _|__|__ ||_||___ _ _|_||_|_|_ |_|| |__| ||| _|__ |||_ ||| |_||||_|||__ ||_||_|____  |_| |__|_ ||_  |_|_|__|_|||_ __| __   _ |||_ |_  __| ___ ||||_|||| _||___||_||||||_| |||___|||_| || |_____|_|_ | _| __ ____ |__  |_||||___|_ |_||||||_||__|_ _|_   ______||| ||___||__ __ _ _|  __| | __|__|_|||  ||| | _||____||_ ||_ _|____|_|| | _| ____ ||__|||||_|_||__|_|  _|||_|_|  __|_|||___|_|__|_  |____ __|| ||__  _|_| _||_|_  _||_||| |||__|_____|_|  ___|_ _ _|_|_|_____|_  _|| _|___| |_|_ |_|__  |_|  | _| |||| __ _|_||||||||_|_||___| ___|_|_|| | |__| __|  ||__|_|_|_|   _|_|_|__|____ ___| __|_|__ |_|||| ||_||||__||||___|| ||||__|_  __|_|__ ___  _ |_|_  _ __||___|||_|_|||___|_|||_|_| ||| ||||| |_ _|__ ___ _| ||__ _|||___||____  _||  __ __|  |_||  __|_|_ |_| __|__||_ |_|   _|___|||__| |___|_| _|_|__| _||_|||_| |_|| |||_ ___  __|||___| ||||_|_   |_|||||_| |||___||||______|| |__|_| _| _|| |||||_ | ||| __||| ||__|_|_|||_ __||| _ _||__||_ |_|  ___ | | | |__||_|_|||||__|  _|__|__     _ |_ |__|_ ___|  |_||__|_|_|_|__|_| ||  _|| _|_|_|_ _| _||__||__||  || __ __ _ _||||||  _ _ _  |___||_ |__||||_ __||_| |_||_|_|_|__ _|||_ |__|_  _ _ __|||||| ____ ____ |__|___| | |_|  __||| | ||| |__| |_| |___ |__|__|| _|| |__|_ __| |||__|___ _|__|_|| | ___ |_| |_|_|_||_|||__ _| | |_ _|___|_|||___|_|||  ___ _|_|_ _ ||_  _|____|||_ _|__ | _| ||||_ |__||___||| ||_ |||____|||____||_| || |__||| _|__|_|_ __||| _||||_|_|__||_|__||| |_|__  |||||| _ _|__ _ |_|_|||||_| ____ | |_|_____ ||| |_ _|_|||_|  _| ||_|__ |_ _|_||_ _|_ | __|_|_ ___|__||_||__ |__ |||__| ___|_ |__| |__ ____|__| __| __|||_|_|_||_ _ __||_| ||| _  || || _| _|||||___ || | |||_|| ||||||| _| |_| _||  _ |_||__|| |__ _  _ __||  ||||  _|_||_ _|___|_|__||||||||___| _|__||| | | _ ||_|__ __  || _ |_|__ ___|_|____|_| |_|__| ___|__|_|_|||||_| _|| ||___ ___| ||____|_ _ __||_| _| || _  ||_ |  _ _|_|_____|__|__||__ ____ |_|_||| | || |_|||  ||  |___|| |_||| _|_|_| ____ | __|||__  |   __|_ |_  |__| |  ___ _|__ |___ |_  _|||__  _||_|_|_ |____| |||___|_| ||_| |___ _|_| _||____||   |__|| |___|||__||_ | ||___| _|___| ||_|_|  _|_ _ |__|_|_|__||||__|| |_______|___|__||__ |__ __|||_|___|||__  _|||||___|_ _|| _ || _  |__ ||||_  ||||______| |___|||||_|| |___||____|__|||_ __|_||_ ||||||||__|_ _|_ __ _  ||_ |||||__ __ |___  _|_   |__ _|_  _|||_| || _ ||_|  |  ||||  | |_||_|_| _| | _|| |_ _  |__| | |||_|  __|| |_   |_|||||_ |__||   _ |____ ||  _|  || |__ _  _ |___  _____ _  | ||||||| _ |_| __ ||__ _|_|||_|_|||_  ___|_|||  ||| |_ ||_||__|__|_ |_|__  __| _||_||_| _|__  | | _|||___||__||| |_||   ||_|||_ | |_ _|___||||||___ _||_|____| | |_| |_|_||||_|| _|_|_____ ||_||__ _|  |||| _||  | |___|| ||_|__| _|___|_ ___ ||_|_ |_|_ _ |__||__|_|_|_||_ | _______|  |_ _ __|__||____ _ _|__ |_  | |__ _||||______   __ _ || | |_||__ __|   |__|___| _|_||___|_| |_ | |||| |_| _|| |__|||||_ __||__ |||  | _| |_||  _ __| __|___ | _|| __|_|_ ||_ | | _|_||| _||||____|||_|_| || ||__||____| |_| | __|| |_ __||| |||____||| _|||_||_| ____||_| |_|__|||__|_|____|||_|_ | _||||_||_|  | |__ |  |_|  _ _||||_||_| |__|__ _ ||__|  || |_ |_||__| | | ||_|___||__|____|||  ___|_||||||___   ||__||| | |_|||_|||___ |||| |____|_|  _____| ___ ___ __| _||||_|||__ |||_|_ __|_ __  ____|||____||||__|__|__|||  _| ____|__ _|___ __|_|_| |__||||__| | __|_ ||| |_| ||  |___||_| |_  _ _ _| __||| ||_|_| ||_ |__||__|_|__|_||||||     |||_  ||__||___ |_ ||||||__|_|_|___|_|  __  __|| _ _| ||   _|___|____|__|||||_|||| |__|__|||| | | _ |_| ||| || |||__||  __  |  ||  |___|_||||__|| ||||_   ||_____ ||_|||_| ||_ _|| | __|_ |||_ ||  |___|_____|_|__|||_ ||   __|   |_|||| ___||__|___|__ ||_| __ | |_  ||_|||_||_|__|_|  |_ __ |||| ||_| ||_|_|_|___   _| ______ ||||___|____||_|| _|__ |_ _ _|_ | ___  _ __|| ||_||__ |_|_||||||| |_| | |_|__ _| ||| _____ _____ ____|||__|___ | __|_|__|| __||_||||||____| _ |_| || _||_|||__ |__ |_|_|||_ |_ _ |__|__ ___ |__||_    | |_ |||________|__|| _|__ ___|_||_|||_|_   ||_|| | ___|_||__||| ___||||_|_|  _| _||||__|___ __ |_ __ _ |_| __||_|____ ||| __||_|_| ||___||_| ||||______ |  || _| ||_||__|   |_| ||_|| ||_|_ | ||__|_||_ |_ || _ |_ |_||_   |__ _ | |||||||  ___||_| ||__| ||| __ _|||__ __||__ __ __| |_ _||__|_|||||__ ||| _ _____| |___ _| |____ _|__|__  _||||__|_ |_  _ |__ __| _| |_| _|_||_||_| ||__||_|_| _|||_|__||__| || ||_|| |_|____|_|__ _ _||| ||_|_ _||_| _ _ __|_||| _    | ||_ ||  __|__ |_ _|__  |___||_|_|    |__||||   _||__|__||||___||___|_|| _|_|_____|| | __|||_| _||||  _|_|| |_||__  |_  __|  |||__ ||___ ___ __ _ |_|_| _ || ||| |_ ||  |||_|___ |___|_|_|__|||  | _|||||_ |  _|_||_|__|_| |_ || _  |___ _||_____  | _ |_| |_||_||_| _ ___| ___||||_||__ ||_|__||| ||_|_|||__|_ | |____||| | |_|  |____||_||| __| |___ |_|  __ ________|   ______ __   __|____||_|_ __|_|||_|_|| |__||___||_||_ |_||__|_ || || |_ _|  |_||__|__||||  _| |||_ _ |_|___  |_|| _   _|___|__ _|_|_|_||||_|||___ __||_|  |_ | | _ |  _|_||| _|||   |___|_||_ ___ ||| ____ | _| |_||_|__|_______|__|_|__||_ _|__||__ | |  _____| __|| |_|____ |__  |__|____ __ |_| _||_||_|_ _ _____|| | _||| __  |__|_ || ___ |||___ __ _|||_ ||_ ||___|_ |||____| _|||  _|  |_||_ ___|_|_ |_|___|_|   || |   __| _||||_|__|__|_ ||||_|| | __||   |__|___|__|_| ___ _ ||__|  _|_||_|||| |__|||||_|__|__ | _|____| ||_|_| |_  ||| |_ | _ |_||| |__||__ | _ __|__||_| ___|_|||| |_||   __|___||_   ____||__   | _|  _|| || |_|_|____ _____||| _|_|||||_  __|||_| _ ____   ____ |||__|_ |_|___||_|__|| || ||| | | |||| _|_| __|__||_| __|_|| ||_ || _|__| _____|__ |_|||||| |_|_ _| _|_||||   |_|__||||___||_||| __   ||_||| ____| _||___| _|___  _|_|_ |||_| ||| _ _|__ ______| ||_|_| ___| |______|| _|__|__||_|||_||| _ __|_| |||__|| | |_|_|__||_||___| |__|_ _||_ |__|_|| _|_||_  _  |_|__|||||||||| ___ ||||_|||_|__|||| |_|_| __ _  __| __|_|_|_ ____|||____|___ __| _ ||__|_ |__||_||| _|_ | ||_||| _| | _||_|_ _|| | ||| __|__|||____|___| ||_ _ _| |_ ___||__|_|| ||||_|  |__||_ _|___|__ _ _ _||||_| _   |  __|_|_|__ __| |____|_| |_||_|  _ _|| |_ _|_| | |_|_ | __||___| | _|  |||||||_ ||_ |||  _ || _|_ |__| __ _|_ ||||_ __ _||  |_ ____|__|_  |__| |__|_|||| _ ||||_||_|__||||____||___|| |__ |||||_|_ |   _|||||_|__||_ __ _|| ||__ __ __ ___|||___|__  _ _ _| __| |__ _|___||_|_||__|___|||   | ____|||_|_  |_| ||__|_|||_   |_||||||_|________ _| _  |_|_|__|| _ ||||_|__ |_ |  |____|||  _|||_____|_|__||___|||___| _||_|___ |_|___ __||__| |||_| _||__|_|__ |__ || | ||_|||_|__ _ _||||_||_|_||____ | |_  _|||| ||__|_||__|_|_|_||||___||_||_   |_|__|_ ||__|_|_| _|_| _| |__ _|  |||_ _|_ _  || _||____||_  __|||_|_  |||||__ |||__ __|__|__|||_|||_|  __ |  ||  _|_||||__| |__|_|_ _ _| _||   _  |||||_| |_|||_||_|   ____ |_| _ || ||| ||_|__| |_ __| ||||_|___ _|| _ ||_|_ __||||||_|_ |||__|| |_|__||_||_|____|||_|_ _| |_ ||_ | __|   |_||__||||||_|___ |_|__| || |_||______ __ _| _||_ _|_| __ |_ ___|_|_|_| |__ | __ |  || |_||__||_| _ ____ ||||_|||_||||__  __| |_  _  |__|_|||  ______| ____| _||_||_|___| _||_|_|__|||   _ _||__|||_|_||__|  _ __||_|_| _ |__||_ | _||__ ||_|_____|____||__ ||  |_|__| _ |  ____   _ _ ___  ||_ |_|__  _ |  |___||____  ||||_ || |_|| ___||__ _______|___| ||| _|__||_| |___||__| _ ||||____ _|___ _||||__ |_ _|  _____  ||_||||  ||||__|___|_ _|_||_ | |__|||_||||__|___  ____|||| _____ _|_|___|_| _ |__    _|  _||_|_|____|_ _| |||_|| ||____||| ||_| | |_| _ _| |||_|_ ___  _|||_|_| _  ||_|_|||_  | |_| _ __|| _||| _||_|_|_||||_|______ |___|_|____|_||_  ||_ _|| |_ _|_|| __ _ | __ __ ||||||| |_|____|_ _____|_ |_|__ |||  |_|  _|_ __|__ || |_ ____|| _ ___| |_ _ |_ _|___|_ |_||_ _   __ ___   ___ __ _|____|||_ _ _|_ _|||_|   _  _||| __|__|__||||___|  _  ____|__|__| ___||________||_ |  _|| |_| || | _|| __| ||_|| _|_|| ||__|_|  | __| |_|_|_  || ___| |__|_|_||||_ _|_| _| _|||||__ ||_   _||__| __|__|  |  _|  |||_ __|___|  |||  |  || ||||_||| |__||__||_ __||||| __ | _ _|_|_ ||_|| _ ||__"
     ]
    },
    {
     "name": "stdout",
     "output_type": "stream",
     "text": [
      " |___ |__||_|| __||_|  ||___ _|__||_______| |_| |___|| | |||_||_|_|||| __   | |__ _|||_| __ |_   |_| _|_||_|___|  __ _|_  ____ | _ ___||_| __   __|_  | |_|__||_  _||_|_|__ |_||_|___| _|__ |_||| _||_|  _____|__|_||_|||__  ||__|| _| ___||||| |___|||| _||__|| |_____|_ | _ _| __ ||__| _ __|_|  |_ |___|_|_||_ ||___|_|_||____|_ _||||__|_  |||_|_____|__||  ||__   _|____|_||| __ _ _|_|||_|_ _|  |  ___|_|_|__|____||__||_ ||_|_  |||_ | | |||_|  |||__|__ ||| | __| |__|___||||_|_|_ |__|||__  _|| __|||  |__|___| _||||| _|| ___||_|  | | _|___ ||_||||  |||__|   || ||||__|_|||__|__ _|| |_|_||  ||_| __|||__ |___ _ | ___||_ |_|_  _|_|_  | _  ||||  ||__ ______| ||| _| _||| |||_ ||__|____ __ |_ _|_|| _|___ | _ |_||| _ _|| _______| _____  _|| ||_|_ __ |||__|__||||_| _| ||__| |_|| |_||_||_|||_|||_|| _ |__ ||| _|| ||_|_| | _ ______ | _|_ _||||||||_||__|_|_ _|_|_|_ | |_|_|_||___|__|| | __|___ __||_    |_| _||| _ |__ _ | || _|||_|__||_|_ _||__|_|| |||_|||_______| __ |_  | __|__|  _||_|||_____| ___|||_|  |||  _| || __|| _|| || __|_||____ |__ |_ || |_ _|| ||||__ | ||_|__| _________|__|_||_|_||||  _||__|||_ |_|____ ||__| |   | | |_|||_   _____|||_ ||||||_  __||_|_|| _|   _  __|_ __ |__ _|__||||____ _|||_| |_||  ||_|| _|_ |__ |  __ |_||_|_|__||_|| _||   __||_|| _|||||||_|_ |_|_|_   ||_|__ || _|_||  _|_||||_||__|__| __  | __   __|_|___| _ __|__| ||_ |____||  _| ||   |_____|___||_|| | _|_ || |_____|| | ___   |_|_|__|__||||| ___|__ | _ _|_||__||  __ |__|_|_|__|______|||_|| _|  _| |   _|| _ | |_|__|  __| _||||____ _ | ||||||_ ||_||__||_ |____|__|||___|_|||___||__ _____  _ ||| |_|_|| |___ | ||_||__|| _||___|||_ __ ___ ____|_||_ |_||_|||| |_| _|__ _| __|  |_||_||_ _| ___ _|| _ _|_||_|__||___||_ |____|_|____|| |__||_|_||  |_ ||||| |__|||_||_______  ||_||||__ ||_|_||_|_|_ ____|__|__|_||_  ||||||||_ |__| ||___|_ ||_|| __||_____ __|___|| _  ____|| _____ _| |_ |_ |_ _|||||__  _| _  | _| ____ __|  ___ _||_|| | ||__ _||__ __ _||| ||_|_|_|_||| || _|_ |___||__| ||__|_||__ ||_ __|__|||||____| _ |  _| |_ ||  | __||__||  _| ||||_||  |__|| |_|_| |_ ___|_| || ___  | |__|_ __ ______||_| | _ _ |_|| |__|||___ _|_||_ || __|_|___ |_|  |    __| __ ____ ||_||_||  |||_| __| _||| |____|||__ |_|__|_|____ _||____||_ _||| |_|__   ____|__|__| _|_|_| _||_| _|_ ||_|| _____|| _ _|| |_  __ _ _|| |  |__ | _||_|| _____ |______ ||| || |_ |_| __ ____||_| |_||___|_|_||__||_|_| _|||||__|_|_| _| _ _| |_ _|__||||__|_|__ |_   _||__ |_|__|__||__  ||_ _||_|   ||| ___| _|_|_   _ | |_  ||   |_ | _||  _|____|||___ ||__ ____|____|__|_|_ _ _ |_|_ __||___|||| _|_ _| _|__|___ __||||_ |_|_| | ___||_||_|||_|_ _ _ _____|__|| _ ||||_  _|__  ||   __||_ _ ||__|___|  ||__  | _ _| ||__|||__ |___|| |_ _|_ |||||_|_|||_| |||_ || __|||_|_  _||||_||_ ||  |__||| _|||_______|||_|___||_ |_ |_|| |____|  _|___|_|| ___ _|__ ||_|||_ _ ______|_ _ _|||_|_|__||||__  _|| __|  |_|__|_ ||||_ |_||||_||_____ ___|_  | |_| __| || |_  _|| __|__| __|||||___||__ | _|_ |||||__|_|||_| __  |_____||_  _|||_  |__||_||___  ||| _ _|__ ||_|_|||__| _|_ _ |_  || _| | ||____ | | ____||| |  ||_ |||_ _|| __|___|_|_|_ |||___ __|||| _ ||_  _  ||   | ||__| __|_|_| _|_____|||__|_||| __| __|_| ||| _|___| _|_    _ ||_|_|| _|| _||_|___|________ _ | || _|||_ |__||||  __| |_ _| _|_| _|___ |__ ||||__|_ |__ _|||_|__| |___|_  __ _| _  _ ||||_ | _|_ _| |_ _ |||__||___|||||_ _|___||_|_| |_ _ _ |_|_|||_||____|_ | __|____ ||| _|_|  |||||_|_||||   _ _  _|_|_  _ |__|____ || | || ||||_| _|_||_ _ ||__|| _||__|_ |_||  _____| |_ __| ||||||||| __ _|  _||__|_ ___ _  _ __|||  _|____ || __|||| _ || |_| |_ _|_ |||__ ___|||| ___  |||| _____|__  ||___|  ___ ||_|___|_____ |___|_ |_ _||| _  _||____ ||||___|__ _||___|||||__|_|_ ||___|| |_||_|_  _| ___ __ _  _||_|___ ___|_||| _ |||||_| _ ||__ || _||_|_|___||_| ||__ |__|__|__ __  |___| _____ _||_  ____||__|_||_| _|_| _  _|_ |_|_ _ || |____ | ____||__|___||||_|_|__ _   _|_| ___||||| ___||_| __ _ |||_|||_|| ||||_|||_  |_ ||||_ _| |  __   ___|___|||_||  _||_ _ ||_|_ |___|_ || _||_|| ___||_| _|||_|| ||_______   | __|||___ || ___ _|__ _|__ | _|__   ||||_ ___ |_ ||_|___ __| _ |_ |___|||_|_ _|_|||_ ||  |_ __||___| |__ _  ||_ |__ |_|||_| _|____|_|_|||_|___|__|_|_|___|_|| ____|| |||_ _||| _|_ _  __ _|| __ ___ __ ___|__|  _|_  | |||_||_   |  _ |__  __| _|__|_ |_  ||| _| | ||_ |_ |  |__ __|||__|||___|_||_ ___ |___ __ || _||__ |__|_|| _||||__||_|||_|_|| _| ||_| ||___   |___ ____|_ |||_|__|||_|_|  _|| _ |||||||__|||| __||||_ __ |_||||  |_ _| |_|__|||| ___  |||_ ||_|_|__ | | _ __|____|||__||    _ ||_|___|  | ____|_|  _ |_ _||||_| |__| __|_______|||||__|____|_| _||___|| |_|| __ ____|||| _  |____| ||| _| ___ _ _____|_|_|_ |  ||  _ __  ||_||||_______|  |_ |_ |  ||| _| ___|| __||_ || |__|____|_|_____||_ |||_ ||_ | |_  ||_| ____ _|_|__||____| ||__||__ __ __|| |____|||||__ |  _|_ ||_ |||||||_|__ | __| |__| _ | |_ | _| | || _|_  ||_ _|| _|_ _|| _||__|||_|_ |__|__ |||_|_ | _||||| __|_ __|_||| || |__|||  ||__|_  |_||||_ |_|_|_ ||||__|___|| |||| _|__|_|_||______|__|__|  | _ |_||__|  |_|_|_|| | |||_||____|__ |__||_ __|____ _ __|__ _||__|___ ___|||__ |____|___|__ _  __ _|______  _| |_||__||_|_|| |  ||_||| __||_|||_|_|__ ||| __| _||_|_||_|_|_|__||___||  _| _ __||___|  ______  _| _| _||||_|_ |_____||_____|||_ | |__|| _|_ _||_|_|_____|| _ __|  |__|_|__||_ __||_| |_| __| ||__|_   _ __|| _| __||_|___|__ |_ _  | _|_|| __ ||| _|| _ | ____|___| | __| __|_||_|_|_|__|___ _||___|____|_||||__ |||_|__  _|__|||||| __ ___|_|_|_| |_|_ | |_|  _  ___|| _|_ _||_| _ _  ||_| __|_ ___| | |||_ _|_| __| _|| __|__|  _||||_ _| _|_  _|__|| ||__ _||_  __|_  |_|__ _   ||_ _____ |_|___|_ _||_|_________ _ |____|||_ __| _||||_| |||_|_|_| ||||||____||__||_ ||_  __| ___|___|_| ||| ||__|__||  _|__|_|||__ |_|_||_ | |||__|_||_|_| _ |_||____ |_____|||_|_| ______|_|||_|||__  |_ ||_| |_|| _|||_ |||__|| _____|______| ___|_|| ||___||||__| _||| __|_| |____||____ __ | |__ | ||_ |_  _ _|| _||_|||  ____||_| _||||||_|   ||_|___| |||_ || | ____|__|_ _ _||__  | |_| _||_|||_|_ _|| ___|||   _  | _|| ||_ _|| __  _|||__ |__|_ | _|| _|_ | __ |__  __| _|____ _|_||_ ||__ _||_|  _||_|_ ____|| _ |_|_||||_ |_||__||__||_||||_ ___||_ |_ |___ _|___||| _|_|    |___| ||__|_____||__||_|||||_ |_  |||_ | ||_ __ |_____|_  ___|||_||__|_ ___ _ | _ __|_||| _|_| |__ |__|_|| __||__||__|||_|___|| _||__ |__|_   | |||__||_|  _| |__ __|_||____|_|___|__ _  _||__|___ |_ _|_|_|__|____|_|_ |__|_| __| _ ||_|_|_ ||_|||||||||||||| _| |_|_   |__| |  | _| || |_|   __| _  ___|  |____ | | _|__|_|    ||___  ____ ||_|  ||__|__ _| |__|__||| __|_ |  _||_  _||___| |_____|| |___|_ | ||_|_ |      _||  ||_ _|__|  __||||_|| |___ |__||| _|___||_|_|__ __|_||  |  || |_||__ ||__ __|| _ _ |_  _ _|_|||||  ||||__|__ |__|_ _| _|||  __| |||_| _|___|||| _ _||_|| |__| ||_| | |_   |||| | || __| |||| |_ __|||____||_|_   |___|____|_| |_|_|_ _|_||_||__|__|||_ __|||||| __ |_|_ ||__|_ ___|_ ||| _ ___||__|__|||___  _||_|_|||||__|_|| |||_|_ |__||||_||||_ _|||||||__|||||  |_|___|_||    _|  _ | _|_ |_||_____||  |||__ _|_||_|||||_  _|    | ||_|||__|_____|__ ||_||_ _ _|_ |  |_ |_||_||_ _|||| | | _  _  |_|_   ||||__|_|||   ______ |_|_____ |__|__ |||___ _|_|_||_  ____|____ ||__|_|_|_|_  __ |____|_| |_ _   || _||_| |___|__|_|_  _|__|_|_|||||_|_|_| ||_| | _|__   _ _ __|__  |__|_|_||___| _ |||  ||_ ||||_ ____ |__ | |_ _| |__|____ |_  ||__ _||_|| ||_|__ ___|  _||||_|___||_    ||| _||_|___|_|_|| __ || |||_ __ _|__ _|_ __ |__   ||__|_|_| | |||||| _ |_|__||||_ | ___|___||__|||||_  || _|_|___|||||   |__|_|_|||| |||| || __ || |_||_|_|_|_||____||__|___|||_|||_|____||_ _||___|| ______|  _|||   __ _|__ ||_|||||_| _| __|_|_|_____ _ |  | |||_||__||_| ______  |__||__ ||_|______|_|___|_|||_  |_ |_| |_||__||_|_ ||____  | ||_ _||||_| _|__ _ _| ||| || |___||||||||__ |_| | _| __|__|| _|_  _|_||_|_ _|   ____|__ |||_|___|__ |_ __|_  |__||_  _ _ _|_|||_|__|_|||||||__  _||_||_||_|||||  |||___|_ ||  |  ___|||___|||_||| |__|_|||||||___||||_|| ||_|||||||__|_|_||||||_||_|||| _ ||_ ||__|_|||_ ______ __|__|_| |   __| _  _|_||_  | |_|___|  _ |  _|_||_|  |_ |__|_ ||_|______ ||||_|__||||_ _||__|_  | |||____ |_|__|| _||__|_ |||| || _  __||___||__  ||____|_|| |_ _| |_|||___|____||  _| || _||_ | ____ _|| ||_|___|__|_____|   |_||__ |___| _|| |__|__|_|_|||||___|_| _|| _| __|_||| _ |___  |___|_|||||||_|_  |_| |__|_|_ ||_|__||___|_|_|_ |__|_____   _|_||_||| |__||||_ _||____|||_ |  |_ _|| _|__ _|  __||_| _|_ |_||_|  ____|||  ||||||| ___ __|_| |_|_| |__|_|||_  __| | _ | |  _ _||__| ____ _ ||_|__| __ _||||| |_   _|_|_||_ _| |_||_|_|| __ _  _|__| _| | |__ _ | __ _||__|_| ___||||_|_|||__ ____|_  ___|_||_  _| _|||_ || |_||||_|||| __ __ _ _|__|  | | _||_| ____ ||| _ _|||_||__ | |_  __|_ |||_||||_ |__||_||||_|_ _ _ ||_||____ |_ | ||_|_ _ |__ ___||_||_|_|__|_ ____||____|| __|||||||_|_|___|___|_ _|___ |_|_|__| _ |_ __|_|__|_||_||||__| |_ |__|| |||_ ||||___ __  | _|| |_ | |___|_||_|___||__|_____|_|_|||_|| _ _| |_||| |__||| |||||___ _||_|_|_ ||||_ _|| _  ___|__||_ _  _|_ ||| __|_     __  _|__||_|||__||__||||||| | |_||||| ___| |    ||___||__ _|_|_|___| |____ _ _|||_||_||_ |_| __||||| || | _|||||_|_ |_ |_ _ __ |_|  |||  __|_|____| |__|_||__|_|_||_|__||_| | ___|_|_  __  |_|| |_|__|| _  __|||_||_ _ ||____| _|__ _||_  |__|_ |||__||| |||_|__||_|__ __   ||_|_| | | __|_|_ |__| __|_|____|_ _||_|||__||_||_| ||___||_||||_______ __  |||__|||||__|_ ||_|__ __|__|__ |_|_|_| _| |__ ___ ||__||||||_ _ ||||__||||___ _||_| _|__|_ _   _|_ ||_|_|_|___"
     ]
    },
    {
     "name": "stdout",
     "output_type": "stream",
     "text": [
      "|_|||||||||_|_ |  _|__|__   __| |____|||| _||||__ ||_|| |__||| _  _  ||| _|_|___   |__|||_| | |||_|_  ||_____||  _||_|_   ______|_|  __|__   |_| |_|_|||| |_ | _  ||| _|_| _| | ____||_|_ __|| __|_| ||||||__||_|| _ ||__ __ |__    | |_ ___ _|__|||_|_| |_|_||_||_|___|| | _||||_|||_|___|| _|| |__|  |_||_|_ _||_||_||||||_| |___|_ |||___|| |____|__| | _ _ _||_ _| _  |||_|_||____ |__ ___|  | ||_|_|_ _||_|_||_ | |||_| _|  ||  ||__ __|||_| __||____ __| ||_|__ |_ ||_|__|_|_|| _ _ |___|___ ||_| |____|_ |__ |___||| ||| |__| | _||| | || _|_| _|___ |||__|_|_ |_|__ ||_ |_|_ _|__ |_|_ |||| _|_|_|_|_| | |_|||| |||_|| _||_ _|||| _ _ _|  |___|| ___ |_|_ ||_|||_  || ____ _ _|__||||_|_|  _||| ___ __||||_|__ _ ___|_ _|_||||__| _ |____|_ |__ ___| ___|||___| __||__|| _|__|_  ||_|||||_| |_||_||_|| ______|_ ||_ ||___||_||_ |_  |_|_|____|_   __|__| |_|_|__|_| | _||||_||_| __|_|_ _|_|__|_   |||||||_|||__|| _ | _  __  ___ |__ _ _|______|| _||___|_|  |__|_|_|   __| ____|_ || | |_|___ _ _|_|______|_ | |_|_|_||||  _||||_|__|__|___|____  ||__|_|||__|__|  |||||__|__|__|_|||_|| __|__|_|_||_||_| _  _|  __|__ __||_||__ |||  ||| |__|_||_|_ _  | _|  |___|_| |_|_ ||_||_|  || |__|_____|_|__|||_| |___|_ ||_|_||||___|_||_|_||_ | |_   |||| ___|_ ___ | ||__||_||_||||||  | __ |_||__  _||_|  |  _|   ||  _ _|||_ ___|_||||| _ |____ _|_ |__| __|__|__||_|_ _ __|____  |||_|_|__ |_|||| _ |||_||__||  _|_|_||__|_|_ _|___|___ ___|__|| _|_|||__ ||| _||__|____ _|___|_||_| _|_| __|____||  ___ |___|_|__|_|  ||__|__ _______|_||___ _  _|| __| ||_|_|  |||||_| _||_ __|__ ___|||  |_ |||_|_  || _ |||||_||_|__|||_|| __ |_|_||||| _  _|___|_|_|| __ __  ___|_|_ __||_||_ __|__|_||_||| |||||||__| |_ _|_ | ___||__||||||_||_| _|__|_|| | ||_|   | | |||___ |__|||_ _|||||||_______|__| _____  _ _|| ___| _ |_____  |_|  |__|_ _|| __|  |__ _||___||__|__|| ||__||||__|__||_ _ __|__|  ___|| _|_ |_ _||_|| | |||__  ___|_|_|_|| |___|__| |_||__  __ |_|_||___|_ |_ |_  | | _|___|_|_  _|_| __|_ _||__|___||_||_ |||_| _ _   |||__  __||  ___ |____|||||___ ____|||___||| ___|_ |__ |____ __|_||_|||| _ _||||__ ||| | ____||_|_||__||__||||| _ _ |||||_|__||| | | |_ __|||| ___||___||___||| |___||_|_ _||_||_ | _____||____|_ ___ ||_||  ||  ||_| _||| _||_ | |____ |__  |_| _|_ _ |_|||_ |___||_||||__|  || | __||_|||||_ |__|||_ _|__|__ ___ |__|__||_|||__| ||| _||_|__    __|  ___|| |_|_|_ _ |_|_ |_|_|___| _ _|||__|_| |__|_|_   __|  _| |_|__||| _|_||||||_| ||_|| |  |||_| __|__|____|_   |_|||_ | ___|||||_|||__| _||_| _|_|_|_ ||_|||||_ ___ || |_|_ |||_|  ___ _| _|__ |_ _|___ |||__| |_|_ |_|  |_||_|||__| _ __||| |_|__|_| | _| __|| | | _||||||| ||_|_  _|____| |__|||__ __|___||| | _||_| ||_|__|_|||___|_|| |_|____|||__ |_|_|__  __|___|_| |_ _|_|___|__|__  __|_ ___| ||_||_||_||___||___ | | _|||_ _ _|__|  _ _|_|_  _|__|_____|_|_|||||_| __|_| || ||| |_ |_ _|||_|_|   | _||__|||   __|_   _|_ |__ | ||   __|||__|____|_|_|| |_ __||__|_||_| __| |__||_|_   __ _  ___ |_ __|_ ___ ||_________|_|__|| |||| |_|   _| _|| |_||____|___|||___|_ |_ |__| ___ | __| ||_||__||_|| _ ____| _ |  _ | | ||_||__|_| _| _|| |_ __  _  |__| | ||_ __|||__  |_|_|__|||| ___|_______ _|_|| __ |__  _|  ||||__||_||__  |__||_  __|____|  _||__|| | |||__|| _____|_|||_|_|_ __ ___|||| _ ||__||___|||||_||___|_||_| | ___||_ _ |__|| __  _  ||  __|_|||_ || _|||_ _  |_|_|||_ ||  |_|___||| |   __|_|_|__ || _ __ _ |_  |||||__ | | |_| ||| _ _|___|_||___|_|||| _ _|| __||_  | ||||||___|_ ___ ||_|| ____|___|_||___|  __|||| ||____||  __|||||||_||| |__| |__| __||_||_|__  |__ ____| ____||_||___|_|||_|_| |_||__  _|______||| ___||_____|_ |||| ____||_||_|_|_ |||||||_|| _ |___|__ |  |_ ||| |__|||  __||_|__|__|||| ||||__|_||_|| _| | |__ ____|_||__| __ _|_|__ ||_ _ |____ _||_ __  |_| _____| __| _|_||__ __||_|___| |__ _|____||_||||||_|||||_ __||  _|||||__||_|||||__||_ ___| _|_ ||||_ _| _||_||_|__| |||_|__|  _|_||______ _ _||| |||| ||_|____| ______||__|||_|_|____ _|_|_|____ |||___|| _|_|||_|_|___ ____||_||_|_||_||_|_||_||| |_||_ | __|||| _ ||_  _| |_||_|||_  _||_ _|__|__  |__|__|_ __|_|||___| |_ _|_ ||_|_|||  _|_ _ _ |_||_  |_ ||_|__|_|||_ |_| |__|_||__|_ _|__|  _|_ ||_ |_| ______| ||_| ||_|_ _____|__ |_|_|||_ ||| __| _ _ _____|_   _  _ |___|_|  _| __|__||_|_ _ ___|___||| |_|_ _ _|_|||  |_| __|||__|_|||_|__|_|__||____  _|_  ____   |_||_|__||||| || __ |_ _||____| ____ | __|| _____ ___|||||__|||||_ ____|_|||||__    _ | _ _|  || _|_||__|__|||__  __||_|_|_| __||||__|| ||  _|____ _ | | __|||__ _ _______||_|_| ___ _ |_ ||__ _| | _ _   __   | |__ __|___||_|| _ ||___| __ |____||_||__|||_ |_|||_ __|_||||_  |__|||_ |_||_|__| ___|  || |___||__ |   ||___  |_ __| || _| | ||_|| _|| |_ ||__||__|_|||_| ||__|_| | ||||__||_  _| |__ _ _|  | _ _ ||_  |____|_|_||_|_| _ ||__ ||_|___|___||____|_||___||_| |_|__| ____||_|__  |   || | __  _|||_ _| _| ______|_||__||  || _ __|__||__ |_ __  _|_| _||___| _| ||__|_|_||||__| ___| | _ _| | _ | |_|  |_ |___|||___|||_|_|__|__    |_|||____||| |_  |_ ___|_|_| __ __|___|| _|____ _|__| ||__|| | | _||__| __|||||_|__ _||||_|| || _||   |____ _|____|||| ||_| _|__ __|_|_|_|||_|||_  _||| |__||_|_|___|_____||______| ||_|__|_| ||_ |___ | ||| |_|__  _| _||_ |_|__| _|_|| _| ||_|__|||  ||| _|| |__|||__ | ||___ _|_||_|__ |___||  _||_|_|_| __   __ | _   _||_|_| |_ __ | __ _ | _  | __|__||___| _|____|____|_    __|_ _|_| |_____ |_||||||| __||| |_ |||||__||||_| ____|| _||||_|___|| __|  __|||_ | | ___|||___| ||_||__  _| ___|| ____ ____ _| _| _|_ _ _|| |__ ___| __ _|__||__ ||_ __||| |_____|_ || ||__ __ ||||| _ ||___|||___||_  __||_||||_| |_|______ | | |_  __||| __ |_ _____|__ |__| __ __  __ |||__||||_|| _||_|_|___| |____||_ |||_ | _|| _   | ||_|_ ||__| _|| __ |_|_ _ ||__| _|||__|____|_||_|  | __|||_ _ || ||||_||__| _ _|_| __||____ |||_|_|_|||_||   ||  _|_|||__|||| |||_|_|_|| |_|| |__|   _|___||_||_||| _|_ __|_ |_|||_  |_|__ _|_ _ | ||| |_ |_ _| || _|||__| _ ||__|_|_| _|_|__| _||_  __ |____|_ _||_|_ ||||__ |__|_  ||___|| |||| _|_ _ |_||  |_|_||_|__ _|_|_______||||_ |_|_||| __|||_ | __ |__|_||___ | ______ ||_ |  _  | | |__ _|_| | ___   |_||_|||_ _ _|_|_|||_| _|  _| |_| _|_  || |__| _ |||_____ ___ |__ _ _|  |_ ||__|__|| ||||___ |_|||___|__|__||__|__|||||__|||_____| || __ |____| _|____  |___|__ _____ |__|_ _|| ||_||_ | _|  _|  _|_  _|| |___||__|||  ___|__|||__|_|_|_||___|_ | _| __|_ ||  | _|_  __ |_ |__ |_____|_|||_ _|__|_|  || ___|_||||| |__| ||   _|_|||   ||||  __||__|__|____  _|| __||| ||_|___|_____||| |_|||_ ||___|_ _  | | __ _||__|_|_||__ _ ___|__|_|_|_ ||____|_|_|| __  _||| ||___||_ __|___|__  _|__ |____| _||||__| ||__|_ _| _ __ |_ |||||_||_     ___|__| |_|| _ __ |_|__|_|_| ||_||__ ______ _| _ ||_ |__| ||______ __ ||||| | |  ||_| |||__| | |_ |||   | |_|||_||| ||_|| _|_   |_ ||| |__||_| __|_|___|_||||__ | |  |_|| |_ _ |_ _|_ ||_ __ |_____||_ | _ _ _ |||_ _|| |_|| |_|| |  __|||__|| _|_||___ _ _|__||__||__ ||||||| ||| _| ||__|__| _ _ ||_|||__| ___|_  |_|____|| ||_|||| |_|_ |__||_ |_|||__||__|_|___|__ | | ____|__|||| _____|  |||_ __|  _|||| _|||__||  |_|___ || |||_ _|___|_ _ _ _| |_ _ ||||__|||__||___ | _|||__||_ ___|  _____|___|_ ___ _| _  | _|_ _| |___ || ||||_| | _|_|__|_||_||___|___ ___ ||  | ___|__|| _  | _ |__||| |_____||| _  |_____|  _||_|||___ __|||_|___|_|||_ __|___ |||||||_| | |_|||||__ ____| _ | | |||_| |_| _| ||__||  || | _ __ _|__ ||   _|||_ |__|||__| |__ _ _| ____ __ |||_| |_ ____||_  ||__   _| ______  |__ |_ ____|_||___||||||_| |||__||| |_||||__ |____||  || ___ | ||_______|||_|____|_ _|||_|||_|_|_|___|||__ ||| _ _| |  _| |_| |__ __|_||| ||   __ | _|__ |||_ |||| _|_ _____| |||_____|_|| | ___|_  _||||| | | __ ||__ |||||||_ |_ ||| |____ | _ _ |__ _|||| ||| _|||_ _ || _ _  _ |__||| ___|___|__ ||_ _____|||||||||_____  __| _____ |_|_  ||_ |_ |_|_|_   _|___| _|| ||__|_|___ _|_|| _   |_|_____| _|__|  ||__||_|_| _ __| |_____ ||___||||| __|__||||_||||_ _|_| _|||_  _|_ _ _ ___|_ _ _| || _||   | _|_|__|| |___||_|_|| __||___ _  _||_|_| |_|____|____|_||_ |_||||_||_ |__| ||__  _|_ __|_|_||||_|||||| __| _| ___||___ ___| ||_ |_ _||_| _|_  |  _|___| |____ ||__|||_____ _| |_ ||_||||| |||| ___||_ |______|| __  | _|_|__|| _|||_| | _|_ _||__|||__|_|_|_ |  ||_ |  ||__| ___ ___||||| || ||_____|| _____|_ |_____ || ||_|_ |_|_ |_|| _   |||_ _||||_| _ _||_|| __| | __|  |_|__|_|_ _||  | | _ |||__ | _||____||_|_||  ____ __|__ || |_|___|||  _|||_|| _ _|  ___|__ |____|_____|__ _|_||___| _____|_|     ____||__| ||| _ ___||_|  _|_|| _||_||_|_ |__ |_|__ ||_|____  |_ | _||_ |__| |__| |||_|_|_|_| _|_ ||__ __|_||  _| _|__||__| _ | ||_| _| _||||__|_|  ||||_ ________  _  |__|_||||__||_|||__|||||| __|_||_|||______|_ ___|_|| |_ |||_|____  ___| ||||  ___ _ |___|_|_____| |||   _|||__ |||_|| _| ||||___|_|||_|_|____|| __|| |__||_ |_||___| _||_  |_  _  __| _|_|_|_ |_|| |__||_||__|__|||_  |||_||||___||__ ||| |__|| _|  _ _||| |___||_|_|| |__|_||__|__ |     |||____|___|___ ____|_  _| |_|__|__||||| ___ _||_ |___ __| ||||_||   _|| _|_ _ |__ _|___||_  |||_|||| || ____ ___||||_||__ _ | || ____| ||||__||_|_____________||| || | | |||__|__|_||_||_||| _|_| |_  _ _  ||___ ||| |||_||_|_|__ _|  ______ |_ _||  __ |__ _|__ __||___||_ |__   ____|____|||__ |____ |__ || ______|___ |||_||_|_|__ |_|_|_ _|_||_ | _||   _ _ __  || ___  _|_| | ||_|||||__|  |_|||_  _ |||_  __|||__|||| _ _| __| __|_|_|||___|| _ ||_|| _ _|_ _   __|_ ____ | ||__|| _  ||____ ___ | ___|_____|_|_| |_||__| |  |_||__ ||_ __   ____||||_ |__| __ ||_|| _|____|_ __|_||||_ | | __||_|_|  _|_ _ _||_||_|_| ||__||  _|_||  |_|||____ _|__||_| _||_||__|||| || ||_| | __|__ ___ |||_||_| |_||_ __|_|||||__|_|||||___   ___|__ _| _|__ ||_|_| |__ |||____|"
     ]
    },
    {
     "name": "stdout",
     "output_type": "stream",
     "text": [
      "|___ _ ||__||_ | _ __ |__|_|_| ||| ||__ __|  __|_ ___ || ||  || ____ |__ | _|_|| |_|_||_|_||____ |||___|| ||||__|__| _|___|_|_| __ _|_| _|||||_ |_| |__|___ |  |_|_| ||||__|_||__||||| |__|__|___|_ _|   _|__ _|__|___||| ___ _|__|__|   _|_  ||| || _||_|||_  _|_|_|__  | ||_||__|_ || _   __||_ |_ |__||__|__|||_ _|__|_|___|_|_ _|_| _| | __|_ _|  __|__||| _||||_____|_|| | _|_|| __|  _ __||___  ||| |  __|| | |_  |__  _||___ |||||| __| _ | ||||_____|_| _| _| ___|_| ||| _||| _______ |___|__||||||__|__||__||____||_||||_||_| ____  __|  ||||_|__    ||__ || _|_|||  |||_|___ |___||__  _||_|___ _ _ |_|||__  |__ | _ ___|__|_ | __|_| _||__  || _|_|||__|||| |||_|  | __  _|_|_ ||_|___ __| || _||_|____||__| ||_|  |||_ _ _|| ||_ _ | ||||||||_ || ||__ __ __ |__ |||__  |_||____|__| _|_|| |_ |_ |__| |_||_________|   |_|__|| _  _  ||_|| __|||||_ ||____|| __|||||||__||||| __||___|_ ___||_ _ _|__|__ _|||||| ||_|_  _|  _|||_|_| |_||__||_  | _ |_|||  ||__   _ _|||____||_ _|| __|____ __||||  |_||    ||| __|__||||    _|__|_||| |||_| |__||_ |_|||| |||_| || _| ||___|  _ _ _|_||_||| _||| _||__|||_ __|| __|__|_|_ |  |||| |_||_||__||_|| || _   __|__|__|_ |_|__|__ _ __|__  ||_ __|_ _ _||_|___| |_||__||_| __ |__ ||_ |   |___|__ _||| _ _||||___| ||_ |_|_| |__ ||_||  |_||____ |__|____||  _ _|__ | |__  _ | __ |__|__|_|_|_|| ||__ ____|||_||_|___ _|_||||_| ___||||_|_||_  _ __||_| ||_|____ __|_|__   _| |||||||| _____|_||_|__|||_|_| |__|_|_|||___ _| |  ___ __||___ | ____|_|| | || __ |||| | | ___| | _|_|  |||__ __||_|_ |_|||__|_  _ | __||_| || |__|| __| _ _  _||||_| | | |  _|| __|_|  __| | __||||___|||__|___ ___||__ _| | |__ | ||_||_  _||_||   _||_ | ||__||_| _ _||_||__||__||_|_|_|||| |___ _||___|||_| _||||__|||__|_|_ ____|_____ |__||| |_|||| ||||___||_ |_ __|______|_| _|_||__ __|_||__| ||  _|__||__||||_  _|_||| | _|__|| |_|_ ||____|____ ||||_|__ ||_|| ____|_ _ ____|| |||__|  ||_||||||__ ||_|_||_|| ||___  ___||__ _  |_ _|_| ||___| ___| | ||| _ | |  ||__||| | _ _|__ ||_ |||_ __|__|__|___| __| __||  __||_ |__||_|||_ ___||_ |||__ | | _|__|_ _| |||_|_| _|___| | | | ___|_  _|| | |_ _|_||| _|_|___|| | |___ _| |____|| _ | _|_ | |__||__|_| |___ |||  |_ __||__|||_|_| |__|||| |_ _|__ ||__ ||__||__|_ |___||||_|_  __|_|_|| __|_||  ___ |_| _  | _||| _|_|_|___ |  ||| __| |_ |||||__| |____||_ || __||_|__|_ __ _ _  |||_|__||| __|||____|__ | ___|____ |_|  |_ _||||_ |_||_ _| _ ___|_ _|_| ||_|_||_ |__||  |   ___|__||  |__ | _| |_| ___|_||| | |__| _|_  |_ _ __|  ||_| __ ||||____||_| _  || __|||__|__|__|_||_||_|||_|___ _||| __|___|||__||||_| |_ _ _____|  |__|  |_ || | |_|||||| |||  __||_  _|_||_|| _||  _  _ |||_|__|||_|_ |_______  _____| __|_|_ ||__| ____| _ _|_ __  |||_||||__|||__  |_|_|_ _|_|_  _| || _| || |_||_||||||_ ||_  _|_||_ ||||_ _|__ |______||__|||_| | _| ||||| |  __|_ ||| |_|_|||__ _ _|   |||  _|  |||| _ ||  _|___ |_ _ ||__| |__ |_ __   _|_||_| ||__|_|__ ____ | _ |||| __ |__ |__ _|_|_|||___| ||_|_|| _  __| |_|_ |__ |_|| __||_ _______ || ||  _ | |  ____||_  _ _  |_ |_|_ _ __|_____|||_ _ _ |_|||_|_ |_|___ ____|____|_ |||_|_|| _|||_  ||_|  || | |_|_   ____||  __ _  _||_|  | | __|_||___|_||__  _     |_||  _|___|| |||| |_|  ___ |||| _|_||||_ _ __|||_||  ||||_||||_|_|__|_|__|_  _____|_|_ _|_|__||_|||| ___|_|__ |_|_|||||_|| _||_||_|_ _|__ ||||||_____|  |||| __|_| __||_ |  |_|||_||__|__|| _ _ _ | _ ___|_||____ | ___ _| _ _|___||||_|___||_____ __| __||| ||_|__ ____||||__|| _|__||___ _|||| _| ||_| _||___|_|__ __|_ _|||  _| _|__||_|__  ____ _ _|||_ |__ |  ||_|||||__| _ |_||_ _||_| ||_||_  |__||_ ||__ |__||_ __ ||_ _||  |||_ ||_|_ ||||||_||_||| _ _||_    _|_| __|||___|_|_||_||  ___|||_ || |_|_|| _ |__||_|| _|__| |  _     _||___ _| _|__|||___|_||_||| _ ||_|_|__||_|__|  |_|||__ | _ |_||  ||_ _ _|_| _  ____|||||__|_|_|______|  _||__||   __   |_ | | ||  || ___|_   |||_  |_|||_| _| _ _|_|| _ |__|_|___|_|_| _ ___ || |___||_ ____|___ ||| |||_|___|_  |_|_ _ |||_ _ |_ __||_||_|_|_| _  __ _||__ ||||_| _|||__|_ _|  |_| | __|_|| ||||||__|_ | _ |||___|| ___ _ _|____|| _|___|____||__ ||__|_|||_ ___ _ _ _  _ _|  ||||     | ||||_|||_ _||_||___|_ _  ||_||_    | ||_|||_|_|__|  | _ |||_||___ __||__    __ __ |||  _____|||_||||_| |  || _|_____|   _|_ || _||__ |_|__|| |_ | _ || | __ ||___||_|| _|_______ ||_|  |__ _| |_ _|_ |__|   | _| |__ |_ ___| _  |__ __|_|__ |_|__| |__| _ ||_____ |_ ||| |_|_|_ ||  | ||___|||__|_|_ _  | _ |_ | _||  __||___|_    |_ | ||_||_|||_ __| ||_  |___||| |||_|_  _|______   |||___|  _ _|||_|__ |__|_ || __ |__|_ | _  ____|_| |___ _||_____ |  __|_|_ ____| _ _____   |||_|_ |  _ __|_|__  |_|| ||__ ____|__|||_ ||_| |_ |   _ _||  _| ||  ||_||  |____| || ||_||_  _  _|| _ ___|_||| |_ |  __|_|||___ |||___ _|__ | |__||_ ||___|| |_||___| |_|___||_|||__|__ _|_|__ |__ _|||_  _|_|| __| ||_|__||_ _||__ __| __ |__|__||_||||_|____  | || _ ||_ | _|| _ ___ |_|__|__|_|||_| _ |_|____|_ || ___|_|_ |_|_||__|__|___|_||_ |___| _|||_|_|_ |___|__|_||| |___|||| | |||  |_|___|| |_ |_|| ______|||_|||||   ___ ||| _|| |_|  __ |_| _|_||| ||____ _  _ |_| |||_|__|_||||___|| ____|| ___|||   ___|___||__||||||||_|| ||||__||_ || | |__||||| |_|___| _ _|| _____||__|__ _  |_|  ___|  ___ __|_| _   |_| | _ _|||_||_|_|  ||_||||||| |_    _ ||_    ______ |__|____ _ |  _ || _|_|__| _ ___|_|__||||_ ||_ __ |    |_ |_||_| _| __ ___ |_|_|_ ___ |_ ||| || _|||| ||||_|__| _ _ _____|| | ________||_ _ _||_ |____|  ___ |___|| |_  |____||_| |||_||||||_ |_  _|_|||_ _|| _ |_||| |__  __ _|_|__  | ||_|__| |__ _|| _| |_||__|__ |_|__|   _   _|||_| __|||||||_|__|_|___| | _  __|||_|||||||_| |_||| |_|||   __|_  _ __ __ |__| | __ _|__|__ |_ __| __||__| | ||||_|||___|_|_||_|__|_|___|| ___|__||__ |_||__||||||||__|___|_|_|  __  _||___|_||__ __||  _| _|___||_|| __||  ||__ |_| _________|| _||_ _||__| |||_|  ___|_ | || _ | |_ _|__|| |__ _|| __ |_|_  _|_|_ ____|| ||____|__|_  | ___ |__| | | _|_   ___ | |_  ||_|_||__ ____| _|__| |_ __||| |_  _ || __| |_____||___| __  |__|  _|_|__ || ||__|||__|_|_|_||||  |____ ||_|__|_ __|||_ | |  || __||_|||||  |||_  ||___|_ |  __|__  ||||_____ |||_ |__|__ |__ _|_|_||_ ||__| _ _|  _  |||___| __|||_| |_| |_ ___||__| ___|_| _|_|_ |||_| ____|_| __|  |_|  |_||__||  _||____ ||_ _|||_ ___ _ |__||__  |__||__||||_||_|___|||_ _ |||_||__|__|||_ _|||_ | |_|__||||_|__|||__|___  _|_|_  || |__||  ||__ __||_|||||_|_ __||||   | |_|_  | ||___ ||__||__|_|__|||___|__|| _|_____  |||_    _|| _  ||||||_  ___|_||||__| | ||__||_|_|_||_|__|_ __ __ |||_ _|||_|_||__ ||_ _|_____|____| || _|__|||_  ||  | ||| |_|| _|||_||_ ||_ ||||_|| __| |__|||_ | _____|__||| _| ___|__ _||_| ____|__| | |__|_||__| |__  __ |_|_|____||____|_|  _ __ || |_||||_| |_ __  _||_|||  |_| _||  _ __||___| || |||__|||||| __|__ |_|___|||__|__|__||__|| _||__|___ ___| ___|      |____ || _|_|_ _____ _| _| |___|__|_| __|_ |_| _||| _||___|_ ||_ _ ||| __|| __ ___|||____||||||____| _|__|_|__||_ _ _____||_ _|   |_ |_| _||_____||_    _ || | __|_ __| __| |__ _______|_|| __|__ __  |_| _|_|__||| |_|_||||_|_|__|_| |____||| |__||___||||_ _|| _| ||_ |_|_ ||||||  ||| |_ | ||___|_ ||_|| _||_|_|__ |_|_ |__|____|_ _|_ _ __ _____ |__|_|_|||_|___ _||_ _||___  _ _ ____| |||_ _ ||__ __||_ || |||||_ ___|__|_____|||__|_|  ____||  |____ |_|  |||_ _| _|_|_|||_|__||||  _|_|_|_| _|__||_|||_____|| _ | _| _ |_ _|_|_ ||||||_|_  _||   _|_| || |___ | _ __  _|_|| _|___ |_|| ____|__ ___ | |  _ ||  |____||  |_||||_||_|_| _||| __| || | _|__|||_| _|____ __ | |   _|_| |_||  ||_ ||_|||__|_| | ||_ |__ ||   _|_ _|_||||_ |||||__|__|_|_|_|_ _||| |__|  ||_|||| _|___|_| _|_|||_|||___|||_||| |_ _|_|_||_ __ ||||| __|_| |_|_ ||_||_|_||||   |||__| _ _ | |_||_|||_||__||   |_|||||_|__|_|_||| _ _ ___||_|_ _____ ____|__||||_ _||  ||||||___|__ ||| ||_|__  | ||__|___|__| _   _  ||_|_____|| _|_|| |||    _____ _ __| | __ __| |_ ___|| _|____|__||__|_||| ||_||_ |  |_||__|__ | |_|||||_|||_ | _||_|_|||   ||_  ____|||| _|_|||___  _ ___| _| |_|___ ||  _|___ _|  _ |_ |_|| || _||| _  |__|||_||__ |_ _  | _|______||_ ___ ___ ||| __|______|_|_| ||||__|  _ _ __|__||_ __ |  |  |_|_|__|||||_|| _||_|_|_ |_ | _ |_ | _||| |   | _ |____|||| |_|| |__|__| _||____   _   |_| ||_ __ __ __  _ _||||__|__ _  |_| | |_ |______|_|| | _  _  |___  ___ |_|__ ||__|_|_| ||||||_ |___| |||_ |_||_||||_____|___|_ _ | |_|_||    _ _|__ __ |__|||_ ||__|_|_||___| __ || ||__|_ || _| __| _| __ _||__| _||| |_|_|_|||| |__ _| ___ |__|_|_|_ ||__ _ _ ||____  |__ ||__|_||   _||_   |_|||_ _ _|_|_|_   |______| __ _|_|| ___|__| | ||_||____|| | __ __ |_| __ ||_| __|____ __||| | _| _| |__ __|_||| || |||_|__||||| | _ ||||||___|__||| |___|__||||__||_ _|_| |_||_|||_||____| __|_|_ ||_|__||||_| _| _____|__   | ___ ____ | |_ |||_||____|__||___|||| __ _ _ _ |||| __|||__|||_| ____|_||_| | |__  _|| _| ||__||  |||___||| | _||_||| |_||___||| _|_ _||__ __ |__||||___||__|__   |||_ |_ |  __| ||__| |__||||  | _  |_|__ ||____||_ _   ___ __ ||||__| |_||_ ||_ ____||__|||| | |___|___ _ |||     ||||| |_ __ |_ ||__|__ |   _ | _______ _||_| _|||_|||| _| |_| | ||__ |___ | _|__ || | _|_|_ | _|_|| __| |_ ||||||_|  |_|| |||__|___|_| _||_| _||_|_ |_|_ _ _|_|_|||_| _ |_| | _|_| ____|   |___| _ _||___|__||__ __|_ || _ |______  _ _|_||_||__ | |__|| | |||_|__ __|_|____||_|__ |___| |_  _|_|_|_ |_| ||||__||__ |___ __ _|||| _ _   |_|| |___  _ |_ __|| |||_|_____  ||_|  ||||_____|__||__ __ _||||| | ____|_||__|   ||||_ ___ ||||| _ || |_  _|_||____ |__ |___|_ || _||__||||||_|_ ||_| ||_|_  __|_ ___|__||_|__ |_| |___||_|___||__  ||| _|_ _|| |_|_|||||||_ _|||| _||||  __|_| |_  |_____|_ __|| |_|__|_| _| | __|_|___| _ |||_|||_|__||  ___|_|_||| |||_|__|_ _ __ |_|__| _|__ ____ _ _||||_ _|  _|__||_| __|_ _| |__|__|___ ___| ||_|_|_ __||_|| __ _|__||_|| |_||__|||__ _| _  _|__|____| _ _|| |  _||_ |  |  _| _||||_||___ ___| |__| | _|   _||||_| __ _ | _ _|_ |__||_____|__||_|__||_| | | |_  __|||||_|_||||_ ||___| _||"
     ]
    },
    {
     "name": "stdout",
     "output_type": "stream",
     "text": [
      "_||||__| _|_||||  __ ||_ _ _|||_|___|||_|_|___ ||_ _||__||||_| | _  _|_|__|_ __|___||__|___|_||||   _   _|____|_|__|| _||_|_||| __|_||_|_   | __ | || |_ _ __| ____|_ _ |__ _ ____|| |_ _|_  | _|| _|||__ | _ ||__||_|_|||_  __|||_ |_  __||_|_|||_||___|__||_|| |_|_| |__||___ |___  _|||_____| | || _|  | | _|_|  __||||_|_||  _||||_  _ |_ ||_|_|||_  __|____||_ | || _|__|___|| | | _|| |__ |_|_ | |_|| ||_|_     _|_ |||___|||__ |_| |||| _||___| || ||_ | _| _____ ___ |_ _|____| |_   _|__|| _|__   _||____ |__  _| ||| ___|_  | |||__ | | || _|||  _|||_| ||||___||||__|_|_|___ _|||| ____||_ __|||  _ _|__||_||||_|____ |||_  _|_| ||__ __|| |____|__|__ _ __|| |_||_|||_||| _| _||____ _|__|_||_ ||_||_|| ||_|_||||_ __|||_|_|||  _|_ _| _| | _ |__| |_||__|_|_____ |  __||_|||_  _| |__ _____   |||_ ||_|_ _||||__||__ |__ ___|_|||_ || |____||_ |_|_|_|__||__ _|_| __ |_|||||_  |_|_||__  _| |||__|_|_ |_  __| ||_|__ || |__|||__ ||_|   _ |___ _|_ __   |||| |||_||_  ____||_  _|_ |_ _ |__ _||__||_| | _|_||__ |||__ |_||_|__   __|__||  _  _ | __ ||___|| |___ || ||__|  ||_|| |___ ||_|___|__|  | |__|_| | _   |__|  |_ _|| _ ___|___||__|_  __ _ |___ |_|_||  _____| |||| __| |  | _|||_|__|||_| _| _| __|_|_|  __ |___||___|_|| _| |___||||___ |  _| ||_ _|_||_||_ _|____| ||_|| _|||  ____   |___||||_ |__|  _|_|_|_ || _ _||_|_ ______|||____|_ __|_| | _   ||| |__|__||__   ____ _||||__     |_| |__|||___|_ _|_|__|_ _|__| _|__| _||__ |_ | | _|___ |_|_|___| |__  | ||||||_|_|  |  _| |_|__|__|_|| |___ |_||||__|__||  |_ |_| | |__  _|| ____|_ _ _|_|__|_|__|_|___ || __|_|__|||_| ||_ _|__| _| ||| _|____|__| _ || ___|_| ||__ | ____| ||_| _| ||_|_| _|_ _ __ __|| ____ __|___|   _ ________ __| ||___|||  ||_ ||||  _| _||___|||___|___||| |   |||||_|__|_ __||_ |____ ||| ||  ||___||___| | | _|_  ||_||_  ||__|__|__|_ ||_|__|_|__ |_ _|   |_|_ __  _ | __||_||||_||_||| ___||||_|__ |_|_ |___||_|_| _||_ _|_|__|__ _||____ | | ____|| ||___ _|| __||  | |||____ |  || ___ ___ _ | __| _|_ _|||  ||| __||_____|||_ _|_ __ |||_| _ |_|__ __|_ _||_ _|_||__|| | _|||__ | _|||  _|__ _|| |_|__ _||___||| _|_ ___|__ __|||_||___| ||_  __|_||_||| ||_||||_|  |____ ||| _| |_|__| |||||_ _| |||___||_ |_ ||___| _|  ||_| |_||_| || |_| _||_| _  ||_|_|____  _|| |_|||__||_|___ __|  ||  _|   ||__|_| || |_|_ ___| ||||_____|_ || ||__||___ |____|__| _ ||||__| _||___ |||_|_|  | _| |_ _  _| |___ ||_ |_||| || | ||| ||_||_||____|||||_ ||_|_____| || | |______ _ _|_|_|| ____ _ ||_| __ |_|___||_||_|_|__ _|_|||_  |__|||| _||__ __||_ ||  _|__| ___|_|__| _  ||__|__| _|_||| _ |___ |||__ _ _| __ _ ___ | |_____|_|___ _|_|_ _||| |||| ||_|_____||||_ |_ ||| __||_|  _|_ _|_|_ _ |||__||_ ||__|||_|_||| ||  |_| _| _ ||_|_| __||||_|| |__|_|__|||_  _  ___||_| |  || _____| _  ||||__ |____  _  |___|_ __|_ _____ ||||___ _|| ||_|  |_|_||__|_|| ____ |_|__|_|___| _ _||||| || ||___||||| |___ |||  __||_ _ _|___||_|___ ||||||||||_  _|||_|___|||   |___|_ | |_||_ _|_ | _ _| |__||__|__|__|__  |__|____| |_ _||_ |_  _|_ _|_  _| _ _| || | || |_||| __|_|_|_|___|___|_ _|_ ||  _||_ | |___|||_ | _|__|____||____  || |_||_   __ |||_|| ||_|____ _ _|_|___| __|_||_||_| _||_|   ||___||__|||__ _|_ |_| ___|||__|| _ |___|| __ ||____ _ _||__|||||_|___  __ _|_ ____ |___ |__  _ _|__||_||_ _| __ __   ||_ _| |___|_  _| _  _ |||   |  |__ __||||__| _ |__|||__| ___   | |__|__|_|___ |__|| ||_||_ |___ __|___| ||____||_ |_ |_ |||| || ___ ||__ ||_ __|_|_|_|||_|_|___||__ _ |||_|_|__   ___ ____|_||||_||  |____|| _|||_||__|| ||_|_|| _  ______  _ | | _ || |_| ____|__||_ |__|_|__|  ||_||__|_|__|_|_||_|||  __|| _||__| | | |___|_|_ _|_|__  _||_| |_||||  _|||__|__||||||| || |___|_ |_ ___| ___|_|_|||_|  ||__| ||_|_|_|_| | |_||||||___||| |_||__|_ |_|_|____|_  _| | ||  ||| _|  || ||_|__  |__ _ _  | ____|_|_|_||||___| ___|______||_ _|_|_ | |_ __|_|__|_____    _____|__| |_ _||___|  ||_  ||  ||__ ____|  | |__ _|__    _| |__|___||||||__ |  _||_||__| |_ _ ||| |_ ____  _|_ ___|___|_| |___||_   _____| | __ _|||____| |_ _ ___ |__||_|_  |__ __||| ||__||_ |___ || _| |  |____ _||_ _|_|__|||||||____|_|_|_ |   __ __ _||||   __||  _ _____||__||__ _ __  |||_   ____||_ |_|||____|__|__||| _|_||_||| _|||_| |  | _|| |___ ||||__|_||_ _| | _|| |__||____  |_|_||_|||_||__||_||| ___|_||_|__ _|_ ||_ |_|_  ___  _||_|___   _ |_| __ |__ |__| _|_|_||||||||_ |  ___ _ __|| |_||_|| __|_|_|  _|  __|_ ||_|__| |_| __|_|_|__||__|____ |___|_||__| |__ _  _|||___|||| |    _|_|| ___ _||__| __ | __|||||_|_ | _|||_|____|__  | |||| |__|_|_|||_| __| |__|_| _||_||_ | |_|||||||||_|_  __|_||| ____||___|__  |_|__ __||  |_ | _ |__||_| |_||_____|_|__|_ |_ _|  _| __ |______||_| __||_  ______|_|_||__|| _|___||__||| ___|____  |__|_  _|_|__|_ __|_  |___|_____| |_||_ _||__ | ____ ___|____|_||||_|_ _| |_|___ _ | __ |||  __  _| _ __||_  ___||_|||_|| ___||__|_|  |  ______||||_ ___||__ _ |  ||_|| _|||__||_ _|__||__ _ _|_| _____|| |___ |||_ _|| |_   | | |_ _|_ _|_ | _| ___|___| ||| __ ____  |||_||_|__| ||_|_ ||||_|| | ||| |____ ||__ |_| _  |  ||__|_|||_|| __| ||_||__|_||_ |__| _ ___||| | |___  |_||__||_____  |__|_||_|___ |_| _|__|_|_ |__|     _____|| ||_|__  ___ ||_  |__|__ |____ |___  | _||_|_|_  |_|  |____ _ ___| |  ||_____|||  _|_|__|_||  |___|_||| ||| |||     ||| |_||_  |__ _||_|__ __|_|_ ||__|_ | | |  _|||_|| |___ _|__ |__ ____||_|| | |___| |||| |__ |___||__     _| ___|_|_|||__  ||______|_|_|__ _|_|||___|| __ __||||__ __|_|_|_ _|___|| _ |_|_ _|__ _ __|_ |_  _ __|  _ |_|_ | __|| _|  ____||___||___ __  __ _|__|_||||_|_| || _|__||  |__ _|||__| __|_______ _ |||__  __|_|||   |___|___|| _|___|__|  _|___ | _|__||_|||||| |____ | | |_|| _  _|_ |_||||___ _  | |   |_|_|_||_|_ | |__|_||__|| __ |_| |_ |_ _| _  _|||_||_ _ _ | _||____|__ _____ __|_| | _ __|____ _|||_  | |__||||_|||||___   |_ _ __||||||____ ____|_ ||_|__ | __||_||_||_|| |||_|_ ____||||_||| |_|| __|__|_| __|||_  |_| |||_|| __|| _||||| _|__|| | _|___|| || _||_ ||| |||||_|||___| | _____|  __|__|_||__  _ _|_|||_||___|_|_ | _|| ||_|___  |___||_||_ _____ |__| || __|_||||   |___  _| | _  |||__||_|||  ||__||| | || |__||||_|_| _ |||__|_|____|__|| ||_||__|__  |__|_| |__| _||_|_||| |_| _|| _||||__ |__|_|  ||____|___| _|  |  _ ||_ ___| _ |____|_||_______||__ _|____ |||||| __|__|| _|| ______||_|||||_ ||_ _| _||___| ||_|_  _ |||_| |___ __ ||  _|__|_ |||_||_ _| ||__|_|| |______||_| _|___ | _|||_ __ |__||__||_|_____| | |__|||__|_|_|___||_| |__||||___ || | __ ||_||___|  |__||__ |_|__||__| ___ ||||_|||  | ___|_|__||_|_| _|__|| __| _|||||___| _||__ _|_|||||_ | __|_ _| |_|____| _|||| __||| __|_|_|_  |_||||__ _ _ |___|||_ | _||_|_|___|||_|_ | || _|__| ___|  _||_||____| ___ |_ || _|||_|_|_ _ | ||||| __|  _ __|| |___|___ ||_|||||_ ||_|_ _ |||_|_____||_|_| __ |||_ _|_||||| _|||_|___ __|_____ _ __||||| _||_| | |____||_|_ |__  __|||||_ |||_|_ |||__||_| | |_|_|_|____   | _||||__|_||||_|||_| __||||_|||_ |||||_|_  _|_|_____|||_|_ |  || _|_ ____|_|_|_ _|||||__||_ _ ||||||||___|||_ | |||_|__| ____ | ||| |_||_||_ _ _| | ||_| __ ____|_|_|| ___||||  |__ |____|_|||_| |_|_||_|_| _|____|| _ | ||  _||_ _|___|  ||___ __ | __ ____|__||__|_|||||||______|__ |__ |_|_|| _|__|__ __||||_|_|__|| ___|_||| |_|_ ||_|| ||_| |____||_    _|| |__||__ __|____| |_|_ _| _  _| ____ ______|_|| || |____ _ __ |__||||||_|||_|___|_||_||  _|||_| _  _|_|  _ ____|_ _| |  _|___ |_||__|   |___|| _ | |_|_|||_|||_| _ |__| __|| _ || _   _|_ _ _|||__ ||_  __|______||_ _  || ||||_ |  ___|  |||||_|_|_||| |_|_| __|_|  ||_||_ _|  ______ ___ |__ | || ___|___ _|_ ||_ |||_|__|_ _|_ ||___ ____ ||||_|__| _  |_ __ __     _|__||__|___|_ |_|_|___||_|_|_|||||_  _|| | | _|__|____| _||| |_|_|_||  __ |__  _|_ __| _|||  _|| _ |_ ||__  ||_||| || |||_|| __ _|__ |__ __ _|_||_||_|___  |  |_|_|_||_| __ __ ||_ || | _||_| _ |_|___ |_ _|||_|__|____|_|_| _| _ __|__| _||_|___ _ | _|||||_______|__|||_||_ || __ | |_|_|||__ _|__|_|_ ||_|_||| __ _ __|__| |  _| _ __ ___|_|_| |_|_|_|_| __|__  _ | __|_| _ __ ||_ ___|_|_ __||__|| __| || |_ ___ |||| _|| _ _|_|_|_  ||||_  || | _||_|__ | __  __  ||_|_| ___|  __| ||___ _| |_|_|__|  | | || |||||_|___ __ |__|_|_|  __||_|||__|| || ||_ _||||___||_|_|||_|__ |_|||___ __| __||||| ___| ||__|_ ____________ ||_||_| ||  _| |||_ | ____| _ || _|__ | ____|_  __ | _|___||_|  ___|_|_| |||||_ |__|__||__| _____  || ___ __ __ _| _ _| | |||___|  _||_|_ | _ _||__|_| |    |___| _______| | |  |____ |__|__||||  |||_  _| | _|_  __||__ ||||___ ________|_|| _||_ ||__|||_|__ ___   _| _||_|  | | |____| |||_|_ |_|_ _|_||_||||_|_| _|____ | | _|||||___| ||__|||||_ __| |  _|_|_|___|_ |||||_|_|||||__| |_|_||_|_| _    _|   _ __ |||||_|__|__|  |_||__|_______  |_ ||_||  _ ||__|| __  __ _||_| |_||__| |  _|___||_|__ _____|_____ _|||_ ___| |__ __ _|_|__|___ _| __ "
     ]
    },
    {
     "name": "stdout",
     "output_type": "stream",
     "text": [
      "|__ ||| ___||| __|_ _||__ |__  ||___||__ |  |_|_||_|| _ |__ |_|_______|||__ ___ | _|||_| |   _||_|__| | |__|||| |||    _|||_||_ ___|_||  ________|___|_|_____ _|____| |||| ||   __|| |__|| _|| _  _|_||____ _||||____|_ ||__| _| _||___|| ||___||  ____| | _____|__ __|    ||||   _ ||_|_ _|__||___|_||_ _| |||| |__ _ __|_ __| _||__|  || _|_|__|___|_____  ___| |_ ||___|  _ __|||___||_|| _ _||| |__||_  | ||||__||| ___ |    _  ____|_|||||_|_____ _|_|___|||| __||_||__|_|__|||_||___ _|_ ||  ____ | | |_|_||___|__|||_   ||||||||_______ ||  __ _ _  _ ||_||| ||| _ |_|_|___|___|||_  |_|||_|_____ |_|__||||||__ |||  _|| |_ __|_|___|| ___|_ _|_|___| _ |___||_ ____|_|_|__|__|||_ | |__|_||| __|_||| || ||__||||||_|_|| _||_|___|_||| |  ||||_|  _|___ |_  ||__||__|| || ||___| |_|_ _| ___ _____||||_|||| |__ _| ||| |   |||_ _ ||  _||||__||_ |_ _|__|__|  | |___|| ||  _ __||_| _|_|__ |__ |||||__|_|__|_ _|_ _ _ |____||_|___ __|____|||____  __ |||_|_ | |__|_|_||_ | _|_|  | |||_| _ || |__|_|____|__|||__ _||_|_  | _|| |||_ ||_|_|| ||| _||||||   _|_ |_ |__|_| _|__ _||||__|___|||_|_|_||  _|_| |_|_|| |_ |_| | _ _| |||_ |||_ |____|||||_|___|_|___|||__ | |___||____| ||||  ___||  |||_ | ||__ |_||||_||||  | |_____||| _|| _|_| | __|_||  _||||| |  _| |__ |_| __ ||__ _ |_ |_ _|__|____ ||||_||_|_|||__| |_||_|||___ _|_|| | _||_||||_|__ _ || ||||||_  ||||||_ |__|_|_| |__|_|||_ ______ |_||| _ |____|___|| ||    || |_   |_| ||____||| _||__ __ | _ ||_  | ___  ___ _|||||| ||||_   _ |_||__| _____|_|  ||_ __|||_||__|_|_____ ___|||| || _ _|| |____ _|___|__||  |_ __ |_|____||| | |_|||  |___ _|___||_||__|___| _| __| || |__  |___||| ___|_|_| _|__|  _|___||_ ||__|_|_______||__||_| ||  |_ ___||_ __ __|_|_| __||_ _|| ||_||| |_ _ __|_| |______|_|_  | || | |_ _| _   |_ _ _||_ |_ ___|___| |__  _ |___ |__|_||_| ||| __  || | ___|| ___|_  |_|  __|__||_|_ _ ||| __|___ _ || |   _ _| ||__|| __|_ || _|||||_ |_|____|_||__||_  __ |||||_| ||||__| |_ _|_|| ||| ____   |_||||_|_||__ |__||_ _|| _ | |_ __||__||_  ||_||||||| |_|| _|_ ||||_ ||_||_|| ___  _|  ____|__|  _  ||_|||___|_||_||_||||_|| |_ _||| _  _ |||_ _||__ __|__|_ |______|_|_||___|_||_|   ____|_|___ || _  ____| _||_|   | __| | ____  |_|||__|||_|_|  _| ___| |__|__|_|___|_||_ _|__ ||||_ |||||_|___||__ |_| _|_||_ __ |_|| |__|_|__ __|| |__|_||__| __|_ | __ |||_|___|_ |||||||____  |_|_ |__ |  ||___|  _||||_|_|     _|_|_  _ __|_|||||_||__ _  __  ||| |||_____| _| __ _ ||___||__|_|_ | _ |   _||_|__||__||_|__|___ ||___| _| _|| |_ __||_|||_|__|_|||||__||||_ _| _|_ |_|| |_ _|_|||_|_|___ | _ __||__||_  |_ |__|  |__ |_|| _| __ |_ |__|||__ _ |||__||_|__ _|_|_|_ _|  | ___ _| ||_|____ _ || |||__||_||_||_  _|___|| _||_| ||__|_||_||_|_ _| _____|||| |||_|____|_|| _|__|____||__ _|___|  _||____|_|  |______|___|_______|||||||__ _| ___ |||||| _|| _|_|__ ____| || |  __|_|__| ___||__| _ |_|_| __ |_ ||__ _ | | |___| |_ ||||__ |__|_|| _|||____||_ ||__|___ || |_ _ _|__|_ __||__  |__ __| |_||__|||_ ___|_|__||||||  _| | |__|_|__ | |__|__|||_|___| _|_|__||__|   ||_ _  |_||____|__ |||_| ||| __| __||_| __||_|||  _| |_|_|| |__|___|_____ | ||__|| _  __|_ _|_| |___ | || _|  |____ __ |__|   __|_|| _|_|||_ |_||__ _|| _|____|_ |_______ |||||__|_ |  ||___|||||   _||| | | |__  __ | _ _| __|_| | __|||  _ |||__||_|_|  ||  _||||_ || |_ ||__|_|__ ||||_     _|_____||_|_  || _||__||___|||||_|  |_|| _  _ _|| |_|_|| __||_____ __ _ | _||_|__ |_||__|| _|_|||_  | |___|_ || ___||__| ___  |_ ||__|_    || |||_| __||| _|  ||___ _ _||_||_||___|  _||__  ||_| ||_|_||  | __ |_||_|_  ||_ | |___ ___|_|_||||| _    ____ __|||  ___|_|_||__||__ | ||__ _  |__  |  ___|_|| _||_|  __| __||| | __||_ | _||___|||  _||  | _|__ __|| |_ | ____|_||  ||_|  __|_||_||___ ||| |_|||___|| __|||__||__|| ___|___ |||| _| _ |  || ||_||_||||_ _|||_ __| |||||   |_|_|||___ _|_||____| _|_||_ _____|||| __|_|| |_ __||____| | ||__||_|_| _____||__  ___ ||_||__|___ |_|__ _|__|_||_ |||_ ____|___ _ _| _ |_ |___   _ ____|_ |______| _  |_ |_|__||_|_ |__|||| _ || |__|____ __ ||__ _ |_ || | | |___ _|| ______|___|___ _|||_||_|||| ||_ ||||_|  |______| _|___  _ ||_|_|_ ___| _|_|_ __|||____||__||_ _| | |_ ___||||||_ _ |||_|__  ____||___||||_  _|   __||___|__||__|| |||| ||_ |_| ||_ | |_||| |_|| _ _ | ||__ _ ||_ _||__|| ||||| __  | |_||||||_|_||__||_ __ ||||| ||||  _||___||||__ _|__|| _|| _| || |__ | |__|||||_|_   ||___ ____ _  __|_||_ _  |_|||| ____||__||_| ||  ___|__  _ |__ _ | ___ _||_ |__|||____||___ _ ___|_|||__| __ _|_  ||_ |||_||_||_|||___| _| _| _ _ |||||__|_|_ __|| ___|||| _ | __|__| | |_|___ ||_ |___||_|__|_|||__|__ | _|_||_|___||||| _| __|___|| _|_|_|_ _|_ _| |||_ ||_|__|_|||_|__  __|_ _|||__| _ ||____||___ _|_| _||_    ||_|__| ____|__|__ _|___||  _|| _ |||| ____|___ _|_||||__ _||_|_| _|| | |||_ | || || |_||||_|___||_ __|||__ ||_|_|_ _|| | _ ___ _|__||_ ||___ |_| _||___|_  ___ |  __ _||_ ||__|__ |___ _| |_ |||_|___|___| _|__|||| __|| | __|_| |   _|__| _ ___    __  __ ||||| |__||_ | ||_|   ___||__|_ __ |_| __|_| ____|__|_  __ _|__|_| _|_|_|_| | __ |  _____|||  |__|  _|| |||_|_|||||_  _|__||___||| || ____  _|___ ||______ __ |____||_|_ ||__||_|__|_|_|_|_|_|_|___|_|___|_||_ |__ | ||__||_| |_|||_|__  ||__ __|| |___|||| _ __||   |  |__ |||||_|_|| __ |||_|__|__||_ _| | ___|||____ _||_||  |______  ||__|_| | _  |_ | |___ __| ____ ___|||__| |_||| |||_|||| | |_|_ _|_|||__ || _||___ _||||| || |  |||_  _| || ___|__ ||||_  || |||_||__||| __|___  ||_| | |__|| ||_|_|| __   _|_|_| ||__| __ _||_||__|_|__ ___|___|| ___| _||__||_||_|__|_|___|__| _|_ ____||__|_ __  _|_ _| | _ |__||| ||||__|  _ _|_| | | | ||  _ _|_ _|___ ||__|___||_|_ _||__|____|| _|__||__|__|||_  |__| | ||| | _|  _||__|    | |_|_ _| _ | |||   _ ||| __|| |_|_|||_| ||||___| |__| | |_ _||||| __|__||    _||___|| _|| |__|_|_ __|_|_|_ _|_|_|____|_ ||   ||__| _|||_  __  _|_ | ||_||||_||__ ___ ___ _ _|____|| |_|  |_| |_||__|_||_|__||__|| __ |_ ||||||   |__||__| |||  _||_|__ ___ _ ___|| _|_ ||_ __|___|_  ___ __  _|__|___  _| |___  |_| |_|__|_||_ _|_| ___|||  _|_|_|___|||_|_|_| _||_| _|__|_______|_||___ __||__| _|__ ||_|_|| __|__ |__ __ |_|__| |_||___ ||_  |_|| _|__||_ __  |_|___| || _| _||__|| |    _|_ |||||__|_| || ||_|_  _ ___|     | _|__||______||__ ||__   ||||_| ____|||| _||| __| _||___|_ _|__||| ___ |  ||_|_|||||______|_|_||   |___ | ___||__ _||___ _ ||_||_|| _ |_| _|||| |  |__|||||_|||_||_| __|___|| |____| __||__|__|||_ ___ _|_ |___| __ ||| _|_| || |_|__| __||_|  | |  ||| _|_|_|_| ___ ||||||__||__|__|_  _| |_ ||||___|_|||  | _||_| _|_ _|_||||_______||  _|_  __|| ____|||||__ _||   |__| |___||||_|_||_||__  ___|_|__ _| ||__|||  | __| |__|_ | _ ___|| ||||__||_|||__ ||_|___ _|__|_| _ __ |_____|_|__|_|___|||_ |_|_ _|_||__||||__|| ___  |_|_|__| | |_|_|||_|_|  __||___| || |_ |___||__|__| ___|_ _|||_|_|_|_ ___ |_ __|||_  __  __||__ ____|___| |_| |||||_| _|||__|_____ _|_||_||____  || | _ __ ||| |_||_|_ |_ |__||__|__ __ ___| __| ___ _ _ __|||   ||_|| |||_ |__| | ||   |_| ___ __ |__||| | _ _|___ __ _||__ _ | |_ _ __|| __||__||||__|_|___ ||_|_|__ _||||__||_|__ _ |||_|_|||_|  | _ ________|_|||||_| ||_ |_|__| ____ | | ___| |_|_| |||___|  _||   _|_||| |_|| || _||___|__  __| |_|__||_|__  ______  |_| _ |_|__| _ _|_|_ _|__|_ _|_|  |_||| __  __|| |___|||_____|__  _|  |||   __|_|  | ___| |__  ___| |___ _  _  ||_ __ _|_ __||__|__|__ |___|| _||__|_|_||__|_||||||_|_||_|_||  ___ |  __ _||_ _| _||| _|| __|  _| _ | | __|_ |||___|__|| _|_ __|  _|||||| ___ | _|||___||||_| ___ _ _|_|||    |||_ |||_| _|||| | _ ||_|_ ____|_ |_   __||_| |  |___ __||_|_ _ _  |__ | _ __|_| _|_| __|| ||_ |__ _| |__|||_ |____ |_ _|__||_|||__ _ | |_| |_ _|| __ ||||||  __||__|_ _ |__|_ _|___ _|_ |||____||||_|_| _||_|||  | _ _ __|__|__|||||| | _|| | |_||_||||__|||||__ __ |||___||  | __  _ _ _ _||__ _  _ _ |__||||| __ _| ||______   ||_|___ |   ___ ||||_ ||_|_ ||_ |||_| ___ |  _| _||_ |_ |_| _ |_|__|||| ||||||  ||__|__||_|_|__ _|||| _||_|| _|_||_|_||_|  _|| _||__|| |__  _|_ |__  || _| |_|| ___||||_|_|||_|_ __ ___| ___| __|_||_||| | ||   ____ |_|  _ _ __|____ __|||___|_|_____||___|___|| _|__||_| | _|__ _|||__||  |___|__|_|||_ __|||_____   _ _|___|_|_|   |||  _____ _|||_||||__||  |___||____| _|   __|_|| |_ ||_||_|  ___ |_____|||__ | _| |__ __|   |_   ___|||__|_ _|_||_|| __| ____________ _ | ___ __|____||| |_ __ ||||||__| _| | ___||||__||||__|| |__ __ _|||___|||_  | _ |_|||__|||||||| ||_|||_||_|_|_| | |||__ |__|__|_ _|| _   | |_||___|  _|__ _|_|||| || || |_  |_ __|_ __||_|_| _|||_ __|_ ||_ __|_||_||||_|  |_ ____||_| _|_ |__|_   | _ _   |_|_|____ |____ |____| ||______|||____| |||_|||_||___| |_|__|| |||  _||_ __||_ |||_|||_||_ ___|_|_||| ____| _ __|_||_||||_|_ |__ |_ | |__|_|_|||||_ |||_| _|| |_|_|_|__ ___|__ ||_ |_ _| __ _|___||||  |_  |||_|__|_||_| _| _|||__|__ ||_ |    _| _|||_|| |_"
     ]
    },
    {
     "name": "stdout",
     "output_type": "stream",
     "text": [
      "|___|_ || _ ||||_ _ _| |___ _ __||  _|||_ _|_ |_|__| _|_  |_|  _ |__||_|_|_|| | |_|_____|_|   |_|_||_|____ | |_ _  __|_  ||_||||||_|_|||__| _||__ |__|| _ |_  _|_|_||| _ |_|___ |_| |_| ||__| ____|||| _|||_|   _ |_ _ |||_||__||_ |||_ ||____|__ ||||| | |||__ |||||_|_ |___ || ___| | | _|_||_|||__| _|| _|||_| __||___|_||__|_|_||_ __|__|__ |||| | __ _ ____  |__||_||||___|_||__||_ | _ |__|_| __ _|  _|_| || || _|_||_|_ |||  ___| | __ |_ ||_  ||| |___||_____|_  |__ |||||_|___| ||||___  || __|||__||_|_|__| _|__||||||_|__|_|_||_|_| |||____ _|__| ||____ ___|| | __ _ __ _||_||| |_|_|_|_|||||_|__|_|__|_| __|| ||_| _|__ ||_ |_| ||||||_|_ _||_|_ __|| |||___ _ ||  |_|___|_||||||  | __|_ | |___|_ |_|_|||||_ || || || _||__  |__ | |_||_|_ |_||_|| | |__ |_|  |__ |     ||||| __|||  __| |||_  _ ___|| |_ __ _||_||___|_ _  _| |_| ||||___|_ _ | |  __|| __ __|_ _|___ |||| |_ _|||__|_| || __|_||||_ |_||__|   |_||_|| _ ___  |_||| _| ||| |__||_||| ____|||__ _|_||__|__||_ _|||||_  |_||||___| |__ |||_||||___|__|____|__ __| ____|||  __||   | ||___||_|_ ||| | |||_ _|_|_||||_|__|||_  |__ ||_____ _|||__ _ |_    |  _ ||___| ||__||_  | ____ |_ |__|_||  |||_____|__|__|___ __ || ||_|||___ _ |_ __|| _|||| |_|_  _ __|__| |_| |_ _||_ |____| || _ || ___ __  _ || _|__| _| |_|_ |_____|||_| |____ _ _| ______|_|_||__ |__|__|_|||___||_|_| | |_ _||||| |__|_||_||_| _| |__|  || |_ |_ _|||||__ __||__|__| _ _| _ || |__ _|||_| __   ____|| ||__  |__ |_||||  __|__|| ___|___|_|_______|__||__||_  |__ _|||_||_ |_   |__|__  ||__|||| |_|______|_ ||_|_|_|_| |||__|_ |_|__  |__|_||  _|_| | |_||_ _ |_  _ __| |_|___|||||||__|_ _______| ___ | _||__| | ___|____|__ __|||__|__|| _ __| |_|_|_ |___||_|   _ |  _| _ _  |__|__ |__|  __|_|||| ||||_|  ||__| || | _|_|||__|_|__   |______ _ |_  _| _|||__| |||_||||____|_  |  __||||_||_  |_ _|_| ___|_|  |__| | | |___|| _ _|__ |_ |_|  |||  |||_|_|___ __ |_|_ _ _  __|_|_ |_ _||_|_ |_ | _||__ |_|||  ___ ____|_|||_||_|_ _| || _ ||__ ||__| _|_|   _|||  __ ||_|_  | |____ _|_  _||_|| _|__ __| ||| ||_   __ _|_|__|||||__|_| ____||| _|____|| _||__ __||| | |__|  _||_ _|||_|||__|_||__| _|__|_|||__||_||__ _|| | __|||_|| | ____ ||_|__|||||___|___ ||___||| _ |__  ||_| ______ ||_   ||__| _ _ _|__ _ __|_|_| |______||_ _|_|||__ ||||___| __|__|___|_|_|_|||__|||| | | ___|__||__ |_ _||| |||| __ _| _|||| _ _   | _|_|||||_ _|__ _ |_ _ ||__|||__ | |__|_|_____|_|  ||___ || |||__||||_  |___| |_|_|| |____|||| _ _| | |__|_ ||_|_ ||_ ||_____||___||_| ___||_|_||_|_|__|_|__|||| ___|_|||  ||___||||_ _ _ ||_||   |_|_ |||_____ ||||____|_|_|___  ||||   |_|_|| _| |||__ |_  || |||||||__|___|_|__|_ |_|| ||| |_ |||_|||_|_   |__| _| _|_|  |||__|| ||_ _|_  |_||_|__ _ ||___||_||__||_|  __|  _||____|_||__ |___|_|___||||||||| _|_||_| __|__|__||||__||_ _ ||_|_| |__|__|_|_|__|| _ |_ || __|_| _|_||  |__||| |_ _||_| _ ||_ ||__ __ ||_||__ _ ___| __|| | |  |_ _|_|_ | ___|| _||_ || |_ ||__|  || _|_  _|_|||_  || |_|||__  ||_ _||| ___||_|  ___|_||_|_||___  _|_ _|__|_  |__||| __ _||| ___| __ ____|_ _| | _||| _|  |__|||| | _ _|_|||___||  _|_||_ |_ _|__|_ _ __ |_ |_||__|||||____|_ __||__||_ | |___|   _|_ __ ___|___ __|_|__| |___  _ _|_ _ ||_ |_ __  _ ||_|||_  _ _| |_ _ |__|_| __| |||___|_____| |_______|_ ____ |_|_ |___ _|_ __ __|||_|_|||||_||  ||||_  | | __ |_|  _|||____ _ || |||||||__ _| _|__|__|_ ||_ | _|||___| |_|  _ |_  _ |   ___|_|___|  |  ___|___|____|||||_ ||_||| |_|____|_|_||_|_ | ___ |__||__|_ |_||_____  ||||_  |||_ __  _ _ __ ___||____|  _|| __ ______||__|__||__||_ ___  ||||_ _|  ||_ |_|||__||||||| _| |__||_|_____ _|||   |__ || __|__|_| |||__|| |  _|___|__|_|__|_|____  __ |_ |____|| _  | || |____|||___ |||_|_| __|  |_|||   ||__ ||__|____ _ | ||__|_ | ||_ _| ____|||__  _||_|  ||  _  |__|_ __|   _  |__  ||_|| ___ __ _|__ ||___||_______ ||_||_|___ _|______ |_| _ _|| ___||_ ||_| _|||   __ | ||||_|| _|||__|_| __ _|| |_ _ ||_|||_||_ ____||| |__||  __ __|__| |_ |___||__||__||_||_ _ || |___  ||___|_  |||  __|| |_|_|_ _|_|____|___| |__|| ____||| ___||| || _|| ___|||||_| |_|| _ | _|||_  _| _ _|_||_ __ |||_ _| |____|_ _ ||||_ ||  |  ||| | ||__|||||_||||_  ____||_|_ |||_|_| |_|__ __ | __|| ||__||||||__ ||__ _||||||_||_|_| ____| |_|  |_||||_| _ ||_ ||_|_|  |||_||_|_______ || _ |||_ ____ | ||___  ||__|   _|__|| |_| | __||_|_|_|_|  _ |__ |_|__|_|__| ||   _|______||| |__||_|____| _ || _ |||__ _ ||_ _|__ |_|_|_ ||  _ _| |__|| |__|_||_|___ _|_||__|__|_||||||___|_ _||_____||_||_ _ ||_| |______ _ |  | ___|_|___ __||||__ __| || | _|_   |||||__||_|_| _|__||_||  | |_| ____|_| __ |___ ||||_   || |  |_| _|| _|  __ _||_ _||||_|  _||_____ ||   |_|_|_  | |_|___||||||__|__||_ _ ___|_||||_||   __| _ _||___|| |____|||___| ||_|_|_|||__|_  _||_|__|_| | | __|_|||__|_|||_ _||_|____ _||_|_|__||____|__ __ _||_|_ ___|_||_|_|_||||_ |_|_ |  _ ___ | |_____|____ |__|_ __ |  _| __ _| ___ | _ __| _ _ ||__  ___|||||  |___||||| |_||||_|_|  __| __|| _|_ |||__| _| _|||| __  |  ||||_|_|___ __|_||__ |___| |_|_ _||||_   _  ||_| _|||_| _|||__ |    | ||||_| ||_|____ |_|  __|_|||___|_| _| _ ||_|_ _|| |_|| _|_|_| _|  _|__|| _ _|||_|_  |__|_|__|_|_ __ ||_|_____||| _|_|_|_|_|| __||_____ ||_| __ _|||||||||_ _|__  ____ |_   _ _  __|___| ||| ____ ||||_| |___||| ||_|_|_| __|_||  __ |__ |____| ||_|| |_|||__|_|_| |__ | _|_ _ |____||____ __| | _ |_|_|_|______||_ |||||  |__|_||_||_|_| _ __|__ _______  __||_|||_||___ _|__||||____||___|___   ||_ ||  _ _ ||__ _|| __||__ _| _| ____ ||__ ___|| _||__| _||_ _| _ ||||_| _ __||_|_ __ __ _| __|_|__|_||_ _ _ |_| | _  __ |||_____||___|_|| _ |||____ _|__ _ __|_____||__ |_|_||_  _ _  _| |||_||_|_ |_|| |_|__||__ |__||____ | | ||__  || |_____ _| _||||_ |||| _  | _|_ |_|_ _|__    _ __|||||||||_ __ _| | _ | _| |_|||||__||_| ||_|_|__|||||  ||__| _____ |_| _|||__ __|__|||__   __|_|_ ||_||_  __   __  ||___|||||||_| | _|||_| ___|_ |__|| _ ||__ __ ||_||_ ||_|_||__||||| |__ |_||_  _|_|||___||__ |_  |||_|__|||__ | __ __|||__|_  _ |||_____  ||| ||_|_ _|_||_|| _|  |_ |_| ||_ ____|__| _  || |_  __|| _||_||_|__|_ _|___|| ||__| |   _|_||||||_ __ __|_||_|_____   |_|  _  | ___||| __||||_|__ _||  __ ||   ||_|| |_|_|__  __| || ||___||_  || ||||||||  _ _ | ||| |_|_||||||__ __|  ||  |||_||    _ _|||||||_| |||__ | |  | | |_ _|_ _| _|  _ __ |||_| ||___ |_  |   _||||||__|_|_|_| || |_||_  _|_ _|||||__||__||_____|||||__|__|| | __|||||_|_ ___ _ __|___|_||_|||_||__|_ |  _ _   | __ | _| _| |__ __| _ |_||||_ | |_|_| |_|___|   ||||_||  ___|||||_||_| _|||||_||__|||_ __|| __  __|||__| |_  _|_||_| _ _|__|__||_|___|||  ___| _||_ |||_ ___||_____ |_ ___ _|_|_|_  ||_|_|||||||  ___ |_  |||_ _|___| __ || ___| ______|_ || _| _ _| _   ||_|_|_ | _||_|_ _ _ _  || |___ __||_ _||| |_| ||_|__|__||||__||___   |||_|| | _|_ ___||| | _| _ __||___|_||_ |_||_ ||__| _|||_ ||||_ |||_|__|__|__|_|___|  _____|_ ____|_ _|__  | |_ _||_|___|| _|_|| __|  |||||_||_ |||   _ |_|  ||__|  |_||||||_|||_ _ _||__|_|||__ _| _|_ |||||| |_||_ |_||__||| |||__ |_| __|_||||___| __ __|  _ |||___  _   __ | | | |_| | ___ _|_ || _ |||| |_|  _ _||  |||||||____| _|__  _||_ ||__ __| |_ |_ |_ _||_|||||__|_ ||__|_ _ _ __  __|_ __| |||| _| ___ _ _|| ||_||_ _| |_|||_|| || _|__||_|   |_   |__ _ | _ _|  __  |_ _|_|||_|__|||_|__||__ _|||||_||| _|_|||||| |__| |_| _|| |_|||__ ||_ ||__||_|_ __|_|| |_|||__||_ || _ |||  _|||_|_|| ___  _|_|||__ __|_ |_|__ _||  |_|__ | ||||_||_|   |___| _| |_|__||||_||__ _| |__||_ |||| ||| |||_  _|| |_ _|_|_ |__|||__||____|| __|_||_||| _ _  __|__ |__ |||_ _ |_|_ | |___ _ | |___|_| |_ __|_|_|| |___ _| _||__||||||_|||_|||__|||_ |_||_|_ ||__||||_ ||||_|_|_|||||___|||_|__| __ __|| _||_| | _|_|_ __  _|| _____||||_ |__|| | _|___|____|||_ _|_____ _|_| | ||_|____| _ __ |_|   __|__|||||__ _|__|_ || || | |_ |_|_ ||__ ||_____| ____||_ || | _ _|| |_ |__ |__ _||||___ |__|_ | || _ _ | | |_|___|_|_ _ _|_| ___ ||| ||_|__|_ ||___|||||____||____|_ ||___ _|  || |  |||||_ _ __|__ ||_||_ _ _|| ||___|__ |__  ||  _| ||____||| _ _  __ _|||_ ____ |_| |__ |_|  |_|||____|  _||| __|_|_||_|__ _ |_|_   __ |||_ _ _|__|||_|_|_|||  __||||_||_|_____||| ____|_|| _| |____ _ |__ _| | _|||_   ____ __||_ _ |_____|_|_____ | __| ||||_|| || ____|__ |||||_|_____|||_||_||_| || _  ||_||||||__|_| |_||_|||||___ _|_| | ___|_|||_||_ |_ _|__| ||_|___|_|| |||  ||  __||_ _  ||_||_| | __|_| | __||_| ||| |_ || ||_|_|||_ _ |_|__  | |   |||___| _|| |___|__| __ _  ____|_| _||| _||_| _| _|_||| _ _|_ _ |||____|__  ___||___ | ||_     ||_ _||_|| ___ _| _|||___|| |_|| ___  ||__|_|__| ||| ||_ ||_| | | | _  _|_|||||_|  |  |  _| ||||||_  |  _| ___||_|___  _||_  |_ |_ ___|__|| ||_ __ _|||__||_ |  |_  __|__| _|_ _|____ _ _||_|_| ||_ | __  ____||_|||__| |_ __ _|_|____ | || _| _ |_| |__||||_| _ _ |_| || |_|| _ _ ___|__|||__ _|  _ _||  |_||||_|_ _ _|_ _ |||___| _|_||_|_  _____| ___||   _  | _|||_   _| _|_ |_|_||||_ _ _||___| ||_|   |_|||_|||_ __||__||_  | _| |||_|| _||__ ||_| |||| _|||_||_|__|__|___ _|_ |__||___|_ _ |||_  ||_|| |||_|_| ___||_|||__|   _|_|||_ _____||| || ||__||__||__|_  _  _| ___|_ ___ _| ___|_|||||__ _||___||_ _| | |_|__||_ __|__|| _ |__||__  | ||| _|_ _  |_| __|_|_ |_|_|_  ______|___ |_| ||_|| |||__|_|||_||| |  _|||"
     ]
    },
    {
     "name": "stdout",
     "output_type": "stream",
     "text": [
      " _||| || |_  __|_||    |__ |__ ___| _ | __|   |_||||   ___| _ _|__ _|_ | ___ |  _ |_||_|_| _| |_ ||__|_|_|| ||__| | ____| ||___| |____||___|__|_||| __||__ |_|__|||||_|   || ||| || | ||  |||_|___|_|_ |____ ____ _|_|_||_ __ _  __  | | |  | _____||_| _| | __|| | __ _||__|_|___||  ||_|______|||  | |||| |||__||__|_||___| ||_|__||__| |_____||| | |__ _| || |_|| _  ___|_ _|||___|  |_ _|_  ||___| _  _ ______|_ |_|_ __||___| |__| _|__| ||||__|_ _ _||_ |_|__ _|_|_||  |_ |__|  | __|___| __ _| | ||_|__ |_  ||_|||||    __ ||||__| _|||||| |_||_|__||||||| |  |_|_ __ ___ __||| ||_|| ||_ | _|_|___ |  ||| __|_|___||__||  _| | ||___ |_| ||||| _ ||_ _ |___ |_ _ _ || __||_ _|  |____|_ ||||| __|  || ||_|____|||  _ |||_|__ |__  _ |_||_|_|_  |_||||||||__|__|_|_______|_||_|  ||_  _|__  ||||||__ ____|____|   ||_|_| | |_|_|_|__|| _|| __|||  ||| |||_____|_ |_||_ ||_| |_ _____|___ |_ _||_|_|_ _ |_|| | _|_||  _|_|_|| _||__ |||  | |___|_|||__|_||__|__||   ____||_|| _||||||___ |_ ||||___|| |_||_|__ | _|__ __ ______|| |__|__|||_|||_ ||__|_| |||| __||___ _|||_ __|_ |_ __|_||___ |_ ||__||_|| _ _ _|_| |_ _||__ |_|_| |_|__||_||| || |_| _|__| _||_  _||||__| _||__|||_ ____|_ ____ _||_|____ __ |___ |||_|_ ||||||| _|_|_ __|_||_ |_|_| _ |_||  _ _|||||_|_|||||_ __|||_  _ _ _|||| ___ _|||_| _  __|_|||| ||_|| |_ _|  |__|| __|_|_|___|__|_ | _| ___|| ||||_|__|  |_|||||||| | _|___ |__  _ _|_||_  |||||___|||_|_ _||| _| _ __ |  | |||_| _| __  _|__||  |_|||__ |___  __|__|_ ___ |__|__|_|_| _  __|____ |_|||| __|______| __|| ___||_||__||______||___||___ |     | |_ _|| _ |  || ___|_|__|_||__|_ |_ _|__ |  |___ _ ||| |_ |__ _|__| |||||__|  | _|_|___||||__||_| |   ||__|  || _|| ___|_| |||   __||_ _||||||  | _ _ ||_|  | __||_ ___ _|_| |_| | |_ || ||_||_|_|___ ||||_||___|||_| |   _|_|  _|__ |||_|__||__ |||__ |_|_  _|||_ |  ||____ ||___||____|__||_||__ _|||| __|_ ||_ _ _|_|||| || |___|__| |__ _||_ ||_|_|__ _____|__ | _|||||_  _ __ |||__||_| |||_ _||||||| __||_|___||   _| |_|_| __ ___|_|_ _ |_|___| __|||| __|| |_| ___|| _|___ __| ____ ___|_|__| _||| ||| _ ||_|__|||___ ______| ___    ||| __||___  ____| _ _||__|_||||__||_|_|||  _|_| | __| |_|||_||_ |  |  _ ||||||__||  _|_ |_|_|_|__| |__  _| _ ||__|_ _ |||   |_|___ _ |_ |__ __| _|_||_|_|___| _ |_| _ __|__ | |||||||_| _ | |_ _||_||__    |||_|_ _ _|||| _|_|_ |_|  |__||__ |_|__ |___ _||||||_||__|__||___|___| |_|  _____ | ||| |_ __||| ||_|_| _| |_ |____||||__  || ___|_|_______| |||_| |||_ ||_|  || |_ |_|_____||_  _| __|_|__| ||_||  _|_| |_ |___ ||_  _ _ _|____ | |_|_ _|__   | __  _|_ | ___| _||__| _ __ ||_|_|_|_|| |||_|_|_|  _|_||  |___ ||_ _ _ _|||_|_||| _|_|  ||||__ _|_|_|||_||___| |__|_|__ _||||_|__|_||   ______||_ |||_||___ |_||_| |  |_ _|_ __ _|__| _____ ||||_|||___ || |_|| ||||__|| _| |_|_|_ | ___||_| |_____|_|_ |||_ ___ | _ ___ |_|_|_||||_|| |_ _ | _ |||___|_|_|| _  |_||_| _|||_|_ __  ||_ ___|_||||_|______ ||||  __|_ _  ____| |__|| ____ _ ||_| _ |_|_||_||_ _   ||__||_________| |_|___  |___ || _ ___||_ __| |  __|_|_  |__ ||__|__|||____ | _|| __| ||||_|  | ____ ||_||_||| ||_||||_||___||___||_|  |  __|_ ||   | _|  |____|_||||_| __|_|____|||| _|| |__ ||___|_ |_ |||__ || ||__ |||_|  |_| |_ _||_| |__| __||||||__|_| _||___ |___| | _||_|__|_ | __|||__|___| __| |||  __  _ __|| ||||_||___||__ _|__| __ _||||_| |_|| _|_|_||___ ||||||_|||_ |__   __|_ ___ ||__ _ _  _|___|||_||_||___||_|||||| |__ _ | _||_|||||_________||  __||__   _ _||__|__||| __|| |_| |_|||_|_|__||  ||| |_|_  __| _ ||  ||_ || ||__ __ ||||__ __| |_|||_||||_|| __| _|__||_||   |__|||_||  _|___| |_|___ _||_|_| _| ||__ _||  _|_| |||_|__  ||||_| || | ||_ ______ _|  ||__|| ||_ |____|  | |_|__ _|__|_|_|_ _ __| ||___ |__| _  |_|_|||___ | _ _|||| ___ |_|_|||_|_|_|   _|_ |||| __||_|__ |__||_ |  ||__|_|_|____||   _|_ ||__|_|__ __||_ |__ _|__ |__|_||_|_ ___|_||_|| __|  |  _|_ _|| |||_ |__|__|_|_||____ __|_|_|_|_ |_|||_|  _|_|_| _ ___|||||_____|__||| |_| _|  | |__ |_ |__|| _|___ |_|___|_ ||__| _|__|||| ___||| |__|  __||_ _|_|__ _| || __||_|_ _||__   __ _|_|________ _||___  _|| __|__|||  ___|| _ |||______  _ __ | || |_ ||||__|| _ _||__|_|__||__|___|__|____ |||_|||__| _||_ | |_||_|_|_ |  ||_ |_ ||||_||| |_| _|___||_ |  |___|_||_ |_____|||   |_|__|_||||| _| _||_|_||____|_|||__|__  _ ___| __|__|||_    _||__ _| __|___||___   _   ||||||| _||| _ | |||  _|_|_||__ |__ |_ ____|  |  _|||_ __ _ ____|_|||__| ___||__  | ||   _  |_|_| |_||||____ |______    ___||| |__|__| _ __|__||||_| _|____ _| __|___ || |||||_| | |||_|__|||__|___||__|_|_____ |__|__ _  |__| __|_____|_____||_   ||_  __|||  _|___|__|__|_ |_||__ ___||____|_ |_||| __ ||_ _|___  _ _ __|__|| |_ |___|     _||_ ___|__|| | ||| ___ _ _| |  || _|||__||_|__||_  ||_  |  _ ||__  _|_||_|| |__|||_|_ ||  _|____| |___________|___ _| |_|| |___|__||__|||_||_|_|_   |_ _| |__||__ __|   __ ||||| ___|_  ||_| |_|_ __  _|_ || |||_ __||___|_ ____| _ |__| |___||_ __| | |_|__||_||    _|| _|_  _|_|__ _ | ____|| |_||_|| |||||||_|| |_|_ _|__ __  _ _| ____    ||_ ||||_ __ __  ||__ ||__|  _||| ___||_|||  _||_| ||_| |||___ |__||__||__| ___ _||| ||||  ____|||__|_||_ | ||  ||___|_| _|__ |_ ||__ ____||__|| |||||_| ||______|_||||||__|_|_|_|_|_ __|___ _||_  ___|__ __|_| |||_|| _|| |__ _| __|||||  |_|||_ |||_ __| |||__|_|||_|___ __ __|_|||||||______ _| |_|  __ ___ __|||_||_| _|_|_|_| |_|_ |_|||| |_|_| _||||__ _||____  ___ |_ || _ |||  _ |_|_  |_    ||_| ___|| ||____|__  |__  _ |_|__|| |_|_| || _ |_||| _|| |||__ _||| |_ _||__ _|  | |  ||||||___||  | _   |||||_|__ |_|||__|__||   || _||| ___|_ |||_ ||____|_  __||_| || ||_|||| __|__ ___|___  |_ __|__|__|       |||||||___||__  |||_ |___| ||||____|_  _ _| |_|| |_ _ ||||_   |||_| ||_||__ _ __ __ | |_ _ |__  _| _||_  | | |__|__ _|___| __|__|_|__|_| | ||_______ _|__ ||_ |_| |__||_|_| __  _|__ __|_|___|| |__| _|___|____|____| _ _|_|_|||_|||_  |_ |__|  ||_|| _ __|__|__ |__|_|||||___| |||__| _ _|| _||_ _|__|__|_|_  _ ||   |_|__|| |||_|||||| _|| _|||_   ||___ |_____|| _ |__|_  __|__|___ |_ |__||_|_|_   |_|__|| | |_|_|  _|_||  |__|||| |||____| _ |__|| |__|_|__|__| |___|  ____|| _||___ |||___| _||__|_||_ __||_ |  _|_  _|_|_  | _||_____ | |_| |||_|||__ _  __||| |_| _| __|__ _ _|_ _|_|____|| |||_|_|_ || _|_  __|_ |_|| _|_ |_|||_  |_||_||_ |__ | __|_  |_|_||___ _ |||||   __|  ||_______ |_||_|| |||  |_|__||____| ___ _||||_|____|_|__ ||| |____|_|____|| ___| __|   |||  |__||||___| |_||_____|_____||_|_||_ ||_ __| _|___ ||_||__ | _ _|| ||||_   ||__ | ||_ ||____ |__  __|____  |___|_| _|||  _||__|||__ ||||  __|  || ||| |_|__|| __||_ ||| |__|_  _|||||_ |_ __ ||__|__|__ |_____|||||______| | ||___| |||__  __| ___||| | _  ||__| _ _|||___|  ___ __| |_  |_||_ ||_|___||___||_|_ ||_| | || _|___ |_|||__| | _| _ |_|_ |||_| |__ |__|_|_ |__ _|__ _|__||||_ __|   __ __| _|| ||_|_ ||__ |_|  || |_|_||  |_||  |  ___|_| |||_ | _ ||_||_|__|___|_ ||____||__| __|__||_|__ |_ __|_|| ||_|| | ____ | ||  _ |  |_ ___|__||_|_||_ ___||_| |__|_|_|_| _|_|_ __ |_______ _|__|||___ _||_ _|_|__||||_| |_____ _|___   _||__|||| _|_|____|| _|_|_ __||___|_|_|_||_|| __||_|_| _|_____|___|_||_|||___ __|  __|_| __ ___|||__ |  _ |___| _|||__  |||_ __| _|_|_ _ _||_|| | |||| ||__|___| ||||  _ |___||| _ _|_| _ _ |__||||| _ _| __||_|||_| ||||_||_ __|_ |___||||_| |||| |__| |_| |__|_||_| _ | _|_|||_  | |_ __||  ||_|| || ||__|__ |||__ _  _ || |__ | __|__|_|   _| |___ __|||__||| __|_ _|_   | ___|__ |_||__ |_| __|_| |_ | _|_|  ___||__|   ||||_|||  |_ ___|_|_| |||_  _||_|| ||||_|||  __ ||  ___  _______||__|||_| |_| ||||||_ ||_ ||_|||__|||_|_||_|_| ___|__ _|| |___||__ ||   | |||_|_ _|_| ||_| |||_||__ _||||||||_|__ ||| _||___ ___|__ ||_|_____|||||||__|_|_|||_|| _|||__  |_|___ _ _|_||_  _ __||||||___ _ ||__||  __|_||_ _|_|_  ||_ _||  ||_| _ _  _|_|___ _ |__|_ ||_| ||  _||  ||_ |_||_|__|| |||_|| || ___  |____  |_|_|_|__ ____ __| __||__ _  _|__|||_|_| |___ || _| |||____ |_ | _|__||  || |||__ _ _____ __|_||_|__| | |_||  | ||_|__| |_||||__ |||____|___|_| ||||||  | ||| |||_| |_ |__|___ ||__| _ _ _||_||| |||__  _ _| |||  |_____  ___| __| |_   _||  |_|  ||___|_  _____||_|__| |__||_|_ __|| _||_|||| | _ _|_|_  _____|_|   | __ _|_|___|  ||||_____|__|_|_  _|||____|| __||| | _|||  |||||_ _  ___ __ || ||||||_|||||_|_|_ _|__ |||  | |___| |_|__||||| ___||____ || __ _ _| ____| _ ||_|_|_||__ _|_|____|_||_|  |_ |_||||__ _ |____||__|_|___ |_ | _ |_ ||_||___ ||_| |   __||_|___| |__|__|  ||_||||| |_ ___||_| ||||   _||||__  _|_ _|__|___| _|||||___| _||||| |_ _||______ ||___|_ | |_|||___|||||_|||_||__ ||   _|_| ||__|___|_||__|_||  _| | |____|______| ||| _||| |||_| |_||___||_|  _ _| __|_||_|_|__|_ ___||_|||_|   ___||| |_ ||_|__||_ ||||__|_|___|_|  _   __|__|   |__|||||||||_|| _|| _|____|_|_|  ||_||_|| |_|_|||___| _| |_||_ _|_  ||_||___|_|__"
     ]
    },
    {
     "name": "stdout",
     "output_type": "stream",
     "text": [
      " |_ ||| _|||||||| __||____ __ _| __|___||_  |  |__|__||_ __|||||_|____ _ ___|___|_|___  |____|_ __ | _| _||||_| |__ |_||_ __|_|_  _ | |||_|_|__|__|_ __| _|__  |||___|| |_ ___||_| |||_|_ _| |_| _ _ |_  ||_| |_|_ |_ |||_ |_| | |_ ____| || _||_||||_| __  ||_|_|| ||__|_||__||____   |_||  | _|_  ||__ ____  |__ __ | |_ | |_|_| | _ _ |_||_ | _|_  ___|||||___|  || ||___|_|_|_| |__ _||| ||| _| _|_|__|_| _||||||____  || ||___||____| __ | _  _|||__ || __ _|_ __||__| |___| |_||| ||_|_|| |_||||||| _||__ _ |____|_|| ||_|| |||_|_ |_ ||||_|_|__  ___ _____||__  |_||  _| |_|||_|_ |_ ||||____|||_  ||_||_|_|_ _|__|_|| |__   _  || _||  __ _| ||_ |__|_| || __||__|||__ __ |___||_||___|_||__ _|| _||__| ___ _ _ | |_|||  __ _| |___| |___| ___|_|||__|_ ___| ||_|_|| ___||||___ |_|____|_ ||____ |  _|___|_|_ _|| _|   |  ____ _ ___ __|__  _| |_|_ ___   _ __|__  _|___ _|__| |_ _|||||_| _| __|  _ | __||__| |_|__|||_|_ |___ _ |________ _ __| |__ _|__   |_ |__ __|_ ||   || |_ _| _ || |_ |_ |||_|_ _|__ |___|_____|||_ _| _ |_||| | ||_|_| |||_||_ |____| __|_ ||||___|__ |||___||||| ||_ | | __ ||___|  |_|||_|||__| |||_|__|____|_ ___||||__|||_|_ ||||_|_|||___   _|__ _ __|||_|__|| |  |_ ||___||||_ ||__| ||||||__|_|  | ||_| _|___ __   _|  __ _||_|__ ||_||___||_|| |||_|||_|_|_ __ ||_|__||||_|_|__||||_| |_ ||_|||___|||_|___|_ |||___||||_____|_|| || | __ ______||| _ | _| _____|____ _|___ _|_| _|  ___| ||  _|_| || _|_||| |_ | ___ ||_|| __|||_ ___| |_|__|____||_||||___  __ |___  _|___|   _||____|__||| |_ _|||_ _ ||| __|_| ||_|_|_||  |||_||_|||_| _|_|_ _  | _|_| _|_| ||||||||  || | ||_||_|   |__|| |||_|  | __ _ |____ ___ |__|||_ _||_|_ _|||____|||__| _|_ _ | __|_ _ | _|_||| _|____  _|_ ||| |||_|___ __|__|_|_|_ _|____||_||||__||__|__|||_ _|_|__ ||_|____||___ _|  _ __   _| _||__|__|___||_|  __|_||_||___|_   _|_| |||||___||__ __| _ _  |_____|___||_  _|_| |||______|_|| || |_____ __|| || ____ |_ _||| | |  |_||__|____|_|__|_| |_| |_|___|  |__ ___ || __|_||||||||  __|_|| _||_ ||__| ____|||__ _|___  || | |______||__| _|__|  ||||__|____|||_ || | |_| |  _||_ __||| _||||__|||____  ||_||| |||_||_| _ | || ___|_| |________ |__   __|||||||||___||_|______ _ ||_|||||  _| __ |  _|_||___| |_  __ |_____ ____________|| |___| |  _|_||_ _|__|| |_|_ | ___||___||_| |||   ||  __||  |_| | | |_  |_ ||| |__ ____|_|_|_|||_|__|_| __ ||  |__ ____|||| _ ||  _ __||||||_ _ _____  ||___|_|_|_ |_ |||___||| _|||___  __ ___|____|  __|||_||__|__|||_|_||____|_| _____||__||||__|_|_ _ | |  | _|   |  _ _ _ _||||_|_||___ ||||||_____ |_|_ __ |_|_|__|__ ___||__ ||____|||_  | | |__ __|__||_||__  __|_||___| _  |____| |  __|||||_    |_||||||  ||__    |____|_  ||| ___|||| ||_|  ||_ _|| |___|__ ||__ ||_||_____|__| || _|||_|| |__ ||  _|_____ | _ |___|  |__|__|__|___ ||||  _|_|| _|| __|__ |__| _ ___  _||| ||| |_||__|_ __ |  __ ||||_ |   ||  _  ___|___ _____| |___| |___|__|_|  |_|| |_||| _ | ___||_|_  _||_| |_ ||||__|__ |___ _|  _|__| _|___|_|_||__||_|_||_|_||_| |_|___|_||||| __| | |_|__||_| |||| ________|__|__| || _|_| _|||_||||_||||_| __| _|| __| | |_| ___|_|||_ |||_|||||||||||___|||_||_|||||    |||_|___|_| || _  ___|__  ||_ |_ ___|____|_  |_ |__||_ _||__|| | _|_|||_ __ |____|||||| |_____|_||_|| _| ____|_| _|||| _ |||___|____   | |__||| ||____ ||__ _| ___|____ ||| |___|_ _|_    ||||_| |_||||  _| |  |||||_|__ _||__|___ |_ ||___|| ||_|__ |___|_||__ |_|___  |_|| _|__||__|_  _|||__|_|| | ___|___|||||||| _| |_|| ||_ | __|   |____ __| __||___||___|_|| |_|_|__ |__ __| _ |||| _  |___ |_|| _|| | _ __|__ || ___|||| _|_||||_|||_ __|_||||_  ||_ |__    ||| ||_|| |__||||||_|||___||| _  |_||_ _|__|_ __|_|_ _  |__|||| |_|| ||___  __  ___||_|_| ___|_ |_| _____  |_ |__ _|_|_||__|| ||||  |____| |||_| __  |_|____|_|||_ _|_| ||_|_ | _| |||| _||_ |||||||||_|___ _| ||||___||||   |||| _| _||| ____ |____||| ||_ _|__  |___  ||| _||__||____  _|__| _| ||||||||   _|__ _ | __| | _ _|  _||  _|______ __ |||_||_ _ | |_||||_|_ ||____|||_|_||__||||||_| _ _|   |_  _|__|__| _| ___|| ||_ _ |__||||_||||_|__|||| |||_|  ____||_|_|_  _| |_ | _|||||||_|_  ||_|__|| _||___| _   _  _|||____|||  |_ _|| _ |__ _|_|||| ||__|||___ |_|  _|_|___|| __ _ _ |_|| |_|||| __|_|_|||___|_ ||_|||__| |_||||| _|||| |_ __ |_ ||||| |_  |||__| _||||||_ |_ _|||||_|||_|__|   __ ||_|___||____|| |||__|_||||| __ ||_ |_  |||___| _|  _| |||_|__   |_|___ ||||_ | || |__||_____|||__||_| _||___|_||||  _ _||_|| _|_|_| | |_|_||_ ||___  ||__ _||___|_|| _||  _|_ | _ ||  |__||_| _|_|||| _|| |||_|| |_| _ |_ || __|| |_|_ ____  |_| _ |||| || ||  |_|_|_|_| |_| __|_|| _ _| _|_||__|||| _|_||___ _||||_||_ _|| ____  ||  ___|  __|| |_|__ __|_|___ | ___ _ |||___ ||_|_|||__|||__|_|_|||||||_||_|||_ ||  ||_| _ __|____ | || | | ___|||_|_  |__||___ ||| ||| |_|__  __|||____|_| ||||__| |_|_ |_ _ _|_    _|_|_ ___||||__|  _|_ || |_ |||_|| __|_ _| ||_||||_ _ ||___  _ |_||||_|_|_|_ ||| |||||||_|___||  |_|_ ____|__  |_||_ |||__|||||||_ |||    _| || _  _||_ |_||_|__ |____||_ _ _ | ___  ____|_|_|| |_|_|_|  __|||_|| ||__|__|   |||  __|| _|_||___|||__ _|  _ ||   ||| ||___|_|__|_| |_|| _|_ |||___ ||| _||_|_|_ ____  |_|_ |_||__|_||_||__||__|_||| _||__|___|||_ |  _ _ _|_  __|___|_ | |_||| _  __ _|| _|____| _|__||__|||_| ||_ |||____ |_|__ |_ ||| ||_|__|| _ _|___|_|| ___ __| _||||    _|||_  __|_||   _|____||| ||__|__    _|  _ ||| || _ __ |_____||_|||_|_|_||___|| |__||  |  _ _||||___|_ ||_| |_|__ _|||_|_|| _|||_|   |||||___|||_ ||_ __|| ||||_|||____ __|||_ |__|__||__ _  _|_ ||_| | |_|_| |___|||__|_|_  | __||_| _|___ ||_|_|_| _||| _| __|_||_|__ _|_| _____||_|_ _||_  |_| _  _ |__ |_ _| |_|_ |||_|____|_| ___|__|_ |__| |  _| |_|| |_| _ |||  __  |___| || ||_|_|_|||__|__||| _ ||____||||||||||___||___| __ ___|||_ _ __  ||| |_||_|_|_ || ||_||| _ | ||__|_|_|| |_|_||_ | ||_ _ |__ _|_______ __||__ ___  |_ _ _ |___|||_|_|_|_ __||_ |_||__|__|_||_|__|   _____||| _  |_ _| _| _|| __ __ |_ ___|||___|| ||_| |__||| |  _|__||___|_||_|_| |||___   |||__||| __||___ _____| |__  |_ _  | ||_____| || __||_|| | ||_||_||___||||_ _|__| __| |__| __ |__  |_|__|_|__|  __|| | _|| || ||_|_ | ||___|| _|_|_||_|_|__||___|| _ _|_||||_ |_| |||  |_ ____|____||___ | __ ||_ |_| _|_ _ |_||___ | ||_  ||| | || _ _ |_||_ _|_ __|| ||||||__ | _|_ | |  __ ||__||__|___|__ ||_| || |||_||_||___ _ ||| ___ _||____|||___ _|___| |_|| | |_|   || |_ |_||| _ |_ |||||__ _____||||||_  ||| |_|| _ __||__| |____|____ |||_ |_|| |__||_ _|_____||__ |__|_||___| _||_| |  |__|_||_ |_|| | ____| ||_|_|_ ||_ ___ _ ___|_||__| __ ||| _ ____ ||____ ||  ||___||  __|_|||||  |__| | | _||__|_|_||_ _|||_ ||_ || __|||||_  |_ __||||| |__||||| _ _| |_  |_ ||__| __ ||_| __||_|__ |||_||_|_||__|_ | _|___|_||_|||    _|_||____| |||||||__|||||  ____||__ __|  _|||_|  _  ||| |_ __|__||___| ||___  ___| |_||___|_ ________ |_ _ |_| __ ||_ ||__ ||_   ||_|  |_| |__|||| __ |  _|||_||||___ __ _|____||| | _|_  |_||_|_ | ||_ |_||_|_ ||| |__|_ |__|| ______|_|  _||__|  _ | ||||_____| ||_   ||__|__ __| __|||_____| |_|__|||__||_|_|___||_ _||_|__||_ | _ |_  ||_|_|_____   __|____ ||| ||| ||| || _|__| ||_ _  _ __||__|___| _ ||_   ____||| |___|||  ||_||| _ _ |_ ___|  |_||_|_ _|_|  ||_|||_|_|__|____ ||__| _||  _____  _ __|_|___ ||______|__|_| || ___|_|_ ____ ||||_|| ___| _|_____| |_||_| |||____|  |||_||_ |__|_|_|||||||_| _|_|_||__   _|| _   _  _  ||__|_|___|_|_|_|_ __||___  |_|______ _||| ___| __ |  ||| |_____   _ |_|_ |___|  ||___|  _|| |_| || ||   ||_|_|||_||  _____ | _||_ |_ ___|_ ___||___|_| | _ ||||__|      | ___ _|_|_||__| ___|_____||_ |__|_ ___ ||__ |_|__ __|_||||| |__| |_|  __|| |_||||  |_||||_____ _ |__  ___|_ _|||| |__|_||_|| _  ___| _____| | _| || |_|_||_ _____  _ ||  ||| | |__ | |||||| | __|___|_|__|| _ |___ __ _|_|_ |___||__||__  || _|___ |_||| |_|| _||__|___|___ || _|| _| |_|_ __ |  _|| _|_|_|_ ||_ ||_|____||___|_  |__|| |___ ||_|__|__ _ _||___||__||_||__|__|_  ||||||_|____| |___| _|_ ||||||_  _  ||_| _ | _ |_|_  |  _|| |||||||_|___  _ |_|_||| | |___||_||_ _|_||__|_|__||___|_||_| _  _ |________  _|___| ____ __||_|_|_ ||_|||_| |||_|||   __|___||__ |__ |_|_ |  | _|  __|_||||| |_ __|| || |_| |  ||__|| |  |   |_| ||| ||___| ||_|_|||_|__ |_ ___|_ ___|_ ___|_|_| ||________ ||___|__||_|_|_||_||| |_  | | _| || | ||||_|___|__|| _|_| __|_ _ _|____|_ _ _||_|||_   __|__ _| |___|  _| ||||__ _|||___||||_|  |||__ |_ __||_|_ _|||____| _  _|   |_ _  ||_||| __   |_||_____|_|  _ |___|_|_|||_|_|| |___|_| _| | _|||_|| |_| |___|__| |_____ ||_|_ |_|_|_|_|_||_||_ | ||_|__| __|______|___ _|_| ___|| ___ |__||_ _   |_|_ |__|_  _|____ |_ _ _   _ _|_||||___ |____ |_||_  ||__||_||__||__||__|  _ __| |__ |_|____|_||||||_|| |_|__|_ |__|__|___| _|_|_ ___ |  |__  _|_ ||__ _|||_| |||  _||_ _ ||_||_| _ _|  |_ || ||| |__||__|_  __ |_|___|||| | |_||_||_  __|_|| _  ||____ |___ _ |____|||_| | ____ _|___|_||||_|_   __|___|_ __|_|___ ||_| _|   ___||_| _||__|||__||||_| __   _ __|__ ||_|||| __|_||_|_| _| |___  |||____| __||_||__| _|__ _  |_ ||| |_|||_ __|_|_|||_ |||__|__||||_ _ _   ||__|_ ||_  __|  |||___|||||  |   |___||_||____   _|__|__  __|__ _|_| _|_|_|| __|| __  ||| |_ _ __||_|_|||_||| ||||||||   _|_|_ |_____|||_ | |||__||___ ____|__ || | _|| |_|||_| __| _|||__ _|_|__ ||__| |___|||_|||||__|| _ _||_|_ _|||_ |___||||||_  |_||_ | ||__|||__||_||__|_|  _| |_|_ _||_ _  |__| | _|||| ||  _|_|_ _| __ || _|______||__||__|_  ||_|__|_|__|_   |_|| |_|_|   _ ||__||__|||||__||__ | _|_|||_|| _| |_|_|______| |____| |______|_ |_ __ | __   || ___||   ___  |__|||_|____|_||_ | |__|_|_|||_|_|___|___||| |_ __|__||____||_|_||||||__ _| || | ||_ _|___|_|   | _ _  _   | |__|__||| ____ _||_|_ ___  | _____| _|_   ||___   |_| ||| |__|_| _|_|_||____  _| |  _|||||___|____||| _| ||| |   _   _|  |_ |_|___|__||_|  |__| | |||_| _||___ |__|_ _||__|_|_||| __|__|| _|_| ||| __ _|___||| || _|_|||_|"
     ]
    },
    {
     "name": "stdout",
     "output_type": "stream",
     "text": [
      "|_||_||_|_|  |__| _|__|_|_ __||||_||_||___|_||_|_|| ||_||_| _|||||_| _ _|| |  ____||  _|| _ _ _|_ |_|_||_|| | _ | _|_|||_____|___ |_| __|__ ||_ |||||||||_| |||_  |______|_|||__ |_||_   _____|| || |____ |_   | _||  |__|| _||||||||_|| _| ___|| __||__|_|||_ _|||  _ __ __|_ |||_|_|_|| __ _|___||_ _|||||| _|_ ||_| | _||_ ||____| || |_||_| | _|__ _|||| __|__|| ||__|_||_ ||___|_ |_ _|_||  _|_ |__||_  || | _|__|_|__| | ___|_____|_______|  __| _||||__ |_ _ |___   _| ||| _ ___ ||_|| _ ||___| | |  _  ___|_ _ | _||| _| | ___ ||||_ _||__ ||__||__ | ||| ___|___| _| ||___ |______| _ _||_||| _|_|_ ||_|| _|| __  |__|_| | | |  _||_| ____|||___|__||_||__||||__|| _ _ |__||||_______|||_|| |___| |   _|_| ||__|_ |  _ __|_ | _|__ _|__ |  |_||_||||||____||||__|_____||__ ||  ___  | __|__||__| ||_ __||||  ___ __ _||_||_ |||| |_| | |||__|_|_ _ ||__||__||| ___||____||| |_|___|||_||_|_|||_||| _ _|_|||| |__| |_ __  ||______|| | | __||_ |___  | |_ __|_||__ __|||_|_____ ___ |_|| ___||___|_ |_|__||__|_|_|_| |_ _|_|___| _____  _| |__|__||__|||_ ||_ ||___ __|||_||__| |_|_ _     ___ |_ ||_||_ _|||| ||____|__|| __||_|||__| _|||_  _ _ _|_|||_ __|||||||_  |||___|_ ||_|| ||___ _| _ || __| |____|_   |_ | ||||||||__ |_|___|_____ |||_____ | ___ _| _| ||_  ||_| _ _||||| || _ _ __||||_|_ ___ ___||__|||__|_|_|_ | _ _|||_ |_||_ _||__| _ | |_|____||||||   ||||_|| |_||||_||_ | _ _| ____||___|_ |__ __|_|_||____|_ ||||| _|| | __||_||_| _|__||_| ||_||| ___ _|_| || __| |_|___ ||__| _| _|||__|_ | _| _|||___|__ ___|_ _|___| ___|  ||   __  ||_|__| ____ __| _ ||_|____|||| ||__  |____| _ _| __|_||___ _  __|_| ___ || ___|_____|_||__||_|_|  ||__|__|  |_||_ |||__ |  || |_  | | __| _|_ __ |_|__||_   _| |__ _ __|__  _ ____|| _||| _| __|___||_ ____ _|_ _|||____|___| _|| _| |___||_ _ ||_| ||_| _ ___||_|___||___| |____ __|  |||| _ |_|_ _|||  _ _||_|__|||   _   ||||||___|_| ||____ _|  |___  _||__||||||_| |__  __|_|_|_ __ _||__|| |_|  |||||_ ___ _ | __ ___ | __|||  |__||_| __ _|||    ___ || _|___||  |||___ || |_||    _| |_____ _  ___|_|_|| |_ |  ___||_|||__|_||  |_ |___|||___| |_| ___ ___|_|____|_   | |||___|_| __||||_||___|_ _||||_| _ |__ ___|_ _  ||_|___|____ ||__| |_ _____ |  |__|___|||__|_||  |_|| |_ |||  _||||_ _|| _|   ____|||| _ | __|| ____|||||__|   || _|_|_ __||_____ | _ ||| |||__ _|_ |_   |_ _| ____||_|| __| __|_ | _|||||__| __|  |_  | ||_ __| _ _|||_  _|__| | |__ | ||__|__ __  |_ _|_||_ ___ _  _ _ ||____ |___   _||__ _|_||_|| ___| _|_|_  _||__|_|_| __ |___|_|___| __ ___|____|__   ____ |_  ___|__|_    |___|__|_|___|__|__ _ _||__  _|_||| |__|||__|  _ ||_ _ _|_|  ||__|||| _|_  _ || __|||_ _||__|_| | __ |  __ |||||| ||||||_|__||||||_ _|||__||| __ _ _ _| __|| |_ _|_| _||_ ||||  _|_|||_ |||||___|_|__ _|__|_ |_|  | || |_|_|_|_| |____|_||  _|||_| __||_||_|| __  __ __|___ ||_ | |_ |__||_ _|_||||_|_ _|_ _ ||____ __||_||_ _||||||||___||_|__|||||__ |___|||_|__||_| | _|||||_|__  _ _| _||_ _|____||___||||||__|   __||||| ||| _ |_|| _ | ||  |_||||__| ||_|||_|| |_|_||__ || |  _|| | |_|_|_ |_  _||__|||_|| ___| _|_| |_|____|| _| __ _|||  _|_||_||__|__|_____|  _ |__ ||| _|__|  | ||__|||_||||__|||| _| __| | ||_||| _||__|_ |___|__|   |__||| ||||__| ||___ _____|| | |_|_| |_||_|_| _||_ || ||_||  |_||||  |_|_|___||  |||||_| || |||_|_ |_ ||   |__|_| _ |__|_|_ _|||   __ |_|__|__||||_ ___|||_ | |_|  __| | __| _|| |_ _ _ |__|| __  _ __| _|_|__ _|_  |_____ | ____ _|| |___ ||_|||||_|_||__  |||_ |_|__| ||_|_||_|_ |___||_||_|||_| |_| _|__|   __| _ __ |______ | ||| |_  _ | ___ _|____   ||_ _|_|_ _ _| __ |__  ||_| |_| | ___ |_ |___ |_|___ _| __ |__|__| | | _|_  | _|  __| |_|   |_|_ ||_ _ ||___|_|__|__  _||||_|__|___ _|_| _|__ _||_| ___||___ | |_||__||__ ||| _| |||| __||_||||_|__  || | ____ | |_||  _ __ || ||__ __|__|||_| __||| | || _|    ||_|| |||||||__ __| |||||_| ||  _ ___ _|_||||_||_|| __|__|__ ||__ |___|||_ | |  |__| ||_ _ _|__|_||_| __|||___ __|| _  ||_|_ _| |_||__|_ _ |_||_|  _|__ __ __ | _||| |_| ____| __  |||__||_||| __| __|||||_|||| _|||___|____ |_|||_ __ |_ _|||__|__ ||___||_|_||_ |_||||| __ _ _| ||_| |__ ||_||_ _|_||_|_ _|_|_|__| |___||||||||_ _ _ ||   |___||| _ |_||||| _||  |_ |__||| _|| |_|___||_ _ ||_ _ _ ||_|||| __ |_|__||||   |__ _|  _||_ _|_ _ _|||| __ | | ||__ ||____ __|||_||__|| __ |||_|_|_|||_|_  |__|_|  _||||_|__|_|_| |_  ||_||__||||||_ ___|_|||_ ||||| |__|_||______|_____|||_ _|__| |_||_ _|_||_ |||_____|________| |  _ _||_|_|____||_ |_|_ || _|  _ | _ |  _|__| || __ |  ||_|_|_|  _||_||_|_|_|_|  _| _|__|_|||  ____|__|_|__|_|_||__|_|__||___|_ _ |_||_ |_|__ _ ||__ |_  | |__ _|_||_ _|   ___ |___||||_|||___| ||_|_     |_||_ |_ __||| | _ __ |__||    ||__| |_|__ __||_|_ |__ |_ |__|_|__|||||__ |||__|| ||_|_|_| __ _  _ ||_||__|||| __ _| _  _ |_||_|_||__||  ___|_| __    _ ||||||||___ _ |||___ _ _ |||||_||  _||| _|||  _ __||__ _| |_|_||  _|__ _||_ | || _____|||__ |_|||__|_ __||__ ___||| _ |_ ____|_|_|___ ||___|_|_| |__||__|||__|___| |_|____ |_  | _ ||__ |__|||__|   ___ __|_ ||__|_ ||||||||| _||_|_|| _| ||_  | _ __|_|||| | |  _|___||_ |||__|_| _||___||___ || _  _|_| _|_ |_|||__|||__|_ ____ __|____  |||_||_||| __|_ _|_| |_| _|___|__ | ___|_ ||_|  |  __ __||__ _ _ _|||_ _ ||_ || _|_| |_ |__|  |__ ||__ |___| ||||||_ _ | ___ __||_ |||||||_ ||__|||__|| _||__||| |_ ||_|_|  |_ ___  |  __|_ |_|_ |___ |___| || || _|_  |_ |||_||_ __|_  __||_|||_| ___ | ||_| |_  |__|_ _ _| _||_|_ |__ __||_|___ || __| |_ |_||__||    _||__| || _|_ ||_ __|__|  __| ___   |__|||__||||_||_|_  ||___|_|_||_|_____|__||| _|_|  _||_||__|_ ___ ||||| _ | ___  | _| __ |_ |   _|||||_|||| |__|  |||||  |_ _ |||||| |||_  __ ||||| _|_|__||__| _| _|__ _||__ _|___|  |_ ||  _|  __ |_|_   _||||_|_|||__ __|   |_||_||______ ____|| _| _ _ _| | ||_|_| _|  __| _|_ _ | _|||||__ |_|_  _ _ ___|_|_|__|   ||_|__ __||___ ______| |___|| |__  __|_|| ____ ||__|_|_  ||_|| |_ ||_||||___ |_____| |__| __ ____ __|_ | _|_|  __|| |__|__ _ _ _ _ ||||__|__ |   |__||| ___|| ||_  _| _ __| _|_ |_||__|__ ||_| _|______|_||_||__  |_|| || |  _|__  _|_|_  ||| ||__|_|_||_||| |__ | |  |_||_|_|||||__|__ _ _ | |||__|___ _|__|___ ||  ||_   ||_||_||___| ||___|__ |_|__ |_| ||| ||_|_|_|_|||__ _|||___||_ |_|    _|____||||__|_____|_|____   _||||  |_ _  ____| || _ ||___|_|| |||_ _|_| |_||||  ||  _| __ _|____| _  |_|_ |_ | _|_ | _||__|||||__|_ ||| __|_   __ _|____|__|| __ | _||_|_  _ |_  _|_|_  _ |_||_ _  |_|__ _|__||___| ||||  |||||__| |_  |_||___|_|_||||____| | __|_  ||  |_|_ |_ ___|_|__ __|_ _ _ |_|_  _ |_|___|___| _|||_|_|||__| | |__|__|____  |_|___ |||| _|||||||_|__|_|____||_|__ __||_ _ | _ __|_ ||___|||_||____|_ _|_ | _||_||_ ____| _ | __| __|||______ ||_| | |  ||_||| |_|_____ _|_||_ _||_|__|_|__|_ | |||__|__|| |__| _|__| ||_ _|_| _ || ___|_|__||_|||___ _|__|_|_| __|__ __|_| ||__||_|_ _ |_|_||_| ||___|||| |__| |_|||__||| |_|___  _||||__|_|___||__ |   |__|  ||_ ||___|_|_|_ __ _|_||__|_|_ __|| ||_|| ||_ |||||| _||| |_||_||_||  __|||_  |__ _ ||||_|| _ ____  |___ || |  __| |___ _ _|_|_____|__|_|||_____|_|||  ___|| | _   _|_||||____|_|__||_||__|__||  || _||_    __|_|||_||  |_||| _ | |__ ||__ _| _|||_   |||_|____||__ | _ ___||| |__|_||  |_||||_ |__ ___||||  |_ | _ |__ ||| __|_|| ___|__  ||_|__ _ _||_|| _||||_ |_  __|_ | __| __|_||__ |_____ |___|||__ |||_ _ |_| _|_ | __ ||||| _| _ |_ |_|_|__|_ |_|| || || __||||___| ||_|____|__ |_|_|__|___| _| |_ | |___ __ |__|___|_|_||_|_|__ |_|_ _ _| __|_|||| |___|_|_ __ ||  |_|||_|____   _| |___ ____| ||||__| __ || |__|_||| |_||__ | ||__ | ||_| ||||_|_ _|| _  ||||  |_|||_ | _|_| _|_ _|__| || _|_|___|| _ || |  |_ ___|  |_|  |__ | _ ||__ |____ _|_||__ |  |||_| _|__| || |__||__  _ _ _|_| _| |_| ___||||  _|____|| |__||||_| |___|__|_|||_ |__|_ ____ _ |_ _ _   _|_  |_|||__||| _||___||_|_|| _| | __|_  ||_||_ |_  ||| | ||__ |_|_|  |__|||_ _||||_||_|_|_  || _|_|___ __ __|_|| ___||_||_|_ | _| _|| _|||___||___||_|||| _|_|  __ _|  _|   _ _| _|||__|__ _|___|__|___|_| ___||_|__|_|__||_ ___ ____|| ____  _____ __|___|  ||__ |___ _|  |_|| |||||_|_||_|||_||| |____|_|_|||___|  ||_| _ _   __| _ _|_ _|_|| __|||_| _| ||___|| __|||__||||_||||__ |__||| _||  _ |__|||||| ||__|_|||||||_| __   _|_|||_|_ || ||_  _|| |  _|||   _ __||||||_ _||__ | _|||  _ ___ | |  | |_|__||_|_|||||| __|||____|||_|__||_ ____|||_ | |__ ___ | | ____ _|__ |__| |_ |_|_| __||_|  ||___    ||| _ ___|_|| _|____ ||||||__|_|____| _| | _||_  _|_|__|||  _ | _||| ____|____ |__|__|__|_ ||__ |    |____|_|_|   |_ |_||_|___||___||__||_ __|||__ |_|_|||_|  __|__  |_| _||_ |_|__|||_  __ |||__| ____| _| ||___ _____||_ _||| _ | _ ||__| _|_|_||_|_|_ |_|_||__  __ | ||_|_|_ _|_  _   _||_|| _|_ _ |  _|_|__||_| _|_|||_ ___ ||  || |_  _| ___||_|||__ __|_||_  _  | __   __|_|| ______|_|_|  ____|__ _|_ _ _|_|_____||  _| __ | _||__| | |__ |_|_|__ _|__    __ ||||_ __|||||___|__|_    _ |__ ||||_| _|| |_ __| __||||  |____|||_||  ||_ | |__ __|____|_|______| |  __ _||__|__|||_ __|___|_|| _|_ || _ ||_|| ||__| || ||_||_||| || |_| __|_|| |_   |_|||_|__ _|__| ||__||||___  |_||_  | || __||  ____||__ __|||_|_|||||_||_ |||_  _ _ __||| |__|___|__|_ ||||||_____| _ || ||| | ||| |    |__|__| ||_ _||_|_||||_ __|__|__|_|_||___|__|___||___ _| |__||_||_|__|__|_||||_| _|_ ___ ||   ________| ||_|  |||||___| ||____|||   _ _  |_|__|___|| |_ _|___||||_|____||___| ||| ||_|||_||___|_|_ |_| |  | __|   ||___ | ___ |   _ _||__|__|__ __ _|__|_ |||___ __| |_|_|| __ __|| ||_|_ _|__  |_ ___|__||_ __|||| _    __|  _ _|__|| _ |__| ||_|_||_ | __ ||_|___|_||_ _|_ ___| ___ _| _|| _|_|__  ____ _ _||_| _||____||||_|__|_   __|__ ||||_| |||  __  _|||___ __|  _|||  ||  __|_ |__| _||___||_||_||_ | ___|||____| _||| || |_ _|__|_|__||_ ___ _||_|_||||_  | _||_| |_|_||_|__ |_|||||_| _||"
     ]
    },
    {
     "name": "stdout",
     "output_type": "stream",
     "text": [
      "| |||__||||__|||_ ____|_|_|| ||| |_||_|_ _ |_ _|__| _|__| |_|_||_   _|| || _ ||||| _|||| _   _||_ | __  ||_|_||____  ||||_||_| |_||_|||||____|___ |_|| _| |||_____|| || || ||_ |____|_ |_ _ |___ _||_|_  |_|_|||||__|_|__|_ _ ||  |__|_ |||| _|  |_||||__ |__|||||_|_||_ |_ ||_|_|||_|_ | | ||_ __ _ || _|_|  | _ |__ ||| |_ __ __|_||||_  __||_||_| _|| _ ||__ |__|_|___   |   __||| |_|||||____||||||_ ||_|| _|||_ __|| |||||_||___|_|__| ____ _ _||_|__|_| _|__ _|_|__ |__| | _||_|_||||__ |__ _||_| |||| |  |||| __  || |_||__|_|||___| _|| __|_ |_|||_ ||_ _||| ||__||__|||_ ___ __|_  |_||_ |_ __|_ ||  _|| _||__ __||__| __| ||||_|____ _|__|__|_| |__|_|||  | _ ___|_ _ | _||__ ||__||___|_ | ||_|||_|||_   _ _| ||__   __ _ |_|_| _|__|__ _____ ||| |_| ||| |__ __ ||__|_|__||__||__ ||_  __|||__|__| _||| _______|___|| || __| | _ _ |__||____||_| _______|||___  || ||| ___||__| ||| _|| |_|| ||||_|___ __|||_ || __|| | __||__| _|_||||_||_| __ __ _ __|| ____|____||_||___|||___| _|__|_||||___| _||_|_| |___|||  |_ |||||||_|__ _  __|||_  |_|| |||_| ||||__| |||___||___|_|___|| ||__ __|||_||_ ||_____|___|_ | _ _|__||__ |  ||||||  |_|||||||  |__ ___|||  || _  |_|||_ |||__ _|||| ||_||___ _|_|__| |  _  _  | |  |_| |__||__| _  |__ ___ | ||_ _|_|||___ _|_____  __||| | ||||_| |_|_ ______|_ ____| |__||| _|||__|_|_|||____||_|||||_|_||___ _||||_____|_||_| _||___  _ | |_ |_| _||_ _ _ _|__||_ _ | _| |||||||______| __ ||_||_|_ _|_|| |__|___ |||_||| _| | ||| ||_|_|__| |||___|__|___ |___| ||_  _ __||_ |_ ||||___| ___|_||_|_|||||  |||  __| |__  ___| | _||_ _|| _ |||| _|_ | |_||_|||__||| _ _|__| | _ |_|_||__ __ __ ||__||_  __||_| |_| |__|______ _ _|||||_||_ ___|||| | | |__ __|_| | __|| __|_ __|__|_ |||_| |_|__ _|||||_| ____|_    | _||__|__  |_|||_|||_ _  | _||||_   _||___ ||||||_ ___ ||_______| |__ __||_ _ |_||||_||__||_|_||_ ___ __|___||_| |_|__|_|_|_|_|  _||_||||__ __|__ _ |||_ _ _||||_| ||_|||| ___|__ _|_____|| ||_|     _|  ||| ___ | |_|  |_||    |||_ ____|| |_ |||||_  _____||| _ ___|| |  _ ||___| |_| ||_|_|_ _| _||___|||_|_ | |||__ ____| _ |__ _|___ _|_|||_| _|_|__| || |_ |__ |____|_|__ | _ _||_|||||| ||__|_ |   ____ |__|_ _||||_ ___||| | _|__|_ __ ||  |_| ____  |____|| __ _|_||||_|    ___|||_ _|_|___| |__|_|_ _  |__|| |_  __ _|_ __||__ ||_||| |||||____ | | _|_|| _|_|||_||| ||_|_||__|  _||  _|_|_|_||  _|  ___ |  _ |____|_|||_  |__|_ _||_  __||_|||_____ __ _||||_ ___|  __ _|_|| | ||__|||||_|___|__|___| __||_|| _|  ||||__||_ || || |___||__ ___|_|_ _ ||||| _|||_|_||||_  _|_ |||| __|||__|| __ ||| __||_ |_|   _|__ _|  ||||_ __|_|_  __||_|__|_|_|___||||||_| ||_|| __|||||_|__|| |______  __ _||_ _| ____|_|__||__ _|_| ||_|_|||__ |_ || _  __ |__|| _|__|||_| | _|_ _ ||_|_|  |___||| _||||_|_______|||||____|| _|__ |_|| |_  | |_| ||||||____ _||_| _||_|_ |_||___ ____||__ ||__ __|| _ ____  ____||  | ||_|||__||__| ___|  ||  _| |__|__|_|_ _| |_||_ | _|_|__|| ___| _  ||  |_||__||||_|__|_|__ |_|  __|||_  _||_|__|__ ||| __|_ |__|_____ _|_|_ | _|_||_|_|||_|_ __  ____| _ |  _|__|||| ||_||__|_|_|| || |_|||_||_|_||__ __| | _|_|_||| || _||_ _|__|||__||_ ____|| |_| _|__|__|_ |_||_||_|||__|__||| _|__||_| _ |_|___|__|||___   | |||__||  __|| |||_|_|_   |____ _|_|__ ||__  ____|_||_|| |||____ _  | ||   _  ||_|||______ |||____|_|_| |||| |_||||||_|||__||||___  ||_||_|||_||__| _||||_| | __ |__|__|____|__ __ |__|_ __|||_ ___ |_  |_  __ _| ||__|____| __||_ _|||_||||| _|__|_   ____| | _||||_|_  |_ |__|    |_| _|___ | __  | ___|| ||___ |__ |||__|__||___ _|  |||__|__|_| _|__|__  _|_ _|_ | | _   |_ | _|| | |||_||__|_|_|_ |_||| |___|_ ||_|| | ___|__| ___||__  |  _| __ | |_  _|||_ |__ __ ____|||| _||| |___ _| _|_ |____| _|__|_____ |__ _ __|||_|_ _|_|||_||__|___|____|||_|_|| _ ||| |_|  || |||  __| ||__|_|||||| __  ||||_|||_|| ||___|__ _|__|| || __ |||_ ||__ | |||_| _||_||__| |_| |_||___||__||__  | _|_||| |_|_|| ___ ___| _|_| __|| _|_|_|__ |__ ___|____ _ _| ||___| |  __ |||_|___   |__ __ ||_| ||_____|__|_ _|_|  _||_|__|______  _  |____|| | __|_|______|_| __ _||_ _ ____||_|___| |||||| _| |  |_|_ ||_|__   _|__ |_||| ||__||_| ||__|_||_ __||_  |||| |_|  | _  |  __|_|| |____|_|||__ |_| ||_ |_|_||  |||____ |||_| ______|_|____ _|__|||||| _|_  |_ _ _ |     ||______|| _|  ||__|||||_ |__|  |__ ||_|___||  |__  |  |||_|__| _|_|  _|_ | ||_||_ |__|||| __  | ||_|| ||____ _|  ___||  |___ |____||||_|_______| |__ || __|_  ||__  |_| __|__  | ____ _ ||___|||__|||_||_||||_|__ _ _|_   _||_| ___|_|___   | __|______ |  _   __   ||||_||_||_||_ ____| || |__||||| _| || |||| __ ||___| _||_|___ __|_  |_|_|__  | _|_ _|_|||_|_ |___ __|_ _ ||||||_ "
     ]
    },
    {
     "ename": "KeyboardInterrupt",
     "evalue": "",
     "output_type": "error",
     "traceback": [
      "\u001b[0;31m---------------------------------------------------------------------------\u001b[0m",
      "\u001b[0;31mKeyboardInterrupt\u001b[0m                         Traceback (most recent call last)",
      "\u001b[0;32m<ipython-input-117-28bf8eb6cb18>\u001b[0m in \u001b[0;36m<module>\u001b[0;34m\u001b[0m\n\u001b[0;32m----> 1\u001b[0;31m \u001b[0;32mwhile\u001b[0m \u001b[0;36m1\u001b[0m\u001b[0;34m:\u001b[0m\u001b[0;32mimport\u001b[0m \u001b[0mrandom\u001b[0m\u001b[0;34m;\u001b[0m\u001b[0mprint\u001b[0m\u001b[0;34m(\u001b[0m\u001b[0mrandom\u001b[0m\u001b[0;34m.\u001b[0m\u001b[0mchoice\u001b[0m\u001b[0;34m(\u001b[0m\u001b[0;34m'|| __'\u001b[0m\u001b[0;34m)\u001b[0m\u001b[0;34m,\u001b[0m \u001b[0mend\u001b[0m\u001b[0;34m=\u001b[0m\u001b[0;34m''\u001b[0m\u001b[0;34m)\u001b[0m\u001b[0;34m\u001b[0m\u001b[0;34m\u001b[0m\u001b[0m\n\u001b[0m",
      "\u001b[0;32m~/anaconda3/envs/python36/lib/python3.6/site-packages/ipykernel/iostream.py\u001b[0m in \u001b[0;36mwrite\u001b[0;34m(self, string)\u001b[0m\n\u001b[1;32m    398\u001b[0m             \u001b[0mis_child\u001b[0m \u001b[0;34m=\u001b[0m \u001b[0;34m(\u001b[0m\u001b[0;32mnot\u001b[0m \u001b[0mself\u001b[0m\u001b[0;34m.\u001b[0m\u001b[0m_is_master_process\u001b[0m\u001b[0;34m(\u001b[0m\u001b[0;34m)\u001b[0m\u001b[0;34m)\u001b[0m\u001b[0;34m\u001b[0m\u001b[0;34m\u001b[0m\u001b[0m\n\u001b[1;32m    399\u001b[0m             \u001b[0;31m# only touch the buffer in the IO thread to avoid races\u001b[0m\u001b[0;34m\u001b[0m\u001b[0;34m\u001b[0m\u001b[0;34m\u001b[0m\u001b[0m\n\u001b[0;32m--> 400\u001b[0;31m             \u001b[0mself\u001b[0m\u001b[0;34m.\u001b[0m\u001b[0mpub_thread\u001b[0m\u001b[0;34m.\u001b[0m\u001b[0mschedule\u001b[0m\u001b[0;34m(\u001b[0m\u001b[0;32mlambda\u001b[0m \u001b[0;34m:\u001b[0m \u001b[0mself\u001b[0m\u001b[0;34m.\u001b[0m\u001b[0m_buffer\u001b[0m\u001b[0;34m.\u001b[0m\u001b[0mwrite\u001b[0m\u001b[0;34m(\u001b[0m\u001b[0mstring\u001b[0m\u001b[0;34m)\u001b[0m\u001b[0;34m)\u001b[0m\u001b[0;34m\u001b[0m\u001b[0;34m\u001b[0m\u001b[0m\n\u001b[0m\u001b[1;32m    401\u001b[0m             \u001b[0;32mif\u001b[0m \u001b[0mis_child\u001b[0m\u001b[0;34m:\u001b[0m\u001b[0;34m\u001b[0m\u001b[0;34m\u001b[0m\u001b[0m\n\u001b[1;32m    402\u001b[0m                 \u001b[0;31m# newlines imply flush in subprocesses\u001b[0m\u001b[0;34m\u001b[0m\u001b[0;34m\u001b[0m\u001b[0;34m\u001b[0m\u001b[0m\n",
      "\u001b[0;32m~/anaconda3/envs/python36/lib/python3.6/site-packages/ipykernel/iostream.py\u001b[0m in \u001b[0;36mschedule\u001b[0;34m(self, f)\u001b[0m\n\u001b[1;32m    201\u001b[0m             \u001b[0mself\u001b[0m\u001b[0;34m.\u001b[0m\u001b[0m_events\u001b[0m\u001b[0;34m.\u001b[0m\u001b[0mappend\u001b[0m\u001b[0;34m(\u001b[0m\u001b[0mf\u001b[0m\u001b[0;34m)\u001b[0m\u001b[0;34m\u001b[0m\u001b[0;34m\u001b[0m\u001b[0m\n\u001b[1;32m    202\u001b[0m             \u001b[0;31m# wake event thread (message content is ignored)\u001b[0m\u001b[0;34m\u001b[0m\u001b[0;34m\u001b[0m\u001b[0;34m\u001b[0m\u001b[0m\n\u001b[0;32m--> 203\u001b[0;31m             \u001b[0mself\u001b[0m\u001b[0;34m.\u001b[0m\u001b[0m_event_pipe\u001b[0m\u001b[0;34m.\u001b[0m\u001b[0msend\u001b[0m\u001b[0;34m(\u001b[0m\u001b[0;34mb''\u001b[0m\u001b[0;34m)\u001b[0m\u001b[0;34m\u001b[0m\u001b[0;34m\u001b[0m\u001b[0m\n\u001b[0m\u001b[1;32m    204\u001b[0m         \u001b[0;32melse\u001b[0m\u001b[0;34m:\u001b[0m\u001b[0;34m\u001b[0m\u001b[0;34m\u001b[0m\u001b[0m\n\u001b[1;32m    205\u001b[0m             \u001b[0mf\u001b[0m\u001b[0;34m(\u001b[0m\u001b[0;34m)\u001b[0m\u001b[0;34m\u001b[0m\u001b[0;34m\u001b[0m\u001b[0m\n",
      "\u001b[0;32m~/anaconda3/envs/python36/lib/python3.6/site-packages/zmq/sugar/socket.py\u001b[0m in \u001b[0;36msend\u001b[0;34m(self, data, flags, copy, track, routing_id, group)\u001b[0m\n\u001b[1;32m    390\u001b[0m                                  copy_threshold=self.copy_threshold)\n\u001b[1;32m    391\u001b[0m             \u001b[0mdata\u001b[0m\u001b[0;34m.\u001b[0m\u001b[0mgroup\u001b[0m \u001b[0;34m=\u001b[0m \u001b[0mgroup\u001b[0m\u001b[0;34m\u001b[0m\u001b[0;34m\u001b[0m\u001b[0m\n\u001b[0;32m--> 392\u001b[0;31m         \u001b[0;32mreturn\u001b[0m \u001b[0msuper\u001b[0m\u001b[0;34m(\u001b[0m\u001b[0mSocket\u001b[0m\u001b[0;34m,\u001b[0m \u001b[0mself\u001b[0m\u001b[0;34m)\u001b[0m\u001b[0;34m.\u001b[0m\u001b[0msend\u001b[0m\u001b[0;34m(\u001b[0m\u001b[0mdata\u001b[0m\u001b[0;34m,\u001b[0m \u001b[0mflags\u001b[0m\u001b[0;34m=\u001b[0m\u001b[0mflags\u001b[0m\u001b[0;34m,\u001b[0m \u001b[0mcopy\u001b[0m\u001b[0;34m=\u001b[0m\u001b[0mcopy\u001b[0m\u001b[0;34m,\u001b[0m \u001b[0mtrack\u001b[0m\u001b[0;34m=\u001b[0m\u001b[0mtrack\u001b[0m\u001b[0;34m)\u001b[0m\u001b[0;34m\u001b[0m\u001b[0;34m\u001b[0m\u001b[0m\n\u001b[0m\u001b[1;32m    393\u001b[0m \u001b[0;34m\u001b[0m\u001b[0m\n\u001b[1;32m    394\u001b[0m     \u001b[0;32mdef\u001b[0m \u001b[0msend_multipart\u001b[0m\u001b[0;34m(\u001b[0m\u001b[0mself\u001b[0m\u001b[0;34m,\u001b[0m \u001b[0mmsg_parts\u001b[0m\u001b[0;34m,\u001b[0m \u001b[0mflags\u001b[0m\u001b[0;34m=\u001b[0m\u001b[0;36m0\u001b[0m\u001b[0;34m,\u001b[0m \u001b[0mcopy\u001b[0m\u001b[0;34m=\u001b[0m\u001b[0;32mTrue\u001b[0m\u001b[0;34m,\u001b[0m \u001b[0mtrack\u001b[0m\u001b[0;34m=\u001b[0m\u001b[0;32mFalse\u001b[0m\u001b[0;34m,\u001b[0m \u001b[0;34m**\u001b[0m\u001b[0mkwargs\u001b[0m\u001b[0;34m)\u001b[0m\u001b[0;34m:\u001b[0m\u001b[0;34m\u001b[0m\u001b[0;34m\u001b[0m\u001b[0m\n",
      "\u001b[0;32mzmq/backend/cython/socket.pyx\u001b[0m in \u001b[0;36mzmq.backend.cython.socket.Socket.send\u001b[0;34m()\u001b[0m\n",
      "\u001b[0;32mzmq/backend/cython/socket.pyx\u001b[0m in \u001b[0;36mzmq.backend.cython.socket.Socket.send\u001b[0;34m()\u001b[0m\n",
      "\u001b[0;32mzmq/backend/cython/socket.pyx\u001b[0m in \u001b[0;36mzmq.backend.cython.socket._send_copy\u001b[0;34m()\u001b[0m\n",
      "\u001b[0;32m~/anaconda3/envs/python36/lib/python3.6/site-packages/zmq/backend/cython/checkrc.pxd\u001b[0m in \u001b[0;36mzmq.backend.cython.checkrc._check_rc\u001b[0;34m()\u001b[0m\n",
      "\u001b[0;31mKeyboardInterrupt\u001b[0m: "
     ]
    }
   ],
   "source": [
    "while 1:import random;print(random.choice('|| __'), end='')"
   ]
  },
  {
   "cell_type": "code",
   "execution_count": 118,
   "metadata": {},
   "outputs": [
    {
     "name": "stdout",
     "output_type": "stream",
     "text": [
      "False\n",
      "True\n"
     ]
    }
   ],
   "source": [
    "print(\"spam\" == \"good\") ; print(\"spam\" == \"spam\")"
   ]
  },
  {
   "cell_type": "code",
   "execution_count": 119,
   "metadata": {},
   "outputs": [
    {
     "data": {
      "text/plain": [
       "True"
      ]
     },
     "execution_count": 119,
     "metadata": {},
     "output_type": "execute_result"
    }
   ],
   "source": [
    "\"spam\" < \"zoo\""
   ]
  },
  {
   "cell_type": "code",
   "execution_count": 120,
   "metadata": {},
   "outputs": [
    {
     "data": {
      "text/plain": [
       "True"
      ]
     },
     "execution_count": 120,
     "metadata": {},
     "output_type": "execute_result"
    }
   ],
   "source": [
    "\"s\" < \"spam\""
   ]
  },
  {
   "cell_type": "code",
   "execution_count": 121,
   "metadata": {},
   "outputs": [
    {
     "data": {
      "text/plain": [
       "True"
      ]
     },
     "execution_count": 121,
     "metadata": {},
     "output_type": "execute_result"
    }
   ],
   "source": [
    "s <= \"spam\""
   ]
  },
  {
   "cell_type": "markdown",
   "metadata": {},
   "source": [
    "  - you can concatenate strings with + sign\n",
    "  - you can do multiple concatenations with the * sign\n",
    "  - strings can be compared"
   ]
  },
  {
   "cell_type": "code",
   "execution_count": 122,
   "metadata": {},
   "outputs": [
    {
     "ename": "TypeError",
     "evalue": "must be str, not int",
     "output_type": "error",
     "traceback": [
      "\u001b[0;31m---------------------------------------------------------------------------\u001b[0m",
      "\u001b[0;31mTypeError\u001b[0m                                 Traceback (most recent call last)",
      "\u001b[0;32m<ipython-input-122-ed7ed5e4a898>\u001b[0m in \u001b[0;36m<module>\u001b[0;34m\u001b[0m\n\u001b[0;32m----> 1\u001b[0;31m \u001b[0mprint\u001b[0m\u001b[0;34m(\u001b[0m\u001b[0;34m'I want'\u001b[0m \u001b[0;34m+\u001b[0m \u001b[0;36m3\u001b[0m \u001b[0;34m+\u001b[0m \u001b[0;34m' eggs and no '\u001b[0m \u001b[0;34m+\u001b[0m \u001b[0ms\u001b[0m\u001b[0;34m)\u001b[0m\u001b[0;34m\u001b[0m\u001b[0;34m\u001b[0m\u001b[0m\n\u001b[0m",
      "\u001b[0;31mTypeError\u001b[0m: must be str, not int"
     ]
    }
   ],
   "source": [
    "print('I want' + 3 + ' eggs and no ' + s)"
   ]
  },
  {
   "cell_type": "code",
   "execution_count": 123,
   "metadata": {},
   "outputs": [
    {
     "name": "stdout",
     "output_type": "stream",
     "text": [
      "I want 3 eggs and no spam\n"
     ]
    }
   ],
   "source": [
    "print('I want ' + str(3) + ' eggs and no ' + s)"
   ]
  },
  {
   "cell_type": "code",
   "execution_count": 124,
   "metadata": {},
   "outputs": [
    {
     "name": "stdout",
     "output_type": "stream",
     "text": [
      "I want 3.14159 eggs and no spam\n"
     ]
    }
   ],
   "source": [
    "pi = 3.14159\n",
    "print('I want ' + str(pi) + ' eggs and no ' + s)"
   ]
  },
  {
   "cell_type": "code",
   "execution_count": 125,
   "metadata": {},
   "outputs": [
    {
     "name": "stdout",
     "output_type": "stream",
     "text": [
      "True: I want 3.14159 eggs and no spam\n"
     ]
    }
   ],
   "source": [
    "print(str(True) + \":\" + ' I want ' + str(pi) + ' eggs and no ' + s)"
   ]
  },
  {
   "cell_type": "markdown",
   "metadata": {},
   "source": [
    "#####  you must concatenate only strings, coercing (\"casting\") other variable types to str\n"
   ]
  },
  {
   "cell_type": "markdown",
   "metadata": {},
   "source": [
    "### Getting input from the user: always a string response\n"
   ]
  },
  {
   "cell_type": "code",
   "execution_count": 126,
   "metadata": {},
   "outputs": [
    {
     "name": "stdout",
     "output_type": "stream",
     "text": [
      "Enter the temperature value (in Fahrenheit): 25\n"
     ]
    }
   ],
   "source": [
    "# Temperature coverter\n",
    "faren = input('Enter the temperature value (in Fahrenheit): ')"
   ]
  },
  {
   "cell_type": "code",
   "execution_count": 130,
   "metadata": {},
   "outputs": [],
   "source": [
    "cel = (5.0/9.0)*(float(faren) - 32.0)"
   ]
  },
  {
   "cell_type": "code",
   "execution_count": 131,
   "metadata": {},
   "outputs": [
    {
     "name": "stdout",
     "output_type": "stream",
     "text": [
      "-3.8888888888888893\n"
     ]
    }
   ],
   "source": [
    "faren = float(faren)\n",
    "cel = (5.0/9.0)*(faren - 32.0)\n",
    "print(cel)"
   ]
  },
  {
   "cell_type": "code",
   "execution_count": 133,
   "metadata": {},
   "outputs": [
    {
     "name": "stdout",
     "output_type": "stream",
     "text": [
      "Enter the temperature (in Fahrenheit): 5\n",
      "-15.0\n"
     ]
    }
   ],
   "source": [
    "faren = float(input(\"Enter the temperature (in Fahrenheit): \"))\n",
    "print((5.0/9.0)*(faren - 32.0))"
   ]
  },
  {
   "cell_type": "markdown",
   "metadata": {},
   "source": [
    "### We can think of strings as arrays (although, unlike in C you never really need to deal with directly addressing character locations in memory)"
   ]
  },
  {
   "cell_type": "code",
   "execution_count": 134,
   "metadata": {},
   "outputs": [
    {
     "data": {
      "text/plain": [
       "4"
      ]
     },
     "execution_count": 134,
     "metadata": {},
     "output_type": "execute_result"
    }
   ],
   "source": [
    "s =\"spam\"\n",
    "len(s)"
   ]
  },
  {
   "cell_type": "code",
   "execution_count": 135,
   "metadata": {},
   "outputs": [
    {
     "data": {
      "text/plain": [
       "5"
      ]
     },
     "execution_count": 135,
     "metadata": {},
     "output_type": "execute_result"
    }
   ],
   "source": [
    "len(\"eggs\\n\")"
   ]
  },
  {
   "cell_type": "code",
   "execution_count": 136,
   "metadata": {},
   "outputs": [
    {
     "data": {
      "text/plain": [
       "0"
      ]
     },
     "execution_count": 136,
     "metadata": {},
     "output_type": "execute_result"
    }
   ],
   "source": [
    "len(\"\")"
   ]
  },
  {
   "cell_type": "code",
   "execution_count": 137,
   "metadata": {},
   "outputs": [
    {
     "data": {
      "text/plain": [
       "'s'"
      ]
     },
     "execution_count": 137,
     "metadata": {},
     "output_type": "execute_result"
    }
   ],
   "source": [
    "s[0]"
   ]
  },
  {
   "cell_type": "code",
   "execution_count": 138,
   "metadata": {},
   "outputs": [
    {
     "data": {
      "text/plain": [
       "'m'"
      ]
     },
     "execution_count": 138,
     "metadata": {},
     "output_type": "execute_result"
    }
   ],
   "source": [
    "s[-1]"
   ]
  },
  {
   "cell_type": "code",
   "execution_count": 139,
   "metadata": {},
   "outputs": [
    {
     "data": {
      "text/plain": [
       "'m'"
      ]
     },
     "execution_count": 139,
     "metadata": {},
     "output_type": "execute_result"
    }
   ],
   "source": [
    "s[3]"
   ]
  },
  {
   "cell_type": "markdown",
   "metadata": {},
   "source": [
    "  - len() gives us the length of an array\n",
    "  - strings are zero indexed\n",
    "  - can also count backwards\n",
    "  \n",
    "We can think of strings as arrays (although, unlike in C you never really need to deal with directly addressing character locations in memory)\n",
    "\n",
    "![Image](spam.png)\n",
    "\n",
    "useful for slicing: indices are between the characters\n"
   ]
  },
  {
   "cell_type": "code",
   "execution_count": 140,
   "metadata": {},
   "outputs": [
    {
     "data": {
      "text/plain": [
       "'s'"
      ]
     },
     "execution_count": 140,
     "metadata": {},
     "output_type": "execute_result"
    }
   ],
   "source": [
    "s[0:1]  # get every character between 0 and 1"
   ]
  },
  {
   "cell_type": "code",
   "execution_count": 141,
   "metadata": {},
   "outputs": [
    {
     "data": {
      "text/plain": [
       "'pam'"
      ]
     },
     "execution_count": 141,
     "metadata": {},
     "output_type": "execute_result"
    }
   ],
   "source": [
    "s[1:4]  # get every character between 1 and 4"
   ]
  },
  {
   "cell_type": "code",
   "execution_count": 142,
   "metadata": {},
   "outputs": [
    {
     "data": {
      "text/plain": [
       "'a'"
      ]
     },
     "execution_count": 142,
     "metadata": {},
     "output_type": "execute_result"
    }
   ],
   "source": [
    "s[-2:-1] # get every character between -2 and -1"
   ]
  },
  {
   "cell_type": "code",
   "execution_count": 143,
   "metadata": {},
   "outputs": [
    {
     "data": {
      "text/plain": [
       "'spam'"
      ]
     },
     "execution_count": 143,
     "metadata": {},
     "output_type": "execute_result"
    }
   ],
   "source": [
    "# slicing [m:n] will return abs(n-m) characters\n",
    "s[0:100] # if the index is beyond the len(str), you dont segfault!"
   ]
  },
  {
   "cell_type": "code",
   "execution_count": 144,
   "metadata": {},
   "outputs": [
    {
     "ename": "IndexError",
     "evalue": "string index out of range",
     "output_type": "error",
     "traceback": [
      "\u001b[0;31m---------------------------------------------------------------------------\u001b[0m",
      "\u001b[0;31mIndexError\u001b[0m                                Traceback (most recent call last)",
      "\u001b[0;32m<ipython-input-144-2a138df92e52>\u001b[0m in \u001b[0;36m<module>\u001b[0;34m\u001b[0m\n\u001b[0;32m----> 1\u001b[0;31m \u001b[0ms\u001b[0m\u001b[0;34m[\u001b[0m\u001b[0;36m100\u001b[0m\u001b[0;34m]\u001b[0m\u001b[0;34m\u001b[0m\u001b[0;34m\u001b[0m\u001b[0m\n\u001b[0m",
      "\u001b[0;31mIndexError\u001b[0m: string index out of range"
     ]
    }
   ],
   "source": [
    "s[100]"
   ]
  },
  {
   "cell_type": "code",
   "execution_count": 145,
   "metadata": {},
   "outputs": [
    {
     "data": {
      "text/plain": [
       "'pam'"
      ]
     },
     "execution_count": 145,
     "metadata": {},
     "output_type": "execute_result"
    }
   ],
   "source": [
    "s[1:]  # python runs the index to the end"
   ]
  },
  {
   "cell_type": "code",
   "execution_count": 146,
   "metadata": {},
   "outputs": [
    {
     "data": {
      "text/plain": [
       "'sp'"
      ]
     },
     "execution_count": 146,
     "metadata": {},
     "output_type": "execute_result"
    }
   ],
   "source": [
    "s[:2]  # python runs the index from the beginning to end of 2"
   ]
  },
  {
   "cell_type": "code",
   "execution_count": 147,
   "metadata": {},
   "outputs": [
    {
     "data": {
      "text/plain": [
       "'maps'"
      ]
     },
     "execution_count": 147,
     "metadata": {},
     "output_type": "execute_result"
    }
   ],
   "source": [
    "s[::-1] # print it out backwards"
   ]
  },
  {
   "cell_type": "markdown",
   "metadata": {},
   "source": [
    "## Basic Control Flow\n",
    "\n",
    "Python has pretty much all of what you use:\n",
    "\n",
    "    if...elif...else,  for,  while\n",
    "\n",
    "As well as:\n",
    "\n",
    "    break, continue (within loops)\n",
    "\n",
    "Does not have:\n",
    "\n",
    "    case (explicitly), goto\n",
    "\n",
    "Does have:  pass\n",
    "\n",
    "### Flow is done within blocks (where indentation matters)"
   ]
  },
  {
   "cell_type": "code",
   "execution_count": 148,
   "metadata": {},
   "outputs": [
    {
     "name": "stdout",
     "output_type": "stream",
     "text": [
      "yo\n"
     ]
    }
   ],
   "source": [
    "x = 1\n",
    "if x > 0:\n",
    "    print('yo')\n",
    "else:\n",
    "    print('dude')"
   ]
  },
  {
   "cell_type": "markdown",
   "metadata": {},
   "source": [
    "Note: if you are doing this within the Python interpreter you'll see the ...\n",
    "\n",
    "\n",
    "    >>> x = 1\n",
    "    >>> if x > 0:\n",
    "    ...     print \"yo\"\n",
    "    ... else:\n",
    "    ...     print \"dude\"\n",
    "    ... \n",
    "    yo\n",
    "    \n",
    "Note colons & indentations (tabbed or spaced)\n",
    "\n"
   ]
  },
  {
   "cell_type": "code",
   "execution_count": 149,
   "metadata": {},
   "outputs": [
    {
     "name": "stdout",
     "output_type": "stream",
     "text": [
      "yo\n"
     ]
    }
   ],
   "source": [
    "print(\"yo\" if x > 0 else \"dude\")"
   ]
  },
  {
   "cell_type": "code",
   "execution_count": 150,
   "metadata": {},
   "outputs": [
    {
     "name": "stdout",
     "output_type": "stream",
     "text": [
      "yo\n",
      "dude\n",
      "yo\n",
      "dude\n",
      "yo\n",
      "dude\n",
      "yo\n",
      "dude\n",
      "yo\n",
      "dude\n",
      "yo\n",
      "dude\n",
      "yo\n",
      "dude\n",
      "yo\n",
      "dude\n",
      "yo\n",
      "dude\n",
      "yo\n",
      "dude\n",
      "yo\n",
      "dude\n",
      "yo\n",
      "dude\n",
      "yo\n",
      "dude\n",
      "yo\n",
      "dude\n",
      "yo\n",
      "dude\n",
      "yo\n",
      "dude\n",
      "yo\n",
      "dude\n",
      "yo\n",
      "dude\n",
      "yo\n",
      "dude\n",
      "yo\n",
      "dude\n",
      "yo\n",
      "dude\n",
      "yo\n"
     ]
    }
   ],
   "source": [
    "x = 1\n",
    "y = 0\n",
    "\n",
    "while True:\n",
    "    print('yo' if x > 0 else 'dude')\n",
    "    x *= -1\n",
    "    y += 1\n",
    "    if y > 42:\n",
    "        break"
   ]
  },
  {
   "cell_type": "markdown",
   "metadata": {},
   "source": [
    "### case statements can be constructed with just a bunch of if, elif,...else"
   ]
  },
  {
   "cell_type": "code",
   "execution_count": 151,
   "metadata": {},
   "outputs": [
    {
     "name": "stdout",
     "output_type": "stream",
     "text": [
      "t\n"
     ]
    }
   ],
   "source": [
    "if x < 1:\n",
    "    print('t')\n",
    "elif x > 100:\n",
    "    print('yo')\n",
    "else:\n",
    "    print('dude')"
   ]
  },
  {
   "cell_type": "markdown",
   "metadata": {},
   "source": [
    "ordering matters. The first block of True in an if/elif gets executed then everything else does not."
   ]
  },
  {
   "cell_type": "markdown",
   "metadata": {},
   "source": [
    "### blocks cannot be empty"
   ]
  },
  {
   "cell_type": "code",
   "execution_count": 152,
   "metadata": {},
   "outputs": [
    {
     "ename": "SyntaxError",
     "evalue": "unexpected EOF while parsing (<ipython-input-152-aeeb6d0acf35>, line 5)",
     "output_type": "error",
     "traceback": [
      "\u001b[0;36m  File \u001b[0;32m\"<ipython-input-152-aeeb6d0acf35>\"\u001b[0;36m, line \u001b[0;32m5\u001b[0m\n\u001b[0;31m    # I'm fine with that. I'll do nothing\u001b[0m\n\u001b[0m                                         ^\u001b[0m\n\u001b[0;31mSyntaxError\u001b[0m\u001b[0;31m:\u001b[0m unexpected EOF while parsing\n"
     ]
    }
   ],
   "source": [
    "x = \"fried goldfish\"\n",
    "if x == \"spam for dinner\":\n",
    "    print(\"I will destroy the universe\")\n",
    "else:\n",
    "    # I'm fine with that. I'll do nothing"
   ]
  },
  {
   "cell_type": "code",
   "execution_count": 153,
   "metadata": {},
   "outputs": [],
   "source": [
    "x = \"fried goldfish\"\n",
    "if x == \"spam for dinner\":\n",
    "    print(\"I will destroy the universe\")\n",
    "else:\n",
    "    # I'm fine with that. I'll do nothing\n",
    "    pass"
   ]
  },
  {
   "cell_type": "markdown",
   "metadata": {},
   "source": [
    "pass is a \"do nothing\" statement"
   ]
  },
  {
   "cell_type": "markdown",
   "metadata": {},
   "source": [
    "The double percent sign at the top of an IPython/Jupyter cell is a cell-level \"magic\". It's not Python itself, but defined as part of IPython/Jupyter."
   ]
  },
  {
   "cell_type": "code",
   "execution_count": 154,
   "metadata": {},
   "outputs": [
    {
     "name": "stdout",
     "output_type": "stream",
     "text": [
      "Overwriting temp.py\n"
     ]
    }
   ],
   "source": [
    "%%file temp.py\n",
    "\n",
    "# Set some initial variables. Set the initial temperature low\n",
    "\n",
    "faren = -500\n",
    "\n",
    "# We don't want the number of attempts going on forever, let's make sure we can't have too many attempts\n",
    "\n",
    "max_attempts = 5\n",
    "attempts = 0\n",
    "\n",
    "while faren < 100:\n",
    "    # Let's get the user to tell us what temperature it is\n",
    "    newfaren = float(input('Enter the temperature value (in Fahrenheit): '))\n",
    "    if newfaren > faren:\n",
    "        print('It\\'s getting hotter')\n",
    "    elif newfaren < faren:\n",
    "        print('It\\'s getting cooler')\n",
    "    else:\n",
    "        # nothing has changed, just continue in the loop\n",
    "        continue\n",
    "    faren = newfaren # now set the current temperature to the new temperature just entered\n",
    "    attempts += 1 # Now bunp up the attempt number\n",
    "    if attempts >= max_attempts:\n",
    "              # We have to bail out ):\n",
    "              break\n",
    "if attempts >= max_attempts:\n",
    "    # We bailed out because of too many attempts\n",
    "    print('Too many attempts at raising the temperature')\n",
    "else:\n",
    "    # We got here because it's too hot\n",
    "    print('It\\'s too hot here people!')\n",
    "              \n",
    "              "
   ]
  },
  {
   "cell_type": "code",
   "execution_count": 155,
   "metadata": {},
   "outputs": [
    {
     "name": "stdout",
     "output_type": "stream",
     "text": [
      "Enter the temperature value (in Fahrenheit): 4\n",
      "It's getting hotter\n",
      "Enter the temperature value (in Fahrenheit): 7\n",
      "It's getting hotter\n",
      "Enter the temperature value (in Fahrenheit): 9\n",
      "It's getting hotter\n",
      "Enter the temperature value (in Fahrenheit): 100\n",
      "It's getting hotter\n",
      "It's too hot here people!\n"
     ]
    }
   ],
   "source": [
    "%run temp.py"
   ]
  },
  {
   "cell_type": "markdown",
   "metadata": {},
   "source": [
    "# Class Exercise\n",
    "\n",
    "Write a program which allows the user to build up a sentence one word at a time, stopping when they enter a period (.), exclamation (!), or question mark (?)\n",
    "\n",
    "example interaction:"
   ]
  },
  {
   "cell_type": "markdown",
   "metadata": {},
   "source": [
    "%run ExSol.py\n",
    "```\n",
    "Please enter a word in the sentence (enter . ! or ? to end.): My\n",
    "...currently: My \n",
    "Please enter a word in the sentence (enter . ! or ? to end.): name\n",
    "...currently: My name \n",
    "Please enter a word in the sentence (enter . ! or ? to end.): is\n",
    "...currently: My name is \n",
    "Please enter a word in the sentence (enter . ! or ? to end.): Slim\n",
    "...currently: My name is Slim \n",
    "Please enter a word in the sentence (enter . ! or ? to end.): Shady\n",
    "...currently: My name is Slim Shady \n",
    "Please enter a word in the sentence (enter . ! or ? to end.): !\n",
    "--->My name is Slim Shady!\n",
    "\n",
    "```"
   ]
  },
  {
   "cell_type": "code",
   "execution_count": null,
   "metadata": {},
   "outputs": [],
   "source": []
  },
  {
   "cell_type": "code",
   "execution_count": null,
   "metadata": {},
   "outputs": [],
   "source": []
  },
  {
   "cell_type": "code",
   "execution_count": null,
   "metadata": {},
   "outputs": [],
   "source": []
  },
  {
   "cell_type": "code",
   "execution_count": null,
   "metadata": {},
   "outputs": [],
   "source": []
  },
  {
   "cell_type": "code",
   "execution_count": null,
   "metadata": {},
   "outputs": [],
   "source": []
  }
 ],
 "metadata": {
  "kernelspec": {
   "display_name": "Python 3",
   "language": "python",
   "name": "python3"
  },
  "language_info": {
   "codemirror_mode": {
    "name": "ipython",
    "version": 3
   },
   "file_extension": ".py",
   "mimetype": "text/x-python",
   "name": "python",
   "nbconvert_exporter": "python",
   "pygments_lexer": "ipython3",
   "version": "3.6.8"
  }
 },
 "nbformat": 4,
 "nbformat_minor": 2
}
