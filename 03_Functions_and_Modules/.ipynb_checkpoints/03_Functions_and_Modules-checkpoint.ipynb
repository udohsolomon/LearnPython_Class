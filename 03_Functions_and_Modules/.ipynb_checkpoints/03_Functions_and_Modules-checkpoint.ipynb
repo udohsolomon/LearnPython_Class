{
 "cells": [
  {
   "cell_type": "markdown",
   "metadata": {},
   "source": [
    "# Functions  and Modules"
   ]
  },
  {
   "cell_type": "markdown",
   "metadata": {},
   "source": [
    "## Functions\n",
    "\n",
    "Python can be both procedural (using functions) and object oriented (using classes)\n",
    "\n",
    "We do objects later in the class, but much of the function stuff now will also be applicable."
   ]
  },
  {
   "cell_type": "markdown",
   "metadata": {},
   "source": [
    "Functions looks like:\n",
    "\n",
    "        def function_name(arg1,arg2, ..., kw1=v1, kw2=v2, kw3=v3, ...)\n",
    "\n",
    "   - argX are arguments: required (and sequence is important)\n",
    "   - kwX are keywords: optional (sequence unimportant; vals act like defaults)\n",
    "   - :\n",
    "   - contains only numbers, letters, underscore\n",
    "   - does not start with a number\n",
    "   - is not the same name as a built-in function (like print)"
   ]
  },
  {
   "cell_type": "code",
   "execution_count": 33,
   "metadata": {},
   "outputs": [
    {
     "data": {
      "text/plain": [
       "5"
      ]
     },
     "execution_count": 33,
     "metadata": {},
     "output_type": "execute_result"
    }
   ],
   "source": [
    "def addnum(x, y):\n",
    "    return x + y\n",
    "addnum(2, 3)"
   ]
  },
  {
   "cell_type": "code",
   "execution_count": 34,
   "metadata": {},
   "outputs": [
    {
     "data": {
      "text/plain": [
       "'ab'"
      ]
     },
     "execution_count": 34,
     "metadata": {},
     "output_type": "execute_result"
    }
   ],
   "source": [
    "addnum('a', 'b') #Oh no bruv"
   ]
  },
  {
   "cell_type": "code",
   "execution_count": 35,
   "metadata": {},
   "outputs": [
    {
     "ename": "TypeError",
     "evalue": "must be str, not int",
     "output_type": "error",
     "traceback": [
      "\u001b[0;31m---------------------------------------------------------------------------\u001b[0m",
      "\u001b[0;31mTypeError\u001b[0m                                 Traceback (most recent call last)",
      "\u001b[0;32m<ipython-input-35-28e667204267>\u001b[0m in \u001b[0;36m<module>\u001b[0;34m()\u001b[0m\n\u001b[0;32m----> 1\u001b[0;31m \u001b[0maddnum\u001b[0m\u001b[0;34m(\u001b[0m\u001b[0;34m'a'\u001b[0m\u001b[0;34m,\u001b[0m \u001b[0;36m5\u001b[0m\u001b[0;34m)\u001b[0m\u001b[0;34m\u001b[0m\u001b[0m\n\u001b[0m",
      "\u001b[0;32m<ipython-input-33-ffaf1f118872>\u001b[0m in \u001b[0;36maddnum\u001b[0;34m(x, y)\u001b[0m\n\u001b[1;32m      1\u001b[0m \u001b[0;32mdef\u001b[0m \u001b[0maddnum\u001b[0m\u001b[0;34m(\u001b[0m\u001b[0mx\u001b[0m\u001b[0;34m,\u001b[0m \u001b[0my\u001b[0m\u001b[0;34m)\u001b[0m\u001b[0;34m:\u001b[0m\u001b[0;34m\u001b[0m\u001b[0m\n\u001b[0;32m----> 2\u001b[0;31m     \u001b[0;32mreturn\u001b[0m \u001b[0mx\u001b[0m \u001b[0;34m+\u001b[0m \u001b[0my\u001b[0m\u001b[0;34m\u001b[0m\u001b[0m\n\u001b[0m\u001b[1;32m      3\u001b[0m \u001b[0maddnum\u001b[0m\u001b[0;34m(\u001b[0m\u001b[0;36m2\u001b[0m\u001b[0;34m,\u001b[0m \u001b[0;36m3\u001b[0m\u001b[0;34m)\u001b[0m\u001b[0;34m\u001b[0m\u001b[0m\n",
      "\u001b[0;31mTypeError\u001b[0m: must be str, not int"
     ]
    }
   ],
   "source": [
    "addnum('a', 5)"
   ]
  },
  {
   "cell_type": "markdown",
   "metadata": {},
   "source": [
    "Unlike in C, we cannot declare what type of variables are required by the function. Python is dynamically typed.\n"
   ]
  },
  {
   "cell_type": "code",
   "execution_count": 38,
   "metadata": {},
   "outputs": [
    {
     "name": "stdout",
     "output_type": "stream",
     "text": [
      "I'm sorry, I can't add these types because (<class 'str'>, <class 'int'>)\n"
     ]
    }
   ],
   "source": [
    "def addnum(x,y):\n",
    "    if isinstance(x, (int, float)) and isinstance(y, (int, float)):\n",
    "        return x + y\n",
    "    print('I\\'m sorry, I can\\'t add these types because (' + str(type(x)) + ', ' + str(type(y)) + ')')\n",
    "    return\n",
    "addnum('a', 5)"
   ]
  },
  {
   "cell_type": "markdown",
   "metadata": {},
   "source": [
    "## Scope"
   ]
  },
  {
   "cell_type": "code",
   "execution_count": 39,
   "metadata": {},
   "outputs": [
    {
     "data": {
      "text/plain": [
       "(<function __main__.addnum(x, y)>, 139872461135112, function)"
      ]
     },
     "execution_count": 39,
     "metadata": {},
     "output_type": "execute_result"
    }
   ],
   "source": [
    "addnum, id(addnum), type(addnum)"
   ]
  },
  {
   "cell_type": "code",
   "execution_count": 40,
   "metadata": {},
   "outputs": [
    {
     "data": {
      "text/plain": [
       "11"
      ]
     },
     "execution_count": 40,
     "metadata": {},
     "output_type": "execute_result"
    }
   ],
   "source": [
    "x = 2\n",
    "addnum(5, 6)"
   ]
  },
  {
   "cell_type": "code",
   "execution_count": null,
   "metadata": {},
   "outputs": [],
   "source": [
    "print(x)"
   ]
  },
  {
   "cell_type": "markdown",
   "metadata": {},
   "source": [
    "Python has it’s own local variables list. `x` is not modified globally (unless you make it an explict `global` variable).\n"
   ]
  },
  {
   "cell_type": "code",
   "execution_count": null,
   "metadata": {},
   "outputs": [],
   "source": [
    "def addnum(x, y):\n",
    "    x *= 3.14\n",
    "    return x + y\n",
    "addnum(5, 6)"
   ]
  },
  {
   "cell_type": "code",
   "execution_count": null,
   "metadata": {},
   "outputs": [],
   "source": [
    "x = 2\n",
    "addnum(x, 4)"
   ]
  },
  {
   "cell_type": "code",
   "execution_count": null,
   "metadata": {},
   "outputs": [],
   "source": [
    "print(x)"
   ]
  },
  {
   "cell_type": "markdown",
   "metadata": {},
   "source": [
    "Let's try to make a global variable:\n"
   ]
  },
  {
   "cell_type": "code",
   "execution_count": 41,
   "metadata": {},
   "outputs": [],
   "source": [
    "def numop(x, y):\n",
    "    x *= 3.14\n",
    "    global a\n",
    "    a += 1\n",
    "    return x + y, a ## note: we're returning a tuple here\n"
   ]
  },
  {
   "cell_type": "code",
   "execution_count": 42,
   "metadata": {},
   "outputs": [
    {
     "data": {
      "text/plain": [
       "(13.42, 2)"
      ]
     },
     "execution_count": 42,
     "metadata": {},
     "output_type": "execute_result"
    }
   ],
   "source": [
    "a = 1\n",
    "numop(3, 4)"
   ]
  },
  {
   "cell_type": "code",
   "execution_count": 43,
   "metadata": {},
   "outputs": [
    {
     "data": {
      "text/plain": [
       "(10.280000000000001, 3)"
      ]
     },
     "execution_count": 43,
     "metadata": {},
     "output_type": "execute_result"
    }
   ],
   "source": [
    "numop(2, 4)"
   ]
  },
  {
   "cell_type": "markdown",
   "metadata": {},
   "source": [
    "### Keyword arguments\n",
    "\n",
    "Functions can also be called using keyword arguments of the form kwarg=value. For instance, the following function:"
   ]
  },
  {
   "cell_type": "code",
   "execution_count": null,
   "metadata": {},
   "outputs": [],
   "source": [
    "def parrot(voltage, state='a stiff', action='voom', type='Norwegian Blue'):\n",
    "    print(\"-- This parrot wouldn't\", action, end=' ')\n",
    "    print(\"if you put\", voltage, \"volts through it.\")\n",
    "    print(\"-- Lovely plumage, the\", type)\n",
    "    print(\"-- It's\", state, \"!\")"
   ]
  },
  {
   "cell_type": "markdown",
   "metadata": {},
   "source": [
    "accepts one required argument (voltage) and three optional arguments (state, action, and type). This function can be called in any of the following ways:\n",
    "\n"
   ]
  },
  {
   "cell_type": "code",
   "execution_count": null,
   "metadata": {},
   "outputs": [],
   "source": [
    "parrot(1000)                                          # 1 positional argument\n",
    "parrot(voltage=1000)                                  # 1 keyword argument\n",
    "parrot(voltage=1000000, action='VOOOOOM')             # 2 keyword arguments\n",
    "#parrot(action='VOOOOOM', voltage=1000000)             # 2 keyword arguments\n",
    "#parrot('a million', 'bereft of life', 'jump')         # 3 positional arguments\n",
    "parrot('a thousand', state='pushing up the daisies')  # 1 positional, 1 keyword"
   ]
  },
  {
   "cell_type": "markdown",
   "metadata": {},
   "source": [
    "but all the following calls would be invalid:\n",
    "\n"
   ]
  },
  {
   "cell_type": "code",
   "execution_count": null,
   "metadata": {},
   "outputs": [],
   "source": [
    "parrot()                     # required argument missing\n",
    "parrot(voltage=5.0, 'dead')  # non-keyword argument after a keyword argument\n",
    "parrot(110, voltage=220)     # duplicate value for the same argument\n",
    "parrot(actor='John Cleese')  # unknown keyword argument"
   ]
  },
  {
   "cell_type": "code",
   "execution_count": 44,
   "metadata": {},
   "outputs": [],
   "source": [
    "def numval(x, y, multiplier = 1, greetings = 'Thank you for contacting us'):\n",
    "    if greetings is not None:\n",
    "        print(greetings)\n",
    "    return (x + y) * multiplier"
   ]
  },
  {
   "cell_type": "code",
   "execution_count": 45,
   "metadata": {},
   "outputs": [
    {
     "name": "stdout",
     "output_type": "stream",
     "text": [
      "Thank you for contacting us\n"
     ]
    },
    {
     "data": {
      "text/plain": [
       "3"
      ]
     },
     "execution_count": 45,
     "metadata": {},
     "output_type": "execute_result"
    }
   ],
   "source": [
    "numval(1, 2)"
   ]
  },
  {
   "cell_type": "code",
   "execution_count": null,
   "metadata": {},
   "outputs": [],
   "source": [
    "numval(1, 2, multiplier=0.5, greetings='Now you\\'re here')"
   ]
  },
  {
   "cell_type": "markdown",
   "metadata": {},
   "source": [
    ">keywords are a natural way to grow new functionality without \"breaking\" old code\n",
    "\n",
    ">We can return whatever we want from a function (dictionary, tuple, lists, strings, etc.). This is really awesome...\n",
    "\n",
    "### *arg, **kwargs captures unspecified args and keywords\n",
    "\n",
    "https://docs.python.org/3/tutorial/controlflow.html#keyword-arguments\n"
   ]
  },
  {
   "cell_type": "code",
   "execution_count": 51,
   "metadata": {},
   "outputs": [],
   "source": [
    "def cheeseshop(kind, *args, **kwargs):\n",
    "    print('-- Do you have any', kind, '?')\n",
    "    print('-- I\\'m sorry, we have ran out of', kind,'.')\n",
    "    for arg in args:\n",
    "        print(arg)\n",
    "    print(' ')    \n",
    "    print('-' * 50)\n",
    "    keys = list(kwargs.keys())\n",
    "    keys.sort()\n",
    "    for kw in keys:\n",
    "        print(kw, ':', kwargs[kw])"
   ]
  },
  {
   "cell_type": "code",
   "execution_count": 52,
   "metadata": {},
   "outputs": [
    {
     "name": "stdout",
     "output_type": "stream",
     "text": [
      "-- Do you have any Hamburger ?\n",
      "-- I'm sorry, we have ran out of Hamburger .\n",
      "It's very hot here\n",
      "It's really very hot here sir\n",
      " \n",
      "--------------------------------------------------\n",
      "client : John D\n",
      "shopkeeper : Raul K\n",
      "sketch : Cheese shop sketch\n"
     ]
    }
   ],
   "source": [
    "cheeseshop('Hamburger', 'It\\'s very hot here', \n",
    "           'It\\'s really very hot here sir', \n",
    "          shopkeeper = 'Raul K',\n",
    "          client = 'John D',\n",
    "          sketch = 'Cheese shop sketch'\n",
    "          )"
   ]
  },
  {
   "cell_type": "markdown",
   "metadata": {},
   "source": [
    "## Documentation\n",
    "\n",
    "Just the Right thing to Do and Python makes it dead simple\n",
    "\n",
    "### Docstring: the first unassigned string in a function (or class, method, program, etc.)"
   ]
  },
  {
   "cell_type": "code",
   "execution_count": 53,
   "metadata": {},
   "outputs": [],
   "source": [
    "def numop(x, y, multiplier = 1.0, greetings = 'Thank you for contacting us today.'):\n",
    "    '''\n",
    "    numop -- This function does a simple operation on numbers.\n",
    "    We expect x and y are numbers and return x+y times the multiplier. \n",
    "    multiplier is also a number ( float is preferred) and its optional.\n",
    "    It defaults to 1.0.\n",
    "    You can also specify a small greeting as a string.\n",
    "    \n",
    "    '''\n",
    "    \n",
    "    if greetings is not None:\n",
    "        print(greetings)\n",
    "        \n",
    "    return (x + y) * multiplier"
   ]
  },
  {
   "cell_type": "code",
   "execution_count": 54,
   "metadata": {},
   "outputs": [],
   "source": [
    "numop?"
   ]
  },
  {
   "cell_type": "code",
   "execution_count": 55,
   "metadata": {},
   "outputs": [
    {
     "name": "stdout",
     "output_type": "stream",
     "text": [
      "Help on function numop in module __main__:\n",
      "\n",
      "numop(x, y, multiplier=1.0, greetings='Thank you for contacting us today.')\n",
      "    numop -- This function does a simple operation on numbers.\n",
      "    We expect x and y are numbers and return x+y times the multiplier. \n",
      "    multiplier is also a number ( float is preferred) and its optional.\n",
      "    It defaults to 1.0.\n",
      "    You can also specify a small greeting as a string.\n",
      "\n"
     ]
    }
   ],
   "source": [
    "help(numop)"
   ]
  },
  {
   "cell_type": "code",
   "execution_count": null,
   "metadata": {},
   "outputs": [],
   "source": [
    "%%writefile numop.py\n",
    "\n",
    "\"\"\"\n",
    "Some functions written to demonstrate a bunch of concepts like modules, \n",
    "import, and command-line programming.\n",
    "\n",
    "\"\"\"\n",
    "\n",
    "def numop(x, y, multiplier = 1.0, greetings = 'Thank you for your inquiry.'):\n",
    "    \n",
    "    '''numop -- this does a simple operation on two numbers. \n",
    "     We expect x,y are numbers and return x + y times the multiplier\n",
    "     multiplier is also a number (a float is preferred) and is optional. \n",
    "     It defaults to 1.0.\n",
    "     You can also specify a small greeting as a string.\n",
    "     \n",
    "    '''\n",
    "    \n",
    "    if greetings is not None:\n",
    "        \n",
    "        print(greetings)\n",
    "        \n",
    "    return (x + y) * multiplier"
   ]
  },
  {
   "cell_type": "code",
   "execution_count": 56,
   "metadata": {},
   "outputs": [
    {
     "name": "stdout",
     "output_type": "stream",
     "text": [
      "wrote numop.html\r\n"
     ]
    }
   ],
   "source": [
    "!pydoc -w numop"
   ]
  },
  {
   "cell_type": "code",
   "execution_count": 57,
   "metadata": {},
   "outputs": [
    {
     "data": {
      "text/html": [
       "\n",
       "        <iframe\n",
       "            width=\"700\"\n",
       "            height=\"350\"\n",
       "            src=\"numop.html\"\n",
       "            frameborder=\"0\"\n",
       "            allowfullscreen\n",
       "        ></iframe>\n",
       "        "
      ],
      "text/plain": [
       "<IPython.lib.display.IFrame at 0x7f3698567470>"
      ]
     },
     "execution_count": 57,
     "metadata": {},
     "output_type": "execute_result"
    }
   ],
   "source": [
    "from IPython.display import IFrame\n",
    "IFrame('numop.html', width=700, height=350)"
   ]
  },
  {
   "cell_type": "markdown",
   "metadata": {},
   "source": [
    "## Modules\n",
    "\n",
    "Organized units (written as files) which contain functions, statements and other definitions\n",
    "\n",
    "Any file ending in `.py` is treated as a module (e.g., `numop.py`, which names and defines a function `numop`)\n",
    "\n",
    "Modules: own global names/functions so you can name things whatever you want there and not conflict with the names in other modules."
   ]
  },
  {
   "cell_type": "code",
   "execution_count": 58,
   "metadata": {},
   "outputs": [
    {
     "name": "stdout",
     "output_type": "stream",
     "text": [
      "Overwriting numfun.py\n"
     ]
    }
   ],
   "source": [
    "%%writefile numfun.py\n",
    "\"\"\"\n",
    "small demo of modules\n",
    "\"\"\"\n",
    "\n",
    "def numop(x, y, multiplier = 1.0, greetings = \"Thank you for your inquiry.\"):\n",
    "    \n",
    "    \"\"\" \n",
    "    numop -- this does a simple operation on two numbers. \n",
    "    We expect x,y are numbers and return x + y times the multiplier\n",
    "    multiplier is also a number (a float is preferred) and is optional. \n",
    "    It defaults to 1.0.\n",
    "    You can also specify a small greeting as a string.\n",
    "    \n",
    "    \"\"\"\n",
    "    \n",
    "    if greetings is not None:\n",
    "        print(greetings)\n",
    "    \n",
    "    return (x + y)*multiplier"
   ]
  },
  {
   "cell_type": "markdown",
   "metadata": {},
   "source": [
    "## import module_name\n",
    "\n",
    "gives us access to that module’s functions"
   ]
  },
  {
   "cell_type": "code",
   "execution_count": 59,
   "metadata": {},
   "outputs": [],
   "source": [
    "import numfun"
   ]
  },
  {
   "cell_type": "code",
   "execution_count": 60,
   "metadata": {},
   "outputs": [
    {
     "data": {
      "text/plain": [
       "20"
      ]
     },
     "execution_count": 60,
     "metadata": {},
     "output_type": "execute_result"
    }
   ],
   "source": [
    "numfun.numop(2, 3, 4, greetings=None)"
   ]
  },
  {
   "cell_type": "code",
   "execution_count": 61,
   "metadata": {},
   "outputs": [
    {
     "data": {
      "text/plain": [
       "20"
      ]
     },
     "execution_count": 61,
     "metadata": {},
     "output_type": "execute_result"
    }
   ],
   "source": [
    "numop(2, 3, 4, greetings=None)"
   ]
  },
  {
   "cell_type": "code",
   "execution_count": 62,
   "metadata": {},
   "outputs": [
    {
     "name": "stdout",
     "output_type": "stream",
     "text": [
      "Overwriting numfun1.py\n"
     ]
    }
   ],
   "source": [
    "%%writefile numfun1.py\n",
    "\"\"\"\n",
    "small demo of modules\n",
    "\"\"\"\n",
    "\n",
    "## do some stuff and set some variables\n",
    "print(\"numfun1 in the house\")\n",
    "x    = 2\n",
    "s    = \"spam\"\n",
    "\n",
    "def numop(x, y, multiplier = 1.0, greetings = \"Thank you for your inquiry.\"):\n",
    "    \"\"\" \n",
    "Purpose: does a simple operation on two numbers. \n",
    "\n",
    "Input: We expect x,y are numbers \n",
    "       multiplier is also a number (a float is preferred) and is optional.  \n",
    "       It defaults to 1.0. You can also specify a small greeting as a string.\n",
    "\n",
    "Output: return x + y times the multiplier\n",
    "    \"\"\"\n",
    "    if greetings is not None:\n",
    "          print(greetings)\n",
    "    return (x + y)*multiplier"
   ]
  },
  {
   "cell_type": "code",
   "execution_count": 63,
   "metadata": {},
   "outputs": [
    {
     "name": "stdout",
     "output_type": "stream",
     "text": [
      "numfun1 in the house\n"
     ]
    }
   ],
   "source": [
    "import numfun1"
   ]
  },
  {
   "cell_type": "code",
   "execution_count": 64,
   "metadata": {},
   "outputs": [
    {
     "name": "stdout",
     "output_type": "stream",
     "text": [
      "2 spam\n"
     ]
    }
   ],
   "source": [
    "print(numfun1.x, numfun1.s)"
   ]
  },
  {
   "cell_type": "code",
   "execution_count": 65,
   "metadata": {},
   "outputs": [
    {
     "name": "stdout",
     "output_type": "stream",
     "text": [
      "eggs spam\n"
     ]
    }
   ],
   "source": [
    "s = \"eggs\" ; print(s, numfun1.s)"
   ]
  },
  {
   "cell_type": "code",
   "execution_count": 66,
   "metadata": {},
   "outputs": [],
   "source": [
    "numfun1.s = s"
   ]
  },
  {
   "cell_type": "code",
   "execution_count": 67,
   "metadata": {},
   "outputs": [
    {
     "name": "stdout",
     "output_type": "stream",
     "text": [
      "eggs eggs\n"
     ]
    }
   ],
   "source": [
    "print(s, numfun1.s)"
   ]
  },
  {
   "cell_type": "code",
   "execution_count": 68,
   "metadata": {},
   "outputs": [],
   "source": [
    "# delete numfun2 from the namespace\n",
    "\n",
    "del numfun1"
   ]
  },
  {
   "cell_type": "markdown",
   "metadata": {},
   "source": [
    "```  \n",
    "dir() gives a list of in scope variables\n",
    "globals() gives a dictionary of global variables\n",
    "locals() gives a dictionary of local variables\n",
    "```"
   ]
  },
  {
   "cell_type": "code",
   "execution_count": 69,
   "metadata": {},
   "outputs": [
    {
     "data": {
      "text/plain": [
       "['IFrame',\n",
       " 'In',\n",
       " 'Out',\n",
       " '_',\n",
       " '_2',\n",
       " '_22',\n",
       " '_23',\n",
       " '_24',\n",
       " '_25',\n",
       " '_33',\n",
       " '_34',\n",
       " '_37',\n",
       " '_39',\n",
       " '_40',\n",
       " '_42',\n",
       " '_43',\n",
       " '_45',\n",
       " '_5',\n",
       " '_57',\n",
       " '_60',\n",
       " '_61',\n",
       " '_7',\n",
       " '_8',\n",
       " '_9',\n",
       " '__',\n",
       " '___',\n",
       " '__builtin__',\n",
       " '__builtins__',\n",
       " '__doc__',\n",
       " '__loader__',\n",
       " '__name__',\n",
       " '__package__',\n",
       " '__spec__',\n",
       " '_dh',\n",
       " '_exit_code',\n",
       " '_i',\n",
       " '_i1',\n",
       " '_i10',\n",
       " '_i11',\n",
       " '_i12',\n",
       " '_i13',\n",
       " '_i14',\n",
       " '_i15',\n",
       " '_i16',\n",
       " '_i17',\n",
       " '_i18',\n",
       " '_i19',\n",
       " '_i2',\n",
       " '_i20',\n",
       " '_i21',\n",
       " '_i22',\n",
       " '_i23',\n",
       " '_i24',\n",
       " '_i25',\n",
       " '_i26',\n",
       " '_i27',\n",
       " '_i28',\n",
       " '_i29',\n",
       " '_i3',\n",
       " '_i30',\n",
       " '_i31',\n",
       " '_i32',\n",
       " '_i33',\n",
       " '_i34',\n",
       " '_i35',\n",
       " '_i36',\n",
       " '_i37',\n",
       " '_i38',\n",
       " '_i39',\n",
       " '_i4',\n",
       " '_i40',\n",
       " '_i41',\n",
       " '_i42',\n",
       " '_i43',\n",
       " '_i44',\n",
       " '_i45',\n",
       " '_i46',\n",
       " '_i47',\n",
       " '_i48',\n",
       " '_i49',\n",
       " '_i5',\n",
       " '_i50',\n",
       " '_i51',\n",
       " '_i52',\n",
       " '_i53',\n",
       " '_i54',\n",
       " '_i55',\n",
       " '_i56',\n",
       " '_i57',\n",
       " '_i58',\n",
       " '_i59',\n",
       " '_i6',\n",
       " '_i60',\n",
       " '_i61',\n",
       " '_i62',\n",
       " '_i63',\n",
       " '_i64',\n",
       " '_i65',\n",
       " '_i66',\n",
       " '_i67',\n",
       " '_i68',\n",
       " '_i69',\n",
       " '_i7',\n",
       " '_i8',\n",
       " '_i9',\n",
       " '_ih',\n",
       " '_ii',\n",
       " '_iii',\n",
       " '_oh',\n",
       " 'a',\n",
       " 'addnum',\n",
       " 'cheeseshop',\n",
       " 'exit',\n",
       " 'get_ipython',\n",
       " 'group_1',\n",
       " 'group_2',\n",
       " 'group_3',\n",
       " 'group_4',\n",
       " 'name',\n",
       " 'names',\n",
       " 'numfun',\n",
       " 'numop',\n",
       " 'numval',\n",
       " 'quit',\n",
       " 'random',\n",
       " 's',\n",
       " 'x']"
      ]
     },
     "execution_count": 69,
     "metadata": {},
     "output_type": "execute_result"
    }
   ],
   "source": [
    "dir()"
   ]
  },
  {
   "cell_type": "markdown",
   "metadata": {},
   "source": [
    "how to bring some of module’s functions into the current namespace:\n",
    "\n",
    "    from module_name import function_name\n",
    "    from module_name import variable\n",
    "    from module_name import variable, function_name1, function_name2, ...\n",
    "\n",
    "Let's restart the kernel."
   ]
  },
  {
   "cell_type": "code",
   "execution_count": 70,
   "metadata": {},
   "outputs": [],
   "source": [
    "from numfun1 import x, numop"
   ]
  },
  {
   "cell_type": "code",
   "execution_count": null,
   "metadata": {},
   "outputs": [],
   "source": [
    "x == 2"
   ]
  },
  {
   "cell_type": "code",
   "execution_count": null,
   "metadata": {},
   "outputs": [],
   "source": [
    "numop(2, 3, 4, greetings=None)"
   ]
  },
  {
   "cell_type": "code",
   "execution_count": null,
   "metadata": {},
   "outputs": [],
   "source": [
    "s"
   ]
  },
  {
   "cell_type": "code",
   "execution_count": null,
   "metadata": {},
   "outputs": [],
   "source": [
    "numfun1.x"
   ]
  },
  {
   "cell_type": "code",
   "execution_count": null,
   "metadata": {},
   "outputs": [],
   "source": [
    "import numfun1\n",
    "numfun1.x"
   ]
  },
  {
   "cell_type": "markdown",
   "metadata": {},
   "source": [
    "## Renaming a function (or variable) for your namespace:\n",
    "\n",
    "    from module_name import name as my_name"
   ]
  },
  {
   "cell_type": "code",
   "execution_count": null,
   "metadata": {},
   "outputs": [],
   "source": [
    "from numfun1 import s as my_fav_food\n",
    "from numfun1 import numop as best_adder"
   ]
  },
  {
   "cell_type": "code",
   "execution_count": null,
   "metadata": {},
   "outputs": [],
   "source": [
    "print(my_fav_food)"
   ]
  },
  {
   "cell_type": "code",
   "execution_count": null,
   "metadata": {},
   "outputs": [],
   "source": [
    "print(best_adder(2, 3, 4))"
   ]
  },
  {
   "cell_type": "markdown",
   "metadata": {},
   "source": [
    "## Kitchen-Sinking It\n",
    "\n",
    "    from module_name import *"
   ]
  },
  {
   "cell_type": "code",
   "execution_count": null,
   "metadata": {},
   "outputs": [],
   "source": [
    "from numfun1 import *"
   ]
  },
  {
   "cell_type": "code",
   "execution_count": null,
   "metadata": {},
   "outputs": [],
   "source": [
    "print(best_adder(x, 2, 3))"
   ]
  },
  {
   "cell_type": "markdown",
   "metadata": {},
   "source": [
    "This `from ... import *` is very convenient in the interpreter, but considered bad coding style. It pollutes your namespace.\n",
    "\n",
    "## Built-In Modules\n",
    "\n",
    "give access to the full range of what Python can do\n",
    "\n",
    "    sys exposes interpreter stuff & interactions (like environment and file I/O)\n",
    "    os exposes platform-specific OS functions (like file statistics, directory services)\n",
    "    math basic mathematical functions & constants\n",
    "    \n",
    "These are super battle tested and close to the optimal way for doing things within Python"
   ]
  },
  {
   "cell_type": "code",
   "execution_count": null,
   "metadata": {},
   "outputs": [],
   "source": [
    "import sys\n",
    "help(sys)"
   ]
  },
  {
   "cell_type": "code",
   "execution_count": 77,
   "metadata": {},
   "outputs": [
    {
     "name": "stdout",
     "output_type": "stream",
     "text": [
      "Overwriting getinfo.py\n"
     ]
    }
   ],
   "source": [
    "%%writefile getinfo.py\n",
    "\n",
    "import os\n",
    "import sys\n",
    "\n",
    "def getinfo(path=\".\"):\n",
    "    \"\"\"\n",
    "Purpose: make simple use of os and sys modules\n",
    "Input: path (default = \".\"), the directory you want to list\n",
    "    \"\"\"\n",
    "    print(\"You are using Python version \", end= \" \")\n",
    "    print(sys.version)\n",
    "    print(\" \")\n",
    "    print(\"-\" * 90)\n",
    "    print(\"Files in the directory \" + str(os.path.abspath(path)) + \":\")\n",
    "    for f in os.listdir(path): \n",
    "        print(f)"
   ]
  },
  {
   "cell_type": "markdown",
   "metadata": {},
   "source": [
    "   - os.listdir() - return a dictionary of all the file names in the specified directory\n",
    "   - sys.version - string representation of the Python (and gcc) version\n",
    "   - os.path.abspath() - translation of given pathname to the absolute path (operating system-specific)"
   ]
  },
  {
   "cell_type": "code",
   "execution_count": 78,
   "metadata": {},
   "outputs": [
    {
     "name": "stdout",
     "output_type": "stream",
     "text": [
      "You are using Python version  3.6.5 |Anaconda, Inc.| (default, Apr 29 2018, 16:14:56) \n",
      "[GCC 7.2.0]\n",
      " \n",
      "------------------------------------------------------------------------------------------\n",
      "Files in the directory /bin:\n",
      "mt-gnu\n",
      "ntfsls\n",
      "dnsdomainname\n",
      "tailf\n",
      "true\n",
      "chgrp\n",
      "rmdir\n",
      "which\n",
      "netcat\n",
      "static-sh\n",
      "bzmore\n",
      "zmore\n",
      "mount\n",
      "zgrep\n",
      "kmod\n",
      "fgconsole\n",
      "open\n",
      "dumpkeys\n",
      "ln\n",
      "bzcmp\n",
      "getfacl\n",
      "uname\n",
      "stty\n",
      "wdctl\n",
      "bzgrep\n",
      "loginctl\n",
      "bunzip2\n",
      "ntfscluster\n",
      "zforce\n",
      "systemd-hwdb\n",
      "fgrep\n",
      "cat\n",
      "cpio\n",
      "mv\n",
      "sed\n",
      "ps\n",
      "rnano\n",
      "ntfs-3g\n",
      "nisdomainname\n",
      "bzexe\n",
      "gzexe\n",
      "touch\n",
      "tar\n",
      "less\n",
      "ntfsinfo\n",
      "echo\n",
      "ntfsfix\n",
      "pidof\n",
      "dd\n",
      "sync\n",
      "bash\n",
      "systemd-machine-id-setup\n",
      "systemd-tmpfiles\n",
      "lowntfs-3g\n",
      "ntfs-3g.usermap\n",
      "systemd-tty-ask-password-agent\n",
      "cp\n",
      "plymouth\n",
      "zcmp\n",
      "ed\n",
      "journalctl\n",
      "lesspipe\n",
      "chmod\n",
      "zegrep\n",
      "rbash\n",
      "setupcon\n",
      "hciconfig\n",
      "gunzip\n",
      "rm\n",
      "znew\n",
      "lsblk\n",
      "ping\n",
      "ntfs-3g.probe\n",
      "ping6\n",
      "systemd-inhibit\n",
      "zdiff\n",
      "domainname\n",
      "pwd\n",
      "chown\n",
      "efibootmgr\n",
      "chacl\n",
      "gzip\n",
      "fusermount\n",
      "fuser\n",
      "mt\n",
      "mknod\n",
      "mkdir\n",
      "bzip2recover\n",
      "systemd\n",
      "zless\n",
      "ulockmgr_server\n",
      "mktemp\n",
      "ypdomainname\n",
      "dir\n",
      "bzless\n",
      "setfont\n",
      "ntfsfallocate\n",
      "uncompress\n",
      "readlink\n",
      "ls\n",
      "sh\n",
      "egrep\n",
      "hostname\n",
      "ntfs-3g.secaudit\n",
      "systemd-notify\n",
      "ntfswipe\n",
      "nc.openbsd\n",
      "dmesg\n",
      "ss\n",
      "lsmod\n",
      "lesskey\n",
      "systemd-ask-password\n",
      "sh.distrib\n",
      "openvt\n",
      "sleep\n",
      "bzegrep\n",
      "run-parts\n",
      "lessfile\n",
      "false\n",
      "findmnt\n",
      "ip\n",
      "udevadm\n",
      "bzcat\n",
      "bzfgrep\n",
      "umount\n",
      "red\n",
      "lessecho\n",
      "vdir\n",
      "zcat\n",
      "whiptail\n",
      "busybox\n",
      "more\n",
      "networkctl\n",
      "df\n",
      "nc\n",
      "ntfstruncate\n",
      "unicode_start\n",
      "zfgrep\n",
      "kill\n",
      "tempfile\n",
      "netstat\n",
      "dash\n",
      "login\n",
      "mountpoint\n",
      "bzip2\n",
      "systemd-escape\n",
      "ntfscmp\n",
      "systemctl\n",
      "bzdiff\n",
      "ntfsmove\n",
      "ntfscat\n",
      "date\n",
      "loadkeys\n",
      "chvt\n",
      "setfacl\n",
      "kbd_mode\n",
      "nano\n",
      "su\n",
      "grep\n"
     ]
    }
   ],
   "source": [
    "import getinfo\n",
    "getinfo.getinfo(\"/bin\")"
   ]
  },
  {
   "cell_type": "markdown",
   "metadata": {},
   "source": [
    ">Python’s standard library is very extensive, offering a wide range of facilities as indicated by the long table of contents listed below. The library contains built-in modules (written in C) that provide access to system functionality such as file I/O that would otherwise be inaccessible to Python programmers, as well as modules written in Python that provide standardized solutions for many problems that occur in everyday programming. Some of these modules are explicitly designed to encourage and enhance the portability of Python programs by abstracting away platform-specifics into platform-neutral APIs.\n",
    "\n",
    "-- https://docs.python.org/3/library/"
   ]
  },
  {
   "cell_type": "code",
   "execution_count": 1,
   "metadata": {},
   "outputs": [
    {
     "data": {
      "text/html": [
       "\n",
       "        <iframe\n",
       "            width=\"90%\"\n",
       "            height=\"600\"\n",
       "            src=\"https://docs.python.org/3/library/\"\n",
       "            frameborder=\"0\"\n",
       "            allowfullscreen\n",
       "        ></iframe>\n",
       "        "
      ],
      "text/plain": [
       "<IPython.lib.display.IFrame at 0x7fe038414e10>"
      ]
     },
     "execution_count": 1,
     "metadata": {},
     "output_type": "execute_result"
    }
   ],
   "source": [
    "from IPython.display import IFrame\n",
    "IFrame('https://docs.python.org/3/library/', width=\"90%\", height=\"600\")"
   ]
  },
  {
   "cell_type": "markdown",
   "metadata": {},
   "source": [
    "![Image](meme.png)"
   ]
  },
  {
   "cell_type": "markdown",
   "metadata": {},
   "source": [
    "## Making a Script Executable\n",
    "\n",
    "    When a script/module is run from the command line, a special variable called __name__ is set to \"__main__\"\n",
    "\n",
    "On the first line of a script, say what to run the script with (as with Perl):"
   ]
  },
  {
   "cell_type": "code",
   "execution_count": 76,
   "metadata": {},
   "outputs": [
    {
     "name": "stdout",
     "output_type": "stream",
     "text": [
      "Overwriting script_name.py\n"
     ]
    }
   ],
   "source": [
    "%%writefile script_name.py\n",
    "#!/usr/bin/env python3\n",
    "'''\n",
    "Docstring for ths module\n",
    "\n",
    "'''\n",
    "# All your module stuffs here ...\n",
    "\n",
    "#At the bottom stick ....\n",
    "\n",
    "if __name__ == \"__main__\":\n",
    "    \n",
    "    '''\n",
    "    Only executed if this module is called from the command line\n",
    "    \n",
    "    '''\n",
    "    \n",
    "    # Can call functions from within this module\n",
    "    print('I was called from the command line!')"
   ]
  },
  {
   "cell_type": "code",
   "execution_count": null,
   "metadata": {},
   "outputs": [],
   "source": [
    "%%bash\n",
    "chmod a+x script_name.py  ## set execute permissions of that script. This works in UNIX, Mac OSX\n",
    "./script_name.py"
   ]
  },
  {
   "cell_type": "code",
   "execution_count": null,
   "metadata": {},
   "outputs": [],
   "source": [
    "%%bash\n",
    "./script_name.py"
   ]
  },
  {
   "cell_type": "code",
   "execution_count": 71,
   "metadata": {},
   "outputs": [
    {
     "name": "stdout",
     "output_type": "stream",
     "text": [
      "Overwriting modfun.py\n"
     ]
    }
   ],
   "source": [
    "%%writefile modfun.py\n",
    "#!/usr/bin/env python\n",
    "\n",
    "'''\n",
    "Some functions written to demonstrate a bunch of concepts like modules, \n",
    "import, and command-line programming.\n",
    "\n",
    "'''\n",
    "import os\n",
    "import sys\n",
    "\n",
    "def getinfo(path = '.', show_version = True):\n",
    "    '''\n",
    "    Purpose: make simple use of os and sys modules\n",
    "    Input: path (default = \".\"), the directory you want to list\n",
    "    \n",
    "    '''\n",
    "    if show_version:\n",
    "        print(' ')\n",
    "        print('-' * 90)\n",
    "        print('You are using Python version', end = ' ')\n",
    "        print(sys.version)\n",
    "        print('-' * 90)\n",
    "        \n",
    "    print('File in the directory ' + str(os.path.abspath(path)) + \" :\")\n",
    "    for f in os.listdir(path):\n",
    "        print(' ' + f)\n",
    "        \n",
    "    print('-' * 90)\n",
    "    \n",
    "if __name__ == '__main__':\n",
    "        '''\n",
    "        Executed only if run from the command line.                                                                                \n",
    "        call with  \n",
    "        \n",
    "        modfun.py <dirname> <dirname> ...   \n",
    "          \n",
    "        If no dirname is given then list the files in the current path \n",
    "        \n",
    "        '''\n",
    "        if len(sys.argv) == 1:\n",
    "            getinfo(' . ', show_version = True)\n",
    "        else:\n",
    "            for i, dir in enumerate(sys.argv[1:]):\n",
    "                if os.path.isdir(dir):\n",
    "                    # if we have a directory then operate on it                                                                \n",
    "                    # only show the version info if it's the first directory\n",
    "                    \n",
    "                    getinfo(dir, show_version = (i==1))\n",
    "                else:\n",
    "                    print('Directory ' + str(dir) + ' does not exit')\n",
    "                    print('-' * 90)"
   ]
  },
  {
   "cell_type": "code",
   "execution_count": 72,
   "metadata": {},
   "outputs": [],
   "source": [
    "!chmod +x modfun.py"
   ]
  },
  {
   "cell_type": "code",
   "execution_count": 73,
   "metadata": {},
   "outputs": [
    {
     "name": "stdout",
     "output_type": "stream",
     "text": [
      " \r\n",
      "------------------------------------------------------------------------------------------\r\n",
      "You are using Python version 3.6.5 |Anaconda, Inc.| (default, Apr 29 2018, 16:14:56) \r\n",
      "[GCC 7.2.0]\r\n",
      "------------------------------------------------------------------------------------------\r\n",
      "File in the directory /home/sudoh/projects/LearnPython_Class/03_Functions_and_Modules/ .  :\r\n",
      "Traceback (most recent call last):\r\n",
      "  File \"./modfun.py\", line 41, in <module>\r\n",
      "    getinfo(' . ', show_version = True)\r\n",
      "  File \"./modfun.py\", line 25, in getinfo\r\n",
      "    for f in os.listdir(path):\r\n",
      "FileNotFoundError: [Errno 2] No such file or directory: ' . '\r\n"
     ]
    }
   ],
   "source": [
    "! ./modfun.py"
   ]
  },
  {
   "cell_type": "code",
   "execution_count": 74,
   "metadata": {},
   "outputs": [
    {
     "name": "stdout",
     "output_type": "stream",
     "text": [
      " \n",
      "------------------------------------------------------------------------------------------\n",
      "You are using Python version 3.6.5 |Anaconda, Inc.| (default, Apr 29 2018, 16:14:56) \n",
      "[GCC 7.2.0]\n",
      "------------------------------------------------------------------------------------------\n",
      "File in the directory /home/sudoh/projects/LearnPython_Class/03_Functions_and_Modules/ .  :\n"
     ]
    },
    {
     "name": "stderr",
     "output_type": "stream",
     "text": [
      "Traceback (most recent call last):\n",
      "  File \"./modfun.py\", line 41, in <module>\n",
      "    getinfo(' . ', show_version = True)\n",
      "  File \"./modfun.py\", line 25, in getinfo\n",
      "    for f in os.listdir(path):\n",
      "FileNotFoundError: [Errno 2] No such file or directory: ' . '\n"
     ]
    }
   ],
   "source": [
    "%%bash\n",
    "./modfun.py"
   ]
  },
  {
   "cell_type": "code",
   "execution_count": 75,
   "metadata": {},
   "outputs": [
    {
     "name": "stdout",
     "output_type": "stream",
     "text": [
      "File in the directory /home/sudoh/projects/LearnPython_Class/03_Functions_and_Modules :\n",
      " getinfo.py\n",
      " meme.png\n",
      " numfun1.py\n",
      " numop.py\n",
      " numop.html\n",
      " script_name.py\n",
      " 03_Functions_and_Modules.ipynb\n",
      " numfun.py\n",
      " __pycache__\n",
      " modfun.py\n",
      " .ipynb_checkpoints\n",
      "------------------------------------------------------------------------------------------\n",
      " \n",
      "------------------------------------------------------------------------------------------\n",
      "You are using Python version 3.6.5 |Anaconda, Inc.| (default, Apr 29 2018, 16:14:56) \n",
      "[GCC 7.2.0]\n",
      "------------------------------------------------------------------------------------------\n",
      "File in the directory /home/sudoh/projects :\n",
      " shell_scripting\n",
      " Operating-Systems-Notes\n",
      " cuscs.github.io\n",
      " practical_js\n",
      " codeweek17\n",
      " linux.augeosai.sh\n",
      " cusss.github.io\n",
      " Deep-learning-image-classification-with-Tensorflow-and-Keras\n",
      " LearnPython_Class\n",
      " deeplearningwithtf\n",
      " year_progress\n",
      " LearnWebDevelopment\n",
      " Deep-learning-image-classification\n",
      " CS201-DiscreteMath-15\n",
      " LearnAlgorithms\n",
      " learnpythonclass\n",
      " Exercise Files\n",
      " lecture_slide_programming\n",
      "------------------------------------------------------------------------------------------\n",
      "File in the directory /bin :\n",
      " mt-gnu\n",
      " ntfsls\n",
      " dnsdomainname\n",
      " tailf\n",
      " true\n",
      " chgrp\n",
      " rmdir\n",
      " which\n",
      " netcat\n",
      " static-sh\n",
      " bzmore\n",
      " zmore\n",
      " mount\n",
      " zgrep\n",
      " kmod\n",
      " fgconsole\n",
      " open\n",
      " dumpkeys\n",
      " ln\n",
      " bzcmp\n",
      " getfacl\n",
      " uname\n",
      " stty\n",
      " wdctl\n",
      " bzgrep\n",
      " loginctl\n",
      " bunzip2\n",
      " ntfscluster\n",
      " zforce\n",
      " systemd-hwdb\n",
      " fgrep\n",
      " cat\n",
      " cpio\n",
      " mv\n",
      " sed\n",
      " ps\n",
      " rnano\n",
      " ntfs-3g\n",
      " nisdomainname\n",
      " bzexe\n",
      " gzexe\n",
      " touch\n",
      " tar\n",
      " less\n",
      " ntfsinfo\n",
      " echo\n",
      " ntfsfix\n",
      " pidof\n",
      " dd\n",
      " sync\n",
      " bash\n",
      " systemd-machine-id-setup\n",
      " systemd-tmpfiles\n",
      " lowntfs-3g\n",
      " ntfs-3g.usermap\n",
      " systemd-tty-ask-password-agent\n",
      " cp\n",
      " plymouth\n",
      " zcmp\n",
      " ed\n",
      " journalctl\n",
      " lesspipe\n",
      " chmod\n",
      " zegrep\n",
      " rbash\n",
      " setupcon\n",
      " hciconfig\n",
      " gunzip\n",
      " rm\n",
      " znew\n",
      " lsblk\n",
      " ping\n",
      " ntfs-3g.probe\n",
      " ping6\n",
      " systemd-inhibit\n",
      " zdiff\n",
      " domainname\n",
      " pwd\n",
      " chown\n",
      " efibootmgr\n",
      " chacl\n",
      " gzip\n",
      " fusermount\n",
      " fuser\n",
      " mt\n",
      " mknod\n",
      " mkdir\n",
      " bzip2recover\n",
      " systemd\n",
      " zless\n",
      " ulockmgr_server\n",
      " mktemp\n",
      " ypdomainname\n",
      " dir\n",
      " bzless\n",
      " setfont\n",
      " ntfsfallocate\n",
      " uncompress\n",
      " readlink\n",
      " ls\n",
      " sh\n",
      " egrep\n",
      " hostname\n",
      " ntfs-3g.secaudit\n",
      " systemd-notify\n",
      " ntfswipe\n",
      " nc.openbsd\n",
      " dmesg\n",
      " ss\n",
      " lsmod\n",
      " lesskey\n",
      " systemd-ask-password\n",
      " sh.distrib\n",
      " openvt\n",
      " sleep\n",
      " bzegrep\n",
      " run-parts\n",
      " lessfile\n",
      " false\n",
      " findmnt\n",
      " ip\n",
      " udevadm\n",
      " bzcat\n",
      " bzfgrep\n",
      " umount\n",
      " red\n",
      " lessecho\n",
      " vdir\n",
      " zcat\n",
      " whiptail\n",
      " busybox\n",
      " more\n",
      " networkctl\n",
      " df\n",
      " nc\n",
      " ntfstruncate\n",
      " unicode_start\n",
      " zfgrep\n",
      " kill\n",
      " tempfile\n",
      " netstat\n",
      " dash\n",
      " login\n",
      " mountpoint\n",
      " bzip2\n",
      " systemd-escape\n",
      " ntfscmp\n",
      " systemctl\n",
      " bzdiff\n",
      " ntfsmove\n",
      " ntfscat\n",
      " date\n",
      " loadkeys\n",
      " chvt\n",
      " setfacl\n",
      " kbd_mode\n",
      " nano\n",
      " su\n",
      " grep\n",
      "------------------------------------------------------------------------------------------\n"
     ]
    }
   ],
   "source": [
    "%%bash\n",
    "./modfun.py . /home/sudoh/projects /bin"
   ]
  },
  {
   "cell_type": "code",
   "execution_count": 32,
   "metadata": {},
   "outputs": [
    {
     "name": "stdout",
     "output_type": "stream",
     "text": [
      "Group 1 = ['Daniel', 'Christopher', 'Piotr', 'Stephanie'] \n",
      "Group 2 = ['Katy', 'Alexander', 'Jacob', 'Jason'] \n",
      "Group 3 = ['Sam', 'Kieran', 'Cheng', 'Raul'] \n",
      "Group 4 = ['Marcus', 'Ian', 'Jorge', 'Tyler'] \n"
     ]
    }
   ],
   "source": [
    "names = ['Christopher', 'Marcus', 'Raul', 'Alexander', 'Katy', 'Daniel', 'Jason', 'Jacob', 'Jorge', 'Sam', \n",
    "            'Stephanie', 'Cheng', 'Kieran', 'Ian', 'Tyler', 'Piotr']\n",
    "\n",
    "import random\n",
    "random.shuffle(names)\n",
    "for name in names:\n",
    "    group_1 = names[:4]\n",
    "    group_2 = names[4:8]\n",
    "    group_3 = names[8:12]\n",
    "    group_4 = names[12:16]\n",
    "    \n",
    "print('Group 1 = {} '.format(group_1))\n",
    "print('Group 2 = {} '.format(group_2))\n",
    "print('Group 3 = {} '.format(group_3))\n",
    "print('Group 4 = {} '.format(group_4))"
   ]
  },
  {
   "cell_type": "markdown",
   "metadata": {},
   "source": [
    "# Class Exercise 1"
   ]
  },
  {
   "cell_type": "markdown",
   "metadata": {},
   "source": [
    "For this next exercise, you'll need to complete the function gen_pattern, which, when called with a string of length  ≥  1, will generate an ASCII art pattern of concentric diamonds using those characters. The following are examples of patterns returned by the function:"
   ]
  },
  {
   "cell_type": "markdown",
   "metadata": {},
   "source": [
    "print(gen_pattern('X'))\n",
    "\n",
    "    X\n",
    "\n",
    "print(gen_pattern('XY'))\n",
    "```\n",
    "  Y\n",
    " YXY\n",
    "  Y\n",
    "```\n",
    "print(gen_pattern('WXYZ'))\n",
    "```\n",
    "    Z\n",
    "   ZYZ\n",
    "  ZYXYZ\n",
    " ZYXWXYZ\n",
    "  ZYXYZ\n",
    "   ZYZ\n",
    "    Z\n",
    " ```\n",
    "```\n",
    "\n",
    "print(gen_pattern('abcdefghijklmnopqrstuvwxyz')\n",
    "\n",
    "                         a\n",
    "                        aba\n",
    "                       abcba\n",
    "                      abcdcba\n",
    "                     abcdedcba\n",
    "                    abcdefedcba\n",
    "                   abcdefgfedcba\n",
    "                  abcdefghgfedcba\n",
    "                 abcdefghihgfedcba\n",
    "                abcdefghijihgfedcba\n",
    "               abcdefghijkjihgfedcba\n",
    "              abcdefghijklkjihgfedcba\n",
    "             abcdefghijklmlkjihgfedcba\n",
    "            abcdefghijklmnmlkjihgfedcba\n",
    "           abcdefghijklmnonmlkjihgfedcba\n",
    "          abcdefghijklmnoponmlkjihgfedcba\n",
    "         abcdefghijklmnopqponmlkjihgfedcba\n",
    "        abcdefghijklmnopqrqponmlkjihgfedcba\n",
    "       abcdefghijklmnopqrsrqponmlkjihgfedcba\n",
    "      abcdefghijklmnopqrstsrqponmlkjihgfedcba\n",
    "     abcdefghijklmnopqrstutsrqponmlkjihgfedcba\n",
    "    abcdefghijklmnopqrstuvutsrqponmlkjihgfedcba\n",
    "   abcdefghijklmnopqrstuvwvutsrqponmlkjihgfedcba\n",
    "  abcdefghijklmnopqrstuvwxwvutsrqponmlkjihgfedcba\n",
    " abcdefghijklmnopqrstuvwxyxwvutsrqponmlkjihgfedcba\n",
    "abcdefghijklmnopqrstuvwxyzyxwvutsrqponmlkjihgfedcba\n",
    " abcdefghijklmnopqrstuvwxyxwvutsrqponmlkjihgfedcba\n",
    "  abcdefghijklmnopqrstuvwxwvutsrqponmlkjihgfedcba\n",
    "   abcdefghijklmnopqrstuvwvutsrqponmlkjihgfedcba\n",
    "    abcdefghijklmnopqrstuvutsrqponmlkjihgfedcba\n",
    "     abcdefghijklmnopqrstutsrqponmlkjihgfedcba\n",
    "      abcdefghijklmnopqrstsrqponmlkjihgfedcba\n",
    "       abcdefghijklmnopqrsrqponmlkjihgfedcba\n",
    "        abcdefghijklmnopqrqponmlkjihgfedcba\n",
    "         abcdefghijklmnopqponmlkjihgfedcba\n",
    "          abcdefghijklmnoponmlkjihgfedcba\n",
    "           abcdefghijklmnonmlkjihgfedcba\n",
    "            abcdefghijklmnmlkjihgfedcba\n",
    "             abcdefghijklmlkjihgfedcba\n",
    "              abcdefghijklkjihgfedcba\n",
    "               abcdefghijkjihgfedcba\n",
    "                abcdefghijihgfedcba\n",
    "                 abcdefghihgfedcba\n",
    "                  abcdefghgfedcba\n",
    "                   abcdefgfedcba\n",
    "                    abcdefedcba\n",
    "                     abcdedcba\n",
    "                      abcdcba\n",
    "                       abcba\n",
    "                        aba\n",
    "                         a\n",
    "```"
   ]
  },
  {
   "cell_type": "markdown",
   "metadata": {},
   "source": [
    "# Class Exercise 2"
   ]
  },
  {
   "cell_type": "markdown",
   "metadata": {},
   "source": [
    "```\n",
    "gen_pattern('abcdefghijklmnop')\n",
    "\n",
    "..............................p..............................\n",
    "............................p.o.p............................\n",
    "..........................p.o.n.o.p..........................\n",
    "........................p.o.n.m.n.o.p........................\n",
    "......................p.o.n.m.l.m.n.o.p......................\n",
    "....................p.o.n.m.l.k.l.m.n.o.p....................\n",
    "..................p.o.n.m.l.k.j.k.l.m.n.o.p..................\n",
    "................p.o.n.m.l.k.j.i.j.k.l.m.n.o.p................\n",
    "..............p.o.n.m.l.k.j.i.h.i.j.k.l.m.n.o.p..............\n",
    "............p.o.n.m.l.k.j.i.h.g.h.i.j.k.l.m.n.o.p............\n",
    "..........p.o.n.m.l.k.j.i.h.g.f.g.h.i.j.k.l.m.n.o.p..........\n",
    "........p.o.n.m.l.k.j.i.h.g.f.e.f.g.h.i.j.k.l.m.n.o.p........\n",
    "......p.o.n.m.l.k.j.i.h.g.f.e.d.e.f.g.h.i.j.k.l.m.n.o.p......\n",
    "....p.o.n.m.l.k.j.i.h.g.f.e.d.c.d.e.f.g.h.i.j.k.l.m.n.o.p....\n",
    "..p.o.n.m.l.k.j.i.h.g.f.e.d.c.b.c.d.e.f.g.h.i.j.k.l.m.n.o.p..\n",
    "p.o.n.m.l.k.j.i.h.g.f.e.d.c.b.a.b.c.d.e.f.g.h.i.j.k.l.m.n.o.p\n",
    "..p.o.n.m.l.k.j.i.h.g.f.e.d.c.b.c.d.e.f.g.h.i.j.k.l.m.n.o.p..\n",
    "....p.o.n.m.l.k.j.i.h.g.f.e.d.c.d.e.f.g.h.i.j.k.l.m.n.o.p....\n",
    "......p.o.n.m.l.k.j.i.h.g.f.e.d.e.f.g.h.i.j.k.l.m.n.o.p......\n",
    "........p.o.n.m.l.k.j.i.h.g.f.e.f.g.h.i.j.k.l.m.n.o.p........\n",
    "..........p.o.n.m.l.k.j.i.h.g.f.g.h.i.j.k.l.m.n.o.p..........\n",
    "............p.o.n.m.l.k.j.i.h.g.h.i.j.k.l.m.n.o.p............\n",
    "..............p.o.n.m.l.k.j.i.h.i.j.k.l.m.n.o.p..............\n",
    "................p.o.n.m.l.k.j.i.j.k.l.m.n.o.p................\n",
    "..................p.o.n.m.l.k.j.k.l.m.n.o.p..................\n",
    "....................p.o.n.m.l.k.l.m.n.o.p....................\n",
    "......................p.o.n.m.l.m.n.o.p......................\n",
    "........................p.o.n.m.n.o.p........................\n",
    "..........................p.o.n.o.p..........................\n",
    "............................p.o.p............................\n",
    "..............................p..............................\n",
    "\n",
    "```"
   ]
  },
  {
   "cell_type": "code",
   "execution_count": null,
   "metadata": {},
   "outputs": [],
   "source": []
  }
 ],
 "metadata": {
  "kernelspec": {
   "display_name": "Python 3",
   "language": "python",
   "name": "python3"
  },
  "language_info": {
   "codemirror_mode": {
    "name": "ipython",
    "version": 3
   },
   "file_extension": ".py",
   "mimetype": "text/x-python",
   "name": "python",
   "nbconvert_exporter": "python",
   "pygments_lexer": "ipython3",
   "version": "3.6.5"
  }
 },
 "nbformat": 4,
 "nbformat_minor": 2
}
