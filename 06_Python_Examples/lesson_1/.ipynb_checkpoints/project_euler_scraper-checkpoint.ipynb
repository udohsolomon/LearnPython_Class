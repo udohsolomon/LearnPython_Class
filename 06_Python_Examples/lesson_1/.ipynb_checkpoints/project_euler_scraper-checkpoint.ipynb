{
 "cells": [
  {
   "cell_type": "code",
   "execution_count": 3,
   "metadata": {},
   "outputs": [
    {
     "ename": "KeyError",
     "evalue": "'/run/user/1000/jupyter/kernel-d4e26c55-e74f-4bfa-a8ce-14407f4a2ee4.json'",
     "output_type": "error",
     "traceback": [
      "\u001b[0;31m---------------------------------------------------------------------------\u001b[0m",
      "\u001b[0;31mKeyError\u001b[0m                                  Traceback (most recent call last)",
      "\u001b[0;32m<ipython-input-3-6bea34409720>\u001b[0m in \u001b[0;36m<module>\u001b[0;34m()\u001b[0m\n\u001b[1;32m     22\u001b[0m \u001b[0;31m# language = 'javascript'\u001b[0m\u001b[0;34m\u001b[0m\u001b[0;34m\u001b[0m\u001b[0m\n\u001b[1;32m     23\u001b[0m \u001b[0;34m\u001b[0m\u001b[0m\n\u001b[0;32m---> 24\u001b[0;31m \u001b[0mext\u001b[0m\u001b[0;34m,\u001b[0m \u001b[0mcomment\u001b[0m \u001b[0;34m=\u001b[0m \u001b[0mLANGUAGES\u001b[0m\u001b[0;34m[\u001b[0m\u001b[0mlanguage\u001b[0m\u001b[0;34m]\u001b[0m\u001b[0;34m\u001b[0m\u001b[0m\n\u001b[0m\u001b[1;32m     25\u001b[0m \u001b[0;34m\u001b[0m\u001b[0m\n\u001b[1;32m     26\u001b[0m \u001b[0mprint\u001b[0m\u001b[0;34m(\u001b[0m\u001b[0;34m'Ensuring path exists: {}'\u001b[0m\u001b[0;34m.\u001b[0m\u001b[0mformat\u001b[0m\u001b[0;34m(\u001b[0m\u001b[0mout_path\u001b[0m\u001b[0;34m)\u001b[0m\u001b[0;34m)\u001b[0m\u001b[0;34m\u001b[0m\u001b[0m\n",
      "\u001b[0;31mKeyError\u001b[0m: '/run/user/1000/jupyter/kernel-d4e26c55-e74f-4bfa-a8ce-14407f4a2ee4.json'"
     ]
    }
   ],
   "source": [
    "#!/usr/bin/env python\n",
    "import os\n",
    "from bs4 import BeautifulSoup\n",
    "from urllib import request\n",
    "import sys\n",
    "import json\n",
    "from threading import Thread\n",
    "import queue\n",
    "from warnings import warn\n",
    "\n",
    "with open('languages.json') as f:\n",
    "    LANGUAGES = json.load(f)\n",
    "\n",
    "LEGAL_CHARS = 'abcdefghijklmnopqrstuvwxyz01234567890_-'\n",
    "LAST_PROB = 640\n",
    "URL_ROOT = 'http://projecteuler.net/problem={}'\n",
    "THREADS = 5\n",
    "\n",
    "out_path, language = sys.argv[1:]\n",
    "\n",
    "# out_path = 'tst'\n",
    "# language = 'javascript'\n",
    "\n",
    "ext, comment = LANGUAGES[language]\n",
    "\n",
    "print('Ensuring path exists: {}'.format(out_path))\n",
    "os.makedirs(out_path, exist_ok=True)\n",
    "\n",
    "def fetch_problem(num):\n",
    "    print('Fetching problem {} of {}...'.format(num, LAST_PROB))\n",
    "    url = URL_ROOT.format(num)\n",
    "\n",
    "    soup = BeautifulSoup(request.urlopen(url).read().decode())\n",
    "\n",
    "    title = soup.find_all('h2')[0].text\n",
    "    file_title = ''.join(char for char in '_'.join(title.split()).lower() if char in LEGAL_CHARS)\n",
    "\n",
    "    filepath = os.path.join(out_path, '{:03}-{}{}'.format(num, file_title, ext))\n",
    "\n",
    "    content = soup.find_all('div', {'class': 'problem_content'})[0]\n",
    "\n",
    "    lines = [line for line in content.text.split('\\n') if line]\n",
    "\n",
    "    comment_text = ['{} {}'.format(comment, line) for line in [title.upper(), url] + lines]\n",
    "\n",
    "    if os.path.exists(filepath):\n",
    "        warn('File {} already exists: skipping.'.format(filepath))\n",
    "        return\n",
    "\n",
    "    # print('\\tSaving problem at {}'.format(filepath))\n",
    "\n",
    "    with open(filepath, 'w') as f:\n",
    "        f.write('\\n'.join(comment_text))\n",
    "\n",
    "\n",
    "def worker():\n",
    "    while True:\n",
    "        item = q.get()\n",
    "        if item is None:\n",
    "            break\n",
    "        fetch_problem(item)\n",
    "        q.task_done()\n",
    "\n",
    "q = queue.Queue()\n",
    "threads = []\n",
    "for i in range(THREADS):\n",
    "    t = Thread(target=worker)\n",
    "    t.start()\n",
    "    threads.append(t)\n",
    "\n",
    "for item in range(1, LAST_PROB+1):\n",
    "    q.put(item)\n",
    "\n",
    "# block until all tasks are done\n",
    "q.join()\n",
    "\n",
    "# stop workers\n",
    "for _ in range(THREADS):\n",
    "    q.put(None)\n",
    "for t in threads:\n",
    "    t.join()\n"
   ]
  },
  {
   "cell_type": "code",
   "execution_count": 9,
   "metadata": {},
   "outputs": [
    {
     "ename": "KeyError",
     "evalue": "'/run/user/1000/jupyter/kernel-d4e26c55-e74f-4bfa-a8ce-14407f4a2ee4.json'",
     "output_type": "error",
     "traceback": [
      "\u001b[0;31m---------------------------------------------------------------------------\u001b[0m",
      "\u001b[0;31mKeyError\u001b[0m                                  Traceback (most recent call last)",
      "\u001b[0;32m<ipython-input-9-f8999384127d>\u001b[0m in \u001b[0;36m<module>\u001b[0;34m()\u001b[0m\n\u001b[0;32m----> 1\u001b[0;31m \u001b[0mext\u001b[0m \u001b[0;34m=\u001b[0m \u001b[0mLANGUAGES\u001b[0m\u001b[0;34m[\u001b[0m\u001b[0mlanguage\u001b[0m\u001b[0;34m]\u001b[0m\u001b[0;34m\u001b[0m\u001b[0m\n\u001b[0m",
      "\u001b[0;31mKeyError\u001b[0m: '/run/user/1000/jupyter/kernel-d4e26c55-e74f-4bfa-a8ce-14407f4a2ee4.json'"
     ]
    }
   ],
   "source": [
    "ext = LANGUAGES[language]"
   ]
  },
  {
   "cell_type": "code",
   "execution_count": null,
   "metadata": {},
   "outputs": [],
   "source": []
  }
 ],
 "metadata": {
  "kernelspec": {
   "display_name": "Python 3",
   "language": "python",
   "name": "python3"
  },
  "language_info": {
   "codemirror_mode": {
    "name": "ipython",
    "version": 3
   },
   "file_extension": ".py",
   "mimetype": "text/x-python",
   "name": "python",
   "nbconvert_exporter": "python",
   "pygments_lexer": "ipython3",
   "version": "3.6.5"
  }
 },
 "nbformat": 4,
 "nbformat_minor": 2
}
