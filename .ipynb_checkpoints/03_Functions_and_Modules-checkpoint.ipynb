{
 "cells": [
  {
   "cell_type": "markdown",
   "metadata": {},
   "source": [
    "# Functions  and Modules"
   ]
  },
  {
   "cell_type": "markdown",
   "metadata": {},
   "source": [
    "## Functions\n",
    "\n",
    "Python can be both procedural (using functions) and object oriented (using classes)\n",
    "\n",
    "We do objects later in the class, but much of the function stuff now will also be applicable."
   ]
  },
  {
   "cell_type": "markdown",
   "metadata": {},
   "source": [
    "Functions looks like:\n",
    "\n",
    "        def function_name(arg1,arg2, ..., kw1=v1, kw2=v2, kw3=v3, ...)\n",
    "\n",
    "   - argX are arguments: required (and sequence is important)\n",
    "   - kwX are keywords: optional (sequence unimportant; vals act like defaults)\n",
    "   - :\n",
    "   - contains only numbers, letters, underscore\n",
    "   - does not start with a number\n",
    "   - is not the same name as a built-in function (like print)"
   ]
  },
  {
   "cell_type": "code",
   "execution_count": null,
   "metadata": {},
   "outputs": [],
   "source": [
    "def addnum(x, y):\n",
    "    return x + y\n",
    "addnum(2, 3)"
   ]
  },
  {
   "cell_type": "code",
   "execution_count": null,
   "metadata": {},
   "outputs": [],
   "source": [
    "addnum('a', 'b') #Oh no bruv"
   ]
  },
  {
   "cell_type": "code",
   "execution_count": null,
   "metadata": {},
   "outputs": [],
   "source": [
    "addnum('a', 5)"
   ]
  },
  {
   "cell_type": "markdown",
   "metadata": {},
   "source": [
    "Unlike in C, we cannot declare what type of variables are required by the function. Python is dynamically typed.\n"
   ]
  },
  {
   "cell_type": "code",
   "execution_count": null,
   "metadata": {},
   "outputs": [],
   "source": [
    "def addnum(x,y):\n",
    "    if isinstance(x, (int, float)) and isinstance(y, (int, float)):\n",
    "        return x + y\n",
    "    print('I\\'m sorry, I can\\'t add these types because (' + str(type(x)) + ', ' + str(type(y)) + ')')\n",
    "    return\n",
    "addnum('a', 5)"
   ]
  },
  {
   "cell_type": "markdown",
   "metadata": {},
   "source": [
    "## Scope"
   ]
  },
  {
   "cell_type": "code",
   "execution_count": null,
   "metadata": {},
   "outputs": [],
   "source": [
    "addnum, id(addnum), type(addnum)"
   ]
  },
  {
   "cell_type": "code",
   "execution_count": null,
   "metadata": {},
   "outputs": [],
   "source": [
    "x = 2\n",
    "addnum(5, 6)"
   ]
  },
  {
   "cell_type": "code",
   "execution_count": null,
   "metadata": {},
   "outputs": [],
   "source": [
    "print(x)"
   ]
  },
  {
   "cell_type": "markdown",
   "metadata": {},
   "source": [
    "Python has it’s own local variables list. `x` is not modified globally (unless you make it an explict `global` variable).\n"
   ]
  },
  {
   "cell_type": "code",
   "execution_count": null,
   "metadata": {},
   "outputs": [],
   "source": [
    "def addnum(x, y):\n",
    "    x *= 3.14\n",
    "    return x + y\n",
    "addnum(5, 6)"
   ]
  },
  {
   "cell_type": "code",
   "execution_count": null,
   "metadata": {},
   "outputs": [],
   "source": [
    "x = 2\n",
    "addnum(x, 4)"
   ]
  },
  {
   "cell_type": "code",
   "execution_count": null,
   "metadata": {},
   "outputs": [],
   "source": [
    "print(x)"
   ]
  },
  {
   "cell_type": "markdown",
   "metadata": {},
   "source": [
    "Let's try to make a global variable:\n"
   ]
  },
  {
   "cell_type": "code",
   "execution_count": null,
   "metadata": {},
   "outputs": [],
   "source": [
    "def numop(x, y):\n",
    "    x *= 3.14\n",
    "    global a\n",
    "    a += 1\n",
    "    return x + y, a ## note: we're returning a tuple here\n"
   ]
  },
  {
   "cell_type": "code",
   "execution_count": null,
   "metadata": {},
   "outputs": [],
   "source": [
    "a = 1\n",
    "numop(3, 4)"
   ]
  },
  {
   "cell_type": "code",
   "execution_count": null,
   "metadata": {},
   "outputs": [],
   "source": [
    "numop(2, 4)"
   ]
  },
  {
   "cell_type": "markdown",
   "metadata": {},
   "source": [
    "### Keyword arguments\n",
    "\n",
    "Functions can also be called using keyword arguments of the form kwarg=value. For instance, the following function:"
   ]
  },
  {
   "cell_type": "code",
   "execution_count": null,
   "metadata": {},
   "outputs": [],
   "source": [
    "def parrot(voltage, state='a stiff', action='voom', type='Norwegian Blue'):\n",
    "    print(\"-- This parrot wouldn't\", action, end=' ')\n",
    "    print(\"if you put\", voltage, \"volts through it.\")\n",
    "    print(\"-- Lovely plumage, the\", type)\n",
    "    print(\"-- It's\", state, \"!\")"
   ]
  },
  {
   "cell_type": "markdown",
   "metadata": {},
   "source": [
    "accepts one required argument (voltage) and three optional arguments (state, action, and type). This function can be called in any of the following ways:\n",
    "\n"
   ]
  },
  {
   "cell_type": "code",
   "execution_count": null,
   "metadata": {},
   "outputs": [],
   "source": [
    "parrot(1000)                                          # 1 positional argument\n",
    "parrot(voltage=1000)                                  # 1 keyword argument\n",
    "parrot(voltage=1000000, action='VOOOOOM')             # 2 keyword arguments\n",
    "#parrot(action='VOOOOOM', voltage=1000000)             # 2 keyword arguments\n",
    "#parrot('a million', 'bereft of life', 'jump')         # 3 positional arguments\n",
    "parrot('a thousand', state='pushing up the daisies')  # 1 positional, 1 keyword"
   ]
  },
  {
   "cell_type": "markdown",
   "metadata": {},
   "source": [
    "but all the following calls would be invalid:\n",
    "\n"
   ]
  },
  {
   "cell_type": "code",
   "execution_count": null,
   "metadata": {},
   "outputs": [],
   "source": [
    "parrot()                     # required argument missing\n",
    "parrot(voltage=5.0, 'dead')  # non-keyword argument after a keyword argument\n",
    "parrot(110, voltage=220)     # duplicate value for the same argument\n",
    "parrot(actor='John Cleese')  # unknown keyword argument"
   ]
  },
  {
   "cell_type": "code",
   "execution_count": null,
   "metadata": {},
   "outputs": [],
   "source": [
    "def numval(x, y, multiplier = 1, greetings = 'Thank you for contacting us'):\n",
    "    if greetings is not None:\n",
    "        print(greetings)\n",
    "    return (x + y) * multiplier"
   ]
  },
  {
   "cell_type": "code",
   "execution_count": null,
   "metadata": {},
   "outputs": [],
   "source": [
    "numval(1, 2)"
   ]
  },
  {
   "cell_type": "code",
   "execution_count": null,
   "metadata": {},
   "outputs": [],
   "source": [
    "numval(1, 2, multiplier=0.5, greetings='Now you\\'re here')"
   ]
  },
  {
   "cell_type": "markdown",
   "metadata": {},
   "source": [
    ">keywords are a natural way to grow new functionality without \"breaking\" old code\n",
    "\n",
    ">We can return whatever we want from a function (dictionary, tuple, lists, strings, etc.). This is really awesome...\n",
    "\n",
    "### *arg, **kwargs captures unspecified args and keywords\n",
    "\n",
    "https://docs.python.org/3/tutorial/controlflow.html#keyword-arguments\n"
   ]
  },
  {
   "cell_type": "code",
   "execution_count": null,
   "metadata": {},
   "outputs": [],
   "source": [
    "def cheeseshop(kind, *args, **kwargs):\n",
    "    print('-- Do you have any', kind + '?')\n",
    "    print('-- I\\'m sorry, we have ran out of', kind +'.')\n",
    "    for arg in args:\n",
    "        print(arg)\n",
    "    print(' ')    \n",
    "    print('-' * 50)\n",
    "    keys = list(kwargs.keys())\n",
    "    keys.sort()\n",
    "    for kw in keys:\n",
    "        print(kw, ':', kwargs[kw])"
   ]
  },
  {
   "cell_type": "code",
   "execution_count": null,
   "metadata": {},
   "outputs": [],
   "source": [
    "cheeseshop('Hamburger', 'It\\'s very hot here', \n",
    "           'It\\'s really very hot here sir', \n",
    "          shopkeeper = 'Raul K',\n",
    "          client = 'John D',\n",
    "          sketch = 'Cheese shop sketch'\n",
    "          )"
   ]
  },
  {
   "cell_type": "markdown",
   "metadata": {},
   "source": [
    "## Documentation\n",
    "\n",
    "Just the Right thing to Do and Python makes it dead simple\n",
    "\n",
    "### Docstring: the first unassigned string in a function (or class, method, program, etc.)"
   ]
  },
  {
   "cell_type": "code",
   "execution_count": null,
   "metadata": {},
   "outputs": [],
   "source": [
    "def numop(x, y, multiplier = 1.0, greetings = 'Thank you for contacting us today.'):\n",
    "    '''\n",
    "    numop -- This function does a simple operation on numbers.\n",
    "    We expect x and y are numbers and return x+y times the multiplier. \n",
    "    multiplier is also a number ( float is preferred) and its optional.\n",
    "    It defaults to 1.0.\n",
    "    You can also specify a small greeting as a string.\n",
    "    \n",
    "    '''\n",
    "    \n",
    "    if greetings is not None:\n",
    "        print(greetings)\n",
    "        \n",
    "    return (x + y) * multiplier"
   ]
  },
  {
   "cell_type": "code",
   "execution_count": null,
   "metadata": {},
   "outputs": [],
   "source": [
    "numop?"
   ]
  },
  {
   "cell_type": "code",
   "execution_count": null,
   "metadata": {},
   "outputs": [],
   "source": [
    "help(numop)"
   ]
  },
  {
   "cell_type": "code",
   "execution_count": null,
   "metadata": {},
   "outputs": [],
   "source": [
    "%%writefile numop.py\n",
    "\n",
    "\"\"\"\n",
    "Some functions written to demonstrate a bunch of concepts like modules, \n",
    "import, and command-line programming.\n",
    "\n",
    "\"\"\"\n",
    "\n",
    "def numop(x, y, multiplier = 1.0, greetings = 'Thank you for your inquiry.'):\n",
    "    \n",
    "    '''numop -- this does a simple operation on two numbers. \n",
    "     We expect x,y are numbers and return x + y times the multiplier\n",
    "     multiplier is also a number (a float is preferred) and is optional. \n",
    "     It defaults to 1.0.\n",
    "     You can also specify a small greeting as a string.\n",
    "     \n",
    "    '''\n",
    "    \n",
    "    if greetings is not None:\n",
    "        \n",
    "        print(greetings)\n",
    "        \n",
    "    return (x + y) * multiplier"
   ]
  },
  {
   "cell_type": "code",
   "execution_count": null,
   "metadata": {},
   "outputs": [],
   "source": [
    "!pydoc -w numop"
   ]
  },
  {
   "cell_type": "code",
   "execution_count": null,
   "metadata": {},
   "outputs": [],
   "source": [
    "from IPython.display import IFrame\n",
    "IFrame('numop.html', width=700, height=350)"
   ]
  },
  {
   "cell_type": "markdown",
   "metadata": {},
   "source": [
    "## Modules\n",
    "\n",
    "Organized units (written as files) which contain functions, statements and other definitions\n",
    "\n",
    "Any file ending in `.py` is treated as a module (e.g., `numop.py`, which names and defines a function `numop`)\n",
    "\n",
    "Modules: own global names/functions so you can name things whatever you want there and not conflict with the names in other modules."
   ]
  },
  {
   "cell_type": "code",
   "execution_count": null,
   "metadata": {},
   "outputs": [],
   "source": [
    "%%writefile numfun.py\n",
    "\"\"\"\n",
    "small demo of modules\n",
    "\"\"\"\n",
    "\n",
    "def numop(x, y, multiplier = 1.0, greetings = \"Thank you for your inquiry.\"):\n",
    "    \n",
    "    \"\"\" \n",
    "    numop -- this does a simple operation on two numbers. \n",
    "    We expect x,y are numbers and return x + y times the multiplier\n",
    "    multiplier is also a number (a float is preferred) and is optional. \n",
    "    It defaults to 1.0.\n",
    "    You can also specify a small greeting as a string.\n",
    "    \n",
    "    \"\"\"\n",
    "    \n",
    "    if greetings is not None:\n",
    "        print(greetings)\n",
    "    \n",
    "    return (x + y)*multiplier"
   ]
  },
  {
   "cell_type": "markdown",
   "metadata": {},
   "source": [
    "## import module_name\n",
    "\n",
    "gives us access to that module’s functions"
   ]
  },
  {
   "cell_type": "code",
   "execution_count": null,
   "metadata": {},
   "outputs": [],
   "source": [
    "import numfun"
   ]
  },
  {
   "cell_type": "code",
   "execution_count": null,
   "metadata": {},
   "outputs": [],
   "source": [
    "numfun.numop(2, 3, 4, greetings=None)"
   ]
  },
  {
   "cell_type": "code",
   "execution_count": null,
   "metadata": {},
   "outputs": [],
   "source": [
    "numop(2, 3, 4, greetings=None)"
   ]
  },
  {
   "cell_type": "code",
   "execution_count": null,
   "metadata": {},
   "outputs": [],
   "source": [
    "%%writefile numfun1.py\n",
    "\"\"\"\n",
    "small demo of modules\n",
    "\"\"\"\n",
    "\n",
    "## do some stuff and set some variables\n",
    "print(\"numfun1 in the house\")\n",
    "x    = 2\n",
    "s    = \"spamm\"\n",
    "\n",
    "def numop(x, y, multiplier = 1.0, greetings = \"Thank you for your inquiry.\"):\n",
    "    \"\"\" \n",
    "Purpose: does a simple operation on two numbers. \n",
    "\n",
    "Input: We expect x,y are numbers \n",
    "       multiplier is also a number (a float is preferred) and is optional.  \n",
    "       It defaults to 1.0. You can also specify a small greeting as a string.\n",
    "\n",
    "Output: return x + y times the multiplier\n",
    "    \"\"\"\n",
    "    if greetings is not None:\n",
    "          print(greetings)\n",
    "    return (x + y)*multiplier"
   ]
  },
  {
   "cell_type": "code",
   "execution_count": null,
   "metadata": {},
   "outputs": [],
   "source": [
    "import numfun1"
   ]
  },
  {
   "cell_type": "code",
   "execution_count": null,
   "metadata": {},
   "outputs": [],
   "source": [
    "print(numfun1.x, numfun1.s)"
   ]
  },
  {
   "cell_type": "code",
   "execution_count": null,
   "metadata": {},
   "outputs": [],
   "source": [
    "s = \"eggs\" ; print(s, numfun1.s)"
   ]
  },
  {
   "cell_type": "code",
   "execution_count": null,
   "metadata": {},
   "outputs": [],
   "source": [
    "numfun1.s = s"
   ]
  },
  {
   "cell_type": "code",
   "execution_count": null,
   "metadata": {},
   "outputs": [],
   "source": [
    "print(s, numfun1.s)"
   ]
  },
  {
   "cell_type": "code",
   "execution_count": null,
   "metadata": {},
   "outputs": [],
   "source": [
    "# delete numfun2 from the namespace\n",
    "\n",
    "del numfun1"
   ]
  },
  {
   "cell_type": "markdown",
   "metadata": {},
   "source": [
    "   - dir() gives a list of in scope variables\n",
    "   - globals() gives a dictionary of global variables\n",
    "   - locals() gives a dictionary of local variables"
   ]
  },
  {
   "cell_type": "code",
   "execution_count": null,
   "metadata": {},
   "outputs": [],
   "source": [
    "dir()"
   ]
  },
  {
   "cell_type": "markdown",
   "metadata": {},
   "source": [
    "how to bring some of module’s functions into the current namespace:\n",
    "\n",
    "    from module_name import function_name\n",
    "    from module_name import variable\n",
    "    from module_name import variable, function_name1, function_name2, ...\n",
    "\n",
    "Let's restart the kernel."
   ]
  },
  {
   "cell_type": "code",
   "execution_count": null,
   "metadata": {},
   "outputs": [],
   "source": [
    "from numfun1 import x, numop"
   ]
  },
  {
   "cell_type": "code",
   "execution_count": null,
   "metadata": {},
   "outputs": [],
   "source": [
    "x == 2"
   ]
  },
  {
   "cell_type": "code",
   "execution_count": null,
   "metadata": {},
   "outputs": [],
   "source": [
    "numop(2, 3, 4, greetings=None)"
   ]
  },
  {
   "cell_type": "code",
   "execution_count": null,
   "metadata": {},
   "outputs": [],
   "source": [
    "s"
   ]
  },
  {
   "cell_type": "code",
   "execution_count": null,
   "metadata": {},
   "outputs": [],
   "source": [
    "numfun1.x"
   ]
  },
  {
   "cell_type": "code",
   "execution_count": null,
   "metadata": {},
   "outputs": [],
   "source": [
    "import numfun1\n",
    "numfun1.x"
   ]
  },
  {
   "cell_type": "markdown",
   "metadata": {},
   "source": [
    "## Renaming a function (or variable) for your namespace:\n",
    "\n",
    "    from module_name import name as my_name"
   ]
  },
  {
   "cell_type": "code",
   "execution_count": null,
   "metadata": {},
   "outputs": [],
   "source": [
    "from numfun1 import s as my_fav_food\n",
    "from numfun1 import numop as best_adder"
   ]
  },
  {
   "cell_type": "code",
   "execution_count": null,
   "metadata": {},
   "outputs": [],
   "source": [
    "print(my_fav_food)"
   ]
  },
  {
   "cell_type": "code",
   "execution_count": null,
   "metadata": {},
   "outputs": [],
   "source": [
    "print(best_adder(2, 3, 4))"
   ]
  },
  {
   "cell_type": "markdown",
   "metadata": {},
   "source": [
    "## Kitchen-Sinking It\n",
    "\n",
    "    from module_name import *"
   ]
  },
  {
   "cell_type": "code",
   "execution_count": null,
   "metadata": {},
   "outputs": [],
   "source": [
    "from numfun1 import *"
   ]
  },
  {
   "cell_type": "code",
   "execution_count": null,
   "metadata": {},
   "outputs": [],
   "source": [
    "print(best_adder(x, 2, 3))"
   ]
  },
  {
   "cell_type": "markdown",
   "metadata": {},
   "source": [
    "This `from ... import *` is very convenient in the interpreter, but considered bad coding style. It pollutes your namespace.\n",
    "\n",
    "## Built-In Modules\n",
    "\n",
    "give access to the full range of what Python can do\n",
    "\n",
    "    sys exposes interpreter stuff & interactions (like environment and file I/O)\n",
    "    os exposes platform-specific OS functions (like file statistics, directory services)\n",
    "    math basic mathematical functions & constants\n",
    "    \n",
    "These are super battle tested and close to the optimal way for doing things within Python"
   ]
  },
  {
   "cell_type": "code",
   "execution_count": null,
   "metadata": {},
   "outputs": [],
   "source": [
    "import sys\n",
    "help(sys)"
   ]
  },
  {
   "cell_type": "code",
   "execution_count": null,
   "metadata": {},
   "outputs": [],
   "source": [
    "%%writefile getinfo.py\n",
    "\n",
    "import os\n",
    "import sys\n",
    "\n",
    "def getinfo(path=\".\"):\n",
    "    \"\"\"\n",
    "Purpose: make simple use of os and sys modules\n",
    "Input: path (default = \".\"), the directory you want to list\n",
    "    \"\"\"\n",
    "    print(\"You are using Python version \", end= \" \")\n",
    "    print(sys.version)\n",
    "    print(\" \")\n",
    "    print(\"-\" * 90)\n",
    "    print(\"Files in the directory \" + str(os.path.abspath(path)) + \":\")\n",
    "    for f in os.listdir(path): \n",
    "        print(f)"
   ]
  },
  {
   "cell_type": "markdown",
   "metadata": {},
   "source": [
    "   - os.listdir() - return a dictionary of all the file names in the specified directory\n",
    "   - sys.version - string representation of the Python (and gcc) version\n",
    "   - os.path.abspath() - translation of given pathname to the absolute path (operating system-specific)"
   ]
  },
  {
   "cell_type": "code",
   "execution_count": null,
   "metadata": {},
   "outputs": [],
   "source": [
    "import getinfo\n",
    "getinfo.getinfo(\"/bin\")"
   ]
  },
  {
   "cell_type": "markdown",
   "metadata": {},
   "source": [
    ">Python’s standard library is very extensive, offering a wide range of facilities as indicated by the long table of contents listed below. The library contains built-in modules (written in C) that provide access to system functionality such as file I/O that would otherwise be inaccessible to Python programmers, as well as modules written in Python that provide standardized solutions for many problems that occur in everyday programming. Some of these modules are explicitly designed to encourage and enhance the portability of Python programs by abstracting away platform-specifics into platform-neutral APIs.\n",
    "\n",
    "-- https://docs.python.org/3/library/"
   ]
  },
  {
   "cell_type": "code",
   "execution_count": null,
   "metadata": {},
   "outputs": [],
   "source": [
    "from IPython.display import IFrame\n",
    "IFrame('https://docs.python.org/3/library/', width=\"90%\", height=\"600\")"
   ]
  },
  {
   "cell_type": "markdown",
   "metadata": {},
   "source": [
    "![Image](meme.png)"
   ]
  },
  {
   "cell_type": "markdown",
   "metadata": {},
   "source": [
    "## Making a Script Executable\n",
    "\n",
    "    When a script/module is run from the command line, a special variable called __name__ is set to \"__main__\"\n",
    "\n",
    "On the first line of a script, say what to run the script with (as with Perl):"
   ]
  },
  {
   "cell_type": "code",
   "execution_count": null,
   "metadata": {},
   "outputs": [],
   "source": [
    "%%writefile script_name.py\n",
    "#!/usr/bin/env python\n",
    "'''\n",
    "Docstring for ths module\n",
    "\n",
    "'''\n",
    "# All your module stuffs here ...\n",
    "\n",
    "#At the bottom stick ....\n",
    "\n",
    "if __name__ == \"__main__\":\n",
    "    \n",
    "    '''\n",
    "    Only executed if this module is called from the command line\n",
    "    \n",
    "    '''\n",
    "    \n",
    "    # Can call functions from within this module\n",
    "    print('I was called from the command line!')"
   ]
  },
  {
   "cell_type": "code",
   "execution_count": null,
   "metadata": {},
   "outputs": [],
   "source": [
    "%%bash\n",
    "chmod a+x script_name.py  ## set execute permissions of that script. This works in UNIX, Mac OSX\n",
    "./script_name.py"
   ]
  },
  {
   "cell_type": "code",
   "execution_count": null,
   "metadata": {},
   "outputs": [],
   "source": [
    "%%bash\n",
    "./script_name.py"
   ]
  },
  {
   "cell_type": "code",
   "execution_count": null,
   "metadata": {},
   "outputs": [],
   "source": [
    "%%writefile modfun.py\n",
    "#!/usr/bin/env python\n",
    "\n",
    "'''\n",
    "Some functions written to demonstrate a bunch of concepts like modules, \n",
    "import, and command-line programming.\n",
    "\n",
    "'''\n",
    "import os\n",
    "import sys\n",
    "\n",
    "def getinfo(path = '.', show_version = True):\n",
    "    '''\n",
    "    Purpose: make simple use of os and sys modules\n",
    "    Input: path (default = \".\"), the directory you want to list\n",
    "    \n",
    "    '''\n",
    "    if show_version:\n",
    "        print(' ')\n",
    "        print('-' * 90)\n",
    "        print('You are using Python version', end = ' ')\n",
    "        print(sys.version)\n",
    "        print('-' * 90)\n",
    "        \n",
    "    print('File in the directory ' + str(os.path.abspath(path)) + \" :\")\n",
    "    for f in os.listdir(path):\n",
    "        print(' ' + f)\n",
    "        \n",
    "    print('-' * 90)\n",
    "    \n",
    "if __name__ == '__main__':\n",
    "        '''\n",
    "        Executed only if run from the command line.                                                                                \n",
    "        call with  \n",
    "        \n",
    "        modfun.py <dirname> <dirname> ...   \n",
    "          \n",
    "        If no dirname is given then list the files in the current path \n",
    "        \n",
    "        '''\n",
    "        if len(sys.argv) == 1:\n",
    "            getinfo(' . ', show_version = True)\n",
    "        else:\n",
    "            for i, dir in enumerate(sys.argv[1:]):\n",
    "                if os.path.isdir(dir):\n",
    "                    # if we have a directory then operate on it                                                                \n",
    "                    # only show the version info if it's the first directory\n",
    "                    \n",
    "                    getinfo(dir, show_version = (i==1))\n",
    "                else:\n",
    "                    print('Directory ' + str(dir) + ' does not exit')\n",
    "                    print('-' * 90)"
   ]
  },
  {
   "cell_type": "code",
   "execution_count": null,
   "metadata": {},
   "outputs": [],
   "source": [
    "!chmod +x modfun.py"
   ]
  },
  {
   "cell_type": "code",
   "execution_count": null,
   "metadata": {},
   "outputs": [],
   "source": [
    "! ./modfun.py"
   ]
  },
  {
   "cell_type": "code",
   "execution_count": null,
   "metadata": {},
   "outputs": [],
   "source": [
    "%%bash\n",
    "./modfun.py"
   ]
  },
  {
   "cell_type": "code",
   "execution_count": null,
   "metadata": {},
   "outputs": [],
   "source": [
    "%%bash\n",
    "./modfun.py . /home/sudoh/projects /bin"
   ]
  },
  {
   "cell_type": "code",
   "execution_count": null,
   "metadata": {},
   "outputs": [],
   "source": []
  }
 ],
 "metadata": {
  "kernelspec": {
   "display_name": "Python 3",
   "language": "python",
   "name": "python3"
  },
  "language_info": {
   "codemirror_mode": {
    "name": "ipython",
    "version": 3
   },
   "file_extension": ".py",
   "mimetype": "text/x-python",
   "name": "python",
   "nbconvert_exporter": "python",
   "pygments_lexer": "ipython3",
   "version": "3.6.5"
  }
 },
 "nbformat": 4,
 "nbformat_minor": 2
}
