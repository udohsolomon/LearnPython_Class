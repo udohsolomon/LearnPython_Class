{
 "cells": [
  {
   "cell_type": "markdown",
   "metadata": {},
   "source": [
    "# Object Oriented Programming\n",
    "\n",
    "![](meme2.png)"
   ]
  },
  {
   "cell_type": "markdown",
   "metadata": {},
   "source": [
    "### What's an \"object\"?\n",
    "\n",
    "In Python, an object is a value with zero or more attributes and methods.\n",
    "\n",
    "For example: An floating point number is an object."
   ]
  },
  {
   "cell_type": "code",
   "execution_count": null,
   "metadata": {},
   "outputs": [],
   "source": [
    "x = 10.0"
   ]
  },
  {
   "cell_type": "code",
   "execution_count": null,
   "metadata": {},
   "outputs": [],
   "source": [
    "x.real"
   ]
  },
  {
   "cell_type": "code",
   "execution_count": null,
   "metadata": {},
   "outputs": [],
   "source": [
    "x.imag"
   ]
  },
  {
   "cell_type": "code",
   "execution_count": null,
   "metadata": {},
   "outputs": [],
   "source": [
    "x.as_integer_ratio()"
   ]
  },
  {
   "cell_type": "code",
   "execution_count": null,
   "metadata": {},
   "outputs": [],
   "source": [
    "x.conjugate()"
   ]
  },
  {
   "cell_type": "markdown",
   "metadata": {},
   "source": [
    "A list is an object. We learned about some of its methods previously"
   ]
  },
  {
   "cell_type": "code",
   "execution_count": null,
   "metadata": {},
   "outputs": [],
   "source": [
    "l = [1, 2, 3]"
   ]
  },
  {
   "cell_type": "code",
   "execution_count": null,
   "metadata": {},
   "outputs": [],
   "source": [
    "l.append(4); print(l)"
   ]
  },
  {
   "cell_type": "code",
   "execution_count": null,
   "metadata": {},
   "outputs": [],
   "source": [
    "l.pop(0)"
   ]
  },
  {
   "cell_type": "code",
   "execution_count": null,
   "metadata": {},
   "outputs": [],
   "source": [
    "l"
   ]
  },
  {
   "cell_type": "markdown",
   "metadata": {},
   "source": [
    "Of course, all of these different objects act pretty differently from each other.\n",
    "\n",
    "To make it easier to keep track of all the different ways that objects can act, we divide them into types, also known as classes.\n",
    "\n",
    "Terminology: Every object is an instance of a class.\n",
    "\n",
    "# What's an object? - In Python: literally everything\n",
    "\n",
    "...what's \"object-oriented programming\"?\n",
    "\n",
    "Making your own types...\n",
    "\n",
    "#  Advantages of OOP\n",
    "\n",
    "(Might be hard to imagine these benefits right now, but trust us...)\n",
    "\n",
    "   - Encapsulation hides implementation details so you can forget more\n",
    "   - Code is organized intuitively\n",
    "   - Reuse is straightforward\n",
    "   - Modularity forces good programming habits"
   ]
  },
  {
   "cell_type": "markdown",
   "metadata": {},
   "source": [
    "![Image](bear.png)\n",
    "\n",
    "   - **Characteristics** --> Name, Colour, Height, Weight\n",
    "\n",
    "   - **Does Things** ---> Eat, Sleep, Growl, Cheer\n",
    "\n",
    "   - **Interaction** ---> Parents, siblings, friends\n",
    "   \n",
    "# Simple Bear class, attributes and methods\n",
    "\n",
    "The \"blueprint\" class for bear:\n",
    "\n",
    "\n",
    "- Attributes: name, colour, height, weight\n",
    "- Methods: eat(), sleep(), growl()\n",
    "\n",
    "Three instances of bears:\n",
    "\n",
    "Paddington:\n",
    "- Attributes: \"Paddington\", brown, 2.1m, 90kg\n",
    "- Methods: eat(), sleep(), growl()\n",
    "\n",
    "Yogi:\n",
    "- Attributes: \"Yogi\", brown, 1.8m, 80kg\n",
    "- Methods: eat(), sleep(), growl()\n",
    "\n",
    "Winnie:\n",
    "- Attributes: \"Winnie\", yellow, 1.2m, 100kg\n",
    "- Methods: eat(), sleep(), growl()"
   ]
  },
  {
   "cell_type": "markdown",
   "metadata": {},
   "source": [
    "# Python class definition syntax\n",
    "\n",
    "\n",
    "class ClassName[(BaseClasses)]:\n",
    "    \n",
    "    \"\"\"[Documentation String]\"\"\"\n",
    "\n",
    "\n",
    "    [Statement1]\n",
    "    \n",
    "    #Executed only when class is defined\n",
    "\n",
    "\n",
    "    [Statement2]\n",
    "    \n",
    "    ...\n",
    "    \n",
    "    [Variable1] \n",
    "    \n",
    "    #Class 'global' variables can be defined here\n",
    "\n",
    "   \n",
    "    def Method1(self, args, kwargs={}):\n",
    "    \n",
    "        \n",
    "    #Performs task 1\n",
    "\n",
    "       \n",
    "    def Method2(self, args, kwargs={}):\n",
    "        \n",
    "    #Performs task 2\n",
    "\n",
    "    ..."
   ]
  },
  {
   "cell_type": "code",
   "execution_count": null,
   "metadata": {},
   "outputs": [],
   "source": [
    "class Bear:\n",
    "    print('The Bear class is now defined!')    "
   ]
  },
  {
   "cell_type": "code",
   "execution_count": null,
   "metadata": {},
   "outputs": [],
   "source": [
    "a = Bear # this is not generally useful: we don't often reference the class itself\n",
    "a"
   ]
  },
  {
   "cell_type": "code",
   "execution_count": null,
   "metadata": {},
   "outputs": [],
   "source": [
    "a = Bear() # that's more like it! This creates a new *instance* of the class\n",
    "a"
   ]
  },
  {
   "cell_type": "code",
   "execution_count": null,
   "metadata": {},
   "outputs": [],
   "source": [
    "isinstance(a, Bear)"
   ]
  },
  {
   "cell_type": "markdown",
   "metadata": {},
   "source": [
    "# Attributes"
   ]
  },
  {
   "cell_type": "code",
   "execution_count": null,
   "metadata": {},
   "outputs": [],
   "source": [
    "a.name = \"Oski\" # In Python, we can add attributes to the instance on-the-fly\n",
    "a.colour = \"Brown\"\n",
    "print(a.name, a.colour) # Does he know who he is?"
   ]
  },
  {
   "cell_type": "code",
   "execution_count": null,
   "metadata": {},
   "outputs": [],
   "source": [
    "class Bear:\n",
    "    print('The Bear class is now defined!')\n",
    "    def say_hello(self): #don't worry about the self just yet\n",
    "        print('Hello world! I am a bear')"
   ]
  },
  {
   "cell_type": "code",
   "execution_count": null,
   "metadata": {},
   "outputs": [],
   "source": [
    "f = Bear()\n",
    "f.say_hello()"
   ]
  },
  {
   "cell_type": "markdown",
   "metadata": {},
   "source": [
    "When you write x.foo:\n",
    "\n",
    "- First Python checks if x has a foo attribute\n",
    "- If not, then it checks to see if `type(x)` has a foo attribute\n",
    "- And possibly applies some magic, like filling in the `self` argument"
   ]
  },
  {
   "cell_type": "code",
   "execution_count": null,
   "metadata": {},
   "outputs": [],
   "source": [
    "b = Bear()"
   ]
  },
  {
   "cell_type": "code",
   "execution_count": null,
   "metadata": {},
   "outputs": [],
   "source": [
    "print(b)"
   ]
  },
  {
   "cell_type": "code",
   "execution_count": null,
   "metadata": {},
   "outputs": [],
   "source": [
    "# If we access 'say_hello' directly from the Class, then we get the regular function\n",
    "Bear.say_hello"
   ]
  },
  {
   "cell_type": "code",
   "execution_count": null,
   "metadata": {},
   "outputs": [],
   "source": [
    "Bear.say_hello()"
   ]
  },
  {
   "cell_type": "code",
   "execution_count": null,
   "metadata": {},
   "outputs": [],
   "source": [
    "Bear.say_hello(b)"
   ]
  },
  {
   "cell_type": "code",
   "execution_count": null,
   "metadata": {},
   "outputs": [],
   "source": [
    "# If we access 'say_hello' *via an instance object*,\n",
    "# then 'self' gets filled in automatically.\n",
    "b.say_hello()"
   ]
  },
  {
   "cell_type": "markdown",
   "metadata": {},
   "source": [
    "# The `__init__()` method\n",
    "\n",
    "`__init__()` is a special method automatically called when a new instance is created. It can specify necessary initialization parameters.\n",
    "\n",
    "\"`self`\" is a special identifier used inside a method to refer to the particular instance of the class. self is not explicitly passed in when accessed through an object instance; Python takes care of that bookkeeping.\n",
    "\n",
    "When you 'call' a class to create a new instance, then:\n",
    "\n",
    "- first the new object is created as an empty, blank slate\n",
    "- then, Python calls `new_obj.__init__(...)` and passes in any arguments\n",
    "- which gets expanded to: `Class.__init__(new_obj, ...)`\n",
    "\n",
    "`__init__` is just a regular method, and can do anything a method can do -- but most commonly what it does is fill in object attributes:"
   ]
  },
  {
   "cell_type": "code",
   "execution_count": null,
   "metadata": {},
   "outputs": [],
   "source": [
    "class Bear:\n",
    "    print('The Bear class is now defined!')\n",
    "    \n",
    "    def __init__(self, name):\n",
    "        self.name = name\n",
    "        print('A bear is born')\n",
    "        \n",
    "    def say_hello(self):\n",
    "        print('Hello world! I am a bear')\n",
    "        print('My name is', self.name)"
   ]
  },
  {
   "cell_type": "code",
   "execution_count": null,
   "metadata": {},
   "outputs": [],
   "source": []
  },
  {
   "cell_type": "code",
   "execution_count": null,
   "metadata": {},
   "outputs": [],
   "source": [
    "a = Bear()"
   ]
  },
  {
   "cell_type": "code",
   "execution_count": null,
   "metadata": {},
   "outputs": [],
   "source": [
    "a = Bear('Paddington')"
   ]
  },
  {
   "cell_type": "code",
   "execution_count": null,
   "metadata": {},
   "outputs": [],
   "source": [
    "a.say_hello()"
   ]
  },
  {
   "cell_type": "markdown",
   "metadata": {},
   "source": [
    "## Global class variables, versus object instance attributes"
   ]
  },
  {
   "cell_type": "code",
   "execution_count": null,
   "metadata": {},
   "outputs": [],
   "source": [
    "class Bear:\n",
    "    population = 0\n",
    "    def __init__(self, name):\n",
    "        self.name = name\n",
    "        Bear.population += 1        # Increment the 'global' census counter, a class attribute\n",
    "        self.number = Bear.population # Copy the current number to our own object attribute\n",
    "    def say_hello(self):\n",
    "        print('Hello, I am bear %d/%d. My name is %s be prepare to ...'\n",
    "             %(self.number, Bear.population, self.name))\n",
    "        \n",
    "a = Bear(\"Paddington\")\n",
    "a.say_hello()"
   ]
  },
  {
   "cell_type": "code",
   "execution_count": null,
   "metadata": {},
   "outputs": [],
   "source": [
    "b = Bear(\"Yogi\")\n",
    "b.say_hello()\n",
    "a.say_hello()"
   ]
  },
  {
   "cell_type": "code",
   "execution_count": null,
   "metadata": {},
   "outputs": [],
   "source": [
    "c = Bear(\"Oski\")\n",
    "c.say_hello()\n",
    "a.say_hello()"
   ]
  },
  {
   "cell_type": "markdown",
   "metadata": {},
   "source": [
    "# Zookeeper Problems I\n",
    "\n",
    "Suppose you are a zookeeper. You have four bears in your care (Paddington, Oski, Winnie, and Yogi), and you need to take them to a shiny new habitat in a different part of the zoo. However, your bear truck can only support 300 Kg. Can you transfer the bears in just one trip?"
   ]
  },
  {
   "cell_type": "code",
   "execution_count": null,
   "metadata": {},
   "outputs": [],
   "source": [
    "class Bear:\n",
    "    def __init__(self, name, weight):\n",
    "        self.name = name\n",
    "        self.weight = weight\n",
    "        \n",
    "a = Bear('Paddington', 100)\n",
    "b = Bear('Oski', 60)\n",
    "c = Bear('Winnie', 80)\n",
    "d = Bear('Yogi', 50)"
   ]
  },
  {
   "cell_type": "code",
   "execution_count": null,
   "metadata": {},
   "outputs": [],
   "source": [
    "# Class instances in Python can be treated like any other data type:\n",
    "# they can be assigned to other variables, put in lists, iterated over, etc.\n",
    "my_bears = [a, b, c, d]"
   ]
  },
  {
   "cell_type": "code",
   "execution_count": null,
   "metadata": {},
   "outputs": [],
   "source": [
    "total_weight = 0\n",
    "for z in my_bears:\n",
    "    total_weight += z.weight\n",
    "print(total_weight < 300)"
   ]
  },
  {
   "cell_type": "code",
   "execution_count": null,
   "metadata": {},
   "outputs": [],
   "source": [
    "total_weight"
   ]
  },
  {
   "cell_type": "markdown",
   "metadata": {},
   "source": [
    "# Zookeeper Problems II: The animal chorus\n",
    "\n",
    "How can we use object-oriented programming to help us make 'generic' procedures?"
   ]
  },
  {
   "cell_type": "code",
   "execution_count": null,
   "metadata": {},
   "outputs": [],
   "source": [
    "class Bear:\n",
    "    def vocalize(self):\n",
    "        print('growl')\n",
    "        \n",
    "class Cat:\n",
    "    def vocalize(self):\n",
    "        print('meow')\n",
    "            \n",
    "class Duck:\n",
    "    def vocalize(self):\n",
    "        print('quack')\n",
    "        \n",
    "Paddington = Bear()\n",
    "Bill = Cat()\n",
    "Daffy = Duck()"
   ]
  },
  {
   "cell_type": "code",
   "execution_count": null,
   "metadata": {},
   "outputs": [],
   "source": [
    "def harmonize(chorus):\n",
    "    for member in chorus:\n",
    "        member.vocalize()\n",
    "        \n",
    "harmonize([Paddington, Bill, Daffy])"
   ]
  },
  {
   "cell_type": "markdown",
   "metadata": {},
   "source": [
    "The `harmonize()` function doesn't care at all what each type of singer is. Each singer simply must have a `vocalize()` method.\n",
    "\n"
   ]
  },
  {
   "cell_type": "markdown",
   "metadata": {},
   "source": [
    "# Classes have a bunch of special methods\n",
    "\n",
    "the mirror of `__init__is__del__(it is the tear down during clean up`"
   ]
  },
  {
   "cell_type": "code",
   "execution_count": null,
   "metadata": {},
   "outputs": [],
   "source": [
    "class Bear:\n",
    "    def __init__(self, name):\n",
    "        self.name = name\n",
    "        print('Made a bear called %s' %(name))\n",
    "    def __del__(self):\n",
    "        print('Bang! %s is no longer.' %(self.name))"
   ]
  },
  {
   "cell_type": "code",
   "execution_count": null,
   "metadata": {},
   "outputs": [],
   "source": [
    "y = Bear('Paddington')\n",
    "c = Bear('Yogi')"
   ]
  },
  {
   "cell_type": "code",
   "execution_count": null,
   "metadata": {},
   "outputs": [],
   "source": [
    "del y\n",
    "del c"
   ]
  },
  {
   "cell_type": "code",
   "execution_count": null,
   "metadata": {
    "scrolled": true
   },
   "outputs": [],
   "source": [
    "# note that I'm assigning y twice here\n",
    "y = Bear('Paddington')\n",
    "y = Bear('Yogi')"
   ]
  },
  {
   "cell_type": "code",
   "execution_count": null,
   "metadata": {},
   "outputs": [],
   "source": [
    "y = Bear('Paddington')\n",
    "x = y\n",
    "y = Bear('Yogi')"
   ]
  },
  {
   "cell_type": "markdown",
   "metadata": {},
   "source": [
    "neither `__init__` nor `__del__` is allowed to return anything in Python"
   ]
  },
  {
   "cell_type": "code",
   "execution_count": null,
   "metadata": {},
   "outputs": [],
   "source": [
    "%%file bear.py\n",
    "import datetime\n",
    "class Bear:\n",
    "    logfile_name = 'bear_log'\n",
    "    bear_num     = 0\n",
    "    bear_names   = []\n",
    "    def __init__(self, name):\n",
    "        self.name = name\n",
    "        print('Made a bear called %s' %(name))\n",
    "        self.logfile = open(Bear.logfile_name, 'a')\n",
    "        Bear.bear_num += 1\n",
    "        self.my_num = Bear.bear_num\n",
    "        self.logfile.write('[%s] created bear #%i named %s\\n' %\n",
    "                          (datetime.datetime.now(), Bear.bear_num, self.name))\n",
    "        self.logfile.flush()\n",
    "        \n",
    "    def growl(self, nbeep = 5):\n",
    "        print('\\a'*nbeep)\n",
    "        \n",
    "    def __del__(self):\n",
    "        print('Bang! %s is no longer' % self.name)\n",
    "        self.logfile.write('[%s] deleted bear #%i named %s\\n' % \\\n",
    "                          (datetime.datetime.now(), self.my_num, self.name))\n",
    "        self.logfile.flush()\n",
    "        #Decrease the number of bears in the population\n",
    "        Bear.bear_num -= 1\n",
    "        self.logfile.close()\n",
    "        \n",
    "    def __str__(self):\n",
    "        return 'Name = %s bear number = %i (population %i)' % \\\n",
    "                (self.name, self.my_num, Bear.bear_num)"
   ]
  },
  {
   "cell_type": "code",
   "execution_count": null,
   "metadata": {},
   "outputs": [],
   "source": [
    "!rm bear_log\n",
    "%run bear"
   ]
  },
  {
   "cell_type": "code",
   "execution_count": null,
   "metadata": {},
   "outputs": [],
   "source": [
    "a = Bear('Paddington')"
   ]
  },
  {
   "cell_type": "code",
   "execution_count": null,
   "metadata": {},
   "outputs": [],
   "source": [
    "b = Bear('Yogi')"
   ]
  },
  {
   "cell_type": "code",
   "execution_count": null,
   "metadata": {},
   "outputs": [],
   "source": [
    "a = b"
   ]
  },
  {
   "cell_type": "code",
   "execution_count": null,
   "metadata": {},
   "outputs": [],
   "source": [
    "b = Bear('Fuzzy')"
   ]
  },
  {
   "cell_type": "code",
   "execution_count": null,
   "metadata": {},
   "outputs": [],
   "source": [
    "Bear.bear_num"
   ]
  },
  {
   "cell_type": "code",
   "execution_count": null,
   "metadata": {},
   "outputs": [],
   "source": [
    "del a\n",
    "del b"
   ]
  },
  {
   "cell_type": "code",
   "execution_count": null,
   "metadata": {},
   "outputs": [],
   "source": [
    "Bear.bear_num"
   ]
  },
  {
   "cell_type": "code",
   "execution_count": null,
   "metadata": {},
   "outputs": [],
   "source": [
    "!cat bear_log"
   ]
  },
  {
   "cell_type": "markdown",
   "metadata": {},
   "source": [
    "# Classes have a bunch of special methods\n",
    "\n",
    "`__str__` is a method that defines how a class should represent itself as a string.\n",
    "\n",
    "It takes only self as an arg, must reture a string"
   ]
  },
  {
   "cell_type": "code",
   "execution_count": null,
   "metadata": {},
   "outputs": [],
   "source": [
    "run bear"
   ]
  },
  {
   "cell_type": "code",
   "execution_count": null,
   "metadata": {},
   "outputs": [],
   "source": [
    "b = Bear('Paddington')"
   ]
  },
  {
   "cell_type": "code",
   "execution_count": null,
   "metadata": {},
   "outputs": [],
   "source": [
    "print(b)"
   ]
  },
  {
   "cell_type": "code",
   "execution_count": null,
   "metadata": {},
   "outputs": [],
   "source": [
    "a = Bear('Yogi'); print(a)"
   ]
  },
  {
   "cell_type": "code",
   "execution_count": null,
   "metadata": {},
   "outputs": [],
   "source": [
    "c = Bear('Fuzzy')\n",
    "d = Bear('Oski')"
   ]
  },
  {
   "cell_type": "code",
   "execution_count": null,
   "metadata": {},
   "outputs": [],
   "source": [
    "print(c, d)"
   ]
  },
  {
   "cell_type": "code",
   "execution_count": null,
   "metadata": {},
   "outputs": [],
   "source": [
    "print(a)"
   ]
  },
  {
   "cell_type": "code",
   "execution_count": null,
   "metadata": {},
   "outputs": [],
   "source": [
    "%%file bear_2.py\n",
    "import datetime\n",
    "class Bear:\n",
    "    logfile_name = 'bear_log'\n",
    "    bear_num     = 0\n",
    "    bear_names   = []\n",
    "    def __init__(self, name):\n",
    "        self.name = name\n",
    "        print('Made a bear called %s' %(name))\n",
    "        self.logfile = open(Bear.logfile_name, 'a')\n",
    "        Bear.bear_num += 1\n",
    "        self.created = datetime.datetime.now()\n",
    "        self.my_num = Bear.bear_num\n",
    "        self.logfile.write('[%s] created bear #%i named %s\\n' %\n",
    "                          (datetime.datetime.now(), Bear.bear_num, self.name))\n",
    "        self.logfile.flush()\n",
    "        \n",
    "    def growl(self, nbeep = 5):\n",
    "        print('\\a'*nbeep)\n",
    "        \n",
    "    def __del__(self):\n",
    "        print('Bang! %s is no longer' % self.name)\n",
    "        self.logfile.write('[%s] deleted bear #%i named %s\\n' % \\\n",
    "                          (datetime.datetime.now(), self.my_num, self.name))\n",
    "        self.logfile.flush()\n",
    "        #Decrease the number of bears in the population\n",
    "        Bear.bear_num -= 1\n",
    "        self.logfile.close()\n",
    "        \n",
    "    def __str__(self):\n",
    "        age = datetime.datetime.now() - self.created\n",
    "        return 'Name = %s bear (age %i) number = %i (population %i)' % \\\n",
    "                (self.name, age, self.my_num, Bear.bear_num)"
   ]
  },
  {
   "cell_type": "code",
   "execution_count": null,
   "metadata": {},
   "outputs": [],
   "source": [
    "# Add some dynamic aging to the bears\n",
    "\n",
    "from bear_2 import Bear as Bear_2"
   ]
  },
  {
   "cell_type": "code",
   "execution_count": null,
   "metadata": {},
   "outputs": [],
   "source": [
    "a = Bear_2('Paddington'); print(a)"
   ]
  },
  {
   "cell_type": "code",
   "execution_count": null,
   "metadata": {},
   "outputs": [],
   "source": [
    "b = Bear_2('Fuzzy')"
   ]
  },
  {
   "cell_type": "code",
   "execution_count": null,
   "metadata": {},
   "outputs": [],
   "source": [
    "print(b)"
   ]
  },
  {
   "cell_type": "markdown",
   "metadata": {},
   "source": [
    "![Image](subclass.png)"
   ]
  },
  {
   "cell_type": "code",
   "execution_count": null,
   "metadata": {},
   "outputs": [],
   "source": [
    "x = 42\n",
    "x + 10"
   ]
  },
  {
   "cell_type": "code",
   "execution_count": null,
   "metadata": {},
   "outputs": [],
   "source": [
    "x * 10"
   ]
  },
  {
   "cell_type": "code",
   "execution_count": null,
   "metadata": {},
   "outputs": [],
   "source": [
    "x.__add__(10)"
   ]
  },
  {
   "cell_type": "code",
   "execution_count": null,
   "metadata": {},
   "outputs": [],
   "source": [
    "x.__mul__(10)"
   ]
  },
  {
   "cell_type": "code",
   "execution_count": null,
   "metadata": {},
   "outputs": [],
   "source": [
    "names = ['IBM', 'YAHOO', 'MSFT', 'AMZN']\n",
    "names[0]"
   ]
  },
  {
   "cell_type": "code",
   "execution_count": null,
   "metadata": {},
   "outputs": [],
   "source": [
    "names.__getitem__(0)"
   ]
  },
  {
   "cell_type": "code",
   "execution_count": null,
   "metadata": {},
   "outputs": [],
   "source": [
    "names[1] = 'FB'"
   ]
  },
  {
   "cell_type": "code",
   "execution_count": null,
   "metadata": {},
   "outputs": [],
   "source": [
    "names.__setitem__(1, 'FB')\n",
    "names"
   ]
  },
  {
   "cell_type": "code",
   "execution_count": null,
   "metadata": {},
   "outputs": [],
   "source": [
    "class Point(object):\n",
    "    def __init__(self, x, y):\n",
    "        self.x = x\n",
    "        self.y = y\n",
    "        \n",
    "    def __add__(self, other):\n",
    "        print('Add', other)\n",
    "        \n",
    "    def __mul__(self, other):\n",
    "        print('Mul', other)"
   ]
  },
  {
   "cell_type": "code",
   "execution_count": null,
   "metadata": {},
   "outputs": [],
   "source": [
    "p = Point(2, 3)"
   ]
  },
  {
   "cell_type": "code",
   "execution_count": null,
   "metadata": {},
   "outputs": [],
   "source": [
    "p + 10"
   ]
  },
  {
   "cell_type": "code",
   "execution_count": null,
   "metadata": {},
   "outputs": [],
   "source": [
    "p * 2"
   ]
  },
  {
   "cell_type": "code",
   "execution_count": null,
   "metadata": {},
   "outputs": [],
   "source": [
    "p + [1, 2]"
   ]
  },
  {
   "cell_type": "code",
   "execution_count": null,
   "metadata": {
    "scrolled": true
   },
   "outputs": [],
   "source": [
    "p * 'hello'"
   ]
  },
  {
   "cell_type": "markdown",
   "metadata": {},
   "source": [
    "![Image](inheritance.png)"
   ]
  },
  {
   "cell_type": "code",
   "execution_count": null,
   "metadata": {},
   "outputs": [],
   "source": [
    "class Plant:\n",
    "    '''\n",
    "    Class to show subclasses and inheritance\n",
    "    \n",
    "    '''\n",
    "    \n",
    "    num_known = 0\n",
    "    def __init__(self, common_name, latin_name = None):\n",
    "        self.common_name = common_name\n",
    "        self.latin_name = latin_name\n",
    "        Plant.num_known += 1\n",
    "\n",
    "class Flower(Plant):\n",
    "    has_pedals = True\n",
    "        "
   ]
  },
  {
   "cell_type": "code",
   "execution_count": null,
   "metadata": {},
   "outputs": [],
   "source": [
    "a = Plant('Poison Ivy')"
   ]
  },
  {
   "cell_type": "code",
   "execution_count": null,
   "metadata": {},
   "outputs": [],
   "source": [
    "b = Flower('Poppy')"
   ]
  },
  {
   "cell_type": "code",
   "execution_count": null,
   "metadata": {},
   "outputs": [],
   "source": [
    "b.has_pedals"
   ]
  },
  {
   "cell_type": "code",
   "execution_count": null,
   "metadata": {},
   "outputs": [],
   "source": [
    "Plant.num_known"
   ]
  },
  {
   "cell_type": "code",
   "execution_count": null,
   "metadata": {},
   "outputs": [],
   "source": [
    "Flower.__bases__[0].__name__"
   ]
  },
  {
   "cell_type": "markdown",
   "metadata": {},
   "source": [
    "Instantiation of a Flower class reuses the `__init__` from the Plant class. It is also set as `has_pedals = True`"
   ]
  },
  {
   "cell_type": "code",
   "execution_count": null,
   "metadata": {},
   "outputs": [],
   "source": [
    "class Plant:\n",
    "    '''\n",
    "    Class to show subclasses and inheritance\n",
    "    \n",
    "    '''\n",
    "    \n",
    "    num_known = 0\n",
    "    def __init__(self, common_name, latin_name = None):\n",
    "        self.common_name = common_name\n",
    "        self.latin_name = latin_name\n",
    "        Plant.num_known += 1\n",
    "        \n",
    "    def __str__(self):\n",
    "        return ' I am a Plant %s!' % (self.common_name)\n",
    "\n",
    "class Flower(Plant):\n",
    "    has_pedals = True\n",
    "    def __str__(self):\n",
    "        return ' I am a Flower %s!' %(self.common_name)\n",
    "        "
   ]
  },
  {
   "cell_type": "code",
   "execution_count": null,
   "metadata": {},
   "outputs": [],
   "source": [
    "p = Plant('Oak')\n",
    "print(p)"
   ]
  },
  {
   "cell_type": "code",
   "execution_count": null,
   "metadata": {},
   "outputs": [],
   "source": [
    "f = Flower('Rose')\n",
    "print(f)"
   ]
  },
  {
   "cell_type": "code",
   "execution_count": null,
   "metadata": {},
   "outputs": [],
   "source": [
    "class Plant:\n",
    "    '''\n",
    "    Class to show subclasses and inheritance\n",
    "    \n",
    "    '''\n",
    "    \n",
    "    num_known = 0\n",
    "    def __init__(self, common_name, npedals = 5, pedal_colour = 'red', latin_name = None):\n",
    "        self.common_name = common_name\n",
    "        self.npedals = npedals\n",
    "        self.pedal_colour = pedal_colour\n",
    "        self.latin_name = latin_name\n",
    "        Plant.num_known += 1\n",
    "        \n",
    "    def __str__(self):\n",
    "        return ' I am a Plant %s!' % (self.common_name)\n",
    "\n",
    "class Flower(Plant):\n",
    "    has_pedals = True\n",
    "    def __str__(self):\n",
    "        return ' I am a Flower %s!' %(self.common_name)\n",
    "        "
   ]
  },
  {
   "cell_type": "code",
   "execution_count": null,
   "metadata": {},
   "outputs": [],
   "source": [
    "f = Flower('Rose')\n",
    "print(f)"
   ]
  },
  {
   "cell_type": "code",
   "execution_count": null,
   "metadata": {},
   "outputs": [],
   "source": [
    "f.has_pedals"
   ]
  },
  {
   "cell_type": "code",
   "execution_count": null,
   "metadata": {},
   "outputs": [],
   "source": [
    "f.npedals"
   ]
  },
  {
   "cell_type": "code",
   "execution_count": null,
   "metadata": {},
   "outputs": [],
   "source": [
    "f.pedal_colour"
   ]
  },
  {
   "cell_type": "markdown",
   "metadata": {},
   "source": [
    "![](multiple_inheritance.png)"
   ]
  },
  {
   "cell_type": "code",
   "execution_count": null,
   "metadata": {},
   "outputs": [],
   "source": []
  }
 ],
 "metadata": {
  "kernelspec": {
   "display_name": "Python 3",
   "language": "python",
   "name": "python3"
  },
  "language_info": {
   "codemirror_mode": {
    "name": "ipython",
    "version": 3
   },
   "file_extension": ".py",
   "mimetype": "text/x-python",
   "name": "python",
   "nbconvert_exporter": "python",
   "pygments_lexer": "ipython3",
   "version": "3.7.1"
  }
 },
 "nbformat": 4,
 "nbformat_minor": 2
}
