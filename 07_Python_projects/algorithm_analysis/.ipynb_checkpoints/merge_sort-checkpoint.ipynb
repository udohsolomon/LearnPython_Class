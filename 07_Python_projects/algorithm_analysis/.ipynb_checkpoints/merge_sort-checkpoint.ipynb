{
 "cells": [
  {
   "cell_type": "code",
   "execution_count": null,
   "metadata": {},
   "outputs": [],
   "source": [
    "'''\n",
    "Python implementation of merge sort algorithm.\n",
    "Worst Case Scenario : O(n)\n",
    "\n",
    "'''\n",
    "\n",
    "#this modules are required for testing only\n",
    "import random\n",
    "import copy\n",
    "import matplotlib.pyplot as plt \n",
    "\n",
    "#actual implementation starts here\n",
    "def merge_sort(LIST):\n",
    "    '''\n",
    "    Returns sorted list.\n",
    "    '''\n",
    "\n",
    "    #divide list into two parts\n",
    "    start = []\n",
    "    end   = []\n",
    "    a = min(LIST)\n",
    "    b = max(LIST)\n",
    "\n",
    "    while len(LIST) > 1:\n",
    "        start.append(a)\n",
    "        end.append(b)\n",
    "        try:\n",
    "            LIST.remove(a)\n",
    "            LIST.remove(b)\n",
    "            a = min(LIST)\n",
    "            b = max(LIST)\n",
    "        except ValueError:\n",
    "            continue\n",
    "    end.reverse()\n",
    "    return start + end\n",
    "\n",
    "def visualization(LIST, SORTED_LIST):\n",
    "    '''\n",
    "    To visualise both unsorted and sorted data.\n",
    "    '''\n",
    "    plt.plot(LIST)   \n",
    "    plt.xlabel('Random Data')\n",
    "    plt.show()\n",
    "    plt.plot(SORTED_LIST)\n",
    "    plt.xlabel('Merge Sorted Data')\n",
    "    plt.show()\n",
    "\n",
    "if __name__ == \"__main__\":\n",
    "    #Test\n",
    "    LIST = [0, 8, 5, 2, 9, 4, 7, 3, 6, 1]\n",
    "    print('Unordered list {}'.format(LIST))\n",
    "    print('Merge sorted list {}'.format(merge_sort(LIST)))\n",
    "    '''\n",
    "    generate a list of random length between 100 and 1000\n",
    "    and add ramdom number to it\n",
    "    '''\n",
    "    LIST = [random.randint(0, 100000) for i in range(random.randint(10, 100000))]\n",
    "    unsortedLIST = copy.deepcopy(LIST)\n",
    "    visualization(unsortedLIST, merge_sort(unsortedLIST))\n"
   ]
  },
  {
   "cell_type": "code",
   "execution_count": null,
   "metadata": {},
   "outputs": [],
   "source": []
  }
 ],
 "metadata": {
  "kernelspec": {
   "display_name": "Python 3",
   "language": "python",
   "name": "python3"
  },
  "language_info": {
   "codemirror_mode": {
    "name": "ipython",
    "version": 3
   },
   "file_extension": ".py",
   "mimetype": "text/x-python",
   "name": "python",
   "nbconvert_exporter": "python",
   "pygments_lexer": "ipython3",
   "version": "3.7.1"
  }
 },
 "nbformat": 4,
 "nbformat_minor": 2
}
