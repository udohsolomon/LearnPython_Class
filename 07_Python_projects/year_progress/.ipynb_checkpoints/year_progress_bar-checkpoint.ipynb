{
 "cells": [
  {
   "cell_type": "markdown",
   "metadata": {},
   "source": [
    "# Twitter Year Progress Bar Bot"
   ]
  },
  {
   "cell_type": "markdown",
   "metadata": {},
   "source": [
    "This program will calculate the percentage we are in the year and tweet it.\n"
   ]
  },
  {
   "cell_type": "code",
   "execution_count": null,
   "metadata": {
    "scrolled": false
   },
   "outputs": [],
   "source": [
    "#import packages\n",
    "from datetime import datetime, date\n",
    "import tweepy\n",
    "import emoji\n",
    "\n",
    "#Set progress bar size\n",
    "PROGRESS_BAR_SIZE = 15\n",
    "\n",
    "#Your Twitter API credentials\n",
    "CONSUMER_KEY = '<consumer key>'\n",
    "CONSUMER_SECRET = '<consumer secret>'\n",
    "ACCESS_TOKEN = '<access token>'\n",
    "ACCESS_TOKEN_SECRET = '<access token secret>'\n",
    "\n",
    "\n",
    "def progress_bar(percentage: int, size: int):\n",
    "    \"\"\"\n",
    "        Build and returns a progress bar.\n",
    "    \"\"\"\n",
    "    progress = \"\"\n",
    "    for i in range(size):\n",
    "        if percentage * size / 100 >= i:\n",
    "            progress += \"░\"\n",
    "        else:\n",
    "            progress += \"░\"\n",
    "    progress += \" \"\n",
    "    return progress\n",
    "\n",
    "\n",
    "def percentage_year():\n",
    "    \"\"\"\n",
    "        Calculate and returns the current year percentage.\n",
    "    \"\"\"\n",
    "    current_year = datetime.now().year\n",
    "    start = date(current_year, 1, 1).toordinal()\n",
    "    next_year = date(current_year + 1, 1, 1).toordinal()\n",
    "    days_in_current_year = next_year - start\n",
    "    now = date.today().toordinal()\n",
    "    current_day_in_year = now - start\n",
    "    return (current_day_in_year * 100) / days_in_current_year\n",
    "\n",
    "def tweet_it(text: str):\n",
    "    \"\"\"\n",
    "        Tweet a given text.\n",
    "    \"\"\"\n",
    "    auth = tweepy.OAuthHandler(CONSUMER_KEY, CONSUMER_SECRET)\n",
    "    auth.set_access_token(ACCESS_TOKEN, ACCESS_TOKEN_SECRET)\n",
    "    api = tweepy.API(auth)\n",
    "    api.update_status(text)\n",
    "\n",
    "def launch():\n",
    "    \"\"\"\n",
    "        Starts the program. The beginning.\n",
    "    \"\"\"\n",
    "    #text_to_tweet = \"Hello Twitter ! :hatching_chick: \\n\" \n",
    "    \n",
    "    #text_to_tweet += \"We are at the  \" + datetime.today().strftime('%d-%m-%Y') + \" ! \\n\"\n",
    "    \n",
    "    text_to_tweet = \"Year progress \\n \\n\" + progress_bar(\n",
    "        int(percentage_year()), PROGRESS_BAR_SIZE) + str(\n",
    "            int(percentage_year())) + \"% ! :fire: \\n \\n\"\n",
    "    \n",
    "    text_to_tweet += \"Do have a good day !\"\n",
    "    \n",
    "    tweet_it(emoji.emojize(text_to_tweet))\n",
    "\n",
    "\n",
    "if __name__ == \"__main__\":\n",
    "    launch()"
   ]
  }
 ],
 "metadata": {
  "kernelspec": {
   "display_name": "Python 3",
   "language": "python",
   "name": "python3"
  },
  "language_info": {
   "codemirror_mode": {
    "name": "ipython",
    "version": 3
   },
   "file_extension": ".py",
   "mimetype": "text/x-python",
   "name": "python",
   "nbconvert_exporter": "python",
   "pygments_lexer": "ipython3",
   "version": "3.6.5"
  }
 },
 "nbformat": 4,
 "nbformat_minor": 2
}
