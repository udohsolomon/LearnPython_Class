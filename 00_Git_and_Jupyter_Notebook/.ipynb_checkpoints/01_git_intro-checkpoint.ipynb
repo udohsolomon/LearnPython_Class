{
 "cells": [
  {
   "cell_type": "markdown",
   "metadata": {},
   "source": [
    "# Git: Getting started\n",
    "\n",
    "   - Management of changes to programs, documents,  and other computer files\n",
    "   - Backup, restore, synchronize, track changes, track ownership, branch, and merge\n",
    "   - Test changes to code without losing the original\n",
    "   - Allow multiple developers to collaborate on a single codebase\n",
    "   - Revert back to old versions of code\n",
    "   - Maintain sanity\n",
    "   \n",
    "# Github\n",
    "\n",
    "A site which purpose is to store git repositories on the internet.\n",
    "\n",
    "Some resources:\n",
    "\n",
    "   - Git: Obtain the primary software (mac, linux, windows): http://git-scm.com/\n",
    "   - Git Magic: a great online book introducing the software http://www-cs-students.stanford.edu/~blynn/gitmagic/\n",
    "   - A list of graphical front-end clients for Git: https://git.wiki.kernel.org/index.php/Interfaces,_frontends,_and_tools#Graphical_Interfaces\n",
    "   - Github: Online hosting service for Git repositories. https://github.com/"
   ]
  },
  {
   "cell_type": "markdown",
   "metadata": {},
   "source": [
    "Very easy to start version control of your files:\n",
    "\n",
    " * Initialize repository\n",
    " * Add files\n",
    " * Commit changes to repository\n",
    " \n",
    "Follow along:"
   ]
  },
  {
   "cell_type": "markdown",
   "metadata": {},
   "source": [
    "```\n",
    "sudoh> mkdir LearnPythonClass ; cd LearnPythonClass ; ls -la\n",
    "total 0\n",
    "drwxr-xr-x   2 sudoh  wheel    68 Jan 07 22:16 .\n",
    "drwxrwxrwt  41 root    wheel  1394 Jan 07 22:16 ..\n",
    "```"
   ]
  },
  {
   "cell_type": "markdown",
   "metadata": {},
   "source": [
    "initialize this as a directory that git will follow\n",
    "\n",
    "```\n",
    "sudoh> git init\n",
    "Initialized empty Git repository in /private/tmp/LearnPythonClass/.git/\n",
    "sudoh> ls -la\n",
    "total 0\n",
    "drwxr-xr-x   3 sudoh  wheel   102 Jan 07 22:16 .\n",
    "drwxrwxrwt  41 root    wheel  1394 Jan 07 22:16 ..\n",
    "drwxr-xr-x  10 sudoh  wheel   340 Jan 07 22:16 .git\n",
    "```"
   ]
  },
  {
   "cell_type": "markdown",
   "metadata": {},
   "source": [
    "Make a file, add it so git knows about it, the commit it.\n",
    "\n",
    "```bash\n",
    "sudoh> echo \"this is my first file in this repo\" > README\n",
    "sudoh> ls\n",
    "README\n",
    "sudoh> git add README\n",
    "sudoh> git commit -m \"This is my initial commit\"\n",
    "[master (root-commit) ebc83b9] This is my initial commit\n",
    " 1 file changed, 1 insertion(+)\n",
    " create mode 100644 README\n",
    "```"
   ]
  },
  {
   "cell_type": "markdown",
   "metadata": {},
   "source": [
    "# Git: Basic Workflow\n",
    "\n",
    "* modify code/document\n",
    "\n",
    "* commit changes\n",
    "\n",
    "* repeat"
   ]
  },
  {
   "cell_type": "markdown",
   "metadata": {},
   "source": [
    "# Clone\n",
    "\n",
    "```bash\n",
    "# Download a remote version of a repository into a local machine\n",
    "$ git clone https://github.com/udohsolomon/LearnPython_Class.git\n",
    "Cloning into 'LearnPython_Class'...\n",
    "remote: Enumerating objects: 85, done.\n",
    "remote: Total 85 (delta 0), reused 0 (delta 0), pack-reused 85\n",
    "Unpacking objects: 100% (85/85), done.\n",
    "Checking connectivity... done.\n",
    "\n",
    "```"
   ]
  },
  {
   "cell_type": "markdown",
   "metadata": {},
   "source": [
    "# Add\n",
    "\n",
    "```bash\n",
    "# make a new python file blah.py\n",
    "$ git add blah.py \n",
    "$ git commit -m \"created blah to show off that I know git\"\n",
    "[master (root-commit) 2c7aded] Added a readme file as a test\n",
    " 1 files changed, 1 insertions(+), 0 deletions(-)\n",
    " create mode 100644 README\n",
    "\n",
    "# {-- add this directory, its contents, and every subdirectory --}\n",
    "$ git add .\n",
    "```"
   ]
  },
  {
   "cell_type": "markdown",
   "metadata": {},
   "source": [
    "# Delete\n",
    "\n",
    "```bash\n",
    "# {-- to just stop tracking changes --}\n",
    "$ git rm --cached uselessfile.txt\n",
    "$ git rm --cached -r abunchof/oldfiles/\n",
    "\n",
    "# {-- to delete the file altogether, same as normal os-level remove --}\n",
    "$ git rm uselessfile.txt\n",
    "```\n",
    "see http://stackoverflow.com/questions/4124792/remove-an-existing-file-from-a-git-repo"
   ]
  },
  {
   "cell_type": "markdown",
   "metadata": {},
   "source": [
    "# Rename (same as delete + add)\n",
    "\n",
    "```bash\n",
    "git mv oldname.txt newname.txt\n",
    "```"
   ]
  },
  {
   "cell_type": "markdown",
   "metadata": {},
   "source": [
    "## Git Status and Diff\n",
    "\n",
    "```bash\n",
    "$ git status\n",
    "# On branch master\n",
    "# Changed but not updated: \n",
    "#  (use \"git add <file>...\" to update what will be committed) \n",
    "#  (use \"git checkout ­­ <file>...\" to discard changes in working directory)\n",
    "#\n",
    "#     modified: mystuff.py\n",
    "#\n",
    "no changes added to commit (use \"git add\" and/or \"git commit ­a\") \n",
    "```"
   ]
  },
  {
   "cell_type": "markdown",
   "metadata": {},
   "source": [
    "** Try this: **\n",
    " \n",
    " - make a new file\n",
    " - edit it\n",
    " - add it to git and then commit\n",
    " - edit the file\n",
    " - type `git diff`\n",
    " - commit your changes\n",
    " - `git log`"
   ]
  },
  {
   "cell_type": "markdown",
   "metadata": {},
   "source": [
    "# Commit, Push and Pull"
   ]
  },
  {
   "cell_type": "markdown",
   "metadata": {},
   "source": [
    "## Git GUI Tools ##\n",
    "\n",
    "Unless you really like working from the command line, tools like `gitk` (a history visualizer) and `git gui` (a GUI interface to git’s functionality) are incredibly helpful. (Automatically included on OSX, may need to find ‘git-gui’ package on Linux)\n",
    "```bash\n",
    "# {-- from inside of working directory --}\n",
    "$ gitk \n",
    "# {-- to view all branches --}\n",
    "$ gitk --all\n",
    "\n",
    "# {-- and --}\n",
    "$ git gui &\n",
    "```\n",
    "Those two are pretty standard, but there are many other options as well:\n",
    "\n",
    "https://git.wiki.kernel.org/index.php/Interfaces,_frontends,_and_tools#Graphical_Interfaces"
   ]
  },
  {
   "cell_type": "markdown",
   "metadata": {},
   "source": [
    "# Undoing changes\n",
    "\n",
    "First few characters of hash enough to specify the commit\n",
    "\n",
    "* `git reset --hard`: (e.g. `git reset --hard 766f`) load an old commit and delete all commits newer than the one just loaded.  This ‘changes history.’\n",
    "\n",
    "* `git checkout`: (e.g. `git checkout 82f5`) load an old commit, but new edits will be applied to this new branch and your other edits will still be accessible.  This moves around through history.\n",
    "\n",
    "* `git revert`:  Add a commit that undoes earlier commits, should be run from a clean working directory.  Follow this with a “git checkout .” (including the dot) to make your working directory match the git version.  This does not change history, it instead adds an undo.\n",
    "\n",
    "* Can refer to commits other ways; e.g. by start of commit message (git checkout :/”Replace printf()”) or by, e.g., the 3rd last saved state (git checkout master~3)\n"
   ]
  },
  {
   "cell_type": "markdown",
   "metadata": {},
   "source": [
    "## Branching & Merging ##\n",
    "\n",
    "`branch`: faster and more space efficient than cloning for situations when we need to switch gears and modify multiple versions of the code simultaneously \n",
    "```bash\n",
    " $ git status \n",
    "# On branch master \n",
    "[...]\n",
    "\n",
    "$ git branch work-newalgo\n",
    "$ git checkout work-newalgo \n",
    "Switched to branch 'work-newalgo'\n",
    "\n",
    "$ git checkout -b work-betterdocs \n",
    "Switched to a new branch 'work-betterdocs' \n",
    "$ git branch \n",
    "  master\n",
    "* work-betterdocs\n",
    "  work-newalgo\n",
    "```"
   ]
  },
  {
   "cell_type": "markdown",
   "metadata": {},
   "source": [
    "# Merging\n",
    "\n",
    "`merge`: to combine branches back together (see `git mergetool`)\n",
    "\n",
    "[ make a bunch of commits on work branch ]\n",
    "\n",
    "```bash\n",
    "$ git checkout master \n",
    "Switch to branch 'master' \n",
    "$ git merge work-betterdocs \n",
    "Updating 213a816..a9fae1e \n",
    "Fast-forward\n",
    " README\t|\t100 +++++++++ \n",
    " LICENSE |\t5+ \n",
    " INSTALL | 120/30 ++++++++++++­­­­ \n",
    " 3 files changed, 225 insertions(+), 30 deletions(­)\n",
    " create mode 100644 LICENSE \n",
    " create mode 100644 README\n",
    "$ git branch -d work-betterdocs \n",
    "Deleted branch work-betterdocs (was a9fae1e).\n",
    "```"
   ]
  },
  {
   "cell_type": "markdown",
   "metadata": {},
   "source": [
    "# Hosting Projects on Github ##\n",
    "\n",
    "<center>\n",
    "<img src=\"http://octodex.github.com/images/baracktocat.jpg\" width=30%></img>\n",
    "</center>"
   ]
  },
  {
   "cell_type": "markdown",
   "metadata": {},
   "source": [
    "From now on, for this class, we’ll use GitHub as a standard, so let’s go through a complete example\n",
    "\n",
    "- log into GitHub, create a new repository (w/o a readme yet)\n",
    "\n",
    "- go to https://github.com/edu for a free student account\n",
    "\n",
    "- on the command line, create some files, and push to this new repository:\n",
    "\n",
    "```bash\n",
    "nano README\n",
    "git init\n",
    "git add README\n",
    "git commit -m \"first commit\"\n",
    "git remote add originhttps://github.com/[user_name]/[repo_name].git\n",
    "git push origin master\n",
    "```"
   ]
  },
  {
   "cell_type": "markdown",
   "metadata": {},
   "source": [
    "# Updating code \n",
    "\n",
    "* After the bare repository is hosted on another server, clone a copy to your local disk\n",
    "* Pull any changes from other users\n",
    "* Push any new changes you make to the new server\n",
    "\n",
    "```bash\n",
    "git clone https://github.com/sudoh/projects/LearnPythonClass/test_this.git \n",
    "Cloning into test_this...\n",
    "# Make some changes....\n",
    "git commit -m \"Long and descriptive commit message\"\n",
    "# Pull to update to latest version of the code\n",
    "git pull origin master\n",
    "# Resolve any merge conflicts and then commit them, if necessary\n",
    "# Push to check-in local changes to the hosted repository:\n",
    "git push origin master\n",
    "```"
   ]
  },
  {
   "cell_type": "markdown",
   "metadata": {},
   "source": [
    "# Git collaboration workflow\n",
    "\n",
    "* Pull latest version from central repo\n",
    "* Modify code/document\n",
    "* Commit changes (early and often!)\n",
    "* Pull (again, and resolve any merge conflicts)\n",
    "* Push your changes to the central repo\n",
    "* Repeat\n",
    "\n",
    " Generally, git will happily deal with multiple workers on the same file and merge the changes automatically when you pull from the central repository. But when the same line is edited by multiple people, human intervention is generally needed to resolve\n",
    " \n",
    " try **`git mergetool`** if things go awry\n"
   ]
  },
  {
   "cell_type": "markdown",
   "metadata": {},
   "source": [
    "Git can keep track of changes made to code, synchronize code between different people, test changes to code without losing the original, and revert back to old versions of code.\n",
    "GitHub is a website that stores Git repositories on the internet to facilitate the collaboration that Git allows for. A repository is simply a place to keep track of code and all the changes to code.\n",
    "\n",
    "Git commands:\n",
    "\n",
    "```\n",
    "  git clone <url> : take a repository stored on a server (like GitHub) and downloads it\n",
    "  git add <filename(s)> : add files to the staging area to be included in the next commit\n",
    "  git commit -m \"message\" : take a snapshot of the repository and save it with a message about the changes\n",
    "  git commit -am <filename(s)> \"message\" : add files and commit changes all in one\n",
    "  git status : print what is currently going on with the repository\n",
    "  git push : push any local changes (commits) to a remote server\n",
    "  git pull : pull any remote changes from a remote server to a local computer\n",
    "  git log : print a history of all the commits that have been made\n",
    "  git reflog : print a list of all the different references to commits\n",
    "  git reset --hard <commit> : reset the repository to a given commit\n",
    "  git reset --hard origin/master : reset the repository to its original state (e.g. the version cloned from GitHub)\n",
    "```\n",
    "    \n",
    "When combining different versions of code, e.g. using git pull, a merge conflict can occur if the different versions have different data in the same location. Git will try to take care of merging automatically, but if two users edit, for example, the same line, a merge conflict will have to be manually resolved.\n",
    "To resolve a merge conflict, simply locally remove all lines and code that are not wanted and push the results."
   ]
  },
  {
   "cell_type": "markdown",
   "metadata": {},
   "source": [
    "# Debugging Code #\n",
    "\n",
    " * Standard technique of inserting “print” statements may be inconvenient if code takes a long time to run\n",
    " * The module `pdb` is an interactive source  debugger\n",
    " * Variables are preserved at breakpoint, and can interactively step through lines of code\n",
    " \n",
    " http://docs.python.org/library/pdb.html\n",
    " \n",
    "Use `pdb.set_trace()` to explore and interact with problematic code:\n",
    "```python\n",
    "#[ in some problematic python file ]\n",
    "import pdb\n",
    "#[ code code code ]\n",
    "pdb.set_trace()   # hard-code a breakpoint at a given point in a program\n",
    "#[ problematic code ]\n",
    "```\n",
    "using from the command line:\n",
    "```bash\n",
    "python -m pdb myscript.py\n",
    "```\n",
    "pdb will automatically enter post-mortem debugging if the program being debugged exits abnormally. "
   ]
  },
  {
   "cell_type": "markdown",
   "metadata": {},
   "source": [
    " Can debug within iPython by typing debug after exception is raised\n",
    "‘help’ shows the commands available, for both pdb and iPython’s ipdb"
   ]
  },
  {
   "cell_type": "markdown",
   "metadata": {},
   "source": [
    "# Good coding style\n",
    "\n",
    " - There is an official Python style guide, called PEP8:\n",
    "    http://www.python.org/dev/peps/pep-0008/\n",
    " \n",
    " - Guido sez: ‘code is read much more often than it is written’\n",
    "     - especially true for scientific code\n",
    "     \n",
    " - Python enables you to write readable code, so do it!  The world will seem a happier place.\n",
    " \n",
    " - `pylint`, `pep8`, and similar tools tell you whether code is self-consistent, if sections are duplicated, and where/how you break the style rules\n",
    " \n",
    " - get them with pip, run them like: `pep8 my_code.py`\n",
    " "
   ]
  },
  {
   "cell_type": "markdown",
   "metadata": {},
   "source": [
    "# Testing - nosetest ##\n",
    "\n",
    "* nosetest is a program that runs any pre-defined tests you have written, and reports back the results\n",
    "* within your code, add test functions that act as self-checks\n",
    "* naming convention: test*\n",
    "* lay out everything you want your code to do beforehand, as a self check\n",
    "    * test-driven development"
   ]
  },
  {
   "cell_type": "markdown",
   "metadata": {},
   "source": [
    "write test functions that use the `assert` command - it raises an AssertionError if it does not evaluate to true\n",
    "\n",
    "```python\n",
    "#[ within my code ]\n",
    "def square_me(x):\n",
    "    return x**2\n",
    "\n",
    "def test_1():\n",
    "    # test the simple square_me function\n",
    "    assert square_me(2.) == 4.\n",
    "\n",
    "def test_2():\n",
    "    # testing without an absolute equality\n",
    "    assert abs(square_me(2.34) - 5.4756) < .001\n",
    "```"
   ]
  },
  {
   "cell_type": "markdown",
   "metadata": {},
   "source": [
    "# Distributions - distutils2 #\n",
    "\n",
    "* distutils2: the standard way to take your directories of code and bundle them up for easy installation and use by others\n",
    "* You create a setup.py file which allows others to install your code in the standard fashion.\n",
    "* There are myriad options for the metadata you can define, an incredibly simple example is below:\n",
    "```python\n",
    "from distutils2.core import setup\n",
    "setup(name='My_Package',\n",
    "      version='0.01',\n",
    "       license='License_to_not_kill',\n",
    "      py_modules=['my_package_name'],\n",
    "      )\n",
    "```\n",
    "\n",
    "http://pythonhosted.org/Distutils2/distutils/introduction.html\n",
    "\n",
    "http://pypi.python.org/pypi/Distutils2"
   ]
  },
  {
   "cell_type": "markdown",
   "metadata": {},
   "source": [
    "Standard hierarchy includes several ancillary files, as well as the package and modules.\n",
    "```bash\n",
    "My_Package_folder/\n",
    "  README.txt\n",
    "  LICENSE.txt\n",
    "  setup.py  \n",
    "  my_package_name/\n",
    "    __init__.py\n",
    "    my_module.py\n",
    "    my_other_module.py\n",
    "```\n",
    "Running the setup.py will install your package (and modules) into the Python path"
   ]
  },
  {
   "cell_type": "markdown",
   "metadata": {},
   "source": [
    "If you’ve written your own package, use distutils2 to create a standard, share-able zipped file\n",
    "```bash\n",
    "cd My_Package_folder\n",
    "python setup.py sdist\n",
    "\n",
    "[... created my_package_name-0.1.tar.gz ...]\n",
    "```\n",
    "http://guide.python-distribute.org/"
   ]
  },
  {
   "cell_type": "markdown",
   "metadata": {},
   "source": [
    "<center>In the end, all of these things are designed to be HELPFUL, not an additional burden, so learn about them and choose what works for you (and your coworkers/collaborators) and what does not.</center>\n",
    "\n",
    "<p>\n",
    "<center>For a great and much deeper guide on how to be an effective code-builder, see: ",
    "http://software-carpentry.org/</center>"
   ]
  },
  {
   "cell_type": "code",
   "execution_count": null,
   "metadata": {},
   "outputs": [],
   "source": []
  }
 ],
 "metadata": {
  "kernelspec": {
   "display_name": "Python 3",
   "language": "python",
   "name": "python3"
  },
  "language_info": {
   "codemirror_mode": {
    "name": "ipython",
    "version": 3
   },
   "file_extension": ".py",
   "mimetype": "text/x-python",
   "name": "python",
   "nbconvert_exporter": "python",
   "pygments_lexer": "ipython3",
   "version": "3.6.5"
  }
 },
 "nbformat": 4,
 "nbformat_minor": 1
}
